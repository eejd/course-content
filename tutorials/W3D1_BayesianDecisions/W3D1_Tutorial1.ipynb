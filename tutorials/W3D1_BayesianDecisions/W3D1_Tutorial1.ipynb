{
  "nbformat": 4,
  "nbformat_minor": 0,
  "metadata": {
    "colab": {
      "name": "W3D1_Tutorial1",
      "provenance": [],
      "collapsed_sections": [
        "jWmfLbhzBpfz"
      ],
      "toc_visible": true,
      "include_colab_link": true
    },
    "kernel": {
      "display_name": "Python 3",
      "language": "python",
      "name": "python3"
    },
    "kernelspec": {
      "name": "python3",
      "display_name": "Python 3.7.10 64-bit ('nma': conda)"
    },
    "language_info": {
      "codemirror_mode": {
        "name": "ipython",
        "version": 3
      },
      "file_extension": ".py",
      "mimetype": "text/x-python",
      "name": "python",
      "nbconvert_exporter": "python",
      "pygments_lexer": "ipython3",
      "version": "3.7.10"
    },
    "interpreter": {
      "hash": "3e19903e646247cead5404f55ff575624523d45cf244c3f93aaf5fa10367032a"
    },
    "widgets": {
      "application/vnd.jupyter.widget-state+json": {
        "2bf11a2feda8433882db07acb3a27b11": {
          "model_module": "@jupyter-widgets/controls",
          "model_name": "TabModel",
          "state": {
            "_view_name": "TabView",
            "_dom_classes": [],
            "_titles": {
              "0": "Youtube",
              "1": "Bilibili"
            },
            "_model_name": "TabModel",
            "_view_module": "@jupyter-widgets/controls",
            "selected_index": 0,
            "_model_module_version": "1.5.0",
            "_view_count": null,
            "_view_module_version": "1.5.0",
            "box_style": "",
            "layout": "IPY_MODEL_d0812ccd4ddf4cce8e173526d7b507f1",
            "_model_module": "@jupyter-widgets/controls",
            "children": [
              "IPY_MODEL_2cfdc5bdb19b48a3903502aaa0398cdf",
              "IPY_MODEL_81b6230e13d94826b4d90343bba113e9"
            ]
          }
        },
        "d0812ccd4ddf4cce8e173526d7b507f1": {
          "model_module": "@jupyter-widgets/base",
          "model_name": "LayoutModel",
          "state": {
            "_view_name": "LayoutView",
            "grid_template_rows": null,
            "right": null,
            "justify_content": null,
            "_view_module": "@jupyter-widgets/base",
            "overflow": null,
            "_model_module_version": "1.2.0",
            "_view_count": null,
            "flex_flow": null,
            "width": null,
            "min_width": null,
            "border": null,
            "align_items": null,
            "bottom": null,
            "_model_module": "@jupyter-widgets/base",
            "top": null,
            "grid_column": null,
            "overflow_y": null,
            "overflow_x": null,
            "grid_auto_flow": null,
            "grid_area": null,
            "grid_template_columns": null,
            "flex": null,
            "_model_name": "LayoutModel",
            "justify_items": null,
            "grid_row": null,
            "max_height": null,
            "align_content": null,
            "visibility": null,
            "align_self": null,
            "height": null,
            "min_height": null,
            "padding": null,
            "grid_auto_rows": null,
            "grid_gap": null,
            "max_width": null,
            "order": null,
            "_view_module_version": "1.2.0",
            "grid_template_areas": null,
            "object_position": null,
            "object_fit": null,
            "grid_auto_columns": null,
            "margin": null,
            "display": null,
            "left": null
          }
        },
        "2cfdc5bdb19b48a3903502aaa0398cdf": {
          "model_module": "@jupyter-widgets/output",
          "model_name": "OutputModel",
          "state": {
            "_view_name": "OutputView",
            "msg_id": "",
            "_dom_classes": [],
            "_model_name": "OutputModel",
            "outputs": [
              {
                "output_type": "stream",
                "metadata": {
                  "tags": []
                },
                "text": "Video available at https://youtube.com/watch?v=JiEIn9QsrFg\n",
                "stream": "stdout"
              },
              {
                "output_type": "display_data",
                "metadata": {
                  "tags": []
                },
                "text/html": "\n        <iframe\n            width=\"854\"\n            height=\"480\"\n            src=\"https://www.youtube.com/embed/JiEIn9QsrFg?fs=1&rel=0\"\n            frameborder=\"0\"\n            allowfullscreen\n        ></iframe>\n        ",
                "text/plain": "<IPython.lib.display.YouTubeVideo at 0x7f822b45f790>",
                "image/jpeg": "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\n"
              }
            ],
            "_view_module": "@jupyter-widgets/output",
            "_model_module_version": "1.0.0",
            "_view_count": null,
            "_view_module_version": "1.0.0",
            "layout": "IPY_MODEL_594682b8a82548fba62fe236fde1fe25",
            "_model_module": "@jupyter-widgets/output"
          }
        },
        "81b6230e13d94826b4d90343bba113e9": {
          "model_module": "@jupyter-widgets/output",
          "model_name": "OutputModel",
          "state": {
            "_view_name": "OutputView",
            "msg_id": "",
            "_dom_classes": [],
            "_model_name": "OutputModel",
            "outputs": [
              {
                "output_type": "stream",
                "metadata": {
                  "tags": []
                },
                "text": "Video available at https://www.bilibili.com/video/\n",
                "stream": "stdout"
              },
              {
                "output_type": "display_data",
                "metadata": {
                  "tags": []
                },
                "text/html": "\n        <iframe\n            width=\"854\"\n            height=\"480\"\n            src=\"https://player.bilibili.com/player.html?bvid=&page=1?fs=1\"\n            frameborder=\"0\"\n            allowfullscreen\n        ></iframe>\n        ",
                "text/plain": "<__main__.BiliVideo at 0x7f822eec6fd0>"
              }
            ],
            "_view_module": "@jupyter-widgets/output",
            "_model_module_version": "1.0.0",
            "_view_count": null,
            "_view_module_version": "1.0.0",
            "layout": "IPY_MODEL_1d5cfcb36f1847b4ab2c6cec932caf12",
            "_model_module": "@jupyter-widgets/output"
          }
        },
        "594682b8a82548fba62fe236fde1fe25": {
          "model_module": "@jupyter-widgets/base",
          "model_name": "LayoutModel",
          "state": {
            "_view_name": "LayoutView",
            "grid_template_rows": null,
            "right": null,
            "justify_content": null,
            "_view_module": "@jupyter-widgets/base",
            "overflow": null,
            "_model_module_version": "1.2.0",
            "_view_count": null,
            "flex_flow": null,
            "width": null,
            "min_width": null,
            "border": null,
            "align_items": null,
            "bottom": null,
            "_model_module": "@jupyter-widgets/base",
            "top": null,
            "grid_column": null,
            "overflow_y": null,
            "overflow_x": null,
            "grid_auto_flow": null,
            "grid_area": null,
            "grid_template_columns": null,
            "flex": null,
            "_model_name": "LayoutModel",
            "justify_items": null,
            "grid_row": null,
            "max_height": null,
            "align_content": null,
            "visibility": null,
            "align_self": null,
            "height": null,
            "min_height": null,
            "padding": null,
            "grid_auto_rows": null,
            "grid_gap": null,
            "max_width": null,
            "order": null,
            "_view_module_version": "1.2.0",
            "grid_template_areas": null,
            "object_position": null,
            "object_fit": null,
            "grid_auto_columns": null,
            "margin": null,
            "display": null,
            "left": null
          }
        },
        "1d5cfcb36f1847b4ab2c6cec932caf12": {
          "model_module": "@jupyter-widgets/base",
          "model_name": "LayoutModel",
          "state": {
            "_view_name": "LayoutView",
            "grid_template_rows": null,
            "right": null,
            "justify_content": null,
            "_view_module": "@jupyter-widgets/base",
            "overflow": null,
            "_model_module_version": "1.2.0",
            "_view_count": null,
            "flex_flow": null,
            "width": null,
            "min_width": null,
            "border": null,
            "align_items": null,
            "bottom": null,
            "_model_module": "@jupyter-widgets/base",
            "top": null,
            "grid_column": null,
            "overflow_y": null,
            "overflow_x": null,
            "grid_auto_flow": null,
            "grid_area": null,
            "grid_template_columns": null,
            "flex": null,
            "_model_name": "LayoutModel",
            "justify_items": null,
            "grid_row": null,
            "max_height": null,
            "align_content": null,
            "visibility": null,
            "align_self": null,
            "height": null,
            "min_height": null,
            "padding": null,
            "grid_auto_rows": null,
            "grid_gap": null,
            "max_width": null,
            "order": null,
            "_view_module_version": "1.2.0",
            "grid_template_areas": null,
            "object_position": null,
            "object_fit": null,
            "grid_auto_columns": null,
            "margin": null,
            "display": null,
            "left": null
          }
        },
        "b701f8cb2a854d3280a161dccae710e3": {
          "model_module": "@jupyter-widgets/controls",
          "model_name": "TabModel",
          "state": {
            "_view_name": "TabView",
            "_dom_classes": [],
            "_titles": {
              "0": "Youtube",
              "1": "Bilibili"
            },
            "_model_name": "TabModel",
            "_view_module": "@jupyter-widgets/controls",
            "selected_index": 0,
            "_model_module_version": "1.5.0",
            "_view_count": null,
            "_view_module_version": "1.5.0",
            "box_style": "",
            "layout": "IPY_MODEL_81c625ee2b9f4733b7d1e8d3703fc272",
            "_model_module": "@jupyter-widgets/controls",
            "children": [
              "IPY_MODEL_1989ed509a2a477fa13b12873a008a57",
              "IPY_MODEL_a1f285d87b824a8eb6ef112299ad8b84"
            ]
          }
        },
        "81c625ee2b9f4733b7d1e8d3703fc272": {
          "model_module": "@jupyter-widgets/base",
          "model_name": "LayoutModel",
          "state": {
            "_view_name": "LayoutView",
            "grid_template_rows": null,
            "right": null,
            "justify_content": null,
            "_view_module": "@jupyter-widgets/base",
            "overflow": null,
            "_model_module_version": "1.2.0",
            "_view_count": null,
            "flex_flow": null,
            "width": null,
            "min_width": null,
            "border": null,
            "align_items": null,
            "bottom": null,
            "_model_module": "@jupyter-widgets/base",
            "top": null,
            "grid_column": null,
            "overflow_y": null,
            "overflow_x": null,
            "grid_auto_flow": null,
            "grid_area": null,
            "grid_template_columns": null,
            "flex": null,
            "_model_name": "LayoutModel",
            "justify_items": null,
            "grid_row": null,
            "max_height": null,
            "align_content": null,
            "visibility": null,
            "align_self": null,
            "height": null,
            "min_height": null,
            "padding": null,
            "grid_auto_rows": null,
            "grid_gap": null,
            "max_width": null,
            "order": null,
            "_view_module_version": "1.2.0",
            "grid_template_areas": null,
            "object_position": null,
            "object_fit": null,
            "grid_auto_columns": null,
            "margin": null,
            "display": null,
            "left": null
          }
        },
        "1989ed509a2a477fa13b12873a008a57": {
          "model_module": "@jupyter-widgets/output",
          "model_name": "OutputModel",
          "state": {
            "_view_name": "OutputView",
            "msg_id": "",
            "_dom_classes": [],
            "_model_name": "OutputModel",
            "outputs": [
              {
                "output_type": "stream",
                "metadata": {
                  "tags": []
                },
                "text": "Video available at https://youtube.com/watch?v=McALsTzb494\n",
                "stream": "stdout"
              },
              {
                "output_type": "display_data",
                "metadata": {
                  "tags": []
                },
                "text/html": "\n        <iframe\n            width=\"854\"\n            height=\"480\"\n            src=\"https://www.youtube.com/embed/McALsTzb494?fs=1&rel=0\"\n            frameborder=\"0\"\n            allowfullscreen\n        ></iframe>\n        ",
                "text/plain": "<IPython.lib.display.YouTubeVideo at 0x7f82228d0fd0>",
                "image/jpeg": "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\n"
              }
            ],
            "_view_module": "@jupyter-widgets/output",
            "_model_module_version": "1.0.0",
            "_view_count": null,
            "_view_module_version": "1.0.0",
            "layout": "IPY_MODEL_f683b7a2d1ee4b2ea31990e44ab1f3fd",
            "_model_module": "@jupyter-widgets/output"
          }
        },
        "a1f285d87b824a8eb6ef112299ad8b84": {
          "model_module": "@jupyter-widgets/output",
          "model_name": "OutputModel",
          "state": {
            "_view_name": "OutputView",
            "msg_id": "",
            "_dom_classes": [],
            "_model_name": "OutputModel",
            "outputs": [
              {
                "output_type": "stream",
                "metadata": {
                  "tags": []
                },
                "text": "Video available at https://www.bilibili.com/video/\n",
                "stream": "stdout"
              },
              {
                "output_type": "display_data",
                "metadata": {
                  "tags": []
                },
                "text/html": "\n        <iframe\n            width=\"854\"\n            height=\"480\"\n            src=\"https://player.bilibili.com/player.html?bvid=&page=1?fs=1\"\n            frameborder=\"0\"\n            allowfullscreen\n        ></iframe>\n        ",
                "text/plain": "<__main__.BiliVideo at 0x7f821fb0b1d0>"
              }
            ],
            "_view_module": "@jupyter-widgets/output",
            "_model_module_version": "1.0.0",
            "_view_count": null,
            "_view_module_version": "1.0.0",
            "layout": "IPY_MODEL_4038580c054044558d9661cc55a13a81",
            "_model_module": "@jupyter-widgets/output"
          }
        },
        "f683b7a2d1ee4b2ea31990e44ab1f3fd": {
          "model_module": "@jupyter-widgets/base",
          "model_name": "LayoutModel",
          "state": {
            "_view_name": "LayoutView",
            "grid_template_rows": null,
            "right": null,
            "justify_content": null,
            "_view_module": "@jupyter-widgets/base",
            "overflow": null,
            "_model_module_version": "1.2.0",
            "_view_count": null,
            "flex_flow": null,
            "width": null,
            "min_width": null,
            "border": null,
            "align_items": null,
            "bottom": null,
            "_model_module": "@jupyter-widgets/base",
            "top": null,
            "grid_column": null,
            "overflow_y": null,
            "overflow_x": null,
            "grid_auto_flow": null,
            "grid_area": null,
            "grid_template_columns": null,
            "flex": null,
            "_model_name": "LayoutModel",
            "justify_items": null,
            "grid_row": null,
            "max_height": null,
            "align_content": null,
            "visibility": null,
            "align_self": null,
            "height": null,
            "min_height": null,
            "padding": null,
            "grid_auto_rows": null,
            "grid_gap": null,
            "max_width": null,
            "order": null,
            "_view_module_version": "1.2.0",
            "grid_template_areas": null,
            "object_position": null,
            "object_fit": null,
            "grid_auto_columns": null,
            "margin": null,
            "display": null,
            "left": null
          }
        },
        "4038580c054044558d9661cc55a13a81": {
          "model_module": "@jupyter-widgets/base",
          "model_name": "LayoutModel",
          "state": {
            "_view_name": "LayoutView",
            "grid_template_rows": null,
            "right": null,
            "justify_content": null,
            "_view_module": "@jupyter-widgets/base",
            "overflow": null,
            "_model_module_version": "1.2.0",
            "_view_count": null,
            "flex_flow": null,
            "width": null,
            "min_width": null,
            "border": null,
            "align_items": null,
            "bottom": null,
            "_model_module": "@jupyter-widgets/base",
            "top": null,
            "grid_column": null,
            "overflow_y": null,
            "overflow_x": null,
            "grid_auto_flow": null,
            "grid_area": null,
            "grid_template_columns": null,
            "flex": null,
            "_model_name": "LayoutModel",
            "justify_items": null,
            "grid_row": null,
            "max_height": null,
            "align_content": null,
            "visibility": null,
            "align_self": null,
            "height": null,
            "min_height": null,
            "padding": null,
            "grid_auto_rows": null,
            "grid_gap": null,
            "max_width": null,
            "order": null,
            "_view_module_version": "1.2.0",
            "grid_template_areas": null,
            "object_position": null,
            "object_fit": null,
            "grid_auto_columns": null,
            "margin": null,
            "display": null,
            "left": null
          }
        },
        "d57b7d58ce73444ba5ef848c8cb171f7": {
          "model_module": "@jupyter-widgets/controls",
          "model_name": "TabModel",
          "state": {
            "_view_name": "TabView",
            "_dom_classes": [],
            "_titles": {
              "0": "Youtube",
              "1": "Bilibili"
            },
            "_model_name": "TabModel",
            "_view_module": "@jupyter-widgets/controls",
            "selected_index": 0,
            "_model_module_version": "1.5.0",
            "_view_count": null,
            "_view_module_version": "1.5.0",
            "box_style": "",
            "layout": "IPY_MODEL_90f3279b95cd4316b3cc8c89dc28f658",
            "_model_module": "@jupyter-widgets/controls",
            "children": [
              "IPY_MODEL_46c4890e737f498895b76cf80e55e079",
              "IPY_MODEL_176461e4269a4abab7ac92323f34f82d"
            ]
          }
        },
        "90f3279b95cd4316b3cc8c89dc28f658": {
          "model_module": "@jupyter-widgets/base",
          "model_name": "LayoutModel",
          "state": {
            "_view_name": "LayoutView",
            "grid_template_rows": null,
            "right": null,
            "justify_content": null,
            "_view_module": "@jupyter-widgets/base",
            "overflow": null,
            "_model_module_version": "1.2.0",
            "_view_count": null,
            "flex_flow": null,
            "width": null,
            "min_width": null,
            "border": null,
            "align_items": null,
            "bottom": null,
            "_model_module": "@jupyter-widgets/base",
            "top": null,
            "grid_column": null,
            "overflow_y": null,
            "overflow_x": null,
            "grid_auto_flow": null,
            "grid_area": null,
            "grid_template_columns": null,
            "flex": null,
            "_model_name": "LayoutModel",
            "justify_items": null,
            "grid_row": null,
            "max_height": null,
            "align_content": null,
            "visibility": null,
            "align_self": null,
            "height": null,
            "min_height": null,
            "padding": null,
            "grid_auto_rows": null,
            "grid_gap": null,
            "max_width": null,
            "order": null,
            "_view_module_version": "1.2.0",
            "grid_template_areas": null,
            "object_position": null,
            "object_fit": null,
            "grid_auto_columns": null,
            "margin": null,
            "display": null,
            "left": null
          }
        },
        "46c4890e737f498895b76cf80e55e079": {
          "model_module": "@jupyter-widgets/output",
          "model_name": "OutputModel",
          "state": {
            "_view_name": "OutputView",
            "msg_id": "",
            "_dom_classes": [],
            "_model_name": "OutputModel",
            "outputs": [
              {
                "output_type": "stream",
                "metadata": {
                  "tags": []
                },
                "text": "Video available at https://youtube.com/watch?v=xvIVZrqF_5s\n",
                "stream": "stdout"
              },
              {
                "output_type": "display_data",
                "metadata": {
                  "tags": []
                },
                "text/html": "\n        <iframe\n            width=\"854\"\n            height=\"480\"\n            src=\"https://www.youtube.com/embed/xvIVZrqF_5s?fs=1&rel=0\"\n            frameborder=\"0\"\n            allowfullscreen\n        ></iframe>\n        ",
                "text/plain": "<IPython.lib.display.YouTubeVideo at 0x7f82221a5690>",
                "image/jpeg": "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\n"
              }
            ],
            "_view_module": "@jupyter-widgets/output",
            "_model_module_version": "1.0.0",
            "_view_count": null,
            "_view_module_version": "1.0.0",
            "layout": "IPY_MODEL_30811df9d9224160b4542f001bdfe57c",
            "_model_module": "@jupyter-widgets/output"
          }
        },
        "176461e4269a4abab7ac92323f34f82d": {
          "model_module": "@jupyter-widgets/output",
          "model_name": "OutputModel",
          "state": {
            "_view_name": "OutputView",
            "msg_id": "",
            "_dom_classes": [],
            "_model_name": "OutputModel",
            "outputs": [
              {
                "output_type": "stream",
                "metadata": {
                  "tags": []
                },
                "text": "Video available at https://www.bilibili.com/video/\n",
                "stream": "stdout"
              },
              {
                "output_type": "display_data",
                "metadata": {
                  "tags": []
                },
                "text/html": "\n        <iframe\n            width=\"854\"\n            height=\"480\"\n            src=\"https://player.bilibili.com/player.html?bvid=&page=1?fs=1\"\n            frameborder=\"0\"\n            allowfullscreen\n        ></iframe>\n        ",
                "text/plain": "<__main__.BiliVideo at 0x7f821fc51b90>"
              }
            ],
            "_view_module": "@jupyter-widgets/output",
            "_model_module_version": "1.0.0",
            "_view_count": null,
            "_view_module_version": "1.0.0",
            "layout": "IPY_MODEL_4abfd829e8fe4bd0853bb25483e27b9a",
            "_model_module": "@jupyter-widgets/output"
          }
        },
        "30811df9d9224160b4542f001bdfe57c": {
          "model_module": "@jupyter-widgets/base",
          "model_name": "LayoutModel",
          "state": {
            "_view_name": "LayoutView",
            "grid_template_rows": null,
            "right": null,
            "justify_content": null,
            "_view_module": "@jupyter-widgets/base",
            "overflow": null,
            "_model_module_version": "1.2.0",
            "_view_count": null,
            "flex_flow": null,
            "width": null,
            "min_width": null,
            "border": null,
            "align_items": null,
            "bottom": null,
            "_model_module": "@jupyter-widgets/base",
            "top": null,
            "grid_column": null,
            "overflow_y": null,
            "overflow_x": null,
            "grid_auto_flow": null,
            "grid_area": null,
            "grid_template_columns": null,
            "flex": null,
            "_model_name": "LayoutModel",
            "justify_items": null,
            "grid_row": null,
            "max_height": null,
            "align_content": null,
            "visibility": null,
            "align_self": null,
            "height": null,
            "min_height": null,
            "padding": null,
            "grid_auto_rows": null,
            "grid_gap": null,
            "max_width": null,
            "order": null,
            "_view_module_version": "1.2.0",
            "grid_template_areas": null,
            "object_position": null,
            "object_fit": null,
            "grid_auto_columns": null,
            "margin": null,
            "display": null,
            "left": null
          }
        },
        "4abfd829e8fe4bd0853bb25483e27b9a": {
          "model_module": "@jupyter-widgets/base",
          "model_name": "LayoutModel",
          "state": {
            "_view_name": "LayoutView",
            "grid_template_rows": null,
            "right": null,
            "justify_content": null,
            "_view_module": "@jupyter-widgets/base",
            "overflow": null,
            "_model_module_version": "1.2.0",
            "_view_count": null,
            "flex_flow": null,
            "width": null,
            "min_width": null,
            "border": null,
            "align_items": null,
            "bottom": null,
            "_model_module": "@jupyter-widgets/base",
            "top": null,
            "grid_column": null,
            "overflow_y": null,
            "overflow_x": null,
            "grid_auto_flow": null,
            "grid_area": null,
            "grid_template_columns": null,
            "flex": null,
            "_model_name": "LayoutModel",
            "justify_items": null,
            "grid_row": null,
            "max_height": null,
            "align_content": null,
            "visibility": null,
            "align_self": null,
            "height": null,
            "min_height": null,
            "padding": null,
            "grid_auto_rows": null,
            "grid_gap": null,
            "max_width": null,
            "order": null,
            "_view_module_version": "1.2.0",
            "grid_template_areas": null,
            "object_position": null,
            "object_fit": null,
            "grid_auto_columns": null,
            "margin": null,
            "display": null,
            "left": null
          }
        },
        "aabcc156d1ea4ddc94235bd26c6f2577": {
          "model_module": "@jupyter-widgets/controls",
          "model_name": "VBoxModel",
          "state": {
            "_view_name": "VBoxView",
            "_dom_classes": [
              "widget-interact"
            ],
            "_model_name": "VBoxModel",
            "_view_module": "@jupyter-widgets/controls",
            "_model_module_version": "1.5.0",
            "_view_count": null,
            "_view_module_version": "1.5.0",
            "box_style": "",
            "layout": "IPY_MODEL_f872423f2aae466bb658bf57e45c7974",
            "_model_module": "@jupyter-widgets/controls",
            "children": [
              "IPY_MODEL_4d4ff369d69544e9be2202a008dff4cc",
              "IPY_MODEL_628649a836eb400b963af9e5c7ed5b59"
            ]
          }
        },
        "f872423f2aae466bb658bf57e45c7974": {
          "model_module": "@jupyter-widgets/base",
          "model_name": "LayoutModel",
          "state": {
            "_view_name": "LayoutView",
            "grid_template_rows": null,
            "right": null,
            "justify_content": null,
            "_view_module": "@jupyter-widgets/base",
            "overflow": null,
            "_model_module_version": "1.2.0",
            "_view_count": null,
            "flex_flow": null,
            "width": null,
            "min_width": null,
            "border": null,
            "align_items": null,
            "bottom": null,
            "_model_module": "@jupyter-widgets/base",
            "top": null,
            "grid_column": null,
            "overflow_y": null,
            "overflow_x": null,
            "grid_auto_flow": null,
            "grid_area": null,
            "grid_template_columns": null,
            "flex": null,
            "_model_name": "LayoutModel",
            "justify_items": null,
            "grid_row": null,
            "max_height": null,
            "align_content": null,
            "visibility": null,
            "align_self": null,
            "height": null,
            "min_height": null,
            "padding": null,
            "grid_auto_rows": null,
            "grid_gap": null,
            "max_width": null,
            "order": null,
            "_view_module_version": "1.2.0",
            "grid_template_areas": null,
            "object_position": null,
            "object_fit": null,
            "grid_auto_columns": null,
            "margin": null,
            "display": null,
            "left": null
          }
        },
        "4d4ff369d69544e9be2202a008dff4cc": {
          "model_module": "@jupyter-widgets/controls",
          "model_name": "FloatSliderModel",
          "state": {
            "_view_name": "FloatSliderView",
            "style": "IPY_MODEL_ebd6f1e1bf46462d8aa4d4b7280f7b6d",
            "_dom_classes": [],
            "description": "p(s = left)",
            "step": 0.01,
            "_model_name": "FloatSliderModel",
            "orientation": "horizontal",
            "max": 1,
            "_view_module": "@jupyter-widgets/controls",
            "_model_module_version": "1.5.0",
            "value": 0.9,
            "_view_count": null,
            "disabled": false,
            "_view_module_version": "1.5.0",
            "min": 0,
            "continuous_update": true,
            "readout_format": ".2f",
            "description_tooltip": null,
            "readout": true,
            "_model_module": "@jupyter-widgets/controls",
            "layout": "IPY_MODEL_7afab337393d40c6bf9856ced7d34011"
          }
        },
        "628649a836eb400b963af9e5c7ed5b59": {
          "model_module": "@jupyter-widgets/output",
          "model_name": "OutputModel",
          "state": {
            "_view_name": "OutputView",
            "msg_id": "",
            "_dom_classes": [],
            "_model_name": "OutputModel",
            "outputs": [
              {
                "output_type": "display_data",
                "metadata": {
                  "tags": [],
                  "image/png": {
                    "width": 728,
                    "height": 277
                  },
                  "needs_background": "light"
                },
                "image/png": "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\n",
                "text/plain": "<Figure size 1224x216 with 3 Axes>"
              }
            ],
            "_view_module": "@jupyter-widgets/output",
            "_model_module_version": "1.0.0",
            "_view_count": null,
            "_view_module_version": "1.0.0",
            "layout": "IPY_MODEL_ba4d49d610f24432aa58efdc7aea4a7a",
            "_model_module": "@jupyter-widgets/output"
          }
        },
        "ebd6f1e1bf46462d8aa4d4b7280f7b6d": {
          "model_module": "@jupyter-widgets/controls",
          "model_name": "SliderStyleModel",
          "state": {
            "_view_name": "StyleView",
            "handle_color": null,
            "_model_name": "SliderStyleModel",
            "description_width": "",
            "_view_module": "@jupyter-widgets/base",
            "_model_module_version": "1.5.0",
            "_view_count": null,
            "_view_module_version": "1.2.0",
            "_model_module": "@jupyter-widgets/controls"
          }
        },
        "7afab337393d40c6bf9856ced7d34011": {
          "model_module": "@jupyter-widgets/base",
          "model_name": "LayoutModel",
          "state": {
            "_view_name": "LayoutView",
            "grid_template_rows": null,
            "right": null,
            "justify_content": null,
            "_view_module": "@jupyter-widgets/base",
            "overflow": null,
            "_model_module_version": "1.2.0",
            "_view_count": null,
            "flex_flow": null,
            "width": null,
            "min_width": null,
            "border": null,
            "align_items": null,
            "bottom": null,
            "_model_module": "@jupyter-widgets/base",
            "top": null,
            "grid_column": null,
            "overflow_y": null,
            "overflow_x": null,
            "grid_auto_flow": null,
            "grid_area": null,
            "grid_template_columns": null,
            "flex": null,
            "_model_name": "LayoutModel",
            "justify_items": null,
            "grid_row": null,
            "max_height": null,
            "align_content": null,
            "visibility": null,
            "align_self": null,
            "height": null,
            "min_height": null,
            "padding": null,
            "grid_auto_rows": null,
            "grid_gap": null,
            "max_width": null,
            "order": null,
            "_view_module_version": "1.2.0",
            "grid_template_areas": null,
            "object_position": null,
            "object_fit": null,
            "grid_auto_columns": null,
            "margin": null,
            "display": null,
            "left": null
          }
        },
        "ba4d49d610f24432aa58efdc7aea4a7a": {
          "model_module": "@jupyter-widgets/base",
          "model_name": "LayoutModel",
          "state": {
            "_view_name": "LayoutView",
            "grid_template_rows": null,
            "right": null,
            "justify_content": null,
            "_view_module": "@jupyter-widgets/base",
            "overflow": null,
            "_model_module_version": "1.2.0",
            "_view_count": null,
            "flex_flow": null,
            "width": null,
            "min_width": null,
            "border": null,
            "align_items": null,
            "bottom": null,
            "_model_module": "@jupyter-widgets/base",
            "top": null,
            "grid_column": null,
            "overflow_y": null,
            "overflow_x": null,
            "grid_auto_flow": null,
            "grid_area": null,
            "grid_template_columns": null,
            "flex": null,
            "_model_name": "LayoutModel",
            "justify_items": null,
            "grid_row": null,
            "max_height": null,
            "align_content": null,
            "visibility": null,
            "align_self": null,
            "height": null,
            "min_height": null,
            "padding": null,
            "grid_auto_rows": null,
            "grid_gap": null,
            "max_width": null,
            "order": null,
            "_view_module_version": "1.2.0",
            "grid_template_areas": null,
            "object_position": null,
            "object_fit": null,
            "grid_auto_columns": null,
            "margin": null,
            "display": null,
            "left": null
          }
        },
        "764f1cd8775448e5ad83893a4ad29f0f": {
          "model_module": "@jupyter-widgets/controls",
          "model_name": "TabModel",
          "state": {
            "_view_name": "TabView",
            "_dom_classes": [],
            "_titles": {
              "0": "Youtube",
              "1": "Bilibili"
            },
            "_model_name": "TabModel",
            "_view_module": "@jupyter-widgets/controls",
            "selected_index": 0,
            "_model_module_version": "1.5.0",
            "_view_count": null,
            "_view_module_version": "1.5.0",
            "box_style": "",
            "layout": "IPY_MODEL_f41134c1cbd8403aa58a77de6184f467",
            "_model_module": "@jupyter-widgets/controls",
            "children": [
              "IPY_MODEL_7ca850f1cbc34f308d079a7e0bafc087",
              "IPY_MODEL_fb2ae05d5efb4ff39d777fb2d94a2d33"
            ]
          }
        },
        "f41134c1cbd8403aa58a77de6184f467": {
          "model_module": "@jupyter-widgets/base",
          "model_name": "LayoutModel",
          "state": {
            "_view_name": "LayoutView",
            "grid_template_rows": null,
            "right": null,
            "justify_content": null,
            "_view_module": "@jupyter-widgets/base",
            "overflow": null,
            "_model_module_version": "1.2.0",
            "_view_count": null,
            "flex_flow": null,
            "width": null,
            "min_width": null,
            "border": null,
            "align_items": null,
            "bottom": null,
            "_model_module": "@jupyter-widgets/base",
            "top": null,
            "grid_column": null,
            "overflow_y": null,
            "overflow_x": null,
            "grid_auto_flow": null,
            "grid_area": null,
            "grid_template_columns": null,
            "flex": null,
            "_model_name": "LayoutModel",
            "justify_items": null,
            "grid_row": null,
            "max_height": null,
            "align_content": null,
            "visibility": null,
            "align_self": null,
            "height": null,
            "min_height": null,
            "padding": null,
            "grid_auto_rows": null,
            "grid_gap": null,
            "max_width": null,
            "order": null,
            "_view_module_version": "1.2.0",
            "grid_template_areas": null,
            "object_position": null,
            "object_fit": null,
            "grid_auto_columns": null,
            "margin": null,
            "display": null,
            "left": null
          }
        },
        "7ca850f1cbc34f308d079a7e0bafc087": {
          "model_module": "@jupyter-widgets/output",
          "model_name": "OutputModel",
          "state": {
            "_view_name": "OutputView",
            "msg_id": "",
            "_dom_classes": [],
            "_model_name": "OutputModel",
            "outputs": [
              {
                "output_type": "stream",
                "metadata": {
                  "tags": []
                },
                "text": "Video available at https://youtube.com/watch?v=l4m0JzMWGio\n",
                "stream": "stdout"
              },
              {
                "output_type": "display_data",
                "metadata": {
                  "tags": []
                },
                "text/html": "\n        <iframe\n            width=\"854\"\n            height=\"480\"\n            src=\"https://www.youtube.com/embed/l4m0JzMWGio?fs=1&rel=0\"\n            frameborder=\"0\"\n            allowfullscreen\n        ></iframe>\n        ",
                "text/plain": "<IPython.lib.display.YouTubeVideo at 0x7f821fb54c90>",
                "image/jpeg": "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\n"
              }
            ],
            "_view_module": "@jupyter-widgets/output",
            "_model_module_version": "1.0.0",
            "_view_count": null,
            "_view_module_version": "1.0.0",
            "layout": "IPY_MODEL_effe30b557594c3abac5ef6754d73d08",
            "_model_module": "@jupyter-widgets/output"
          }
        },
        "fb2ae05d5efb4ff39d777fb2d94a2d33": {
          "model_module": "@jupyter-widgets/output",
          "model_name": "OutputModel",
          "state": {
            "_view_name": "OutputView",
            "msg_id": "",
            "_dom_classes": [],
            "_model_name": "OutputModel",
            "outputs": [
              {
                "output_type": "stream",
                "metadata": {
                  "tags": []
                },
                "text": "Video available at https://www.bilibili.com/video/\n",
                "stream": "stdout"
              },
              {
                "output_type": "display_data",
                "metadata": {
                  "tags": []
                },
                "text/html": "\n        <iframe\n            width=\"854\"\n            height=\"480\"\n            src=\"https://player.bilibili.com/player.html?bvid=&page=1?fs=1\"\n            frameborder=\"0\"\n            allowfullscreen\n        ></iframe>\n        ",
                "text/plain": "<__main__.BiliVideo at 0x7f821f667dd0>"
              }
            ],
            "_view_module": "@jupyter-widgets/output",
            "_model_module_version": "1.0.0",
            "_view_count": null,
            "_view_module_version": "1.0.0",
            "layout": "IPY_MODEL_336d0223b38f4e779b1abd2697f3c8b2",
            "_model_module": "@jupyter-widgets/output"
          }
        },
        "effe30b557594c3abac5ef6754d73d08": {
          "model_module": "@jupyter-widgets/base",
          "model_name": "LayoutModel",
          "state": {
            "_view_name": "LayoutView",
            "grid_template_rows": null,
            "right": null,
            "justify_content": null,
            "_view_module": "@jupyter-widgets/base",
            "overflow": null,
            "_model_module_version": "1.2.0",
            "_view_count": null,
            "flex_flow": null,
            "width": null,
            "min_width": null,
            "border": null,
            "align_items": null,
            "bottom": null,
            "_model_module": "@jupyter-widgets/base",
            "top": null,
            "grid_column": null,
            "overflow_y": null,
            "overflow_x": null,
            "grid_auto_flow": null,
            "grid_area": null,
            "grid_template_columns": null,
            "flex": null,
            "_model_name": "LayoutModel",
            "justify_items": null,
            "grid_row": null,
            "max_height": null,
            "align_content": null,
            "visibility": null,
            "align_self": null,
            "height": null,
            "min_height": null,
            "padding": null,
            "grid_auto_rows": null,
            "grid_gap": null,
            "max_width": null,
            "order": null,
            "_view_module_version": "1.2.0",
            "grid_template_areas": null,
            "object_position": null,
            "object_fit": null,
            "grid_auto_columns": null,
            "margin": null,
            "display": null,
            "left": null
          }
        },
        "336d0223b38f4e779b1abd2697f3c8b2": {
          "model_module": "@jupyter-widgets/base",
          "model_name": "LayoutModel",
          "state": {
            "_view_name": "LayoutView",
            "grid_template_rows": null,
            "right": null,
            "justify_content": null,
            "_view_module": "@jupyter-widgets/base",
            "overflow": null,
            "_model_module_version": "1.2.0",
            "_view_count": null,
            "flex_flow": null,
            "width": null,
            "min_width": null,
            "border": null,
            "align_items": null,
            "bottom": null,
            "_model_module": "@jupyter-widgets/base",
            "top": null,
            "grid_column": null,
            "overflow_y": null,
            "overflow_x": null,
            "grid_auto_flow": null,
            "grid_area": null,
            "grid_template_columns": null,
            "flex": null,
            "_model_name": "LayoutModel",
            "justify_items": null,
            "grid_row": null,
            "max_height": null,
            "align_content": null,
            "visibility": null,
            "align_self": null,
            "height": null,
            "min_height": null,
            "padding": null,
            "grid_auto_rows": null,
            "grid_gap": null,
            "max_width": null,
            "order": null,
            "_view_module_version": "1.2.0",
            "grid_template_areas": null,
            "object_position": null,
            "object_fit": null,
            "grid_auto_columns": null,
            "margin": null,
            "display": null,
            "left": null
          }
        },
        "fce5b31ecf3b4875a8b7a36da6013acc": {
          "model_module": "@jupyter-widgets/controls",
          "model_name": "TabModel",
          "state": {
            "_view_name": "TabView",
            "_dom_classes": [],
            "_titles": {
              "0": "Youtube",
              "1": "Bilibili"
            },
            "_model_name": "TabModel",
            "_view_module": "@jupyter-widgets/controls",
            "selected_index": 0,
            "_model_module_version": "1.5.0",
            "_view_count": null,
            "_view_module_version": "1.5.0",
            "box_style": "",
            "layout": "IPY_MODEL_928773bdf9654dc9adc4c5d30889a1df",
            "_model_module": "@jupyter-widgets/controls",
            "children": [
              "IPY_MODEL_d70050f5efbc436abacaed455577a39b",
              "IPY_MODEL_68db2403a00b44d6a98320e2ffaabe09"
            ]
          }
        },
        "928773bdf9654dc9adc4c5d30889a1df": {
          "model_module": "@jupyter-widgets/base",
          "model_name": "LayoutModel",
          "state": {
            "_view_name": "LayoutView",
            "grid_template_rows": null,
            "right": null,
            "justify_content": null,
            "_view_module": "@jupyter-widgets/base",
            "overflow": null,
            "_model_module_version": "1.2.0",
            "_view_count": null,
            "flex_flow": null,
            "width": null,
            "min_width": null,
            "border": null,
            "align_items": null,
            "bottom": null,
            "_model_module": "@jupyter-widgets/base",
            "top": null,
            "grid_column": null,
            "overflow_y": null,
            "overflow_x": null,
            "grid_auto_flow": null,
            "grid_area": null,
            "grid_template_columns": null,
            "flex": null,
            "_model_name": "LayoutModel",
            "justify_items": null,
            "grid_row": null,
            "max_height": null,
            "align_content": null,
            "visibility": null,
            "align_self": null,
            "height": null,
            "min_height": null,
            "padding": null,
            "grid_auto_rows": null,
            "grid_gap": null,
            "max_width": null,
            "order": null,
            "_view_module_version": "1.2.0",
            "grid_template_areas": null,
            "object_position": null,
            "object_fit": null,
            "grid_auto_columns": null,
            "margin": null,
            "display": null,
            "left": null
          }
        },
        "d70050f5efbc436abacaed455577a39b": {
          "model_module": "@jupyter-widgets/output",
          "model_name": "OutputModel",
          "state": {
            "_view_name": "OutputView",
            "msg_id": "",
            "_dom_classes": [],
            "_model_name": "OutputModel",
            "outputs": [
              {
                "output_type": "stream",
                "metadata": {
                  "tags": []
                },
                "text": "Video available at https://youtube.com/watch?v=vsDjtWi-BVo\n",
                "stream": "stdout"
              },
              {
                "output_type": "display_data",
                "metadata": {
                  "tags": []
                },
                "text/html": "\n        <iframe\n            width=\"854\"\n            height=\"480\"\n            src=\"https://www.youtube.com/embed/vsDjtWi-BVo?fs=1&rel=0\"\n            frameborder=\"0\"\n            allowfullscreen\n        ></iframe>\n        ",
                "text/plain": "<IPython.lib.display.YouTubeVideo at 0x7f8231705690>",
                "image/jpeg": "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\n"
              }
            ],
            "_view_module": "@jupyter-widgets/output",
            "_model_module_version": "1.0.0",
            "_view_count": null,
            "_view_module_version": "1.0.0",
            "layout": "IPY_MODEL_d9a2c31023eb443295ca28626dfe4e06",
            "_model_module": "@jupyter-widgets/output"
          }
        },
        "68db2403a00b44d6a98320e2ffaabe09": {
          "model_module": "@jupyter-widgets/output",
          "model_name": "OutputModel",
          "state": {
            "_view_name": "OutputView",
            "msg_id": "",
            "_dom_classes": [],
            "_model_name": "OutputModel",
            "outputs": [
              {
                "output_type": "stream",
                "metadata": {
                  "tags": []
                },
                "text": "Video available at https://www.bilibili.com/video/\n",
                "stream": "stdout"
              },
              {
                "output_type": "display_data",
                "metadata": {
                  "tags": []
                },
                "text/html": "\n        <iframe\n            width=\"854\"\n            height=\"480\"\n            src=\"https://player.bilibili.com/player.html?bvid=&page=1?fs=1\"\n            frameborder=\"0\"\n            allowfullscreen\n        ></iframe>\n        ",
                "text/plain": "<__main__.BiliVideo at 0x7f821fc3df10>"
              }
            ],
            "_view_module": "@jupyter-widgets/output",
            "_model_module_version": "1.0.0",
            "_view_count": null,
            "_view_module_version": "1.0.0",
            "layout": "IPY_MODEL_22b9e6db0bae40ceb7aea6743b515284",
            "_model_module": "@jupyter-widgets/output"
          }
        },
        "d9a2c31023eb443295ca28626dfe4e06": {
          "model_module": "@jupyter-widgets/base",
          "model_name": "LayoutModel",
          "state": {
            "_view_name": "LayoutView",
            "grid_template_rows": null,
            "right": null,
            "justify_content": null,
            "_view_module": "@jupyter-widgets/base",
            "overflow": null,
            "_model_module_version": "1.2.0",
            "_view_count": null,
            "flex_flow": null,
            "width": null,
            "min_width": null,
            "border": null,
            "align_items": null,
            "bottom": null,
            "_model_module": "@jupyter-widgets/base",
            "top": null,
            "grid_column": null,
            "overflow_y": null,
            "overflow_x": null,
            "grid_auto_flow": null,
            "grid_area": null,
            "grid_template_columns": null,
            "flex": null,
            "_model_name": "LayoutModel",
            "justify_items": null,
            "grid_row": null,
            "max_height": null,
            "align_content": null,
            "visibility": null,
            "align_self": null,
            "height": null,
            "min_height": null,
            "padding": null,
            "grid_auto_rows": null,
            "grid_gap": null,
            "max_width": null,
            "order": null,
            "_view_module_version": "1.2.0",
            "grid_template_areas": null,
            "object_position": null,
            "object_fit": null,
            "grid_auto_columns": null,
            "margin": null,
            "display": null,
            "left": null
          }
        },
        "22b9e6db0bae40ceb7aea6743b515284": {
          "model_module": "@jupyter-widgets/base",
          "model_name": "LayoutModel",
          "state": {
            "_view_name": "LayoutView",
            "grid_template_rows": null,
            "right": null,
            "justify_content": null,
            "_view_module": "@jupyter-widgets/base",
            "overflow": null,
            "_model_module_version": "1.2.0",
            "_view_count": null,
            "flex_flow": null,
            "width": null,
            "min_width": null,
            "border": null,
            "align_items": null,
            "bottom": null,
            "_model_module": "@jupyter-widgets/base",
            "top": null,
            "grid_column": null,
            "overflow_y": null,
            "overflow_x": null,
            "grid_auto_flow": null,
            "grid_area": null,
            "grid_template_columns": null,
            "flex": null,
            "_model_name": "LayoutModel",
            "justify_items": null,
            "grid_row": null,
            "max_height": null,
            "align_content": null,
            "visibility": null,
            "align_self": null,
            "height": null,
            "min_height": null,
            "padding": null,
            "grid_auto_rows": null,
            "grid_gap": null,
            "max_width": null,
            "order": null,
            "_view_module_version": "1.2.0",
            "grid_template_areas": null,
            "object_position": null,
            "object_fit": null,
            "grid_auto_columns": null,
            "margin": null,
            "display": null,
            "left": null
          }
        },
        "c33211474e2c45d89d49e03b445a53cf": {
          "model_module": "@jupyter-widgets/controls",
          "model_name": "VBoxModel",
          "state": {
            "_view_name": "VBoxView",
            "_dom_classes": [
              "widget-interact"
            ],
            "_model_name": "VBoxModel",
            "_view_module": "@jupyter-widgets/controls",
            "_model_module_version": "1.5.0",
            "_view_count": null,
            "_view_module_version": "1.5.0",
            "box_style": "",
            "layout": "IPY_MODEL_c33b425e2fca44c18cf85ab8f520d26a",
            "_model_module": "@jupyter-widgets/controls",
            "children": [
              "IPY_MODEL_ab9eccbc890b4c87b576f3f93c73982e",
              "IPY_MODEL_9d18abc7407544aab97063138b2f5963",
              "IPY_MODEL_40530d6370e945f994443843b653a428",
              "IPY_MODEL_dd53ec64ce244cbaafe09adc96d82e74"
            ]
          }
        },
        "c33b425e2fca44c18cf85ab8f520d26a": {
          "model_module": "@jupyter-widgets/base",
          "model_name": "LayoutModel",
          "state": {
            "_view_name": "LayoutView",
            "grid_template_rows": null,
            "right": null,
            "justify_content": null,
            "_view_module": "@jupyter-widgets/base",
            "overflow": null,
            "_model_module_version": "1.2.0",
            "_view_count": null,
            "flex_flow": null,
            "width": null,
            "min_width": null,
            "border": null,
            "align_items": null,
            "bottom": null,
            "_model_module": "@jupyter-widgets/base",
            "top": null,
            "grid_column": null,
            "overflow_y": null,
            "overflow_x": null,
            "grid_auto_flow": null,
            "grid_area": null,
            "grid_template_columns": null,
            "flex": null,
            "_model_name": "LayoutModel",
            "justify_items": null,
            "grid_row": null,
            "max_height": null,
            "align_content": null,
            "visibility": null,
            "align_self": null,
            "height": null,
            "min_height": null,
            "padding": null,
            "grid_auto_rows": null,
            "grid_gap": null,
            "max_width": null,
            "order": null,
            "_view_module_version": "1.2.0",
            "grid_template_areas": null,
            "object_position": null,
            "object_fit": null,
            "grid_auto_columns": null,
            "margin": null,
            "display": null,
            "left": null
          }
        },
        "ab9eccbc890b4c87b576f3f93c73982e": {
          "model_module": "@jupyter-widgets/controls",
          "model_name": "FloatSliderModel",
          "state": {
            "_view_name": "FloatSliderView",
            "style": "IPY_MODEL_e362a61191e9427cb0440ac5126d0c17",
            "_dom_classes": [],
            "description": "p(color=golden)",
            "step": 0.01,
            "_model_name": "FloatSliderModel",
            "orientation": "horizontal",
            "max": 0.99,
            "_view_module": "@jupyter-widgets/controls",
            "_model_module_version": "1.5.0",
            "value": 0.5,
            "_view_count": null,
            "disabled": false,
            "_view_module_version": "1.5.0",
            "min": 0.01,
            "continuous_update": true,
            "readout_format": ".2f",
            "description_tooltip": null,
            "readout": true,
            "_model_module": "@jupyter-widgets/controls",
            "layout": "IPY_MODEL_dbffcab7605d49dab127d640fe7ab865"
          }
        },
        "9d18abc7407544aab97063138b2f5963": {
          "model_module": "@jupyter-widgets/controls",
          "model_name": "FloatSliderModel",
          "state": {
            "_view_name": "FloatSliderView",
            "style": "IPY_MODEL_a680f68f95354a2d875a9545af276084",
            "_dom_classes": [],
            "description": "p(size=large)",
            "step": 0.01,
            "_model_name": "FloatSliderModel",
            "orientation": "horizontal",
            "max": 0.99,
            "_view_module": "@jupyter-widgets/controls",
            "_model_module_version": "1.5.0",
            "value": 0.5,
            "_view_count": null,
            "disabled": false,
            "_view_module_version": "1.5.0",
            "min": 0.01,
            "continuous_update": true,
            "readout_format": ".2f",
            "description_tooltip": null,
            "readout": true,
            "_model_module": "@jupyter-widgets/controls",
            "layout": "IPY_MODEL_9367662a187c4a27b07b33b3f1aaa690"
          }
        },
        "40530d6370e945f994443843b653a428": {
          "model_module": "@jupyter-widgets/controls",
          "model_name": "FloatSliderModel",
          "state": {
            "_view_name": "FloatSliderView",
            "style": "IPY_MODEL_3cfa35257c314bff9f01531d4ec0a865",
            "_dom_classes": [],
            "description": "ρ",
            "step": 0.01,
            "_model_name": "FloatSliderModel",
            "orientation": "horizontal",
            "max": 0.9899999999999998,
            "_view_module": "@jupyter-widgets/controls",
            "_model_module_version": "1.5.0",
            "value": 0,
            "_view_count": null,
            "disabled": false,
            "_view_module_version": "1.5.0",
            "min": -0.9899999999999998,
            "continuous_update": true,
            "readout_format": ".2f",
            "description_tooltip": null,
            "readout": true,
            "_model_module": "@jupyter-widgets/controls",
            "layout": "IPY_MODEL_d134f7a0097445ab8a178bd037f7e8cb"
          }
        },
        "dd53ec64ce244cbaafe09adc96d82e74": {
          "model_module": "@jupyter-widgets/output",
          "model_name": "OutputModel",
          "state": {
            "_view_name": "OutputView",
            "msg_id": "",
            "_dom_classes": [],
            "_model_name": "OutputModel",
            "outputs": [
              {
                "output_type": "display_data",
                "metadata": {
                  "tags": [],
                  "image/png": {
                    "width": 384,
                    "height": 361
                  },
                  "needs_background": "light"
                },
                "image/png": "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\n",
                "text/plain": "<Figure size 360x360 with 3 Axes>"
              }
            ],
            "_view_module": "@jupyter-widgets/output",
            "_model_module_version": "1.0.0",
            "_view_count": null,
            "_view_module_version": "1.0.0",
            "layout": "IPY_MODEL_9c1ef78673f840218e78e91a176fa5d7",
            "_model_module": "@jupyter-widgets/output"
          }
        },
        "e362a61191e9427cb0440ac5126d0c17": {
          "model_module": "@jupyter-widgets/controls",
          "model_name": "SliderStyleModel",
          "state": {
            "_view_name": "StyleView",
            "handle_color": null,
            "_model_name": "SliderStyleModel",
            "description_width": "initial",
            "_view_module": "@jupyter-widgets/base",
            "_model_module_version": "1.5.0",
            "_view_count": null,
            "_view_module_version": "1.2.0",
            "_model_module": "@jupyter-widgets/controls"
          }
        },
        "dbffcab7605d49dab127d640fe7ab865": {
          "model_module": "@jupyter-widgets/base",
          "model_name": "LayoutModel",
          "state": {
            "_view_name": "LayoutView",
            "grid_template_rows": null,
            "right": null,
            "justify_content": null,
            "_view_module": "@jupyter-widgets/base",
            "overflow": null,
            "_model_module_version": "1.2.0",
            "_view_count": null,
            "flex_flow": null,
            "width": null,
            "min_width": null,
            "border": null,
            "align_items": null,
            "bottom": null,
            "_model_module": "@jupyter-widgets/base",
            "top": null,
            "grid_column": null,
            "overflow_y": null,
            "overflow_x": null,
            "grid_auto_flow": null,
            "grid_area": "widget002",
            "grid_template_columns": null,
            "flex": null,
            "_model_name": "LayoutModel",
            "justify_items": null,
            "grid_row": null,
            "max_height": null,
            "align_content": null,
            "visibility": null,
            "align_self": null,
            "height": null,
            "min_height": null,
            "padding": null,
            "grid_auto_rows": null,
            "grid_gap": null,
            "max_width": null,
            "order": null,
            "_view_module_version": "1.2.0",
            "grid_template_areas": null,
            "object_position": null,
            "object_fit": null,
            "grid_auto_columns": null,
            "margin": null,
            "display": null,
            "left": null
          }
        },
        "a680f68f95354a2d875a9545af276084": {
          "model_module": "@jupyter-widgets/controls",
          "model_name": "SliderStyleModel",
          "state": {
            "_view_name": "StyleView",
            "handle_color": null,
            "_model_name": "SliderStyleModel",
            "description_width": "initial",
            "_view_module": "@jupyter-widgets/base",
            "_model_module_version": "1.5.0",
            "_view_count": null,
            "_view_module_version": "1.2.0",
            "_model_module": "@jupyter-widgets/controls"
          }
        },
        "9367662a187c4a27b07b33b3f1aaa690": {
          "model_module": "@jupyter-widgets/base",
          "model_name": "LayoutModel",
          "state": {
            "_view_name": "LayoutView",
            "grid_template_rows": null,
            "right": null,
            "justify_content": null,
            "_view_module": "@jupyter-widgets/base",
            "overflow": null,
            "_model_module_version": "1.2.0",
            "_view_count": null,
            "flex_flow": null,
            "width": null,
            "min_width": null,
            "border": null,
            "align_items": null,
            "bottom": null,
            "_model_module": "@jupyter-widgets/base",
            "top": null,
            "grid_column": null,
            "overflow_y": null,
            "overflow_x": null,
            "grid_auto_flow": null,
            "grid_area": "widget003",
            "grid_template_columns": null,
            "flex": null,
            "_model_name": "LayoutModel",
            "justify_items": null,
            "grid_row": null,
            "max_height": null,
            "align_content": null,
            "visibility": null,
            "align_self": null,
            "height": null,
            "min_height": null,
            "padding": null,
            "grid_auto_rows": null,
            "grid_gap": null,
            "max_width": null,
            "order": null,
            "_view_module_version": "1.2.0",
            "grid_template_areas": null,
            "object_position": null,
            "object_fit": null,
            "grid_auto_columns": null,
            "margin": null,
            "display": null,
            "left": null
          }
        },
        "3cfa35257c314bff9f01531d4ec0a865": {
          "model_module": "@jupyter-widgets/controls",
          "model_name": "SliderStyleModel",
          "state": {
            "_view_name": "StyleView",
            "handle_color": null,
            "_model_name": "SliderStyleModel",
            "description_width": "",
            "_view_module": "@jupyter-widgets/base",
            "_model_module_version": "1.5.0",
            "_view_count": null,
            "_view_module_version": "1.2.0",
            "_model_module": "@jupyter-widgets/controls"
          }
        },
        "d134f7a0097445ab8a178bd037f7e8cb": {
          "model_module": "@jupyter-widgets/base",
          "model_name": "LayoutModel",
          "state": {
            "_view_name": "LayoutView",
            "grid_template_rows": null,
            "right": null,
            "justify_content": null,
            "_view_module": "@jupyter-widgets/base",
            "overflow": null,
            "_model_module_version": "1.2.0",
            "_view_count": null,
            "flex_flow": null,
            "width": null,
            "min_width": null,
            "border": null,
            "align_items": null,
            "bottom": null,
            "_model_module": "@jupyter-widgets/base",
            "top": null,
            "grid_column": null,
            "overflow_y": null,
            "overflow_x": null,
            "grid_auto_flow": null,
            "grid_area": "widget001",
            "grid_template_columns": null,
            "flex": null,
            "_model_name": "LayoutModel",
            "justify_items": null,
            "grid_row": null,
            "max_height": null,
            "align_content": null,
            "visibility": null,
            "align_self": null,
            "height": null,
            "min_height": null,
            "padding": null,
            "grid_auto_rows": null,
            "grid_gap": null,
            "max_width": null,
            "order": null,
            "_view_module_version": "1.2.0",
            "grid_template_areas": null,
            "object_position": null,
            "object_fit": null,
            "grid_auto_columns": null,
            "margin": null,
            "display": null,
            "left": null
          }
        },
        "9c1ef78673f840218e78e91a176fa5d7": {
          "model_module": "@jupyter-widgets/base",
          "model_name": "LayoutModel",
          "state": {
            "_view_name": "LayoutView",
            "grid_template_rows": null,
            "right": null,
            "justify_content": null,
            "_view_module": "@jupyter-widgets/base",
            "overflow": null,
            "_model_module_version": "1.2.0",
            "_view_count": null,
            "flex_flow": null,
            "width": null,
            "min_width": null,
            "border": null,
            "align_items": null,
            "bottom": null,
            "_model_module": "@jupyter-widgets/base",
            "top": null,
            "grid_column": null,
            "overflow_y": null,
            "overflow_x": null,
            "grid_auto_flow": null,
            "grid_area": null,
            "grid_template_columns": null,
            "flex": null,
            "_model_name": "LayoutModel",
            "justify_items": null,
            "grid_row": null,
            "max_height": null,
            "align_content": null,
            "visibility": null,
            "align_self": null,
            "height": null,
            "min_height": null,
            "padding": null,
            "grid_auto_rows": null,
            "grid_gap": null,
            "max_width": null,
            "order": null,
            "_view_module_version": "1.2.0",
            "grid_template_areas": null,
            "object_position": null,
            "object_fit": null,
            "grid_auto_columns": null,
            "margin": null,
            "display": null,
            "left": null
          }
        },
        "e8fcd480c0c240f8a0842e00827903b3": {
          "model_module": "@jupyter-widgets/controls",
          "model_name": "VBoxModel",
          "state": {
            "_view_name": "VBoxView",
            "_dom_classes": [
              "widget-interact"
            ],
            "_model_name": "VBoxModel",
            "_view_module": "@jupyter-widgets/controls",
            "_model_module_version": "1.5.0",
            "_view_count": null,
            "_view_module_version": "1.5.0",
            "box_style": "",
            "layout": "IPY_MODEL_1a47c22d8a834aa59d986b89d112efa6",
            "_model_module": "@jupyter-widgets/controls",
            "children": [
              "IPY_MODEL_3b4a06989d3d4d538b5197870b062e9f",
              "IPY_MODEL_4e3e28bc024d40cc8ea1f5508a84a05b",
              "IPY_MODEL_8538964a65314f2e83f6c424dc97f1ae",
              "IPY_MODEL_4e9dbb1445c047b79dbb6f5ff9bef1be",
              "IPY_MODEL_c512ecc718e94df2921f768a0a5b743f"
            ]
          }
        },
        "1a47c22d8a834aa59d986b89d112efa6": {
          "model_module": "@jupyter-widgets/base",
          "model_name": "LayoutModel",
          "state": {
            "_view_name": "LayoutView",
            "grid_template_rows": null,
            "right": null,
            "justify_content": null,
            "_view_module": "@jupyter-widgets/base",
            "overflow": null,
            "_model_module_version": "1.2.0",
            "_view_count": null,
            "flex_flow": null,
            "width": null,
            "min_width": null,
            "border": null,
            "align_items": null,
            "bottom": null,
            "_model_module": "@jupyter-widgets/base",
            "top": null,
            "grid_column": null,
            "overflow_y": null,
            "overflow_x": null,
            "grid_auto_flow": null,
            "grid_area": null,
            "grid_template_columns": null,
            "flex": null,
            "_model_name": "LayoutModel",
            "justify_items": null,
            "grid_row": null,
            "max_height": null,
            "align_content": null,
            "visibility": null,
            "align_self": null,
            "height": null,
            "min_height": null,
            "padding": null,
            "grid_auto_rows": null,
            "grid_gap": null,
            "max_width": null,
            "order": null,
            "_view_module_version": "1.2.0",
            "grid_template_areas": null,
            "object_position": null,
            "object_fit": null,
            "grid_auto_columns": null,
            "margin": null,
            "display": null,
            "left": null
          }
        },
        "3b4a06989d3d4d538b5197870b062e9f": {
          "model_module": "@jupyter-widgets/controls",
          "model_name": "FloatSliderModel",
          "state": {
            "_view_name": "FloatSliderView",
            "style": "IPY_MODEL_b2f888ad13da43a091dafaae84e37e2d",
            "_dom_classes": [],
            "description": "p(s = left)",
            "step": 0.01,
            "_model_name": "FloatSliderModel",
            "orientation": "horizontal",
            "max": 0.99,
            "_view_module": "@jupyter-widgets/controls",
            "_model_module_version": "1.5.0",
            "value": 0.3,
            "_view_count": null,
            "disabled": false,
            "_view_module_version": "1.5.0",
            "min": 0.01,
            "continuous_update": true,
            "readout_format": ".2f",
            "description_tooltip": null,
            "readout": true,
            "_model_module": "@jupyter-widgets/controls",
            "layout": "IPY_MODEL_f63c03abce394385b14ed8ec70cd70a0"
          }
        },
        "4e3e28bc024d40cc8ea1f5508a84a05b": {
          "model_module": "@jupyter-widgets/controls",
          "model_name": "FloatSliderModel",
          "state": {
            "_view_name": "FloatSliderView",
            "style": "IPY_MODEL_191af1c801ba4b3abc491fd880f57ff3",
            "_dom_classes": [],
            "description": "p(fish | s = left)",
            "step": 0.01,
            "_model_name": "FloatSliderModel",
            "orientation": "horizontal",
            "max": 0.99,
            "_view_module": "@jupyter-widgets/controls",
            "_model_module_version": "1.5.0",
            "value": 0.5,
            "_view_count": null,
            "disabled": false,
            "_view_module_version": "1.5.0",
            "min": 0.01,
            "continuous_update": true,
            "readout_format": ".2f",
            "description_tooltip": null,
            "readout": true,
            "_model_module": "@jupyter-widgets/controls",
            "layout": "IPY_MODEL_39c751aaec894ffe884d66928f0ff63b"
          }
        },
        "8538964a65314f2e83f6c424dc97f1ae": {
          "model_module": "@jupyter-widgets/controls",
          "model_name": "FloatSliderModel",
          "state": {
            "_view_name": "FloatSliderView",
            "style": "IPY_MODEL_2da5a3f0a840401b9bf0f99a5ab7c4cb",
            "_dom_classes": [],
            "description": "p(fish | s = right)",
            "step": 0.01,
            "_model_name": "FloatSliderModel",
            "orientation": "horizontal",
            "max": 0.99,
            "_view_module": "@jupyter-widgets/controls",
            "_model_module_version": "1.5.0",
            "value": 0.1,
            "_view_count": null,
            "disabled": false,
            "_view_module_version": "1.5.0",
            "min": 0.01,
            "continuous_update": true,
            "readout_format": ".2f",
            "description_tooltip": null,
            "readout": true,
            "_model_module": "@jupyter-widgets/controls",
            "layout": "IPY_MODEL_4db4616706f049fba54ff07c7e21ce69"
          }
        },
        "4e9dbb1445c047b79dbb6f5ff9bef1be": {
          "model_module": "@jupyter-widgets/controls",
          "model_name": "CheckboxModel",
          "state": {
            "_view_name": "CheckboxView",
            "style": "IPY_MODEL_6607280d80d448828f8dd68a87f6a659",
            "_dom_classes": [],
            "description": "Observed fish (m)",
            "_model_name": "CheckboxModel",
            "_view_module": "@jupyter-widgets/controls",
            "_model_module_version": "1.5.0",
            "value": false,
            "_view_count": null,
            "disabled": false,
            "_view_module_version": "1.5.0",
            "indent": false,
            "description_tooltip": null,
            "_model_module": "@jupyter-widgets/controls",
            "layout": "IPY_MODEL_36728ac83e71475189e395d1c28bf3ae"
          }
        },
        "c512ecc718e94df2921f768a0a5b743f": {
          "model_module": "@jupyter-widgets/output",
          "model_name": "OutputModel",
          "state": {
            "_view_name": "OutputView",
            "msg_id": "",
            "_dom_classes": [],
            "_model_name": "OutputModel",
            "outputs": [
              {
                "output_type": "display_data",
                "metadata": {
                  "tags": [],
                  "image/png": {
                    "width": 674,
                    "height": 310
                  },
                  "needs_background": "light"
                },
                "image/png": "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\n",
                "text/plain": "<Figure size 720x288 with 3 Axes>"
              }
            ],
            "_view_module": "@jupyter-widgets/output",
            "_model_module_version": "1.0.0",
            "_view_count": null,
            "_view_module_version": "1.0.0",
            "layout": "IPY_MODEL_372e19798a4040b1ad69949cc12fcf96",
            "_model_module": "@jupyter-widgets/output"
          }
        },
        "b2f888ad13da43a091dafaae84e37e2d": {
          "model_module": "@jupyter-widgets/controls",
          "model_name": "SliderStyleModel",
          "state": {
            "_view_name": "StyleView",
            "handle_color": null,
            "_model_name": "SliderStyleModel",
            "description_width": "",
            "_view_module": "@jupyter-widgets/base",
            "_model_module_version": "1.5.0",
            "_view_count": null,
            "_view_module_version": "1.2.0",
            "_model_module": "@jupyter-widgets/controls"
          }
        },
        "f63c03abce394385b14ed8ec70cd70a0": {
          "model_module": "@jupyter-widgets/base",
          "model_name": "LayoutModel",
          "state": {
            "_view_name": "LayoutView",
            "grid_template_rows": null,
            "right": null,
            "justify_content": null,
            "_view_module": "@jupyter-widgets/base",
            "overflow": null,
            "_model_module_version": "1.2.0",
            "_view_count": null,
            "flex_flow": null,
            "width": null,
            "min_width": null,
            "border": null,
            "align_items": null,
            "bottom": null,
            "_model_module": "@jupyter-widgets/base",
            "top": null,
            "grid_column": null,
            "overflow_y": null,
            "overflow_x": null,
            "grid_auto_flow": null,
            "grid_area": null,
            "grid_template_columns": null,
            "flex": null,
            "_model_name": "LayoutModel",
            "justify_items": null,
            "grid_row": null,
            "max_height": null,
            "align_content": null,
            "visibility": null,
            "align_self": null,
            "height": null,
            "min_height": null,
            "padding": null,
            "grid_auto_rows": null,
            "grid_gap": null,
            "max_width": null,
            "order": null,
            "_view_module_version": "1.2.0",
            "grid_template_areas": null,
            "object_position": null,
            "object_fit": null,
            "grid_auto_columns": null,
            "margin": null,
            "display": null,
            "left": null
          }
        },
        "191af1c801ba4b3abc491fd880f57ff3": {
          "model_module": "@jupyter-widgets/controls",
          "model_name": "SliderStyleModel",
          "state": {
            "_view_name": "StyleView",
            "handle_color": null,
            "_model_name": "SliderStyleModel",
            "description_width": "initial",
            "_view_module": "@jupyter-widgets/base",
            "_model_module_version": "1.5.0",
            "_view_count": null,
            "_view_module_version": "1.2.0",
            "_model_module": "@jupyter-widgets/controls"
          }
        },
        "39c751aaec894ffe884d66928f0ff63b": {
          "model_module": "@jupyter-widgets/base",
          "model_name": "LayoutModel",
          "state": {
            "_view_name": "LayoutView",
            "grid_template_rows": null,
            "right": null,
            "justify_content": null,
            "_view_module": "@jupyter-widgets/base",
            "overflow": null,
            "_model_module_version": "1.2.0",
            "_view_count": null,
            "flex_flow": null,
            "width": null,
            "min_width": null,
            "border": null,
            "align_items": null,
            "bottom": null,
            "_model_module": "@jupyter-widgets/base",
            "top": null,
            "grid_column": null,
            "overflow_y": null,
            "overflow_x": null,
            "grid_auto_flow": null,
            "grid_area": null,
            "grid_template_columns": null,
            "flex": null,
            "_model_name": "LayoutModel",
            "justify_items": null,
            "grid_row": null,
            "max_height": null,
            "align_content": null,
            "visibility": null,
            "align_self": null,
            "height": null,
            "min_height": null,
            "padding": null,
            "grid_auto_rows": null,
            "grid_gap": null,
            "max_width": null,
            "order": null,
            "_view_module_version": "1.2.0",
            "grid_template_areas": null,
            "object_position": null,
            "object_fit": null,
            "grid_auto_columns": null,
            "margin": null,
            "display": null,
            "left": null
          }
        },
        "2da5a3f0a840401b9bf0f99a5ab7c4cb": {
          "model_module": "@jupyter-widgets/controls",
          "model_name": "SliderStyleModel",
          "state": {
            "_view_name": "StyleView",
            "handle_color": null,
            "_model_name": "SliderStyleModel",
            "description_width": "initial",
            "_view_module": "@jupyter-widgets/base",
            "_model_module_version": "1.5.0",
            "_view_count": null,
            "_view_module_version": "1.2.0",
            "_model_module": "@jupyter-widgets/controls"
          }
        },
        "4db4616706f049fba54ff07c7e21ce69": {
          "model_module": "@jupyter-widgets/base",
          "model_name": "LayoutModel",
          "state": {
            "_view_name": "LayoutView",
            "grid_template_rows": null,
            "right": null,
            "justify_content": null,
            "_view_module": "@jupyter-widgets/base",
            "overflow": null,
            "_model_module_version": "1.2.0",
            "_view_count": null,
            "flex_flow": null,
            "width": null,
            "min_width": null,
            "border": null,
            "align_items": null,
            "bottom": null,
            "_model_module": "@jupyter-widgets/base",
            "top": null,
            "grid_column": null,
            "overflow_y": null,
            "overflow_x": null,
            "grid_auto_flow": null,
            "grid_area": null,
            "grid_template_columns": null,
            "flex": null,
            "_model_name": "LayoutModel",
            "justify_items": null,
            "grid_row": null,
            "max_height": null,
            "align_content": null,
            "visibility": null,
            "align_self": null,
            "height": null,
            "min_height": null,
            "padding": null,
            "grid_auto_rows": null,
            "grid_gap": null,
            "max_width": null,
            "order": null,
            "_view_module_version": "1.2.0",
            "grid_template_areas": null,
            "object_position": null,
            "object_fit": null,
            "grid_auto_columns": null,
            "margin": null,
            "display": null,
            "left": null
          }
        },
        "6607280d80d448828f8dd68a87f6a659": {
          "model_module": "@jupyter-widgets/controls",
          "model_name": "DescriptionStyleModel",
          "state": {
            "_view_name": "StyleView",
            "_model_name": "DescriptionStyleModel",
            "description_width": "",
            "_view_module": "@jupyter-widgets/base",
            "_model_module_version": "1.5.0",
            "_view_count": null,
            "_view_module_version": "1.2.0",
            "_model_module": "@jupyter-widgets/controls"
          }
        },
        "36728ac83e71475189e395d1c28bf3ae": {
          "model_module": "@jupyter-widgets/base",
          "model_name": "LayoutModel",
          "state": {
            "_view_name": "LayoutView",
            "grid_template_rows": null,
            "right": null,
            "justify_content": null,
            "_view_module": "@jupyter-widgets/base",
            "overflow": null,
            "_model_module_version": "1.2.0",
            "_view_count": null,
            "flex_flow": null,
            "width": "max-content",
            "min_width": null,
            "border": null,
            "align_items": null,
            "bottom": null,
            "_model_module": "@jupyter-widgets/base",
            "top": null,
            "grid_column": null,
            "overflow_y": null,
            "overflow_x": null,
            "grid_auto_flow": null,
            "grid_area": null,
            "grid_template_columns": null,
            "flex": null,
            "_model_name": "LayoutModel",
            "justify_items": null,
            "grid_row": null,
            "max_height": null,
            "align_content": null,
            "visibility": null,
            "align_self": null,
            "height": null,
            "min_height": null,
            "padding": null,
            "grid_auto_rows": null,
            "grid_gap": null,
            "max_width": null,
            "order": null,
            "_view_module_version": "1.2.0",
            "grid_template_areas": null,
            "object_position": null,
            "object_fit": null,
            "grid_auto_columns": null,
            "margin": null,
            "display": null,
            "left": null
          }
        },
        "372e19798a4040b1ad69949cc12fcf96": {
          "model_module": "@jupyter-widgets/base",
          "model_name": "LayoutModel",
          "state": {
            "_view_name": "LayoutView",
            "grid_template_rows": null,
            "right": null,
            "justify_content": null,
            "_view_module": "@jupyter-widgets/base",
            "overflow": null,
            "_model_module_version": "1.2.0",
            "_view_count": null,
            "flex_flow": null,
            "width": null,
            "min_width": null,
            "border": null,
            "align_items": null,
            "bottom": null,
            "_model_module": "@jupyter-widgets/base",
            "top": null,
            "grid_column": null,
            "overflow_y": null,
            "overflow_x": null,
            "grid_auto_flow": null,
            "grid_area": null,
            "grid_template_columns": null,
            "flex": null,
            "_model_name": "LayoutModel",
            "justify_items": null,
            "grid_row": null,
            "max_height": null,
            "align_content": null,
            "visibility": null,
            "align_self": null,
            "height": null,
            "min_height": null,
            "padding": null,
            "grid_auto_rows": null,
            "grid_gap": null,
            "max_width": null,
            "order": null,
            "_view_module_version": "1.2.0",
            "grid_template_areas": null,
            "object_position": null,
            "object_fit": null,
            "grid_auto_columns": null,
            "margin": null,
            "display": null,
            "left": null
          }
        },
        "946efb3ce7cd4655ad60e98422615ca0": {
          "model_module": "@jupyter-widgets/controls",
          "model_name": "HBoxModel",
          "state": {
            "_view_name": "HBoxView",
            "_dom_classes": [],
            "_model_name": "HBoxModel",
            "_view_module": "@jupyter-widgets/controls",
            "_model_module_version": "1.5.0",
            "_view_count": null,
            "_view_module_version": "1.5.0",
            "box_style": "",
            "layout": "IPY_MODEL_d6720e4bf4dc445b8031f4966f7ede45",
            "_model_module": "@jupyter-widgets/controls",
            "children": [
              "IPY_MODEL_f878e49c9db543098d55dd71acb1893c",
              "IPY_MODEL_589c138de2234dc1b3eca4c571fda8e6"
            ]
          }
        },
        "d6720e4bf4dc445b8031f4966f7ede45": {
          "model_module": "@jupyter-widgets/base",
          "model_name": "LayoutModel",
          "state": {
            "_view_name": "LayoutView",
            "grid_template_rows": null,
            "right": null,
            "justify_content": null,
            "_view_module": "@jupyter-widgets/base",
            "overflow": null,
            "_model_module_version": "1.2.0",
            "_view_count": null,
            "flex_flow": null,
            "width": null,
            "min_width": null,
            "border": null,
            "align_items": null,
            "bottom": null,
            "_model_module": "@jupyter-widgets/base",
            "top": null,
            "grid_column": null,
            "overflow_y": null,
            "overflow_x": null,
            "grid_auto_flow": null,
            "grid_area": null,
            "grid_template_columns": null,
            "flex": null,
            "_model_name": "LayoutModel",
            "justify_items": null,
            "grid_row": null,
            "max_height": null,
            "align_content": null,
            "visibility": null,
            "align_self": null,
            "height": null,
            "min_height": null,
            "padding": null,
            "grid_auto_rows": null,
            "grid_gap": null,
            "max_width": null,
            "order": null,
            "_view_module_version": "1.2.0",
            "grid_template_areas": null,
            "object_position": null,
            "object_fit": null,
            "grid_auto_columns": null,
            "margin": null,
            "display": null,
            "left": null
          }
        },
        "f878e49c9db543098d55dd71acb1893c": {
          "model_module": "@jupyter-widgets/controls",
          "model_name": "VBoxModel",
          "state": {
            "_view_name": "VBoxView",
            "_dom_classes": [],
            "_model_name": "VBoxModel",
            "_view_module": "@jupyter-widgets/controls",
            "_model_module_version": "1.5.0",
            "_view_count": null,
            "_view_module_version": "1.5.0",
            "box_style": "",
            "layout": "IPY_MODEL_03ff23aa15a348d68907e96f40938739",
            "_model_module": "@jupyter-widgets/controls",
            "children": [
              "IPY_MODEL_f6f334e44cb245189e104e3d8cbdeef3",
              "IPY_MODEL_afacdfd29aae40c0a1e34ce4ce5bc730"
            ]
          }
        },
        "589c138de2234dc1b3eca4c571fda8e6": {
          "model_module": "@jupyter-widgets/controls",
          "model_name": "VBoxModel",
          "state": {
            "_view_name": "VBoxView",
            "_dom_classes": [],
            "_model_name": "VBoxModel",
            "_view_module": "@jupyter-widgets/controls",
            "_model_module_version": "1.5.0",
            "_view_count": null,
            "_view_module_version": "1.5.0",
            "box_style": "",
            "layout": "IPY_MODEL_b693c64062114ca0b082b98bddd1ecb5",
            "_model_module": "@jupyter-widgets/controls",
            "children": [
              "IPY_MODEL_210f869ce23e479891294030c9306a11",
              "IPY_MODEL_4cd0780bcc7b4af09d17d3c6acb20fbd"
            ]
          }
        },
        "03ff23aa15a348d68907e96f40938739": {
          "model_module": "@jupyter-widgets/base",
          "model_name": "LayoutModel",
          "state": {
            "_view_name": "LayoutView",
            "grid_template_rows": null,
            "right": null,
            "justify_content": null,
            "_view_module": "@jupyter-widgets/base",
            "overflow": null,
            "_model_module_version": "1.2.0",
            "_view_count": null,
            "flex_flow": null,
            "width": null,
            "min_width": null,
            "border": null,
            "align_items": null,
            "bottom": null,
            "_model_module": "@jupyter-widgets/base",
            "top": null,
            "grid_column": null,
            "overflow_y": null,
            "overflow_x": null,
            "grid_auto_flow": null,
            "grid_area": null,
            "grid_template_columns": null,
            "flex": null,
            "_model_name": "LayoutModel",
            "justify_items": null,
            "grid_row": null,
            "max_height": null,
            "align_content": null,
            "visibility": null,
            "align_self": null,
            "height": null,
            "min_height": null,
            "padding": null,
            "grid_auto_rows": null,
            "grid_gap": null,
            "max_width": null,
            "order": null,
            "_view_module_version": "1.2.0",
            "grid_template_areas": null,
            "object_position": null,
            "object_fit": null,
            "grid_auto_columns": null,
            "margin": null,
            "display": null,
            "left": null
          }
        },
        "f6f334e44cb245189e104e3d8cbdeef3": {
          "model_module": "@jupyter-widgets/controls",
          "model_name": "FloatSliderModel",
          "state": {
            "_view_name": "FloatSliderView",
            "style": "IPY_MODEL_1c09d00b1d944c708adfed84749f023e",
            "_dom_classes": [],
            "description": "p(s)",
            "step": 0.01,
            "_model_name": "FloatSliderModel",
            "orientation": "horizontal",
            "max": 0.99,
            "_view_module": "@jupyter-widgets/controls",
            "_model_module_version": "1.5.0",
            "value": 0.3,
            "_view_count": null,
            "disabled": false,
            "_view_module_version": "1.5.0",
            "min": 0.01,
            "continuous_update": true,
            "readout_format": ".2f",
            "description_tooltip": null,
            "readout": true,
            "_model_module": "@jupyter-widgets/controls",
            "layout": "IPY_MODEL_48dc26fdacb44a3584ff44873774fc7a"
          }
        },
        "afacdfd29aae40c0a1e34ce4ce5bc730": {
          "model_module": "@jupyter-widgets/controls",
          "model_name": "CheckboxModel",
          "state": {
            "_view_name": "CheckboxView",
            "style": "IPY_MODEL_fcada24b47f94d44b5d25ed7fab5a8dd",
            "_dom_classes": [],
            "description": "Observed fish (m)",
            "_model_name": "CheckboxModel",
            "_view_module": "@jupyter-widgets/controls",
            "_model_module_version": "1.5.0",
            "value": false,
            "_view_count": null,
            "disabled": false,
            "_view_module_version": "1.5.0",
            "indent": false,
            "description_tooltip": null,
            "_model_module": "@jupyter-widgets/controls",
            "layout": "IPY_MODEL_2cc67853b2ab47ee86d691ae128ee448"
          }
        },
        "b693c64062114ca0b082b98bddd1ecb5": {
          "model_module": "@jupyter-widgets/base",
          "model_name": "LayoutModel",
          "state": {
            "_view_name": "LayoutView",
            "grid_template_rows": null,
            "right": null,
            "justify_content": null,
            "_view_module": "@jupyter-widgets/base",
            "overflow": null,
            "_model_module_version": "1.2.0",
            "_view_count": null,
            "flex_flow": null,
            "width": null,
            "min_width": null,
            "border": null,
            "align_items": null,
            "bottom": null,
            "_model_module": "@jupyter-widgets/base",
            "top": null,
            "grid_column": null,
            "overflow_y": null,
            "overflow_x": null,
            "grid_auto_flow": null,
            "grid_area": null,
            "grid_template_columns": null,
            "flex": null,
            "_model_name": "LayoutModel",
            "justify_items": null,
            "grid_row": null,
            "max_height": null,
            "align_content": null,
            "visibility": null,
            "align_self": null,
            "height": null,
            "min_height": null,
            "padding": null,
            "grid_auto_rows": null,
            "grid_gap": null,
            "max_width": null,
            "order": null,
            "_view_module_version": "1.2.0",
            "grid_template_areas": null,
            "object_position": null,
            "object_fit": null,
            "grid_auto_columns": null,
            "margin": null,
            "display": null,
            "left": null
          }
        },
        "210f869ce23e479891294030c9306a11": {
          "model_module": "@jupyter-widgets/controls",
          "model_name": "FloatSliderModel",
          "state": {
            "_view_name": "FloatSliderView",
            "style": "IPY_MODEL_2c4bf9b3b30e4386a12849e8eeffd680",
            "_dom_classes": [],
            "description": "p(fish | s = left)",
            "step": 0.01,
            "_model_name": "FloatSliderModel",
            "orientation": "horizontal",
            "max": 0.99,
            "_view_module": "@jupyter-widgets/controls",
            "_model_module_version": "1.5.0",
            "value": 0.5,
            "_view_count": null,
            "disabled": false,
            "_view_module_version": "1.5.0",
            "min": 0.01,
            "continuous_update": true,
            "readout_format": ".2f",
            "description_tooltip": null,
            "readout": true,
            "_model_module": "@jupyter-widgets/controls",
            "layout": "IPY_MODEL_4c1c9626771549878fbe10735bdc8061"
          }
        },
        "4cd0780bcc7b4af09d17d3c6acb20fbd": {
          "model_module": "@jupyter-widgets/controls",
          "model_name": "FloatSliderModel",
          "state": {
            "_view_name": "FloatSliderView",
            "style": "IPY_MODEL_64e2a761f28b43b69b6236692483c3f0",
            "_dom_classes": [],
            "description": "p(fish | s = right)",
            "step": 0.01,
            "_model_name": "FloatSliderModel",
            "orientation": "horizontal",
            "max": 0.99,
            "_view_module": "@jupyter-widgets/controls",
            "_model_module_version": "1.5.0",
            "value": 0.1,
            "_view_count": null,
            "disabled": false,
            "_view_module_version": "1.5.0",
            "min": 0.01,
            "continuous_update": true,
            "readout_format": ".2f",
            "description_tooltip": null,
            "readout": true,
            "_model_module": "@jupyter-widgets/controls",
            "layout": "IPY_MODEL_4c89c9b207ce4d71b5b314dd37003e1d"
          }
        },
        "1c09d00b1d944c708adfed84749f023e": {
          "model_module": "@jupyter-widgets/controls",
          "model_name": "SliderStyleModel",
          "state": {
            "_view_name": "StyleView",
            "handle_color": null,
            "_model_name": "SliderStyleModel",
            "description_width": "",
            "_view_module": "@jupyter-widgets/base",
            "_model_module_version": "1.5.0",
            "_view_count": null,
            "_view_module_version": "1.2.0",
            "_model_module": "@jupyter-widgets/controls"
          }
        },
        "48dc26fdacb44a3584ff44873774fc7a": {
          "model_module": "@jupyter-widgets/base",
          "model_name": "LayoutModel",
          "state": {
            "_view_name": "LayoutView",
            "grid_template_rows": null,
            "right": null,
            "justify_content": null,
            "_view_module": "@jupyter-widgets/base",
            "overflow": null,
            "_model_module_version": "1.2.0",
            "_view_count": null,
            "flex_flow": null,
            "width": null,
            "min_width": null,
            "border": null,
            "align_items": null,
            "bottom": null,
            "_model_module": "@jupyter-widgets/base",
            "top": null,
            "grid_column": null,
            "overflow_y": null,
            "overflow_x": null,
            "grid_auto_flow": null,
            "grid_area": null,
            "grid_template_columns": null,
            "flex": null,
            "_model_name": "LayoutModel",
            "justify_items": null,
            "grid_row": null,
            "max_height": null,
            "align_content": null,
            "visibility": null,
            "align_self": null,
            "height": null,
            "min_height": null,
            "padding": null,
            "grid_auto_rows": null,
            "grid_gap": null,
            "max_width": null,
            "order": null,
            "_view_module_version": "1.2.0",
            "grid_template_areas": null,
            "object_position": null,
            "object_fit": null,
            "grid_auto_columns": null,
            "margin": null,
            "display": null,
            "left": null
          }
        },
        "fcada24b47f94d44b5d25ed7fab5a8dd": {
          "model_module": "@jupyter-widgets/controls",
          "model_name": "DescriptionStyleModel",
          "state": {
            "_view_name": "StyleView",
            "_model_name": "DescriptionStyleModel",
            "description_width": "",
            "_view_module": "@jupyter-widgets/base",
            "_model_module_version": "1.5.0",
            "_view_count": null,
            "_view_module_version": "1.2.0",
            "_model_module": "@jupyter-widgets/controls"
          }
        },
        "2cc67853b2ab47ee86d691ae128ee448": {
          "model_module": "@jupyter-widgets/base",
          "model_name": "LayoutModel",
          "state": {
            "_view_name": "LayoutView",
            "grid_template_rows": null,
            "right": null,
            "justify_content": null,
            "_view_module": "@jupyter-widgets/base",
            "overflow": null,
            "_model_module_version": "1.2.0",
            "_view_count": null,
            "flex_flow": null,
            "width": "max-content",
            "min_width": null,
            "border": null,
            "align_items": null,
            "bottom": null,
            "_model_module": "@jupyter-widgets/base",
            "top": null,
            "grid_column": null,
            "overflow_y": null,
            "overflow_x": null,
            "grid_auto_flow": null,
            "grid_area": null,
            "grid_template_columns": null,
            "flex": null,
            "_model_name": "LayoutModel",
            "justify_items": null,
            "grid_row": null,
            "max_height": null,
            "align_content": null,
            "visibility": null,
            "align_self": null,
            "height": null,
            "min_height": null,
            "padding": null,
            "grid_auto_rows": null,
            "grid_gap": null,
            "max_width": null,
            "order": null,
            "_view_module_version": "1.2.0",
            "grid_template_areas": null,
            "object_position": null,
            "object_fit": null,
            "grid_auto_columns": null,
            "margin": null,
            "display": null,
            "left": null
          }
        },
        "2c4bf9b3b30e4386a12849e8eeffd680": {
          "model_module": "@jupyter-widgets/controls",
          "model_name": "SliderStyleModel",
          "state": {
            "_view_name": "StyleView",
            "handle_color": null,
            "_model_name": "SliderStyleModel",
            "description_width": "initial",
            "_view_module": "@jupyter-widgets/base",
            "_model_module_version": "1.5.0",
            "_view_count": null,
            "_view_module_version": "1.2.0",
            "_model_module": "@jupyter-widgets/controls"
          }
        },
        "4c1c9626771549878fbe10735bdc8061": {
          "model_module": "@jupyter-widgets/base",
          "model_name": "LayoutModel",
          "state": {
            "_view_name": "LayoutView",
            "grid_template_rows": null,
            "right": null,
            "justify_content": null,
            "_view_module": "@jupyter-widgets/base",
            "overflow": null,
            "_model_module_version": "1.2.0",
            "_view_count": null,
            "flex_flow": null,
            "width": null,
            "min_width": null,
            "border": null,
            "align_items": null,
            "bottom": null,
            "_model_module": "@jupyter-widgets/base",
            "top": null,
            "grid_column": null,
            "overflow_y": null,
            "overflow_x": null,
            "grid_auto_flow": null,
            "grid_area": null,
            "grid_template_columns": null,
            "flex": null,
            "_model_name": "LayoutModel",
            "justify_items": null,
            "grid_row": null,
            "max_height": null,
            "align_content": null,
            "visibility": null,
            "align_self": null,
            "height": null,
            "min_height": null,
            "padding": null,
            "grid_auto_rows": null,
            "grid_gap": null,
            "max_width": null,
            "order": null,
            "_view_module_version": "1.2.0",
            "grid_template_areas": null,
            "object_position": null,
            "object_fit": null,
            "grid_auto_columns": null,
            "margin": null,
            "display": null,
            "left": null
          }
        },
        "64e2a761f28b43b69b6236692483c3f0": {
          "model_module": "@jupyter-widgets/controls",
          "model_name": "SliderStyleModel",
          "state": {
            "_view_name": "StyleView",
            "handle_color": null,
            "_model_name": "SliderStyleModel",
            "description_width": "initial",
            "_view_module": "@jupyter-widgets/base",
            "_model_module_version": "1.5.0",
            "_view_count": null,
            "_view_module_version": "1.2.0",
            "_model_module": "@jupyter-widgets/controls"
          }
        },
        "4c89c9b207ce4d71b5b314dd37003e1d": {
          "model_module": "@jupyter-widgets/base",
          "model_name": "LayoutModel",
          "state": {
            "_view_name": "LayoutView",
            "grid_template_rows": null,
            "right": null,
            "justify_content": null,
            "_view_module": "@jupyter-widgets/base",
            "overflow": null,
            "_model_module_version": "1.2.0",
            "_view_count": null,
            "flex_flow": null,
            "width": null,
            "min_width": null,
            "border": null,
            "align_items": null,
            "bottom": null,
            "_model_module": "@jupyter-widgets/base",
            "top": null,
            "grid_column": null,
            "overflow_y": null,
            "overflow_x": null,
            "grid_auto_flow": null,
            "grid_area": null,
            "grid_template_columns": null,
            "flex": null,
            "_model_name": "LayoutModel",
            "justify_items": null,
            "grid_row": null,
            "max_height": null,
            "align_content": null,
            "visibility": null,
            "align_self": null,
            "height": null,
            "min_height": null,
            "padding": null,
            "grid_auto_rows": null,
            "grid_gap": null,
            "max_width": null,
            "order": null,
            "_view_module_version": "1.2.0",
            "grid_template_areas": null,
            "object_position": null,
            "object_fit": null,
            "grid_auto_columns": null,
            "margin": null,
            "display": null,
            "left": null
          }
        },
        "b37af99f5b5b45428358812ca30900d2": {
          "model_module": "@jupyter-widgets/output",
          "model_name": "OutputModel",
          "state": {
            "_view_name": "OutputView",
            "msg_id": "",
            "_dom_classes": [],
            "_model_name": "OutputModel",
            "outputs": [
              {
                "output_type": "display_data",
                "metadata": {
                  "tags": [],
                  "image/png": {
                    "width": 682,
                    "height": 543
                  },
                  "needs_background": "light"
                },
                "image/png": "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\n",
                "text/plain": "<Figure size 720x576 with 5 Axes>"
              }
            ],
            "_view_module": "@jupyter-widgets/output",
            "_model_module_version": "1.0.0",
            "_view_count": null,
            "_view_module_version": "1.0.0",
            "layout": "IPY_MODEL_1f148bebfcbf4cf1be54749cd874a3f8",
            "_model_module": "@jupyter-widgets/output"
          }
        },
        "1f148bebfcbf4cf1be54749cd874a3f8": {
          "model_module": "@jupyter-widgets/base",
          "model_name": "LayoutModel",
          "state": {
            "_view_name": "LayoutView",
            "grid_template_rows": null,
            "right": null,
            "justify_content": null,
            "_view_module": "@jupyter-widgets/base",
            "overflow": null,
            "_model_module_version": "1.2.0",
            "_view_count": null,
            "flex_flow": null,
            "width": null,
            "min_width": null,
            "border": null,
            "align_items": null,
            "bottom": null,
            "_model_module": "@jupyter-widgets/base",
            "top": null,
            "grid_column": null,
            "overflow_y": null,
            "overflow_x": null,
            "grid_auto_flow": null,
            "grid_area": null,
            "grid_template_columns": null,
            "flex": null,
            "_model_name": "LayoutModel",
            "justify_items": null,
            "grid_row": null,
            "max_height": null,
            "align_content": null,
            "visibility": null,
            "align_self": null,
            "height": null,
            "min_height": null,
            "padding": null,
            "grid_auto_rows": null,
            "grid_gap": null,
            "max_width": null,
            "order": null,
            "_view_module_version": "1.2.0",
            "grid_template_areas": null,
            "object_position": null,
            "object_fit": null,
            "grid_auto_columns": null,
            "margin": null,
            "display": null,
            "left": null
          }
        }
      }
    }
  },
  "cells": [
    {
      "cell_type": "markdown",
      "metadata": {
        "id": "view-in-github",
        "colab_type": "text"
      },
      "source": [
        "<a href=\"https://colab.research.google.com/github/eejd/course-content/blob/master/tutorials/W3D1_BayesianDecisions/W3D1_Tutorial1.ipynb\" target=\"_parent\"><img src=\"https://colab.research.google.com/assets/colab-badge.svg\" alt=\"Open In Colab\"/></a>"
      ]
    },
    {
      "cell_type": "markdown",
      "metadata": {
        "id": "7j78m6FUt0B5"
      },
      "source": [
        "# Tutorial 1: Bayes with a binary hidden state\n",
        "**Week 3, Day 1: Bayesian Decisions**\n",
        "\n",
        "**By Neuromatch Academy**\n",
        "\n",
        "__Content creators:__ Eric DeWitt, Xaq Pitkow, Ella Batty, Saeed Salehi\n",
        "\n",
        "__Content reviewers:__ "
      ]
    },
    {
      "cell_type": "markdown",
      "metadata": {
        "id": "s-yHhju-t0B6"
      },
      "source": [
        "**Our 2021 Sponsors, including Presenting Sponsor Facebook Reality Labs**\n",
        "\n",
        "<p align='center'><img src='https://github.com/NeuromatchAcademy/widgets/blob/master/sponsors.png?raw=True'/></p>"
      ]
    },
    {
      "cell_type": "markdown",
      "metadata": {
        "id": "uNXtkhEVt0B6"
      },
      "source": [
        "# Tutorial Objectives\n",
        "This is the first of two core tutorials on Bayesian statistics. In these tutorials, we will explore the fundemental concepts of the Bayesian approach. In this tutorial you will work through an example of Bayesian inference and decision making using a binary hidden state. The second tutorial extends these concepts to a continuous hidden state. In the related NMA days, each of these basic ideas will be extended. In Hidden Dynamics, we consider these idea through time as you explore what happens when we infere a hidden state using repeated observations and when the hidden state changes across time. In the Optimal Control day, we will introduce the notion of how to use inference and decisions to select actions for optimal control.\n",
        "\n",
        "This notebook will introduce the fundamental building blocks for Bayesian statistics: \n",
        "\n",
        "1. How do we combine the possible loss (or gain) for making a decision with our probabilitic knowledge?\n",
        "2. How do we use probability distributions to represent hidden states?\n",
        "3. How does marginalization work and how can we use it?\n",
        "4. How do we combine new information with our prior knowledge? "
      ]
    },
    {
      "cell_type": "code",
      "metadata": {
        "cellView": "form",
        "execution": {
          "iopub.execute_input": "2021-06-25T15:15:26.250647Z",
          "iopub.status.busy": "2021-06-25T15:15:26.250126Z",
          "iopub.status.idle": "2021-06-25T15:15:26.382494Z",
          "shell.execute_reply": "2021-06-25T15:15:26.381532Z"
        },
        "id": "ALgjQlhAt0B7",
        "colab": {
          "base_uri": "https://localhost:8080/",
          "height": 580,
          "referenced_widgets": [
            "2bf11a2feda8433882db07acb3a27b11",
            "d0812ccd4ddf4cce8e173526d7b507f1",
            "2cfdc5bdb19b48a3903502aaa0398cdf",
            "81b6230e13d94826b4d90343bba113e9",
            "594682b8a82548fba62fe236fde1fe25",
            "1d5cfcb36f1847b4ab2c6cec932caf12"
          ]
        },
        "outputId": "035e05af-c4e5-4ef4-b9c9-530bfe57a11b"
      },
      "source": [
        "# @title Video 1: Introduction to Bayesian Statistics and Decisions\n",
        "from ipywidgets import widgets\n",
        "\n",
        "out2 = widgets.Output()\n",
        "with out2:\n",
        "  from IPython.display import IFrame\n",
        "  class BiliVideo(IFrame):\n",
        "      def __init__(self, id, page=1, width=400, height=300, **kwargs):\n",
        "          self.id=id\n",
        "          src = 'https://player.bilibili.com/player.html?bvid={0}&page={1}'.format(id, page)\n",
        "          super(BiliVideo, self).__init__(src, width, height, **kwargs)\n",
        "\n",
        "  video = BiliVideo(id=\"\", width=854, height=480, fs=1)\n",
        "  print('Video available at https://www.bilibili.com/video/{0}'.format(video.id))\n",
        "  display(video)\n",
        "\n",
        "out1 = widgets.Output()\n",
        "with out1:\n",
        "  from IPython.display import YouTubeVideo\n",
        "  video = YouTubeVideo(id=\"JiEIn9QsrFg\", width=854, height=480, fs=1, rel=0)\n",
        "  print('Video available at https://youtube.com/watch?v=' + video.id)\n",
        "  display(video)\n",
        "\n",
        "out = widgets.Tab([out1, out2])\n",
        "out.set_title(0, 'Youtube')\n",
        "out.set_title(1, 'Bilibili')\n",
        "\n",
        "display(out)"
      ],
      "execution_count": 1,
      "outputs": [
        {
          "output_type": "display_data",
          "data": {
            "application/vnd.jupyter.widget-view+json": {
              "model_id": "2bf11a2feda8433882db07acb3a27b11",
              "version_minor": 0,
              "version_major": 2
            },
            "text/plain": [
              "Tab(children=(Output(), Output()), _titles={'0': 'Youtube', '1': 'Bilibili'})"
            ]
          },
          "metadata": {
            "tags": []
          }
        }
      ]
    },
    {
      "cell_type": "markdown",
      "metadata": {
        "id": "-MJ_wgJht0B8"
      },
      "source": [
        "## Setup  \n",
        "Please execute the cells below to initialize the notebook environment."
      ]
    },
    {
      "cell_type": "code",
      "metadata": {
        "execution": {
          "iopub.execute_input": "2021-06-25T15:15:26.396114Z",
          "iopub.status.busy": "2021-06-25T15:15:26.395542Z",
          "iopub.status.idle": "2021-06-25T15:15:26.779072Z",
          "shell.execute_reply": "2021-06-25T15:15:26.779955Z"
        },
        "id": "iM_SevC3t0B8"
      },
      "source": [
        "import numpy as np\n",
        "import matplotlib.pyplot as plt\n",
        "from matplotlib import patches\n",
        "from matplotlib import transforms\n",
        "from matplotlib import gridspec\n",
        "from scipy.optimize import fsolve\n",
        "\n",
        "from collections import namedtuple"
      ],
      "execution_count": 2,
      "outputs": []
    },
    {
      "cell_type": "code",
      "metadata": {
        "execution": {
          "iopub.execute_input": "2021-06-25T15:15:26.783374Z",
          "iopub.status.busy": "2021-06-25T15:15:26.782267Z",
          "iopub.status.idle": "2021-06-25T15:15:26.826729Z",
          "shell.execute_reply": "2021-06-25T15:15:26.827529Z"
        },
        "id": "hT6l6OOUt0B8",
        "cellView": "form"
      },
      "source": [
        "#@title Figure Settings\n",
        "import ipywidgets as widgets       # interactive display\n",
        "from ipywidgets import GridspecLayout, HBox, VBox, FloatSlider, Layout\n",
        "from ipywidgets import interactive, interactive_output, Checkbox\n",
        "from IPython.display import clear_output\n",
        "%config InlineBackend.figure_format = 'retina'\n",
        "plt.style.use(\"https://raw.githubusercontent.com/NeuromatchAcademy/course-content/master/nma.mplstyle\")\n",
        "\n",
        "import warnings\n",
        "warnings.filterwarnings(\"ignore\")"
      ],
      "execution_count": 3,
      "outputs": []
    },
    {
      "cell_type": "code",
      "metadata": {
        "execution": {
          "iopub.execute_input": "2021-06-25T15:15:26.831991Z",
          "iopub.status.busy": "2021-06-25T15:15:26.830372Z",
          "iopub.status.idle": "2021-06-25T15:15:26.901682Z",
          "shell.execute_reply": "2021-06-25T15:15:26.901183Z"
        },
        "id": "7HmFDFOAt0B9",
        "cellView": "form"
      },
      "source": [
        "# @title Plotting Functions\n",
        "\n",
        "def plot_joint_probs(P, ):\n",
        "    assert np.all(P >= 0), \"probabilities should be >= 0\"\n",
        "    # normalize if not\n",
        "    P = P / np.sum(P)\n",
        "    marginal_y = np.sum(P,axis=1)\n",
        "    marginal_x = np.sum(P,axis=0)\n",
        "\n",
        "    # definitions for the axes\n",
        "    left, width = 0.1, 0.65\n",
        "    bottom, height = 0.1, 0.65\n",
        "    spacing = 0.005\n",
        "\n",
        "    # start with a square Figure\n",
        "    fig = plt.figure(figsize=(5, 5))\n",
        "\n",
        "    joint_prob = [left, bottom, width, height]\n",
        "    rect_histx = [left, bottom + height + spacing, width, 0.2]\n",
        "    rect_histy = [left + width + spacing, bottom, 0.2, height]\n",
        "\n",
        "    rect_x_cmap = plt.cm.Blues\n",
        "    rect_y_cmap = plt.cm.Reds\n",
        "\n",
        "    # Show joint probs and marginals\n",
        "    ax = fig.add_axes(joint_prob)\n",
        "    ax_x = fig.add_axes(rect_histx, sharex=ax)\n",
        "    ax_y = fig.add_axes(rect_histy, sharey=ax)\n",
        "\n",
        "    # Show joint probs and marginals\n",
        "    ax.matshow(P,vmin=0., vmax=1., cmap='Greys')\n",
        "    ax_x.bar(0, marginal_x[0], facecolor=rect_x_cmap(marginal_x[0]))\n",
        "    ax_x.bar(1, marginal_x[1], facecolor=rect_x_cmap(marginal_x[1]))\n",
        "    ax_y.barh(0, marginal_y[0], facecolor=rect_y_cmap(marginal_y[0]))\n",
        "    ax_y.barh(1, marginal_y[1], facecolor=rect_y_cmap(marginal_y[1]))\n",
        "    # set limits\n",
        "    ax_x.set_ylim([0,1])\n",
        "    ax_y.set_xlim([0,1])\n",
        "\n",
        "    # show values\n",
        "    ind = np.arange(2)\n",
        "    x,y = np.meshgrid(ind,ind)\n",
        "    for i,j in zip(x.flatten(), y.flatten()):\n",
        "        c = f\"{P[i,j]:.2f}\"\n",
        "        ax.text(j,i, c, va='center', ha='center', color='black')\n",
        "    for i in ind:\n",
        "        v = marginal_x[i]\n",
        "        c = f\"{v:.2f}\"\n",
        "        ax_x.text(i, v +0.1, c, va='center', ha='center', color='black')\n",
        "        v = marginal_y[i]\n",
        "        c = f\"{v:.2f}\"\n",
        "        ax_y.text(v+0.2, i, c, va='center', ha='center', color='black')\n",
        "\n",
        "    # set up labels\n",
        "    ax.xaxis.tick_bottom()\n",
        "    ax.yaxis.tick_left()\n",
        "    ax.set_xticks([0,1])\n",
        "    ax.set_yticks([0,1])\n",
        "    ax.set_xticklabels(['Silver','Gold'])\n",
        "    ax.set_yticklabels(['Small', 'Large'])\n",
        "    ax.set_xlabel('color')\n",
        "    ax.set_ylabel('size')\n",
        "    ax_x.axis('off')\n",
        "    ax_y.axis('off')\n",
        "    return fig\n",
        "# test\n",
        "# P = np.random.rand(2,2)\n",
        "# P = np.asarray([[0.9, 0.8], [0.4, 0.1]])\n",
        "# P = P / np.sum(P)\n",
        "# fig = plot_joint_probs(P)\n",
        "# plt.show(fig)\n",
        "# plt.close(fig)\n",
        "\n",
        "\n",
        "# fig = plot_prior_likelihood(0.5, 0.3)\n",
        "# plt.show(fig)\n",
        "# plt.close(fig)\n",
        "\n",
        "\n",
        "def plot_prior_likelihood_posterior(prior, likelihood, posterior):\n",
        "\n",
        "    # definitions for the axes\n",
        "    left, width = 0.05, 0.3\n",
        "    bottom, height = 0.05, 0.9\n",
        "    padding = 0.12\n",
        "    small_width = 0.1\n",
        "    left_space = left + small_width + padding\n",
        "    added_space = padding + width\n",
        "\n",
        "    fig = plt.figure(figsize=(12, 4))\n",
        "\n",
        "    rect_prior = [left, bottom, small_width, height]\n",
        "    rect_likelihood = [left_space , bottom , width, height]\n",
        "    rect_posterior = [left_space +  added_space, bottom , width, height]\n",
        "\n",
        "    ax_prior = fig.add_axes(rect_prior)\n",
        "    ax_likelihood = fig.add_axes(rect_likelihood, sharey=ax_prior)\n",
        "    ax_posterior = fig.add_axes(rect_posterior, sharey = ax_prior)\n",
        "\n",
        "    rect_colormap = plt.cm.Blues\n",
        "\n",
        "    # Show posterior probs and marginals\n",
        "    ax_prior.barh(0, prior[0], facecolor = rect_colormap(prior[0, 0]))\n",
        "    ax_prior.barh(1, prior[1], facecolor = rect_colormap(prior[1, 0]))\n",
        "    ax_likelihood.matshow(likelihood, vmin=0., vmax=1., cmap='Reds')\n",
        "    ax_posterior.matshow(posterior, vmin=0., vmax=1., cmap='Greens')\n",
        "\n",
        "\n",
        "    # Probabilities plot details\n",
        "    # ax_prior.set(xlim = [1, 0], yticks = [0, 1], yticklabels = ['left', 'right'],\n",
        "    #              ylabel = 'state (s)', title = \"Prior p(s)\")\n",
        "    ax_prior.set(xlim = [1, 0], xticks = [], yticks = [0, 1], yticklabels = ['left', 'right'],\n",
        "                 title = \"Probability of state\")\n",
        "    ax_prior.yaxis.tick_right()\n",
        "    ax_prior.spines['left'].set_visible(False)\n",
        "    ax_prior.spines['bottom'].set_visible(False)\n",
        "\n",
        "    # Likelihood plot details\n",
        "    ax_likelihood.set(xticks = [0, 1], xticklabels = ['fish', 'no fish'],\n",
        "                  yticks = [0, 1], yticklabels = ['left', 'right'],\n",
        "                   ylabel = 'state (s)', xlabel = 'measurement (m)',\n",
        "                   title = 'Likelihood p(m (right) | s)')\n",
        "    ax_likelihood.xaxis.set_ticks_position('bottom')\n",
        "    ax_likelihood.spines['left'].set_visible(False)\n",
        "    ax_likelihood.spines['bottom'].set_visible(False)\n",
        "\n",
        "    # Posterior plot details\n",
        "\n",
        "    ax_posterior.set(xticks = [0, 1], xticklabels = ['fish', 'no fish'],\n",
        "                  yticks = [0, 1], yticklabels = ['left', 'right'],\n",
        "                   ylabel = 'state (s)', xlabel = 'measurement (m)',\n",
        "                   title = 'Posterior p(s | m)')\n",
        "    ax_posterior.xaxis.set_ticks_position('bottom')\n",
        "    ax_posterior.spines['left'].set_visible(False)\n",
        "    ax_posterior.spines['bottom'].set_visible(False)\n",
        "\n",
        "\n",
        "    # show values\n",
        "    ind = np.arange(2)\n",
        "    x,y = np.meshgrid(ind,ind)\n",
        "    for i,j in zip(x.flatten(), y.flatten()):\n",
        "        c = f\"{posterior[i,j]:.2f}\"\n",
        "        ax_posterior.text(j,i, c, va='center', ha='center', color='black')\n",
        "    for i,j in zip(x.flatten(), y.flatten()):\n",
        "        c = f\"{likelihood[i,j]:.2f}\"\n",
        "        ax_likelihood.text(j,i, c, va='center', ha='center', color='black')\n",
        "    for i in ind:\n",
        "        v = prior[i, 0]\n",
        "        c = f\"{v:.2f}\"\n",
        "        ax_prior.text(v+0.2, i, c, va='center', ha='center', color='black')\n",
        "\n",
        "\n",
        "def plot_prior_likelihood(ps, p_a_s1, p_a_s0, measurement):\n",
        "    likelihood = np.asarray([[p_a_s1, 1-p_a_s1],[p_a_s0, 1-p_a_s0]])\n",
        "    assert 0.0 <= ps <= 1.0\n",
        "    prior = np.asarray([ps, 1 - ps])\n",
        "    if measurement:\n",
        "        posterior = likelihood[:, 0] * prior\n",
        "    else:\n",
        "        posterior = (likelihood[:, 1] * prior).reshape(-1)\n",
        "    posterior /= np.sum(posterior)\n",
        "\n",
        "    # definitions for the axes\n",
        "    left, width = 0.05, 0.3\n",
        "    bottom, height = 0.05, 0.9\n",
        "    padding = 0.1\n",
        "    small_width = 0.22\n",
        "    left_space = left + small_width + padding\n",
        "    small_padding = 0.05\n",
        "\n",
        "    fig = plt.figure(figsize=(10, 4))\n",
        "\n",
        "    rect_prior = [left, bottom, small_width, height]\n",
        "    rect_likelihood = [left_space , bottom , width, height]\n",
        "    rect_posterior = [left_space + width + small_padding, bottom , small_width, height]\n",
        "\n",
        "    ax_prior = fig.add_axes(rect_prior)\n",
        "    ax_likelihood = fig.add_axes(rect_likelihood, sharey=ax_prior)\n",
        "    ax_posterior = fig.add_axes(rect_posterior, sharey=ax_prior)\n",
        "\n",
        "    prior_colormap = plt.cm.Blues\n",
        "    posterior_colormap = plt.cm.Greens\n",
        "\n",
        "    # Show posterior probs and marginals\n",
        "    ax_prior.barh(0, prior[0], facecolor = prior_colormap(prior[0]))\n",
        "    ax_prior.barh(1, prior[1], facecolor = prior_colormap(prior[1]))\n",
        "    ax_likelihood.matshow(likelihood, vmin=0., vmax=1., cmap='Reds')\n",
        "    # ax_posterior.matshow(posterior, vmin=0., vmax=1., cmap='')\n",
        "    ax_posterior.barh(0, posterior[0], facecolor = posterior_colormap(posterior[0]))\n",
        "    ax_posterior.barh(1, posterior[1], facecolor = posterior_colormap(posterior[1]))\n",
        "\n",
        "    # Probabilities plot details\n",
        "    ax_prior.set(xlim = [1, 0], yticks = [0, 1], yticklabels = ['left', 'right'],\n",
        "                 ylabel = 'state (s)', title = \"Prior p(s)\")\n",
        "    ax_prior.axis('off')\n",
        "\n",
        "    # Likelihood plot details\n",
        "    ax_likelihood.set(xticks = [0, 1], xticklabels = ['fish', 'no fish'],\n",
        "                  yticks = [0, 1], yticklabels = ['left', 'right'],\n",
        "                   ylabel = 'state (s)', xlabel = 'measurement (m)',\n",
        "                   title = 'Likelihood p(m | s)')\n",
        "    ax_likelihood.xaxis.set_ticks_position('bottom')\n",
        "    ax_likelihood.spines['left'].set_visible(False)\n",
        "    ax_likelihood.spines['bottom'].set_visible(False)\n",
        "\n",
        "    # Posterior plot details\n",
        "    ax_posterior.set(xlim = [0, 1], yticks = [0, 1], yticklabels = ['left', 'right'],\n",
        "                 ylabel = 'state (s)', title = \"Posterior p(s | m)\")\n",
        "    ax_posterior.axis('off')\n",
        "    # ax_posterior.set(xticks = [0, 1], xticklabels = ['fish', 'no fish'],\n",
        "    #               yticks = [0, 1], yticklabels = ['left', 'right'],\n",
        "    #                ylabel = 'state (s)', xlabel = 'measurement (m)',\n",
        "    #                title = 'Posterior p(s | m)')\n",
        "    # ax_posterior.xaxis.set_ticks_position('bottom')\n",
        "    # ax_posterior.spines['left'].set_visible(False)\n",
        "    # ax_posterior.spines['bottom'].set_visible(False)\n",
        "\n",
        "\n",
        "    # show values\n",
        "    ind = np.arange(2)\n",
        "    x,y = np.meshgrid(ind,ind)\n",
        "    # for i,j in zip(x.flatten(), y.flatten()):\n",
        "    #     c = f\"{posterior[i,j]:.2f}\"\n",
        "    #     ax_posterior.text(j,i, c, va='center', ha='center', color='black')\n",
        "    for i in ind:\n",
        "        v = posterior[i]\n",
        "        c = f\"{v:.2f}\"\n",
        "        ax_posterior.text(v+0.2, i, c, va='center', ha='center', color='black')\n",
        "    for i,j in zip(x.flatten(), y.flatten()):\n",
        "        c = f\"{likelihood[i,j]:.2f}\"\n",
        "        ax_likelihood.text(j,i, c, va='center', ha='center', color='black')\n",
        "    for i in ind:\n",
        "        v = prior[i]\n",
        "        c = f\"{v:.2f}\"\n",
        "        ax_prior.text(v+0.2, i, c, va='center', ha='center', color='black')\n",
        "    return fig\n",
        "\n",
        "# fig = plot_prior_likelihood(0.5, 0.3)\n",
        "# plt.show(fig)\n",
        "# plt.close(fig)\n",
        "\n",
        "\n",
        "from matplotlib import colors\n",
        "def plot_utility(ps):\n",
        "    prior = np.asarray([ps, 1 - ps])\n",
        "\n",
        "    utility = np.array([[2, -3], [-2, 1]])\n",
        "\n",
        "    expected = prior @ utility\n",
        "\n",
        "    # definitions for the axes\n",
        "    left, width = 0.05, 0.16\n",
        "    bottom, height = 0.05, 0.9\n",
        "    padding = 0.04\n",
        "    small_width = 0.1\n",
        "    left_space = left + small_width + padding\n",
        "    added_space = padding + width\n",
        "\n",
        "    fig = plt.figure(figsize=(17, 3))\n",
        "\n",
        "    rect_prior = [left, bottom, small_width, height]\n",
        "    rect_utility = [left + added_space , bottom , width, height]\n",
        "    rect_expected = [left + 2* added_space, bottom , width, height]\n",
        "\n",
        "    ax_prior = fig.add_axes(rect_prior)\n",
        "    ax_utility = fig.add_axes(rect_utility, sharey=ax_prior)\n",
        "    ax_expected = fig.add_axes(rect_expected)\n",
        "\n",
        "    rect_colormap = plt.cm.Blues\n",
        "\n",
        "    # Data of plots\n",
        "    ax_prior.barh(0, prior[0], facecolor = rect_colormap(prior[0]))\n",
        "    ax_prior.barh(1, prior[1], facecolor = rect_colormap(prior[1]))\n",
        "    ax_utility.matshow(utility, cmap='cool')\n",
        "    norm = colors.Normalize(vmin=-3, vmax=3)\n",
        "    ax_expected.bar(0, expected[0], facecolor = rect_colormap(norm(expected[0])))\n",
        "    ax_expected.bar(1, expected[1], facecolor = rect_colormap(norm(expected[1])))\n",
        "\n",
        "    # Probabilities plot details\n",
        "    ax_prior.set(xlim = [1, 0], xticks = [], yticks = [0, 1], yticklabels = ['left', 'right'],\n",
        "                 title = \"Probability of state\")\n",
        "    ax_prior.yaxis.tick_right()\n",
        "    ax_prior.spines['left'].set_visible(False)\n",
        "    ax_prior.spines['bottom'].set_visible(False)\n",
        "\n",
        "    # Utility plot details\n",
        "    ax_utility.set(xticks = [0, 1], xticklabels = ['left', 'right'],\n",
        "                  yticks = [0, 1], yticklabels = ['left', 'right'],\n",
        "                   ylabel = 'state (s)', xlabel = 'action (a)',\n",
        "                   title = 'Utility')\n",
        "    ax_utility.xaxis.set_ticks_position('bottom')\n",
        "    ax_utility.spines['left'].set_visible(False)\n",
        "    ax_utility.spines['bottom'].set_visible(False)\n",
        "\n",
        "    # Expected utility plot details\n",
        "    ax_expected.set(title = 'Expected utility', ylim = [-3, 3],\n",
        "                    xticks = [0, 1], xticklabels = ['left', 'right'],\n",
        "                    xlabel = 'action (a)',\n",
        "                    yticks = [])\n",
        "    ax_expected.xaxis.set_ticks_position('bottom')\n",
        "    ax_expected.spines['left'].set_visible(False)\n",
        "    ax_expected.spines['bottom'].set_visible(False)\n",
        "\n",
        "    # show values\n",
        "    ind = np.arange(2)\n",
        "    x,y = np.meshgrid(ind,ind)\n",
        "\n",
        "    for i,j in zip(x.flatten(), y.flatten()):\n",
        "        c = f\"{utility[i,j]:.2f}\"\n",
        "        ax_utility.text(j,i, c, va='center', ha='center', color='black')\n",
        "    for i in ind:\n",
        "        v = prior[i]\n",
        "        c = f\"{v:.2f}\"\n",
        "        ax_prior.text(v+0.2, i, c, va='center', ha='center', color='black')\n",
        "    for i in ind:\n",
        "        v = expected[i]\n",
        "        c = f\"{v:.2f}\"\n",
        "        ax_expected.text(i, 2.5, c, va='center', ha='center', color='black')\n",
        "\n",
        "    return fig\n",
        "\n",
        "\n",
        "def plot_prior_likelihood_utility(ps, p_a_s1, p_a_s0,measurement):\n",
        "    assert 0.0 <= ps <= 1.0\n",
        "    assert 0.0 <= p_a_s1 <= 1.0\n",
        "    assert 0.0 <= p_a_s0 <= 1.0\n",
        "    prior = np.asarray([ps, 1 - ps])\n",
        "    likelihood = np.asarray([[p_a_s1, 1-p_a_s1],[p_a_s0, 1-p_a_s0]])\n",
        "    utility = np.array([[2.0, -3.0], [-2.0, 1.0]])\n",
        "    # expected = np.zeros_like(utility)\n",
        "\n",
        "    if measurement:\n",
        "        posterior = likelihood[:, 0] * prior\n",
        "    else:\n",
        "        posterior = (likelihood[:, 1] * prior).reshape(-1)\n",
        "    posterior /= np.sum(posterior)\n",
        "    # expected[:, 0] = utility[:, 0] * posterior\n",
        "    # expected[:, 1] = utility[:, 1] * posterior\n",
        "    expected = posterior @ utility\n",
        "\n",
        "    # definitions for the axes\n",
        "    left, width = 0.05, 0.35\n",
        "    bottom, height = 0.05, 0.35\n",
        "    padding = 0.1\n",
        "    small_width = 0.2\n",
        "    left_space = left + small_width + padding\n",
        "    small_padding = 0.05\n",
        "\n",
        "    fig = plt.figure(figsize=(10, 8))\n",
        "\n",
        "    rect_prior = [left, bottom + height + padding, small_width, height]\n",
        "    rect_likelihood = [left_space , bottom + height + padding , width, height]\n",
        "    rect_posterior = [left_space + width + small_padding, bottom + height + padding , small_width, height]\n",
        "\n",
        "    rect_utility = [padding, bottom, width, height]\n",
        "    rect_expected = [padding + width + padding + left, bottom, width, height]\n",
        "\n",
        "    ax_likelihood = fig.add_axes(rect_likelihood)\n",
        "    ax_prior = fig.add_axes(rect_prior, sharey=ax_likelihood)\n",
        "    ax_posterior = fig.add_axes(rect_posterior, sharey=ax_likelihood)\n",
        "    ax_utility = fig.add_axes(rect_utility)\n",
        "    ax_expected = fig.add_axes(rect_expected)\n",
        "\n",
        "    prior_colormap = plt.cm.Blues\n",
        "    posterior_colormap = plt.cm.Greens\n",
        "    expected_colormap = plt.cm.Wistia\n",
        "\n",
        "    # Show posterior probs and marginals\n",
        "    ax_prior.barh(0, prior[0], facecolor = prior_colormap(prior[0]))\n",
        "    ax_prior.barh(1, prior[1], facecolor = prior_colormap(prior[1]))\n",
        "    ax_likelihood.matshow(likelihood, vmin=0., vmax=1., cmap='Reds')\n",
        "    ax_posterior.barh(0, posterior[0], facecolor = posterior_colormap(posterior[0]))\n",
        "    ax_posterior.barh(1, posterior[1], facecolor = posterior_colormap(posterior[1]))\n",
        "    ax_utility.matshow(utility, vmin=0., vmax=1., cmap='cool')\n",
        "    # ax_expected.matshow(expected, vmin=0., vmax=1., cmap='Wistia')\n",
        "    ax_expected.bar(0, expected[0], facecolor = expected_colormap(expected[0]))\n",
        "    ax_expected.bar(1, expected[1], facecolor = expected_colormap(expected[1]))\n",
        "\n",
        "    # Probabilities plot details\n",
        "    ax_prior.set(xlim = [1, 0], yticks = [0, 1], yticklabels = ['left', 'right'],\n",
        "                 ylabel = 'state (s)', title = \"Prior p(s)\")\n",
        "    ax_prior.axis('off')\n",
        "\n",
        "    # Likelihood plot details\n",
        "    ax_likelihood.set(xticks = [0, 1], xticklabels = ['fish', 'no fish'],\n",
        "                  yticks = [0, 1], yticklabels = ['left', 'right'],\n",
        "                   ylabel = 'state (s)', xlabel = 'measurement (m)',\n",
        "                   title = 'Likelihood p(m | s)')\n",
        "    ax_likelihood.xaxis.set_ticks_position('bottom')\n",
        "    ax_likelihood.spines['left'].set_visible(False)\n",
        "    ax_likelihood.spines['bottom'].set_visible(False)\n",
        "\n",
        "    # Posterior plot details\n",
        "    ax_posterior.set(xlim = [0, 1], yticks = [0, 1], yticklabels = ['left', 'right'],\n",
        "                 ylabel = 'state (s)', title = \"Posterior p(s | m)\")\n",
        "    ax_posterior.axis('off')\n",
        "\n",
        "    # Utility plot details\n",
        "    ax_utility.set(xticks = [0, 1], xticklabels = ['left', 'right'],\n",
        "                   xlabel = 'action (a)', yticks = [0, 1], yticklabels = ['left', 'right'],\n",
        "                   title = 'Utility', ylabel = 'state (s)')\n",
        "    ax_utility.xaxis.set_ticks_position('bottom')\n",
        "    ax_utility.spines['left'].set_visible(False)\n",
        "    ax_utility.spines['bottom'].set_visible(False)\n",
        "\n",
        "    # Expected Utility plot details\n",
        "    ax_expected.set(ylim = [-2, 2], xticks = [0, 1], xticklabels = ['left', 'right'],\n",
        "                 xlabel = 'action (a)', title = 'Expected utility', yticks=[])\n",
        "    # ax_expected.axis('off')\n",
        "    ax_expected.spines['left'].set_visible(False)\n",
        "    # ax_expected.set(xticks = [0, 1], xticklabels = ['left', 'right'],\n",
        "    #                 xlabel = 'action (a)',\n",
        "    #                title = 'Expected utility')\n",
        "    # ax_expected.xaxis.set_ticks_position('bottom')\n",
        "    # ax_expected.spines['left'].set_visible(False)\n",
        "    # ax_expected.spines['bottom'].set_visible(False)\n",
        "\n",
        "    # show values\n",
        "    ind = np.arange(2)\n",
        "    x,y = np.meshgrid(ind,ind)\n",
        "    for i in ind:\n",
        "        v = posterior[i]\n",
        "        c = f\"{v:.2f}\"\n",
        "        ax_posterior.text(v+0.2, i, c, va='center', ha='center', color='black')\n",
        "    for i,j in zip(x.flatten(), y.flatten()):\n",
        "        c = f\"{likelihood[i,j]:.2f}\"\n",
        "        ax_likelihood.text(j,i, c, va='center', ha='center', color='black')\n",
        "    for i,j in zip(x.flatten(), y.flatten()):\n",
        "        c = f\"{utility[i,j]:.2f}\"\n",
        "        ax_utility.text(j,i, c, va='center', ha='center', color='black')\n",
        "    # for i,j in zip(x.flatten(), y.flatten()):\n",
        "    #     c = f\"{expected[i,j]:.2f}\"\n",
        "    #     ax_expected.text(j,i, c, va='center', ha='center', color='black')\n",
        "    for i in ind:\n",
        "        v = prior[i]\n",
        "        c = f\"{v:.2f}\"\n",
        "        ax_prior.text(v+0.2, i, c, va='center', ha='center', color='black')\n",
        "    for i in ind:\n",
        "        v = expected[i]\n",
        "        c = f\"{v:.2f}\"\n",
        "        ax_expected.text(i, v, c, va='center', ha='center', color='black')\n",
        "\n",
        "    # # show values\n",
        "    # ind = np.arange(2)\n",
        "    # x,y = np.meshgrid(ind,ind)\n",
        "    # for i,j in zip(x.flatten(), y.flatten()):\n",
        "    #     c = f\"{P[i,j]:.2f}\"\n",
        "    #     ax.text(j,i, c, va='center', ha='center', color='white')\n",
        "    # for i in ind:\n",
        "    #     v = marginal_x[i]\n",
        "    #     c = f\"{v:.2f}\"\n",
        "    #     ax_x.text(i, v +0.2, c, va='center', ha='center', color='black')\n",
        "    #     v = marginal_y[i]\n",
        "    #     c = f\"{v:.2f}\"\n",
        "    #     ax_y.text(v+0.2, i, c, va='center', ha='center', color='black')\n",
        "\n",
        "    return fig"
      ],
      "execution_count": 4,
      "outputs": []
    },
    {
      "cell_type": "code",
      "metadata": {
        "cellView": "form",
        "execution": {
          "iopub.execute_input": "2021-06-25T15:15:26.909876Z",
          "iopub.status.busy": "2021-06-25T15:15:26.909310Z",
          "iopub.status.idle": "2021-06-25T15:15:26.913133Z",
          "shell.execute_reply": "2021-06-25T15:15:26.912415Z"
        },
        "id": "AdmiGVhrt0B_"
      },
      "source": [
        "# @title Helper Functions\n",
        "\n",
        "def compute_marginal(px, py, cor):\n",
        "    # calculate 2x2 joint probabilities given marginals p(x=1), p(y=1) and correlation\n",
        "    p11 = px*py + cor*np.sqrt(px*py*(1-px)*(1-py))\n",
        "    p01 = px - p11\n",
        "    p10 = py - p11\n",
        "    p00 = 1.0 - p11 - p01 - p10\n",
        "    return np.asarray([[p00, p01], [p10, p11]])\n",
        "# test\n",
        "# print(compute_marginal(0.4, 0.6, -0.8))\n",
        "\n",
        "\n",
        "def compute_cor_range(px,py):\n",
        "    # Calculate the allowed range of correlation values given marginals p(x=1) and p(y=1)\n",
        "    def p11(corr):\n",
        "        return px*py + corr*np.sqrt(px*py*(1-px)*(1-py))\n",
        "    def p01(corr):\n",
        "        return px - p11(corr)\n",
        "    def p10(corr):\n",
        "        return py - p11(corr)\n",
        "    def p00(corr):\n",
        "        return 1.0 - p11(corr) - p01(corr) - p10(corr)\n",
        "    Cmax = min(fsolve(p01, 0.0), fsolve(p10, 0.0))\n",
        "    Cmin = max(fsolve(p11, 0.0), fsolve(p00, 0.0))\n",
        "    return Cmin, Cmax"
      ],
      "execution_count": 5,
      "outputs": []
    },
    {
      "cell_type": "markdown",
      "metadata": {
        "id": "J1iz2eNOt0B_"
      },
      "source": [
        "---\n",
        "# Section 1: Gone Fishin'\n"
      ]
    },
    {
      "cell_type": "code",
      "metadata": {
        "cellView": "form",
        "execution": {
          "iopub.execute_input": "2021-06-25T15:15:26.924621Z",
          "iopub.status.busy": "2021-06-25T15:15:26.924066Z",
          "iopub.status.idle": "2021-06-25T15:15:27.002207Z",
          "shell.execute_reply": "2021-06-25T15:15:27.001495Z"
        },
        "id": "5_-YYorlt0B_",
        "colab": {
          "base_uri": "https://localhost:8080/",
          "height": 580,
          "referenced_widgets": [
            "b701f8cb2a854d3280a161dccae710e3",
            "81c625ee2b9f4733b7d1e8d3703fc272",
            "1989ed509a2a477fa13b12873a008a57",
            "a1f285d87b824a8eb6ef112299ad8b84",
            "f683b7a2d1ee4b2ea31990e44ab1f3fd",
            "4038580c054044558d9661cc55a13a81"
          ]
        },
        "outputId": "4a98596f-4121-493d-8bb5-144ad20bb5cd"
      },
      "source": [
        "# @title Video 2: Gone Fishin'\n",
        "from ipywidgets import widgets\n",
        "\n",
        "out2 = widgets.Output()\n",
        "with out2:\n",
        "  from IPython.display import IFrame\n",
        "  class BiliVideo(IFrame):\n",
        "      def __init__(self, id, page=1, width=400, height=300, **kwargs):\n",
        "          self.id=id\n",
        "          src = 'https://player.bilibili.com/player.html?bvid={0}&page={1}'.format(id, page)\n",
        "          super(BiliVideo, self).__init__(src, width, height, **kwargs)\n",
        "\n",
        "  video = BiliVideo(id=\"\", width=854, height=480, fs=1)\n",
        "  print('Video available at https://www.bilibili.com/video/{0}'.format(video.id))\n",
        "  display(video)\n",
        "\n",
        "out1 = widgets.Output()\n",
        "with out1:\n",
        "  from IPython.display import YouTubeVideo\n",
        "  video = YouTubeVideo(id=\"McALsTzb494\", width=854, height=480, fs=1, rel=0)\n",
        "  print('Video available at https://youtube.com/watch?v=' + video.id)\n",
        "  display(video)\n",
        "\n",
        "out = widgets.Tab([out1, out2])\n",
        "out.set_title(0, 'Youtube')\n",
        "out.set_title(1, 'Bilibili')\n",
        "\n",
        "display(out)"
      ],
      "execution_count": 6,
      "outputs": [
        {
          "output_type": "display_data",
          "data": {
            "application/vnd.jupyter.widget-view+json": {
              "model_id": "b701f8cb2a854d3280a161dccae710e3",
              "version_minor": 0,
              "version_major": 2
            },
            "text/plain": [
              "Tab(children=(Output(), Output()), _titles={'0': 'Youtube', '1': 'Bilibili'})"
            ]
          },
          "metadata": {
            "tags": []
          }
        }
      ]
    },
    {
      "cell_type": "markdown",
      "metadata": {
        "id": "TsgTLr20t0CA"
      },
      "source": [
        "<details>\n",
        "<summary> <font color=‘blue’>Click here for text recap of video </font></summary>\n",
        "You were just introduced to the **binary hidden state problem** we are going to explore. You need to decide which side to fish on--the hidden state. We know fish like to school together. On different days the school of fish is either on the left or right side, but we don’t know what the case is today. We define our knowledge about the fish location as a distribution over the random hidden state variable. Using our probabilistic knowledge, also called our **belief** about the hidden state, we will explore how to make the decision about where to fish today, based on what to expect in terms of gains or losses for the decision.\n",
        "The gains and losss are defined by the utility of choosing an action, which is fishing on the left or right. The details of the utilities are described \n",
        "</details>\n",
        "\n",
        "In the next two sections we will consider just the probability of where the fish might be and what you gain or lose by choosing where to fish.\n",
        "\n",
        "Remember, you can either think of your self as a scientist conducting an experiment or as a brain trying to make a decision. The Bayesian approach is the same!\n"
      ]
    },
    {
      "cell_type": "markdown",
      "metadata": {
        "id": "PGs2lr8_t0CA"
      },
      "source": [
        "---\n",
        "# Section 2: Deciding where to fish \n",
        "\n"
      ]
    },
    {
      "cell_type": "code",
      "metadata": {
        "cellView": "form",
        "execution": {
          "iopub.execute_input": "2021-06-25T15:15:27.027109Z",
          "iopub.status.busy": "2021-06-25T15:15:27.026597Z",
          "iopub.status.idle": "2021-06-25T15:15:27.095976Z",
          "shell.execute_reply": "2021-06-25T15:15:27.095432Z"
        },
        "id": "p_Q8_7Jrt0CB",
        "colab": {
          "base_uri": "https://localhost:8080/",
          "height": 580,
          "referenced_widgets": [
            "d57b7d58ce73444ba5ef848c8cb171f7",
            "90f3279b95cd4316b3cc8c89dc28f658",
            "46c4890e737f498895b76cf80e55e079",
            "176461e4269a4abab7ac92323f34f82d",
            "30811df9d9224160b4542f001bdfe57c",
            "4abfd829e8fe4bd0853bb25483e27b9a"
          ]
        },
        "outputId": "66e127ad-5b17-488e-add3-22df4aef127c"
      },
      "source": [
        "# @title Video 3: Utility\n",
        "from ipywidgets import widgets\n",
        "\n",
        "out2 = widgets.Output()\n",
        "with out2:\n",
        "  from IPython.display import IFrame\n",
        "  class BiliVideo(IFrame):\n",
        "      def __init__(self, id, page=1, width=400, height=300, **kwargs):\n",
        "          self.id=id\n",
        "          src = 'https://player.bilibili.com/player.html?bvid={0}&page={1}'.format(id, page)\n",
        "          super(BiliVideo, self).__init__(src, width, height, **kwargs)\n",
        "\n",
        "  video = BiliVideo(id=\"\", width=854, height=480, fs=1)\n",
        "  print('Video available at https://www.bilibili.com/video/{0}'.format(video.id))\n",
        "  display(video)\n",
        "\n",
        "out1 = widgets.Output()\n",
        "with out1:\n",
        "  from IPython.display import YouTubeVideo\n",
        "  video = YouTubeVideo(id=\"xvIVZrqF_5s\", width=854, height=480, fs=1, rel=0)\n",
        "  print('Video available at https://youtube.com/watch?v=' + video.id)\n",
        "  display(video)\n",
        "\n",
        "out = widgets.Tab([out1, out2])\n",
        "out.set_title(0, 'Youtube')\n",
        "out.set_title(1, 'Bilibili')\n",
        "\n",
        "display(out)"
      ],
      "execution_count": 7,
      "outputs": [
        {
          "output_type": "display_data",
          "data": {
            "application/vnd.jupyter.widget-view+json": {
              "model_id": "d57b7d58ce73444ba5ef848c8cb171f7",
              "version_minor": 0,
              "version_major": 2
            },
            "text/plain": [
              "Tab(children=(Output(), Output()), _titles={'0': 'Youtube', '1': 'Bilibili'})"
            ]
          },
          "metadata": {
            "tags": []
          }
        }
      ]
    },
    {
      "cell_type": "markdown",
      "metadata": {
        "id": "rCDm6hjxt0CB"
      },
      "source": [
        "<details>\n",
        "<summary> <font color=‘blue’>Click here for text recap of video </font></summary>\n",
        "You need to decide where to fish. It may seem obvious - you could just fish on the side where the probability of the fish being is higher! Unfortunately, decisions and actions are always a little more complicated. Deciding to fish may be influenced by more than just the probability of the school of fish being there as we saw by the potential issues of submarines and sunburn. The consequences of the action you take is based on the true (but hidden) state of the world and the action you choose! In our example, fishing on the wrong side, where there aren't many fish, is likely to lead to you spending your afternoon not catching fish and therefor getting a sunburn. The submarine represents a risk to fishing on the right side that is greater than the left side. If you want to know what to expect from taking the action of fishing on one side or the other, you need to calculate the expected utility.\n",
        "</details>\n",
        "\n",
        "You know the (prior) probability that the school of fish is on the left side of the dock today, $P(s = left)$. So, you also know the probability the school is on the right, $P(s = right)$, because these two probabilities must add up to 1.\n",
        "\n",
        "We quantify gains and losses numerically using a **utility** function $U(s,a)$, which describes the consequences of your actions: how much value you gain (or if negative, lose) given the state of the world ($s$) and the action you take ($a$). In our example, our utility can be summarized as:\n",
        "\n",
        "| Utility: U(s,a)   | a = left   | a = right  |\n",
        "| ----------------- |------------|------------|\n",
        "| s = Left          | +2         | -3         |\n",
        "| s = right         | -2         | +1         |\n",
        "\n",
        "To use possible gains and losses to choose an action, we calculate the **expected utility** of that action by weighing these utilities with the probability of that state occuring. This allows us to choose actions by taking probabilities of events into account: we don't care if the outcome of an action-state pair is a loss if the probability of that state is very low. We can formalize this as:\n",
        "\n",
        "$$ \\text{Expected utility of action a} = \\sum_{s}U(s,a)P(s) $$\n",
        "\n",
        "In other words, the expected utility of an action a is the sum over possible states of the utility of that action and state times the probability of that state.\n"
      ]
    },
    {
      "cell_type": "markdown",
      "metadata": {
        "id": "O_sMqk8Vt0CB"
      },
      "source": [
        "## Interactive Demo 2: Exploring the decision\n",
        "\n",
        "Let's start to get a sense of how all this works using the interactive demo below. You can change the probability that the school of fish is on the left side ($p(s = left)$ using the slider. You will see the utility function (a matrix) in the middle and the corresponding expected utility for each action on the right.\n",
        "\n",
        "First, make sure you understand how the expected utility of each action is being computed from the probabilities and the utility values. In the initial state: the probability of the fish being on the left is 0.9 and on the right is 0.1. The expected utility of the action of fishing on the left is then $U(s = left,a = left)p(s = left) + U(s = right,a = left)p(s = right) = 2(0.9) + -2(0.1) = 1.6$.\n",
        "\n",
        "For each of these scenarios, think and discuss first. Then use the demo to try out each and see if your action would have been correct (that is, if the expected value of that action is the highest).\n",
        "\n",
        "\n",
        "1.  You just arrived at the dock for the first time and have no sense of where the fish might be. So you guess that the probability of the school being on the left side is 0.5 (so the probability on the right side is also 0.5). Which side would you choose to fish on given our utility values?\n",
        "2.  You think that the probability of the school being on the left side is very low (0.1) and correspondingly high on the right side (0.9). Which side would you choose to fish on given our utility values?\n",
        "3.  What would you choose if the probability of the school being on the left side is slightly lower than on the right side (0. 4 vs 0.6)?"
      ]
    },
    {
      "cell_type": "code",
      "metadata": {
        "execution": {
          "iopub.execute_input": "2021-06-25T15:15:27.125816Z",
          "iopub.status.busy": "2021-06-25T15:15:27.125160Z",
          "iopub.status.idle": "2021-06-25T15:15:27.363022Z",
          "shell.execute_reply": "2021-06-25T15:15:27.362492Z"
        },
        "id": "cZuvdPCit0CC",
        "colab": {
          "base_uri": "https://localhost:8080/",
          "height": 326,
          "referenced_widgets": [
            "aabcc156d1ea4ddc94235bd26c6f2577",
            "f872423f2aae466bb658bf57e45c7974",
            "4d4ff369d69544e9be2202a008dff4cc",
            "628649a836eb400b963af9e5c7ed5b59",
            "ebd6f1e1bf46462d8aa4d4b7280f7b6d",
            "7afab337393d40c6bf9856ced7d34011",
            "ba4d49d610f24432aa58efdc7aea4a7a"
          ]
        },
        "cellView": "form",
        "outputId": "57e2450f-a3ac-4860-b7a8-e30dec3a04cc"
      },
      "source": [
        "# @markdown Execute this cell to use the widget\n",
        "ps_widget = widgets.FloatSlider(0.9, description='p(s = left)', min=0.0, max=1.0, step=0.01)\n",
        "\n",
        "@widgets.interact(\n",
        "    ps = ps_widget,\n",
        ")\n",
        "def make_utility_plot(ps):\n",
        "    fig = plot_utility(ps)\n",
        "    plt.show(fig)\n",
        "    plt.close(fig)\n",
        "    return None"
      ],
      "execution_count": 8,
      "outputs": [
        {
          "output_type": "display_data",
          "data": {
            "application/vnd.jupyter.widget-view+json": {
              "model_id": "aabcc156d1ea4ddc94235bd26c6f2577",
              "version_minor": 0,
              "version_major": 2
            },
            "text/plain": [
              "interactive(children=(FloatSlider(value=0.9, description='p(s = left)', max=1.0, step=0.01), Output()), _dom_c…"
            ]
          },
          "metadata": {
            "tags": []
          }
        }
      ]
    },
    {
      "cell_type": "code",
      "metadata": {
        "execution": {
          "iopub.execute_input": "2021-06-25T15:15:27.368248Z",
          "iopub.status.busy": "2021-06-25T15:15:27.367081Z",
          "iopub.status.idle": "2021-06-25T15:15:27.368872Z",
          "shell.execute_reply": "2021-06-25T15:15:27.369319Z"
        },
        "id": "WT5uV0pXt0CC"
      },
      "source": [
        "# to_remove explanation\n",
        "\n",
        "# 1)  With equal probabilities, the expected utility is higher on the left side,\n",
        "#    since that is the side without submarines, so you would choose to fish there.\n",
        "\n",
        "# 2)  If the probability that the fish is on the right side is high, you would\n",
        "#     choose to fish there. The high probability of fish being on the right far outweights\n",
        "#    the slightly higher utilities from fishing on the left (as you are unlikely to gain these)\n",
        "\n",
        "# 3)  If the probability that the fish is on the right side is just slightly higher\n",
        "#.    than on the left, you would choose the left side as the expected utility is still\n",
        "#.    higher on the left. Note that in this situation, you are not simply choosing the\n",
        "#.    side with the higher probability - the utility really matters here for the decision"
      ],
      "execution_count": 9,
      "outputs": []
    },
    {
      "cell_type": "markdown",
      "metadata": {
        "id": "ktZnlrodt0CC"
      },
      "source": [
        "In this section, you have seen that both the utility of various state and action pairs and our knowledge of the probability of each state affects your decision. Importantly, we want our knowledge of the probability of each state to be as accurate as possible! \n",
        "\n",
        "So how do we know these probabilities? We may have prior knowledge from years of fishing at the same dock, learning that the fish are more likely to be on the left side, for example. Of course, we need to update our knowledge (our belief)! To do this, we need to collect more information, or take some measurements! In the next few sections, we will focus on how we improve our knowledge of the probabilities."
      ]
    },
    {
      "cell_type": "markdown",
      "metadata": {
        "id": "mBtiCxk_t0CC"
      },
      "source": [
        "---\n",
        "# Section 3: Likelihood of the fish being on either side\n",
        " \n"
      ]
    },
    {
      "cell_type": "code",
      "metadata": {
        "cellView": "form",
        "execution": {
          "iopub.execute_input": "2021-06-25T15:15:27.382108Z",
          "iopub.status.busy": "2021-06-25T15:15:27.380574Z",
          "iopub.status.idle": "2021-06-25T15:15:27.447741Z",
          "shell.execute_reply": "2021-06-25T15:15:27.448200Z"
        },
        "id": "pOrap36Ht0CD",
        "colab": {
          "base_uri": "https://localhost:8080/",
          "height": 580,
          "referenced_widgets": [
            "764f1cd8775448e5ad83893a4ad29f0f",
            "f41134c1cbd8403aa58a77de6184f467",
            "7ca850f1cbc34f308d079a7e0bafc087",
            "fb2ae05d5efb4ff39d777fb2d94a2d33",
            "effe30b557594c3abac5ef6754d73d08",
            "336d0223b38f4e779b1abd2697f3c8b2"
          ]
        },
        "outputId": "c8656b0d-db66-44df-aeb1-029b19cdf75e"
      },
      "source": [
        "# @title Video 4: Likelihood\n",
        "from ipywidgets import widgets\n",
        "\n",
        "out2 = widgets.Output()\n",
        "with out2:\n",
        "  from IPython.display import IFrame\n",
        "  class BiliVideo(IFrame):\n",
        "      def __init__(self, id, page=1, width=400, height=300, **kwargs):\n",
        "          self.id=id\n",
        "          src = 'https://player.bilibili.com/player.html?bvid={0}&page={1}'.format(id, page)\n",
        "          super(BiliVideo, self).__init__(src, width, height, **kwargs)\n",
        "\n",
        "  video = BiliVideo(id=\"\", width=854, height=480, fs=1)\n",
        "  print('Video available at https://www.bilibili.com/video/{0}'.format(video.id))\n",
        "  display(video)\n",
        "\n",
        "out1 = widgets.Output()\n",
        "with out1:\n",
        "  from IPython.display import YouTubeVideo\n",
        "  video = YouTubeVideo(id=\"l4m0JzMWGio\", width=854, height=480, fs=1, rel=0)\n",
        "  print('Video available at https://youtube.com/watch?v=' + video.id)\n",
        "  display(video)\n",
        "\n",
        "out = widgets.Tab([out1, out2])\n",
        "out.set_title(0, 'Youtube')\n",
        "out.set_title(1, 'Bilibili')\n",
        "\n",
        "display(out)"
      ],
      "execution_count": 10,
      "outputs": [
        {
          "output_type": "display_data",
          "data": {
            "application/vnd.jupyter.widget-view+json": {
              "model_id": "764f1cd8775448e5ad83893a4ad29f0f",
              "version_minor": 0,
              "version_major": 2
            },
            "text/plain": [
              "Tab(children=(Output(), Output()), _titles={'0': 'Youtube', '1': 'Bilibili'})"
            ]
          },
          "metadata": {
            "tags": []
          }
        }
      ]
    },
    {
      "cell_type": "markdown",
      "metadata": {
        "id": "vi-Imgynt0CD"
      },
      "source": [
        "<details>\n",
        "<summary> <font color=‘blue’>Click here for text recap of video </font></summary>\n",
        "First, we'll think about what it means to take a measurement (also often called an observation or just data) and what it tells you about what the hidden state may be. Specifically, we'll be looking at the **likelihood**, which is the probability of your measurement ($m$) given the hidden state ($s$): $P(m | s)$. Remember that in this case, the hidden state is which side of the dock the school of fish is on.\n",
        "We will watch someone fish (for let's say 10 minutes) and our measurement is whether they catch a fish or not. We know something about what catching a fish means for the likelihood of the fish being on one side or the other.\n",
        "</details>"
      ]
    },
    {
      "cell_type": "markdown",
      "metadata": {
        "id": "mxO9yvNNt0CD"
      },
      "source": [
        "## Think! 3: Guessing the location of the fish\n",
        "\n",
        "Let's say we go to different dock to fish. Here, there are different probabilities of catching fish given the state of the world. At this dock, if you fish on the side of the dock where the fish are, you have a 70% chance of catching a fish. If you fish on the wrong side, you will only catch a fish with only 20% probability. These are the likelihoods of observing someone catching a fish! That is, you are taking a measurement by seeing if someone else catches a fish!\n",
        "\n",
        "You see a fisherperson is fishing on the left side.\n",
        "\n",
        "1) Please calculate each of the following (best to each do the math and then compare your answers and dsicuss!):\n",
        "- probability of catching a fish given that the school of fish is on the left side, $P(m = catch\\text{ } fish | s = left )$\n",
        "- probability of not catching a fish given that the school of fish is on the left side, $P(m = no \\text{ } fish | s = left)$\n",
        "- probability of catching a fish given that the school of fish is on the right side, $P(m = catch  \\text{ } fish | s = right)$\n",
        "- probability of not catching a fish given that the school of fish is on the right side, $P(m = no \\text{ } fish | s = right)$\n",
        "\n",
        "2) If the fisherperson catches a fish, which side would you guess the school is on? Why?\n",
        "\n",
        "3) If the fisherperson does not catch a fish, which side would you guess the school is on? Why?\n"
      ]
    },
    {
      "cell_type": "code",
      "metadata": {
        "execution": {
          "iopub.execute_input": "2021-06-25T15:15:27.459236Z",
          "iopub.status.busy": "2021-06-25T15:15:27.458560Z",
          "iopub.status.idle": "2021-06-25T15:15:27.460258Z",
          "shell.execute_reply": "2021-06-25T15:15:27.459756Z"
        },
        "id": "K5XXQwDkt0CE"
      },
      "source": [
        "#to_remove explanation\n",
        "\n",
        "# 1) The fisherperson is on the left side so:\n",
        "#       - P(m = catch fish | s = left) = 0.7 because they have a 70% chance of catching\n",
        "#         a fish when on the same side as the school\n",
        "#       - P(m = no fish | s = left) = 0.3 because the probability of catching a fish\n",
        "#         and not catching a fish for a given state must add up to 1 as these\n",
        "#         are the only options: 1 - 0.7 = 0.3\n",
        "#       - P(m = catch fish | s = right) = 0.2\n",
        "#       - P(m = no fish | s = right) = 0.8\n",
        "\n",
        "# 2) If the fisherperson catches a fish, you would guess the school of fish is on the\n",
        "#     left side. This is because the probability of catching a fish given that the\n",
        "#    school is on the left side (0.7) is higher than the probability given that\n",
        "#    the school is on the right side (0.2).\n",
        "\n",
        "# 3) If the fisherperson does not catch a fish, you would guess the school of fish is on the\n",
        "#     right side. This is because the probability of not catching a fish given that the\n",
        "#    school is on the right side (0.8) is higher than the probability given that\n",
        "#    the school is on the right side (0.3)."
      ],
      "execution_count": 11,
      "outputs": []
    },
    {
      "cell_type": "markdown",
      "metadata": {
        "id": "1iRT1vMAt0CE"
      },
      "source": [
        "In the prior exercise, you tried to guess where the school of fish was based on the measurement you took (watching someone fish). You did this by choosing the state (side where you think the fish are) that maximized the probability of the measurement. In other words, you estimated the state by maximizing the likelihood (the side with the highest probability of measurement given state $P(m|s$)). This is called maximum likelihood estimation (MLE) and you've encountered it before during this course, in W1D3!\n",
        "\n",
        "But, what if you had been going to this dock for years and you knew that the fish were almost always on the left side? This should probably affect how you make your estimate -- you would rely less on the single new measurement and more on your prior knowledge. This is the fundemental idea behind Bayesian inference, as we will see later in this tutorial!"
      ]
    },
    {
      "cell_type": "markdown",
      "metadata": {
        "id": "-AqVdGw8t0CE"
      },
      "source": [
        "---\n",
        "# Section 4: Correlation and marginalization\n"
      ]
    },
    {
      "cell_type": "code",
      "metadata": {
        "cellView": "form",
        "execution": {
          "iopub.execute_input": "2021-06-25T15:15:27.507590Z",
          "iopub.status.busy": "2021-06-25T15:15:27.505019Z",
          "iopub.status.idle": "2021-06-25T15:15:27.573883Z",
          "shell.execute_reply": "2021-06-25T15:15:27.572166Z"
        },
        "id": "zBD5Lig6t0CE",
        "colab": {
          "base_uri": "https://localhost:8080/",
          "height": 580,
          "referenced_widgets": [
            "fce5b31ecf3b4875a8b7a36da6013acc",
            "928773bdf9654dc9adc4c5d30889a1df",
            "d70050f5efbc436abacaed455577a39b",
            "68db2403a00b44d6a98320e2ffaabe09",
            "d9a2c31023eb443295ca28626dfe4e06",
            "22b9e6db0bae40ceb7aea6743b515284"
          ]
        },
        "outputId": "3f97d72b-4933-4943-f255-a92542ae2bb2"
      },
      "source": [
        "# @title Video 5: Correlation and marginalization\n",
        "from ipywidgets import widgets\n",
        "\n",
        "out2 = widgets.Output()\n",
        "with out2:\n",
        "  from IPython.display import IFrame\n",
        "  class BiliVideo(IFrame):\n",
        "      def __init__(self, id, page=1, width=400, height=300, **kwargs):\n",
        "          self.id=id\n",
        "          src = 'https://player.bilibili.com/player.html?bvid={0}&page={1}'.format(id, page)\n",
        "          super(BiliVideo, self).__init__(src, width, height, **kwargs)\n",
        "\n",
        "  video = BiliVideo(id=\"\", width=854, height=480, fs=1)\n",
        "  print('Video available at https://www.bilibili.com/video/{0}'.format(video.id))\n",
        "  display(video)\n",
        "\n",
        "out1 = widgets.Output()\n",
        "with out1:\n",
        "  from IPython.display import YouTubeVideo\n",
        "  video = YouTubeVideo(id=\"vsDjtWi-BVo\", width=854, height=480, fs=1, rel=0)\n",
        "  print('Video available at https://youtube.com/watch?v=' + video.id)\n",
        "  display(video)\n",
        "\n",
        "out = widgets.Tab([out1, out2])\n",
        "out.set_title(0, 'Youtube')\n",
        "out.set_title(1, 'Bilibili')\n",
        "\n",
        "display(out)"
      ],
      "execution_count": 12,
      "outputs": [
        {
          "output_type": "display_data",
          "data": {
            "application/vnd.jupyter.widget-view+json": {
              "model_id": "fce5b31ecf3b4875a8b7a36da6013acc",
              "version_minor": 0,
              "version_major": 2
            },
            "text/plain": [
              "Tab(children=(Output(), Output()), _titles={'0': 'Youtube', '1': 'Bilibili'})"
            ]
          },
          "metadata": {
            "tags": []
          }
        }
      ]
    },
    {
      "cell_type": "markdown",
      "metadata": {
        "id": "U04XPRUGt0CF"
      },
      "source": [
        "<details>\n",
        "<summary> <font color=‘blue’>Click here for text recap of video </font></summary>\n",
        "In this section, we are going to take a step back for a bit and think more generally about the amount of information shared between two random variables. We want to know how much information you gain when you observe one variable (take a measurement) if you know something about another. We will see that the fundamental concept is the same if we think about two attributes, for example the size and color of the fish, or the prior information and the likelihood.\n",
        "</details>"
      ]
    },
    {
      "cell_type": "markdown",
      "metadata": {
        "id": "t-p0yibst0CF"
      },
      "source": [
        "## Math Exercise 4: Computing marginal likelihoods\n",
        "\n",
        "To understand the information between two variables, let's first consider the size and color of the fish.\n",
        "\n",
        "| P(X, Y)   | Y = silver   | Y = gold  |\n",
        "| ----------------- |----------|----------|\n",
        "| X = small          | 0.4          | 0.2         |\n",
        "| X = large         | 0.1         |  0.3         |\n",
        "\n",
        "The table above shows us the **joint probabilities**: the probability of both specific attributes occuring together. For example, the probability of a fish being small and silver ($P(X = small, Y = silver$) is 0.4.\n",
        "\n",
        "We want to know what the probability of a fish being small  regardless of color. Since the fish are either silver or gold, this would be the probability of a fish being small and silver plus the probability of a fish being small and gold. This is an example of marginalizing, or averaging out, the variable we are not interested in across the rows or columns.. In math speak: $P(X = small) = \\sum_y{P(X = small, Y)}$. This gives us a **marginal probability**, a probability of a variable outcome (in this case size), regardless of the other variables (in this case color).\n",
        "\n",
        "Please complete the following math problems to further practice thinking through probabilities:\n",
        "\n",
        "1. Calculate the probability of a fish being silver.\n",
        "2. Calculate the probability of a fish being small, large, silver, or gold.\n",
        "3. Calculate the probability of a fish being small OR gold. (Hint: $P(A\\ \\textrm{or}\\ B) = P(A) + P(B) - P(A\\ \\textrm{and}\\ B)$)\n",
        "\n",
        "\n"
      ]
    },
    {
      "cell_type": "code",
      "metadata": {
        "execution": {
          "iopub.execute_input": "2021-06-25T15:15:27.584366Z",
          "iopub.status.busy": "2021-06-25T15:15:27.583666Z",
          "iopub.status.idle": "2021-06-25T15:15:27.585405Z",
          "shell.execute_reply": "2021-06-25T15:15:27.584927Z"
        },
        "id": "0qxKQtCit0CF"
      },
      "source": [
        "# to_remove explanation\n",
        "\n",
        "# 1) The probability of a fish being silver is the joint probability of it being\n",
        "#.     small and silver plus the joint probability of it being large and silver:\n",
        "#\n",
        "#.    P(Y = silver) = P(X = small, Y = silver) + P(X = large, Y = silver)\n",
        "#.     = 0.4 + 0.1\n",
        "#.     = 0.5\n",
        "\n",
        "\n",
        "# 2) This is all the possibilities as in this scenario, our fish can only be small\n",
        "#.   or large, silver or gold. So the probability is 1 - the fish has to be at\n",
        "#.   least one of these.\n",
        "\n",
        "\n",
        "#. 3) First we compute the marginal probabilities\n",
        "#.  P(X = small) = P(X = small, Y = silver) + P(X = small, Y = gold) = 0.6\n",
        "#.  P(Y = gold) = P(X = small, Y = gold) + P(X = large, Y = gold) = 0.5\n",
        "#.   We already know the joint probability: P(X = small, Y = gold) = 0.2\n",
        "#.   We can now use the given formula:\n",
        "#.   P( X = small or Y = gold) = P(X = small) + P(Y = gold) - P(X = small, Y = gold)\n",
        "#.   = 0.6 + 0.5 - 0.2\n",
        "#.   = 0.9"
      ],
      "execution_count": 13,
      "outputs": []
    },
    {
      "cell_type": "markdown",
      "metadata": {
        "id": "vc1ZMSast0CG"
      },
      "source": [
        "## Think! 4: Covarying probability distributions\n",
        "\n",
        "The relationship between the marginal probabilities and the joint probabilities is determined by the correlation between the two random variables - a normalized measure of how much the variables covary. We can also think of this as gaining some information about one of the variables when we observe a measurement from the other. We will think about this more formally in Tutorial 2. \n",
        "\n",
        "Here, we want to think about how the correlation between size and color of these fish changes how much information we gain about one attribute based on the other. See Bonus Section 1 for the formula for correlation.\n",
        "\n",
        "Use the widget below and answer the following questions:\n",
        "\n",
        "1. When the correlation is zero, $\\rho = 0$, what does the distribution of size tell you about color?\n",
        "2. Set $\\rho$ to something small. As you change the probability of golden fish, what happens to the ratio of size probabilities? Set $\\rho$ larger (can be negative). Can you explain the pattern of changes in the probabilities of size as you change the probability of golden fish?\n",
        "3. Set the probability of golden fish and of large fish to around 65%. As the correlation goes towards 1, how often will you see silver large fish?\n",
        "4. What is increasing the (absolute) correlation telling you about how likely you are to see one of the properties if you see a fish with the other?\n"
      ]
    },
    {
      "cell_type": "code",
      "metadata": {
        "execution": {
          "iopub.execute_input": "2021-06-25T15:15:27.641822Z",
          "iopub.status.busy": "2021-06-25T15:15:27.640659Z",
          "iopub.status.idle": "2021-06-25T15:15:27.846348Z",
          "shell.execute_reply": "2021-06-25T15:15:27.845374Z"
        },
        "cellView": "form",
        "id": "duBubFnnt0CG",
        "colab": {
          "base_uri": "https://localhost:8080/",
          "height": 474,
          "referenced_widgets": [
            "c33211474e2c45d89d49e03b445a53cf",
            "c33b425e2fca44c18cf85ab8f520d26a",
            "ab9eccbc890b4c87b576f3f93c73982e",
            "9d18abc7407544aab97063138b2f5963",
            "40530d6370e945f994443843b653a428",
            "dd53ec64ce244cbaafe09adc96d82e74",
            "e362a61191e9427cb0440ac5126d0c17",
            "dbffcab7605d49dab127d640fe7ab865",
            "a680f68f95354a2d875a9545af276084",
            "9367662a187c4a27b07b33b3f1aaa690",
            "3cfa35257c314bff9f01531d4ec0a865",
            "d134f7a0097445ab8a178bd037f7e8cb",
            "9c1ef78673f840218e78e91a176fa5d7"
          ]
        },
        "outputId": "1614ee2a-067d-4364-b2c4-68050233674b"
      },
      "source": [
        "# @markdown Execute this cell to enable the widget\n",
        "style = {'description_width': 'initial'}\n",
        "gs = GridspecLayout(2,2)\n",
        "\n",
        "cor_widget = widgets.FloatSlider(0.0, description='ρ', min=-1, max=1, step=0.01)\n",
        "px_widget = widgets.FloatSlider(0.5, description='p(color=golden)', min=0.01, max=0.99, step=0.01, style=style)\n",
        "py_widget = widgets.FloatSlider(0.5, description='p(size=large)', min=0.01, max=0.99, step=0.01, style=style)\n",
        "gs[0,0] = cor_widget\n",
        "gs[0,1] = px_widget\n",
        "gs[1,0] = py_widget\n",
        "\n",
        "\n",
        "@widgets.interact(\n",
        "    px=px_widget,\n",
        "    py=py_widget,\n",
        "    cor=cor_widget,\n",
        ")\n",
        "def make_corr_plot(px, py, cor):\n",
        "    Cmin, Cmax = compute_cor_range(px, py) #allow correlation values\n",
        "    cor_widget.min, cor_widget.max = Cmin+0.01, Cmax-0.01\n",
        "    if cor_widget.value > Cmax:\n",
        "        cor_widget.value = Cmax\n",
        "    if cor_widget.value < Cmin:\n",
        "        cor_widget.value = Cmin\n",
        "    cor = cor_widget.value\n",
        "    P = compute_marginal(px,py,cor)\n",
        "    # print(P)\n",
        "    fig = plot_joint_probs(P)\n",
        "    plt.show(fig)\n",
        "    plt.close(fig)\n",
        "    return None\n",
        "\n",
        "# gs[1,1] = make_corr_plot()"
      ],
      "execution_count": 14,
      "outputs": [
        {
          "output_type": "display_data",
          "data": {
            "application/vnd.jupyter.widget-view+json": {
              "model_id": "c33211474e2c45d89d49e03b445a53cf",
              "version_minor": 0,
              "version_major": 2
            },
            "text/plain": [
              "interactive(children=(FloatSlider(value=0.5, description='p(color=golden)', layout=Layout(grid_area='widget002…"
            ]
          },
          "metadata": {
            "tags": []
          }
        }
      ]
    },
    {
      "cell_type": "code",
      "metadata": {
        "execution": {
          "iopub.execute_input": "2021-06-25T15:15:27.850935Z",
          "iopub.status.busy": "2021-06-25T15:15:27.849827Z",
          "iopub.status.idle": "2021-06-25T15:15:27.851764Z",
          "shell.execute_reply": "2021-06-25T15:15:27.852245Z"
        },
        "id": "RDimmFKqt0CG"
      },
      "source": [
        "# to_remove explanation\n",
        "\n",
        "#' 1. When the correlation is zero, the two properties are completely independent.\n",
        "#' This means you don't gain any information about one variable from observing the other.\n",
        "#' Importantly, the marginal distribution of one variable is therefore independent of the other.\n",
        "\n",
        "#' 2. The correlation controls the distribution of probability across the joint probabilty table.\n",
        "#' The higher the correlation, the more the probabilities are restricted by the fact that both rows\n",
        "#' and columns need to sum to one! While the marginal probabilities show the relative weighting, the\n",
        "#' absolute probabilities for one quality will become more dependent on the other as the correlation\n",
        "#' goes to 1 or -1.\n",
        "\n",
        "#' 3. The correlation will control how much probabilty mass is located on the diagonals. As the\n",
        "#' correlation goes to 1 (or -1), the probability of seeing the one of the two pairings has to goes\n",
        "#' towards zero!\n",
        "\n",
        "#' 4. If we think about what information we gain by observing one quality, the intution from (3.) tells\n",
        "#' us that we know more (have more information) about the other quality as a function of the correlation."
      ],
      "execution_count": 15,
      "outputs": []
    },
    {
      "cell_type": "markdown",
      "metadata": {
        "id": "ZgbU7XWOt0CH"
      },
      "source": [
        "We have just seen how two random variables can be more or less independent. The more correlated, the less independent, and the more shared information. We also learned that we can marginalize to determine the marginal likelihood of a hidden state or to find the marginal probability distribution of two random variables. We are going to now complete our journey towards being fully Bayesian!"
      ]
    },
    {
      "cell_type": "markdown",
      "metadata": {
        "id": "AWoFkt7yt0CH"
      },
      "source": [
        "---\n",
        "# Section 5: Bayes' Rule and the Posterior"
      ]
    },
    {
      "cell_type": "markdown",
      "metadata": {
        "id": "x18uCfdet0CH"
      },
      "source": [
        "Marginalization is going to be used to combine our prior knowlege, which we call the **prior**, and our new information from a measurement, the **likelihood**. Only in this case, the information we gain about the hidden state we are interested in, where the fish are, is based on the relationship between the probabilities of the measurement and our prior. \n",
        "\n",
        "We can now calculate the full posterior distribution for the hidden state ($s$) using Bayes' Rule. As we've seen, the posterior is proportional the the prior times the likelihood. This means that the posterior probability of the hidden state ($s$) given a measurement ($m$) is proportional to the likelihood of the measurement given the state times the prior probability of that state (the marginal likelihood):\n",
        "\n",
        "$$ P(s | m) \\propto P(m | s) P(s)  $$\n",
        "\n",
        "We say proportional to instead of equal because we need to normalize to produce a full probability distribution:\n",
        "\n",
        "$$ P(s | m) = \\frac{P(m | s) P(s)}{P(m)}  $$\n",
        "\n",
        "Normalizing by this $P(m)$ means that our posterior is a complete probability distribution that sums or integrates to 1 appropriately. We now can use this new, complete probability distribution for any future inference or decisions we like! In fact, as we will see tomorrow, we can use it as a new prior! Finally, we often call this probability distribution our beliefs over the hidden states, to emphasize that it is our subjective knowlege about the hidden state.\n",
        "\n",
        "For many complicated cases, like those we might be using to model behavioral or brain inferences, the normalization term can be intractable or extremely complex to calculate. We can be careful to choose probability distributions were we can analytically calculate the posterior probability or numerical approximation is reliable. Better yet, we sometimes don't need to bother with this normalization! The normalization term, $P(m)$, is the probability of the measurement. This does not depend on state so is essentially a constant we can often ignore. We can compare the unnormalized posterior distribution values for different states because how they relate to each other is unchanged when divided by the same constant. We will see how to do this to compare evidence for different hypotheses tomorrow. (It's also used to compare the likelihood of models fit using maximum likelihood estimation, as you did in W1D5.)\n",
        "\n",
        "In this relatively simple example, we can compute the marginal probability $P(m)$ easily by using:\n",
        "$$P(m) = \\sum_s P(m | s) P(s)$$\n",
        "We can then normalize so that we deal with the full posterior distribution.\n"
      ]
    },
    {
      "cell_type": "markdown",
      "metadata": {
        "id": "VlCK1nq0t0CH"
      },
      "source": [
        "## Math Exercise 5: Calculating a posterior probability\n",
        "\n",
        "Our prior is $p(s = left) = 0.3$ and $p(s = right) = 0.7$. In the video, we learned that the chance of catching a fish given they fish on the same side as the school was 50%. Otherwise, it was 10%. We observe a person fishing on the left side. Our likelihood is: \n",
        "\n",
        "\n",
        "| Likelihood: p(m \\| s) | m = catch fish   | m = no fish  |\n",
        "| ----------------- |----------|----------|\n",
        "| s = left          | 0.5          | 0.5         |\n",
        "| s = right         | 0.1        |  0.9       |\n",
        "\n",
        "\n",
        "Calculate the posterior probability (on paper) that:\n",
        "\n",
        "1. The school is on the left if the fisherperson catches a fish: $p(s = left | m = catch fish)$ (hint: normalize by compute $p(m = catch fish)$)\n",
        "2. The school is on the right if the fisherperson does not catch a fish: $p(s = right | m = no fish)$"
      ]
    },
    {
      "cell_type": "code",
      "metadata": {
        "execution": {
          "iopub.execute_input": "2021-06-25T15:15:27.856837Z",
          "iopub.status.busy": "2021-06-25T15:15:27.855645Z",
          "iopub.status.idle": "2021-06-25T15:15:27.857534Z",
          "shell.execute_reply": "2021-06-25T15:15:27.857980Z"
        },
        "id": "fxtFJ_3bt0CI"
      },
      "source": [
        "# to_remove explanation\n",
        "\n",
        "# 1. Using Bayes rule, we know that P(s = left | m = catch fish) = P(m = catch fish | s = left)P(s = left) / P(m = catch fish)\n",
        "#.   Let's first compute P(m = catch fish):\n",
        "#.   P(m = catch fish) =  P(m = catch fish | s = left)P(s = left) +  P(m = catch fish | s = right)P(s = right)\n",
        "#                      = 0.5 * 0.3 + .1*.7\n",
        "#                      = 0.22\n",
        "#.   Now we can plug in all parts of Bayes rule:\n",
        "#    P(s = left | m = catch fish) = P(m = catch fish | s = left)P(s = left) / P(m = catch fish)\n",
        "#                                 = 0.5*0.3/0.22\n",
        "#                                 = 0.68\n",
        "\n",
        "# 2. Using Bayes rule, we know that P(s = right | m = no fish) = P(m = no fish | s = right)P(s = right) / P(m = no fish)\n",
        "#.   Let's first compute P(m = no fish):\n",
        "#.   P(m = no fish) =  P(m = no fish | s = left)P(s = left) +  P(m = no fish | s = right)P(s = right)\n",
        "#                      = 0.5 * 0.3 + .9*.7\n",
        "#                      = 0.78\n",
        "#.   Now we can plug in all parts of Bayes rule:\n",
        "#    P(s = right | m = no fish) = P(m = no fish | s = right)P(s = right) / P(m = no fish)\n",
        "#                                 = 0.9*0.7/0.78\n",
        "#                                 = 0.81"
      ],
      "execution_count": 16,
      "outputs": []
    },
    {
      "cell_type": "markdown",
      "metadata": {
        "id": "fCXUeNWqt0CI"
      },
      "source": [
        "## Coding Exercise 5: Computing Posteriors\n",
        "\n",
        "Let's implement our above math to be able to compute posteriors for different priors and likelihood.s\n",
        "\n",
        "As before, our prior is $p(s = left) = 0.3$ and $p(s = right) = 0.7$. In the video, we learned that the chance of catching a fish given they fish on the same side as the school was 50%. Otherwise, it was 10%. We observe a person fishing on the left side. Our likelihood is: \n",
        "\n",
        "\n",
        "| Likelihood: p(m \\| s) | m = catch fish   | m = no fish  |\n",
        "| ----------------- |----------|----------|\n",
        "| s = left          | 0.5          | 0.5         |\n",
        "| s = right         | 0.1        |  0.9       |\n",
        "\n",
        "\n",
        "We want our full posterior to take the same 2 by 2 form. Make sure the outputs match your math answers!\n",
        "\n"
      ]
    },
    {
      "cell_type": "code",
      "metadata": {
        "execution": {
          "iopub.execute_input": "2021-06-25T15:15:27.865944Z",
          "iopub.status.busy": "2021-06-25T15:15:27.865375Z",
          "iopub.status.idle": "2021-06-25T15:15:27.960980Z",
          "shell.execute_reply": "2021-06-25T15:15:27.961872Z"
        },
        "id": "DJfCMlwEt0CI"
      },
      "source": [
        "def compute_posterior(likelihood, prior):\n",
        "  \"\"\" Use Bayes' Rule to compute posterior from likelihood and prior\n",
        "\n",
        "  Args:\n",
        "    likelihood (ndarray): i x j array with likelihood probabilities where i is\n",
        "                    number of state options, j is number of measurement options\n",
        "    prior (ndarray): i x 1 array with prior probability of each state\n",
        "\n",
        "  Returns:\n",
        "    ndarray: i x j array with posterior probabilities where i is\n",
        "            number of state options, j is number of measurement options\n",
        "\n",
        "  \"\"\"\n",
        "\n",
        "  #################################################\n",
        "  ## TODO for students ##\n",
        "  # Fill out function and remove\n",
        "  raise NotImplementedError(\"Student exercise: implement compute_posterior\")\n",
        "  #################################################\n",
        "\n",
        "  # Compute unnormalized posterior (likelihood times prior)\n",
        "  posterior = ... # first row is s = left, second row is s = right\n",
        "\n",
        "  # Compute p(m)\n",
        "  p_m = np.sum(posterior, axis = 0)\n",
        "\n",
        "  # Normalize posterior (divide elements by p_m)\n",
        "  posterior /= ...\n",
        "\n",
        "  return posterior\n",
        "\n",
        "\n",
        "# # Uncomment and run\n",
        "# # Make prior\n",
        "# prior = np.array([0.3, 0.7]).reshape((2, 1)) # first row is s = left, second row is s = right\n",
        "\n",
        "# # Make likelihood\n",
        "# likelihood = np.array([[0.5, 0.5], [0.1, 0.9]]) # first row is s = left, second row is s = right\n",
        "\n",
        "# # Compute posterior\n",
        "# posterior = compute_posterior(likelihood, prior)\n",
        "\n",
        "# # Visualize\n",
        "# plot_prior_likelihood_posterior(prior, likelihood, posterior)"
      ],
      "execution_count": 17,
      "outputs": []
    },
    {
      "cell_type": "code",
      "metadata": {
        "execution": {
          "iopub.execute_input": "2021-06-25T15:15:27.968291Z",
          "iopub.status.busy": "2021-06-25T15:15:27.967743Z",
          "iopub.status.idle": "2021-06-25T15:15:28.290753Z",
          "shell.execute_reply": "2021-06-25T15:15:28.290286Z"
        },
        "id": "4JWlNa-Et0CI",
        "colab": {
          "base_uri": "https://localhost:8080/",
          "height": 356
        },
        "outputId": "5918de0e-60c4-4086-d673-a5fe28845d0a"
      },
      "source": [
        "# to_remove solution\n",
        "\n",
        "def compute_posterior(likelihood, prior):\n",
        "  \"\"\" Use Bayes' Rule to compute posterior from likelihood and prior\n",
        "\n",
        "  Args:\n",
        "    likelihood (ndarray): i x j array with likelihood probabilities where i is\n",
        "                    number of state options, j is number of measurement options\n",
        "    prior (ndarray): i x 1 array with prior probability of each state\n",
        "\n",
        "  Returns:\n",
        "    ndarray: i x j array with posterior probabilities where i is\n",
        "            number of state options, j is number of measurement options\n",
        "\n",
        "  \"\"\"\n",
        "\n",
        "  # Compute unnormalized posterior (likelihood times prior)\n",
        "  posterior = likelihood * prior # first row is s = left, second row is s = right\n",
        "\n",
        "  # Compute p(m)\n",
        "  p_m = np.sum(posterior, axis = 0)\n",
        "\n",
        "  # Normalize posterior (divide elements by p_m)\n",
        "  posterior /= p_m\n",
        "\n",
        "  return posterior\n",
        "\n",
        "\n",
        "# Make prior\n",
        "prior = np.array([0.3, 0.7]).reshape((2, 1)) # first row is s = left, second row is s = right\n",
        "\n",
        "# Make likelihood\n",
        "likelihood = np.array([[0.5, 0.5], [0.1, 0.9]]) # first row is s = left, second row is s = right\n",
        "\n",
        "# Compute posterior\n",
        "posterior = compute_posterior(likelihood, prior)\n",
        "\n",
        "# Visualize\n",
        "with plt.xkcd():\n",
        "  plot_prior_likelihood_posterior(prior, likelihood, posterior)"
      ],
      "execution_count": 18,
      "outputs": [
        {
          "output_type": "display_data",
          "data": {
            "image/png": "[encoded data removed]",
            "text/plain": [
              "<Figure size 864x288 with 3 Axes>"
            ]
          },
          "metadata": {
            "tags": [],
            "image/png": {
              "width": 876,
              "height": 339
            }
          }
        }
      ]
    },
    {
      "cell_type": "markdown",
      "metadata": {
        "id": "uffIgQbyt0CJ"
      },
      "source": [
        "## Interactive Demo 5: What affects the posterior?\n",
        "\n",
        "Now that we can understand the implementation of *Bayes rule*, let's vary the parameters of the prior and likelihood to see how changing the prior and likelihood affect the posterior. \n",
        "\n",
        "In the demo below, you can change the prior by playing with the slider for $p( s = left)$. You can also change the likelihood by changing the probability of catching a fish given that the school is on the left and the probability of catching a fish given that the school is on the right. The fisherperson you are observing is fishing on the left.\n",
        " \n",
        "\n",
        "1.   Keeping the likelihood constant, when does the prior have the strongest influence over the posterior? Meaning, when does the posterior look most like the prior no matter whether a fish was caught or not?\n",
        "2.   Keeping the likelihood constant, when does the prior exert the weakest influence?  Meaning, when does the posterior look least like the prior and depend most on whether a fish was caught or not?\n",
        "3.  Set the prior probability of the state = left to 0.6 and play with the likelihood. When does the likelihood exert the most influence over the posterior?"
      ]
    },
    {
      "cell_type": "code",
      "metadata": {
        "execution": {
          "iopub.execute_input": "2021-06-25T15:15:28.333682Z",
          "iopub.status.busy": "2021-06-25T15:15:28.333070Z",
          "iopub.status.idle": "2021-06-25T15:15:28.570340Z",
          "shell.execute_reply": "2021-06-25T15:15:28.570771Z"
        },
        "id": "dbWRpZrVt0CJ",
        "colab": {
          "base_uri": "https://localhost:8080/",
          "height": 455,
          "referenced_widgets": [
            "e8fcd480c0c240f8a0842e00827903b3",
            "1a47c22d8a834aa59d986b89d112efa6",
            "3b4a06989d3d4d538b5197870b062e9f",
            "4e3e28bc024d40cc8ea1f5508a84a05b",
            "8538964a65314f2e83f6c424dc97f1ae",
            "4e9dbb1445c047b79dbb6f5ff9bef1be",
            "c512ecc718e94df2921f768a0a5b743f",
            "b2f888ad13da43a091dafaae84e37e2d",
            "f63c03abce394385b14ed8ec70cd70a0",
            "191af1c801ba4b3abc491fd880f57ff3",
            "39c751aaec894ffe884d66928f0ff63b",
            "2da5a3f0a840401b9bf0f99a5ab7c4cb",
            "4db4616706f049fba54ff07c7e21ce69",
            "6607280d80d448828f8dd68a87f6a659",
            "36728ac83e71475189e395d1c28bf3ae",
            "372e19798a4040b1ad69949cc12fcf96"
          ]
        },
        "cellView": "form",
        "outputId": "640abe94-45cb-41c3-9003-216014610ae3"
      },
      "source": [
        "# @markdown Execute this cell to enable the widget\n",
        "style = {'description_width': 'initial'}\n",
        "ps_widget = widgets.FloatSlider(0.3, description='p(s = left)',\n",
        "                                min=0.01, max=0.99, step=0.01)\n",
        "p_a_s1_widget = widgets.FloatSlider(0.5, description='p(fish | s = left)',\n",
        "                                    min=0.01, max=0.99, step=0.01, style=style)\n",
        "p_a_s0_widget = widgets.FloatSlider(0.1, description='p(fish | s = right)',\n",
        "                                    min=0.01, max=0.99, step=0.01, style=style)\n",
        "observed_widget = widgets.Checkbox(value=False, description='Observed fish (m)',\n",
        "                                 disabled=False, indent=False, layout={'width': 'max-content'})\n",
        "\n",
        "@widgets.interact(\n",
        "    ps=ps_widget,\n",
        "    p_a_s1=p_a_s1_widget,\n",
        "    p_a_s0=p_a_s0_widget,\n",
        "    m_right=observed_widget\n",
        ")\n",
        "def make_prior_likelihood_plot(ps,p_a_s1,p_a_s0,m_right):\n",
        "    fig = plot_prior_likelihood(ps,p_a_s1,p_a_s0,m_right)\n",
        "    plt.show(fig)\n",
        "    plt.close(fig)\n",
        "    return None"
      ],
      "execution_count": 19,
      "outputs": [
        {
          "output_type": "display_data",
          "data": {
            "application/vnd.jupyter.widget-view+json": {
              "model_id": "e8fcd480c0c240f8a0842e00827903b3",
              "version_minor": 0,
              "version_major": 2
            },
            "text/plain": [
              "interactive(children=(FloatSlider(value=0.3, description='p(s = left)', max=0.99, min=0.01, step=0.01), FloatS…"
            ]
          },
          "metadata": {
            "tags": []
          }
        }
      ]
    },
    {
      "cell_type": "code",
      "metadata": {
        "execution": {
          "iopub.execute_input": "2021-06-25T15:15:28.577224Z",
          "iopub.status.busy": "2021-06-25T15:15:28.576677Z",
          "iopub.status.idle": "2021-06-25T15:15:28.580420Z",
          "shell.execute_reply": "2021-06-25T15:15:28.579966Z"
        },
        "id": "N_6hL36Bt0CJ"
      },
      "source": [
        "# to_remove explanation\n",
        "\n",
        "# 1).  The prior exerts a strong influence over the posterior when it is very informative: when\n",
        "#.   the probability of the school being on one side or the other. If the prior that the fish are\n",
        "#.   on the left side is very high (like 0.9), the posterior probability of the state being left is\n",
        "#.   high regardless of the measurement.\n",
        "\n",
        "# 2).  The prior does not exert a strong influence when it is not informative: when the probabilities\n",
        "#.     of the school being on the left vs right are similar (both are 0.5 for example). In this case,\n",
        "#.     the posterior is more driven  by the collected data (the measurement) and more closely resembles\n",
        "#.     the likelihood.\n",
        "\n",
        "\n",
        "#.  3) Similarly to the prior, the likelihood exerts the most influence when it is informative: when catching\n",
        "#.    a fish tells you a lot of information about which state is likely. For example, if the probability of the\n",
        "#.    fisherperson catching a fish if he is fishing on the right side and the school is on the left is 0\n",
        "#.    (p fish | s = left) = 0 and the probability of catching a fish if the school is on the right is 1, the\n",
        "#.    prior does not affect the posterior at all. The measurement tells you the hidden state completely."
      ],
      "execution_count": 20,
      "outputs": []
    },
    {
      "cell_type": "markdown",
      "metadata": {
        "id": "53V0BdJxt0CK"
      },
      "source": [
        "# Section 6: Making Bayesian fishing decisions\n",
        "\n",
        "We will explore how to consider the expected utility of an action based on our belief (the posterior distribution) about where we think the fish are. Now we have all the components of a Bayesian decision: our prior information, the likelihood given a measurement, the posterior distribution (belief) and our utility (the gains and losses). This allows us to consider the relationship between the true value of the hidden state, $s$, and what we *expect* to get if we take action, $a$, based on our belief!\n",
        "\n",
        "Let's use the following widget to think about the relationship between these probability distributions and utility function."
      ]
    },
    {
      "cell_type": "markdown",
      "metadata": {
        "id": "hMdzzH-Nt0CK"
      },
      "source": [
        "## Think! 6: What is more important, the probabilities or the utilities?\n",
        "\n",
        "We are now going to put everything we've learned together to gain some intuitions for how each of the elements that goes into a Bayesian decision comes together. Remember, the common assumption in neuroscience, psychology, economics, ecology, etc. is that we (humans and animals) are tying to maximize our expected utility.\n",
        "\n",
        "1. Can you find a situation where the expected utility is the same for both actions?\n",
        "2. What is more important for determining the expected utility: the prior or a new measurement (the likelihood)?\n",
        "3. Why is this a normative model?\n",
        "4. Can you think of ways in which this model would need to be extended to describe human or animal behavior?"
      ]
    },
    {
      "cell_type": "code",
      "metadata": {
        "execution": {
          "iopub.execute_input": "2021-06-25T15:15:28.632070Z",
          "iopub.status.busy": "2021-06-25T15:15:28.628105Z",
          "iopub.status.idle": "2021-06-25T15:15:29.020824Z",
          "shell.execute_reply": "2021-06-25T15:15:29.020317Z"
        },
        "id": "8PBXMANUt0CK",
        "colab": {
          "base_uri": "https://localhost:8080/",
          "height": 624,
          "referenced_widgets": [
            "946efb3ce7cd4655ad60e98422615ca0",
            "d6720e4bf4dc445b8031f4966f7ede45",
            "f878e49c9db543098d55dd71acb1893c",
            "589c138de2234dc1b3eca4c571fda8e6",
            "03ff23aa15a348d68907e96f40938739",
            "f6f334e44cb245189e104e3d8cbdeef3",
            "afacdfd29aae40c0a1e34ce4ce5bc730",
            "b693c64062114ca0b082b98bddd1ecb5",
            "210f869ce23e479891294030c9306a11",
            "4cd0780bcc7b4af09d17d3c6acb20fbd",
            "1c09d00b1d944c708adfed84749f023e",
            "48dc26fdacb44a3584ff44873774fc7a",
            "fcada24b47f94d44b5d25ed7fab5a8dd",
            "2cc67853b2ab47ee86d691ae128ee448",
            "2c4bf9b3b30e4386a12849e8eeffd680",
            "4c1c9626771549878fbe10735bdc8061",
            "64e2a761f28b43b69b6236692483c3f0",
            "4c89c9b207ce4d71b5b314dd37003e1d",
            "b37af99f5b5b45428358812ca30900d2",
            "1f148bebfcbf4cf1be54749cd874a3f8"
          ]
        },
        "cellView": "form",
        "outputId": "1e7e4dfd-4274-4c7a-b136-e29ec084bd56"
      },
      "source": [
        "# @markdown Execute this cell to enable the widget\n",
        "style = {'description_width': 'initial'}\n",
        "ps_widget = widgets.FloatSlider(0.3, description='p(s)',\n",
        "                                min=0.01, max=0.99, step=0.01)\n",
        "p_a_s1_widget = widgets.FloatSlider(0.5, description='p(fish | s = left)',\n",
        "                                    min=0.01, max=0.99, step=0.01, style=style)\n",
        "p_a_s0_widget = widgets.FloatSlider(0.1, description='p(fish | s = right)',\n",
        "                                    min=0.01, max=0.99, step=0.01, style=style)\n",
        "observed_widget = widgets.Checkbox(value=False, description='Observed fish (m)',\n",
        "                                 disabled=False, indent=False, layout={'width': 'max-content'})\n",
        "\n",
        "\n",
        "widget_ui = HBox([VBox([ps_widget, observed_widget]),\n",
        "                  VBox([p_a_s1_widget, p_a_s0_widget])])\n",
        "widget_out = interactive_output(plot_prior_likelihood_utility,\n",
        "                                {'ps': ps_widget,\n",
        "                                'p_a_s1': p_a_s1_widget,\n",
        "                                'p_a_s0': p_a_s0_widget,\n",
        "                                'measurement': observed_widget})\n",
        "display(widget_ui, widget_out)\n",
        "\n",
        "# @widgets.interact(\n",
        "#     ps=ps_widget,\n",
        "#     p_a_s1=p_a_s1_widget,\n",
        "#     p_a_s0=p_a_s0_widget,\n",
        "#     m_right=observed_widget\n",
        "# )\n",
        "# def make_prior_likelihood_utility_plot(ps, p_a_s1, p_a_s0,m_right):\n",
        "#     fig = plot_prior_likelihood_utility(ps, p_a_s1, p_a_s0,m_right)\n",
        "#     plt.show(fig)\n",
        "#     plt.close(fig)\n",
        "#     return None"
      ],
      "execution_count": 21,
      "outputs": [
        {
          "output_type": "display_data",
          "data": {
            "application/vnd.jupyter.widget-view+json": {
              "model_id": "946efb3ce7cd4655ad60e98422615ca0",
              "version_minor": 0,
              "version_major": 2
            },
            "text/plain": [
              "HBox(children=(VBox(children=(FloatSlider(value=0.3, description='p(s)', max=0.99, min=0.01, step=0.01), Check…"
            ]
          },
          "metadata": {
            "tags": []
          }
        },
        {
          "output_type": "display_data",
          "data": {
            "application/vnd.jupyter.widget-view+json": {
              "model_id": "b37af99f5b5b45428358812ca30900d2",
              "version_minor": 0,
              "version_major": 2
            },
            "text/plain": [
              "Output()"
            ]
          },
          "metadata": {
            "tags": []
          }
        }
      ]
    },
    {
      "cell_type": "code",
      "metadata": {
        "execution": {
          "iopub.execute_input": "2021-06-25T15:15:29.026803Z",
          "iopub.status.busy": "2021-06-25T15:15:29.025580Z",
          "iopub.status.idle": "2021-06-25T15:15:29.027429Z",
          "shell.execute_reply": "2021-06-25T15:15:29.027901Z"
        },
        "id": "oiLee-5ot0CK"
      },
      "source": [
        "# to_remove explanation\n",
        "\n",
        "#' 1. There are actually many (infinite) combinations that can produce the same\n",
        "#.    expected utility for both actions: but the posterior probabilities will always\n",
        "#     have to balance out the differences in the utility function. So, what is\n",
        "#     important is that for a given utility function, there will be some 'point\n",
        "#     of indifference'\n",
        "\n",
        "#' 2. What matters is the relative information: if the prior is close to 50/50,\n",
        "#     then the likelihood has more infuence, if the likelihood is 50/50 given a\n",
        "#     measurement (the measurement is uninformative), the prior is more important.\n",
        "#     But the critical insite from Bayes Rule and the Bayesian approach is that what\n",
        "#     matters is the relative information you gain from a measurement, and that\n",
        "#     you can use all of this information for your decision.\n",
        "\n",
        "#' 3. The model gives us a very precise way to think about how we *should* combine\n",
        "#     information and how we *should* act, GIVEN some assumption about our goals.\n",
        "#     In this case, if we assume we are trying to maximize expected utility--we can\n",
        "#     state what an animal or subject should do.\n",
        "\n",
        "#' 4. There are lots of possible extensions. Humans may not always try to maximize\n",
        "#     utility; humans and animals might not be able to calculate or represent probabiltiy\n",
        "#     distributions exactly; The utility function might be more complicated; etc."
      ],
      "execution_count": 22,
      "outputs": []
    },
    {
      "cell_type": "markdown",
      "metadata": {
        "id": "UawEaKbet0CL"
      },
      "source": [
        "---\n",
        "# Summary\n",
        "\n",
        "In this tutorial, you learned about combining prior information with new measurements to update your knowledge using Bayes Rulem, in the context of a fishing problem. \n",
        "\n",
        "Specifically, we covered:\n",
        "\n",
        "* That the likelihood is the probability of the measurement given some hidden state\n",
        "\n",
        "* That how the prior and likelihood interact to create the posterior, the probability of the hidden state given a measurement, depends on how they covary\n",
        "\n",
        "* That utility is the gain from each action and state pair, and the expected utility for an action is the sum of the utility for all state pairs, weighted by the probability of that state happening. You can then choose the action with highest expected utility.\n"
      ]
    },
    {
      "cell_type": "markdown",
      "metadata": {
        "id": "ZQ77znsrt0CL"
      },
      "source": [
        "---\n",
        "# Bonus"
      ]
    },
    {
      "cell_type": "markdown",
      "metadata": {
        "id": "ECFTMGaKt0CL"
      },
      "source": [
        "## Bonus Section 1: Correlation Formula\n",
        "To understand the way we calculate the correlation, we need to review the definition of covariance and correlation.\n",
        "\n",
        "Covariance:\n",
        "\n",
        "$$\n",
        "cov(X,Y) = \\sigma_{XY} = E[(X - \\mu_{x})(Y - \\mu_{y})] = E[X]E[Y] - \\mu_{x}\\mu_{y}\n",
        "$$\n",
        "\n",
        "Correlation:\n",
        "\n",
        "$$\n",
        "\\rho_{XY} = \\frac{cov(Y,Y)}{\\sqrt{V(X)V(Y)}} = \\frac{\\sigma_{XY}}{\\sigma_{X}\\sigma_{Y}}\n",
        "$$"
      ]
    }
  ]
}