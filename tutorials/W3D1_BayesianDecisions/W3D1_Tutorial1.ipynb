{
  "nbformat": 4,
  "nbformat_minor": 0,
  "metadata": {
    "colab": {
      "name": "W3D1_Tutorial1",
      "provenance": [],
      "collapsed_sections": [
        "jWmfLbhzBpfz"
      ],
      "toc_visible": true,
      "include_colab_link": true
    },
    "kernel": {
      "display_name": "Python 3",
      "language": "python",
      "name": "python3"
    },
    "kernelspec": {
      "name": "python3",
      "display_name": "Python 3.7.10 64-bit ('nma': conda)"
    },
    "language_info": {
      "codemirror_mode": {
        "name": "ipython",
        "version": 3
      },
      "file_extension": ".py",
      "mimetype": "text/x-python",
      "name": "python",
      "nbconvert_exporter": "python",
      "pygments_lexer": "ipython3",
      "version": "3.7.10"
    },
    "interpreter": {
      "hash": "3e19903e646247cead5404f55ff575624523d45cf244c3f93aaf5fa10367032a"
    },
    "widgets": {
      "application/vnd.jupyter.widget-state+json": {
        "d23945f4a2134c01bd4401518678b56e": {
          "model_module": "@jupyter-widgets/controls",
          "model_name": "TabModel",
          "state": {
            "_view_name": "TabView",
            "_dom_classes": [],
            "_titles": {
              "0": "Youtube",
              "1": "Bilibili"
            },
            "_model_name": "TabModel",
            "_view_module": "@jupyter-widgets/controls",
            "selected_index": 0,
            "_model_module_version": "1.5.0",
            "_view_count": null,
            "_view_module_version": "1.5.0",
            "box_style": "",
            "layout": "IPY_MODEL_658138badb054de38580ab3433bc7993",
            "_model_module": "@jupyter-widgets/controls",
            "children": [
              "IPY_MODEL_4af32ba29c9642e582f0cae414fc189a",
              "IPY_MODEL_767343268f5b43edbc3066b429757810"
            ]
          }
        },
        "658138badb054de38580ab3433bc7993": {
          "model_module": "@jupyter-widgets/base",
          "model_name": "LayoutModel",
          "state": {
            "_view_name": "LayoutView",
            "grid_template_rows": null,
            "right": null,
            "justify_content": null,
            "_view_module": "@jupyter-widgets/base",
            "overflow": null,
            "_model_module_version": "1.2.0",
            "_view_count": null,
            "flex_flow": null,
            "width": null,
            "min_width": null,
            "border": null,
            "align_items": null,
            "bottom": null,
            "_model_module": "@jupyter-widgets/base",
            "top": null,
            "grid_column": null,
            "overflow_y": null,
            "overflow_x": null,
            "grid_auto_flow": null,
            "grid_area": null,
            "grid_template_columns": null,
            "flex": null,
            "_model_name": "LayoutModel",
            "justify_items": null,
            "grid_row": null,
            "max_height": null,
            "align_content": null,
            "visibility": null,
            "align_self": null,
            "height": null,
            "min_height": null,
            "padding": null,
            "grid_auto_rows": null,
            "grid_gap": null,
            "max_width": null,
            "order": null,
            "_view_module_version": "1.2.0",
            "grid_template_areas": null,
            "object_position": null,
            "object_fit": null,
            "grid_auto_columns": null,
            "margin": null,
            "display": null,
            "left": null
          }
        },
        "4af32ba29c9642e582f0cae414fc189a": {
          "model_module": "@jupyter-widgets/output",
          "model_name": "OutputModel",
          "state": {
            "_view_name": "OutputView",
            "msg_id": "",
            "_dom_classes": [],
            "_model_name": "OutputModel",
            "outputs": [
              {
                "output_type": "stream",
                "metadata": {
                  "tags": []
                },
                "text": "Video available at https://youtube.com/watch?v=JiEIn9QsrFg\n",
                "stream": "stdout"
              },
              {
                "output_type": "display_data",
                "metadata": {
                  "tags": []
                },
                "text/html": "\n        <iframe\n            width=\"854\"\n            height=\"480\"\n            src=\"https://www.youtube.com/embed/JiEIn9QsrFg?fs=1&rel=0\"\n            frameborder=\"0\"\n            allowfullscreen\n        ></iframe>\n        ",
                "text/plain": "<IPython.lib.display.YouTubeVideo at 0x7f7d4dc3eb50>",
                "image/jpeg": "/9j/4AAQSkZJRgABAQAAAQABAAD/2wCEABALDBoYFhsaGRodHRwfJC0mIyEiIj0tJyklLi4xMC0uLjU1SFBFNzhLOS4uRWFFS1NWW1xbOEJlbWRYbFBZW1cBERISGRYZMBsbMFc9N0NXX1dXV1dXXVdXV1dXV1hXV11XV1dXV1dXV1ddV11XV11XV1dXV11XV1dXV1dXV1dXXf/AABEIAWgB4AMBIgACEQEDEQH/xAAbAAEAAgMBAQAAAAAAAAAAAAAABAUBAwYCB//EAEIQAAIBAgMECAQEBQIFBAMAAAECAAMRBBIhEzFBUQUXIlNhcZLSMlKBkRRCobEGFSPB0TNyNENisvAkgpPhB3Tx/8QAGQEBAQEBAQEAAAAAAAAAAAAAAAECAwQF/8QAJREBAAICAgIDAAEFAAAAAAAAAAERAhIDITFRBBNB8CKBkaHR/9oADAMBAAIRAxEAPwD5/ERAREQEREBERAREQEREBERAREQEREBERAREQEREBERAREQEREBERAREQEREBERAREQEREBERAREQEREBERAREQEREBERAREQEREBERAREQEREBERAREQEREBERAREQEREBERAREQEREBERAREQEREBERAREQEREBERAREQEREBERAREQEREBERAREQEREBERAREQEREBE6/q4xve4b1N7Y6uMb3uG9Te2ByETr+rjG97hvU3tjq4xve4b1N7YHIROv6uMb3uG9Te2OrjG97hvU3tgchE6/q4xve4b1N7Y6uMb3uG9Te2ByETr+rjG97hvU3tjq4xve4b1N7YHIROv6uMb3uG9Te2OrjG97hvU3tgchE6/q4xve4b1N7Y6uMb3uG9Te2ByETr+rjG97hvU3tjq4xve4b1N7YHIROv6uMb3uG9Te2OrjG97hvU3tgchE6/q4xve4b1N7Y6uMb3uG9Te2ByETr+rjG97hvU3tjq4xve4b1N7YHIROv6uMb3uG9Te2OrjG97hvU3tgchE6/q4xve4b1N7Y6uMb3uG9Te2ByETr+rjG97hvU3tjq4xve4b1N7YHIROv6uMb3uG9Te2OrjG97hvU3tgchE6/q4xve4b1N7Y6uMb3uG9Te2ByETr+rjG97hvU3tjq4xve4b1N7YHIROv6uMb3uG9Te2OrjG97hvU3tgchE6/q4xve4b1N7Y6uMb3uG9Te2ByETr+rjG97hvU3tjq4xve4b1N7YHIROv6uMb3uG9Te2OrjG97hvU3tgchE6/q4xve4b1N7Y6uMb3uG9Te2ByETr+rjG97hvU3tjq4xve4b1N7YHIROv6uMb3uG9Te2OrjG97hvU3tgchEtW6ArAkZqenif8R/IavzU/uf8AEztC1KqiWVToWqu9k+5/xMDoap8yfc/4jeCpV0Sy/klX5k+5/wAQOhKvzJ9z/iN8fZrKtiWR6EqfPT+5/wATA6GqH81P7n/EbQVKuiWf8jq/NT+5/wAR/IqvzU/uf8RtBUqyJafyKr81P7n/ABMfyKr81P7n/EbwVL7ZERNIRNGKrmmhZab1Dp2Utm/UgSDgumds5VcNXADFGZgtlYC5v2r8RAtYkfA4ta9JKqghXFwDvm+BmJhjYE8pSp/EibJa7YfELRIB2hUFQp4mxJt9IF3ExeIGYmIgZiacRXyAHK73YLZBci5tc+A4zbAzExEDMTEQMxMRAzExeIGYmJoxuLWhSaq1yq2vbfqQP7wJETEzARI+Nxi0EDsCQXRNObsFH6mb4GYmLxAzE04attFzZXTUizix0JF/I2uJtgZiVT9N/wBSqiYavU2TZWZApF7A6XNzoRJuCxaV6S1aZujC4uLHkQRwN4EiJiZgImJ4rVQiM51Cgk236C8DZE04TECrSSqoIV1DAHfYi+s3QEREBERAREQERED5zU+JvMzxKvFdLkVGAUWDH956TphDa4InmmJdLSsWdJ4Vp4xdcEaG/lIJqKoLs17/APmklLa0Y6SLiMXl0GsjpVLC4uFPMy0wHQwaxcb/ANImsfLeMTl4U1TENm4zzRxDBiWJnVP0EADlUWlViujCoOkRnEk8cvWHrhxoZuvKrCgo+Uj7yxzRMMvd4vPIM1tUsbcTugfVIiJ6nElT0Dvxn/7T/wDaktZhUAvYAXNzYbzzgchh8FTTo/CYhVtW2tL+pc5rNVCkX5WJ03T3WUVK+L24oFkc2NaqUanSsMrJpoONwd951eyWwXKMo3C2gnmrhqbkF0Riu4soJHleBowYf8Km0cVH2YzONzG3xDznHK6joqmTjgwFJT+FOSzW/wCXoA+u7fO8mpcJSBBFNARuIUXgc70kqV69YPToLsqSk7ZjfUE9jWyW3ZgDqPCa6OOOGo4TGOWZa2HWnV43qBM1MnxJzL9ROnqYdGYMyKzLuJUEjykXGdHGq1IFwtCmQxpBPiZTddeCg2NrcBA5+vhqlM4OlXFNlqCo9QVXK02xDENYmxvYFrA8vCbThgaFSma+GSnt0yU9oWpBgAWpE6aHfbx+k6epSV1KuoZTvBFxPP4dMmTIuT5coy/aBy5qrsGprTSkaeKoBhSfNTJLoezutpvFv3mjppldMbXtRR6LFVZnO2DKBZlN+yOSga/WdemHRVCqihQbhQotfnaYfC02bM1NC1rZioJtyvAphgaWIx2IFZdoBRpdkns3OfW26/jJn8OsTgqFyTZbXJubAkD9BLEIASQBc7zbXTdCqFFgAByEDiy6kUMUoo03fEoBZyawvUsysSe1pe62FvpJeywbvjziWTMlUntPZkXItimuhvxE6X8LTzFtmmY72yi5tuuZHodGIrVGYLUL1DUGZR2SQosPTA5/DZKtXBjHEXfB3K1DYM+ZT2gdCbXNjMU0V6ezRmOH/HKtIhj8GXtBWH5c2YTo6vR6vX2r2YbM0yhW4N2DX/SSRSUAAKtl3C2g8uUDn6uFw/41qOICCilFNhTc2p722hAOhYdnyEiU6oehRonK9N69RaL1mOTZrfLm1GfiACdbX4Tqq1BKgs6K432YA/vFSijrlZVZflIuPtA5FHyUMVTDBaK4lFc0mOVKRCZ8p/KLnXlcyZ0ph8GmFxC4YoGK08y030tnFmsDYHfrvnRpSVRZVUA8ALeE8U8LTVSq00VTqQFABPiIFSmDp0OkaIpLkFSjVz2PxFWp2LczqdfGWOLfEBl2KUmX8xdypHkApvJOUXBsLjceM9QKb+KiowgznKu1o5je1htVub8NJDvQoYtfwlipoVHrJSa4IFijG35ibgHedZ0bKDvAPmOM8UqCJfIirc3OUAXPjaByeBVUrYComwU1mN9kxLlTTY2cknPrbtG2s24AU6Nai39DEbSqQtem9qxJue2PzAbjrpbdOmTC01JK00BJvcKAb8/OZXDUw5cIgc72Ci5+sDlqRVqeGWu1sO2IxAe5spbaPs1Y/Lv05gToOi6eHQOuGK5Q3aVGuqtYaAbhpbQSUaKlSpVcp3rbQ38JmlSVFCooVRuAFhA5akwFfHXx/wCF/rns9ju07XbF/wD+TXhai1cNgaBp0rPtCGqltkchtmy37Ra+YAnmZ1TYWmSSaaEniVF56q0EdcrorLyYAj7GBymFBTD1K1Mg/hMSxARiy7Kw2ir4WJIHAgT1jKr1MPWxgJCVqqJe5AGGVst7jUBjck8jOgx2CapSNOk4o5tGIQE5SLG26x3a6yRQoLTprTUAIqhQPACwEDnKNAI1XJVw2GQ0HzijVzWH5atrAC2uvH6TzgBTpO1EphwXw7kVqNTssotc1FO7fvueOs6Wjh0pghEVAd+VQL+dpinhaaZslNFzfFZQL+fOBq6KUDC0ACrAU1F1NweyNQeIkueVUAAAAAaADdPUBERAREQEREBERA+H49SlR778x/eRlueEsOllzYhgN+cywp3t/oj7ictum58q7B1SAQRNDkZrMNAP1lnjXYJfZ5bcbiU9V7k3kjslcdE00qaD8p/vOzwdMDWct0Jg2GHp1Qbh37Q5AEj+06ZWdBYDU21tffPPydzT08fULIAWlZjqYPCTfxRVCWsSBK+vXY6mxBHAbpmIaunN46jdrjeAZpoVS6KeNpYYnCs1bLe3ZNz4XEpduE0sdBpO8dw4ZebTTiBx0I5TWlUF81/KQKuLzcIo1ATrpNUxb7ZERO7mRNdestNSzmyi2tr7zYbvEzzQxKVL5DfLvBBBHmDrA3RPJcAgXFzuHO2+YFQFioOoAJHgb2/YwPcTEzATETzSqB1DKbg7jA9TMxEDMTEzARME2F5im4ZQym4IuD4GB6iYmYCJ5RwwuN2o+oNjMVKgUZmNhz89IHuIiAiJiBmJ5ZgupIGoGvMmw/WeoCJiealQIpZjYDeYHuInl3Ci55gfU6CB6ieXcKLnd/nSeoCInhKga9jexsfMQPcREBE81HCqWY2AFyfATSuNplwgbtHQaG17Xtfde3CBIiYmYCIiAiIgIiICIiB8T6V1rVCp/Md3nNuEfKoDk385Jfo6ptHJXQk/vNNSjsyTUIFuE4X1Tr09YuoAo0Y3+0qMQDe54y3pVxUBQXyjnI3SlEAL9ZcepYntbfwpjjsqlAnd2lvy4gfvOxpC4E+WYStkYNyIP0G+fSsPVuoyneLicebGpt6OLPqiuLq+oFuZ3zSgIpg8OU9V3YGwpqw4kv8A2tI9R7KOAPAznEO0yr+lMUUWqb2JAUHjczlBXI7La248ZO6ZxeauVGoUW+sqyxNr8J6sMah488rlsI3zBMCHF5ph93iInREPpWmzUSFDE5kPZ32DqSRfjYSCtKqGd8tVhmpm722hCk5hYflFwfqZdRAqKVBjWSo9N/jqWvvUG2UnXdoZ7xuELvWcKS2RNmQfzAsdPHdLSIFQcO5q/A+c1b7S/Z2V92/5dLW36+M1DC4ggA5tf6J7X/KB/wBTzOv3EvIgQMfTJqUyUZ6YDXVfmNspI46ZvvIK4VxTUPTqMdkAgDao9ze+uh+HXwl7ECBjqdXZ02TtVF0NtxzDKT5AkN9JDbB1wrqMxFPKi3Ny9PNmY7xfSw3j4Tzl3ECDgaTLSe9xcnKuXLbQbgSbC8g/y9hTNlbNsUt2j/qi9zv37peRApmo1TXzZCO2+YgaFMjBdb63OXS2h5cdSYWuKQDAlrU927ZgC6WuNQdTrr+kvpiBCwlN1ovYEk5iikZbaaAakgX8eM1dFUnR3uGCFU3i3a7WbS58Nf3lnMEX0gU1JnsWVXcMKyjKb9raG3HlxnmrhnOYNTdnOzyMDoFAXMDrpqGJ53l0qgAAAADcBumYFKNKqCzbU1m7ea6lbNYb+AtpbS08U8LW2Tghg+yIawIzOba5sxud9iAP7S7FFQxYKoY7zbX7z1AqzgSrsUVtKqFdTotlz2187yPTw1bK9820yOGIX4yQbdrNrrYiw08JexApsTgLZgKbMlqLWve7K5z8d+W0lY+mWNMlGemL5kXfc2ykjiBr9xJ8QKzA4Z86tUDdlOzdr27TWB5kKQLzVj8OzPVvTdycuzYHQKLXG/TW58by4iBT08PV25JuDnYhwtwU1sCc1rWsLW3/AHijQYIoFOotQNT2jE6MQ4LHfrxPl9pcRApadCoMwVWsSpzMLPfaAkHWzaX1Fv1nunQqbQdhxUzuXe/ZZDmsB91sOFpbxArej8K1NqZswvRAe5v2xbf475p/DttSRTcOa2YPfs7O4zceIuLc5cRAoqeGqktdXXNTYPkH58y2sSe1pm15X8hlqFUql07AZrqEOtwMrZM1x+YWv425XkQKPEYVyhDpUqE0ctMj8rdq99dDqutzulgtG9VS2ayICot2Q+oJ8Tb7fWTJiBmIiAiIgIiICIiAiJiB8+c9pvMzm+mtazeNh+k7pv4axFyc1LU/MfbKzGfwLiarl9rRW/C5/wAThjhMS1bmOjV1byE8dMG2WdVQ/gXE072rUdfE/wCJPw/8HlSGqJSqsOLVDb6DL/maqbtIfPcJ0ZVqjMFst7Bm3E8hzOhneUFKKvGwEucR0VWcIMlIZGuP6h5EW+DxnheiK44Uv/kPtnPkxzy/HfjyxxjuUGrWWxOYXlXiXLnTdznRP0PWP5aP/wAh9sj1f4frtu2Q/wDefbMxx5R+NTyYz+vmFXs1XuPzH94cC+k77E/wPUq3zGnf8pDm45/l1G79ZC6vMR31H9f8T0dvPPlyYGt+U8NpOvH/AOPMT39H7N/iG/8Ax5iSLbej9j/iNZLfRoiJtl5dwqlibAC5PgJowOLFZM2UqQbFTvB3i/0IP1jHYc1aZphsoYjMeOW+oHnunjDYRqdVm2hZXAvmtfMNxFgOH7CBufEoFzFha5H1W9x+h+00L0kjKrKCQ2S2ov22y6jwmtMFUDKCUyK7uN+Y5w2nLTNPNHo5wqBmW6rSXS//AC2v+ogb06SplgpOVrX1It8WUa+ckGqozajsi7eA36yvOBKqcxzIabK2UEtqxIKgbzrJHRtFlpXqf6j9p/Mi36AAfSBnC9IJUp7S4UZc1idy66nluP2mz8ZSz5M65r2tfW9r2+0gN0bUFPIrJ2qApMTfS19R6jJJwZ11GtVan0AUW89IGa3SdFAxLg5d4G/fb957/GoAxZgoDZQb79AeHgd0jDBVRRNG9PKFsh1ubEEZuW7WZ/BVA5qqUz5y2U3y2ZFU687rvgSHx9FQCaigEXBvvHPykiV9Po5grjMCWpsu7TMzMx+nakvD5xcMAALBSOIsLn73gR6eMYrWay5aZYKfmK7/ANdJspYq+fNYCmO2eGawJt4AGaqGDdVFMlcmcsSL5j2s1refjH4dr1UsCtRs2u4qQAwvwP8AmdJ1b6TKdQMLqbjd9Z4fEIGy5hmJsB477TVh0qJs0JDKE7Tcc3CaKOCqKyFmUhGdjoSWLX187EiZqEqEzD1s6nSxBKsORG+a8Vj6dLQsM2nZvrqbCeMKlRWJyi1RmZr71GgUeek118FULVApTLUZWOa9wVyiw5/CPKSfKT5Sji6eYrnXMN4vyFz+k0YbpNHXObItgQSw3E2F+U8UejitS5IKhy4Odrgm5+G+XjvnlOjGCoMw7K0l9DZjIiX+NpZc+dct7X8eXnMnGUhl7a9qxGu8HdIlfo5i5dWF85YDMV0Kqu9dQdJj+XMMmTKhG9gzX+IsdDfMNTv3XgSsRjUpuEPxFWYDwWYo4+k6lg66KGbXcDzmMXh2dlKldFdTfk1tR9ppr9Gl1AzAWRFG/erBuHDSBNo1lcXRgRu05zWmOpMSBUU2BJ14DefKecJhigfMLM++zs3Cw1aVtCjVfLTF1FOkyB8hXXsgb+On5b+cCzGMRrZWDAtlOu42vx8ITH0WBIqKQBcm/DnI1Lo9w2YkDthrZi2gUra7a8YPRxyU17JyUshBvYm6m+mo+GBOp1ldcysCOf7zUuPolSwqLlW1zfQX3fea0wjGg9J3Jzhhe5YqCLWudT9ZqfAVHOZygICABb2srhyTfy0HCBLfEgbO2oqGwP8A7Sb/AKTCY6kc1qinKLnXcOflGLw+0ya2CsSfIqy6feRB0e5Ch9mclMooANmvl1PL4Ru84Es46kACXWxv+m/7T0cVTDhM65jwvz3SC3R9UqO0MwLZWztmQG2gbew0vY79OU9fy5toSSGVmDm7MNRb8oNjqAYEyliUckKwJG+00U+kqZNS5CqjZbk728BGDwj03JJAS2iqxIve9wD8PkNJ5bBOGzqVLB2YBr2swAt4HxgSBi6ZKgOpL6rrvHhMviqasEZwGO4Hx3TRg8EabBiQTla9hxZ8xt4TXi8C9SoSGGUlCLsRbKQSLDQ3tvMDdX6RooHu4JQEkDfpw856GNSzMWAUW1vvzC40kf8ABVNnUpApkYPZtc3budeGhO/jBwVTNtLpnDKwGuXRCpF/rvgSGx1EKrGotmBIN94G+3lNr10VM7MAu+99Nd0iYfAsrh2Kk2qZgN13KnTwGWea2HKYakt7tSyblJBKi24a2gb/AMdT0IZStyC191hfWbKmJRL5mAta+vPQfexkDDYVqhL1AAGdyQQRdWQLuOvA74HRb5Bd81QPmvcqCAuQC41HZ/W8CY+OoqATUUBgSNd4G/7TOIxiU1VmOjEAEeP9pooYEqytoOy4IuTq5U3u2vCemwjChTpqVzU8m/cSlv8AED3Qx9N2K5gHDMuUnXskg/tebKOJp1CQjhiN9jI38vJCgsNKtRzbk4cWHj2x9pjAYE0yC1jlXKCHY6acCbDcNBA2jpGj27uBkbIb87X0/wDOE3ispt2hqSo8SL3H6H7SIMG+1LErl2oqDn8GUj9jPH4CoSFLLkDu9xfN2wwtyFs0CZRxNOoSEcNbkZ4q4+kme7C6Akgb9N/1mjAYE0yC1iVXICHY6aX0JsNw0E8vgHLVLMEVw1wCSDmFgSp0B43G+BJGOpHL2xd7WHnunmn0jSZS2cABiuvMcv3kap0fVe2Zl/JuZrDKbmw3G9uMy/R7k3BHZd2UZmW4c3NyNQR9YFijhgGUgg6gjcRPU04Wjs6ary32JOpNzv1m6AiIgIiIGJmRsdWamgcWsGXNf5SwBP0Bv9JD/mTk1FAW+0VafihYqSfLI5+0C0mZDw3SKVGAAIzAlSbdoDyNxvG+0zUx6qxGViqkKzgdkMbWHPiPvAlRKzD9JOXs9MhSzi+nZCG2uuvj/ebR0tTsTlYdnMBoSy3A0APiNDbfAnxNFDE584yMrJvU2vuuLWNpoHStK1xmP9MVN28GwA89Rp4wJ0SC3SaB2QggqG4g/CLnQG405zxV6UspIpPm7Bsbaq7ZQd/6eUCxmJGxGJKPSUISHJBNxpYX5zGHx61CoyuocEoxGjAcuW++sCVEhrjv6r0yLsHAULvy5VJY+AJ3+UwvSiEZirquQuCQNQLXtY3vqIE2JEXpBcwVkdGuos1tzXynQ7ri3nM4bpBKpUJftZiNOCkAk/cW84EqJF/mCZlU3BZmXduK7yfDdbzE0U+lLknIxTsWIA0DgWvr48IFjEhVOk1DOgUllDW1GpUXtvuPraZq41lw6VdmSWy9m40zEDn4wJkzIFLHnOVZGA2hQMLWGlwDrf6z3hukUqMFAIzAlSbdoDyNx9YEyJArdLU0qbM3NiAzDcCdwPHjwnk9M07Ocr9gHPp8JBtY+Jm9MvTWk+ljErj0xTGbMrqwIGQizHNutr4GB0whAyq7Mb9hRdhl334R9eXo0y9LCJWN0yFqOGpsqIq6ka5m3C3/AJxntemKZGiuXzZcgALXtfna1jvvH15ejTJYTMr8L0hmo1aziyKzWFtcq8/HfPOM6WFNWyozMFVrcO0bAGNMro1m6WMSpfpJ89lsLuiFWX4SRmfW+un2nin0ywsWRnXI1QsFtZLnLpfwl+rJdJXUSNRxiu7KtzlAJbgL6gedpHfpUZCy031QuhNrOAL6a6aa620mJimZilhMyJ+JKUFeoLmwvay6nzNh95rHSakAqjsSGNhbTKbNfW2+RE+Ymiri1WkKmpUgEbhod2+wE0r0krBciO7NmOUWuApsb623+OsCbMyvXHkuVKlAKgS5F7jJm56f+fTP80QKWKOq5C6kgdpRvtr5aG0CdE04fE52ZcrKy2uGtuO46E8jI9HpEEolizEX0AGmYjcTc7uF4E+YnivWFNC7bhy3/SRWx+uXIyMCtwwBuGva1j4b4E6JCbpOmFVtSCobdzIAB8STb6GYHSSmwCMWLZcosTfKW33taw33gTokYYxdjtTcKL3Ftbg2t530nlMeCcrI6NdRlNr9q9jobW0MCXMSL+OXOECsSSw0tplIBJ13azzXxpSqy5GZVRW7I1Fy173PgNB4wJkSG3SdMNbUi6gsLWBa1uN+I4cZqp9JWBNS1hm0C7yKhRdb8dP8wLGZlbV6RJyrTUhjUCNexy6XvoddPHnJODxi1gSqkLwJtr9jofAwJMREBERAREQNdakHRkbcwIPkZHTo6mrUm1vSUqLnfcWueZ3/AHMmTECLhcCtI9liVAsqkDQedrn6mKmAVmJzMFZgzILZSwtY8+A+0lTwayDNdl7Hxa/DpfXlpA0fgF7OraM7cNc5JYHw1nhOjVClMzFSAALDQA33gXO7jJoMzA1pSCu7C92tf6C0ir0XTFvi0qGpv48v9u7TwEmyNt3ckUlFgbF2Ol+IAG/9IGo9Fp8zW7ZA002l82tr8TNlXAK1+0wOVVuOGRswPneZatUp61FUpxZL6eJB4eIMkgy0NNbD58hzEFDe4troQQfMGa8PgFplTmdggsikiyg8uegtrJcSCIcAm0NUXDlg2Yb9AFy+RA3TB6OQoqHMQqFN/BrfrpJkQIL9GqyuHd2LgDOSAwCm4tYaa6zdRwaJUZ1vdgBbgANNP0+wkiYgQ6/RlOoapOYGoADY7rcRyOg+02NglOcagNlvbhlta32kmIEJejVDXzNYFyF0sM982tr8TNhwYNEUi7G1rNpfQgjhbgJJiBGGDXmT28/1/wATzhcCtI9ljlAsqkDQedrn6mS4gQH6LQ1GqBmUsbkCxF7WvqJordDDLlpsQHK7S7bwpuW/3S2mJuOTKP1qM8oV7dDoQczuXLBs5ILXAsOFrWJ0tPTdFr2SHdWUEZlIBIJuQdLSdEb5ezeUCr0SjmoSz/1CpOu5l3EfaD0Utks7hkJIcWB13jQWk+Zk3y9m0of8uT8PsLtlta99d97zUeiFKsDUqEsVYsSL3XdwljEb5R+m0oB6KQknM9yXN7je4yk7uA3TXX6NygmlqxpillZrLl3XOm/UyzmJd8jeUbAYNaFIUxr8x5niZrXoxQMpdyoQooJHZUi2mnLTW8mzMzMzM3KTN9y0V8MHVRcgoQVI4EacdOM10cAqbix0ca2/O2Y7vGS4kRGfBgpTS5GzsVOl7gWG/TdNS9GhbZKjqwzdoWuQxzEEWtv8JOiBE/ALnLFmN2DWNrZguX9RNf8AK1KlS7suQooJHZU77aeWpvJ8QNS0QHZ9bsADy7N7fvI7dGqQqlmyqQcum8Nmve1xryk2IEWph2ai6Mc5Oa1zl3klRcDS2mtuE0YbAuWZ6rG90I7QJ7FzrYAcZYzECH/LKdqg1/qMG37iDcW8Abn6me6eCAyksSVbMDYDXKV4AaayVECP+DXZGmb5SSd+tyxbT6maj0eDcmo5clTn0uMu4AWtbU8OMmxAi0MEqMGzMxGbU21zkE/sJjEYLOxbaOmZQpy21UEniPE6yXECGOjkD5lJUaXUAWNgAN4uNAN08t0XTIIJbW/0JfPf6GTogRUwQGW7ElWzXsBrYi2gGmsYfBhHZ8zMxAFyBuGvAC+/jJUQEREBERAREQMSB0ngqtQq1GsaZUHS5ykggrcDxFj4EywkPpDBGsFAfLlN72vwt5fe81jNSIT9H1iGFOuSNQCXa/5RY8iCra79Zit0ZUfa7OoMjgrbO1yQmTtNvNiN3Gej0IbKFqhQrMwsnFnV+B8LeRmU6FsVtU0VmIULYdpw19D8Qta/I7p12j3/AKFpSUhFB3gAG3lPcxMzgNOLYilUK/EFJHnbSV/SQqrSpLhibAHcCQQF7IuNR52I5y1kVFel2VXPTHwgEBlHLXQj6/eaxmhswtYOm+5HZYb7MN48Z56P/wBIDgCwH+0MQv6ATRhwzJ/SVqaOS5Zjdu0cxyi5tv47uRk6mgVQoFgBYDwiaHqIiZCIiAiIgIiICJqxGIWkhdr2HIX36TwMYhzakFLZgRY67tON4EiJgTxTqhmdRvQgH6gH+8DZETwtQFivEbx4HcfKB7iJiBmJqSuC7JrdQCeWt7ftNkDMjY/EGlSZxYkWsDxJIAH6yRIuNoNUNIWBRXDPc77bh97H6QNX48hnQhWK5QCu4sxsFPLn5SS+KRNHdQwAv9ZrxlDsKUX4HD5QN4G/62JmmrgjVLsbEOUG/wD5S2JHmTeBKbEKUcowJQG/gQLzKVhs1ZiBcD7ngJHSgyU6+a3aLEW5WsP0AmKtFqlBFUD4BrexVgAVI+sDeuIBdRoQ4JQjjbeP7yIekXGY2QgVdmAPibUAkeVz9puq02apTy2JpAkncCxWwH6kz10fhNlTUMFzj4mHEk3OsD3SxIKs5sEvYHnY2v8AU7v/ALj8SMyi4KvcKf8AqG8H7H7SImHbYmhYHLcG5sbXJRgft9jNrUmZqCk3NM53YDQnKR+pN4E6IiAiIgIiICIiAiIgIiICIiAiIgIiICIiAiJiBmJiIGYmIgZiYiBmeXYAEncNZmcj0x/FL52TDgBVuC5F72324Wmcsoxjt34ODPmy1wdL0Y4bD0ipBGRdR4C0lThuiv4oqUSqVVBpCw0WxUcLW3zt0YMAQbgi4PhJhnGUdNfJ+NnwZf1eJ8PURE28xERAREQERECv6S7b0aVyMz5mI4BdR+tpivhglSk1y2aqM7H/AGsF3cLkSxnl0DAgi4PCBBDFsToWK2OlyMrKba8wb/pPSPlOKaxNiDYb/wDTWTQJ5SmFLEb2Nz5gAfsBApXp1VRru91ogHU6u50+395YEH8RRtfSm2a++11tf6g/rJs8KgBJA1O8wIuLSoW7G0tb8rqB+omzBq4Bz59+mdgf2kmIFOiM7sylg7Vr8QFRCBr5hePOT8YrkDJnvf8AKwH7yTMQIeESoH7e0tb8zqR9gJuqCrfstTA8VJP7zdMwI2Wv81L0H3Rlr/NS9B90kxAjZa/zUvQfdGWv89L0H3SuoJUq5nTOM1W6vm7IQG1gL63sdLcZITFlaO2tmZ3sBfgWsAPp/eBJy1/npeg+6Mtf5qXoPuminjyzhDTFjUZCc3IEkjTXdY/3m7B1CTUQ67N8oPgQGH72+kDOWv8APS9B90Za/wA9L0H3STEDA8ZmIgIiICIiAiIgIiICIiAiIgIiICIiAiIgJXYmhXNYlGIp9nTNbg2bh/t+0sYhrHKlQuHxlu1UBNl42G5Q3DfcMfr9iYfF27VQXC2+LeQRbh58JbzElN/bPqP8Kr8Nijm/qZTlbL2rjMWOW+nBSPtDYbFXFnNtPz/9dyN3y3H/AJeWszFJ9k+oU7YbGFT/AFLNkIXtfmysBfTXXKb+H3ycJicxbN+V1W76i+Wx3WOoMt4il+2fUI1CnUFHK57djr97f2nC4DpJaC00cVL06jMygC1iuXLqec+hyl6V/hujiWNQE03O8jcfMTGeMz3i9PxObjxmceXxPr+//XH1mFemtma9Gkc5Yasc+lrE/Nx5TvehqbJhaKv8QQXlb0b/AArSouHd2qEbgdF+o4y+k48JjuW/m/Jw5IjDj8R2zEROr5xERAREQEREBERAREQEREBERARMRAzERATy63BFyL8t89RA1YegtNFRb5VFhflNVPBgEA6qrl08Cb3B57zb/wCpKiBGXBIMhF7pmI14sbm/1nvD0cgYnVmbMx8d36AATdEBERAREQEREBERAREQEREBERAREQEREBERAREQEREBERAREQEREBERAREQEREBERAREQERMQMxK98Y23emGRQoXUi5zNey7/L7zZhq1RqjI2UZFUmw4sDfW/hNazC6ymRK+hjHahUqnLoWyWB1AJAO/jN9CuWZgbWTRjzawJt4C8TjMFSkxIr4tSG2ZDFRmK818POxtPP4kmrSCkFKikjTXQAj95KkqUyJqq4hENndVvzIEUq6PfI6tbfY3iikTpEZ6lGkSQrls1jY6LprJ6iwAkHGf8ThvN/+2TpZ8Qs+IZiV9DGO1GpUOWylgtgdQptffxm6jiCSwbKBTHbPDNa5t4AROMwlSlRNdGur3Km9v8X/AGInmviUp/GwGl/oN58pKlKbokdK/wDUKG17ZlPNf8jT7yDQ6Tc7MnIRUdlAGhCi/b37tP1ljGZajGZW0SJSxilFdyFDnsX5cL/TWbKeMpuQFcEm9h5aGSpSpb4kfD1Sxq3t2Xyjyyg/3M8Pjly51IZFtm/2ncR+/lFSUlxIePxgpo1iM4HZG/U6C/mZuGIUMELDPpp42v8A2MVNWVLdExMyIREQEREBERAREQEREBERAREQEREBERAREQEREBERAREQEREBERAREQEREBMTMQKunhKq7RstIu75gxY9nQAcOAE20h/6iuDcZlSxt4G8nTM1tLWyvwuFqLTpUmChUtcg3zZd2ltNbEzXWwzkVqQt23Di+5luuZSeG4j6y0mJd5uzaUAU6iGs7BSXACBd+7RfuTr+08UqOSphqe/Z02BNtNyyyiTY2aMRhy5BDlbclU/uDM4bDlL3ctfmqj9gJviS+qS0DGf8ThvN/wDtk4jSQcZ/xOG83/7ZNDA7iNJZ8R/P1Z8QgYXCVFpU6LBQqWuwN81jcaW0ud89LTZWrKADtGDC+4qbBx56H7iTojaTZBw1OpRWklgwuwJubquuXXjYWGs1YnBVWNa2S1QrqSb5Ba6bv933lnEbTdm03avxFJ6lRmSwK02QE6DMxF/tYfeb8Ng1SiKeUA5MpI8rb5JiNpqjaapW0cMzrRVgP6I1B4uBZT5cftPWEwDU3pnskKhzHiXY3Y/oNZYTMu8m0oNDN/6jKBm2mmbd8KzS2EZcO1Eb3JVRvyoTuvyAv+0s4k2NlWcDVvbsEGtnJJN2UfCN3Cy/aSKWHfbmocouCCAfi17BtwIF5MiJzmTaSZiJlkiIgIiICIiAiIgIiICIiAiIgIiICIiAiIgIiICIiAiIgIiICIiAiIgIiICIiAiIgIiICIiAiIgaFwqB2qBe2d5+gH9h9p5weHNMNcglmvoN194+9z9ZJiW5WyIiRCIiAiIgIiICIiAiIgIiICIiAiIgIiICIiAiIgIiICIiAiIgIlftm+YzO2bmYE+JX7ZvmMztm5mBPiQNs3Mxtm5mBPiV+2b5jG2b5jAsIlftm+YzO2bmYE+JA2zfMZjbN8xgWESBtm5mY2zfMYFhEr9s3zGZ2zczAnxK/bN8xjbN8xgWESv2zfMZnbNzMCfEr9s3zGNs3zGBYRIG2bmZjbN8xgWESv2zfMY2zfMYFhEr9s3zGNs3zGBYTEgbZvmM0YrHmmB2tTuubDhqTy1H3EC2mZzfSPSWIp07rmqEjXItrBtzAm9yLHTxG6WNLEVCLk25WN9OHCBZxK/bN8xjbN8xgWESv2zfMY2zfMYFhEr9s3zGNs3zGBYRK/bN8xjbN8xgWESv2zfMY2zfMYFhEr9s3zGNs3zGBYRK/bPzMbZvmMCwiV+2b5jG2b5jAsIlftn5mNs3zGBYRK/bN8xjbN8xgWESv2z8zG2b5jAsIlftm+Yxtm+YwLCJX7ZvmMbZvmMCwiV+2b5jG2b5jA8SgxGFxIxNd6atr/pNcED+mBuLaa3/ACmdPsl5RshygUFKliUrAEuaZcksoS7fDq9+Fr/DY/pI74TE/iKj00YNtSy1Gqf0zT2YATJf5vDTnOn2Q5Rshygci+Dx7hCWNyCGJIDDLZ0+HQ3bMugGhnpcBi70zmqIWKtUyMpILCqWHavcKWQftuE6zZDlGzHKBz9JazYE0np1TWWmq3LAFnIGoYHgeO/TiZHp0sdT2ai5YVCarkqVqXZdbHVRkvoLWI+/UbIco2Q5QOXpHGVKGLpVM+12S5L5R22D3yFdLXAtc35zzU6MxNMrs6jN+YlNLf1KXYXOSbZQ51Nr/adVshyjZLygcsidIIhUZtCcuUodLErfN/1fF4Wtxm0vj0clhnpKSTkC5iq3fsjxuKdt+l+N50myHKNkvKBz3SWHrNiaNSmjsBluC9kHau25gQbeDA2tIyfzMqt7g5rm4Qm2VdDwK5s3I7p1WyHKNkOUDmWHSHbuTYvuQJmC9u2Qtpb4L5td8xi8FiDSwgVXZ0QBhnsubs3zEMDfQ9oX46GdPshyjZDlA5dk6QZmNvhYtTzFbA5aot2bXX/T3856pUcbdHZ2uLAg5O0u0Fw1tPhzG4twnTbIco2Q5QKjA4aoKOGzuyNTUZ0FrMctrHyPKVRwmLXEVaiK+pq2OcWIa2SwLEG3IqPOdZshyjZDlA5V06QZCrAsDTYEdgDNdspPM2yaCwkqrTxL0MWrZ9oysKeqBb9q2QjXdl+KdBshyjZDlA5LD0MdTFkV1BqZrFlPZ7AsQxaw+M6N+82bXH1EvTbQVCgIVbsq3AezAaMd4HLSdTshyjZDlAp+jfxGett7lc3YPZAtc6ALra1tSTfwlhJGyHKNkOUCPEkbIco2Q5QI8q+lMWqPT7LNmYU2slwtyrXN9LWBl5sl5Ty2HQkEi9r21010OkCk+Blt22JJ2bOCyHXLlA3fFqeAljRp5EVb3yqBfyFpKWgi7lA8p62S8oEeJI2S8o2S8oEeJI2S8o2S8oEeJI2S8o2S8oEeJI2S8o2S8oEeYknZLyjZLygRpmSNkvKNkvKByZ6Nxe0KhjstoVHb/wCVn2oY6332TyntP5lkS5s2btaJcaDTkUvfk3jOp2S8o2S8oHP4CliFp11rqzDtbNUYAlSzG2a9w2o1vYC1uMz0bhKxwzI5qYd2csLMGKC4OVSS1x5+O6X+yHKNkOUDnOk8JWfEM1NH1RBTqCplVGDMWLC+uhGljeaK1fHoXPzOFpqQp+Iuv5RuXsPryM6rZLyjZjlAoOkcNiWr4dkIanTZCe1lJN+0zACxFraecn/hrtUzuzJUAGQ6BQBY5SNdfOWGyXlGyXlA5jC4bFUUSmiuMwXM2YNlOc5ycxJ+C1rXmuivSK01UZywpkdooQWytvO8tny24W363nV7JeUbJeUDmWpY1KnYLMDUUlux2lC0gcwtu+PdY6eU3dGU8UlRFqZtkKdjcrYNfnqxJ14i06DZLyjZLygR5iSdkvKNkvKBGiSdkvKNkvKB7iIgIiICIiAiIgIiICIiAiIgIiICIiAiIgIiICIiAiIgIiICIiAiIgIiICIiAiIgIiICIiAiIgIiICIiAiIgIiICIiAiIgIiICIiAifNOsLGd3h/S3ujrCxnd4f0t7oH0uJ806wsZ3eH9Le6OsLGd3h/S3ugfS4nzTrCxnd4f0t7o6wsZ3eH9Le6B9LifNOsLGd3h/S3ujrCxnd4f0t7oH0uJ806wsZ3eH9Le6OsLGd3h/S3ugfS4nzTrCxnd4f0t7o6wsZ3eH9Le6B9LifNOsLGd3h/S3ujrCxnd4f0t7oH0uJ806wsZ3eH9Le6OsLGd3h/S3ugfS4nzTrCxnd4f0t7o6wsZ3eH9Le6B9LifNOsLGd3h/S3ujrCxnd4f0t7oH0uJ806wsZ3eH9Le6OsLGd3h/S3ugfS4nzTrCxnd4f0t7o6wsZ3eH9Le6B9LifNOsLGd3h/S3ujrCxnd4f0t7oH0uJ806wsZ3eH9Le6OsLGd3h/S3ugfS4nzTrCxnd4f0t7o6wsZ3eH9Le6B9LifNOsLGd3h/S3ujrCxnd4f0t7oH0uJ806wsZ3eH9Le6OsLGd3h/S3ugfS4nzTrCxnd4f0t7o6wsZ3eH9Le6B9LifNOsLGd3h/S3ujrCxnd4f0t7oH0uJ806wsZ3eH9Le6OsLGd3h/S3ugfS4nzTrCxnd4f0t7o6wsZ3eH9Le6B9LifNOsLGd3h/S3ujrCxnd4f0t7oH0uJ806wsZ3eH9Le6OsLGd3h/S3ugfS4nzTrCxnd4f0t7o6wsZ3eH9Le6B9LifNOsLGd3h/S3ujrCxnd4f0t7oH0uJ806wsZ3eH9Le6OsLGd3h/S3ugfS4nzTrCxnd4f0t7o6wsZ3eH9Le6B9LifNOsLGd3h/S3ujrCxnd4f0t7oH0uJ806wsZ3eH9Le6OsLGd3h/S3ugfS4nzTrCxnd4f0t7o6wsZ3eH9Le6BycREBERAREQEREBERAREQEREBERAREQEREBERAREQEREBERAREQEREBERAREQEREBERAREQEREBERAREQEREBERAREQEREBERAREQEREBERAREQEREBERAREQEREBERAREQEREBERAREQEREBERAREQEREBERAREQEREBERAREQEREBERAREQEREBERAREQEREBERAREQEREBERAREQEREBERAREQEREBERAREQEREBERAREQEREBERAREQEREBERAREQEREBERAREQEREBERAREQEREBERAREQEREBERAREQP//Z\n"
              }
            ],
            "_view_module": "@jupyter-widgets/output",
            "_model_module_version": "1.0.0",
            "_view_count": null,
            "_view_module_version": "1.0.0",
            "layout": "IPY_MODEL_77e1bb46d6b7424e8d4aacae773ff73c",
            "_model_module": "@jupyter-widgets/output"
          }
        },
        "767343268f5b43edbc3066b429757810": {
          "model_module": "@jupyter-widgets/output",
          "model_name": "OutputModel",
          "state": {
            "_view_name": "OutputView",
            "msg_id": "",
            "_dom_classes": [],
            "_model_name": "OutputModel",
            "outputs": [
              {
                "output_type": "stream",
                "metadata": {
                  "tags": []
                },
                "text": "Video available at https://www.bilibili.com/video/\n",
                "stream": "stdout"
              },
              {
                "output_type": "display_data",
                "metadata": {
                  "tags": []
                },
                "text/html": "\n        <iframe\n            width=\"854\"\n            height=\"480\"\n            src=\"https://player.bilibili.com/player.html?bvid=&page=1?fs=1\"\n            frameborder=\"0\"\n            allowfullscreen\n        ></iframe>\n        ",
                "text/plain": "<__main__.BiliVideo at 0x7f7d4dc3e610>"
              }
            ],
            "_view_module": "@jupyter-widgets/output",
            "_model_module_version": "1.0.0",
            "_view_count": null,
            "_view_module_version": "1.0.0",
            "layout": "IPY_MODEL_577958f3593a42f4b73fa256e942fa07",
            "_model_module": "@jupyter-widgets/output"
          }
        },
        "77e1bb46d6b7424e8d4aacae773ff73c": {
          "model_module": "@jupyter-widgets/base",
          "model_name": "LayoutModel",
          "state": {
            "_view_name": "LayoutView",
            "grid_template_rows": null,
            "right": null,
            "justify_content": null,
            "_view_module": "@jupyter-widgets/base",
            "overflow": null,
            "_model_module_version": "1.2.0",
            "_view_count": null,
            "flex_flow": null,
            "width": null,
            "min_width": null,
            "border": null,
            "align_items": null,
            "bottom": null,
            "_model_module": "@jupyter-widgets/base",
            "top": null,
            "grid_column": null,
            "overflow_y": null,
            "overflow_x": null,
            "grid_auto_flow": null,
            "grid_area": null,
            "grid_template_columns": null,
            "flex": null,
            "_model_name": "LayoutModel",
            "justify_items": null,
            "grid_row": null,
            "max_height": null,
            "align_content": null,
            "visibility": null,
            "align_self": null,
            "height": null,
            "min_height": null,
            "padding": null,
            "grid_auto_rows": null,
            "grid_gap": null,
            "max_width": null,
            "order": null,
            "_view_module_version": "1.2.0",
            "grid_template_areas": null,
            "object_position": null,
            "object_fit": null,
            "grid_auto_columns": null,
            "margin": null,
            "display": null,
            "left": null
          }
        },
        "577958f3593a42f4b73fa256e942fa07": {
          "model_module": "@jupyter-widgets/base",
          "model_name": "LayoutModel",
          "state": {
            "_view_name": "LayoutView",
            "grid_template_rows": null,
            "right": null,
            "justify_content": null,
            "_view_module": "@jupyter-widgets/base",
            "overflow": null,
            "_model_module_version": "1.2.0",
            "_view_count": null,
            "flex_flow": null,
            "width": null,
            "min_width": null,
            "border": null,
            "align_items": null,
            "bottom": null,
            "_model_module": "@jupyter-widgets/base",
            "top": null,
            "grid_column": null,
            "overflow_y": null,
            "overflow_x": null,
            "grid_auto_flow": null,
            "grid_area": null,
            "grid_template_columns": null,
            "flex": null,
            "_model_name": "LayoutModel",
            "justify_items": null,
            "grid_row": null,
            "max_height": null,
            "align_content": null,
            "visibility": null,
            "align_self": null,
            "height": null,
            "min_height": null,
            "padding": null,
            "grid_auto_rows": null,
            "grid_gap": null,
            "max_width": null,
            "order": null,
            "_view_module_version": "1.2.0",
            "grid_template_areas": null,
            "object_position": null,
            "object_fit": null,
            "grid_auto_columns": null,
            "margin": null,
            "display": null,
            "left": null
          }
        },
        "eb8a07a55a1248f18d6cd529bee3aa4f": {
          "model_module": "@jupyter-widgets/controls",
          "model_name": "TabModel",
          "state": {
            "_view_name": "TabView",
            "_dom_classes": [],
            "_titles": {
              "0": "Youtube",
              "1": "Bilibili"
            },
            "_model_name": "TabModel",
            "_view_module": "@jupyter-widgets/controls",
            "selected_index": 0,
            "_model_module_version": "1.5.0",
            "_view_count": null,
            "_view_module_version": "1.5.0",
            "box_style": "",
            "layout": "IPY_MODEL_4d7dc97fa1654aefab1675f5a56fabe8",
            "_model_module": "@jupyter-widgets/controls",
            "children": [
              "IPY_MODEL_14dae3b4af544877a4e3f499a90a7088",
              "IPY_MODEL_96854666301d46b29ed9095e147a3d05"
            ]
          }
        },
        "4d7dc97fa1654aefab1675f5a56fabe8": {
          "model_module": "@jupyter-widgets/base",
          "model_name": "LayoutModel",
          "state": {
            "_view_name": "LayoutView",
            "grid_template_rows": null,
            "right": null,
            "justify_content": null,
            "_view_module": "@jupyter-widgets/base",
            "overflow": null,
            "_model_module_version": "1.2.0",
            "_view_count": null,
            "flex_flow": null,
            "width": null,
            "min_width": null,
            "border": null,
            "align_items": null,
            "bottom": null,
            "_model_module": "@jupyter-widgets/base",
            "top": null,
            "grid_column": null,
            "overflow_y": null,
            "overflow_x": null,
            "grid_auto_flow": null,
            "grid_area": null,
            "grid_template_columns": null,
            "flex": null,
            "_model_name": "LayoutModel",
            "justify_items": null,
            "grid_row": null,
            "max_height": null,
            "align_content": null,
            "visibility": null,
            "align_self": null,
            "height": null,
            "min_height": null,
            "padding": null,
            "grid_auto_rows": null,
            "grid_gap": null,
            "max_width": null,
            "order": null,
            "_view_module_version": "1.2.0",
            "grid_template_areas": null,
            "object_position": null,
            "object_fit": null,
            "grid_auto_columns": null,
            "margin": null,
            "display": null,
            "left": null
          }
        },
        "14dae3b4af544877a4e3f499a90a7088": {
          "model_module": "@jupyter-widgets/output",
          "model_name": "OutputModel",
          "state": {
            "_view_name": "OutputView",
            "msg_id": "",
            "_dom_classes": [],
            "_model_name": "OutputModel",
            "outputs": [
              {
                "output_type": "stream",
                "metadata": {
                  "tags": []
                },
                "text": "Video available at https://youtube.com/watch?v=McALsTzb494\n",
                "stream": "stdout"
              },
              {
                "output_type": "display_data",
                "metadata": {
                  "tags": []
                },
                "text/html": "\n        <iframe\n            width=\"854\"\n            height=\"480\"\n            src=\"https://www.youtube.com/embed/McALsTzb494?fs=1&rel=0\"\n            frameborder=\"0\"\n            allowfullscreen\n        ></iframe>\n        ",
                "text/plain": "<IPython.lib.display.YouTubeVideo at 0x7f7d4dc3eb50>",
                "image/jpeg": "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\n"
              }
            ],
            "_view_module": "@jupyter-widgets/output",
            "_model_module_version": "1.0.0",
            "_view_count": null,
            "_view_module_version": "1.0.0",
            "layout": "IPY_MODEL_560236ec44b74fd9a5468ab5c6710fc8",
            "_model_module": "@jupyter-widgets/output"
          }
        },
        "96854666301d46b29ed9095e147a3d05": {
          "model_module": "@jupyter-widgets/output",
          "model_name": "OutputModel",
          "state": {
            "_view_name": "OutputView",
            "msg_id": "",
            "_dom_classes": [],
            "_model_name": "OutputModel",
            "outputs": [
              {
                "output_type": "stream",
                "metadata": {
                  "tags": []
                },
                "text": "Video available at https://www.bilibili.com/video/\n",
                "stream": "stdout"
              },
              {
                "output_type": "display_data",
                "metadata": {
                  "tags": []
                },
                "text/html": "\n        <iframe\n            width=\"854\"\n            height=\"480\"\n            src=\"https://player.bilibili.com/player.html?bvid=&page=1?fs=1\"\n            frameborder=\"0\"\n            allowfullscreen\n        ></iframe>\n        ",
                "text/plain": "<__main__.BiliVideo at 0x7f7d4dc2ec90>"
              }
            ],
            "_view_module": "@jupyter-widgets/output",
            "_model_module_version": "1.0.0",
            "_view_count": null,
            "_view_module_version": "1.0.0",
            "layout": "IPY_MODEL_4ce7d227148648ad9c84da2241a131b4",
            "_model_module": "@jupyter-widgets/output"
          }
        },
        "560236ec44b74fd9a5468ab5c6710fc8": {
          "model_module": "@jupyter-widgets/base",
          "model_name": "LayoutModel",
          "state": {
            "_view_name": "LayoutView",
            "grid_template_rows": null,
            "right": null,
            "justify_content": null,
            "_view_module": "@jupyter-widgets/base",
            "overflow": null,
            "_model_module_version": "1.2.0",
            "_view_count": null,
            "flex_flow": null,
            "width": null,
            "min_width": null,
            "border": null,
            "align_items": null,
            "bottom": null,
            "_model_module": "@jupyter-widgets/base",
            "top": null,
            "grid_column": null,
            "overflow_y": null,
            "overflow_x": null,
            "grid_auto_flow": null,
            "grid_area": null,
            "grid_template_columns": null,
            "flex": null,
            "_model_name": "LayoutModel",
            "justify_items": null,
            "grid_row": null,
            "max_height": null,
            "align_content": null,
            "visibility": null,
            "align_self": null,
            "height": null,
            "min_height": null,
            "padding": null,
            "grid_auto_rows": null,
            "grid_gap": null,
            "max_width": null,
            "order": null,
            "_view_module_version": "1.2.0",
            "grid_template_areas": null,
            "object_position": null,
            "object_fit": null,
            "grid_auto_columns": null,
            "margin": null,
            "display": null,
            "left": null
          }
        },
        "4ce7d227148648ad9c84da2241a131b4": {
          "model_module": "@jupyter-widgets/base",
          "model_name": "LayoutModel",
          "state": {
            "_view_name": "LayoutView",
            "grid_template_rows": null,
            "right": null,
            "justify_content": null,
            "_view_module": "@jupyter-widgets/base",
            "overflow": null,
            "_model_module_version": "1.2.0",
            "_view_count": null,
            "flex_flow": null,
            "width": null,
            "min_width": null,
            "border": null,
            "align_items": null,
            "bottom": null,
            "_model_module": "@jupyter-widgets/base",
            "top": null,
            "grid_column": null,
            "overflow_y": null,
            "overflow_x": null,
            "grid_auto_flow": null,
            "grid_area": null,
            "grid_template_columns": null,
            "flex": null,
            "_model_name": "LayoutModel",
            "justify_items": null,
            "grid_row": null,
            "max_height": null,
            "align_content": null,
            "visibility": null,
            "align_self": null,
            "height": null,
            "min_height": null,
            "padding": null,
            "grid_auto_rows": null,
            "grid_gap": null,
            "max_width": null,
            "order": null,
            "_view_module_version": "1.2.0",
            "grid_template_areas": null,
            "object_position": null,
            "object_fit": null,
            "grid_auto_columns": null,
            "margin": null,
            "display": null,
            "left": null
          }
        },
        "bdf08646bbef4c11a2264772a62dc2c9": {
          "model_module": "@jupyter-widgets/controls",
          "model_name": "TabModel",
          "state": {
            "_view_name": "TabView",
            "_dom_classes": [],
            "_titles": {
              "0": "Youtube",
              "1": "Bilibili"
            },
            "_model_name": "TabModel",
            "_view_module": "@jupyter-widgets/controls",
            "selected_index": 0,
            "_model_module_version": "1.5.0",
            "_view_count": null,
            "_view_module_version": "1.5.0",
            "box_style": "",
            "layout": "IPY_MODEL_b7fb477e07f946819faa19391212d410",
            "_model_module": "@jupyter-widgets/controls",
            "children": [
              "IPY_MODEL_6a108473947343319aea5c977ac80799",
              "IPY_MODEL_d4277a101a59463a8e08c4ba4b16c832"
            ]
          }
        },
        "b7fb477e07f946819faa19391212d410": {
          "model_module": "@jupyter-widgets/base",
          "model_name": "LayoutModel",
          "state": {
            "_view_name": "LayoutView",
            "grid_template_rows": null,
            "right": null,
            "justify_content": null,
            "_view_module": "@jupyter-widgets/base",
            "overflow": null,
            "_model_module_version": "1.2.0",
            "_view_count": null,
            "flex_flow": null,
            "width": null,
            "min_width": null,
            "border": null,
            "align_items": null,
            "bottom": null,
            "_model_module": "@jupyter-widgets/base",
            "top": null,
            "grid_column": null,
            "overflow_y": null,
            "overflow_x": null,
            "grid_auto_flow": null,
            "grid_area": null,
            "grid_template_columns": null,
            "flex": null,
            "_model_name": "LayoutModel",
            "justify_items": null,
            "grid_row": null,
            "max_height": null,
            "align_content": null,
            "visibility": null,
            "align_self": null,
            "height": null,
            "min_height": null,
            "padding": null,
            "grid_auto_rows": null,
            "grid_gap": null,
            "max_width": null,
            "order": null,
            "_view_module_version": "1.2.0",
            "grid_template_areas": null,
            "object_position": null,
            "object_fit": null,
            "grid_auto_columns": null,
            "margin": null,
            "display": null,
            "left": null
          }
        },
        "6a108473947343319aea5c977ac80799": {
          "model_module": "@jupyter-widgets/output",
          "model_name": "OutputModel",
          "state": {
            "_view_name": "OutputView",
            "msg_id": "",
            "_dom_classes": [],
            "_model_name": "OutputModel",
            "outputs": [
              {
                "output_type": "stream",
                "metadata": {
                  "tags": []
                },
                "text": "Video available at https://youtube.com/watch?v=xvIVZrqF_5s\n",
                "stream": "stdout"
              },
              {
                "output_type": "display_data",
                "metadata": {
                  "tags": []
                },
                "text/html": "\n        <iframe\n            width=\"854\"\n            height=\"480\"\n            src=\"https://www.youtube.com/embed/xvIVZrqF_5s?fs=1&rel=0\"\n            frameborder=\"0\"\n            allowfullscreen\n        ></iframe>\n        ",
                "text/plain": "<IPython.lib.display.YouTubeVideo at 0x7f7d4dc2ead0>",
                "image/jpeg": "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\n"
              }
            ],
            "_view_module": "@jupyter-widgets/output",
            "_model_module_version": "1.0.0",
            "_view_count": null,
            "_view_module_version": "1.0.0",
            "layout": "IPY_MODEL_8de64f6b9a664e388f42d7dfa329b2dc",
            "_model_module": "@jupyter-widgets/output"
          }
        },
        "d4277a101a59463a8e08c4ba4b16c832": {
          "model_module": "@jupyter-widgets/output",
          "model_name": "OutputModel",
          "state": {
            "_view_name": "OutputView",
            "msg_id": "",
            "_dom_classes": [],
            "_model_name": "OutputModel",
            "outputs": [
              {
                "output_type": "stream",
                "metadata": {
                  "tags": []
                },
                "text": "Video available at https://www.bilibili.com/video/\n",
                "stream": "stdout"
              },
              {
                "output_type": "display_data",
                "metadata": {
                  "tags": []
                },
                "text/html": "\n        <iframe\n            width=\"854\"\n            height=\"480\"\n            src=\"https://player.bilibili.com/player.html?bvid=&page=1?fs=1\"\n            frameborder=\"0\"\n            allowfullscreen\n        ></iframe>\n        ",
                "text/plain": "<__main__.BiliVideo at 0x7f7d42376b10>"
              }
            ],
            "_view_module": "@jupyter-widgets/output",
            "_model_module_version": "1.0.0",
            "_view_count": null,
            "_view_module_version": "1.0.0",
            "layout": "IPY_MODEL_c29838ca593d4f77bd605647967fb191",
            "_model_module": "@jupyter-widgets/output"
          }
        },
        "8de64f6b9a664e388f42d7dfa329b2dc": {
          "model_module": "@jupyter-widgets/base",
          "model_name": "LayoutModel",
          "state": {
            "_view_name": "LayoutView",
            "grid_template_rows": null,
            "right": null,
            "justify_content": null,
            "_view_module": "@jupyter-widgets/base",
            "overflow": null,
            "_model_module_version": "1.2.0",
            "_view_count": null,
            "flex_flow": null,
            "width": null,
            "min_width": null,
            "border": null,
            "align_items": null,
            "bottom": null,
            "_model_module": "@jupyter-widgets/base",
            "top": null,
            "grid_column": null,
            "overflow_y": null,
            "overflow_x": null,
            "grid_auto_flow": null,
            "grid_area": null,
            "grid_template_columns": null,
            "flex": null,
            "_model_name": "LayoutModel",
            "justify_items": null,
            "grid_row": null,
            "max_height": null,
            "align_content": null,
            "visibility": null,
            "align_self": null,
            "height": null,
            "min_height": null,
            "padding": null,
            "grid_auto_rows": null,
            "grid_gap": null,
            "max_width": null,
            "order": null,
            "_view_module_version": "1.2.0",
            "grid_template_areas": null,
            "object_position": null,
            "object_fit": null,
            "grid_auto_columns": null,
            "margin": null,
            "display": null,
            "left": null
          }
        },
        "c29838ca593d4f77bd605647967fb191": {
          "model_module": "@jupyter-widgets/base",
          "model_name": "LayoutModel",
          "state": {
            "_view_name": "LayoutView",
            "grid_template_rows": null,
            "right": null,
            "justify_content": null,
            "_view_module": "@jupyter-widgets/base",
            "overflow": null,
            "_model_module_version": "1.2.0",
            "_view_count": null,
            "flex_flow": null,
            "width": null,
            "min_width": null,
            "border": null,
            "align_items": null,
            "bottom": null,
            "_model_module": "@jupyter-widgets/base",
            "top": null,
            "grid_column": null,
            "overflow_y": null,
            "overflow_x": null,
            "grid_auto_flow": null,
            "grid_area": null,
            "grid_template_columns": null,
            "flex": null,
            "_model_name": "LayoutModel",
            "justify_items": null,
            "grid_row": null,
            "max_height": null,
            "align_content": null,
            "visibility": null,
            "align_self": null,
            "height": null,
            "min_height": null,
            "padding": null,
            "grid_auto_rows": null,
            "grid_gap": null,
            "max_width": null,
            "order": null,
            "_view_module_version": "1.2.0",
            "grid_template_areas": null,
            "object_position": null,
            "object_fit": null,
            "grid_auto_columns": null,
            "margin": null,
            "display": null,
            "left": null
          }
        },
        "4df3e30393d740a1a75b831b5a45ba62": {
          "model_module": "@jupyter-widgets/controls",
          "model_name": "VBoxModel",
          "state": {
            "_view_name": "VBoxView",
            "_dom_classes": [
              "widget-interact"
            ],
            "_model_name": "VBoxModel",
            "_view_module": "@jupyter-widgets/controls",
            "_model_module_version": "1.5.0",
            "_view_count": null,
            "_view_module_version": "1.5.0",
            "box_style": "",
            "layout": "IPY_MODEL_8da8722b3e3f42e3a7910d509bc9bbaa",
            "_model_module": "@jupyter-widgets/controls",
            "children": [
              "IPY_MODEL_c18fbd0cb31449459a08b11b15499d66",
              "IPY_MODEL_325d6d1c4e064e02be6c8956a07f81c7"
            ]
          }
        },
        "8da8722b3e3f42e3a7910d509bc9bbaa": {
          "model_module": "@jupyter-widgets/base",
          "model_name": "LayoutModel",
          "state": {
            "_view_name": "LayoutView",
            "grid_template_rows": null,
            "right": null,
            "justify_content": null,
            "_view_module": "@jupyter-widgets/base",
            "overflow": null,
            "_model_module_version": "1.2.0",
            "_view_count": null,
            "flex_flow": null,
            "width": null,
            "min_width": null,
            "border": null,
            "align_items": null,
            "bottom": null,
            "_model_module": "@jupyter-widgets/base",
            "top": null,
            "grid_column": null,
            "overflow_y": null,
            "overflow_x": null,
            "grid_auto_flow": null,
            "grid_area": null,
            "grid_template_columns": null,
            "flex": null,
            "_model_name": "LayoutModel",
            "justify_items": null,
            "grid_row": null,
            "max_height": null,
            "align_content": null,
            "visibility": null,
            "align_self": null,
            "height": null,
            "min_height": null,
            "padding": null,
            "grid_auto_rows": null,
            "grid_gap": null,
            "max_width": null,
            "order": null,
            "_view_module_version": "1.2.0",
            "grid_template_areas": null,
            "object_position": null,
            "object_fit": null,
            "grid_auto_columns": null,
            "margin": null,
            "display": null,
            "left": null
          }
        },
        "c18fbd0cb31449459a08b11b15499d66": {
          "model_module": "@jupyter-widgets/controls",
          "model_name": "FloatSliderModel",
          "state": {
            "_view_name": "FloatSliderView",
            "style": "IPY_MODEL_407739f537dd45808d4ad09904774591",
            "_dom_classes": [],
            "description": "p(s = left)",
            "step": 0.01,
            "_model_name": "FloatSliderModel",
            "orientation": "horizontal",
            "max": 1,
            "_view_module": "@jupyter-widgets/controls",
            "_model_module_version": "1.5.0",
            "value": 0.9,
            "_view_count": null,
            "disabled": false,
            "_view_module_version": "1.5.0",
            "min": 0,
            "continuous_update": true,
            "readout_format": ".2f",
            "description_tooltip": null,
            "readout": true,
            "_model_module": "@jupyter-widgets/controls",
            "layout": "IPY_MODEL_995d7aa1e8074aafbe67b9dd139f4e24"
          }
        },
        "325d6d1c4e064e02be6c8956a07f81c7": {
          "model_module": "@jupyter-widgets/output",
          "model_name": "OutputModel",
          "state": {
            "_view_name": "OutputView",
            "msg_id": "",
            "_dom_classes": [],
            "_model_name": "OutputModel",
            "outputs": [
              {
                "output_type": "display_data",
                "metadata": {
                  "tags": [],
                  "image/png": {
                    "width": 728,
                    "height": 277
                  },
                  "needs_background": "light"
                },
                "image/png": "iVBORw0KGgoAAAANSUhEUgAABbEAAAIqCAYAAAAaQAcuAAAABHNCSVQICAgIfAhkiAAAAAlwSFlzAAAWJQAAFiUBSVIk8AAAADh0RVh0U29mdHdhcmUAbWF0cGxvdGxpYiB2ZXJzaW9uMy4yLjIsIGh0dHA6Ly9tYXRwbG90bGliLm9yZy+WH4yJAAAgAElEQVR4nOzdeZgU1dXH8e9hk1VRQFEREDEGRUDBLQsqQQGXV0VUElARDcYlLjGLZhOjMTF5jeurAYNijCLigomCEjUYY9SIIoLgggqKEVB2EGQ77x+3eqa66X16mJ6Z3+d5+pnq6lu3bi/V0/fUrXPN3RERERERERERERERKUcNaroBIiIiIiIiIiIiIiKZKIgtIiIiIiIiIiIiImVLQWwRERERERERERERKVsKYouIiIiIiIiIiIhI2VIQW0RERERERERERETKloLYIiIiIiIiIiIiIlK2FMQWERERERERERERkbKlILaIiIiIiIiIiIiIlC0FsUVERERERERERESkbCmILSIiIiIiIiIiIiJlS0FsERERERERERERESlbCmKLiIiIiIiIiIiISNlSEFtEREREREREREREypaC2CIiIiIiZcrMOpuZx26dt0c5EREREZFyoiC2iIiIiNRrZrYgFtSdXsT2I1ICw0eVvpUiIiIiIvWXgtgiIiIiItXMzI6KB7pruj25aMS2iIiIiJQTBbFFREREREREREREpGw1qukGiIiIiIhIeu6+ALByrU9EREREZHvQSGwRERERERERERERKVsKYouIiIiIiIiIiIhI2VIQW0RERESkmpjZ+Ggix3+krPcMt/Ep5Uo6wWKu+sxsdNTeD1M2/TBDe6dH27U3s42x9cMKbNc/YttOrsJTFBEREZE6SEFsERERERGpEndfDMSDz+fnu62Z7QccFVv1xxI1S0RERETqCE3sKCIiIiJSfWYDTwO7AIfE1j+dpXxNmk9oWzOgb2z9P4H1acq/GVu+AzgtWv6mmXVz93l57HNUbPlDMr82IiIiIlJPKYgtIiIiIlJN3P1G4EYzO4pYShF3H1hjjcrC3f8C/CVKMxJPKXK2uy/Ise10M5sL7B+tOh+4LNs2ZrYDcHZs1Vh39wKbLSIiIiJ1nNKJiIiIiIhIqdwZWz7LzJrmKD8EaBMtbwLurpZWiYiIiEitpiC2iIiIiIiUyp+BtdHyzsDpOcrHU4k85u5Lq6VVIiIiIlKrKYgtIiIiIiIl4e6rgftjqzJO8GhmXyU577YmdBQRERGRtBTEFhERERGRUrojtvw1M+ueoVw8wP2uu/8jQzkRERERqecUxBYRERERkZJx9zeBF2OrthmNHeXKPiu2akx1t0tEREREai8FsUVEREREpNTio7HPNLPmKY8PAXaJljcA47dHo0RERESkdlIQW0RERETqu02x5R2K2L5pyv2NVWhLXfEwkJikcSfgjJTH46OzH3b35dulVSIiIiJSKymILSIiIiL13crYcssitm+Vcn9FFdpSJ7j7RmBcbFVF0NrM9ge+EXtMEzqKiIiISFYKYouIiIhIffd5bLmTmVmB2++dpb76bAywNVo+zMx6RsvxUdhz3P1FRERERESyUBC7GpjZaDPz6Da9ptuTDzMbH2vz+Jqou9TlJDszO8HMJprZ+2a2LvaaupmdXNPtExER2Y5eiy23AroWuH2v2PIid/8sTZmt8TtFBMq3t60p9wtur7svBJ6MrTo/mtDxzNg6TegoIiJShPoSGzGzEbHnuWB7lZPys92D2CkB3nS3rWa2ysw+MLPJZnaFme26vdspUleZWQMzewD4G3A60AVInWxJRESkPvlnyv0h+W5oZh2Aw2OrXshQdF3K/Wb57qOGlKq98QkehwEjgZ1j+7ivyHpFRMpGHnGOfG6da/p5iIiUs3IciW3AjoTLMk8C/hf42MyuMbNGNdoyqVXqy1nJIlwIfDt2fxXwL+Dp2G1JDbQriZlNj71/o8ugPfo8iYjUXc8CH8buX25mbfLc9lqSRymPzVDu05T7++ZZf01ZCWyI3S+2vU8D70fLOxJ+2yc86O6riqxXRESkaGa2INa/G1HT7akPalvWAo3YLj/lEBR+OuV+A2AXoDuVs8M3AX4JdDOzM9zdt2P7ROqaUbHlqcBgd9+QqbCIiEhd5+5bzOzXwJ+iVe2Ap8zsFHdflG6baHDFL4ERsdX/dPfpGfbxXzNbDLSPVl1mZue5+5ZSPIdSi16TN6gcZX6hmT1d6G8Gd3cz+yPw+2hVfES3UomISF2VGufIx/qSt0JEpA6p8SC2uw9Mt97MmgHfA64HmkarTwOeB/5v+7ROSsHdR5DcwSur+uqT6LjqHlv1ewWwRUREwN3Hmdm3qLxaqQ/wnplNBKYDi4AvgTbRY2eQnDv7M+A7OXbzF+CH0fII4Dgzmw2sjZV5zt1vLf6ZlNRfqAxiHwt8GgW2VwOJQSVz3P3nOeq5mzBivWls3evu/mopGysiUi4yxTlEpHDuPh4YX671yfZT40HsTNx9PXCTmc0ljBZNXKb5czO7091TJ5sRkdx2IfmS549rqiEiIiJl6GxgOXBRdL9ptO7sHNu9BZzs7p/kKPcr4FvAQdH9XaP7cSvzbm31GwOcCAyI7rcGjkop0zpXJe6+PDoZEH8d/1iKBoqIiIhI/VCOObGTuPvThAnoEtoDvWuoOSK1XeOU+5trpBUiIiJlyN03ufvFwDeBJ4BNOTZ5hxDw7uPu8/Oofw1wBHA+YZDGIsr48nF33wwcRxhh/hghb/g6KkdhF2JmbHkNMKHKDRQRERGReqPsg9iRv6Xc7xm/k2nCNTP7ppndaWZzzGxZrmTsZjbIzO4ys3lmtsLMNpjZomiCuSvNbPeqPAkzO8jMbjezt8xspZmtMbO5ZnazmR1QQD0Noud2tZk9aWbvR3VtMrPPzGyWmf0xuiS2Ssysb/T6vh3tY2VU/6/NrFOedZR0Qrxc9SUeI3m0z9lZZoE+Ktrutti6d83MUuvO0qYjU+rsVdXnGat7RzO72MymmNlCM/vCzFab2Xtm9oCZDTWzhlm2Pyr2mnyY8vCHaV6PESVo8+HRZ31GdOxtjI6nz81spplNMLNLLWUGbjPrHGvrkbGHrs7y/iXVEdXTxMyONbPfmNnfo9dtXdSOJWb2anTcHZLHcynq85Slvn3N7Jdm9kL0/bIhOq7mmdnYUhy3IiJSNe7+L3c/EdgJOBo4F/gR8DPCBMlDgL3c/avufkchqbnc/Ut3H+vux7n7Xu7e3N0tdhuRUn5ByuMLMtRb0nKx8lvdfYK7D3b3Lu7e0t0bxLY/Ks+nHv8/+hd3X5uxpIiIYGaHRf2XRD9jXJ7bPRLbZr2Z9UhTZnqszOhonZnZ8WY2yczmR/3Oz83sP2b2UzNrW+Tz6Bv1vWZGfbGNZrY06pP91sy+WmS9B5rZr6J+1cfRc10f9bGesTCJ4EEp28T7xvF4xj2Z+nc18fyifvH1FmIvidjR2xZiIX0Lra/AfRccv7EcEyBaNIkmcHVsdWoMJWNMIlf9hcqjvdOj9t4TW90pS3tHR9udGlu3xcw6FtCmlhbiPIntL6vq86yLyjadSIrUlAdZvzzNrAVwO3nmTTazroR8OF9P8/Ce0e1IQiqTa939hnzqjdXfALiG0PFJDYx2i24Xmtl17v6rHHX1IQT122co0ja69QDON7MXgKHu/t8C29wUuA04L83DPaLbpWb2A3cfW0jdZexO4OJoeV9Cp/W5PLc9P7b8iru/UYoGmdmZwB9I/5lvRcjF+W3gF2Y20t1fKcV+i2VmLQlf9EMyFNmBkEu0FzAUuNnMWrr7uhK24QTgz8DOGYrsGt36ED7DjwHnuPuqUrUhQ7taAjcCI9n2u3cHQqDkq8B3zezvwJnuvqQ62yQiItlF6e2mRzcpkpkdRmUKFVAqERGRnNz9FTP7OZCIP4w0s7+7+4OZtjGzC4HBsVVXuPubufZlZjsT+lAnpDzUjNB/OwS43MzOdfe/5tP+KM7yR7ZNmwVhAuV2hD7ZD83s/6K25rxS2Mx2I8R7TmXb+ApUxnC+RRgMdY27j86nzYWoxuf3PUK/sXnKQ/tFt7PN7E/A96vQfKkejwP/BfYgDBo+jzAJeD6+Q4jxQLhK796St64OqC1B7NQUCBuzlDXgfuCk6P5aYB7wBdCRlC85M+sJ/J3wBROvfw7hUsfOVJ6hawH81sz2dfd0wd1MrgOuipY3RHWvA7oAe0XrGwPXmNmO7v7Dbauo0J7kAPYXwHuE/Ilbgd0IX2yJkbnfBF4xs4Pd/bMC2jyOysmJ1gBzCa/LfoQAIITXY4yZNXH32wuou7olZoI+kPDlAeGLZHaG8ssB3H2umT1P5Qjg88kjiB2dkY7/UChJx8zMfgr8OmX1UuBdwudlfyq/5PYHnjOzwVEKnrjlVL4mzYD4mdt/su1lzLnyeWbzGNA/dn8r4fP5abS8EyHwvlOsTPyYXB9r66FUBqLfBzJdpp3a/s4kB7BXR9uuIhwXu0dtSOz3FKCLmR0RBStSFfV5iot+aE0luQO/FXgbWEJ4X7oDLaPHjgFeMrO+7r4ow35ERERqi5/Flp/PJ6AiIiIA/B7oR+XcBGPM7D/u/kFqQTM7kBD8THjM3e/IYx8NCcG3b0b3lxNiKA0Ig2wSfau2wCNmdpq7T85WoZkdQRh81ya2ej0hrrCKMFdTd0JMqiFwCbCvmf1PtkBv9ByfpDKOkrCQkKJrMyEmsi+VMZH43A3xvvGRVE44PIcC+sHV+PwuA25KWb2EEANoAhxA6DOeR+hD1pb0oM8T3peuwD7RuhXAfzKUr0pMohT+Q4jd7Ul4H4nuP5+h/HwIadjM7C4qR5yfa2a/yufkBckDIx9y9xWFN7secPftegNGE/Loedh9Xtv8KL4NMCzl8fGxxxKzpX9OGIndJKVs19hyS8KHLbHtFuB6oHXKNkcAb6a04eI8n+PnhGDVFsKs7DumlD2SkE8xXvf/ZKn7BMIX2FWEoFqDNGV2jl6ztbE6H83xGsdfw6XR3/XApUDTWLkGwMmEIF6i/Gbg4DzrHl9u5VK2OT22zUZg1zy2+WFsmxVAsxIcJ4NSPhMfA/8Tf78J/3AvpjI3ZWL/HbLU2zml3s5VbWus7pNS6v4d0DZD2a9En9H5QMsMZabH6hpdQDsuBl6PPrtdM5RpTzjWN8X28YcCjpG8Pk/Rdo2AF2LbfkE4fndOKdeYMEp7Vazs86Q5xnXTTTfddNOtttwI6Vfivw+Oqek26aabbrqV+kYRcY4C6t6VMCgoUf9/gMYpZZoTAqiJMgtT+xsp5eN9rUT/fzlwJtAoVi5dH2V1jj5nB+CzWPmPCFcPp8ZmdiaMMt8aK3tdlnrbAAtS/qfcA+ybpmwLwtXBU4GbMtQXr2tEAe9HdT2/Qwlxo0TZTwixl3gMoBnwA0JANf7eFdRHzfH8xhdaJyH2lthmQZ7HyfQC2pRv/TVSLmWbPUiOM5ycxzZ9Uj7Xh5fivayLt7LPiW1mRuWI4ISXsmzSihDUO8rdx7t70qhtT55056dUngUCuNDdf+ruK1O2eYlwVjI+8vJ3ll9OqDaEEZ/fd/dfuPvqlLqfJ4yMXRBb/X9mlmmU/HPAfu7+G3ef7e5bUwu4+wp3/z0wkPAlCHCymX0lj/ZCGJXuwGnufovH8jx6yIs4mZBqI3FmqCHwf3nWXe4eI/xAgPAP+5w8thkVW/6zpx/Nm7fovY+P5l4MfNPd/xp/v919g4cR8CdT+T63Ztszt9vLibHlB9z9x+7+ebqC7v5u9Bn9CuF4LaXx7n5w9NlNO3rb3Re7+08JP9ISRplZ63Tlq+gK4BvR8mrCe/kbTzmz6mEysbsJJ7a+iFb3JVwmJyIiUitYmKtjsoV5W+aT/Btxirv/vabaJiJSG7n7UkK/JdEXPIQwICfuVkKaUgh9w2Gp/Y0s2hEGsB3r7vd5bNRorI9yPJWTHbcijBDP5C4q02HOBnp5mFshNTazwt1/AnwvtvrHZrZnhnpvIjmP9bnufo67v5da0N3XufvD7j4I+EWWthajup7f7VTOW7ecENOanBIDWO/ufyCk5nSSMwpIGfCQyvfx2KrzM5XNUOZNd3+5tK2qO8o+iE3IJR2fJO81T3PpTIpr3X1OtgJRzud48HGqu4/JVN5DvtxzoGI29mbk92GEcNlkxst4POS9jecz6kAYdZuu7Bfu7ukeS1P2X8DE6K4R0ibk68/u/kSWut8hObfP4WZ2cAH1lyV33wT8Kbbqu9GJlLTM7GjCpUoJpUglcgoh9U3CpZ5l0qWoMxj/fJ1SyAQCJRS/pOuFfDaITork9XnOlxcwUZSHfHL/ju62oPIyvZIwsx2Ay2OrLnf313K06Q3gt7FVynUmIiK1yVcJV2cdR/JgkQ9JP9eKiEidk2UCuEy3m7PV5+7PUJkbG+AKMxsY7esMwgTECddEsYBC/M7dZ2TZ/78IgfKEU6OUiUnMrBdhMB2EoPfp7r5NusWUusdSmcazMWniLGa2N8mDG++Mgus5FdI/zKUan98hhJMTCT9LF5yP1TkZeKCApsv2FY/PHGtmnTMVNLNWhJMSCZo3JIuyC2Jb0MbMBprZkySfNdsK/CRHFVtIDkJm0pfk/EU3ZiqYEAWfpsdW5RsUvi2Pup8A4sH5Uo2+jI9aP7SA7XK2GbibkLIkoa6MGB1D5cjmfUjO8Zwq/g/on+4+rwT7j3+uPgIm5bHNH6g8wdKQDCdBqll8BPpBGUuVn2KPkXwMIuT+gnCp15/z3C4+icMRZpY6qYeIiEhtsJGQBu9/gT7u/mmO8iIiktkvqRyAY8C9ZvY1YGyszHS2nVcply0kB90yuY3KPmdj0vc5R8SWn3D3t/NsQ7z/k67/fQaVOa43EVK11oQRseVSPr/4HFtrCCk9crk1dxGpCe7+HGH+Kwhx1+9mKT6Myrmx1gJ/qcam1Xo1PrGjmeU7CnMrcIm7P5uj3Fx3X5ZHfUfEltcC/8izHY8TUmkA9DSz5u7+RZbyW6mcOCCXKYR8vgCH5SpsZjsSJoDrRbisphUhT3J85HD8UpUOebZjaa7RohBGhZvZdCpnMM7Z5trA3T8xs79SGUw+nzD5ZxIza0dywDnjSP4CxT+bT+YzUtndF5jZLCqvWjiCcDnS9vQqlROqftfMFgC3u/ua7dyOCtF7dAzQk5Cbakdgh5RiXWPL+R4j+Toytjzd85vQAXf/yMxWEtLDNCK8r//OvpWIiEjNc/fRhJyXIiL1Wb4xgIScg6E8TBr3HeANQj9hV8IVsInBiZ8T0ohsk3I0h9ejlCW59r/QzN6icqK7wwipNeLi/Z9C0kfNii33NjNL6QfH6/1XDZ4Ura7nF4+lTI+ndM3E3f9jZp9TmdpEysudwC3R8kgzuzpDPCA+MHJCTcZPaoMaD2Ln6T/AFXleEpMr1UhCPHA1p4Av+vhs6o0IweNs/3AWFHD5Sjzn9j5m1tDdt6QWMrM2hBxYZ1E5m24+8s33mzUVS4rZVAax8825XRvcQWWA+iQza+/ui1PKnEOYIRjCD4aHq7rTKB9259iqWRmKpvMmlUHsrtkKVpM/EfI/70w4kXI98Asze5YwIuBlYIa7f1ndDTGzToQ8badQ2PdcqXNi94gtH2pmTxWwbfzYVq4zEREREZFawt0H5i5VVL0Lzexc4JFoVfzq+hFRPt5Czc5dJKlsIoid1P+P0nB2j606z8xOIj/NYstNCIOPVsXWdYstZ0x7Up2q+fnFX8tC34+jc5aSmnAvISbSAmhPGPD3SLyAmR1KcvpkpRLJoRyC2KlnKLcSLp9YTgjK/dPd3yqgvtW5iwAh0JbwWQH1p5bdOW2pSvmMCs9UtnXqOjPrQhg1XkzO49QRqPm2I9+yuV6L2uRZwuWvXyEcJyOJTZ4R/QOLXxJyT+pEDkVKDaIW+9nc7u+Fuy8xsxOBRwmjAiD8sz6ByhMd683seeB+YGKUg7ykonxi0yguIJ3vMZKveMqiziSfoCjETlVuiYiIiIiI1Hru/mh0RfRRsdXj3P3JIqssVf9/J5JjTFWZM2snkoO8u8SWc44arybV+fzir2VVYkhSJtx9lZk9QGXc6HxSgtgkz9P3qru/vl0aV4vVeE5sdx+YcjvO3c9w9wvc/c4CA9hQOWNvLvFgVSHBx9RRpLlGQlel7qSAmpk1AB6iMoDthPQmIwhnb9oCzdzdEjfCaOFCFdvmUgcAa0x0ac+dsVXfjV7/hH5UjnZ2kvOQVUXqa1jse1HICP2ScfcXgf0I+dreT1OkGWEijPuAd8zsG6Xcv5m1IATREwHsTYScUkOBAwk/fpqmHCPXlLINKVqUqJ4a/64WEREREZGaZ2bHkpzWAuAYMyt2IFOp+v+l6vvAtv2feP82Z6qNalKdz69JbLkqMSQpL/Fc8/3NrGLC6yg9cHxCx1Klp63T6nNgZGVsuVUB2+2YpZ50qlL3qpT7xwG9Y/eHu/vJ7n6vu89y92VpcicVsv9itom3ObW9td14IJHvvDNwbOyxeN6iZ919fon2mfp5Kva9yPW5rDbuvtLdr3X3roSJMUcQUo2kBrX3BqaZWVXOYKc6h8q81puAY9z9THef6O5z3H1FmnQmxRwj+Yq/D7fGg+cF3sZXYxtFRERERKQWMLPdCJPFW8pDHdk2P3W+StX/T+2DDq5C/2dBSl0rYss1dZVqdT6/eEaBqsSQakrD3EXqH3d/A3gpupt6Nf9wKk+MrAImbMem1Vr1OYgdvwRln4yltpVaNtelLJ2i1BP56BJbXufu61Iej+fV+qe7P5BHnXvlue+4vQsoG2/zkiL2VbbcfSXJXyTnA5jZrsDJsfUly1sUvefxiUKL/WzW1CVWSdz9g+gky3ejoHYPkmdmbgb8toS7jB8jE9z9+Ty2KeYYyVc8j/pu1bgfERERERGpw6K4wn1U9itWEUt5CZxqZudvs2FuJen/R33Z+Hxgpez/xCdy3K+E9eatmp9f/LUs9v0olfhI8MZ5blOXUsuWWnw09jlmlnhN46lE7nP3eBxIMqjPQezXYstdojOa+fhabHmJuy/KUX4n4Kt51h2fkfa1NI93ii3/J886i0nX8NXo0oZ85GpzTYqnlsn3REKq+BfOCWa2B2G0b+KLZzEhpUspxV/Hr2UsFRNNCHlobFWNTHaRi7vPdvcRhJzYCUeZWbpUNMW8fwUdI9EPwbxe4yLb8+/Y8hF5biMiIiIiIpLqx8Axsfuj3P1nwGOxdTeZ2QEF1ntISurMtKI+Z/wq2nT9/+rq/7wUWz6ygIGC2ZRT/y7+Wh6WsVSMme1E9QT046PCd8lYKtmBeZYrRYxmeypFeydROX/ZrsApZnYY0DNWRqlE8lSfg9jxEZpGGMqfVRRoi+esyWeUJ8C386i7LcnpKtLVne9ZsESd+1PcF2tjYEge9fcgeXbefF+P7SU+kr1ZxlJZRIn1X4nuNiJc/hG/BGScu28urnkZxV/H/mbWPo9tjid5EsFyey9SxSc0aEz6f47FvH8FHSOEkdt75lm2mPZMjS13NLNjMpYUERERERFJIwp6XRdbNc7dH4qWzwU+ipabAQ+aWSFzJLUneZLITI4jecRtuj5nvP9zipnlGwTN5anYcseoLVVV1f5dKZ9f/LXsEcVycjmD5IkmS2VhvC25CkeftUF51l3lGM12VoqY0pfA3bFV55OcnvZFd59TTN31Ub0NYrv7+8A/YquuigLJ2fyY5EtG8p3M71Iz2z1HmWupTObvwD1pyvw3ttw3W2XRmdT/y7N96fwymiQvmxtiy2sIk06Wk/glR/tWoZ74aOyfUJm2YyvF5x3LZhyVZ/wak/w6byM6ufKb2KqFwLRqaFdWBZ4Nb5lyf0WaMsW8f4UcI82Bm/Kst6j2RDmwnomtui06Yy4iIiIiIpJT1H+YQGXA8m3gksTj7r4CGAZsiVZ1p7B+DsD1ZpYxr3GUAiEeRP+A5HhKwjhgebTciqrFJOKeIHmOpVL0q4rpb1bX83uI5IBprhhAS+AXJdp3qvhV3XuYWa6r+38ItMuz7vhrvk+JRtRXp3h721XhM/dHKmM8RwPfSXlM8lRvg9iRXxECxhBGsT4Z5TvehpmdBYyOrXrB3Z/Ncz87RnWnTVliZpcB34utut/dP0xT9LnY8qFmdkGG+poDfyG/s6mZdAIeNrNtJhUws4ZmdiPJ+Ydvcfe1qWVrWPySnJ5m1r/Ieh4ClkXL8bNvT7n7wjTlqySa5CGeN/osM/tFui/46ETDRKBbbPW17r4ltex28JyZXZJrVmwzawdcGVv1UpoJSSH5/TvWzPK5RCl+jAwxsxMytKEN4YdQIZdfFft5+hGVM2jvBzxvZjlTDJlZJzP7dXSsiYiIiIhI/TSWyjzJXwJDU/Pnuvu/CPGNhO+Z2eAC9nEYcJeZNUl9IBppex/JKSOud3dPLevua4CfxlYNNbMJZtY6VwPM7BAz+7OZfSf1sah/++PYqr2B6WaWNSe0mR1qZpmuMo/3784wsw652liNz281cFts1Qlm9rt0aV6i1K+PATnbW6RXgHja3NsypZs1s5HA1QXUHX/NdyGkai1nbwKbYvd/UEwlUYwnMYrfgEQ61WXAw8U2rj6qjksPag13n25mfwCuiFYdCsw1s7uAFwmjizsTUojEA7YrgbPy3M1rhDN0BwFvmdnYqO51hCT8Z5IcbP4UuDxDXZMIEzckJqK7w8yOJQRZF0X7ORQYGZXZRJi5+Nw825rwDNCL8JzfMrMxhLNxmwj5vc8lORfWHJLPypaL5wiv5+6EL4q/m9kcwqVW8S+in2e7fMPdN5jZ3YRgZFx1njG7DDiSyokafkX4RzYeeIcwQvtgwmQAnWPbTXb3cdXYrmz2Bm4B/tfM/kHIF/YW8DmwmZD/6QhgBBC/6uGaDPU9AtwMNAWaA2+Y2RuE0dbxIP0od09MZDmWMFq+JeEk3eNmdh/wN8JkGTsD3yQcI20I+b6eJI+UPxT5eXL3N8zsXMIPvwaE3FdvmdkThBHz7xO+a1oRLuXrSRhFnjjG4ic0RERERESkzJnZU7lLbeOP7j45pZ7zgNNjq37k7rMybH8d0I/QjwT4k5nNcPePMpRPmEzo+58DHB7FQxU2JDMAACAASURBVGYT+jw9CKkP4iOVp2Xrc7r7GDM7iMqUCUMJfdmJwD+BTwiTB+5ESA1yECHXd2J+o+dIw90fjeI3iUBiL2CemU0C/g58TOgn7kboSx1PGJV+C+kDhQ8Q+o5G6OO9b2avE/IXV+RCdveTt8fzI/SLT6JygNqPgH5RLOJtQgzgkGi/HaJ2zgKKHayXlrtvNbMbqAyq9wJmmdmt0f4M+Arhefcl9PX/Qh4pet39HTObAfSJVo0zs6uA90ieUPJWd8/0Om037r7WzB6nMt3uL6PA/Vxgfazog+7+YI7q7iB8JuPuzTCgTzJx9+16I4xm9sStRHWOj9U5vsBtjXCpjed5+y/Qo4DnOJ3wxf9ZHnUvAfbPUffhhAB4rro2EoLNI2LrFuT7GhK+CNfmsZ93gd1L8f6UulxU9tg8Xq+j8vicdCH8Q0xs8xHQsJqPlQ6EEwT5fjYfAXbIUWfnlG06l7C9Cwpoq0ev5/dz1DmCECDOVk/nlG0G57GNR5/vQaQcr9X1eSLkbVtR4GuU8zOum2666aabbrrppptuutXsLaVPUeztspQ6u6X0Pf6aRzv2JAwiSmzzQrp+KyFOkSgzmjC4Lp8+1L+BVnm0w4CfkdyHzvc2IkfdvyQEmfOt7+Ysdf0i1/bb8/lF79/8POpYS4jZjK+OfiPRgLA82rGJAuJOUd29Uj6jOV+jfOsvdbmobAfgwxztHZ3na/p+ynZf2R7fT3XpVt/TieDB5YTg1KtZiq4ljArt7u5vFriPNwln354geQRpwhZCSoie7j43R10vEwLZ/85S7CXgG16FEbnu/gxhVPcLGYp8STiT1MfdP81Qpsa5+zTCZU+/I1wWs4zkUbP5Wkhl7iuAP3k1p+xw90WEM60/p3I223TeJeRAG+Jh0oCaciUhkL48R7nNhNHPh7j7bdkKuvt4oDch19hMwlUQWSfSdPdHCf/QM42u30IYAX2wu0/NUCZT3UV/ntx9CmEEw2+ApTmKf0k4Q38RRV6yJCIiIiIitVOUwuNBwhWpEAbT5Uy94O6fEK46TfgGeaR7cPf7CLl638hQZC1hHq+jPaTUyFWfu/uvCX2n+4EvcmyygjBa+lTCCOlsdf+KMJL3CbL3Db8g9E//kqWuawlX6t5NuIp4NbFR2Fm2q5bnF71/vQlXfWfq278AHBrFbKqFu28ljD7+NckjjuNeB/oWGnfyMG/UAYTP5QuEWMfGrBvVoCgu05OQweFZwtXZBY+ejl7TeCzxH+7+bkkaWY9YdEZAIma2F/B1wmX9zQhBqvcIM4ZW+cAysz0I/0j2BBoS0oA86+7ZgpSZ6uoGfI2QpmE94WD6j6fPp100M9uHkCNrD0IAcCHwjIe8TfWCmf0P4UwkhH+Undz9v1k2KfX+GxAC2gcQJk3YTAiEvurub2+vduQjyt29L2HkwF6EnPAOrCKcVZ7h7rkC3aVqx8GEHzhtCCk7PgX+5e6Lq3v/ebTtQMJVGm0J6U/WEf6BvwPMcfdMPxZERERERESKZmbTqUw7co27j449diBhtOwehDjD+8BzVemfRLm2DwO6Evo/jQmB8U8IqTLmRUG+QuttRQhCdyTkWN5M6FO9Dby+vQZ5VcfziyYR/BYhDUlDwomMV9z9/awbllg0ieTRhKvTmxL61K97lpSssi0za0v4PCTyzp/h7g/VYJNqJQWxRfJgZlOpzIv+qLufWpPtERERERERESlGtiC2iJSemf0E+G10dzHQ0d2LyRJQr9X7dCIiuZjZwSRP7Jk1BYaIiIiIiIiIiIiZtQAuja0aowB2cRTEFskiSv9yT2zVv919eg01R0REREREREREagEzawbcCewerVqDBkYWrVFNN0Ck3JjZ5GixLSGncrPo/lZCMn8REREREREREZEkZnYd0B1oQZgUsl3s4WvdfVmNNKwOUBBbZFsnZVj/U3d/ebu2REREREREREREaotvUJlzPu5J4A/buS11ioLYIpk5sBJ4FbjF3afUcHtERERERERERKR2WAfMA/4M3OHuW2q4PbWauXtNt0FEREREREREREREJC1N7CgiIiIiIiIiIiIiZUtBbBEREREREREREREpWwpii4iIiIiIiIiIiEjZUhBbRERERERERERERMpWo5puQC2gmS9F6har6QaISImZ/leLmI4CEQBcv/XKjb6dREQkVVH/qzUSW0RERERERERERETKloLYIiIiIiIiIiIiIlK2FMQWERERERERERERkbKlILaIiIiIiIiIiIiIlC0FsUVERERERERERESkbCmILSIiIiIiIiIiIiJlS0FsERERERERERERESlbCmKLiIiIiIiIiIiISNlSEFtEREREREREREREypaC2CIiIiIiIiIiIiJSthTEFhEREREREREREZGypSC2iIiIiIiIiIiIiJQtBbFFREREREREREREpGwpiC0iIiIiIiIiIiIiZUtBbBEREREREREREREpWwpii4iIiIiIiIiIiEjZUhBbRERERERERERERMqWgtgiIiIiIiIiIiIiUrYa1XQDBJodf2tNN0Gk3lj/5CU13QQREREREalHtmzZwrx585gxYwavvfYaM2bMYNasWaxfvx6Aq6++mtGjR1fbvh999FEeeeQRZsyYweLFi2nQoAG77bYbXbt25eijj+aUU05h3333zVrPpk2bGD9+PA8++CBz585l+fLltGvXjoMOOojhw4dz+umnY2bV8hyk/li6dClPPfUU06dPZ+bMmXz44YesW7eOHXfckS5dutC3b1/OO+88unXrVi3737BhAxMmTOCxxx5j9uzZLFmyhCZNmtC+fXu6detGv379GDx4MHvuuWfWetatW8eYMWN45JFHeO+991i9ejW77bYbhx9+OCNHjmTAgAHV0v66zty9pttQ7qr9BVIQW2T7Wf/kJfplJVLXWPX/rxYpd6ajQAQAB/3WKy/6dgJOPfVUHn300YyPV1cQe+bMmZx77rnMnDkza7lLL72Um2++OePjCxYsYPDgwVnr6d+/P5MmTaJ169ZFt1fqt0suuYQ77riDLVu2ZC3XoEEDLr/8cm644QYaNmxYsv0/++yzjBo1ig8++CBruZtuuonLLrss4+MzZ85kyJAhWesZNmwYd999N02aNCm6vbVcUf+rNRJbRERERERERKSapAbldtllF9q0acN7771Xbft88cUXOe6441i9ejUARx11FAMGDKBjx440bNiQxYsX89prrzFlypSs9axcuZJBgwbx9ttvA9CtWzdGjhxJhw4dmD9/PmPHjuXjjz/mmWeeYfDgwUybNo1GjRRqksLNnTu34lg54IAD6NevHwceeCCtW7dm6dKlPPnkk0ydOpWtW7dy4403smrVKu66666S7PvRRx9l6NChbNq0iQYNGjBo0CD69evHHnvsgbvzySef8Morr/DUU09lrWfhwoUMGjSIJUuWAHDooYcyfPhw2rZty+zZsxk7dizLli3j/vvvx8y47777StL++kIjsXPTSGyROkQjsUXqII3EFtFIbJGIRmKXHX07Addffz1r1qyhd+/e9O7dm7333pvx48dzzjnnAKUfib1kyRIOOOAAli1bRtu2bZk0aRJHHXVU2rJbtmxh6dKl7L777mkfv/zyyytGaQ8cOJDHHnuMpk2bVjy+fPly+vfvXzFK+/bbb+eiiy4q2XOR+mPAgAG0a9eOyy+/nN69e6ct8/DDD/Ptb3+bzZs3A2H0dL9+/aq037feeovevXvz5Zdf0qVLFx577DF69OiRtuyXX37JqlWr2HXXXdM+fsoppzB58mQARo4cyV133UWDBpXTES5cuJC+ffvy0UcfAfDEE09w/PHHV6n9tVRR/6sVxM5NQWyROkRBbJE6SEFsEQWxRSIKYpcdfTtlUJ1B7KFDhzJx4kQaNWrESy+9RJ8+fYqqZ+nSpey1115s3LiRFi1a8MEHH6QN3s2ZM4cePXrg7rRv355FixaVNM2D1A8rVqxg5513zlnuhz/8ITfeeCMAZ511Fvfee2+V9nvEEUfw8ssvs+OOOzJ79mw6duxYVD2zZs2iV69eAHTs2JF33nkn6YRPwpQpUyoC13369OHVV18tvvG1V1H/qxvkLiIiIiIiIiIiIuVu4cKFTJo0CYAzzzyz6AA2wOTJk9m4cSMA3/72tzOOPu3evXvFaNjFixfz/PPPF71Pqb/yCWADnHbaaRXLs2fPrtI+X3jhBV5++WUArrjiiqID2AATJ06sWB41alTaADbAoEGD6Nq1KwAzZszImYNbKimILSIiIiIiIiJSB9x7771s3boVgOHDh1eprmnTplUsDxw4MGvZ+OO58gaLVEWrVq0qltevX1+luu65556K5e11vJgZAwYMqLiv4yV/CmKLiIiIiIiIiNQB//znP4EQKDvkkENYtWoV1113HT179qRVq1a0atWK/fffn4suuqhissZM5syZU7GcKUdxQnzEd3w7kVKLf746depUpboSx0ubNm3o0qUL//3vf/nJT35Ct27daN68Oa1bt6ZXr178+Mc/ZtGiRRnr2bp1K3PnzgWgUaNG9OzZM+t+dbwUR1PGioiIiIiIiIjUATNmzABgp512Yv78+Zx00kl8/PHHSWXmzZvHvHnzGDNmDNdddx1XXnnlNvVs3bqV999/H4CGDRvSoUOHrPuNBxPffffdqj4NkYzGjh1bsVyVSRFXrlxZ8Rnfa6+9mDZtGkOHDmXFihUVZdavX8+sWbOYNWsWt912G2PGjOGss87apq5FixZVjArfc889adQoe7hVx0txFMQWEREREREREanlNmzYwKpVq4AQhD7uuONYvHgx++67L+eccw777LMPy5Yt4/HHH+fpp59my5YtXHXVVTRp0oQf/OAHSXWtXbuWzZs3A9C6deucQbk2bdpULK9cubLEz0wkePDBB3n22WcB2G233Rg5cmTRdS1evLhi+bPPPmPw4MGsW7eOgw8+mGHDhtGhQwc+/fRTJk6cyEsvvcSGDRs4++yzadmyJYMHD06qK/6Zb9u2bc5963gpjoLYIiIiIiIiIiK1XDwYtnr1alavXs1JJ53EQw89RJMmTSoeu+CCC/jjH//IBRdcAMCVV17Jaaedxl577VVRZu3atRXLmSaoi2vWrFnF8po1a6r0PETSmTt3LqNGjaq4f9ttt9GiRYui64sfL5988gkAF154IbfddhsNGlRmX7700ku56qqr+O1vfwuESRsHDBiQtG8dL9uHcmKLiIiIiIiIiNRyiQkdE9q0acO9996bFMBO+N73vsepp54KwKZNm7jzzju3SxtFirF48WJOPPHEioDvhRdeyGmnnValOlOPl27dunHLLbckBbATrr/+eg455BAAli1bxv3331+lfUtxNBJbRERERERERKSWa9WqVdL9M844g5122ilj+VGjRvHII48AVKRoSGjZsmXF8oYNG3LuO5EPOF07pP56++23s04gevDBB9OxY8esdSxfvpxjjz2WDz74AIAhQ4Zw6623VrltqZ/Tc845J2PaHDPjvPPO49VXXwXC8RIfFa7jZftQEFtEREREREREpJZr2bIljRo1qshl3bt376zl448nJrhLV9fKlSvZvHlz1rzYy5Ytq1hu3bp1Mc2XOujBBx/kmmuuyfj4Pffcw4gRIzI+vmrVKo499lhmz54NwIknnsgDDzxAw4YNq9y21M9pVY6XeF2ff/55zn3reCmO0omIiIiIiIiIiNRyZsa+++5bcT/bKOzUxxMTQiY0aNCAffbZB4AtW7awaNGirHUtXLiwYvkrX/lK3m0WyWTNmjUMGDCA1157DYABAwYwadIkGjduXJL6O3TokJTXuirHS4cOHSryXH/yyScVJ5Iy0fFSHAWxRURERERERETqgB49elQspwbaUsUfTxfA6969e8VyIpCYyYwZM9JuJ/Xb6NGjcfeMt0yjsNeuXcugQYN45ZVXAOjXrx+TJ09mhx12KFnbzCzps1qV46VBgwbsv//+AGzevJlZs2ZlrUvHS3EUxBYRERERERERqQMGDRpUsZwr8Bx/PN1o0AEDBlQsP/3001nreuqppyqWBw4cmLOdIpl88cUXnHDCCbz44osA9O3bl7/97W80bdq05PuqiePF3ZMe1/GSPwWxRURERERERETqgJNOOonmzZsDMHHixKyjS8eOHVuxnC6QdvLJJ9OkSRMAJkyYwNKlS9PWM2fOHJ577jkA2rdvz5FHHll0+6V+27BhAyeddBLPP/88AF//+td58sknKz7TpTZ06FDMDAj5uTOlAXF3/vSnP1XcT3e8nH766RXLY8aMyTjB49SpU5k/fz4Affr0oUuXLkW3v75REFtEREREREREpMyNGDECM8PMGD16dNoyrVu35oorrgDC5HFnn302Gzdu3KbcmDFjeOSRRwBo0aIFF1xwwTZl2rVrx4UXXgiE9A4jRozYJjC3YsUKzjrrLNwdgJ///OclmXRP6p+NGzdy6qmn8swzzwBw2GGHMWXKFFq2bFlUfUcddVTF8TJ+/Pi0Zfbbbz+GDx8OwLx587j00ksrPstxP/vZz3j11VcB2GuvvRg6dOg2ZXr27MnJJ58MwEcffcTFF1/M1q1bk8p89NFHScdapuNY0ss8tayIiIiIiIiIiFTJhx9+yLhx45LWvfnmmxXLzz333DYjQE899VQOOuigovZ35ZVXMnXqVGbMmMHjjz9O9+7dGTlyJF26dGHFihVMnjw5Kf3HmDFjaNeuXdq6rr76ap566inefvttpk6dysEHH8x5553Hnnvuyfz58xkzZgwff/wxEIKGo0aNKqrNIiNGjGDKlCkAtGrVigsuuKBihH82icBxsX7/+9/zr3/9iw8//JA77riDl19+meHDh9OhQwcWL17MhAkTeOmllwBo1KgR9913X8UVCqluvvlmXnrpJZYsWcK4ceOYM2cOZ555Jm3atGH27NmMGTOGZcuWATBs2DCOP/74KrW9vlEQW0RERERERESkmixcuJBf//rXGR9/4YUXeOGFF5LWde3ateggdvPmzZkyZQqnn34606dP57333uOqq67aplyzZs248847GTZsWMa6WrduzdSpUxk8eDAzZ85k3rx5FSO94/r378+kSZNo3LhxUW0W+fe//12xvGbNmoyTPqZKN3K6ELvtthvTpk1jyJAhzJo1i9dff53XX399m3I777wzEyZMyJoup1OnTkydOpUhQ4bwwQcf8Morr1RMThn3ne98h7vvvrtK7a6PFMQWEREREREREalD2rVrx3PPPcekSZN44IEHeP3111myZAnNmjWjS5cuDBw4kIsvvpg99tgjZ12dO3fmlVdeYfz48Tz44IO89dZbrFixgrZt23LQQQdx5plncvrpp1fkFhapbbp27cqrr77Kn//8ZyZOnMhbb73FZ599RqtWrdhvv/044YQTuPDCC2ndunXOug466CDefPNNxowZw8MPP8x7773HmjVr2HXXXTn88MMZOXKkJnMsklX1jEU9UO0vULPjb63uXYhIZP2Tl+iXlUhdY9X/v1qk3JmOAhEAHPRbr7zo20lERFIV9b9aEzuKiIiIiIiIiIiISNlSEFtEREREREREREREypaC2CIiIiIiIiIiIiJSthTEFhEREREREREREZGypSC2iIiIiIiIiIiIiJQtBbFFREREREREREREpGwpiC0iIiIiIiIiIiIiZUtBbBEREREREREREREpWwpii4iIiIiIiIiIiEjZUhBbRERERERERERERMqWgtgiIiIiIiIiIiIiUrYUxBYRERERERERERGRsqUgtoiIiIiIiIiIiIiULQWxRURERERERERERKRsKYgtIiIiIiIiIiIiImVLQWwRERERERERERERKVsKYouIiIiIiIiIiIhI2VIQW0RERERERERERETKloLYIiIiIiIiIiIiIlK2FMQWERERERERERERkbKlILaIiIiIiIiIiIiIlC0FsUVERERERERERESkbCmILSIiIiIiIiIiIiJlS0FsERERERERERERESlbCmKLiIiIiIiIiIiISNlSEFtEREREREREREREypaC2CIiIiIiIiIiIiJSthTEFhEREREREREREZGypSC2iIiIiIiIiIiIiJQtBbFFREREREREREREpGwpiC0iIiIiIiIiIiIiZUtBbBEREREREREREREpWwpii4iIiIiIiIiIiEjZUhBbRERERERERERERMqWgtgiIiIiIiIiIiIiUrYUxBYRERERERERERGRsqUgtoiIiIiIiIiIiIiULQWxRURERERERERERKRsKYgtIiIiIiIiIiIiImVLQWwRERERERERERERKVsKYouIiIiIiIiIiIhI2VIQW0RERERERERERETKVkmD2BacYWZPmNkiM/vSzD41s2fN7Dwza1TK/UX7PMHMHjSzBWa23sxWmdlcM7vJzPYvsK7GZvbdqL2fmtmXHTp04MQTT2TixIm4e6mbLyIiIlIyq1jFQzzEBVzAYRxGG9rQmMbszM70pCcXciGv8mrJ97uOdfyBP/B1vs6u7EpTmtKJTpzBGTzN0wXVtYlN3MVdfItvsTu7swM70IEOnMiJTGQijn6PSRE2bYLnnoMbboAhQ6BnT9hzT2jaFFq0gM6d4eST4Z57YP360u//s8/g2muhd2/YZRdo3hz22QdGjoSXXy6srnXr4A9/gK9/HXbdNTyHTp3gjDPg6cKONxEREZHawkoVmDWznYGHgX5Zir0OnOLuH5Vgf7sCE3LsbxPwc3f/XR71dQYeBQ7KVKZ///5MmjSJ1q1bF9bYHJodf2tJ6xORzNY/eYnVdBtEpMRMUU2A3/E7fskv+ZIvc5YdznDGMIbmNK/yfmcykyEM4QM+yFhmGMO4m7tpQpOsdS1gAYMZzExmZizTn/5MYhKtKe3vsdrOdBRk9/bb0K1bfmU7d4b774evfa00+37mGRg2DJYuTf+4GVxxBfz+97nrmjkzBOE/yHy8MWwY3H03NMl+vNVVDvqtV1707SQiIqmK+l9dkiC2mTUBngG+Ga36GBgLzAc6ACOBxK/GucAR7r66CvtrCfwL6Bmt+hwYB8wCGgFHACOAZtHjP3D3m7LU1xp4CfhqtGoecDew6Nprr50wduxYPv74YwCOPvpopk2bRqNGpRtUriC2yPajILZIHaQgNgDncR7jGAdAF7rQn/70ohdtacsKVvAsz/IIj7CFLQAcy7FMZSoNqnBh3kIWchiHsYQlABzKoQxnOG1py2xmM5axLGMZEALn93FfxrpWspIjOIK3eRuAbnRjJCPpQAfmM5+xjOVjot9jHM00ptGIkl/kV2spiJ1DIojdpQscdhgccAB07BhGRK9ZA7Nnw8SJ8MknoXzz5vDKK9C9e9X2+9pr0LcvfPFFuH/MMXDqqdCyJfznPzBuXBhZDfCzn8F112Wua+HC0PYl4Xjj0ENh+HBo2za0f+xYWBaON4YPh/syH291mYLYZUffTiIikqpGg9iXAjdHd18H+rv7itjjTYHJwIBo1f+6+4+qsL8bgB9Hd9+M9vdZSpmvAtOB3YCNwAHuPj9DfTcBl0V3nyKMFt8Q3ffly5fTv39/Zs4Mo4Juv/12LrroomKbvw0FsUW2HwWxReogBbEB+C7f5VM+5Uf8iCM5Mm2ZF3iB4ziOtawF4G7u5hzOKXqfp3AKk5kMwEhGchd3JQXFF7KQvvTlI8JFeE/wBMdzfNq6Ludybo5+Tg5kII/xGE1pWvH4cpbTn/4Vo7Rv53YuonS/x2o7BbFzWLcujITee+/MZdavh6FD4a9/DfcHDoSpU4vfpzv06QOvvx7ujx4NV1+dXGbWrBDkXr0aGjSAN96AAw9MX98pp8DkcLwxciTcdVfYJmHhwlDXR9FFr088AcenP97qMgWxy46+nUREJFXNBLGjPNf/BdoR/kEd6O5vpSm3K/AB0AL4EtjT3ZcVsb/GwDKgVbS/nu4+O0PZ04CHort/cfczM7TrY6AJsA7o4u7xa/0cYM6cOfTo0QN3p3379ixatIiGDRsW2vy0FMQW2X5KHcQ2s/HA2cC97j6ixHV/E7gSOBTYhTCPwePufnIp9yP1Q53+rCqIDcAKVrAzO+csdzu3832+D0Bf+vI8zxe1v1nMohe9AOhIR97hnaSgc8IUplQErvvQJ21O7qUsZS/2YiMbaUELPuADdmXXbcrNYQ496IHjtKc9i1hEQ0rze6y2UxC7RD77DHbfHbZsgUaNQvC72LQcjz8e8mxDGEH90kshdUiqO+6AxACZIUNg0qRty8yaBb3C8UbHjvDOOyEXdqopUyoD1336wKulz4Ff7hTELjv6dhIRkVRF/a8uxcSO/QgBbIBn0wWwAaLA8IPR3R2Ak4rcXx9CABtgVqYAduRRiIYawclm1ixNmZOhIkHjhJQAdoXu3bvTr19Iv7148WKef764Dp+ISD7M7HDgOeA4oA2wHFgCrIgeHx3dOtdUG0VAn9Vykk8AG+A0TqtYnk22n1HZTWRixfIoRqUNYAMMYhBd6QrADGakzZ09mclsZCMA3+bbaQPYAN3pTr9oOpTFLC46AC+SUbt24QaweTN8/nnxdU2sPEb4/vfTB7ABRoyAHXcMy08+WZleJFNdo0alD2ADDBoEXcPxxowZ2XNni4iIiNQipQhiHxtbfipH2fjjA4vcX4fY8jvZCrr7FqjoKbUE+qYplnf7Bw6sbPJTT+V6qiIiVXIZIcf/i0Bbd2/n7u3dPXHd/9XRrXMNtU8kQZ/VWqZVxVgAWM/6ouuZxrSK5YFZftYZxoCKjHLwVJqfW/nWlfp4urpEqmTVqsq80o0bwy67FF/XtMrPNQMGZC7XvDl8M5paaP16SDdYJl7XwCzHiFnyvtRnERERkTqiFLPhxGc7eS1H2RkZtitEVS4POxB4OmVd3u3v06dPxfKcOXOq0AwRkZwSCTEfdPflFBcHqQAAIABJREFUNdoSkez0Wa1l5lD5G6YTnYqqYytbmctcABrRiJ4Vc22n14fYbyi2/Q0VX9eb3lWqS6RomzfDxRfDpk3h/nHHZR7xnMvixZXB8E6dwuSL2fTpE0ZhA8yZE/adsHUrzA3HG40aQc/sxxuxPgvqs0gd0PH7f63pJkg99dFt/1PTTRCRmFIEsb8SW16Qo+wiYAvQENjXzMwLT8q9OMO+t2FmDYEusVX7pTzeANgnurslal9GnTpVdvTefffdPJoqIlK05tHftVlLidQ8fVZrmbGMrVjONMliLotYVDGKe0/2pFGOn5TxYPm7JP+G2spW3ud9ABrSkA5JF90VVpdIXrZurZy8EWDtWpg3L6TseD98FuncGW65pfh9xPsKnTvnLh/rZ5Daz1i0KIzQBthzzxDILrYuERERkVqqFEHs1rHlrEnj3H2zma0Gdo723YLCO70zgI2EPNa9zKy7u2caYnAKIY1IurYSPZZ4DVa6++ZsO27Tpk3F8sqVKwtps4jUU1Ee4MuAY4BOhDROHxGuCrnR3T9KKZ96Yu8eM7sndv9ewuR8Cf+w5BybC929cynaLvWLPqv1w7/5N/cQ3qamNOVyLi+qnpVU/g5qS44RpkAbYr+hSP4NtZa1bCb8BGtN65wB8Wx1ieRl40Y45ZT0j7VsCaefDjfckHv0dDbxvkI+9cT6GaT2M0pZl4iIiEgtVYogdjxIvCGP8uuhYuahVhQYxHb3L8zsfuAcQmqR+8zsGHdPCqCb2VeAW1M23zHlfkFtb9ascl7INWvWFNJsEamHzGwYMI4wmS3Al8BWwlUh+wHnmNkQd48lumRJ9LcdIYi4GpKS1m6JyuwW3V8B0WxowWelfA5SP+izWj8sZjGnczpb2QrAtVybc9RzJmtjP98yTegY14zYbyiSf0OVsi6RKuvVC/r1g512qlo9a2NdnHxSksT6GaT2M0pZl4iIiEgtVYqJHWvCz4BPo+VewFwz+42ZDTWz4WZ2+/+zd+fxVdV3/sdf3ySEHcKOgICI1rUOS12qVapYpbZqkdpxp4zSaWtrrXb5VUfpVDtL2xltO22x1RG6Ua0L7bSgRdzqggUpioKCiCyK7GsCIcn398e5JAHuTQi5SS43r6eP+zjn3nPO93zg8Y3n5M33fg8wHziMmgc7Aqnf2iSpiYUQzgWmkkyf9J/AEUB7km+gHAM8SPIPeQ+GEAbuOS71QLy+wMrURzfs+Sz1+qfU9j3G7rP9Q83wx1Mesa+2DjvYwUVcxGpWA8k0IjdxUwtXJbWQdu0gxuRVVZXMXf3EE3DZZfDXv8KVV8Lo0bDOf2uTJEnKFdkYib2dmpHV7ah/ZHWtoQEHN3wmxvhe6pfuR4GhJKPAvplm1/8FXgH+O/V+0z7ba9da77CGsrKaAWadO3duQMWSckUIob4H0AIQY6z7yWJ1n6MA+B+Sfyj8fIzxnn12eQO4NIQwHbgQ+CrJNA5Ss8r1vnrAP6809PEarctOdnIhF/ISLwFwOqfzO35HaMSzsjvV+jLbzgP4Il5ZrUH6ndn7HiqbbamVWbw4eWUyfDgMHJh5O0AI0L17Mvp6z+u66+CZZ+CTn4QXXkj2aahOtb7wufMAvqxa6/cM9v09I5ttSZIkHaKyMRK79kRrdU7SFkIoomZKj93AjoM9aYzxNeBE4AvAEyRfS95N8tXl/wM+EWOcQE3ADns/FBKSEHvPPNglqfoy2rDnCeNAScm+02tLUrUzgaNInhPwizr2m5pantfkFUnp2VfzXDnljGUss5kNwMmczJ/5Mx3p2Kh2S2o9ZmR93Y9EAWADte6h9nlESSc6Vc+DvZnN1fNjH0xbamWmTUvmts70mj274W1eey2cc06yPmcOzJx5cLXV/l1hff0/I9T6PYN9f8/IZluSJEmHqGyMxH6T5KvHAIOB5XXsO4Dk68oAS2OMjRo6FWPcCfw09crkuFrrf9vn+KoQwlsk830Wpupbnqmhd955p3r96KOPbnjBklpcY0ZYN8DpqWVX4N2QeQRXcWo5qMkrktLL6b56wD+vwaHY6exmN5/m08xgBgDDGMZMZtJlv0eENNwABtCe9pRRxmpWU0FFnQ9kfIda91DsfQ9VQAFHciRv8AaVVLKKVQxm8EG1JWXF+ecn04sAPPUUjBnT8DZq/66wfHn9+9f6PYN9f88YMCCZ57qsDFavhooKKKrj17i62pIkSTpEZWMk9sJa6/X9sjkyw3FNIvU16TNSbyPwXJrdDrj+uXPnVq+fcMIJjS1PUv7ql1q2IXmoXabXnm+KtN+3AamZ2FfzVAUVXMZl/IE/AHAiJ/IX/kK3vb6gdvAKKOC41DiBCipYwII6959LrXso9r+Hqv3ZPOqeRaa+ttSKTJpUM7d1utf48QfXbu0pODZvzrxfXfr2hR49kvUVK+ofQV3r9wz2/T2joACOS43LqaiABXX/vNXZliRJ0iEqGyH2Y7XW6/ua8fm11g/yu3kNMgbY81Cpv8QYV6TZ54Drn1nr64Tnn39+HXtKauX2fONkTowxHMirRatVa2ZfzUOVVHIlV/IQDwFwHMcxi1n0oEdWz3Nerdumx/a6ndpbJO61/Xz2v4c60LYAZta6hUzXltRoS5fWrPesc7bEup2X6tcxwuOPZ96vtBSefTZZb98ezjorc1sAj9XxMxLj3tv9nUWSJOWJbITYT5LMRw0wOoRwfLqdQgi9gX9Mvd0JTM/CuTMKIXQAvlfro+9l2PVRoDy1flmqzv0sXLiQ2al59fr27ctZ6W4uJSmxZ/59pwlRrrOv5pkqqpjABH7H7wD4AB/gCZ6gN2lvbxrlUi6tXp/M5IwPZZzBDJaShIIjGckQhuy3z8VcTHFq1prf8lvWsjZtWwtZWD2/d1/6chbejynLtm+H3/ym5v2HP3zwbX3mMzXrP/xhEjCnc//9sHVrsn7BBdAxzZz1l9b8vDF5cuYHPM6YURPCjxwJQ/b/eZMkSToUNTrEjjFWAHem3gZgaghhr++qhhDaAVOg+ilCP44xbiCNEML9IYSYek3KdN4Qwpl1bOsD/BE4NvXR/THGWRnqXwf8JPW2E3B/qt5qmzZt4uqrr2bPFN633norhYWFSFIGe6Yu6htCGFnnngdvz2/CjoxVY9hX80gk8jk+x9TUcziHMpTZzKZv9ZfSDtx4xhNS/01iUtp9TuIkLuZiAFawguu5niqq9tpnBSv4PJ+vfp+prV704gt8AYDtbGc84/cLxTexiau5mpjqUrdyK4V4P6YD9J3vwGuv1b3P++/DxRfDu+8m7486Cs49N/2+o0ZBCMnr/vvT7/PJT8Lw4cn6nDlJDft65RX41reS9YICuO229G2ddFJSGyTTk1x/PVTt/fPGihXw+ZqfNyZNSt+WJEnSISgbD3aE5MGKlwAfAYYDC0IIk4GlJA9L/CdqAuXXgTuycM4/hxDeB/4MvAJsIpmz8xTg01D91KIngevraevbJFOdHEMyBcnLIYRfAKvvuOMOJk+ezMqVKwEYNWoUEydOzEL5kvLYkyT//xsK/HcI4ZwYY3mmnUMI3WOMGxt4jq0kD+MrOfgyJftqPrmFW/gFvwCgDW24gRt4iZfqPe5jfIwOdDioc97FXbzAC7zP+9zLvSxkIVdxFT3owau8ymQms4Fk3MIVXMEFXJCxrdu5nZnMZDGLmcEMhjOca7mW/vRnKUuZzGRWkrofYxQT8X5MDfDQQ0lAfNJJcOaZyRzT3bsno6Pffz8JmadPhx07kv07dYIpU6C4uO526xIC3HNPcr7SUrj9dnjuORg3Lhlt/dJL8Itf1Jzz//0/OPHEzO3ddRe88EJS7733wsKFcNVVydzbr76ajNDekBondMUVyahuSZKkPJGVEDvGWB5CuAj4PXA2cDjpg+qXgU/FGLdk47zAEDIH1FXAPcBXY4xldTUSY9wcQhgDPAwMIwncfwDJqOs9Ro8ezYMPPkibNm2yULqkfBVjrAgh/DPJ3P9nAM+EEG4Bnokx7gYIIQwBPkbyj3zTafg/7i0ETgeuCCE8FmMszdofQK2GfTW/PM/z1eu72c2X+NIBHfc2bzOYwQd1zkEMYgYzGMc4lrGMOan/9nU5l3Mf99XZVgklzGAGYxnLfOaziEXcxE377Tea0TzIg7TB+zEdhAUL6n8w4j/8QxIS7xlF3RgjRiTh+OWXw7p1ydzY+86PHQJ89avpR2rXNmhQMl3IuHGwbFkSvM/Z/+eNyy+H++r+eZMkSTrUZGskNjHGTSGE0cClwFUkYXBPkhHSrwHTgP9NTT+SDZ8BzgU+DPRPnWs7sAr4CzA1xvhKA+pfHkI4BRhPMnf38UC3fv36FQ8bNoyrrrqKSy+9lBD8NrSk+sUYnwghfBqYSvINkVnA7hDCVpKpi9rW2v3RgzjFz0iCwUuAC0MIa4EKYFWM8YxGFa9Wxb6qxhrGMF7hFSYzmd/ze5awhG1soze9OZVTmcCEA34A42AGM4c53M/9TGMar/Eam9hET3oyjGFcxVVcyqUEZ6dRQ82cmTzw8LnnkhD77bdh8+YkQO7SJQmIR4yASy6B0aOTqT2yZfToZCqTn/40CbSXLUvmtO7XLxmlPXEinHbagbU1bFgyBcnkyfD738OSJbBtG/TuDaeeChMm+DBHSZKUl0LM9IAR7dHkf0HtL/hhU59CUkrZn76c1eQjhHA/cA0wJcY4Ps323sAXSKYqOopkqqMdwNvA34A/AX/edwqHEMJykoftfTbGeH+Gc18JfA44EehM8pyDd2KMgxv9B1Peyeu+Gpr+Wi3luuBPgQRA9BkMuabR/3ca+KU/ZKMOqcFW/OjCli5BylcHda02xK6fIbaUR7IdYkvKAYbYkiG2lGKInXMMsXXIMsSWmsxBXauz+D05SZIkSZIkSZKyyxBbkiRJkiRJkpSzDLElSZIkSZIkSTnLEFuSJEmSJEmSlLMMsSVJkiRJkiRJOcsQW5IkSZIkSZKUswyxJUmSJEmSJEk5yxBbkiRJkiRJkpSzDLElSZIkSZIkSTnLEFuSJEmSJEmSlLMMsSVJkiRJkiRJOcsQW5IkSZIkSZKUswyxJUmSJEmSJEk5yxBbkiRJkiRJkpSzDLElSZIkSZIkSTnLEFuSJEmSJEmSlLMMsSVJkiRJkiRJOcsQW5IkSZIkSZKUswyxJUmSJEmSJEk5yxBbkiRJkiRJkpSzDLElSZIkSZIkSTnLEFuSJEmSJEmSlLMMsSVJkiRJkiRJOcsQW5IkSZIkSZKUswyxJUmSJEmSJEk5yxBbkiRJkiRJkpSzDLElSZIkSZIkSTmrqKULkCQpV4UQugGjgVOADwKDgG5Ae6AM2Ai8A7wCzAFmxRg3t0y1kiRJkiTlJ0NsSZJqCSG0By4DrgLOYP9vLYXUsiPQAziKJOgGqAohPAP8EvhdjLGs6SuWJEmSJCm/OZ2IJElACKF7COG7wErg58CZQCFJaF37tQ1YDWxPs60QGAXcC6wMIdwZQujevH8SSZIkSZLyiyOxJUmtWgihGPha6tWZmpHW64C/Ai+STBWyCNgUY6yodWwR0B04lmTKkVNIRm/3Sn3+TeCLIYT/BL4fYyxvjj+TJEmSJEn5xBBbktTavQ4cQRJe7wCmA78GHo8xVtZ1YCrQXpt6PQ0QQigEzgWuBC4CugDfAT5LMvWIJEmSJElqAENsSVJrNwTYBPw3cHeMcVtjGksF3zOBmSGEzsANwI2p80iSJEmSpAZyTmxJUmv3L8DgGOMdjQ2w9xVj3BZjvAMYDNyWzbYlSZIkSWotHIktSWrVYox3NsM5tgFNfh5JkiRJkvKRI7ElSZIkSZIkSTnLEFuSJEmSJEmSlLOcTkSSpEYIIRwPnE5yTV0QY3yuhUuSJEmSJCmvGGJLkpRGCKEfcHPq7f0xxlfS7PMz4Lp9PnsGGBtj3NT0VUqSJEmSlP+cTkSSpPQuA75CElIv23djCOHLwEQg7PM6E3ig+cqUJEmSJCm/GWJLkpTemanlkzHG7bU3hBCKgG+l3u4Cvg9cD/yNJMg+O4Tw8eYqVJIkSZKkfGaILUlSekOACMxJs+1soHdq+z/HGL8eY/wJ8FFgdWqfy5ulSkmSJEmS8pwhtiRJ6fVMLZen2XZ2arkV+PWeD2OMpcBvSEZjj2zK4iRJkiRJai0MsSVJSq97almaZtvpJKOwZ8cYK/bZ9kZq2b+pCpMkSZIkqTUxxJYkKb3y1LJr7Q9DCO2oGWX91zTHbUkt2zZRXZIkSZIktSqG2JIkpbdnbuth+3w+mpqA+vk0x5WkltvTbJMkSZIkSQ1kiC1JUnovksxtfWUI4UiAEEIhcHNq+2Zgbprjjk0tVzR5hZIkSZIktQKG2JIkpfe/qWUJ8LcQwiPAAuBMkvmwfxVjrExz3EdS219tliolSZIkScpzhtiSJKURY3wauJdkNHYJcCE1o6zfBb6z7zEhhMHAh1Jvn2vyIiVJkiRJagUMsSVJymwicCPwGsmDHjcDDwBnxBjXp9n/i7XWH2v68iRJkiRJyn9FLV2AJEm5KsYYgbtTrwPxA+DHqUOdE1uSJEmSpCwwxJYkKUtijGtaugZJkiRJkvKN04lIkiRJkiRJknKWIbYkSZIkSZIkKWcZYkuSWrUQwt0hhD5NfI6+IYQDnVdbkiRJkiTVYogtSWrtvgQsCyH8VwjhsGw2HELoF0K4C1gGXJ/NtiVJkiRJai0MsSVJrd18oD1wA/BOCGFGCOGKEEKHg2kshNAhdfxMYDlJSN4udR5JkiRJktRARS1dgCRJLWwk8DngNqAv8LHUqyyE8DfgJWAO8AawEdgYY9wVQmgHdE+9PgCcApycaq99qu0ArAEmAT9vpj+PJEmSJEl5xRBbktSqxRgj8LMQwhTgiyQjpw8HOgBnpl57CSFUAoUZmgyp5QrgLuBnMcad2a5bkiRJkqTWwulEJEkCYoxlMcbvA0OATwEPA2UkofS+r6IMn5cCDwEXA0NijHcZYEuSJEmS1DiOxJYkqZYYYyUwHZgeQigGTieZKuQEYBDJ9CFtgV0k04ssBxaSTDnyfIyxvAXKliRJkiQpbxliS5KUQSqQfjL1kiRJkiRJLcDpRCRJkiRJkiRJOcsQW5IkSZIkSZKUswyxJUmSJEmSJEk5yxBbkiRJkiRJkpSzDLElSZIkSZIkSTmrqKULEJT96cstXYIkSZIkSZIk5SRHYkuSJEmSJEmScpYhtiRJkiRJkiQpZxliS5IkSZIkSZJyliG2JEmSJEmSJClnGWJLkiRJkiRJknKWIbYkSZIkSZIkKWcVtXQBkiQdKkIIA4FjgW5AcYxxaguXJEmSJElS3jPEliSpHiGEicBXgaP22TR1n/1uAc4CVsUYJzRTeZIkSZIk5TWnE5EkKYMQQqcQwl+An5IE2KHWK50XgdHANSGE45unSkmSJEmS8pshtiRJmf0WOIcktH4b+DfgZ3XsPxtYk1r/RNOWJkmSJElS62CILUlSGiGEjwMXABGYAhwTY7wFeCzTMTHGCPyFJPQ+oznqlCRJkiQp3xliS5KU3tWp5ZvAtTHGigM8bkFqeWz2S5IkSZIkqfUxxJYkKb3TSEZhT40xVjbguD3TifTJfkmSJEmSJLU+htiSJKXXO7Vc2sDjylPL4izWIkmSJElSq2WILUlSejtTyzYNPK5Xarkpi7VIkiRJktRqGWJLkpTeu6llQ+e2Pi21XJbFWiRJkiRJarUMsSVJSu9pIACfCSEc0PUyhNAHuIRkLu0nm7A2SZIkSZJaDUNsSZLSm5paHgncWd/OIYT2wG+A9kAlcG/TlSZJkiRJUutR1NIFSJKUi2KML4YQHgAuBb4eQjgS+AH7zJEdQugPfAz4BnAUySjsn8YYnU6kmYyc29IVSC1v7oiWrkDKEfNaugBl24ofXdjSJUg5Z922ipYuQa1Qr84tGyMbYkuSlNkEYBBwCsk0IZekPo8AIYQKkilH9gjALOCmZqxRkiRJkqS85nQikiRlEGMsBc4C7gZ2k4TUe16QXEf3vN9NMlL74zFGh0ZIkiRJkpQljsSWJKkOMcZy4MYQwn+QTC3yEWAw0BXYDqwmeQjktBjjqpaqU5IkSZKkfGWILUnSAYgxrgF+mHpJkiRJkqRm4nQikiRJkiRJkqScZYgtSVIaIYTZIYQnQggfbuBxH9pzbFPVJkmSJElSa+J0IpIkpTcKiEDPBh7XvdaxkiRJkiSpkRyJLUmSJEmSJEnKWYbYkiRlV9vUsrxFq5AkSZIkKU8YYkuSlF0fTC03tmgVkiRJkiTlCefEliS1eiGEgcDgDJtPCCFsrq8JoCMwHPg6yXzYf89agZIkSZIktWKG2JIkwWeB29J8HoDvNLCtQBJiT2lsUZIkSZIkyRBbkqQ9QgM/z2Q38P0Y4wONrEeSJEmSJGGILUkSwFNpPrudZET1A8Dieo6vArYDbwPPxhg3ZLU6SZIkSZJaMUNsSVKrF2N8Gni69mchhNtTq7+NMf6h+auSJEmSJElgiC1JUibfTi3rG4UtSZIkSZKakCG2JElpxBi/Xf9ekiRJkiSpqRW0dAGSJEmSJEmSJGViiC1JkiRJkiRJyllOJyIpp6zaVN6k7Q/oVtyk7Ss/hRA+AlwFnAIMALpQ/z8Exxij11lJkiRJkhrJX64lScoghNAJmApctOejFixHkiRJkqRWyRBbkqTMHgDOIwmvdwCvAqcCEXgdKAMGAb1S+0dgXmpfSZIkSZKUBc6JLUlSGiGETwDnp94+CBwWY/xwrV1uiTGeHGPsA4wAppOE3e2Bf4oxfrRZC5YkSZIkKU8ZYkuSlN4VqeVGYHyMcXumHWOM82OMnwLuBI4HpocQ2jVDjZIkSZIk5T1DbEmS0juFZHqQX8YYy9Js329+7BjjvwB/B44DJjZteZIkSZIktQ6G2JIkpdc7tXxzn89japlppPWvSQLuTzdFUZIkSZIktTaG2JIkpbfn4cfr9vl8z7QivUhvZWo5NOsVSZIkSZLUChliS5KU3obUsuM+n7+fWh6T4bi+qWW3rFckSZIkSVIrZIgtSVJ6i1PLI/f5fAHJdCGfCCGku46OTS03pNkmSZIkSZIayBBbkqT0XiAJq0/e5/PpqeXhwM9DCF0AQggdQwj/DZxJMm/2s81VqCRJkiRJ+cwQW5Kk9GamlmftCapTHgCWptbHA+tCCO8CW4Avpz6vAv6rOYqUJEmSJCnfGWJLkpRGjPGvwBSSkdcn1vq8HLgEWE8yUrsNyTzYBan3lcCXYowvNXfNkiRJkiTlo6KWLkCSpFwVY/xshs9fDSEcA3wJOAfoA5QCfwN+EmNc0HxVSpIkSZKU3wyxJUk6CDHGTcC/pl6SJEmSJKmJOJ2IJEmSJEmSJClnGWJLkpRGCOG+1OsfGnjcCanj7m2q2iRJkiRJak0MsSVJSm88cA0wsIHH9U8dOz675UiSJEmS1DoZYkuSJEmSJEmScpYhtiRJ2bXnockVLVqFJEmSJEl5whBbkqTs+kBqublFq5AkSZIkKU8U1b+LJEn5LYTQBSjJsLl3CKG+ebED0BEYDnwNiMDC7FUoSZIkSVLrZYgtSRLcCNyW5vMATG5gW4EkxP5dY4uSJEmSJEmG2JIk7REa+HldpgE/b0QtkiRJkiQpxRBbkiT4OzBln8+uIRlR/RSwop7jq4DtwNvAEzHGV7NdoCRJkiRJrZUhtiSp1YsxTgem1/4shHBNavXuGOMfmr8qSZIkSZIEhtiSJGUylWQkdn2jsCVJkiRJUhMyxJYkKY0Y4/iWrkGSJEmSJBliS5LUKCGEABxFck19K8a4q4VLkiRJkiQprxS0dAGSJOWiEEKHEMKFqdfhGfa5DHgXWAS8CqwNIUxqxjIlSZIkScp7jsSWJCm9ccD9QCUwZN+NIYTzgF/teZtadgb+JYTQOcZ4U3MUKUmSJElSvnMktiRJ6Z2bWs6JMa5Ms/17JOF1AOYCvwe2pN7fEEI4qVmqlCRJkiQpzxliS5KU3nFABJ7Zd0MIYThwQmr7f8UYT44xXgp8CNhBEmRPaMZaJUmSJEnKW4bYkiSl1yu1fCPNtvNSy93AnXs+jDEuBR4gCbHPaNLqJEmSJElqJQyxJUlKr2dquTXNtj0B9fMxxk37bPtbanlEk1QlSZIkSVIrY4gtSVJ6ex7W2H6vD0MIwGlkmGoEWJ9admq60iRJkiRJaj0MsSVJSm9dann0Pp+fDJSk1p9Pc1yH1HJnUxQlSZIkSVJrY4gtSVJ6fycZjX1ZCKH2aOzrUsvdwHNpjhuSWr7XhLVJkiRJktRqFLV0AZIk5agHgU8AQ4GnQgi/AY4HJpBMJfKnGOOONMedklouapYqJUmSJEnKc4bYkiSl92vgS8DIWq89yoFJ+x4QQugCfJQk5H6x6UuUJEmSJCn/OZ2IJElpxBirgDHA9NRHIfV6FxgXY3w1zWHjgeLU+qymrlGSJEmSpNbAkdiSJGUQY9wAfCqE0ItkrutS4LVUwJ3OYuCzyaFxbjOVKUmSJElSXjPEliSpHjHGdcC6A9jv8WYoR5IkSZKkVsXpRCRJkiRJkiRJOcsQW5IkSZIkSZKUswyxJUmSJEmSJEk5yxBbkiRJkiRJkpSzDLElSZIkSZIkSTnLEFuSJEmSJEmSlLMMsSVJkiRJkiRJOcsQW5IkSZIkSZKUswyxJUmSJEmSJEk5yxBbkiRJkiRJkpSzDLElSZIkSZIkSTnLEFuSJEmSJEmSlLMMsSVJkiRJkiRJOcsQW5IkSZIkSZKUswyxJUmSJEmSJEk5yxBbkiRJkiRJkpSzDLElSZIkSZIkSTnLEFuSJEmSJEmSlLMMsSVJkiRJkiRJOcsQW5IkSZIkSZKUswyxJUmSJEmSJEk5q6ilC5DyVYyRBx54gF/+8pf8/e9/Z926dXTv3p3jjjuOyy67jPHjx1NUlJ0fwdLSUhYsWMDcuXOZN28ec+fOZfHixVSL+arSAAAgAElEQVRWVgLw5JNPMmrUqAa1uXv3bu6//36mTZvG66+/zsaNG+nVqxfDhg3jyiuv5NJLLyWEkJX6JUlNZ/fGtWx9fibb5j1F6RvzKX/3bSrLdlDYqQtt+w+h07Az6XnxtbQ/4tjsn3vTOtY/9DM2P/Uou959m6pdO2nT8zA6Dz+LnmMn0unEUw+4rcqyHax/aDKbZj/ErpVLqNyxlTbd+9DxxFPpceEEup52Xtbr16GrMlby9s5FLCqdy6LSeSwqncubpQvYFcsAuK7v7Xyu36Ssn7escgcPrZ/M7M0PsXLXEnZUbqV7mz6c2OFULuw5gdO6HHg/rYi7+eOG+3l80zSWlb3O1sqNdCvqxQfaD2NM9ys5t5v3YpIkqfUIMcaWriHX+RekBtu0aRPjxo1j9uzZGfcZPnw4jzzyCAMHDmz0+Xr06MHGjRszbm9oiL18+XLGjh3L/PnzM+4zevRoHnzwQUpKShpSar1WbSrPanv7GtCt2N/2pDwzcp7X6kxWfO/LrPv9TyD1j5oZFRTQ5/Ib6f+l/yAUFmbl3FvnzOLtf7mCio1r0+8QAn2uvIkBN3yv3rZKF8/nrW+Mo3z1soz7dB9zBYNuu4+CNsUHW/IhbfLElq4gt3xt2SU8ufnhjNubIsReXDqfbywbx+ryzP10TLcruG3QfbQpqLufvrtrOV9bNpY3yjLfi53ceTT/ccSDdC7K7r3YoW7EPLzXyy1eo6UmsG5bRUuXoFaoV+esjYU+qGu1I7GlLCsvL+eiiy7i2WefBeDwww9n4sSJDB06lFWrVnHfffexaNEiXn75ZcaMGcMLL7xAly5dGnXOyn3CiYEDB1JeXs6aNWsa3NbmzZsZM2YMixcvBuDYY49lwoQJDBgwgKVLl3LPPfewcuVKZs2axdixY3n88cezNqJckpRdO99+vTrAbjfkeDp/6GzaDz2Ros4l7N64li1//RNbn58BVVW8/6sfULl9C4Nu/Xmjz7tj0TzeuukiqnaWAtD5lHPpdvYlFHToROlrL7F++r1Ule3g/V9+n9CmLf2/cEfGtna99w5LbhhDxYb3Aehw/Mn0GHMlRSU9KXvrVdY9fA+VWzawccavgcAR3/llo+vXoa8q7n1v1LWwO12LerBi15ImOd97u97hhqVj2FCR9NPjO5zMmO5XUlLUk7fKXuXh9fewpXIDMzb9GkLgO4Mz99NtFZv58tIxLN+V3Isd0e5YLuwxgd5tBrBy11IeWX8P7+9eyUvbZvG1ZWP58VGPUxS8F5MkSfnNkdj18y9IDXL33Xfzla98BUhGW8+aNYtu3bpVb9+5cycXX3wxjz32GAA333wz3/te/aPQ6nLNNdfwgQ98gBEjRjBixAh69uzJ+PHjmTJlCtCwkdg33ngjd911FwDnn38+jzzyCO3atavevnHjRkaPHl09SvvHP/4xX/ziFxtVf22OxJbUUI7EzmzJ9edR1K0XvS+/kY7Hjki7z6ZZv2fZLZdBZTKi56ifPkGXD5190OeMMbL4qpGULn4ZgMMmTqLfxNv32qf0zQW8cd2ZVO3YCgUFHPebv9N+6Ilp23vr5k+x+alHAehx4QQG3fpzQkHNY112vfcOb153JuVrVgAw9K7/o+sZFxx0/YcqR2Lv7b4136W0chvHdBjBsR1G0L/tEfxxw/18+53PAtkfiX3zW5/iqS1JP72wxwRuHfhzCkJNP31v1ztct+RM1pQn/fSuI/+PM7qm76c/WHUjv12b3It9uMv5fG/II7QtqLkX21KxkS8sGV09Svvrh/+YS3tl717sUOdI7JzjNVpqAo7EVkto6ZHYPthRyqKKigruvPNOAEIITJ06da8AG6Bdu3ZMnTqVjh07AvCjH/2IDRs2NOq8U6ZM4Vvf+hbnnXcePXv2POh21q5dy09+8hMAOnbsyJQpU/YKsAG6d+/O1KlTq+dgvOOOO/YbCa4aIYRRIYQYQsj6DXwIYVKq7aey3bYOLfYzZXLEd6dxxHd+lTHABug2ehx9Lruh+v2G/5vSqHNuefoP1QF2xxNO4bDrbttvnw5Hn0T/6/8teVNVxbs//9e0bZW+uaA6wC7uO5CB3/ifvQJsgLaHDWLgN39a/f7deyY1qn7lhwl9v8X1/f+N0d3G0b/tEU16rjdLF1QH2H2LB/KNw/9nrwAb4LC2g/jm4TX99J73JqVta+Putfx+XXIv1r6gI5MGTdkrwAboWtSdbw+eSkj9/nfve3dQGb0XkyRJ+c0QW8qi2bNns27dOgDOOeccjj/++LT79e7dm3/8x38EYNeuXUyfPr3ZaqzLo48+Snl5MhL6sssuo3fv3mn3O+GEEzj77GSU3po1a3j66aebrUZlTwjh4lRAeXFL16L8ZT9rWUVdutW/E9Bt9Ker18uWvtqoc278y++q13t95ksZHzzX85PjKeiYTKe15a9/orJsx377bKrVVs9PTaSgbbv99gHocvoY2h4+FIDS1+eya1XmOYmlbPvLppp++qkeE/cLnfc4vcsYDm+b9NPXS+eyatf+/fSpLY+yOyb3Yud1u4zubdLfiw1tfwIf6pzci22oWMPL270XkyRJ+c0QW8qixx9/vHr9/PPPr3Pf2ttnzpzZZDU1xKFef44qBd5IvXLNxcDtqaUObfYzNUpBh87V63FXWaPa2vpizbWk62nnZT5nuw50HvaR6nNun7d/CFe7rS4fznxdCiHQ5dSac215weuSms+L22r66Ye71t1PT+1S009f2Lp/P31xa01bp3Wp+16s9vbnt9jnJUlSfjPElrJo4cKF1esjRmT+6jbAyJEj0x7Xkg71+nNRjPGlGOMxMcZjWroW5S/7mRqr7K2a/48XHzbooNvZvX4NlVs2VLdTVFL3FFcdjq25ltSuASBWVVG27PXkTWERHY46qe62jqtpa+dbXpfUPKpiFcvKkn5aSBFHta+7nx7XoaafvlW2fz+t/dmxHeq+Fzu2dls77fOSJCm/GWJLWfTmm29Wrw8ePLjOfQcMGEBhYSEAS5YsoaUfslpVVcVbb70FQGFhIQMGDKhz/0GDakKO2n9uSdKhZ/0j91Svdz394B+KuHNFzfWg+LDB9e5fOzCvfSzA7rWrqkeFF/fuTyiq+0EybetoS2oqa3evYldM+mnv4v4Uhbr76WHFNf10xa69+2lVrGLVrtS9GIX0Lq77XqyutiRJkvKNIbaURZs3b65er+8Bi0VFRXTpkswFWlFRwY4d+88F2py2b99ORUXyhOOSkhKK6gkLevToUb1e+8/dmoQQnko98G5SCKFNCOGmEMLcEMLm1OejDuSBeyGEE0MIvwshrAkh7AwhLAsh/CiE0LshD+wLIZwTQvhTCGFdqp1FIYTbQwjt9tlvVKq9a1IfXbPnHLVeoxr1l6OssZ+pqW18bBrbXnoCgKIefehx0YSDbqtyW831oL5R2ABFXWuuJbWPBahoYFuFdbQlNZVtFTV9raSo/n7atbCmn26r3LufllZtp5LkXqxTYUm9gXjXolptVdjnJUlSfjPElrJo+/bt1evt2qV/qE9t7du3r17ftm1bk9R0oA7l2nNAO+Ap4PvASUAVcEBD60MInwLmAZcCfYDdwGHA9cDfgcEH2M7XgL8AY4AioBg4BpgE/DmEUFhr93LgfWBn6v3O1Pvar/IDOa+alf1MWVe27HXe+e7E6vcDv/YjCtt3POj2qspqriWZHsJYW0HbmmtJVene15Kq0pq2QnHD2qrc0eqvS2ompVU1/bQ41N9P2xbU9NMdlXv307LK7bX2q7+tdrXaKq2yz0uSpPxmiC1JjfdF4IPAZ4EuMcbuQC/glboOCiEMAX4FtAFeBkbGGDsDHYBzSQK+/zqA858E/Hvq1TvG2A0oAf41tf2j1IyGJcb4fIyxL/C71Ee/izH23ef1/AGcV83Lfqas2r1+DUtv/CRVqcC316e/QLfRn27hqiRJkiRpf3V/R01Sg3Tq1IlNmzYBsHPnTjp16lTn/mVlZdXrnTt3btLa6lO71p07d9axZyKXam+IEMK8A9kvxlj305T21gm4MMb4x1rHb0idr67jvkUSJK4Fzo0xbkwdG4FZIYTzgAUHcP4S4Nsxxkm1zr8VuD2EcAIwFrgMuK8BfyblnlbXzw7053XE3JZ9pkBz27l8MTuXL864vcMxwynuO7DONiq2bGTJ9R+jfPUyAErOGcfhN/+w0bUVtK+5llTtqv9aUrWr5lpS0GHva0lBh5q2YnnD2irseOhcl3Ro61BQ00/LY/39dFdVTT/tWLh3P21f2KnWfvW3tbNWWx0K7POSJCm/GWJLWVRSUlIdYq9fv77OELuiooKtW7cC0KZNGzp2PPivb2dDp06dKCoqoqKigs2bN1NRUVHnvNgbNmyoXi8pKWmOEnPZa7WDxQMRktTxktTbn+4JFmuLMb4RQngAuKqe5naRTDGRznSScPGDDalPOcl+JiCZw/q9n3874/ZBt/8vPT85PuP2yu1bWHL9xyhb+ioAXT/ySYbc+RtCYWHGYw5UYeea60HF5vX17l+xpeZaUvtYgKIGtlVZR1tSU+lcVNPXNlfU30+3VNb0086Fe/fTDgWdKKSISirYXrmZilhR57zYWypqtVVkn5ckSfnNEFvKoqOPPpq3334bgOXLlzN48OCM+65atYrKykoAhg4dWt9IyiZXUFDAkUceyRtvvEFlZSWrVq2qs/533nmnev3oo49uhgqzo4EjrA/UcwdxzBCSka0AT9ex31PUHy6+FmPcnmHbu6ll9wMvTTmq1fWzA/15HTnvwOYGVzJX9JLrz6N0UTLIvctp5zHkPx4kFLXJSvvtBtZcD8rfW17v/uXv1VxLah8L0Kb3AELb9sRdZZSvXU2sqCDU8Y+ru+poS2oqvdsMoG1oz65Yxtry1fUGz++V1/TTgW337qcFoYABbY/knV1vUEkla8tX0a/t4INqS5IkKd84J7aURSeccEL1+rx5dX8Lfu7cuWmPa0mHev0taO1BHNOr1vq7GfeC1QfQVl1Pc6pILf1Hy0Of/UwA9PvcJEbMjRlfmUZhV5ZuZ8mXx7Bj4RwAOn/obI78/qMUFLfNWm1tevalsGsPAMrXrKh3BHXpopprSfsj976WhIIC2g85LlV8BaVL6p71pvT1mrbaHdnqr0tqJgWhgCHtk35aSQVLyurup6+X1vTTI9vv309rf7aotO57sUW122pnn5ckSfnNEFvKovPOO696/bHHHqtz35kzZ1avn3/++U1WU0Mc6vW3oMpGHu8oUh0I+5kOWtXOUpZ+5RPsWJAM6O80/EyG/vcfKWjbLuvn6npa6loSI1tffLzOmrbNfxaA0LY9nUactd8+XU6tuS5tfSHzdSnGyNYXa7Z3Pa3VX5fUjE7tXNNPX9hadz99sdb207rs309P61LT1ot1tJWcq+Ze7MNd7fOSJCm/GWJLWfTRj36UXr2SgY+zZs3itddeS7vf2rVrmTZtGgDt2rXjoosuarYa63LxxRdTXFwMwG9/+1vWrk0/8HPhwoXMnj0bgL59+3LWWfsHD6rXulrr/erYr39TF6K8Zj8TVbt2svSrF7H95WRGmY4nnc7Qu/5EQbsOTXK+bud+pnp97bQfkjxDdH/r/3g/VTuSZ0N0PeMCCtvv/2yIbudeWrP/w5MzPixy63Mz2LVyKQAdjhtJ2wFDDrp+qaHO7VbTTx9ePznjQxmf2zqDlbuSfnpch5EMaLt/Px3V9WLahORe7LFNv2Xj7vT3YkvLFvK3bcm9WI+ivgzv5L2YJEnKb4bYUhYVFRVxyy23AMlom6uvvrr6QY977Ny5k2uuuYYdO3YAcP3119OjR4+07Y0fP54QAiEEJk2a1KS1A/Tq1YsvfOELAGzfvp3x48ezc+fev4ht2rSJq6++ujqUuPXWWynMwsPAWqFlwObU+qg69qtrW2NVpZYtOyG7mpL9rJWr2l3OW1+/hG0vzQKg4wmncNTdf6awQ+YHD9fljYmjmDcyMG9kYP0f70+7T9czP0mHY4YDsGPhHN77xXf226d0ySu8+z/fSt4UFNDvutvSttXh6JMoGXUxkExPsuI/rydWVe21T/maFaz4989Xv+83cVID/1RSZpOWj2fky4GRLwcmvzsp7T5HdziJUV2TfrqmfAX/ufJ6quLe/XRN+Qr+fWVNP514WPq2urXpxbheyb1YadV2Jr0zfr9QfGvFJm5ffjUx9QWbfzrsVgqD92KSJCm/OXellGWf//zneeihh3j22Wd5+eWXOemkk/jc5z7H0KFDWbVqFffeey+LFi0C4LjjjuPWW29t9Dlnz55dPTJ6j/nz51ev33vvvcyaNWuv7TfffDMlJfs/yf72229n5syZLF68mBkzZjB8+HCuvfZa+vfvz9KlS5k8eTIrV64EYNSoUUycOLHR9bdGMcYYQngYmAD8cwjh7hjjXv/iEUI4Crg0bQPZsTW13L8jKC/Yz7R80ni2PvdnAAo6dqbXuM+zbe7seo6iOjg+GCEEBt5yD29edyZVO0t5b/Lt7FjwHCXnjKOwfUd2vPYS6x/9BVVlyT/m9h3//2g/9MSM7Q246S62v/oCFRveZ8P0e9n51kK6f/wqirr2oGzpq6x7eDKVWzYA0H3MFXQ944KDrl35Y/Wut5m+4d69PltS9kr1+tzts6l8t2Kv7WeXXMIxHYYd1PluGnAXr+54gQ0V7zN9w728VbaQj/e4iq6FPVha9ioPr5/Mlsqkn47pdgVndM3cTyf2vZ0Xtsxk+a7FPL91BlcuHs5FPa6ld5v+rNy1lIfXT+b93cm92IhOoxjb03sxSZKU/wyxpSwrLi5m+vTpjBs3jtmzZ7Ny5cq0QfXw4cN55JFH6Nq1a6PP+cwzz3DnnXdm3P6rX/1qv8+uvfbatCF2SUkJM2bMYOzYscyfP59FixZx00037bff6NGjefDBB2nTpk3jim/d/g24DOgDPB5CmBhjnB9CCMBHgV8ApUD2nrq2t4Wp5UdCCMfEGBc30XnUsuxnrdiOV56vXq/asY3lk8Yf0HEj5jZuCvWOx47gyB9M5+1bL6di0zq2vvj4/vNjh0CfK75Kv8/vP1K7traHDeKou2fw1jfGUb56GTsWzql+OGVt3c+/nEG33deoupU/3it/h/vWZL43mr/9WeZvf3avzw5vO/SgQ+zD2g7i7qEz+MaycawuX8bC0jksLN2/n57f7XJuG1R3P+1cVMIPh87ga8vG8kbZfN7euYi7Vu9/L3Zy59H8xxEPUhS8F5MkSfnP6USkJtCtWzdmzZrFtGnTuOCCC+jXrx/FxcX06dOHs88+m3vuuYc5c+YwcODAli41rcGDBzNnzhzuuecezj77bPr06UNxcTH9+vXjggsuYNq0aTz++ONpQ3AduBjjUuBqoAIYCbwcQtgKbAeeAIqBr6Z239UEJTxEMmdyN2BRCGFdCGF56nVqE5xPLcB+ppbS5ZTRHPfAaxz2uW/T4ZjhFHYuIbRtR3H/IfT45Hg+cO9zDPjK90n+PaVuHY4ZxnHTXmHAV35Axw+eRlFJT0JxW9r0OZxuoz/N0B/O4Ig7fk1Bm+Jm+JNJ6R3TYRjTjn2Fr/T/AR/seBolRT0pDm3p0+ZwRpd8mh8eOYM7jvg1bQrq76f92g5myjFzuGXgPXyo89n0KOpDm1BMrzb9OKPLBXx38DT+Z+jjdC7yXkySJLUOIdPDdlTNvyCpGa3aVN6k7Q/oVpy1eXlDCE8BZwHfjjFOyrDPKOBJgBhj2nOHEE4CbiGZl7grsBr4A3AncAbwMPB+jLHvPsdNAm4Hno4xjjqY84cQjkm18RGgN7BnONdHY4xPpWtTzct+Vr+R87xWS5OdUUICYMQ8n8GQY7xGS01g3baK+neSsqxX56xN6HFQ12pD7Pr5FyQ1o0MpxG4OIYQ7gW8Bs2OM57R0PcpPh3o/M8SWDLGlPQyxc47XaKkJGGKrJbR0iO10IpKUo0IIvYBrU29ntmQtyl/2M0mSJElSrjPElqQWFEL4cgjhmyGEoSGEotRnbUMIHweeIZl6YR3g08p00OxnkiRJkqRDWdbGgUuSDsoQ4Abg34DKEMIWoAs1/3/eAlwaY9zQQvUpP9jPJEmSJEmHLENsSWpZU4BK4EygP9ADKAPeBh4D7o4xrm658pQn7GeSJEmSpEOWIbYktaAY43xgfkvXofxmP5MkSZIkHcqcE1uSJEmSJEmSlLMMsSVJkiRJkiRJOcsQW5IkSZIkSZKUswyxJUmSJEmSJEk5yxBbkiRJkiRJkpSzDLElSZIkSZIkSTnLEFuSJEmSJEmSlLMMsSVJkiRJkiRJOcsQW5IkSZIkSZKUswyxJUmSJEmSJEk5yxBbkiRJkiRJkpSzDLElSZIkSZIkSTnLEFuSJEmSJEmSlLMMsSVJkiRJkiRJOcsQW5IkSZIkSZKUswyxJUmSJEmSJEk5yxBbkiRJkiRJkpSzDLElSZIkSZIkSTnLEFuSJEmSJEmSlLMMsSVJkiRJkiRJOcsQW5IkSZIkSZKUswyxJUmSJEmSJEk5yxBbkiRJkiRJkpSzDLElSZIkSZIkSTnLEFuSJEmSJEmSlLMMsSVJkiRJkiRJOcsQW5IkSZIkSZKUswyxJUmSJEmSJEk5yxBbkiRJkiRJkpSzDLElSZIkSZIkSTnLEFuSJEmSJEmSlLMMsSVJkiRJkiRJOcsQW5IkSZIkSZKUswyxJUmSJEmSJEk5yxBbkiRJkiRJkpSzDLElSZIkSZIkSTnLEFuSJEmSJEmSlLMMsSVJkiRJkiRJOcsQW5IkSZIkSZKUswyxJUmSJEmSJEk5yxBbkiRJkiRJkpSzDLElSZIkSZIkSTnLEFuSJEmSJEmSlLMMsSVJkiRJkiRJOcsQW5IkSZIkSZKUswyxJUmSJEmSJEk5yxBbkiRJkiRJkpSzDLElSZIkSZIkSTnLEFuSJEmSJEmSlLMMsSVJkiRJkiRJOcsQW5IkSZIkSZKUswyxJUmSJEmSJEk5yxBbkiRJkiRJkpSzDLElSZIkSZIkSTnLEFuSJEmSJEmSlLMMsSVJkiRJkiRJOauopQuQJEmS9P/bu/do26r6PuDfn/I0gmAKviOiRBurwWiLw/pADKVJEwWtppH6oOloqCbG2qa2thncvEaIrTXWGB/DKFra+IykNhp84FWJ8RE1UanS+rg0ggqiiCgPwV//WOt69j337LPP++xz7+czxh7rNdecc+999/2d+RtzrQUAsDLHHSWdx8HHTGwAAAAAAOaWJDYAAAAAAHNLEhsAAAAAgLkliQ0AAAAAwNySxAYAAAAAYG55nCkwV+557GHb3QUAAAAA5oiZ2AAAAAAAzC1JbAAAAAAA5pYkNgAAAAAAc0sSGwAAAACAuSWJDQAAAADA3JLEBgAAAABgbkliAwAAAAAwtySxAQAAAACYW5LYAAAAAADMLUlsAAAAAADmliQ2AAAAAABzSxIbAAAAAIC5JYkNAAAAAMDcksQGAAAAAGBuSWIDAAAAADC3JLEBAAAAAJhbktgAAAAAAMwtSWwAAAAAAOaWJDYAAAAAAHOrunu7+wAAwA5WVR9Pku5+6Hb3BbaL3wEwb/y/BPvym9jZzMQGAAAAAGBuSWIDAAAAADC3JLEBAAAAAJhbktgAAAAAAMwtSWwAAAAAAOaWJDYAAAAAAHNLEhsAAAAAgLkliQ0AAAAAwNySxAYAAAAAYG5Vd293HwAAAAAAYElmYgMAAAAAMLcksQEAAAAAmFuS2AAAAAAAzC1JbAAAAAAA5pYkNgAAAAAAc0sSGwAAAACAuSWJDQBwEKuqC6qqq+qCTaj7UVX1p1V1TVXdNrZz0Ua3A+tVVaeO/z57E+reNda9e6PrBg5c4jPsS6zmkO3uAAAAB56qeniSSzL8vdlJrk1yW5Jvjsd3jUUv6O4929BF2BGq6swkJyf5q+6WZALWRXyGjSdWbw1JbAAANsNzM/yt+edJHt/d31h0/LxxuTvJnq3rFizpu0ku3+5OTHFmkmckeV0SA2NgvcRndiqx+iAniQ0AwGZ40Lh8wxIDZJgr3f3RJA/Y7n4AbAHxmR1JrMY9sQEA2Ax3GJc3bGsvAIBJ4jOwI0liAwAwVVWdUFW/V1WXVdUNVfXdqvpcVb2kqn5kifJ7H7hzwrjrtXv37X1A1aIH8rxv0fE9W/C2OIhU1e7x39auqjq0qv51Vf1lVV037j91JQ+LqqoHVdUbq+qrVXVTVX2xql5aVcev5mFTVfW4iQeq3VRVn62q86rqiEXlTh3re8a46xmLfitdVaeu68MBdizxmQOJWM1KuJ0IAABLqqqzk/xhksPHXTcn+X6S+4+vc6rqH3f3uyZO+9q4PC7DhInrk9w4cfy2scxdxu1vJrll4vg1G/keYMIRGe7x+ogktyb5doaHms1UVWcleWOSQ8ddNyS5W5JfSvKkJC9YYT2/muR3x81vJTksw6XRu5I8pqpO7+7bxuO3ZPit3Gns+03jOZNuCXDQEZ85gInVTGUmNgAA+6mq05O8Psntk7wwyX2SHJnkhzL8If/mJEclefPkjK/uvmt33zXJ34y7fmXvvvH1C+PxvZ646Pjf3YK3x8Hp2UkenOScJEd3950zJHM+tdxJVXVikgszDIo/keRh3X1UhkvyT88wOP0vK2j/x5OcP76O7+5jkxyT5DfG44/NwkyudPeHxt/KG8ddb1z0W7lrd39oBe0CBxDxmQOcWM1UktgAAOyjqm6X5GUZ/lZ8dnc/v7v39ILLu/spSf5nkqOTPG87+wsrdMckT+3uC7r7xiTp7mtX8GCzF2QYBF+d5PTu/vh4bnf3e5KckYV7zC7nmCS/2d0v6O6vj3Vc393nJfnjsczPr/pdAQcN8ZmDgFjNVJLYAAAs9ugkJyX5epJXL1Pu9ePyjE3vEazfZd399tWcUFWV4RLkJHn5UoPo7r48yZtWUN3NSf7zlGN/Mi4fvJr+Aae57TAAAA8JSURBVAcd8ZkDnVjNVO6JDQDAYn9/XN4pyVXD2GBJh43Le296j2D9/nwN55yYYVZWkrx/mXK7kzxtRl2XdfcNU45dNS7vvPKuAQch8ZkDnVjNVJLYAAAsdvdxeWgWHvC0nCM3sS+wUa5ewznHTaxfNbVUcuUK6vr2MsduHZfGZ8ByxGcOdGI1U7mdCAAAi91+XH6ku2slr23tLazMbes8vzekFwBrJz5zoBOrmUoSGwCAxb46Ll2GzMHumon1u08tldxjszsCEPEZliJWHyQksQEAWGzv/QjvWlUP26Q29s6UMUuMefbFJNeN66cuU265Y+v1/XHptwKIz7A/sfogIYkNAMBi70vy+XH9xVV12HKFq2otD7i5flwes2wp2Ebd3Un+eNw8t6qOXVymqk5K8pRN7IbfCrCX+AyLiNUHD0lsAAD20d23Jjk3wwNsHpnkA1X1uKo6dG+Zqjqxqs6tqo8ledYamvnMuDy7qu6w7k7D5vmdJDdmeIjau6rqIUlSg9OSXJzku5vY/t7fyqOq6gGb2A4w58RnmEqsPghIYgMAsJ/ufm+SJ2d4SvspSd6T5DtV9fWquinJF5K8PMnDsraH6LxiXD4pyXVV9eWq2lNVl66/97BxuvvzSZ6eIWn0sCSfqKrrk9yQ5L1JDkvyvLH4zZvQhbdmuN/nsUk+W1XXjL+VPVX18E1oD5hj4jPsT6w+OEhiAwCwpO6+KMn9kvx6ko9mGAgck+GP/79O8uokZyX5T2uo+8IkT0tyaYaZMXfL8KCqe25E32EjdfdbMgyK35xhkHp4kq8leUmShyT51lj0uiUrWF/b30zy6CRvSHJlkjtl+K3cO8kRG90eMP/EZ9ifWH3gq+HWMQAAAKxFVf12khckuaS7H7fd/QEA9iVW73xmYgMAAKxRVR2X5J+Pm3+2nX0BAPYnVh8YzMQGAABYRlU9J8kdkrwlyZ7uvrWqDk/yuCQvSvKADJcu/+3uvnb7egoAByex+sAniQ0AALCMqvq9JL8ybt6W4b6aRyc5ZNz3rSRndvfure8dACBWH/gOmV0EAADgoPa6DAPiRye5R5IfTnJjki8luTjJS7r7yu3rHgAc9MTqA5yZ2AAAAAAAzC0PdgQAAAAAYG5JYgMAAAAAMLcksQEAAAAAmFuS2AAAAAAAzC1JbAAAAAAA5pYkNgAAAAAAc0sSGwAAAACAuSWJDQAAW6SqdlVVj69Tt7s/m6mqzhzf501VdY9NbOeRYzvfq6oHblY7ABz4xOlNaUecZkNIYgMAwBpV1cnjgHdXVZ283f2ZF1V1RJIXj5uv6u4rN6ut7r40ySVJDknyXzerHQB2HnF6aeI0O5EkNgAArN3JSc4bXwbHC56V5IQkNyU5fwva2zUuT6uqM7agPQB2BnF6aeI0O44kNgAAbJHu3tXdNb52b3d/NkNVHZnk342bF3T3VZvdZnd/MMml4+avb3Z7AByYxOnNIU6zESSxAQCAjfT0JMeN66/fwnb3tnVKVT1iC9sFgJ1EnGZHksQGAAA20r8cl1/o7r/YwnbfkuTmcf1ZW9guAOwk4jQ7kiQ2AAA7TlUdXVVnV9UfVtUnq+q68an336iqT1TVi6rqvqus87SqelVVfXaivmuq6oNV9VtV9WMTZZ9ZVZ3ktRNVvLaqetFrz6I2dk0cO3VGf+5VVeeP7+cbVXVzVV1ZVW8f27/9jPN3721rYt8/qap3V9VXx/quqKoLquoBq/mslmnzQUl+fNz8Hyso/yNV9UtV9eaquryqbqiqW6rq6rH/z6+qO62k7e7+ZpJ3jptnVdUd1/YuAFgvcVqcXkycZr2qu2eXAgCAOVFVhyW5PsnhM4remuS53f2yGfUdl2Eg95Oz2u7uGs95ZvYdGE9zRXefMNHWrgwPl0qSx06732ZV/WKSFyc5cpm6P53k8d29Z0odu5M8Ztw8MskfJTlzSl03Jzmru9855fiKVNWvJfmNcfO07n7fMmVPTXJJkppR7TVJntjdl84ol6p6TpKXjJtndfdFMzsNwIYSp39AnN6/TnGaNTtkuzsAAACrdLsMA+Orkrw7yaeSfC3J95PcK8kjkjw+w9+6v19VV3X325aqaBwYfyTJfcZd38owiPxYhgH4Dyc5OcnPJLnnxKmXJDkryWlJfnnc99Jx/6TvrvbNjQPjV0zsenuSP01yXZIfTXLO2N8HJbm0qh7S3dfMqPY1GQbGH0/yhiT/L8nfSnJ2hs/r8CQXVtX9u/vrq+3zhNPH5feT/OWMskdkGBhfluR9ST6b5Npx/73G/j40w307/1dVnTwtETDhwxPrZyQxOAbYeuK0OD2NOM2amYkNAMCOMl6ee3qSi3vKH7NV9eAkFye5a5IvJjmpu7+/RLl3JPmpcfO9SZ7S3d9YolwlecLiGUOLZnqd090XzOj7riwzw6uqTkjyvzPMyLotyVO7+02LyhyZ5M1J/tG46y3d/eQl2tqdhRleSfLbSX5t8jOrqtsleWsWZn49v7tfuNx7mGb8Xq5Pcockl3X335lR/t5Jju7uTy9T5ueTXJghIXJBd58zo87J2X+f7O6fWN27AGC9xGlxepny4jRr5p7YAADsKN19W3f/2bSB8VjmU0leMG6emGEW0z6q6hFZGBh/PsPgd7+B8Vhfb9Elr8/JwqXJL1o8MB77cmOSpyb5yrjrSVV10ox6L+nu/7j4MxsTBr86seuMtXU7yfA532Fcv3xW4e6+YrmB8VjmjzIMjpPk56rq0Bnlb8mQDEmSB46DfwC2kDgtTi9TXpxmzfxjAQDgQPWhifVTljh+9sT6b3X3dza5PyvxxHF5a5IXTSvU3dcn+YNxszJcMr2cl0w70N2fT/I34+aPTSu3AveeWF8yybBGe7/HI5M8eAXlvzkuD0tytw3sBwAbS5xeIE7DDJLYAADsSFV1QlWdV1Xvq6qvVNWNVdV7X0k+N1H8nktU8chx2RnuZ7mtqur4LAww/7q7r55xyrsm1pca/E/68IzjV47LY2eUW86dJ9ZXPDiuqlOq6qVV9bGquraqbln0PU7ed3Sp73GxayfW1/N+AFgHcVqcnkKcZk082BEAgB2nqp6b5PwM91RciaOX2Ld3oHX1tMuTt9jkbKT/s4Lyk2VmzWSa9RCom8flSj/PpUye++1Zhcf7Yr46ydNW0cZS3+Ni10+sHzm1FACbRpzer4w4vUCcZk0ksQEA2FGq6uwkL57Y9cEk70+yJ8Og7JZx//FJXjmu336JqvYOtG7Y+F6uyVET6yu5ZHqy30dNLZUf3FNzs908sb6SQezLsjAwvjnJO5J8LMNss+9keGBWkpyW5JfH9aW+x8XuNLF+4wrKA7CBxOkfEKeXJk6zJpLYAADsNL85Lm9N8vjufudSharqgTPquT7DpbV33MC+rcfkrKgfWkH5yX7PnFG1BSZnyd15aqkMl5gn+YVx88tJHtPdX5xS9h6r7MeaLpcGYMOI0wNxemniNGvintgAAOwYVXVikvuMmxdNGxiP7r3MsWQYlCXJ8VW17GBui3xlYv2kFZSfLHPVBvdlLfZMrM/6PE/L8KCrJDl/2sB4NOt7XGxv27dk388UgE0mTu9DnF6aOM2aSGIDALCT3GVi/Qszyp4x4/gHx2Ul+dk19mfy8t+aWmoFxgdEXTFunlxVx8045R9MrH90PW1vkC9l4fLq+88ou5Hf4w9U1eFJThw3P9PdvdJzAdgQ4vQCcXoRcZr1kMQGAGAn+e7E+n2nFaqqeyU5Z0ZdF06s/4eqWsmlwYtN3u9yLecv9tZxeUiS504rVFVHJXnWuNlJ3rYBba9Ld9+W5OPj5gOqarn7ba70e3xCkgevohsnJzlsXP/IKs4DYGOI0xGnlyFOs2aS2AAA7CSfzcIsoidU1d9bXKCq7pLkosx+iNKHMzykKBku+b1o2uXKNXj8Eoe+NLH+EzP6vhIvzcJDjv5tVT1pib4ckWFgf/dx11u7+/9uQNsb4d3j8nZJHrZMuY9NrP+bqjp2cYGqOiXJa1bZ/ikT6xev8lwA1k+cFqeXI06zZh7sCADAjtHdt1TVK5M8L8mhST5QVa/JMNj6XoYB6jlJjkny+iRPn1HlMzJc4nufJD+Z5AtV9YaxvuuTHJthhtHPJDkh+1+K/OkkVyc5Psk/raprknw4CwPcG7v7/at4f3uq6l8leUWGv9XfUlV/kmEQf12GQfw/y8KluFdmYabXPLgoCw/0OjXJJVPK/UWG2WAPzfC5fq6qXpHk8iRHZrgX58+NZf97krNX2P5jx+V3krxnFf0GYAOI0+L0DOI0a1ZuPwMAwE4yznB6RxYGQkt5ZZIXZuE+jq/r7mdOqe8uSd6Y5DEzmu7u3u9Kxqr6F2N7S7miu0+YKLsryXnj5mO7e/eUPp2b5MVJjlimP59J8rPdvWdKHbszvqfuXvY+oKspO0tVfTLD5cJf6O77LVPufhkGz/eaUuSmJM/OcD/T1477zunuC6bUd0ySryY5PMmF3f20Nb0BANZFnP4BcXrf+sRp1sXtRAAA2FG6+6YMD0t6VoaZQt9OcnOGhy29KckZ3X1u9n2Y03L1fa27T03y00n+W5IvZpgh9L0Ms7fen2RXpjwEqbtfleQfZpjd9OWxL+vS3a9I8qNJfjfJX2WY3XVLkq9kSAyck+TkaQPjbfYH4/K+VfWIaYW6+/NJHpLkdzJcfn5ThnuXXp7k95M8tLtXc5nykzMMjJPk5avtNAAbQ5wWp6cQp1kXM7EBAIANM87AuyLDpduv6u5f3KJ2P5DkUUk+0t0P34o2AWCnEafZqczEBgAANsw4A+/8cfPpVXX35cpvhKp6ZIaBcbJwGTgAsIg4zU4liQ0AAGy0lyf5UoZ7hf77LWhv17i8pLsv3oL2AGAnE6fZcdxOBAAA2HBVdWaSt2W49+h9u/vKTWrnkUk+mOTWDPcfvWwz2gGAA4k4zU4jiQ0AAAAAwNxyOxEAAAAAAOaWJDYAAAAAAHNLEhsAAAAAgLkliQ0AAAAAwNySxAYAAAAAYG5JYgMAAAAAMLcksQEAAAAAmFuS2AAAAAAAzC1JbAAAAAAA5pYkNgAAAAAAc0sSGwAAAACAuSWJDQAAAADA3JLEBgAAAABgbkliAwAAAAAwtySxAQAAAACYW/8f+KnGGYBpjSgAAAAASUVORK5CYII=\n",
                "text/plain": "<Figure size 1224x216 with 3 Axes>"
              }
            ],
            "_view_module": "@jupyter-widgets/output",
            "_model_module_version": "1.0.0",
            "_view_count": null,
            "_view_module_version": "1.0.0",
            "layout": "IPY_MODEL_d2a9d1bc66874151bda6bdcbe2592165",
            "_model_module": "@jupyter-widgets/output"
          }
        },
        "407739f537dd45808d4ad09904774591": {
          "model_module": "@jupyter-widgets/controls",
          "model_name": "SliderStyleModel",
          "state": {
            "_view_name": "StyleView",
            "handle_color": null,
            "_model_name": "SliderStyleModel",
            "description_width": "",
            "_view_module": "@jupyter-widgets/base",
            "_model_module_version": "1.5.0",
            "_view_count": null,
            "_view_module_version": "1.2.0",
            "_model_module": "@jupyter-widgets/controls"
          }
        },
        "995d7aa1e8074aafbe67b9dd139f4e24": {
          "model_module": "@jupyter-widgets/base",
          "model_name": "LayoutModel",
          "state": {
            "_view_name": "LayoutView",
            "grid_template_rows": null,
            "right": null,
            "justify_content": null,
            "_view_module": "@jupyter-widgets/base",
            "overflow": null,
            "_model_module_version": "1.2.0",
            "_view_count": null,
            "flex_flow": null,
            "width": null,
            "min_width": null,
            "border": null,
            "align_items": null,
            "bottom": null,
            "_model_module": "@jupyter-widgets/base",
            "top": null,
            "grid_column": null,
            "overflow_y": null,
            "overflow_x": null,
            "grid_auto_flow": null,
            "grid_area": null,
            "grid_template_columns": null,
            "flex": null,
            "_model_name": "LayoutModel",
            "justify_items": null,
            "grid_row": null,
            "max_height": null,
            "align_content": null,
            "visibility": null,
            "align_self": null,
            "height": null,
            "min_height": null,
            "padding": null,
            "grid_auto_rows": null,
            "grid_gap": null,
            "max_width": null,
            "order": null,
            "_view_module_version": "1.2.0",
            "grid_template_areas": null,
            "object_position": null,
            "object_fit": null,
            "grid_auto_columns": null,
            "margin": null,
            "display": null,
            "left": null
          }
        },
        "d2a9d1bc66874151bda6bdcbe2592165": {
          "model_module": "@jupyter-widgets/base",
          "model_name": "LayoutModel",
          "state": {
            "_view_name": "LayoutView",
            "grid_template_rows": null,
            "right": null,
            "justify_content": null,
            "_view_module": "@jupyter-widgets/base",
            "overflow": null,
            "_model_module_version": "1.2.0",
            "_view_count": null,
            "flex_flow": null,
            "width": null,
            "min_width": null,
            "border": null,
            "align_items": null,
            "bottom": null,
            "_model_module": "@jupyter-widgets/base",
            "top": null,
            "grid_column": null,
            "overflow_y": null,
            "overflow_x": null,
            "grid_auto_flow": null,
            "grid_area": null,
            "grid_template_columns": null,
            "flex": null,
            "_model_name": "LayoutModel",
            "justify_items": null,
            "grid_row": null,
            "max_height": null,
            "align_content": null,
            "visibility": null,
            "align_self": null,
            "height": null,
            "min_height": null,
            "padding": null,
            "grid_auto_rows": null,
            "grid_gap": null,
            "max_width": null,
            "order": null,
            "_view_module_version": "1.2.0",
            "grid_template_areas": null,
            "object_position": null,
            "object_fit": null,
            "grid_auto_columns": null,
            "margin": null,
            "display": null,
            "left": null
          }
        },
        "eb558f916278446ca9daeee7e7a392d1": {
          "model_module": "@jupyter-widgets/controls",
          "model_name": "TabModel",
          "state": {
            "_view_name": "TabView",
            "_dom_classes": [],
            "_titles": {
              "0": "Youtube",
              "1": "Bilibili"
            },
            "_model_name": "TabModel",
            "_view_module": "@jupyter-widgets/controls",
            "selected_index": 0,
            "_model_module_version": "1.5.0",
            "_view_count": null,
            "_view_module_version": "1.5.0",
            "box_style": "",
            "layout": "IPY_MODEL_1bc94ca554184e1c8edd88e8ee6d8321",
            "_model_module": "@jupyter-widgets/controls",
            "children": [
              "IPY_MODEL_6772895e1df94ec99e8d68f01c802e8e",
              "IPY_MODEL_e162e89e2683456db7c27226379ed850"
            ]
          }
        },
        "1bc94ca554184e1c8edd88e8ee6d8321": {
          "model_module": "@jupyter-widgets/base",
          "model_name": "LayoutModel",
          "state": {
            "_view_name": "LayoutView",
            "grid_template_rows": null,
            "right": null,
            "justify_content": null,
            "_view_module": "@jupyter-widgets/base",
            "overflow": null,
            "_model_module_version": "1.2.0",
            "_view_count": null,
            "flex_flow": null,
            "width": null,
            "min_width": null,
            "border": null,
            "align_items": null,
            "bottom": null,
            "_model_module": "@jupyter-widgets/base",
            "top": null,
            "grid_column": null,
            "overflow_y": null,
            "overflow_x": null,
            "grid_auto_flow": null,
            "grid_area": null,
            "grid_template_columns": null,
            "flex": null,
            "_model_name": "LayoutModel",
            "justify_items": null,
            "grid_row": null,
            "max_height": null,
            "align_content": null,
            "visibility": null,
            "align_self": null,
            "height": null,
            "min_height": null,
            "padding": null,
            "grid_auto_rows": null,
            "grid_gap": null,
            "max_width": null,
            "order": null,
            "_view_module_version": "1.2.0",
            "grid_template_areas": null,
            "object_position": null,
            "object_fit": null,
            "grid_auto_columns": null,
            "margin": null,
            "display": null,
            "left": null
          }
        },
        "6772895e1df94ec99e8d68f01c802e8e": {
          "model_module": "@jupyter-widgets/output",
          "model_name": "OutputModel",
          "state": {
            "_view_name": "OutputView",
            "msg_id": "",
            "_dom_classes": [],
            "_model_name": "OutputModel",
            "outputs": [
              {
                "output_type": "stream",
                "metadata": {
                  "tags": []
                },
                "text": "Video available at https://youtube.com/watch?v=l4m0JzMWGio\n",
                "stream": "stdout"
              },
              {
                "output_type": "display_data",
                "metadata": {
                  "tags": []
                },
                "text/html": "\n        <iframe\n            width=\"854\"\n            height=\"480\"\n            src=\"https://www.youtube.com/embed/l4m0JzMWGio?fs=1&rel=0\"\n            frameborder=\"0\"\n            allowfullscreen\n        ></iframe>\n        ",
                "text/plain": "<IPython.lib.display.YouTubeVideo at 0x7f7d42364dd0>",
                "image/jpeg": "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\n"
              }
            ],
            "_view_module": "@jupyter-widgets/output",
            "_model_module_version": "1.0.0",
            "_view_count": null,
            "_view_module_version": "1.0.0",
            "layout": "IPY_MODEL_bfc9403ee3224dfdaeba1c75750ffedf",
            "_model_module": "@jupyter-widgets/output"
          }
        },
        "e162e89e2683456db7c27226379ed850": {
          "model_module": "@jupyter-widgets/output",
          "model_name": "OutputModel",
          "state": {
            "_view_name": "OutputView",
            "msg_id": "",
            "_dom_classes": [],
            "_model_name": "OutputModel",
            "outputs": [
              {
                "output_type": "stream",
                "metadata": {
                  "tags": []
                },
                "text": "Video available at https://www.bilibili.com/video/\n",
                "stream": "stdout"
              },
              {
                "output_type": "display_data",
                "metadata": {
                  "tags": []
                },
                "text/html": "\n        <iframe\n            width=\"854\"\n            height=\"480\"\n            src=\"https://player.bilibili.com/player.html?bvid=&page=1?fs=1\"\n            frameborder=\"0\"\n            allowfullscreen\n        ></iframe>\n        ",
                "text/plain": "<__main__.BiliVideo at 0x7f7d41e4ff90>"
              }
            ],
            "_view_module": "@jupyter-widgets/output",
            "_model_module_version": "1.0.0",
            "_view_count": null,
            "_view_module_version": "1.0.0",
            "layout": "IPY_MODEL_2f2234da9c3644cf8719ff69dd703964",
            "_model_module": "@jupyter-widgets/output"
          }
        },
        "bfc9403ee3224dfdaeba1c75750ffedf": {
          "model_module": "@jupyter-widgets/base",
          "model_name": "LayoutModel",
          "state": {
            "_view_name": "LayoutView",
            "grid_template_rows": null,
            "right": null,
            "justify_content": null,
            "_view_module": "@jupyter-widgets/base",
            "overflow": null,
            "_model_module_version": "1.2.0",
            "_view_count": null,
            "flex_flow": null,
            "width": null,
            "min_width": null,
            "border": null,
            "align_items": null,
            "bottom": null,
            "_model_module": "@jupyter-widgets/base",
            "top": null,
            "grid_column": null,
            "overflow_y": null,
            "overflow_x": null,
            "grid_auto_flow": null,
            "grid_area": null,
            "grid_template_columns": null,
            "flex": null,
            "_model_name": "LayoutModel",
            "justify_items": null,
            "grid_row": null,
            "max_height": null,
            "align_content": null,
            "visibility": null,
            "align_self": null,
            "height": null,
            "min_height": null,
            "padding": null,
            "grid_auto_rows": null,
            "grid_gap": null,
            "max_width": null,
            "order": null,
            "_view_module_version": "1.2.0",
            "grid_template_areas": null,
            "object_position": null,
            "object_fit": null,
            "grid_auto_columns": null,
            "margin": null,
            "display": null,
            "left": null
          }
        },
        "2f2234da9c3644cf8719ff69dd703964": {
          "model_module": "@jupyter-widgets/base",
          "model_name": "LayoutModel",
          "state": {
            "_view_name": "LayoutView",
            "grid_template_rows": null,
            "right": null,
            "justify_content": null,
            "_view_module": "@jupyter-widgets/base",
            "overflow": null,
            "_model_module_version": "1.2.0",
            "_view_count": null,
            "flex_flow": null,
            "width": null,
            "min_width": null,
            "border": null,
            "align_items": null,
            "bottom": null,
            "_model_module": "@jupyter-widgets/base",
            "top": null,
            "grid_column": null,
            "overflow_y": null,
            "overflow_x": null,
            "grid_auto_flow": null,
            "grid_area": null,
            "grid_template_columns": null,
            "flex": null,
            "_model_name": "LayoutModel",
            "justify_items": null,
            "grid_row": null,
            "max_height": null,
            "align_content": null,
            "visibility": null,
            "align_self": null,
            "height": null,
            "min_height": null,
            "padding": null,
            "grid_auto_rows": null,
            "grid_gap": null,
            "max_width": null,
            "order": null,
            "_view_module_version": "1.2.0",
            "grid_template_areas": null,
            "object_position": null,
            "object_fit": null,
            "grid_auto_columns": null,
            "margin": null,
            "display": null,
            "left": null
          }
        },
        "4380e44501ed49588f874f5991516c44": {
          "model_module": "@jupyter-widgets/controls",
          "model_name": "TabModel",
          "state": {
            "_view_name": "TabView",
            "_dom_classes": [],
            "_titles": {
              "0": "Youtube",
              "1": "Bilibili"
            },
            "_model_name": "TabModel",
            "_view_module": "@jupyter-widgets/controls",
            "selected_index": 0,
            "_model_module_version": "1.5.0",
            "_view_count": null,
            "_view_module_version": "1.5.0",
            "box_style": "",
            "layout": "IPY_MODEL_0d658f68b10347c8947e99ea08fbef5a",
            "_model_module": "@jupyter-widgets/controls",
            "children": [
              "IPY_MODEL_07a95861bc734b50ad2f7ab69483a95a",
              "IPY_MODEL_22e4e2fb7c134acaafaec0cf8f7e1f1c"
            ]
          }
        },
        "0d658f68b10347c8947e99ea08fbef5a": {
          "model_module": "@jupyter-widgets/base",
          "model_name": "LayoutModel",
          "state": {
            "_view_name": "LayoutView",
            "grid_template_rows": null,
            "right": null,
            "justify_content": null,
            "_view_module": "@jupyter-widgets/base",
            "overflow": null,
            "_model_module_version": "1.2.0",
            "_view_count": null,
            "flex_flow": null,
            "width": null,
            "min_width": null,
            "border": null,
            "align_items": null,
            "bottom": null,
            "_model_module": "@jupyter-widgets/base",
            "top": null,
            "grid_column": null,
            "overflow_y": null,
            "overflow_x": null,
            "grid_auto_flow": null,
            "grid_area": null,
            "grid_template_columns": null,
            "flex": null,
            "_model_name": "LayoutModel",
            "justify_items": null,
            "grid_row": null,
            "max_height": null,
            "align_content": null,
            "visibility": null,
            "align_self": null,
            "height": null,
            "min_height": null,
            "padding": null,
            "grid_auto_rows": null,
            "grid_gap": null,
            "max_width": null,
            "order": null,
            "_view_module_version": "1.2.0",
            "grid_template_areas": null,
            "object_position": null,
            "object_fit": null,
            "grid_auto_columns": null,
            "margin": null,
            "display": null,
            "left": null
          }
        },
        "07a95861bc734b50ad2f7ab69483a95a": {
          "model_module": "@jupyter-widgets/output",
          "model_name": "OutputModel",
          "state": {
            "_view_name": "OutputView",
            "msg_id": "",
            "_dom_classes": [],
            "_model_name": "OutputModel",
            "outputs": [
              {
                "output_type": "stream",
                "metadata": {
                  "tags": []
                },
                "text": "Video available at https://youtube.com/watch?v=vsDjtWi-BVo\n",
                "stream": "stdout"
              },
              {
                "output_type": "display_data",
                "metadata": {
                  "tags": []
                },
                "text/html": "\n        <iframe\n            width=\"854\"\n            height=\"480\"\n            src=\"https://www.youtube.com/embed/vsDjtWi-BVo?fs=1&rel=0\"\n            frameborder=\"0\"\n            allowfullscreen\n        ></iframe>\n        ",
                "text/plain": "<IPython.lib.display.YouTubeVideo at 0x7f7d4244ff10>",
                "image/jpeg": "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\n"
              }
            ],
            "_view_module": "@jupyter-widgets/output",
            "_model_module_version": "1.0.0",
            "_view_count": null,
            "_view_module_version": "1.0.0",
            "layout": "IPY_MODEL_ea26440de65d42df9fb3039d8c8f351d",
            "_model_module": "@jupyter-widgets/output"
          }
        },
        "22e4e2fb7c134acaafaec0cf8f7e1f1c": {
          "model_module": "@jupyter-widgets/output",
          "model_name": "OutputModel",
          "state": {
            "_view_name": "OutputView",
            "msg_id": "",
            "_dom_classes": [],
            "_model_name": "OutputModel",
            "outputs": [
              {
                "output_type": "stream",
                "metadata": {
                  "tags": []
                },
                "text": "Video available at https://www.bilibili.com/video/\n",
                "stream": "stdout"
              },
              {
                "output_type": "display_data",
                "metadata": {
                  "tags": []
                },
                "text/html": "\n        <iframe\n            width=\"854\"\n            height=\"480\"\n            src=\"https://player.bilibili.com/player.html?bvid=&page=1?fs=1\"\n            frameborder=\"0\"\n            allowfullscreen\n        ></iframe>\n        ",
                "text/plain": "<__main__.BiliVideo at 0x7f7d42376150>"
              }
            ],
            "_view_module": "@jupyter-widgets/output",
            "_model_module_version": "1.0.0",
            "_view_count": null,
            "_view_module_version": "1.0.0",
            "layout": "IPY_MODEL_b9814a6f5c394811b702ab6d537254c4",
            "_model_module": "@jupyter-widgets/output"
          }
        },
        "ea26440de65d42df9fb3039d8c8f351d": {
          "model_module": "@jupyter-widgets/base",
          "model_name": "LayoutModel",
          "state": {
            "_view_name": "LayoutView",
            "grid_template_rows": null,
            "right": null,
            "justify_content": null,
            "_view_module": "@jupyter-widgets/base",
            "overflow": null,
            "_model_module_version": "1.2.0",
            "_view_count": null,
            "flex_flow": null,
            "width": null,
            "min_width": null,
            "border": null,
            "align_items": null,
            "bottom": null,
            "_model_module": "@jupyter-widgets/base",
            "top": null,
            "grid_column": null,
            "overflow_y": null,
            "overflow_x": null,
            "grid_auto_flow": null,
            "grid_area": null,
            "grid_template_columns": null,
            "flex": null,
            "_model_name": "LayoutModel",
            "justify_items": null,
            "grid_row": null,
            "max_height": null,
            "align_content": null,
            "visibility": null,
            "align_self": null,
            "height": null,
            "min_height": null,
            "padding": null,
            "grid_auto_rows": null,
            "grid_gap": null,
            "max_width": null,
            "order": null,
            "_view_module_version": "1.2.0",
            "grid_template_areas": null,
            "object_position": null,
            "object_fit": null,
            "grid_auto_columns": null,
            "margin": null,
            "display": null,
            "left": null
          }
        },
        "b9814a6f5c394811b702ab6d537254c4": {
          "model_module": "@jupyter-widgets/base",
          "model_name": "LayoutModel",
          "state": {
            "_view_name": "LayoutView",
            "grid_template_rows": null,
            "right": null,
            "justify_content": null,
            "_view_module": "@jupyter-widgets/base",
            "overflow": null,
            "_model_module_version": "1.2.0",
            "_view_count": null,
            "flex_flow": null,
            "width": null,
            "min_width": null,
            "border": null,
            "align_items": null,
            "bottom": null,
            "_model_module": "@jupyter-widgets/base",
            "top": null,
            "grid_column": null,
            "overflow_y": null,
            "overflow_x": null,
            "grid_auto_flow": null,
            "grid_area": null,
            "grid_template_columns": null,
            "flex": null,
            "_model_name": "LayoutModel",
            "justify_items": null,
            "grid_row": null,
            "max_height": null,
            "align_content": null,
            "visibility": null,
            "align_self": null,
            "height": null,
            "min_height": null,
            "padding": null,
            "grid_auto_rows": null,
            "grid_gap": null,
            "max_width": null,
            "order": null,
            "_view_module_version": "1.2.0",
            "grid_template_areas": null,
            "object_position": null,
            "object_fit": null,
            "grid_auto_columns": null,
            "margin": null,
            "display": null,
            "left": null
          }
        },
        "21a4a6751b04463197ae806221fd64f6": {
          "model_module": "@jupyter-widgets/controls",
          "model_name": "VBoxModel",
          "state": {
            "_view_name": "VBoxView",
            "_dom_classes": [
              "widget-interact"
            ],
            "_model_name": "VBoxModel",
            "_view_module": "@jupyter-widgets/controls",
            "_model_module_version": "1.5.0",
            "_view_count": null,
            "_view_module_version": "1.5.0",
            "box_style": "",
            "layout": "IPY_MODEL_b05f557c46db495fbb2a0e194c48f9e4",
            "_model_module": "@jupyter-widgets/controls",
            "children": [
              "IPY_MODEL_b9a24bc5e2204b928ebd5a7ddbdf07de",
              "IPY_MODEL_a80c86dcb0164ed1a433af95d3753229",
              "IPY_MODEL_d2ab0cde18864d2eb955908c02643947",
              "IPY_MODEL_8bd6f64186a74176909c279f76bb4d0e"
            ]
          }
        },
        "b05f557c46db495fbb2a0e194c48f9e4": {
          "model_module": "@jupyter-widgets/base",
          "model_name": "LayoutModel",
          "state": {
            "_view_name": "LayoutView",
            "grid_template_rows": null,
            "right": null,
            "justify_content": null,
            "_view_module": "@jupyter-widgets/base",
            "overflow": null,
            "_model_module_version": "1.2.0",
            "_view_count": null,
            "flex_flow": null,
            "width": null,
            "min_width": null,
            "border": null,
            "align_items": null,
            "bottom": null,
            "_model_module": "@jupyter-widgets/base",
            "top": null,
            "grid_column": null,
            "overflow_y": null,
            "overflow_x": null,
            "grid_auto_flow": null,
            "grid_area": null,
            "grid_template_columns": null,
            "flex": null,
            "_model_name": "LayoutModel",
            "justify_items": null,
            "grid_row": null,
            "max_height": null,
            "align_content": null,
            "visibility": null,
            "align_self": null,
            "height": null,
            "min_height": null,
            "padding": null,
            "grid_auto_rows": null,
            "grid_gap": null,
            "max_width": null,
            "order": null,
            "_view_module_version": "1.2.0",
            "grid_template_areas": null,
            "object_position": null,
            "object_fit": null,
            "grid_auto_columns": null,
            "margin": null,
            "display": null,
            "left": null
          }
        },
        "b9a24bc5e2204b928ebd5a7ddbdf07de": {
          "model_module": "@jupyter-widgets/controls",
          "model_name": "FloatSliderModel",
          "state": {
            "_view_name": "FloatSliderView",
            "style": "IPY_MODEL_3a06dd5dc0ab48a08c4ef333b0f01131",
            "_dom_classes": [],
            "description": "p(color=golden)",
            "step": 0.01,
            "_model_name": "FloatSliderModel",
            "orientation": "horizontal",
            "max": 0.99,
            "_view_module": "@jupyter-widgets/controls",
            "_model_module_version": "1.5.0",
            "value": 0.5,
            "_view_count": null,
            "disabled": false,
            "_view_module_version": "1.5.0",
            "min": 0.01,
            "continuous_update": true,
            "readout_format": ".2f",
            "description_tooltip": null,
            "readout": true,
            "_model_module": "@jupyter-widgets/controls",
            "layout": "IPY_MODEL_b90ffcfb894c4718b9b3517d606c6bf7"
          }
        },
        "a80c86dcb0164ed1a433af95d3753229": {
          "model_module": "@jupyter-widgets/controls",
          "model_name": "FloatSliderModel",
          "state": {
            "_view_name": "FloatSliderView",
            "style": "IPY_MODEL_606ecb889f0741d694e79de0dc11a584",
            "_dom_classes": [],
            "description": "p(size=large)",
            "step": 0.01,
            "_model_name": "FloatSliderModel",
            "orientation": "horizontal",
            "max": 0.99,
            "_view_module": "@jupyter-widgets/controls",
            "_model_module_version": "1.5.0",
            "value": 0.5,
            "_view_count": null,
            "disabled": false,
            "_view_module_version": "1.5.0",
            "min": 0.01,
            "continuous_update": true,
            "readout_format": ".2f",
            "description_tooltip": null,
            "readout": true,
            "_model_module": "@jupyter-widgets/controls",
            "layout": "IPY_MODEL_b1b5f5e9c0944dc6abe9477a457b9ca0"
          }
        },
        "d2ab0cde18864d2eb955908c02643947": {
          "model_module": "@jupyter-widgets/controls",
          "model_name": "FloatSliderModel",
          "state": {
            "_view_name": "FloatSliderView",
            "style": "IPY_MODEL_4bb45c590f014c12be1e67fb4a75b2bf",
            "_dom_classes": [],
            "description": "ρ",
            "step": 0.01,
            "_model_name": "FloatSliderModel",
            "orientation": "horizontal",
            "max": 0.9899999999999998,
            "_view_module": "@jupyter-widgets/controls",
            "_model_module_version": "1.5.0",
            "value": 0,
            "_view_count": null,
            "disabled": false,
            "_view_module_version": "1.5.0",
            "min": -0.9899999999999998,
            "continuous_update": true,
            "readout_format": ".2f",
            "description_tooltip": null,
            "readout": true,
            "_model_module": "@jupyter-widgets/controls",
            "layout": "IPY_MODEL_ba4d9dd87fca457c85651a30d1b19b29"
          }
        },
        "8bd6f64186a74176909c279f76bb4d0e": {
          "model_module": "@jupyter-widgets/output",
          "model_name": "OutputModel",
          "state": {
            "_view_name": "OutputView",
            "msg_id": "",
            "_dom_classes": [],
            "_model_name": "OutputModel",
            "outputs": [
              {
                "output_type": "display_data",
                "metadata": {
                  "tags": [],
                  "image/png": {
                    "width": 384,
                    "height": 361
                  },
                  "needs_background": "light"
                },
                "image/png": "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\n",
                "text/plain": "<Figure size 360x360 with 3 Axes>"
              }
            ],
            "_view_module": "@jupyter-widgets/output",
            "_model_module_version": "1.0.0",
            "_view_count": null,
            "_view_module_version": "1.0.0",
            "layout": "IPY_MODEL_272f92e51e1c46c4b04abb64db93a2da",
            "_model_module": "@jupyter-widgets/output"
          }
        },
        "3a06dd5dc0ab48a08c4ef333b0f01131": {
          "model_module": "@jupyter-widgets/controls",
          "model_name": "SliderStyleModel",
          "state": {
            "_view_name": "StyleView",
            "handle_color": null,
            "_model_name": "SliderStyleModel",
            "description_width": "initial",
            "_view_module": "@jupyter-widgets/base",
            "_model_module_version": "1.5.0",
            "_view_count": null,
            "_view_module_version": "1.2.0",
            "_model_module": "@jupyter-widgets/controls"
          }
        },
        "b90ffcfb894c4718b9b3517d606c6bf7": {
          "model_module": "@jupyter-widgets/base",
          "model_name": "LayoutModel",
          "state": {
            "_view_name": "LayoutView",
            "grid_template_rows": null,
            "right": null,
            "justify_content": null,
            "_view_module": "@jupyter-widgets/base",
            "overflow": null,
            "_model_module_version": "1.2.0",
            "_view_count": null,
            "flex_flow": null,
            "width": null,
            "min_width": null,
            "border": null,
            "align_items": null,
            "bottom": null,
            "_model_module": "@jupyter-widgets/base",
            "top": null,
            "grid_column": null,
            "overflow_y": null,
            "overflow_x": null,
            "grid_auto_flow": null,
            "grid_area": "widget002",
            "grid_template_columns": null,
            "flex": null,
            "_model_name": "LayoutModel",
            "justify_items": null,
            "grid_row": null,
            "max_height": null,
            "align_content": null,
            "visibility": null,
            "align_self": null,
            "height": null,
            "min_height": null,
            "padding": null,
            "grid_auto_rows": null,
            "grid_gap": null,
            "max_width": null,
            "order": null,
            "_view_module_version": "1.2.0",
            "grid_template_areas": null,
            "object_position": null,
            "object_fit": null,
            "grid_auto_columns": null,
            "margin": null,
            "display": null,
            "left": null
          }
        },
        "606ecb889f0741d694e79de0dc11a584": {
          "model_module": "@jupyter-widgets/controls",
          "model_name": "SliderStyleModel",
          "state": {
            "_view_name": "StyleView",
            "handle_color": null,
            "_model_name": "SliderStyleModel",
            "description_width": "initial",
            "_view_module": "@jupyter-widgets/base",
            "_model_module_version": "1.5.0",
            "_view_count": null,
            "_view_module_version": "1.2.0",
            "_model_module": "@jupyter-widgets/controls"
          }
        },
        "b1b5f5e9c0944dc6abe9477a457b9ca0": {
          "model_module": "@jupyter-widgets/base",
          "model_name": "LayoutModel",
          "state": {
            "_view_name": "LayoutView",
            "grid_template_rows": null,
            "right": null,
            "justify_content": null,
            "_view_module": "@jupyter-widgets/base",
            "overflow": null,
            "_model_module_version": "1.2.0",
            "_view_count": null,
            "flex_flow": null,
            "width": null,
            "min_width": null,
            "border": null,
            "align_items": null,
            "bottom": null,
            "_model_module": "@jupyter-widgets/base",
            "top": null,
            "grid_column": null,
            "overflow_y": null,
            "overflow_x": null,
            "grid_auto_flow": null,
            "grid_area": "widget003",
            "grid_template_columns": null,
            "flex": null,
            "_model_name": "LayoutModel",
            "justify_items": null,
            "grid_row": null,
            "max_height": null,
            "align_content": null,
            "visibility": null,
            "align_self": null,
            "height": null,
            "min_height": null,
            "padding": null,
            "grid_auto_rows": null,
            "grid_gap": null,
            "max_width": null,
            "order": null,
            "_view_module_version": "1.2.0",
            "grid_template_areas": null,
            "object_position": null,
            "object_fit": null,
            "grid_auto_columns": null,
            "margin": null,
            "display": null,
            "left": null
          }
        },
        "4bb45c590f014c12be1e67fb4a75b2bf": {
          "model_module": "@jupyter-widgets/controls",
          "model_name": "SliderStyleModel",
          "state": {
            "_view_name": "StyleView",
            "handle_color": null,
            "_model_name": "SliderStyleModel",
            "description_width": "",
            "_view_module": "@jupyter-widgets/base",
            "_model_module_version": "1.5.0",
            "_view_count": null,
            "_view_module_version": "1.2.0",
            "_model_module": "@jupyter-widgets/controls"
          }
        },
        "ba4d9dd87fca457c85651a30d1b19b29": {
          "model_module": "@jupyter-widgets/base",
          "model_name": "LayoutModel",
          "state": {
            "_view_name": "LayoutView",
            "grid_template_rows": null,
            "right": null,
            "justify_content": null,
            "_view_module": "@jupyter-widgets/base",
            "overflow": null,
            "_model_module_version": "1.2.0",
            "_view_count": null,
            "flex_flow": null,
            "width": null,
            "min_width": null,
            "border": null,
            "align_items": null,
            "bottom": null,
            "_model_module": "@jupyter-widgets/base",
            "top": null,
            "grid_column": null,
            "overflow_y": null,
            "overflow_x": null,
            "grid_auto_flow": null,
            "grid_area": "widget001",
            "grid_template_columns": null,
            "flex": null,
            "_model_name": "LayoutModel",
            "justify_items": null,
            "grid_row": null,
            "max_height": null,
            "align_content": null,
            "visibility": null,
            "align_self": null,
            "height": null,
            "min_height": null,
            "padding": null,
            "grid_auto_rows": null,
            "grid_gap": null,
            "max_width": null,
            "order": null,
            "_view_module_version": "1.2.0",
            "grid_template_areas": null,
            "object_position": null,
            "object_fit": null,
            "grid_auto_columns": null,
            "margin": null,
            "display": null,
            "left": null
          }
        },
        "272f92e51e1c46c4b04abb64db93a2da": {
          "model_module": "@jupyter-widgets/base",
          "model_name": "LayoutModel",
          "state": {
            "_view_name": "LayoutView",
            "grid_template_rows": null,
            "right": null,
            "justify_content": null,
            "_view_module": "@jupyter-widgets/base",
            "overflow": null,
            "_model_module_version": "1.2.0",
            "_view_count": null,
            "flex_flow": null,
            "width": null,
            "min_width": null,
            "border": null,
            "align_items": null,
            "bottom": null,
            "_model_module": "@jupyter-widgets/base",
            "top": null,
            "grid_column": null,
            "overflow_y": null,
            "overflow_x": null,
            "grid_auto_flow": null,
            "grid_area": null,
            "grid_template_columns": null,
            "flex": null,
            "_model_name": "LayoutModel",
            "justify_items": null,
            "grid_row": null,
            "max_height": null,
            "align_content": null,
            "visibility": null,
            "align_self": null,
            "height": null,
            "min_height": null,
            "padding": null,
            "grid_auto_rows": null,
            "grid_gap": null,
            "max_width": null,
            "order": null,
            "_view_module_version": "1.2.0",
            "grid_template_areas": null,
            "object_position": null,
            "object_fit": null,
            "grid_auto_columns": null,
            "margin": null,
            "display": null,
            "left": null
          }
        },
        "cd886ea759204ae286bf5a13e77894ef": {
          "model_module": "@jupyter-widgets/controls",
          "model_name": "VBoxModel",
          "state": {
            "_view_name": "VBoxView",
            "_dom_classes": [
              "widget-interact"
            ],
            "_model_name": "VBoxModel",
            "_view_module": "@jupyter-widgets/controls",
            "_model_module_version": "1.5.0",
            "_view_count": null,
            "_view_module_version": "1.5.0",
            "box_style": "",
            "layout": "IPY_MODEL_49f005e707944d9e8ed7f068dd8b07c4",
            "_model_module": "@jupyter-widgets/controls",
            "children": [
              "IPY_MODEL_4ed8c9ee03394c4cb174c991c3eb9102",
              "IPY_MODEL_2ef0ab033d3f43568f175936870ad094",
              "IPY_MODEL_d508741bd7114fe58d4b12c3c6051be5",
              "IPY_MODEL_9befcf1fca284d099297a9bc7f7b5dc3",
              "IPY_MODEL_c096703bfc264f82920598dd10470902"
            ]
          }
        },
        "49f005e707944d9e8ed7f068dd8b07c4": {
          "model_module": "@jupyter-widgets/base",
          "model_name": "LayoutModel",
          "state": {
            "_view_name": "LayoutView",
            "grid_template_rows": null,
            "right": null,
            "justify_content": null,
            "_view_module": "@jupyter-widgets/base",
            "overflow": null,
            "_model_module_version": "1.2.0",
            "_view_count": null,
            "flex_flow": null,
            "width": null,
            "min_width": null,
            "border": null,
            "align_items": null,
            "bottom": null,
            "_model_module": "@jupyter-widgets/base",
            "top": null,
            "grid_column": null,
            "overflow_y": null,
            "overflow_x": null,
            "grid_auto_flow": null,
            "grid_area": null,
            "grid_template_columns": null,
            "flex": null,
            "_model_name": "LayoutModel",
            "justify_items": null,
            "grid_row": null,
            "max_height": null,
            "align_content": null,
            "visibility": null,
            "align_self": null,
            "height": null,
            "min_height": null,
            "padding": null,
            "grid_auto_rows": null,
            "grid_gap": null,
            "max_width": null,
            "order": null,
            "_view_module_version": "1.2.0",
            "grid_template_areas": null,
            "object_position": null,
            "object_fit": null,
            "grid_auto_columns": null,
            "margin": null,
            "display": null,
            "left": null
          }
        },
        "4ed8c9ee03394c4cb174c991c3eb9102": {
          "model_module": "@jupyter-widgets/controls",
          "model_name": "FloatSliderModel",
          "state": {
            "_view_name": "FloatSliderView",
            "style": "IPY_MODEL_144b134cd483457ba85436d04552141e",
            "_dom_classes": [],
            "description": "p(s = left)",
            "step": 0.01,
            "_model_name": "FloatSliderModel",
            "orientation": "horizontal",
            "max": 0.99,
            "_view_module": "@jupyter-widgets/controls",
            "_model_module_version": "1.5.0",
            "value": 0.3,
            "_view_count": null,
            "disabled": false,
            "_view_module_version": "1.5.0",
            "min": 0.01,
            "continuous_update": true,
            "readout_format": ".2f",
            "description_tooltip": null,
            "readout": true,
            "_model_module": "@jupyter-widgets/controls",
            "layout": "IPY_MODEL_9b9dc23dced94e2a908b1b452c16bfec"
          }
        },
        "2ef0ab033d3f43568f175936870ad094": {
          "model_module": "@jupyter-widgets/controls",
          "model_name": "FloatSliderModel",
          "state": {
            "_view_name": "FloatSliderView",
            "style": "IPY_MODEL_d9a3595296b04fa4a9ecce2a9a3c4233",
            "_dom_classes": [],
            "description": "p(fish | s = left)",
            "step": 0.01,
            "_model_name": "FloatSliderModel",
            "orientation": "horizontal",
            "max": 0.99,
            "_view_module": "@jupyter-widgets/controls",
            "_model_module_version": "1.5.0",
            "value": 0.5,
            "_view_count": null,
            "disabled": false,
            "_view_module_version": "1.5.0",
            "min": 0.01,
            "continuous_update": true,
            "readout_format": ".2f",
            "description_tooltip": null,
            "readout": true,
            "_model_module": "@jupyter-widgets/controls",
            "layout": "IPY_MODEL_656c4fedfb5342089232e70448c84abd"
          }
        },
        "d508741bd7114fe58d4b12c3c6051be5": {
          "model_module": "@jupyter-widgets/controls",
          "model_name": "FloatSliderModel",
          "state": {
            "_view_name": "FloatSliderView",
            "style": "IPY_MODEL_adcdc98e893945f591484ed33ad9038e",
            "_dom_classes": [],
            "description": "p(fish | s = right)",
            "step": 0.01,
            "_model_name": "FloatSliderModel",
            "orientation": "horizontal",
            "max": 0.99,
            "_view_module": "@jupyter-widgets/controls",
            "_model_module_version": "1.5.0",
            "value": 0.1,
            "_view_count": null,
            "disabled": false,
            "_view_module_version": "1.5.0",
            "min": 0.01,
            "continuous_update": true,
            "readout_format": ".2f",
            "description_tooltip": null,
            "readout": true,
            "_model_module": "@jupyter-widgets/controls",
            "layout": "IPY_MODEL_ee72096e453443c3a22791435208c1c3"
          }
        },
        "9befcf1fca284d099297a9bc7f7b5dc3": {
          "model_module": "@jupyter-widgets/controls",
          "model_name": "CheckboxModel",
          "state": {
            "_view_name": "CheckboxView",
            "style": "IPY_MODEL_06211984fb6f4367a5f6e0631dc04a19",
            "_dom_classes": [],
            "description": "Observed fish (m)",
            "_model_name": "CheckboxModel",
            "_view_module": "@jupyter-widgets/controls",
            "_model_module_version": "1.5.0",
            "value": false,
            "_view_count": null,
            "disabled": false,
            "_view_module_version": "1.5.0",
            "indent": false,
            "description_tooltip": null,
            "_model_module": "@jupyter-widgets/controls",
            "layout": "IPY_MODEL_593ee6d6d10b49969d6c852afe2b9400"
          }
        },
        "c096703bfc264f82920598dd10470902": {
          "model_module": "@jupyter-widgets/output",
          "model_name": "OutputModel",
          "state": {
            "_view_name": "OutputView",
            "msg_id": "",
            "_dom_classes": [],
            "_model_name": "OutputModel",
            "outputs": [
              {
                "output_type": "display_data",
                "metadata": {
                  "tags": [],
                  "image/png": {
                    "width": 674,
                    "height": 310
                  },
                  "needs_background": "light"
                },
                "image/png": "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\n",
                "text/plain": "<Figure size 720x288 with 3 Axes>"
              }
            ],
            "_view_module": "@jupyter-widgets/output",
            "_model_module_version": "1.0.0",
            "_view_count": null,
            "_view_module_version": "1.0.0",
            "layout": "IPY_MODEL_83b450c53d094d7293f6b55c5e740f6b",
            "_model_module": "@jupyter-widgets/output"
          }
        },
        "144b134cd483457ba85436d04552141e": {
          "model_module": "@jupyter-widgets/controls",
          "model_name": "SliderStyleModel",
          "state": {
            "_view_name": "StyleView",
            "handle_color": null,
            "_model_name": "SliderStyleModel",
            "description_width": "",
            "_view_module": "@jupyter-widgets/base",
            "_model_module_version": "1.5.0",
            "_view_count": null,
            "_view_module_version": "1.2.0",
            "_model_module": "@jupyter-widgets/controls"
          }
        },
        "9b9dc23dced94e2a908b1b452c16bfec": {
          "model_module": "@jupyter-widgets/base",
          "model_name": "LayoutModel",
          "state": {
            "_view_name": "LayoutView",
            "grid_template_rows": null,
            "right": null,
            "justify_content": null,
            "_view_module": "@jupyter-widgets/base",
            "overflow": null,
            "_model_module_version": "1.2.0",
            "_view_count": null,
            "flex_flow": null,
            "width": null,
            "min_width": null,
            "border": null,
            "align_items": null,
            "bottom": null,
            "_model_module": "@jupyter-widgets/base",
            "top": null,
            "grid_column": null,
            "overflow_y": null,
            "overflow_x": null,
            "grid_auto_flow": null,
            "grid_area": null,
            "grid_template_columns": null,
            "flex": null,
            "_model_name": "LayoutModel",
            "justify_items": null,
            "grid_row": null,
            "max_height": null,
            "align_content": null,
            "visibility": null,
            "align_self": null,
            "height": null,
            "min_height": null,
            "padding": null,
            "grid_auto_rows": null,
            "grid_gap": null,
            "max_width": null,
            "order": null,
            "_view_module_version": "1.2.0",
            "grid_template_areas": null,
            "object_position": null,
            "object_fit": null,
            "grid_auto_columns": null,
            "margin": null,
            "display": null,
            "left": null
          }
        },
        "d9a3595296b04fa4a9ecce2a9a3c4233": {
          "model_module": "@jupyter-widgets/controls",
          "model_name": "SliderStyleModel",
          "state": {
            "_view_name": "StyleView",
            "handle_color": null,
            "_model_name": "SliderStyleModel",
            "description_width": "initial",
            "_view_module": "@jupyter-widgets/base",
            "_model_module_version": "1.5.0",
            "_view_count": null,
            "_view_module_version": "1.2.0",
            "_model_module": "@jupyter-widgets/controls"
          }
        },
        "656c4fedfb5342089232e70448c84abd": {
          "model_module": "@jupyter-widgets/base",
          "model_name": "LayoutModel",
          "state": {
            "_view_name": "LayoutView",
            "grid_template_rows": null,
            "right": null,
            "justify_content": null,
            "_view_module": "@jupyter-widgets/base",
            "overflow": null,
            "_model_module_version": "1.2.0",
            "_view_count": null,
            "flex_flow": null,
            "width": null,
            "min_width": null,
            "border": null,
            "align_items": null,
            "bottom": null,
            "_model_module": "@jupyter-widgets/base",
            "top": null,
            "grid_column": null,
            "overflow_y": null,
            "overflow_x": null,
            "grid_auto_flow": null,
            "grid_area": null,
            "grid_template_columns": null,
            "flex": null,
            "_model_name": "LayoutModel",
            "justify_items": null,
            "grid_row": null,
            "max_height": null,
            "align_content": null,
            "visibility": null,
            "align_self": null,
            "height": null,
            "min_height": null,
            "padding": null,
            "grid_auto_rows": null,
            "grid_gap": null,
            "max_width": null,
            "order": null,
            "_view_module_version": "1.2.0",
            "grid_template_areas": null,
            "object_position": null,
            "object_fit": null,
            "grid_auto_columns": null,
            "margin": null,
            "display": null,
            "left": null
          }
        },
        "adcdc98e893945f591484ed33ad9038e": {
          "model_module": "@jupyter-widgets/controls",
          "model_name": "SliderStyleModel",
          "state": {
            "_view_name": "StyleView",
            "handle_color": null,
            "_model_name": "SliderStyleModel",
            "description_width": "initial",
            "_view_module": "@jupyter-widgets/base",
            "_model_module_version": "1.5.0",
            "_view_count": null,
            "_view_module_version": "1.2.0",
            "_model_module": "@jupyter-widgets/controls"
          }
        },
        "ee72096e453443c3a22791435208c1c3": {
          "model_module": "@jupyter-widgets/base",
          "model_name": "LayoutModel",
          "state": {
            "_view_name": "LayoutView",
            "grid_template_rows": null,
            "right": null,
            "justify_content": null,
            "_view_module": "@jupyter-widgets/base",
            "overflow": null,
            "_model_module_version": "1.2.0",
            "_view_count": null,
            "flex_flow": null,
            "width": null,
            "min_width": null,
            "border": null,
            "align_items": null,
            "bottom": null,
            "_model_module": "@jupyter-widgets/base",
            "top": null,
            "grid_column": null,
            "overflow_y": null,
            "overflow_x": null,
            "grid_auto_flow": null,
            "grid_area": null,
            "grid_template_columns": null,
            "flex": null,
            "_model_name": "LayoutModel",
            "justify_items": null,
            "grid_row": null,
            "max_height": null,
            "align_content": null,
            "visibility": null,
            "align_self": null,
            "height": null,
            "min_height": null,
            "padding": null,
            "grid_auto_rows": null,
            "grid_gap": null,
            "max_width": null,
            "order": null,
            "_view_module_version": "1.2.0",
            "grid_template_areas": null,
            "object_position": null,
            "object_fit": null,
            "grid_auto_columns": null,
            "margin": null,
            "display": null,
            "left": null
          }
        },
        "06211984fb6f4367a5f6e0631dc04a19": {
          "model_module": "@jupyter-widgets/controls",
          "model_name": "DescriptionStyleModel",
          "state": {
            "_view_name": "StyleView",
            "_model_name": "DescriptionStyleModel",
            "description_width": "",
            "_view_module": "@jupyter-widgets/base",
            "_model_module_version": "1.5.0",
            "_view_count": null,
            "_view_module_version": "1.2.0",
            "_model_module": "@jupyter-widgets/controls"
          }
        },
        "593ee6d6d10b49969d6c852afe2b9400": {
          "model_module": "@jupyter-widgets/base",
          "model_name": "LayoutModel",
          "state": {
            "_view_name": "LayoutView",
            "grid_template_rows": null,
            "right": null,
            "justify_content": null,
            "_view_module": "@jupyter-widgets/base",
            "overflow": null,
            "_model_module_version": "1.2.0",
            "_view_count": null,
            "flex_flow": null,
            "width": "max-content",
            "min_width": null,
            "border": null,
            "align_items": null,
            "bottom": null,
            "_model_module": "@jupyter-widgets/base",
            "top": null,
            "grid_column": null,
            "overflow_y": null,
            "overflow_x": null,
            "grid_auto_flow": null,
            "grid_area": null,
            "grid_template_columns": null,
            "flex": null,
            "_model_name": "LayoutModel",
            "justify_items": null,
            "grid_row": null,
            "max_height": null,
            "align_content": null,
            "visibility": null,
            "align_self": null,
            "height": null,
            "min_height": null,
            "padding": null,
            "grid_auto_rows": null,
            "grid_gap": null,
            "max_width": null,
            "order": null,
            "_view_module_version": "1.2.0",
            "grid_template_areas": null,
            "object_position": null,
            "object_fit": null,
            "grid_auto_columns": null,
            "margin": null,
            "display": null,
            "left": null
          }
        },
        "83b450c53d094d7293f6b55c5e740f6b": {
          "model_module": "@jupyter-widgets/base",
          "model_name": "LayoutModel",
          "state": {
            "_view_name": "LayoutView",
            "grid_template_rows": null,
            "right": null,
            "justify_content": null,
            "_view_module": "@jupyter-widgets/base",
            "overflow": null,
            "_model_module_version": "1.2.0",
            "_view_count": null,
            "flex_flow": null,
            "width": null,
            "min_width": null,
            "border": null,
            "align_items": null,
            "bottom": null,
            "_model_module": "@jupyter-widgets/base",
            "top": null,
            "grid_column": null,
            "overflow_y": null,
            "overflow_x": null,
            "grid_auto_flow": null,
            "grid_area": null,
            "grid_template_columns": null,
            "flex": null,
            "_model_name": "LayoutModel",
            "justify_items": null,
            "grid_row": null,
            "max_height": null,
            "align_content": null,
            "visibility": null,
            "align_self": null,
            "height": null,
            "min_height": null,
            "padding": null,
            "grid_auto_rows": null,
            "grid_gap": null,
            "max_width": null,
            "order": null,
            "_view_module_version": "1.2.0",
            "grid_template_areas": null,
            "object_position": null,
            "object_fit": null,
            "grid_auto_columns": null,
            "margin": null,
            "display": null,
            "left": null
          }
        },
        "28fb38f207c6404087f3742ed9cbe36f": {
          "model_module": "@jupyter-widgets/controls",
          "model_name": "VBoxModel",
          "state": {
            "_view_name": "VBoxView",
            "_dom_classes": [
              "widget-interact"
            ],
            "_model_name": "VBoxModel",
            "_view_module": "@jupyter-widgets/controls",
            "_model_module_version": "1.5.0",
            "_view_count": null,
            "_view_module_version": "1.5.0",
            "box_style": "",
            "layout": "IPY_MODEL_76edf0c93e4a4015b84155d6d2e4c202",
            "_model_module": "@jupyter-widgets/controls",
            "children": [
              "IPY_MODEL_6a09564b067447eb83369321b8c39b37",
              "IPY_MODEL_1249cdf20cf641b0bb31656953c788d8",
              "IPY_MODEL_5675576e7a9248e48e68ff891d55906f",
              "IPY_MODEL_89cc588b6fa240568ff381941b061ce3",
              "IPY_MODEL_0494990c95b141fda3eb4d4115c52210"
            ]
          }
        },
        "76edf0c93e4a4015b84155d6d2e4c202": {
          "model_module": "@jupyter-widgets/base",
          "model_name": "LayoutModel",
          "state": {
            "_view_name": "LayoutView",
            "grid_template_rows": null,
            "right": null,
            "justify_content": null,
            "_view_module": "@jupyter-widgets/base",
            "overflow": null,
            "_model_module_version": "1.2.0",
            "_view_count": null,
            "flex_flow": null,
            "width": null,
            "min_width": null,
            "border": null,
            "align_items": null,
            "bottom": null,
            "_model_module": "@jupyter-widgets/base",
            "top": null,
            "grid_column": null,
            "overflow_y": null,
            "overflow_x": null,
            "grid_auto_flow": null,
            "grid_area": null,
            "grid_template_columns": null,
            "flex": null,
            "_model_name": "LayoutModel",
            "justify_items": null,
            "grid_row": null,
            "max_height": null,
            "align_content": null,
            "visibility": null,
            "align_self": null,
            "height": null,
            "min_height": null,
            "padding": null,
            "grid_auto_rows": null,
            "grid_gap": null,
            "max_width": null,
            "order": null,
            "_view_module_version": "1.2.0",
            "grid_template_areas": null,
            "object_position": null,
            "object_fit": null,
            "grid_auto_columns": null,
            "margin": null,
            "display": null,
            "left": null
          }
        },
        "6a09564b067447eb83369321b8c39b37": {
          "model_module": "@jupyter-widgets/controls",
          "model_name": "FloatSliderModel",
          "state": {
            "_view_name": "FloatSliderView",
            "style": "IPY_MODEL_8c94d43043fa49d79ae4d6e29edf8b6d",
            "_dom_classes": [],
            "description": "p(s)",
            "step": 0.01,
            "_model_name": "FloatSliderModel",
            "orientation": "horizontal",
            "max": 0.99,
            "_view_module": "@jupyter-widgets/controls",
            "_model_module_version": "1.5.0",
            "value": 0.3,
            "_view_count": null,
            "disabled": false,
            "_view_module_version": "1.5.0",
            "min": 0.01,
            "continuous_update": true,
            "readout_format": ".2f",
            "description_tooltip": null,
            "readout": true,
            "_model_module": "@jupyter-widgets/controls",
            "layout": "IPY_MODEL_40a1d03b2eb64e9081cc8b96dbebeacb"
          }
        },
        "1249cdf20cf641b0bb31656953c788d8": {
          "model_module": "@jupyter-widgets/controls",
          "model_name": "FloatSliderModel",
          "state": {
            "_view_name": "FloatSliderView",
            "style": "IPY_MODEL_237338dc2b7b4f9d9beb5810e8dd6047",
            "_dom_classes": [],
            "description": "p(fish | s = left)",
            "step": 0.01,
            "_model_name": "FloatSliderModel",
            "orientation": "horizontal",
            "max": 0.99,
            "_view_module": "@jupyter-widgets/controls",
            "_model_module_version": "1.5.0",
            "value": 0.5,
            "_view_count": null,
            "disabled": false,
            "_view_module_version": "1.5.0",
            "min": 0.01,
            "continuous_update": true,
            "readout_format": ".2f",
            "description_tooltip": null,
            "readout": true,
            "_model_module": "@jupyter-widgets/controls",
            "layout": "IPY_MODEL_40f2d99a17b944b0a5dd63aaa1602117"
          }
        },
        "5675576e7a9248e48e68ff891d55906f": {
          "model_module": "@jupyter-widgets/controls",
          "model_name": "FloatSliderModel",
          "state": {
            "_view_name": "FloatSliderView",
            "style": "IPY_MODEL_918c2210a3114987bc770f2b1aeea560",
            "_dom_classes": [],
            "description": "p(fish | s = right)",
            "step": 0.01,
            "_model_name": "FloatSliderModel",
            "orientation": "horizontal",
            "max": 0.99,
            "_view_module": "@jupyter-widgets/controls",
            "_model_module_version": "1.5.0",
            "value": 0.1,
            "_view_count": null,
            "disabled": false,
            "_view_module_version": "1.5.0",
            "min": 0.01,
            "continuous_update": true,
            "readout_format": ".2f",
            "description_tooltip": null,
            "readout": true,
            "_model_module": "@jupyter-widgets/controls",
            "layout": "IPY_MODEL_e0addc1dbef54e90a9e48b48a43c94e0"
          }
        },
        "89cc588b6fa240568ff381941b061ce3": {
          "model_module": "@jupyter-widgets/controls",
          "model_name": "CheckboxModel",
          "state": {
            "_view_name": "CheckboxView",
            "style": "IPY_MODEL_1a156ef6fd79482c868ec22de29bc649",
            "_dom_classes": [],
            "description": "Observed fish (m)",
            "_model_name": "CheckboxModel",
            "_view_module": "@jupyter-widgets/controls",
            "_model_module_version": "1.5.0",
            "value": false,
            "_view_count": null,
            "disabled": false,
            "_view_module_version": "1.5.0",
            "indent": false,
            "description_tooltip": null,
            "_model_module": "@jupyter-widgets/controls",
            "layout": "IPY_MODEL_166d61297d334b419822ef1cedda65a1"
          }
        },
        "0494990c95b141fda3eb4d4115c52210": {
          "model_module": "@jupyter-widgets/output",
          "model_name": "OutputModel",
          "state": {
            "_view_name": "OutputView",
            "msg_id": "",
            "_dom_classes": [],
            "_model_name": "OutputModel",
            "outputs": [
              {
                "output_type": "display_data",
                "metadata": {
                  "tags": [],
                  "image/png": {
                    "width": 1083,
                    "height": 303
                  },
                  "needs_background": "light"
                },
                "image/png": "iVBORw0KGgoAAAANSUhEUgAACHcAAAJeCAYAAAA0xnsYAAAABHNCSVQICAgIfAhkiAAAAAlwSFlzAAAWJQAAFiUBSVIk8AAAADh0RVh0U29mdHdhcmUAbWF0cGxvdGxpYiB2ZXJzaW9uMy4yLjIsIGh0dHA6Ly9tYXRwbG90bGliLm9yZy+WH4yJAAAgAElEQVR4nOzdd7wkRbn/8e+XjOQsiLCSlKCgEgxIUhAxAIKCcpFFFBD1qpjDVcKVixFFJQos4QeoKCCgYoAFVBQQSYKKSBBJEiWzwPP7o2qcmtkJPXPmnJlzzuf9es1ru3uqq6snnJ2ufuopR4QAAAAAAAAAAAAAAAAwmuYZdgMAAAAAAAAAAAAAAADQHsEdAAAAAAAAAAAAAAAAI4zgDgAAAAAAAAAAAAAAgBFGcAcAAAAAAAAAAAAAAMAII7gDAAAAAAAAAAAAAABghBHcAQAAAAAAAAAAAAAAMMII7gAAAAAAAAAAAAAAABhhBHcAAAAAAAAAAAAAAACMMII7AAAAAAAAAAAAAAAARhjBHQAAAAAAAAAAAAAAACOM4A4AAAAAAAAAAAAAAIARRnAHAAAAAAAAAAAAAADACCO4AwAAAAAAAAAAAAAAYIQR3DHCbM+yHfkxa9jtmSpsn51f06dtrz3Ox5rP9l/z8e6yvfh4Hg8AAAAAAAAAAADA3KbLvVfbM4vzvGWiymH8EdxRsH1A8cFs9XjW9kO2/277LNsftb38sNuN6mxvJ+ktefX4iLhhPI8XEU9L+kxeXUHSgeN5PAAAAADd2d6ivNYbdnumCts7Fq/rIcNuTytN1/0HDLs948H25sU5Hjns9gAAAACtVLgnV+UxY9jnAQATieCO3ljS4pJeIGl7SV+V9A/bB9qeb6gtQ1e255X0tbw6R9LBE3HciDhD0tV59QO2V5+I4wIAAGD8EBgONLK9sKTD8uq9kg4dYnOmtYi4SNJ5eXVv2y8dZnsAAAAATA22byn6PWYOuz3TQVP/0+xht6cbMnyMPwISOju/aX0eSUtLWk/SgnnbApI+L2lt27tEBKO+Rte7JL0oL58SEf+YwGMfKuk0pe/cQZJ2m8BjAwAAYOLVAsPL4PBDbB8q6eCc4W1SyR03J+TVWyNixvBagxG0v6RV8/LXIuLfw2wM9HlJb1Tqx/i6pC2H2xwAAACgq+Z7clU8PvBWAMAII7ijg4jYttX2PCJpX0mHSFoob36bpIskfWeAx58paeag6pvObM8j6bPFpm9McBN+oJTp5XmSdrX9hYj42wS3AQAAAOOHwHBMW7aXkvSxvPqQpCOG2BxIiogrbZ8v6fWStrC9dUT8YtjtAgAAANppd08OQO8iYpakWaNaH/rHtCx9iIjHI+IwSTtIKjtkP5eDCDB6tpdUmw7ldxFxzUQePCKeUX2U4zySPjyRxwcAAMD4iohtmx7bRMSGkpZSymjwRFH8bZL2G0pDIUmKiNkR4dpj2O2ZAj4oacm8fDxZO0ZGOajhf4bWCgAAAAAAMBAEIoxBRJwv6Zxi03MlvXxIzUFnZef5SUNqQ3ncPWwvMqR2AAAAYIIQGI6pzvaCkt5fbDpmWG3BXH4u6da8/Brb9FcAAAAAADCJ0Zk4duc0ra9frtieZTvyY1ax/TW2j7R9ne378vO3VNm3E9sL2n637R/a/rvtR2w/avtm22fafo/thbrXJNmeXRz/gGL7drZPsv1n2w/m52dXqbPNcWYWx7ml2L6m7UNtX5Vfo8ds32j7WNuv6KH+lSVtlVeflfSjHvZdz/aXbf/W9r9sP5Uf99u+1vaPbH/S9trd6oqIGyVdnVcXlfTWqu0AAADA5EZgOKawnSUtn5cvi4g/D7MxqIuIZyWdUmx6f7uyAAAAwFRge5N8D6d2z+m4ivv9sNjncdsvaVFmrntmTt5o+we2/5bvY91r+zLbn7G9bJ/nsZntb9j+o+278zndY/vyfN/sRX3W+2LbB9m+xPY/8rk+bvt227+0fYDtlzbts0XtvCWtWjx1QvF6NDyGcX62Z9g+xPbV+d7lw/k+5izbm/VaX4/H7ud+bst7o8Xzt+TX8gvF5s3bvea2Z/ZSf68qtHd2bu8JxeZVO7T3gLzfTsW2Z2yv0kObFrX972L/aTFrAsEdY/ePpvWOf6htL2L7BEkXS9pX0rpKc3GPme1tJf1F0nFKgQMvkLSIpOdImqE0WvBYSX+1/cY+6l/O9nmSzpO0u6QXSlpiEG1vcaz3S7pO0ieVAmaWlrSwpDUkvUfSb20fYXu+CtXtpPpn/Q8RcXeF489n+zuSrpH0cUmvVHpv58+PpZTmT99R0qGSrre9ToW2/KRYfnuF8gAAAJg6OgaGl2y/JHdoXNHU0fEHp+Djl7bbt019K9j+uO2f506bx2zPyRfBN9o+3/YXbW/upowi/V6gd2jLUrY/YPtczx2Qfobtd1X5nV92MJWdR7ZXsv0J27/J5zonl9mi274Vjvlq24fbvsapw+5J23favtT2gbbXqFhPuwD3NXI9l+d6n85lZlRtY4tjle/NFnnbc5wC/3/l1KH3hO1/5s/HXrbn7+EQexTLP+ihXUvYfp/tc5w6rR7J5/tw/ixcYPurToMLemnPUDh1JJav9Yy8fYn8eb84v8ZP2b7L9lm2t+5Q11fy5+wRp87Wm2wfVfUzVjijWN7Z9nP6O0MAAABg9EXE7yV9rtj0btu7dtrH9n5qHIz70Yi4ptuxbC8l6ceSzlUKel9d6T7WMpI2kvRFSTfYfkvV9udrwl9KukjShyRtoBRMP7+k5SRtqHTf7Drb36xy7ZzrXcH2D5QGIP+PpE0lrSxpofx4nqTXKgUSXNntur5f43h++0r6k6RPS3qJ0r3LRZXuY+4h6SKngeOVBr9jQp0t6Y68PI/SPeCq3ilpsbz8uKQTB9iukVXpS4GOmjuZnupQ1pL+n6Tt8/ojkm6Q9JikVfLzfbH9LknHS5q32Pxgrj+U/oAtk7c/X9LZtt8bESeomgWVgjo2yuv3S/qrpDmSVuu33a3Y3lvSt/Pq00pBHg8qtXv1WjFJ75O0rO1d84ikdspAlgsrNuMoSXs1bfu7pNuVznkxpeCZ5YrnqwRLXaj0n4skbWV7oYh4otMOAAAAmDK6BoY7Td33bUnv0ty/L5fLj5dJ+pjtUyTtFxGPdDqo7fdIOkypY6PZYvmxhqRtJH1GaXT/Ed1Oph+2PyLp85KWbPH0jPzYSWnamt1zx1wv9b9T0pGSFh9bS+eqd3lJ35X05hZPPzc/XiHp07a/JemTEfF0j8fYX9L/SVpgjM3tdpz1lG74v7DpqZXyY2tJ/217l25ZOGwvrXqWRKkxmL3Tfm9Rej2Xa/H0ovkxQ9KWkj4q6SuSPlGl7lFi+5WSTle63i+toNQvsL3tQyLis8U+H5D0VaVr8NJqkvaRNDN/NyoF0kTEVbbvlLSi0nf9DZJ+2M/5AAAAAJPEV5SuU16f14+2fVlE/L25oO0XS/pasenMiKhyPTyv0k3p1+T1+5Xux80j6UVKA4SldN3/Q9tvi4izOlWYrx/OUf1enpRuWF8v6SGlQdDrKd3bnVfSf0ta0/ZbOl1/5nM8T+keW+lWpXteTytdo6yp+j3G8pr9fknn5+XNlYJBpHTv7p+dzmmCzu/DSn0epbuV7mEuoDTIflGloIGFlc53MrhI6X1ZQ/V7ow9IuqxN+crvxTi5TNITSoFC6+VtTyidRyt/k6SIeNr2sapnKNnL9kEV+1T2KZa/HxEP9N7syYfgjrFrno6jU1aIHZU6U+6T9DFJp0bEf4JB+hiBU9tvfaWMHLU/ug9I+kiuf04uM59SpojDlf5wzqv0H9pVEfHHCod5f277rUrRdOdGxDNjbXsLy0j6Zl4+RtLnIuJfxXE2kHS0pI3zprdJ+k2xT4N83psWm9r90Sv32UCNgR0nSvqfiGjujJdTeqA3Sdq7W70tjv8cpQ7g2RX3BQAAwOTWMTDc9pJKHSYbN5W7Qek6YzlJ6ygFOlspm97atrdpdwFre3ela4XS3ZJuUgoyX0Tppu+qqgebNweV9HWB3tSO+ZQyDL6r6albJd2Wl9dUCpKoLV+YO3F+2eY4zcd4q1IwvZQC3Guv29JKnWt9yb/5f6XUoVLzjNKooPuVXpc18/b5Je2v9L7sGBFPVjzG/qp3KD6j1El2v9IIpr7b3sLzJH1f9aCKWyXdotTR9WLVA0teovT6b5anl2xnW9WvQ++JiOu7NcD2lkrBBWV/xP2SbpT0sFJn2wpKwQy1z+JkzDq6nlJgxyJK04NeL+lfSu/pukW5z9i+MyK+bftjSh3RUvqOXaf0mqyueoDIgpJOtX1jRFxVsS0XKo1oktLgB4I7AAAAMGVFROQB0VcrXWMuLul026+u3TOTUkZDSd9TPVjhNs096LedfZSuqx5Qumd2Wu1mdM48uLtSwMHiStc+J9leJyJub1WZ7ZWVsoDUAh/+oZTB4odN9xGXkvQppYzzVgrePkCN2UrKepdRCqgoAztmSTqk+VovDzZ5g9Jr8J8MlzmLyba5zC2qT83ytYiY1eq4E3h+G6sxOOcOpfuZP64NCre9sNJg8UMk7aZ0XTbyImIPScpZVGqBD9dExLZDa1QHEfEJKWUqVT3z690V23uMpM8qfVdWUrrv2i0YakOlwU81R/XY5ElrMnaQjAzbVr2DpObSDrssJulRSVtExKzyD5YkRcRcnaAVHal6J9yjkl4XESeW/0lFxNMRcapSWqWH8+b5lb4wVSymFPX16og4uwzsGGPbmy2q9B/pVyJinzKwIx/nKqWIyyuKzV/M/0G1sp5S52BN11RaSn80an4TETNbBXbk9twWEUdExAZKnccdRcRDSp2nNRu1KQoAAICpp1tg+FFqDOz4saTVImKdiNgyItZTymZQ3pjdUG1+0+eAirKT4zJJG0fEcyPi1RGxdUS8KiJeoDSqaBel0TwNWfEi4hP5Yrys6+6I2LbN45QWzflfNQZ2nCBpzYiYERGb5ceKSr/1a7+rF1a6ib1iq/NrYVb+91hJz4uIdSNiq/xbfSVVuxZoYHteSaepMbDju7n+9fP7spbSzfoy2OUNSil4q1he0peUXvdDJC0XERvktq+ndFO/69SSFR2m1AH5J0mb5td/i4jYUCmg4iuqd+I9V+n1n7d1VZJSZo2aroH02ddVD+y4UekaddmIeEX+TG4aEWsqXYO+Wen1n9O6qpE2Symw43hJK0fEi4v3dD2lKVVrPp+naPmSpCeVOjKXiYiN8j6rKg0WeSyXb/5ud1NmwNmqbSkAAABgioiIe5QCLGrXtxspXW+VDlf9Ov0ZSbv1MPJ/OaWsE9tExMllloGImBMRxysFVteuZRZTPZC7lWNVz+55raQNIuK0FvcRH4iIT0rat9j8CdvPa1PvYaoHY0jSXhGxZ6sg/oh4NCLOiIg3KE3dMkjjdX7fVv1e9/1K91/PKrP9R8TjEfF1SbsqXe+2yiCJIYqIO5Qy4dTs065smzLXRMTvBtuq0UVwx9gcqDQfVM0fWqV1anJwRFw3qAbkyKRXFpsOiogr25WPiKuVotxqNrT96oqH+2hETERanxuVIrRaiohHlSIHa3+cF1HjPM+ldYrlZyXdXOH4ZQTjryuUr7Xrme6lJDWOZFyvbSkAAABMGd0Cw21voxRcUXOqpB0iouH3a0TcppS97qRi8862y6kIa16heqfFI5K2jYjLW7UvIh6KiO9HxJuUMuUNjO1XqHFKjb0j4t2tAsQj4kKl65tagMdyajNCp4XFJB0YEXtHxJ1N9d4fEff33nrtJelVxfqhEfHeiGgItsgZK7ZRyvBRs39Of9vNwko36/eKiM82dyZGxB0R8XgfbW9lOaWggs0i4jdNx3kwj7T5VLF5Q3We77YMVq8yJ/XKql9Dh6Q3RcQFERHNZSPisYg4NyLeqeqfgVGyjNLnZa8Wn8c/SdpB9XTAyynN021JO0bEVyPisaZ9zlLK0Fmzpe2yk7aTq4vlVW3TmQkAAICRYzt6fHyjU32RskB+qdj0Udu1DBS7qDFLx4ERUfl+UPbliLii3ZO5vsOLTTvZXqG5XM4mX8tuMEfS27tdv0bEMZIuyKvzq8XNcNsvUGM/xJE56KSr6DL9ay/G8fw2UuM16WdbBa0UdZ6l1NeC0VROh7SN7RntCtpeTClYp2baZO2QCO7oiZNlbG9r+zw1Rq49q5RCqJNnlEZ5DdJbi+XHlLJ4dHO0UuduzY4V9rlXE5e69egoso60EikNVDkybqc2RV9QLN8d1eZoKjtOX1qhfK/KtFszxqF+AAAAjJ5ugeEfKpbvlvS+Vje8pZRiVinN6B3F5g+3KFoGLf+p6gikHoKWq/qU6lO+nBwRzdPENB//ITV23MzMF+7d/EnSwf01sa3/LpavVYfRS3nE0Z6qZ1dw0/6d/CwqprMdgH27dKR9RVIZBPT+VoVywFI5ZUyVbI7lZ/KeiPhrhX3G4zM5Ef6qzp+XPytNl1KzgKQTIuKnHeo8SfVreUuqOlCj+b1hkAEAAACmi89L+m1etqQTbb9KjRkwZ6t65sWaZ9R4M7qdb6meHXF+SW9pUWZmsXxuvlao4sRi+XUtnt9F9Wk052jw18tVzSyWB3l+5f3Rh1XP5tnJ4d2LYBgi4gJJtc/GPJLe26H4bkozQUjpGrlVBtkpi+CODpqjAJUCOO6V9FNJ2xVFn5X03xHxq1b1FK6PiPsG3Mwya8dFEfFw25JZznxRzlv9ynZlC5dWDIwYhE6dWaXziuWX5XnMmpUjkqqO1Cs7Mrex/Q3by7Yt3buyU335AdYLAACAEdFLYHie53eb4vljI+LfnerPo2jKDBtb2V68qVgZtLxWnj93QtleWmlqjZqvVtkvIi5RPevec1TtmuW7gwwCsF2bbqXmm92uiSJN5/i9YtMOFQ830GwpHVwXEbM7FcjBQ98uNr3Y9potiq4kacFivUqWx/IzuXyH1LpTwfEVrqGb08Z2nDY1Ip6QdFWxaZ12ZZvcpdT5XDOj4n4AAADARDq/x8cNraupy7/J3ynpwbxpeUmXSKpdP9+rNB3Lsy127+TKPPVLt+PfqjQQoWaTFsU2L5Z/0UMbygx9L88B+O3q/XVzRsEJNF7nV76Ws/P1UkcRcZnSe47RVCYweHeebriVckDQaVXujU8l7V4UVHeZ0nQlVdI1dZuypR/l3M9Xty01t2tU72hco1PBbDza3socNc493Mm1xfJCSqPAmttZdmBXTWV8hqSDJK2W1z8kaT/bFyuNrLpU0u9zkEw/yvS6E97BDgAAgMHLweBVtAoM30iN12bnVKzrbKWMIFIK3N9EjR0lVyiNELKkpSSdbfsDPYySGYTXqD6o4J6cga+qq1XPxLehpJ93KX9xj23rpjmgpJf3Zc+8vKztNTulhs0G3fZ2+gmkl9Jnq/kcmqf2qBJMf4OkR5WugyzpXNt7t5suaJK7tHsR3VUsPyXpDxX2KTtkl6rSkIh4xva/i/IMMgAAAMDIiYhtu5fqq95bbe+lenb6cuD7zIi4o8Vu3VzbvUhD2Vr2vLXKJ3LAQplZ7z22t69Y78LF8gJKASsPFdvWLpbbTh8znsb5/MrXstf3Y8seymPinCjpEKU+g+dK2l5Ns0rY3liNmXGn1ZQsEsEd3ZzftP6sUmqf+5WCIy7Oc+VW1XH0XZ/Kzpx/9bBfWbZKh9B4tL2VB3sYbdecBaXbeTRH9bUUEU/mOcvPlbR63jy/pNfmhyTNsX2ppNMlndRjoEeldgAAAGDKaRcYXgZbh9K1RhXXS3pa9eu6NVQEd0TE7bZPU32O3ddKusH2Vbncb5Uy9N3d01n05iXF8kK2f9bDvi8ulpsDCVoZdEB6+b7cVWVUVtb8/q2huQMjSg91m294gCp1eEXEfbbvlLRi3rRWi2LNgepdg+nztdY3JX0mb9pA0mW2/6p0/f0bpc/kbVXaOeLu6l6kIfD/vorZMst9ntNDex5T/ZqZQQYAAACYViLiR7ZnS9qi2HxcRDQHtlfVS5b+smzzfawl1Hiv9mV9tqdWVxn8sHSxXPV6dtDG8/zK17Lf9wMjJCIesn2q6lOy7KOm4A5JexfLl0fElRPSuBFCcEcH4xAl2GtapyrKNLhP9bDfk8Xy/Lbn7RJUMR5tb6Xfc5AaX4uaMuhi4RbPtxQRf7a9ntIfjnersVNaSsEem+XHAbb3jYgzK1ZftqPf7B8AAAAYLWMJDC87JB6pkkpUkiJiju2HJC3Top6affPzry+2baBilIPtPyllr/tuRNxe5dg9WKZYXrypHb1YokKZQQekDyKQvrmeViYqkF7qvcOrFtxRZUBA1SD2L0h6nqQ9im1r5ccHJcn2TZLOVPpMVs3sOGp6ubbtp7zU28ABBhkAAABg2rK9jRqnB5GkrW0vFREP9FFlv/eymu9jDTLwep6m9YWK5Ur9DONgPM9vgWJ5LPcWMVqOUD2443W2V4+ImyQpT0e8a1F2oqa4HSnNXwRMPg8Wy4v1sF85H/fDg5ybeoz6PQepMWKvpuxYXbrF821FxBMR8c2IWF+p8/EdSnNPN3fKLy/pjJzto4pRiJYEAADAAEXEtk2P7SJil4h4X0Qc2SXjX78B21Jjp8RCzU9GxMM5aP2tkn6plOmj2bpKN9z/ZvsLtgd5nTiojpyubepjjuRuBhFIL7V4X5pMVCC9NLgOSGnuQPVKwfQR8XREzJS0ldIUNq061laX9DFJ19v+ju1Wx0dvGGQAAACAacn2CpJO0twBz6tIOrbPavu9l9V8H+vBpvW3RoT7fNzSVFcZtFJlwMR4GM/zKwdKjOXe4rDMO+wGjKKIuEr1aU6teqCHJP2X6v1MD0k6bQKbNjII7pj8yuCA1duWmltZdpQCDBa3XTUIY7Wm9VbncXOxvLzt+ftpVETcERGnR8QHI2I9pdfvMNU7YufJ61WsXCzf0k97AAAAMKX0G7AtNXZKNHea/EdEnBkRWysFGm8n6YuSfq3GYI8FJR0g6f96bEMnZZuuGUMnzswBtqmfto+lo6jt+zIEg+qAlObOUNJrMP2FEbGDUlaQ10r6vFIAUjmibB5J+yl1xKJPtudV4/s5Sn0AAAAAwLixbUknS1ohb3pI0iFFkZ1s79NH1S/ooWx5L6thWtSIeFTSI8WmFTQ4dxbLLxxgvZWN8/mVr2W/78eglAMpqt6HrJIhc7o6oljes7i3W07JcnJElNOWThsEd0x+fyiWX9XDfmXZKwbUlkHZpI9yt0VEq1TJ5QjJeTSgP9oR8feI2F+NHd9r2q7yH0g5d3elOa8BAAAwpZU3WhewvXLbkgXby0tatE09LeVMHj+NiM9FxGuUstB9SI0jeva3vUqVNlRwV7E8yE6ciVC+nqvYrjqtaXPQ/SjdSK/U4ZXP9fnFprtbFLtDjVk3Kn1um0XE4xFxQUQcnAOQlpW0p6RyiqC32+7leheNVlTjqLBbhtQOAAAAYKJ9QtLWxfreEfFZpWkgaw6zvW6P9W5UJetlvrZ6WbHpDy2K/bZYfmWP7ejk0mJ58xzoMlZl5smq9Y3X+ZWvZaX7iraX0PgEupRZRKoOfHhxxXL9vObDNIj2/kD1ASXLS9rR9iaS1i/KTMspWSSCO6aCi4rltW2/vNsOttdX4xfgonZlh+Qd3QrYXkDSzsWmdufwJ0mPF+svGUO7Wvlh0/pzOxXO/3GsWmy6fMDtAQAAwOTT3LlT9SZ2c7meg7Yj4oGIOFzS24vN8yllUmg21k6cFSoGQ4+K8n1ZSI0dcp2U78szkq4aWIvGrmog/fpqnE5mrg7IiAhJNxSb1mgu04+IeDQiZknaRtKc4qnXD6L+aar5vWGQAQAAAKa8fDP4f4tNx0XE9/PyXpJuy8sLSzrddrcpNUvPlbRFhXLbqTFDQ6t7WT8tlnfsIbt9Nz8rllfJbRmrcorHSlNzavzOr3wtX2J7nQr77KLU5zFot5Zt6VY4f9beULHufl7zYRpzeyPiSUnHF5v2yY+a30TEdf3UPRUQ3DH5fU+NEWFf7RR9l5/7WrHpEUmnjlPb+vXOHIDSyUfUGEhxXKtCEfG0Urrpmq6dmT1GLy7atH5/l/Ll8R+T9PsejgUAAIApKCL+rsYsBbtX3HWPYvluSX8ZQxt+qcapN1oFLfdzgX65pPuK9ff02LRhukyNU4RUfV/eVSz/ISIeaVty4r3RdpX5hXcrlh9X+6D0cvtAA+kj4gY1Bo90DKRHR+X19S0Rce/QWgIAAABMgDzQ9jTVb+T/WdJ/156PiAeUrnueyZvWk3RYj4c5JE+B2K4N86sxuOTvki5sUfQ41e8tLSbpOz22o51zJd1UrH8rvy5jUU71smbFfcbr/L6vxn6KL3UqbHtRSf8zoGM3KwfbrGR70y7lPyZpuYp1l6/56gPKwDKeyvYuN4bP3FGqDzLaUtI7m56btgjumORyR2EZrLGFpKOL+Yf+I6d/OkKNo/C+ERGt5k8epnklnW275cgv2zur8T/ESyKiU/aRnxTLW1Y4/um2P2d7xU6FbD9H0kHFpn9KurFL3eXxL4yIJ9qWBAAAwHRybLH8Jtsdf7fa3kzSDuX+OZNCWabyBb/tBdU4L2yroOWeL9BzsHXZQfZh2y+t2q5hytdapxWb9rb9ok772N5dUnl+x4xH28ZgEXXpzMrZVfYtNn2vQ4DK7GJ5426fuT46ocpg+m6B9GivHGTQqjMZAAAAmGqOUX1ayicl7RoRj5UFIuLXarzHs6/tt/ZwjE0kHZszzTfImRlOVuPUG4c0X7fndjws6TPFpl1tn2Z7yW4NsL2R7ZNsv7P5uYh4RmlampoXSJpte7UudW6c78O1UmZ13KXKtLLjeH7/lvStYtObbH+51XQ5eZDDmepzOtEKfq/GQTvfajewwva7JX2hh7rL13xppWlMR9k1aszCuX8/lUTELapnfbGkBfPyfZLO6LdxU8F4pJ7BxDtEKX3PK/L6eyVtavu7SulWQ9K6SqPk1iv2u1yN/3GNgtsl3SzpNZKuzudwgdIc4M+X9DZJ2xflH1H30X8/VAqAmUfSS22vFBF3dCi/glJa6gNt/0bSJUqv47+URu4tK+nlSiMly7nID46IZ9VZmWbp+21LAQAAYLo5QtIHVJ5RcGUAACAASURBVB+58QPbr4+IuabDyMER5YXsfWrs0Kj5ZO60+VZEdJuG4SBJzynWW90Arl2g14JA9le1DonDlX47r5mP8Qvbe0TEeZ12yh0975C0Y0RsU+E44+FLuQ0LSVpA0rm2t8nZVhrY3lqNc77eKOn/TUgre/NR2zdGxFyBJ7afpzS6q5aZ5SlJX+5Q1/lKI2nmUbpOWk+dp/zYzfabJH0zIi7tUE6295NUdjoSlNC/LYrln7QrBAAAAAyT7Z91LzWXoyLirKZ63qPGqUc/HhFXt9n/fyVtJWnzvP5d21dExG1tytecJWlbpRvtr7B9rNK1kJWyGu6jxswWP4+IlhnoJSkijs7X+rWpJ3ZVClb4nqSLlQYXPyVpCaX7Ui+VtLWkVXP5C9rU+yPbX1f9BvsGkm6w/QNJv5D0D6XsJSsoTUX6RqXrum+q9Q30UyV9Mp/nipJusn2l0v2z/9wfi4hyMMq4nZ+kA5XuGa6d1z8uaSvbxytla5lf0kb5uCvndl4t6XVt6utLRDxr+0uq981soHSP8/B8PEtaS+m8N5P0tKRTJP1Xhbr/YvsKSRvmTcfZ/rRSn8NTRdHDI6Ld6zRhIuIR22dLqgUIfT4HtFyvlBm05vSIOL1LdUcofSZLJ073gfMEd0wBEfG07W0l/Vjpj4KU/pB9rf1e+o2kN0fEnA5lhuEZpc7Ti5U68v5bRaqsJo9KemNE/LVThRHxD9sXKmUssaQdVS3t0zxKQSavqVD2yxFxdKcCORNJLR3uo0pBJwAAAIAi4l7be0k6W+k36zKSfmf7ZKWbsfcoBX5sqxQoUQuwCEnvjYh7WlS7kFLg93tt3yDpl5L+KOkOpSDpRSWto9S5sHGx3+mtfmP3e4EeEQ/b3l7pGmSpfG7n2r48n+81SsHcC+Xn1lUKXN8in2c5d+2Eyp0oH1e9g2Z1SdfkjqJfKbV7JaUsKm9Xeu+k1MHyXyPY4XCa0vXW0Xkk1qlKwfWLKV337C2pHD11YJ4epaWIuM/2Bap3jL1RnYM75lOa43gX27cqzQF9pVKH4r+VgkrWUrpmKzvbfqv0+UWPbG+g1Okqpe89wR0AAAAYVa/vY5+GgBDbaysFJtScExGtBkNI+s9N+d2UbsAvo3TN+v9sb5EzX7RztaQfSTpe6X7c1zuUvVT16+hO3qd0bXSQ0v2pRSXtlR99i4iP2n5I0gFK16wLKE1Js1un/drUda3tL6g+cHwB1QeedzPw84uIJ/JAi4uUrtelNDj75S2KP6o0tUfXgIo+HaEUkPKWvD5DrT8XTytly3ymh7a8V+maeJm8vkZ+lM7S6PiIUjDKjLy+subOmnJVhXp+pjSdUTnwo+O92OmA4I4pIiIesv1apS/4p9SYUaJ0u9Los6NyiuSRExH/tP1ypRF+uyj959BQRCmi8P0R8beK1ZbT0eyuzsEdhyr9B/M6dZ7XOZSyehxYMRqu/CN9ckQ82rYkAAAApp2IOMf2OySdpPQbeD6lUUDtUm7OkTQzIs6sUP3aqo9k6eRXSjf42+nrAj0ibrC9sVJnw7p580b5MdIi4tt52pqvKHWELSLpg/nRysNK2UYum6Am9uIYpfbtrdTptHWHst+OiEMq1Hmi6oEYOyldT1Wxquqjtjq5WtLOFbIkorWyE/mHzamoAQAAgKkiT4VyuupZKe9QhSks8j2pdysNPpCkTZWyVH6+y34n275ZaTDABi2KPKI0TekXI+LJCu0ISV+0fabSNCY7qjHDZrMHlK7hT1PKwNip7oNsn6uU6WJbtb8//JjSVBindKjr4Dygek+lqWmerxSoMdd0KE37jcv5FfcUD81tWrBFsUsk7RsR19sel+COHCi0s9JnZ3/VM2KWrpT0gYi41PbMHuq+yva6StfQr5P0IqUsJ3NNCTQKIuJ22+srzbywndLAoqWUBvX0Us+ztq9RPbjjwm4D/qcDt5jeCVNA/tJsIGn5vOlfkq6KiCqRUBMq/wE7Ia/eGhEziueWVhqxt7LSl/5OSRdVSInVfIx5JP1V9ci9DTqk4Sr3m6HU+byK0gg2K40ou0XSFRFxV8Xjz5v3WVkpKGTtiPhLL+cAAACA0WH7ABVTkkSE25fuue4XKk29+GbVM3SUnpZ0nqRPd8qqkC/836vUcfPCLof9s6RvSDq22030PG9spwv0AyPigDb7LqDU2fJhpc6IdkLppv6PlQKj5wrqtr2Fiqk6enkP+tnX9kaS/k/SlmrdafWEpO9J+lxE3N7i+bKumWpzDTRotsuL/i0jYrbtvZU+vyu12OUfkj4VEadWrH8hpewqtWvPddp9Lm2vojRa6w1Kc0936vy7TdKRkg6r0hFaVdN3t+1ntY96ZyhlQal5QZ4juNM+M9Xj58D2LKXsPVJKRzuzQ1lLukn1ucZfERG/73YMAAAAAHOzPVv16VsariVsv1jpntxKSpktb5J0QUQ8rj7l6+dNlDI0LKvUP/CI0hQmf5Z0Qz9B8LZrmRtXkbS0Uh/Dv3KdVw7y+qtLOwZ+fraXUBrovaqkeZUCfH4fETcNsOlV2rGoUt/Baqrf27wyIq6byHZMdraXVfo81IJYdomI7w+xSSOB4A4M3UR1bNreUylFliTNioiuEZsDPPbblTp6pZSm+h0TdWwAAABMTjmIYnOlUTBLSnpI6cb7RRHxUI91LaM07+9qSmk8F1BKSXqHpD8OY+SD7ecrpW9dXun8nlQamfM3SddGxP0T3aYqbC+nNB3mSkrTmdyvFMh98ShmRWgV3JG316ahXFNpyp/7JV0n6bfRY0dBTst7QF79RkR8pMI+iyl1fq6Wj7+w0iixu5UCe67rtR0V23qAxiG4YxTZ3kbS+Xn1txHx6mG2BwAAAJjMOgV3ABg8259UPTvoXZJWiYg5Q2zSSGBaFkwnJ0n6pNKoxd1sfz4i/jFBx/50/vdpFSM8AUxfVUddTpaLBtu3KEVES9KeETFrjOVa3ohCd/2MHB41OZXiZUojuk+LiHcOuUkD1/Q+jeuo/X7ZXkPS9UojJ34WEW8YcpOmnYj4t6RzBlTXfUqZKi7sVnai5N/iE/V7fGAi4l+SfjjsdoxVHgF1UX6M1eFKU/YsIWlP21/In99Ox39YKTXuJQM4Plr7cLF8UNtSADAFVb0uGnQ5AAAAjJ3tRSR9qNh0NIEdScf5j4CpJCKekfTRvDq/pP+ZiOPa3kn1+daOYD4oYHKyfYDtqD2G3R5gqsop5L+j9Dv1KUmfHW6Lpq88DcYxeXVb29sPsz0ARldEPCDpK3l1CaWpVzBEtjdQmv5Gki6JiPM7lQeAfti+pbhOnt3H/jPL6+w8bRoAAACmMdsLK03TumLe9LCkbw2vRaOF4A5MKxFxntK83ZL0bttrj+fxbM+nNF+6JN0j6fPjeTwAAKaAdyrNtylJJ0TEzZ0KY9x9UWmqDEn6av5tAwCtHCbp1rz8sTytEIbn4Pzvs0pZVQBgUrK9xWQaaGF7RlPAyoxhtwkAAGDU2f5f22fZ/oVS38LuxdMH54y0EMEdmIYiYvuIcETMFxE3jPOxno6IF+bjrdDr3OgAAEwnOXDgwLz6jKQvD7E5kBQRd0qalVfXkLTn8FoDYJRFxGOqBxEsK+lTQ2zOtGZ7M0lvyqvHRsQfhtkeAAAAAAC62FTS9pJeJ2m5Yvt5kr4+lBaNKEbeAQAwBBExU9LMITdjwkXEjGG3ASPtnZJWz8s/joi/D7Mx+I9vStonL3/G9vF5ujsAaBARZ0rysNsx3UXExeJ9ADDNRcQtGuDfwkHXBwAAgLYelXSDpJMkHUE/ZCOCOzB0ETFL9RGhAABg+tq/WD56aK1Ag4i4wfavlSLoZ0jaUdIZQ20UAAAAAADABIqILYbdBmCq4vtVHdOyAAAAYOhsv1rS+nn1Lkm/GGJzMLcTi+X9htYKAD3LU0TWHrOH3R4AAAAAAAD0h+AOAACGwPYs25EfswZY7362nynqPsv2wm3Kzmd7F9sn2f6z7fttP2n7n7Z/ZfvjtpceVNvyMW8p2jazx33ns/022+fYvtn2E7bvtf0725+zvUQf7XmJ7UNtX2H7bttP2b7H9h9sf9n2S3utc7zqdfJ222fbvi2f/x22f237w4N+r1ocf673zvb8tne1fW7xntxt+5LcpkV6OMQexfIPI+LZCm2K4rFF3raQ7Zm2f55fpydt35fX39amnuVsH2D7ctv/zvvcavtk2y/v4RxGiu1tbB9n+xrbD9h+2vbj+T263PaJtvexvUKF6s6SVEuBuIXtVcax6QAwnmZLOjA/Zg+1JQCAtmrXzJIubNoebR6zmsrNaHp+xhjb07G+fD0Rkm5u2vXmNu2dnfd7br5erG3frcd2XVjse9YYThEAAACTANOyAAAwRdj+oqTPFJuOlvT+VnPS2X69pG9JWrNFVSvlx1aSPmP7oxFx/Dg0uTLbq0o6TdIrm55aUNIykjaR9EHbb4yIKyrUt4ikb0t6l+YOdl0uP14m6WO2T5G0X0Q8MsR6n6d0/q9pemrF/Hi1pE/Y3lXSbd3qGwTbz5f0fUmvaHpq+fzYVNKHbO8WEb/tUtc8kt5abPpJn216UW7Ti5ueWlrS1pK2tn2ypJm14BHbO0s6TtLiTfusIum/JL0zfwe+0U+bhiEHa3xP0uYtnp5X0kJK79GGSp/Vg/N6WxFxr+3LlL6DlvQ2SV8bYLMBYELk7CWzh9wMAAAkSRFxVw7KqAWi7yPp/1XZ1/YLJW1RbDpqsK0DAADAqCG4AwCASc72fJK+q8bMB1+IiIPalH+fUmDHvMXm+yTdKOlxSSurHvSxpKTjbK8YEV8cdNsrWl5pSohapoDbJN0iaX5JL5G0SFHufNvrRsRd7SqzvaSk8yVt3PTUDZLuVgrAWEfpBrYl7S5pbdvbRMQDQ6h3BUkXSFqr2PyMpOskPaD0fq2hFOTxM0m7tKtrgBaV9MuiTXcpfX4WlLSu6u/JDKX3ZJuIuLRDfa9QCtKR0rld0kebVlQKgHluXv+LpDuUPsPrqx5ss7uke5QCbN6e95lH0tOSrlV6TZ+v+ndgHkmH2f5bRJzbR7smlO0FJf1K6X2omaP0evwrry+ldH6196lqNr8LVQ+weqMI7gAAAMD4uVbp+mppSRsV28/vUH6Y/qbUtoUlbVZsv1jpOrvZNcXyEaoHd7zG9toRcUOFY+5dLN+s9q8NAAAApgiCOwAAmMRypogzJG2bNz0jad+I+G6b8m+Q9B2l4AJJ+rVSto9fR0QU5daU9HVJb8qbDrZ9eUT8fPBn0dV3JC0r6SJJH4mIP9aesL2QpM9J+mzetLRSFoL3dqjvKDUGYPxY0ocj4j/pc/OUE1+XtFPetKGkY1TvcJvIer+rxsCOWZI+XQaw2H6xUqaWVyploRhvn1cKVvmHpPdJ+knt82P7OZI+oPQ+LKAUCHK67fUi4uE29W1ZLN/QoVwn31IKEDlH0v4R8bfaE/l1P03Sq/KmD9o+R9IJSt+FL0k6NCIeLPbZVNIPVc9ocZjt88rvyYjaV/XAjjlK348jm19T21YKjtpRjVlTOvl9sfxq2wtExFNjbC8AAAAwl4j4mqSv5ekXLyy2b9t2pyGKiFMknZKnaymnZtkjIm7psu9s29crDQaQUvaOD3faJwd1lwM8jpkE1yoAxg/ffwCYfNy9yNyqjtIDAAAjxvbySmnFa51bj0nasUNgx6JKGTBqPxpOkrRFRFzS3AkUETdKeovq6WCtFJQwDMsq3bB/XRnYIUkR8UREfE6NAQ272l64VUW2t1FjZotTJe1QBmDkem9TCrg4qdi8s+03TnC926keYCNJ34qIPZszk0TEtZJeK+lSpaCL8bacUvaLzSKiIeAhIh6LiC8rZcioWUWNUwY1K0fiXdO2VGfLKL3u25eBHblNt0naXtJDedMCkn4u6TmS3hcRnyoDO/I+v1bjOayhuafFGUVvLpa/EhFfbhUsE8nVEXGApJdWrPvqYnkBpYwoAAAAAMbuyGL5XXkgQyc7q579cI6koU6lCgAAgIlBcAcAAJOQ7TUk/VYp84OUplV5bUSc02G396h+4/8mSXtHxDPtCucb9vtJqt30Xtf2VmNqeH8eljQzIp7uUObLxfKian+z+kPF8t1KN/Zbjm7I29+vNLVHTbvRU+NV7/uL5VslfaJNOUXE45LerTS9yET4ZKcRaBHxfaXMFzXvsb1Am+LrFMt/a1OmmwfV+XW/V9L3i00LSLogIo5uV2HOVFO2Z9M+2zaRnl8sV5reptPfgSa3KXUc16xXtVEAAAAAOjpJ0iN5eSlJb+9SvpyS5cyIuGdcWgUAAICRQnAHAACTjO2NlAI7Vs+bbpW0aUT8rsuuM4vlwyPiyW7Hioh/Szqz2PS6Hpo6KKdHxP2dCkTEXyWV2SzWbS6TpwvZpth0bD6/TvU+ojTdSc1WthefoHoXkfT6pnqf6FLvnyX9olOZAblf9awunRxeLC8rafPmAnl6kFWLTf/ss02nd3vdJTV/R46pUG+5zzptS42Ocj7vqhk5KsmBM+X7M2OQ9QMAAADTVb6WKa+x9mlX1vaLJG1WbDpqvNoFAACA0UJwBwAAk4jtNyjNN1zLwHG1pFfmm/qd9ltS0ouLTb0EAJRTMWzYttT4+U3FcrcXy0u2eH4jSfMV652ynJTOLpbnkbTJBNX7cknzFus/rVjveRXLjcWvImJO92K6RCnzSk3zOUrSEkpZNGo6BvJ0cGmFMnc1rVfZ585ieanqzRmay4vlL9h+b56Pe1AeKJaXH2C9AAAAwHR3RLH8KtvtMuWVgR9/jYgLx7FNAAAAGCHzdS8CAABGxJskfVb1/78vlLRDhWwFUgrsKIM6D7dddSqG5xXLy7UtNX6ab8i382ix/JwWz69RLIekayrWe73SVCe1130NNQbHjFe9azXV+6eK9V5bsdxYVDpGRITt6yS9Mm9aq0WxRZrWH29Rpooqn5PHxrhPq8/VqPmmpHcpBcwsqJSd5Ku2z5d0sVImkj/2MBVLs/L1aH7vAAAAAPQpIq6x/RtJr86b9pH0wbKM7YWUfu/XtJ1mEgAAAFMPwR0AAEweLy+W50jap2JghyQt07Te7/QqS/S531h0nT6mBbfYVmZdeKTbFCc1ETHH9kOqv4bN2Rsmqt6qr8N9FcuNRS/HKMtWyXzR6r2r4qled4iIXvfpt20TJiKus72r0pzdi+bNi0t6W35I0r9t/zKX+XGebqWqkX8NAAAAgEnsCNWDO3a3/cmIKAOsd5a0dF5+QtKsCWwbAAAAhoxpWQAAmDwuUD2rwfySfmH7BRX3HdQI+8n826GcmqLXm/plYMVCE1RvOVVJL/X2EwzTq37b02p6kEeb1hfuvTkoRcSZSllSviLpjhZFFpf0VklnSbrS9jo9VF++P83vHQAAAKaXcqrGfqYCbL4G6jlgewo6Q9I9eXkJSbs0PV9OyXJGRPQ7rSUAAAAmocl8gwYAgOnmEknbqX5DdVVJF9leo/0u//Fg0/rSEeE+HjMGeD4TrXwNFutx38Xb1DOe9ZZZWXqpd/HuRcas3/Y81OL5h9TYibt0izLoUUTcGRGfiIjnSVpXqRP4FM0d7LGB0t+RVSpWXb4/97QtBQAAgOmgvIZZtG2p9pqvKx4YQ1umhJxd8Lhi03+COXJQ9qbFc0dNVLsAAAAwGgjuAABgEomI2ZK2lfRw3vR8pRuzL+yy611N6ysMuGmTQXkjegHbK1fZyfbyauyobL6hPV713t1U70pV6pW0WsVyY1E1Y4zU2J67m5/MU4LcWmyq9Pqhuoi4PiKOiYjdlV7fV0k6ryiyrKTPdavHtiWVn8NbBtlOAAAATDr3Fsur5t+LvWi+rri3Zanp52hJz+blTWyvn5fLrB3XRcRvJrZZAAAAGDaCOwAAmGQi4teStlE9C8JKkmZ3mVrhGjVOofDKcWreKPtD0/qrKu7XXO6KIdW7ScV6q5Ybi0rHsL2sGoM7ms+p5k/FcpVMNOhTJJdKeouki4unXl9h91WVpoSquXaQbQMAAMCkU/6+X0y9/5bfoFi+PSL+1aLMs+VKHwEkE+3ZpvWe2xsRt6oxGHsf2wtJ2r3YdnQfbQMAAMAkR3AHAACTUET8TtLrVE9b+1ylAI+XtCk/R9Ivi03vGd8Wjp6I+Luk24tNu7cr22SPYvluSX+ZoHpvaqr3Hd0qtD2fpLdXPP5YbGx79Qrl3qnGzsyL25S7vFhu+RnGYEXEs5LOKjY9t8Ju6xfLTykFjQEAAGD6av59v3PVHXPGw1cUmy5pU/TRpvWFqx5jSAbV3iOK5d0kvVvSUsUxTu6zXgAAAExiBHcAADBJRcQVkrZSPXXtcpIusP3SNrt8pVh+le19x7N9I+rYYvlNtrfsVNj2ZpJ2KPfP04hMVL2ziuWdbG/UqV5J75e0Spcyg3JopydtLyHp08Wm2TlgpZXZxfIL877oQ48jGctpge6vUL7M2PKbPB84AAAApq9fSbq5WP+I7WUq7nuwGgPBj2lT7s6m9TUr1j8sD0p6oljvt73nS6pdPy0u6avFc6dHxENz7wIAAICpjuAOAAAmsYi4StKWku7Jm5aR9KtWQQB5Pt7Ti03ftv3JnO2hLdvz236L7Qttrzqotg/JEZLKVL8/sP3yVgVzkMwZxab7JH1rguv9tlLnoJR+t51p+0Vt6t1ejQE8421n2we3CiawvaSks9WYDeJ/O9T1e9WDC+aVtNnAWjn9XGN7pu1FOhWyvZqk/YpNF1aouwxa+kk/jQMAAMDUERHPSPpisWk5ST/LWTlasj2f7YMkzSw2XxwRs9sc4w5JdxWbPmx73r4bPc7ya3JVsWm/PKVKr/WEpKOKTWUGEKZkAQAAmKY63swBAACt2X6ie6kGV0fEJt2L9S4irrO9hdKoqRWVUrX+wva2efqW0l6S1pL0MqWb6IcqdTZ9T9JlSgEKlrRkLrehpG0k1TIpjPr8xh1FxL2291IKPLBSMMzvbJ+sdLP6HqUOyW2Vpk2Zv7arpPdGxD1z1zqu9d5t+8OqZ/B4nqQ/2j5OaZqd+yWtLGknSW/NZU5Vmg5lPH1PafqXz0naxvYJStPKLChpY0n7SFqpKH9sRPyqXWUR8YztH6k+XdAbJZ0zHg2fBtaTdIKk79j+hVLgzA2qB8+spBQ8s7vqmTuekvR/nSq1vaykWtBYSPrBYJsNAACAySgijrP9WtWnkdxQ0o35GnO20lSTTypdI20oaRdJaxRV/Evdr19OkfSxvDxT0na2r5X0SFHmgog4vP8zGahTVJ9yZhtJd9q+StK/lX5LS9J1EfG5LvUcr5ThpAwOuTIiLm9THgAAAFMcwR0AAPRnwXEu35OIuCEHeFygFACwhKSf294uIn5dlHvM9uZKwQI75c2rSPr4eLZvlETEObbfIekkSQso/R7aMz9amSNpZkScOaR6T7S9ouo33xdSmn7l/S2K/0TS5zX+wR0/k3SN0ii9jfOjnbPUmCGinRNVD+7YwfZ+EfHsmFo5vT1H0vb50ckTknaLiGu7lNtBKSBMSiMrbx1j+wAAADB17KEUTFy7Rlkob9ujy35/krRDRPyzS7mDJL1WUm0K0uXzeulBjY6jJb1Z0uvz+pKStmgqs2S3SiLi/hwkU76OR7UrDwAAgKmPaVkAAJgiIuKvSiPyb8ubFlNKibtFU7lHImJnSW9QGkn1TJeqb5F0pKRNI+KWwbV4eCLie5JeIulHSkEWrTytlIlj/Yg4dcj1HqqU9eMvbYrcp5RF483q/n4OREQcImlHSX/r0KYPSdopIp6uUN+vlQJGJGkFpRFu6N37lYJ8Hu5S7glJp0l6cUT8qEK9/1UsH9ln2wAAADAFRcSciPiApNdIOlftr4Vq/qL0u3XDiGh3PVHW/7CkVyplCPypUjaQx8fU6HGUr3+2Uwq6P1PSzZIeVT1rRy/+WCw/rPQbHgAAANOU0/R9AABgurK9hKRXK03vsYxSh9NDSkEd10/1Efq2F5e0uaTnK42eekjSPyRdFBEPjWC9L1casbac0ui4myXNjoin+q2z4nFvkbRqXt0zImYVz20iaR2loIyHlTprZ1cJ6mg6xh6qT0FzVkTsOLZWjy7bM5TeO0m6NSJmDLj+eZXek7WUvtuLKgX+PKD0/lwREY+0r6GhrhdK+nNevU3SankucQAAAGAutheWtImk1SQtrZTZ8AGl6Sp/HxG3D7F5k4rtK1XPWHJkRFTJighg+uFGHwBMPu5rJ4I7AAAA0E2n4I4BHmM+pSCC1ZUCEdaKiL8P+jijYLyDOwbJ9hGS3pdX942Io4fZHgAAAGA6yEH0vys2rR8R17QrD2Ba40YfAEw+fQV3MC0LAAAARkLO9PGFvDqvpI8PsTmQZPu5kvbMqzdJOn6IzQEAAACmk88WyxcR2AEAAACCOwAAADBKTpV0WV5+d85wgeH5rKSF8vLHI6Lb/OkAAAAAxsj2fpLeXGz64rDaAgAAgNFBcAcAAABGRqQ5A/eT9KzS3NyHDLdF05ft1SXtk1fPj4gzh9keAAAAYKqyvavts2yfZ/tvkr5TPP2TiPjFsNoGAACA0THfsBsAAAAAlCLiD0rTsmCIIuImpQAbAAAAAOPrRZK2b7H9ZknvmeC2AAAAYEQR3AFkP/vTv2LYbRh12667nIfdBgAAgOns+gevmrS/WddZcgN+SwIAAHT3lKRbJP1Y0v9FxP3DbQ4AAABGBcEdAAAA6CoiZgy7DQAAAAAwFUXEAZIOGHIzAAAAMOII7gAAAAAm3oOSDiyWAQAAAAAAAABoi+AOAAAAYIJFxINiZB4AAAAAAAAAoKJ5ht0AAAAAAAAAAAAAAAAAtEdwBwAAAAAAAAAAAAAAwAgjuAMAAAAAAAAAAAAAAGCEEdwBAAAAAAAAAAAAAAAwwgjuAAAAAAAAAAAAAAAAGGEEdwAAAAAAAAAAAAAAAIwwgjsAAAAAAAAAAAAAcUCkTQAAIABJREFUAABGGMEdAAAAAAAAAAAAAAAAI4zgDgAAAAAAAAAAAAAAgBFGcAcAAAAAAAAAAAAAAMAII7gDAAAAAAAAAAAAAABghBHcAQAAAAAAAAAAAAAAMMII7gAAAAAAAAAAAAAAABhhBHcAAAAAAAAAAAAAAACMMII7AAAAAAAAAAAAAAAARhjBHQAAAAAAAAAAAAAAACOM4A4AAAAAAAAAAAAAAIARRnAHAAAAAAAAAAAAAADACCO4AwAAAAAAAAAAAAAAYIQR3AEAAAAAAAAAAAAAADDC5ht2AwAAGA9z9tsuht0GAEDv5j/iJx52GwAAQBOL6ytMWebTjSksJK6vAACYQsjcAQAAAAAAAAAAAAAAMMII7gAAAAAAAAAAAAAAABhhBHcAAAAAAAAAAAAAAACMMII7AAAAAAAAAAAAAAAARhjBHQAAAAAAAAAAAAAAACOM4A4AAAAAAAAAAAAAAIARRnAHAAAAAAAAAAAAAADACCO4AwAAAAAAAAAAAAAAYIQR3AEAAAAAAAAAAAAAADDCCO4AAAAAAAAAAAAAAAAYYQR3AAAAAAAAAAAAAAAAjDCCOwAAAAAAAAAAAAAAAEYYwR0AAAAAAAAAAAAAAAAjjOAOAAAAAAAAAAAAAACAEUZwBwDg/7N353FSVWfi/z+nu2maVXYXEHCXxR2jxh1RUWPckGjURHFJ4ugkY+L8vhkTNROTjMaZxMwkinEhZkwkhriMChiFuAfjhqKiIiqLIouN0EDT2/n9cYvuoqle6IWuqv68fdWrTtU995yn5FZX3aqnniNJkiRJkiRJkiQpi5ncIUmSJEmSJEmSJEmSlMVM7pAkSZIkSZIkSZIkScpiJndIkiRJkiRJkiRJkiRlMZM7JEmSJEmSJEmSJEmSspjJHZIkSZIkSZIkSZIkSVnM5A5JkiRJkiRJkiRJkqQsZnKHJEmSJEmSJEmSJElSFjO5Q5IkSZIkSZIkSZIkKYuZ3CFJkiRJkiRJkiRJkpTFTO6QJEmSJEmSJEmSJEnKYiZ3SJIkSZIkSZIkSZIkZTGTOyRJkiRJkiRJkiRJkrKYyR2SJEmSJEmSJEmSJElZzOQOSZIkSZIkSZIkSZKkLGZyhyRJkiRJkiRJkiRJUhYzuUOSJEmSJEmSJEmSJCmLmdwhSZIkSZIkSZIkSZKUxUzukCRJkiRJkiRJkiRJymImd0iSJEmSJEmSJEmSJGUxkzskSZIkSZIkSZIkSZKymMkdkiRJkiRJkiRJkiRJWczkDkmSJEmSJEmSJEmSpCxmcockSZIkSZIkSZIkSVIWM7lDkiRJkiRJkiRJkiQpi5ncIUmSJEmSJEmSJEmSlMVM7pAkSZIkSZIkSZIkScpiJndIkiRJkiRJkiRJkiRlMZM7JEmSJEmSJEmSJEmSspjJHZIkSZIkSZIkSZIkSVnM5A5JkiRJkiRJkiRJkqQsZnKHJEmSJEmSJEmSJElSFjO5Q5IkSZIkSZIkSZIkKYuZ3CFJkiRJkiRJkiRJkpTFTO6QJEmSJEmSJEmSJEnKYiZ3SJIkSZIkSZIkSZIkZTGTOyRJkiRJkiRJkiRJkrKYyR2SJEmSJEmSJEmSJElZzOQOSZIkSZIkSZIkSZKkLGZyhyRJkiRJkiRJkiRJUhYzuSMPhcRXQgiPhBCWhBA2hhA+CSE8GUK4JIRQ1EbzdA8hjA8h/DCE8HAIYV4IYVkIoSKEsDaE8F4IYWoI4ewQQuFWjNslhHBpKt5PUvEvCSH8X+pxhbaIX5IkSVJu21bnPqm5uocQDgshXBlCmJI6/6kKIcTU5ZgWjHlkaqz3Qghlqcu7IYTbQwiHtFXskiRJkiRJyn1t9kGXskMIoS/wZ2BsvU07pC5jgW+FEM6IMS5q5XRHAdMb2NYF2D11mQi8HkL4SoxxfmMDhhCGA38BDqi3aXDq8iXgkhDC2THG1S0PXZIkSVIu28bnPgCLgX5tMA4hhB7AHcA5GTbvkbpcEkL4FXBVjLGmLeaVJEmSJElS7jK5I4+EEIqBh4AjU3ctBm4HFgBDgEnACOBAYHoI4bAY45o2mPot4EVgPrAEKAf6pOY5h+QD0H2Bp0II+8UYlzUQfx+SZJG9U3e9DdyVGnN34DJgZ2Ac8JcQwgkxxqo2iF+SJElSDumgc5/61QgXAcUkiSTNlqpqOA04MXXXOuBuYA5QQ5LofjHQF/g2EFLXkiRJkiRJ6sRM7sgv36Luw81XgHExxtJNG0MI/wM8SPIh4kjgh8DVrZjvH8BOMcZPGth+Zwjhh8BjwCHAIOC6VJyZXEddYscM4IwYY3la/L8BniD5sPNY4BvAr1sRvyRJkqTctK3PfSBJJnkHeBl4Oca4MoQwBfj6Vo5zGXWJHUuAY2OMC9K2/yGE8F/ALJLzo38OIUyLMT7dquglSZIkSZKU0wo6OgC1jdRa0tekbkbga+kfbgKkEiW+RvLLMIArQwj9WzpnjHFVI4kdm/p8xubJHKdk6hdCGARcnrq5Dvh6emJH2lhfI3l8AD9I/epNkiRJUifREec+qTG/HmP8aYxxZoxxZSuG+ue09rfqJXZsmusTNk8a+Ukr5pMkSZIkSVIeMLkjf4wFBqbaT8YY38zUKca4HLgvdbMrcNo2iO2ttHZDJYtPJylpDPDHVJxbiDHOI/kF26axjm6TCCVJkiTlimw+92lUCGFH6qoVfgY82lDfGOOmpS8BDg8hDG3n8CRJkiRJkpTFTO7IHyektWc00Td9+/h2iKW+3dLayxrok83xS5IkScoeuXzuMCSt/V6MMTbYM/Fu6joAJ7VPSJIkSZIkScoFJnfkj9Fp7Zeb6PtSA/u1uRBCD+BXaXf9pYGuWRm/JEmSpKyTy+cOoRX77tNmUUiSJEmSJCnnFHV0AGoze6a1P2yi7xKgGigE9gghhGb8YqxRIYSewLhNN4HewL7AucCOqftfA67PsG8BddU9qlPxNeajtPaeDfaSJEmSlI869NynldIrGTYnnvTHulc7xSRJkiRJkqQcYHJH/uiT1l7ZWMcYY1UIYQ3Ql+QY6AGUtXL+IcADDWz7DPgd8IMY4/oM23tSdyyujjFWNTHXqrR2nwZ7SZIkScpHHX3u02IxxkUhhCUk50/9gJOBRzP1DSGMAfZOu8tzH0mSJEmSpE7MZVnyR8+0dnkz+m9Ia/dq41jqex54qt6c6bI5dkmSJEnZJdfPH36b1r41hLBr/Q4hhO1JEuTT9W7XqCRJkiRJkpTVTO5Qm4gxzo8xhhhjIPlF3PbAqcBM4EvAg8CfQgg9OjBMSZIkSepo/wW8mWrvDLwWQrglhHBeCOHcEMKNwFvASGBh2n412zhOSZIkSZIkZRGXZckfZSSlhgFKaLrUcLe09tq2DCTGWA0sBx4BHgkh/Bj4ATABiMDEerukx1rSjCnaLXZJkiRJWS9rzn1aIsZYFkIYT7Ks5RiSaiL/nKHrDGAKcF/qduk2CVCSJEmSJElZycod+WN1WntAYx1DCEXUlfStBNa1V1Ap1wHvptpnhxBG1tteBlSl2n1S8TWmf1p7dYO9JEmSJOWjbD73aZYY4xLgUOB8kqT4ZUAFsAqYlbr/ZKB72m7LtnGYkiRJkiRJyiImd+SPd9Paw5voOwQoTLUXxBhju0SUEmOsAf6adtfRGba/n7pZmIqvMcPS2u822EuSJElSPsrac5+tEWOsjjHeG2M8Nca4Y4yxa4xxQIzxuNT9kWRplk3+0VGxSpIkSZIkqeOZ3JE/5qW1D2qi75gG9mtP6eWP+2TYnu3xS5IkScoOnencIT0x/pkOi0KSJEmSJEkdzuSO/DEzrX1iE33Hp7VntEMsmeye1l6ZYXu2xy9JkiQpO3SKc4cQwijg4NTNd2KMz3ZkPJIkSZIkSepYJnfkj9nAilR7XOqDwC2EEAYB56RulgMPtXdgIYQhJOtFb/J8hm4PkqwxDXBuKs5MY40GxqZuLgOeaqs4JUmSJOWErD33aSshhELgV2l33dxRsUiSJEmSJCk7mNyRJ2KMVcBPUjcDcE8IoW96nxBCCfA7oEfqrv+JMa7KNF4IYUoIIaYu1zfQ58YQwrDG4goh7AY8AnRP3fVUjPHNDPGvAH6TutkTmJKKN32svsA9qccHcEOMsbqx+SVJkiTll44492lrIYQjUgkcmbb1Bv6XuqT22cCd2yIuSZIkSZIkZa+ijg5AbepW4CzgSOBAYG4IYTKwABgCXAyMSPV9C7ihlfN9A7g6hPB3kmoc7wCrSY6rnYAjSCp2FKf6LwMuaWS8H5GUTd4bOAl4JYRwB7CUZFmXbwA7p/r+Dbi9lfFLkiRJyk3b+tyHEMJY6hIuNjkgrX1xCGFcve03xxhXZxjuNqBfCOFR4BWSSiS9gf2BrwCbKhnOA86JMcbWxi9JkiRJkqTcZnJHHokxVoQQTgP+TPKh485k/hDzFeCMGOPnbTBtAA5LXRrzN+CSGOP7DXWIMa4OIZwE/IXkQ9IRwH9m6PoEcHaMsbJFEUuSJEnKaR107nMUcE0j28/PcN8dJAnwmexI48nv04BvxhhXNi88SZIkSZIk5TOTO/JMjLE09WuxicAFJEkSA4BS4E3gPuDuVCnj1tofOBH4IrAPMBTYDqgGPgfeB/4B/CnG+Fwz4/8whHAIcCHJ+tijgL7ASuBV4Pep8fzlmiRJktSJbeNzn7Z2OUmVwyNIzqMGAeXAxySJ8fc29xxKkiRJkiRJnUPwO3IpMePNFT4ZmjB+1MDQ0TFIzVV5+ck+pyUpB3X5zWO+32jEW6tfy9nXt5F99vffVpJyVSBnX3+kpgSPbuWxmFTeVv7zL5kk5Z4WvUZbuUOSpDwTY+T+95fxh3eXMnflGlZsqKBfSTEj+vbkK7vvyNf2HkxRQUGbzFV86/Rm971gr8HcOXbfJvtVVtdwzztL+dOCT3i7tIzPyisY2K2Y/Qb05qt7Dubs3XYgBD+b6Kw8viVJkrStfM7nzGQms5nNK7zCAhawhjX0pCdDGcrhHM5FXMTBHNym865jHZOZzDSm8R7vsYY1bM/2HMqhTGISJ3Jis8eqpJIpTOE+7uMt3uIzPmMgAzmAAzif85nIRILf/aqyEp55Bv7xj+Ty3nuwciWsWgWFhTBwIOy/P5x2GpxzDnTr1rbzr1gBt90GDz4IH3wA5eWw445w9NFw2WVw6KHNH2vdOpg8GaZNSx7HmjWw/fbJGJMmwYnNf/5IkiRlGyt3SClW7mialTuUSzpr5Y7SjZWcM/NVZi9d1WCfAwb05v7xBzK0V+s/jGnrL78/XLOeiTNf5bWVaxrsc9yQ/vzxhAPo07VLs+dWfvD47hys3NE4K3dIkjpEJ6zccRM3cS3XspGNTfY9n/OZzGS6073V877Kq0xgAgtZ2GCf8ziPu7iLYoobHetDPuRMzuRVXm2wzzjGcT/304c+LY4511m5A5g/H0aMaF7f4cPh3nvhi19sm7mfeALOOw+WL8+8PQT47nfh5z9veqxXX4UJE2Bhw88fzjsP7roLiht//uQLK3d0Gv4lk6TcY+UOSZI6s4rqGs6a/jLPflIKwM49S7h45M7s1rs7S9eVM2X+EuaXruPVlWs49dGXeObMQ+ld3DZfII/s25MfHbJno32G9ixpdPvqjZWc+uhLvLN6HQB79+3BhXsPYXCPEt5fs54731rM4rJynlyyiokzXuGxUw9uswoNyn4e35IkSdqW3uXd2sSOXdmVcYxjf/ZnAAMopZQneZJpTKOaav6X/2U5y5nOdApo+Xu4j/iIkziJT/kUgC/wBc7nfAYwgDd4g9u5nVWs4l7uJRD4Pb9vcKzVrOYkTmI+8wEYwQgmMYkhDGEBC7id21nMYp7gCc7kTB7ncYr8qFi77gqHHAKjRsHQodC9O6xdC2+8AVOnwtKl8OGHcPzxMGcOjB7duvlefjmpBrJ+fXL7+OPhrLOgZ0948UW4886kEsfNN0PXrnDDDQ2P9dFHcNJJ8Gny/OELX4Dzz4cBA5L4b789qURy771JwsjvG37+SJIkZSsrd0gpVu5ompU7lEs6Y+WO/379Q7773NtAUr1gxpe/QN+0X/+XV1UzYcYrPL54JQBX7bcL//HFvVs156bKBkft1I8nTjukVWN977m3+dXrHwJw4s4DuH/8gZQUFdZu/6y8gvH/94/aqge3HDmSb40e1qo5lTs8vjsPK3c0zsodkqQO0Qkrd1zKpXzCJ1zN1RzN0Rn7PMMznMzJlFEGwF3cxUVc1OI5z+AMHuRBACYxid/y282SRT7iI47iKBaxCIBHeIRTOCXjWP/Cv/BLfgnAeMbzAA9QQl1C8md8xjjG1Vb1+B/+h3/in1ocey6zcgdJAsXy5bDLLg332bAhWZLl4YeT2+PHw/TmVzvcQowwZgy88kpy+/rr4brrNu8zdy4cdVSytEpBAbz2GuyzT+bxzjgjWdYFkuVXfvvbZJ9NPvooGWtR8vzhkUfglMzPn3xi5Y5Ow79kkpR7WvQa7c8BJakTCyFMCSHEEMKUdhj7yBDCoyGEFSGE6tQ8D7b1PEpU1dTwHy+/DyTvCO46bt/NvvgGKCkq5K6x+9Ij9YXyr+d9xKryim0dakbL12/ktnkfAdCjqJA7x+672RffAP1Kirlr7L6173h+9vL7VNd47toZeHxLkqRc4PlVfrmJm3iERxpM7AA4kiP5GT+rvT2FKS2eby5zaxM7hjKUX/PrLaqADGMYt3Jr7e3ruT7jWMtZzm/4DQA96MHv+N1miR0A/ejHPdxDSL0DvYEbqKa6xfErx/Xo0XhiB0C3bnDHHVCYOpd54gmoaMU518MP1yV2HHIIXHvtln322w9+lnqO1dTAv/975rHmzq1L7Bg6FH79680TOwCGDYNb654/XH99y2OXJEnqICZ3SJLaXAjhUGAWcDLQH/gM+BQoTW2/PnUZ3lEx5pvZS1exIvVF9tgh/RnVr1fGfoO6d2Xi7jsCsLG6hv/74NNtFmNjHv7wUypSX2R/ZY8dGdS9a8Z+o/v34tjB/QFYtn4jT3/82TaLUR3H41uSJHVmnl91jL70bVa/szm7tv0Gb7R4vqlMrW1fxmVbJGNschInsTu7A/ASL7GQhVv0eZAHqSB5/3wu5zKIQRnHGs1oxjIWgGUs4ymeanH86iQGDkwuAFVVsHJly8eaWnfMc+WVyVIpmVx4IfTunbQffTSpMtLYWJddBiUNLJt50kmwe/L84aWXYOGWzx9JkqRsZnKHJKk9fAcoAp4DBsQYB8YYd4gxbqpPe13qMryD4ss7TyxeVds+YeeBjfY9YeiA2vbMxa34IKYN/TUtjq2Lf0W7xaTs4fEtSZI6Oc+vslgv6hKPN7ChxeM8zuO17fGMb7BfIHAiJ9bensGMFo9Vf3umsaTNfP45rEqdn3XpAv36tXysx+uOU048seF+3bvDkUcm7Q0b4KkMSUjpY41v5JgPYfO5ZnjMS5Kk3FLU0QFIkvLSpgVQ74sx+tPzbeDNz9bWtg8c2LvRvgcN3C7jfq3x7up1HPPA35lfWsbayir6du3Cnn16cOzg/lw6aig7NFCpoC6Ostr21sT/Vtp+yl8e35IkqZPz/CqLzWNebXsYw1o0Rg01vMVbABRRxH7s12j/MYzJOH+m+w7ioFaNJdWqqoIrroDKyuT2ySc3XCGjKcuW1SWJDBsGAwY03n/MmKRqB8C8ecncm9TUwFvJ84eiomQpl6bG2mSex7wkScotJndIktpD99S130xuI++tritLOqxXt0b7DulZQmEIVMfIgs/XE2MkNFT+tJmWrd/IsvUba28v31DB8g0VPPtJKTe9upCfHroXV+47POO+NTGycM16AApDYEjPxj8cGpr2+NIft/KXx7ckSerkPL/KYrdze237FE5p0RhLWFJb9WMwgylq4iPb9CSSd3l3s2011PA+7wNQSCFDGNLisdRJ1dTAww/X3S4rg7ffTpY+eT85thg+HG65peVzvJt2rA0f3nT/YWmJU+/WO06XLEkqegAMHpwkeLR0LEmSpCxncockqUGpNZu/AxwPDCNZzmsRMBP4zxjjonr9Y70h7g4h3J12+3fA19Nuz673petHMcbhbRF7Z7O6oqq2PaBbcaN9iwoK6F1cROnGSqpqIuuqqunZpeVvCXbr3Z1xOw9gn/696FfShQ1VNbz12VoeWLiMhWs2sLG6hu8+9zaflVdy3Rf22GL/ssoqqmqSQ6dP1yKKChpfNa5/SZfa9uqKyhbHrdzh8S1JkvKB51f553me526Sf5ISSvgX/qVF46xmdW17AE1UMAD60z/jvgBllFFF8v65D32aTBRpbCx1UhUVcMYZmbf17AkTJ8KNNzZdbaMxq9OOteaM07/uON1s37YeS5IkKcuZ3CFJyiiEcB5wJ7BpvYGNQA2wV+pyUQhhQowxbWFTPk1dDyT5oHINbLbocHWqz/ap26VARdr2FW35GDqTssq6L79LChv/8higW1EBpalCBGsrqlr85feTpx3CkTtlXmP3hkP24t9feo+fvZz8sucnLy9g3M79OXzHzfuXVVZvXeyFhbXttWlf+it/eXxLkqRc5/lV/lnGMiYykRpqAPgxP26ySkZDytKKspTQ9DIX3air9raWzZcibMuxpC3svz+MHQvbbdd038aUpRUias7SLt3SKjiurXectuVYkiRJWa7pT5glSZ1OCOF44B6gELgJ2AXoBvQA9gbuB3oB94cQhm7aL8a4Q4xxB2Bx6q5vb7ovdbk4tX2TM+ttP3gbPDy1oYa++AYoLAj86At7cvGInWvv+4/UF+FSLvD4liRJbcHzq/yzjnWcxmksZSmQLMfyXb7bwVFJbaSkBGJMLjU1sGoVPPkknHsuPPssnH8+jBsHK8wfkyRJ2tas3CFJ2kwIoQD4NUkC4LdijLfX6/IOMDGE8BDwZeAqktLC2yq+l5vTr+JbJ7V3KFmlZ5dkGQqA8uoaejax9MOGqpradq/i9n078MODd+eutxcTgb99/BkbqqrpVlRXnaBnl7p2eXVNhhE2t6G6rhJCe8eu7ODxLUmSclW+nF9F6q8Q03mVU86X+TIv8iIAh3M4U5lKIDSxZ8N60nOz8ZuyIa2ASy96tdtYynHz5yeXhhx4IAwd2vB2gBCgX7+kWsemy6WXwtNPw6mnwgsvJH22Vs+645Typo9TNqQVLepV7zhty7EkSZKynJU7JEn1HQXsAawE7mik3z2p6xPbPSI1qU/al8ArN1Q00hOqampYk1ruoUtBoEfaF9HtYaceJezRpwcAG6tr+GDN+s229+xSRFFB8mHQ6o1VVNU0/gX4qvLK2naf4i5tHK2ykce3JEnKYZ5f5ZEKKjiTM5nFLAC+wBd4jMfoQY9WjduHPrXtlaxssv8qVmXcF5LkjqLU7/lWs5oqGl/qr7GxlOPuuw/OOKPhy6xZWz/mJZfAcccl7TlzYMaMlsXWJ+1YW9n0Mc+quuN0s33beixJkqQs588BJUn1HZ663g74ODT8C4zi1PWwdo8oTYzxoOb0q7z85E7107I9+vTgg7XJr08+WruB4b27N9h3SVk51TH537Pbdt1p5N+4zfQvqfuS+vOKzT9cLAiBXXt3593V66iOkSVl5Y3Gv2ht3a9sNn2prvzm8S1JknJYXpxfESzdUUklZ3M205kOwAEcwAxm0JverR57CEPoRjc2sIGlLKWKqtoEjUw+4qPa9p7sudm2AgrYjd14h3eoppolLGE4w1s0lpTR+PHJMi0Af/sbnNSCyql7ph1rH37YdP+P6o7TzfYFGDIEunVLKnIsXQpVVVDUyNcejY0lSZKU5azcIUmqb6fUdRdg+0YufVP9um3rALWlUf3qSom+smJNo31fXvF5xv3aU3o1gu0yLDUxql9dGdWtiX9k2n7KXx7fkiQph3l+lQeqqOJczuVhHgZgH/bhr/yVvrX/bK1TQAEjGVk711zmNtr/JV6qbY9m9Bbb0+97mcZX3mlqLOWw66+HGBu+XHhhy8ZNX8pk9eqWjbHDDtC/f9JetKjpihsv1R2njK53nBYUwMjk+UNVFcxt/PnT6FiSJElZzuQOSVJ9m9YwmBNjDM25dGi0AuD4nQfUtv+6eEWjfR9fVPehyYlp+7WXT9aV897qdQAUFwSG9dry8+oTdh5Y2/7r4sY/1Nk8/oGN9FS+8PiWJEk5zPOrHFdNNedzPtOYBsBIRvIET9Cf/m06z4lpK/LMZGaD/SJxs+3jGd/isQBmULesRqaxpC0sWFDXHtCKc64TU8dpjPD44w33W78ennkmaXfrBkcf3fBYADMbOeZj3Hz7eI95SZKUW0zukCTVtyx1vU3LAat1jhncj4ElSSXnJ5es4s3P1mbst3z9Rv604BMASgoLOHWX7ds9th+/tKC2hvNRO/WjR5ctKxt8eZdBFBckn2NPXfAxy9dvzDjWvFVrmb00WR93h+5dOWqnfu0Ss7KLx7ckScphnl/lsBpqmMQkpjIVgL3Yiyd5kkEMavO5JjKxtj2ZyZRTnrHfdKazgOTL9TGMYVd23aLP6ZxOcWqlnz/yR5azPONY85jHLGYBsAM7cDQZvjSX0pWVwR/+UHf7i19s+Vhf+Upd+1e/ShIvMpkyBdakKiCecgr0yLB85cS65w+TJ0N55ucP06fXJaeMGQO7bvn8kSRJymYmd0iS6nsudb1DCGFMO82x6YzdX6W1kaKCAv7fQbsByf/cSU++TunGys36lFdVc/Gs11lXVQ3A5aOH0b+kuP5QAFw863WKb51O8a3T+fd/vJexzzV/f4dFazc0GFN1TeT6F9/ljrcW1963Kcb6BnbryjdHJ593l1VWc8nsNyhPxblJ6cZKJs16vfbg+f5Bu1FY4CHUGXh8S5KkHOb5VY6KRL7BN7iHewDYnd2ZxSx2YIetHutCLiSk/rue6zP22Y/9OJ3TAVjEIq7gCmqo2azPIhbxLb5Ve7uhsQYykMu5HIAyyri7fZrLAAAgAElEQVSQC7dIFimllK/xNWLq8PkBP6CwttCMOp0f/xjefLPxPp9+CqefDh9/nNzeYw84/vjMfY85BkJILlOmZO5z6qlw4IFJe86cJIb6Xn8d/u3fknZBAVx7beax9tsviQ2SZV6uuAJqNn/+sGgRfKvu+cP112ceS5IkKYtt+dNCSVJnNxtYAOwO/CKEcFyMsaKhziGEfjHGz7ZyjjXAdkCfloep+r4xaigPLFzGs5+U8urKNYz507NcMnJndtuuB0vLyrl7/mLmlybLR4zo25PvN/BFdHPd/uYibn51IYft0JfDdujDnn160Lu4iA1VNbxdWsa09z9h4Zq6L8f/34G7cdRODZcu/sGY3Zm5aAXvrF7HjEUr+MKfn2PSiJ3ZqUcJ73++jjveWszisuQDyaN36sclI3ZuVfzKLR7fkiQpR3l+laOu4Rru4A4AutCFb/NtXuTFJvc7gRPoTvcWzflLfskLvMCnfMqd3Mk85nEBF9Cf/rzBG0xmMqtIKr2dx3mcwikNjnUd1zGDGcxnPtOZzoEcyCVcwmAGs4AFTGYyi0kSlY/hGC7jshbFrDwxbVqSOLHffnDUUTByJPTrl1TT+PTTJPnioYdgXXLORc+e8LvfQXHmhPpmCQFuvz2Zb/16uO46eO45mDAhqc7x4otwxx11c37/+7DPPg2P98tfwgsvJPHeeSfMmwcXXAD9+8MbbyQVPVYlzx/OOy+pAiJJkpRjTO6QJG0mxlgVQvgmMAM4Ang6hHAN8HSMsRIghLArcAJwMfAQcMNWTjMPOBw4L4QwM8a4vs0eQCdWXFjAtJMO4pyZrzJ76SoWl5Vz3YtbViU4YEBv7h9/INt17dLqOSPw/LJSnl9W2mCf7kWF/PTQvbh8n8YrUffp2oX/O2UME2e+ymsr1zC/dB3/+vz8LfodN6Q/fzzhALoUWoCsM/H4liRJucjzq9z1PM/Xtiup5EqubNZ+H/ABwxneojmHMYzpTGcCE1jIQuak/qvvq3yVu7ir0bH60IfpTOdMzuRVXuVt3ua7fHeLfuMYx/3cTxda//5ZeWDu3OTSmP33T5InNlXdaI2DDkqSRr76VVixAh5/PLmkCwGuuipzZY90w4Yly65MmAALFyYJKXO2fP7w1a/CXY0/fyRJkrKVyR2SpC3EGJ8MIZwN3AMcAjwBVIYQ1gA9ga5p3R9swRS3kXz4eBbw5RDCcqAKWBJjPKJVwXdyfbt2YcapB3P/+8v4w7tLeW3lGlZuqKBv1y6M7NeLibvvyNf3HkxRQeu/OH70Swfz/LJS/r5sNe99vo6VGypYVV5BYUGgf9di9unfi2OH9Odrew2mXwPLY9Q3vHd3njvzMO55Zyl/WvAJb322ltKNlQzoVsz+A3rz1T0Hc/ZuOxCCFac7I49vSZKUizy/0tY4gAN4ndeZzGT+zJ95j/dYy1oGMYhDOZRJTGI845s11nCGM4c5TGEK93Efb/ImpZQygAEcwAFcwAVMZCLBFX00YwbMnJlUzpg7Fz74AFavThIrevdOEicOOgjOOgvGjUuWSGkr48YlS8LcemuS6LFwIZSXw047JVU9LrsMDjuseWMdcECylMvkyfDnP8N778HatTBoEBx6KEyaBOOb9/yRJEnKRiHG2HQvqROY8eYKnwxNGD9qoGf7eSaEMAX4OvC7GOOFGbYPAi4HTgL2AHoD64APgH8AjwKP1S8rHEL4EBgGXBRjnNLA3OcD3wD2AXoBBcBHMcbhrX5gQOXlJ/uclqQc1OU3j/l+oxFvrX4tZ1/fRvbZ339bSXktn8+vCOTs64/UlODRrTwWMXurk/AvmSTlnha9RpvcIaWY3NE0kzuUS0zukKTcZHJH40zukCR1CJM7lMdM7lA+M7mj0/AvmSTlnha9RruYtyRJkiRJkiRJkiRJUhYzuUOSJEmSJEmSJEmSJCmLmdwhSZIkSZIkSZIkSZKUxUzukCRJkiRJkiRJkiRJymImd0iSJEmSJEmSJEmSJGUxkzskSZIkSZIkSZIkSZKymMkdkiRJkiRJkiRJkiRJWczkDkmSJEmSJEmSJEmSpCxmcockSZIkSZIkSZIkSVIWM7lDkiRJkiRJkiRJkiQpi5ncIUmSJEmSJEmSJEmSlMVM7pAkSZIkSZIkSZIkScpiJndIkiRJkiRJkiRJkiRlMZM7JEmSJEmSJEmSJEmSspjJHZIkSZIkSZIkSZIkSVnM5A5JkiRJkiRJkiRJkqQsZnKHJEmSJEmSJEmSJElSFjO5Q5IkSZIkSZIkSZIkKYuZ3CFJkiRJkiRJkiRJkpTFTO6QJEmSJEmSJEmSJEnKYiZ3SJIkSZIkSZIkSZIkZTGTOyRJkiRJkiRJkiRJkrKYyR2SJEmSJEmSJEmSJElZrKijA5CkXBJC6AuMAw4B9gWGAX2BbsAG4DPgI+B1YA7wRIxxdcdEK0mSJEmSJEmSJCkfmNwhSU0IIXQDzgUuAI5gy6pHIXXdA+gP7EGSAAJQE0J4Gvg9MDXGuKH9I5YkSZIkSZIkSZKUT1yWRZIaEELoF0L4KbAY+C1wFFBIksyRflkLLAXKMmwrBI4B7gQWhxB+EkLot20fiSRJkiRJkiRJkqRcZuUOSaonhFAMXJ269KKuMscK4Fng7yRLrrwNlMYYq9L2LQL6ASNIlm45hKTax8DU/f8P+KcQwk3AzTHGim3xmCRJkiRJkiRJkiTlLpM7JGlLbwG7kCR1rAMeAu4FHo8xVje2YyrRY3nq8hRACKEQOB44HzgN6A38GLiIZAkXSZIkSZIkSZIkSWqQyR2StKVdgVLgF8AtMca1rRkslRAyA5gRQugFfBv4l9Q8kiRJkiRJkiRJktSogo4OQJKy0A+B4THGG1qb2FFfjHFtjPEGYDhwbVuOLUmSJEmSJEmSJCk/WblDkuqJMf5kG8yxFmj3eSRJkiRJkiRJkiTlPit3SJIkSZIkSZIkSZIkZTGTOyRJkiRJkiRJkiRJkrKYy7JIUhsLIYwCDif5Gzs3xvhcB4ckSZIkSZIkSZIkKYeZ3CFJzRRC2An4XurmlBjj6xn63AZcWu++p4EzY4yl7R+lJEmSJEmSJEmSpHzjsiyS1HznAt8hSd5YWH9jCOGfgcuAUO9yFPCnbRemJEmSJEmSJEmSpHxicockNd9RqevZMcay9A0hhCLg31I3NwI3A1cA/yBJ8BgbQjh5WwUqSZIkSZIkSZIkKX+Y3CFJzbcrEIE5GbaNBQaltn8zxvivMcbfAMcCS1N9vrpNopQkSZIkSZIkSZKUV0zukKTmG5C6/jDDtrGp6zXAvZvujDGuB/5AUr1jTHsGJ0mSJEmSJEmSJCk/mdwhSc3XL3W9PsO2w0mqdsyKMVbV2/ZO6npwewUmSZIkSZIkSZIkKX+Z3CFJzVeRut4u/c4QQgl1VTmezbDf56nrru0UlyRJkiRJkiRJkqQ8ZnKHJDXf0tT1AfXuH0dd4sbzGfbrk7oua4+gJEmSJEmSJEmSJOU3kzskqfn+DgTg/BDCbgAhhELge6ntq4GXMuw3InW9qN0jlCRJkiRJkiRJUs6LMTJ16lS+9KUvMWTIELp27cqOO+7Icccdxx133EFVVVWbzbVo0SImT57Meeedx+jRo+nduzfFxcUMHDiQI444gmuvvZZFi5r+mquyspJZs2Zx4403MmHCBPbbbz8GDx5MSUkJPXr0YPjw4Zx++uncfffdbNiwoc3i7yxCjLGjY5Cywow3V/hkaML4UQNDR8fQkUIIRwOzgUiy1MpTwB7AyNR9/xNj/HaG/eaQLNvyhxjjBdsu4s6t8vKTfU5LUg7q8pvHOvX7jaa8tfq1nH19G9lnf/9tJSlXBXL29UdqSvDoVh6LyQ/VlP/8SyblodLSUiZMmMCsWbMa7HPggQfywAMPMHTo0FbNdfrpp/Pwww/TVN5A165dueGGG/je977XYJ/58+czYsSIBrenGz58OPfeey9f/OIXtyrePNGi1+iito5CkvJVjPGpEMKdwMUkS618OW3zx8CP6+8TQhgOHEzyBvu59o9SkiRJkiRJkiRJuaqiooLTTjuNZ555BoCdd96Zyy67jN13350lS5Zw11138fbbb/PKK69w0kkn8cILL9C7d+8Wzzdv3rzaxI6DDz6YY489lj333JPevXuzZMkSpk2bxnPPPcfGjRu5+uqr2bhxI9dcc02jY+66664ccsghjBo1iqFDh9K9e3fWrl3LG2+8wdSpU1m6dCkffvghxx9/PHPmzGH06NEtjr8zsXKHlGLljqZ19sodACGEAPwzcAmwO7Ae+Cvw/8UYP8rQ/+fAd0mSO3aPMX6wDcPt1KzcIUm5ycodjbNyhySpQ1i5Q3nMyh3KZ1bu6DT8SyblmVtuuYXvfOc7QFKd44knnqBv376128vLyzn99NOZOXMmAN/73vf4+c9/3uL5Ro8ezTHHHMOVV17JXnvtlbHPL37xC6666ioAioqKePPNN9lzzz236Ldu3TqWL1/OLrvs0uB8GzZs4JxzzuHhhx8GYPz48UyfPr3F8eeoFr1Gm9whpZjc0TSTO7ZeCGEHoCsQY4xNL0amNmNyhyTlJpM7GmdyhySpQ5jcoTxmcofymckdnYZ/yaQ8UlVVxU477cSKFSsIIfDGG28watSoLfotX76cXXfdlXXr1tG1a1eWLl1K//79WzRnaWnpZskjDZkwYQLTpk0D4Nprr+VHP/pRi+YDWLFiBTvuuCPV1dUUFRWxbt06iouLWzxeDmrRa3RBW0chSaoTY1wWY/zIxA5JkiRJkiRJkiQ1ZtasWaxYsQKA4447LmNiB8CgQYM455xzANi4cSMPPfRQi+dsTmIHwNlnn13bfuONN1o8H8DAgQMZOHAgkCS0rFy5slXjdRYmd0iSJEmSJEmSJEmS1MEef/zx2vb48eMb7Zu+fcaMGe0W0ya9evWqbW/YsKFVY33++eesWrUKgC5dutCvX79WjddZmNwhSZIkSZIkSZIkSVIHmzdvXm37oIMOarTvmDFjMu7XXtLnGDZsWIvHqaqq4oorrqCyshKAk08+mZKSklbH1xkUdXQAkpRtQgi3AD+NMX7ajnPsAHw/xvjt9ppDkiRJkiRJkiRJuePdd9+tbQ8fPrzRvkOGDKGwsJDq6mree+89YoyEENolrqqqKu6+++7a26ecckqT+9TU1PDwww/X3i4rK+Ptt99m6tSpvP/++0DyGG+55Za2DzhPmdwhSVu6ErgkhDAZ+HmM8ZO2GjiEsBPwr8BlQFfA5A5JkiRJkiRJkiSxevXq2vaAAQMa7VtUVETv3r0pLS2lqqqKdevW0bNnz3aJ6+abb2b+/PkA7Lvvvs1K7qioqOCMM87IuK1nz55MnDiRG2+8scnHqTouyyJJW3oV6EaSePFRCGF6COG8EEL3lgwWQuie2n8G8CFJ8khJah5JkiRJkiRJkiSJsrKy2nZzlirp1q1bbXvt2rXtEtPs2bP54Q9/CCQJJbfddhsFBa1LM9h///0ZO3Ys2223XVuE2GmY3CFJWxoDXA58SlLh6ATgHmB5CGF2COHGEMKZIYRRIYQdQwhdAUIIJSGEnUIIo0MIZ4UQbgoh/A1Yntr/+NR4nwLfBA7e9g9NkiRJkiRJkiRJatr8+fM5++yzqaqqAuCnP/0phx12WLP2LSkpIcZIjJGamhpWrVrFk08+ybnnnsuzzz7L+eefz7hx41ixYkV7PoS84rIsklRPjDECt4UQfgf8E0mljZ2B7sBRqctmQgjVQGEDQ25a4GwR8EvgthhjeVvHLUmSJEmSJEmSpNzVs2dPSktLASgvL29ymZUNGzbUtnv16tWmsXzwwQeMGzeOVatWAfCd73yHq6++ukVjhRDo168fY8eOrb1ceumlPP3005x66qm88MILhBCaHqiTM7lDkhoQY9wA3BxC+AXwJeACYDxJkkd9Df09XQfMAH4PPBJjrGmPWCVJkiRJkiRJkrSlmhW7dnQIzdan11pSuR0sf2cE3Yd2abBvVVVkzZqkc5cu0G39PtRsaJsEicVLqxh72icsXZpU7PjG13vxn//2EDUrHmqT8SedBvfdU8KTz5QzZ84cHpu6Iycdl+nrt+xUMHBhh8xrcockNSHGWA08BDwUQigGDgcOAUYDw4B+QFdgI/AZ8CEwD5gDPB9jrOiAsCVJkiRJkiRJkpRD9titCx8sShIqPlxcxfBGkjuWfFxFdXXS3n2XLm1W+eLjZVWMO/MTPkzFcdFXe/Lrm/q3ydjpThzbnSefSQrdP/VceU4ld3QUkzskaSukEjVmpy6SJEmSJEmSJElSmxi9dxcen50stfLK3AqOObxbg31fmlv32+JRexe3yfzLPq1i3JnLWPBBkthx3oQe3P5fA9plyZSePevGXP25he+bw+QOKWX8qIEu5CRJkqSsNrLP/r5nlSRJkiRJylMnHNud/7p1DQAzZ6/nqsu3a7DvzFnra9snjm04CaS5Vqys5vgJy3hnQSUAE0/vwd3/PZCCgvb5OOr9VAIJwID+Be0yR77x/5IkSZIkSZIkSZIkSR3s2CNKGDgg+Qr/yafLeXN+RcZ+y1dUM/WBdQCUlAROG9+6JU0+K63mhAnLeOudJLHjjFO68/vfDKSwsH0SO8rKavjjX8pqbx92cEm7zJNvTO6QJEmSJEmSJEmSJKmDFRUF/u07fQCIES68YgWlq6s361NeXsOFV65g3foIwD9N6k3/foUZx7voyhUUDvqAwkEf8KObSjP2+XxNDeMnLuP1t5JEki+P784fbx9EUdHWJ3bc8J+lDSakbPLp8mrO/PqnfLwseVx77FrE8Ue3vvJIZ+CyLJIkSZIkSZIkSZIkZYFvXtibvzyyjmf+vpFXXq/ggGOXctnXerPbLkUs/biau/6wlrffTSpsjNyrC9dc1adV851yzjJenpskZOy0QyHnntWDR/+6vtF9uncLnHDsltVC/vLIeq67cTX7jSrmyMNKGLFnF/r1LSDGpNrInJc38vCM9bWJKT17BO7+74EUF7sScXOY3CFJkiRJkiRJkiRJUhYoLg48cM/2TLx4ObOeKWfx0mp++LMtq24cuG8x06Zsz3a9W7dYxwsvbaxtf7ysmnMvXdHkPsN2LmLhyw0vBTP3zQrmvtl4BY/9Rxfz218O4MB9uzY/2E7O5A5JkiRJkiRJkiRJkrJE3z6FPP7nHfjTQ+v43/vLeO2NClZ+Vk3f7QoZtXcXJp7eg4vO7dWipVPa02P3bc/M2Rt4/h8bef3NCj5YVMnqz2sIAXr3KmDYkCIO3LcrZ36pO+OO7kZBQXbFn+1CjLGjY5Akqc1VXn6yL3CSlIO6/OYxz+gkSco2Ac+vlLeCR7fyWATPrzoH/5JJTahZsWtHh6A8UzBwYWuHaNFrdOtqtEiSJEmSJEmSJEmSJKldmdwhSZIkSZIkSZIkSZKUxUzukCRJkiRJkiRJkiRJymImd0iSJEmSJEmSJEmSJGUxkzskSZIkSZIkSZIkSZKyWFFHByBJuSyEMBQYAfQFimOM93RwSJIkSZIkSZIkSZLyjMkdktQCIYTLgKuAPeptuqdev2uAo4ElMcZJ2yg8SZIkSZIkSZIkSXnEZVkkaSuEEHqGEP4K3EqS2BHSLpn8HRgHfD2EMGrbRClJkiRJkiRJkiQpn5jcIUlb54/AcSTJHB8APwNua6T/LGBZqv2l9g1NkiRJkiRJkiRJUj4yuUOSmimEcDJwChCB3wF7xxivAWY2tE+MMQJ/JUkGOWJbxClJkiRJkiRJkiQpv5jcIUnN97XU9bvAJTHGqmbuNzd1PaLtQ5IkSZIkSZIkSZKU70zukKTmO4ykasc9Mcbqrdhv07Is27d9SJIkSZIkSZIkSZLynckdktR8g1LXC7Zyv4rUdXEbxiJJkiRJkiRJkiSpkzC5Q5Karzx13WUr9xuYui5tw1gkSZIkSZIkSZIkdRImd0hS832cuh6xlfsdlrpe2IaxSJIkSZIkSZIkSeokTO6QpOZ7CgjAV0IIzfr7GULYHjgLiMDsdoxNkiRJkiRJkiRJUp4KMcaOjkGSckII4VDgeZJEjZtijN9P3X8a8AAQY4yFaf27AY8AxwJVwN4xRqt3bCNx6Tu+wClvTd7r8I4OQWo33yxbGTo6BkmStLmQnAdLeSn67lP5LOIR3jm0+nV6Kde0RRwSAIP5SUeHIOWCFr1GW7lDkpopxvh34E8kf3D/NYTwpxDCIUCX9H4hhMEhhIuAV4FjSN5c32pihyRJkiRJkiRJkqSWKOroACQpx0wChgGHkCy3clbq/ggQQqhi82y7ADwBfHcbxihJkiRJkiRJkiQpj1i5Q5K2QoxxPXA0cAtQSZK8sekCyd/VTbcrgf8ETo4xVv3/7N13nFTV3fjxz9nC0qWLgmIvYIkldoUABogmGiWosSEmRpOoyZPkl8Q8ETBRnzymmKpYMTEJ1lgeRY0a7JqgiFQFUYqK9M728/tjht0BdrbO7s7uft6+5nXPvffcc74Tbmb23vnec5o+WkmSJEmSJEmSJEmtgSN3SFIdxRiLge+GEH4BjAFOBvYCdgE2AR8BLwBTYozLmitOSZIkSZIkSZIkSa2DyR2SVE8xxuXA75IvSZIkSZIkSZIkSWoUTssiSZIkSZIkSZIkSZKUxUzukKRaCiE8H0J4LoRwQh2P++y2YxsrNkmSJEmSJEmSJEmtl9OySFLtDQEi0KuOx/VIOVaSJEmSJEmSJEmS6sSROyRJkiRJkiRJkiRJkrKYyR2S1PgKksviZo1CkiRJkiRJkiRJUotkcockNb7Dkss1zRqFJEmSJEmSJEmSpBYpr7kDkKRsFELYE9grze5DQgjramoC6AQcCfw/IAJvZyxASZIkSZIkSZIkSW2GyR2SVLVLgGur2B6An9WxrUAiueOehgYlSZIkSZIkSZIkqe0xuUOS0gt13J5OCfDLGOP9DYxHkiRJkiRJkiRJUhtkcockVW1aFdvGkxiB435gfg3HlwObgA+Al2KMqzManSRJkiRJkiRJkqQ2w+QOSapCjPEF4IXUbSGE8cni32OMjzV9VJIkSZIkSZIkSZLaIpM7JKn2JiaXNY3aIUmSJEmSJEmSJEkZY3KHJNVSjHFizbUkSZIkSZIkSZIkKbNymjsASZIkSZIkSZIkSZIkpWdyhyRJkiRJkiRJkiRJUhZzWhZJqocQwsnAhcCxQH+gKzUnzMUYo5+7kiRJkiRJkiRJkurEHxklqQ5CCJ2BPwNnbNvUjOFIkiRJkiRJkiRJagNM7sgCh49/LjZ3DFJtzJw4zEQGuB8YQSKpYzMwCzgOiMBcYCswAOidrB+BN5N1JUmSGqTXtSd47SDtYNV1r3qdIkmSJEmSWr2aphCQJCWFEE4HRiZXHwB2izGekFLlJzHGY2KMuwJHAY+SSALpAFwaY/xckwYsSZIkSZIkSZIkqVUwuUOSau/85HINMDbGuCldxRjjjBjjl4HrgUHAoyGE9k0QoyRJkiRJkiRJkqRWxuQOSaq9Y0lMs/KXGOPWKvbvNBx0jPGnwNvAQOCyxg1PkiRJkiRJkiRJUmtkcock1V6f5PK9HbbH5DLdyBx/JZH48ZXGCEqSJEmSJEmSJElS62ZyhyTVXl5yuXKH7dumZ+md5rilyeV+GY9IkiRJkiRJkiRJUqtncock1d7q5LLTDts/TS4PSnNc3+Sye8YjkiRJkiRJkiRJktTqmdwhSbU3P7ncd4ftM0lMu3J6CKGqz9WzksvVVeyTJEmSJEmSJEmSpGqZ3CFJtfcaiSSOY3bY/mhyuQdwewihK0AIoVMI4TfAKUAEXmqqQCVJkiRJkiRJkiS1HiZ3SFLtPZVcDt6WwJF0P7AwWR4LrAwhfAysB65Kbi8Hft0UQUqSJEmSJEmSJElqXUzukKRaijG+DNxDYqSOQ1O2FwNnA6tIjOyRD/Ql8RkbgDLgyhjjv5s6ZkmSJEmSJEmSJEktX15zByBJLUmM8ZI022eFEA4CrgSGAbsCW4D/AH+KMc5suiglSZIkSZIkSZIktSYmd0hShsQY1wLXJV+SJEmSJEmSJEmSlBFOyyJJkiRJkiRJkiRJkpTFTO6QpFoKIdyVfH2mjscdkjzuzsaKTZIkSZIkSZIkSVLrZXKHJNXeWOBiYM86HtcveezYzIYjSZIkSZIkSZIkqS0wuUOSJEmSJEmSJEmSJCmLmdwhSY0vL7ksbdYoJEmSJEmSJEmSJLVIJndIUuM7MLlc16xRSJIkSZIkSZIkSWqR8mquIkltTwihK9Atze4+IYQ9a2oC6AQcCfwAiMDszEUoSZIkSZIkSZIkqa0wuUOSqvZd4NoqtgdgUh3bCiSSO+5raFCSJEmSJEmSJEmS2h6TOyQpvVDH7dWZAtzegFgkSZIkSZIkSZIktVEmd0hS1d4G7tlh28UkRuCYBiyp4fhyYBPwAfBcjHFWpgOUJEmSJEmSJEmS1DaY3CFJVYgxPgo8mrothHBxsvjbGONjTR+VJEmSJEmSJEmSpLbI5A5Jqr0/kxi5o6ZROyRJkiRJkiRJkiQpY0zukKRaijGObe4YJEmSJEmSJEmSJLU9JndIUoaFEAKwP4nP2PdjjEXNHJIkSZIkSZIkSZKkFiynuQOQpJYihNAxhPCl5GuPNHXOAz4G5gGzgBUhhAlNGKYkSZIkSZIkSZKkVsaROySp9kYDk4EyYJ8dd4YQRgD3bltNLrsAPw0hdIkxfq8pgpQkSZIkSZIkSZLUujhyhyTV3qnJ5RsxxqVV7L+JRFJHAKYDDwLrk+tXhxAOb5IoJUmSJEmSJEmSJLUqJndIUu0NBCLw4o47QghHAock9/86xnhMjHEM8FlgM4kEj3FNGKskSZIkSZIkSZKkVsLkDkmqvd7J5btV7BuRXJYA12/bGGNcCNxPIrnjpEaNTpIkSZIkSZIkSVKrZHKHJNVer+RyQxX7tiVuvBpjXLvDvv8kl3s3SofC7oQAACAASURBVFSSJEmSJEmSJEmSWjWTOySp9kJy2WG7jSEE4HjSTNkCrEouOzdeaJIkSZIkSZIkSZJaK5M7JKn2ViaXB+yw/RigW7L8ahXHdUwuCxsjKEmSJEmSJEmSJEmtm8kdklR7b5MYveO8EELq6B1fTy5LgFeqOG6f5PKTRoxNkiRJkiRJkiRJUiuV19wBSFIL8gBwOrAfMC2E8DdgEDCOxJQsT8QYN1dx3LHJ5bwmiVKSJEmSJEmSJElSq2JyhyTV3l+BK4GjU17bFAMTdjwghNAV+ByJ5I/XGz9ESZIkSZIkSZIkSa2N07JIUi3FGMuBUcCjyU0h+foYGB1jnFXFYWOBdsnys40doyRJkiRJkiRJkqTWx5E7JKkOYoyrgS+HEHoD+wBbgDnJxI+qzAcuSRwapzdRmJIkSZIkSZIkSZJaEZM7JKkeYowrgZW1qPdME4QjSZIkSZIkSZIkqRVzWhZJkiRJkiRJkiRJkqQsZnKHJEmSJEmSJEmSJElSFjO5Q5IkSZIkSZIkSZIkKYuZ3CFJkiRJkiRJkiRJkpTFTO6QJEmSJEmSJEmSJEnKYiZ3SJIkSZIkSZIkSZIkZTGTOyRJkiRJkiRJkiRJkrKYyR2SJEmSJEmSJEmSJElZzOQOSZIkSZIkSZIkSZKkLGZyhyRJkiRJkiRJkiRJUhYzuUOSJEmSJEmSJEmSJCmLmdwhSZIkSZIkSZIkSZKUxUzukCRJkiRJkiRJkiRJymImd0iSJEmSJEmSJEmSJGUxkzskSZIkSZIkSZIkSZKyWF5zByBJkjIrxsj9j0/l3oce5e0581m5Zg09unVj4P77cu4ZpzF2zJfJy8vMnwBbtm5l5tz5TJ85m7dmzWH6O3OYv3ARZWVlADx//z0MOeHYOrVZUlLC5Pv/wX2PPcncBe+zZt06evfowRGHHMz5Z32JMV8cRQghI/Gr5Ykx8mZZMW+UFrGsvIxNsZyOIbBbyOXovAKOzysgN8Pnx6zSRH8flJeyMZaTS6BbyGFgbj4n5RewW07t//9UFiOvlRYxvbSIT2IZW2Kkc8hhj5xcjskr4Kjcdp7fkiRJ2WzFCnjqKZg2DWbMgA8+gM2boWtX2GcfOOUU+NrX4OCDM9/3ypVw663wyCOJfgsLYbfdYPBguOwyOO642re1eTNMmgQPPQQLFsCGDbDrrok2xo2DESMyH7+yShllzGMe05nOm7zJdKYzk5lsZSsA4xnPBCZkvN/NbGYSk3iIh1jAAjawgV3ZleM4jnGMYwS1P/dKKGEyk5nCFOYylzWsoTe9OYIjuIALGMMYAl5fSZKk1iPEGJs7hjbv8PHP+Y+gFmHmxGFeDanFiB+92yY/W9euW89XvnE1z7/yeto6Rx46kIfv+AN79tu9wf31OuRY1qxbn3Z/XZM7Ply6jLO/fhUzZs9NW2f4ySdw/603022XrnWKtTWZdOCJzR1Cs9gcy7m9cCPvlpemrbNHTi6XF3ShR05ug/vbEMu5q4b+coEv5Xfk8+061Nje6vIyJhVtZGl5Wdo6B+Xk8/X2nekY2u4Ae5dvWuXfG9Xode0JbfL7TarOqute9XNDamQB/P4BuOoq+NOfoCz933MA5OTAd78Lv/gF5Db871IAnn0Wzj8/kVxSlRDge9+Dm26qua0ZM2D0aFi0KH2d88+Hu+6Cdu3qF28LEtvot8jZnM3DPJx2f2Mkd8xgBqMZzSLSn3vncz53cRftqP7c+5APOYuzmMGMtHWGM5wHeIBudKt3zC1eNLuljWjw9/RH/CQTcUgA9OP65g5Bagnq9R3tyB2SJLUSxcXFnHnpt3jpjekA7LH7bnz9/DHst9eeLPtkOXff9zDzFrzPW7Pm8oULL+PVR6fQtUvnBvVZVl6+3fqe/XanuKSE5StW1rmtdes38IULL2P+wsRNnoP335dLzjmL/rv1ZeGHS7j9r/ez9ONPePalVzn761fy9N/uzNgIJMp+pTFya+FGFiYTLbqHHE7KK6B3Ti7rYjmvlhSxPJaxtLyMPxRu5AcdutKhAQkShTHy+8INLEsmYnQmcEJ+Af1z8iiPsKi8hNdKiygB/lGyhdwAw/LTJ3hsieX8oXAjy2Oivb4hlxPyC+gWclhZXsbLpUWsjeXMLy9hUuFGrmrfNeMjkEiSJKmB5s6tTOwYNAiGDoVDD4Vu3RJJF088AVOnQnk5/OpXsH493H57w/t980044wzYsiWxfuqpcPbZ0Lkz/PvfcOediZE4fvlLKCiAn/88fVuLF8OoUfDpp4n1Y46BCy6AXr1g1iy47TZYvRr++tdEwshf/tLw+JWVytg+SakHPehJTxawoFH6W8xiRjGKT0mce8dwDBdwAb3oxSxmcRu3sZrV/JW/Egj8hfTn3jrWMYpRzGc+AAdzMOMYR3/6s5CF3MZtLGUpz/IsZ3EWz/AMef4UIkmSWgH/opEkqZW45c9TKhI7jjx0IP/8+91077ZLxf5vj72AL1/6LZ5+4WXmvreQn938J2766f9rUJ9nfH4oB+y7N0cdOoijDjuEXj26c8l3f8Q9DzxS57Ym/uaPFYkdI4eczMN3/IH27Qsq9n/zovM49bxxzJg9l3+9+gaT7r2Pb409v0Hxq+V4sbSwIrFjj5xcrm7flU4pyRtD8tpza9FG5paV8Eks48mSrZzdrlO9+5tasqUisaNfsr8uKf0dSwGfy+/AbwrXsyFGHinewqG57eiTZsSQJ4q3ViR2DMzN5/KCLuSnJG8Mzm/Pbws3sLS8jPfKS3mptIgh+e3rHb8kSZIaQW5uYkSL734Xjjpq5/3f+hY8+CCcdx6UlsIddyTKQ4fWv88YE1OubEvsmDABxo+v3H/++YlpVE45JTG1yo03wjnnJJJOqvKd71Qmdowbl0g+yUn+nXveefCNbyTaWrIE7r0Xzj0XTjut/vErax3DMRzMwRyV/G9v9mYyk7mESxqlv+/wnYrEjnGM43ZuJ4fEuXce5/ENvsEpnMISlnAv93Iu53IaVZ97E5lYkdgxkpH8g3/Qnsrrp2/yTYYznBnM4F/8i0lM4lt8q1HelyRJUlNqu+M9S1IrFkIYEkKIIYSMD50bQpiQbHtapttW/ZWWlnLD728FIITAPTf/YrvEDoD27Qu457e/oFPHjgD8YfK9rF67tkH9Tr75F1xz5eWMGHIyvXp0r3c7K1at5pY//w2ATh07Mvnm/9kusQOgR/du3HPz/xCSP4hf/7tbKatpOGS1CmUxMrU4Me9zAMYWdN4usQMgPwQuLujMtrNmWkkhm+L2I8vUpb8XS4oq+rukoPN2iR3b9M3JZUwygaQUeKJ4S5XtbYjlvFhaCEABcHFB5+0SOwA6hRwuLuhcMRbf1JItlDt9oiRJWcNrLAEwZUoi4aGqxI5tRo+Gq6+uXL/nnob1+dhj8NZbifKxx8K11+5c5/DDE0kdkBg15Lrrqm5r5kx4JJmIv+ee8Mc/ViZ2bDNgANxyS+X6hAkNCl/Z6xqu4UZuZDSj2Zu9G7WvmczkERLn3p7syR/5Y0VixzYDGMAtVJ576aaEWcEK/sSfAOhEJ+7hnu0SOyAxCsmf+TMheYX1c36+00glkiRJLZHJHZKkJhVCODN58/LM5o6lNXn+lddZuXoNAMNOOp5BB+5fZb0+vXpyzpe+AEBRUTGPPv18k8VYnUeeepbi4hIAzj3jNPr06lllvUMOOoChJx4HwPIVK3nh9f80WYxqPu+WlbApOX3sgTn57J5T9eBzXUMOR+Ul0jtKgXdKi+vV3+LyUgqT/fXLyaVfmv4AjshtV5FQMrOsmOIqEjJmlhZTmiwfnVdA1zTTxfTLyeOAnHwANsTIe+WlVdaTJElK5TVWE+pey4T2r3ylsjxrVsP6vO++yvKVVyamSqnK2LHQtWui/MQTiWlaqmvrssugfZqR4kaNgv32S5SnT4dFi+octpTqPirPvcu4bKdkjG1GMYr9SJx705nOInY+9x7hEYpJXOudx3n0oU+VbR3CIQwlMWrOcpbzAi806D1IkiRlA5M7JKl12gK8m3xlmzOB8cmlMuSZF1+pKI8YclK1dUem7H962kuNFlNd/DMl/pE1xJ/6/p76V3bEr8Y1r6ykojwoL7/auoNyK/fPSTmuLtamjPixa6h6mpVtckKgV3IqliJgYRV9psY/MLeG+FPe39yy+iWnSJKkRuE1lmqvS5fK8tatDWvrmWcqyyNGpK/XsSOcfHJlny9U8UN2alsjR6ZvK4Tt+3rqqdrFKqXxDJXn3kjSn3uBwAgqz72n2Pncq21bO+6vqi1JkqSWxuQOSWqFYoz/jjEeFGM8qLljUdOYM39BRfmoQwdVW/foww+pKM9+d0E1NZtOahxHHVZD/IdVxj8nS+JX4/o4Vg6fu2c1o2gADEjZ/3F50w+7+1Hcuc+PU0bgGJDl8UuSpKp5jaU6mT27sjxgQP3bWb4cVq+ubKdXr+rrH3101TFAYrqWuXMT5by8xFQu9W1LqoNyyplL4tzLI4/Dqf7cO5rKc282O597qduOopopkmrRliRJUktjcockSa3Aex98WFHea49+1dbtv1tfcnMTIw0s+GAxsYppJJpSeXk57y9eCkBubi79d+tbbf0B/Svf33uLPmzM0JQlPk1JcuiZZkqTbbqFypmbV8Syep3fqdOmrKgiWSNVeYysSonv0x0SMspjZGVyJJCcZHzV6ZHat8kdkiRJLdNtt1WWTzut/u28915lea+9aq6fmkiSeizAsmWVo4j065dI8KhvW1IdLGMZW0mce/3oRx41JLxTee69x/bnXjnlvM/7AOSSS3/617stSZKklsjkDklqYUII00IIMTmncn4I4XshhOkhhHXJ7UOSrxhCSPurZgjh0BDCfSGE5SGEwhDCohDC70MIfWpzfEo7w0IIT4QQVibbmRdCGB9CaL9DvSHJ9i5Obrp4Wx8pryEN+h+nDVu3fmNFuVeP6ueBzsvLo2vnzgCUlpayecuWRo2tJps2b6G0NDGyQbeuXcir4SZjz+7dKsrrNmxo1NiUHbamJGh0qiE5IjcE2pOYh7ycxFQpdTUgp/J247LyMj5KGXljR2+XFW/Xx9YdkkmKiGyb5KUDgdx0c6QndUrZv6WZE68kSWorvMZSRk2ZAs89lyjvuiuMG1f/ttatqyzXNGoHQM+eVR+b6bakOlhH5fnTi5rPvZ5UnnupxwJsYhOlJO8f0K3GRJHq2pIkSWqJTO6QpJarPTAN+CVwOInfMWv1S2AI4cvAm8AYYFegBNgN+DbwNrBXLdv5AfBPYBSQB7QDDgImAE+GEHJTqhcDnwKFyfXC5Hrqq7g2/Wpnm1ISNNoXFNRYv0P7yjobN21ulJhqa9Pmyv7rHPvm5o1dTaMo5aMtvxb181PyJ4rqkSDRLgQ+m5c4zyIwuWgTm2L5TvU+LS/j/uLtz8GtO3wMF6Ws5teQ2AHQjso6RbX7SJckSZnjNZYaZu5cuOyyyvXf/x46dap/e5s2VZbbt09fb5sOHSrLGzduvy+TbUl1sInKc689NZ97Hag89zay/bmXybYkSZJaIpM7JKnl+hZwGHAJ0DXG2APoDbxT3UEhhH2Ae0n8RvoWcHSMsQvQETiVxM2/X9ei/8OB/0m++sQYuwPdgOuS+z9H5RNkxBhfjTH2Be5Lbrovxth3h9ertehXkhrdGfkd2SWZjLGsvIyJW9bxSPFm/lNaxBulRUwp2sQNW9exPkZ6pYwmUnP6hiRJymJeY6n+li+HL36xMhHim9+Er3yleWOSJEmS1KrUMLmiJCmLdQa+FGN8fNuGGONqgFD90+HXkLjJuAI4Nca4JnlsBJ4NIYwAZtai/27AxBjjhJT+NwDjQwiHAGcB5wF31eE91SiE8GZt6pUvm5/JbrNe544dWbt+PQCFRUV0rmFqk62FlRNJdOncgCfJMqBzypNshUU1T6KxXewNeQpOLUYBgS3Jh2ZLgNzqq1OS8nxtQS1Gy6jKLjk5XNW+K7cWbmRlLGcTkadLCneqd3xeAf1ycnmwODF6Tscd0jsKUlZLajGKSHHKw8EFpopIktTU2tw1Vm2vr2jN08XNn594pXPkkbDnntW3sWYNfP7zsGhRYn30aPjd7xoeW3I6TQAKd/5bdCdbt1aWu3RpvLakOuhM5blXSM3n3lYqz70ubH/uZbItSZKklsjkDklqueak3nSsjZC4I3l2cvWWbTcdU8UY3w0h3A9cWENzRSSGK67KoyRuPB5Wl/hUf9126VKR3LFqzdrtEiZ2VFpayobkkLz5+fl06tixSWJMp3OnjuTl5VFaWsq6DRspLS0lr5rklNVrK+fJ7da1a1OEqGbWIQS2JH9Q2BzLaR/Sp3eUxUhhMkEiF6h5op/0ds/J46cduvFqaREzSov5qLyUrUQ6hcCAnDxOzmvPoXnteLy4clqkXcL2A+MVEMghMab7ViJlMZJbzY9Dm1N+OOlYz8QUSZJUb15jtUVTpsDEien33303jB2bfv/69YnEjlmzEutf/CL87W+QW1NKci1061ZZXrWq5vqrV1d9bKbbkuqgG5XnzypqPvdWU3nupR4LieSOPPIopZR1rKOUUvKq+YmjurYkSZJaIpM7JKnleqUex+wDFVezL1RTbxo133icE2PclGbfx8llj9qHVjsxxqNqVe+jd1vxo2U7O2DvvfhgyTIAPlz6EXvt0T9t3WWfLKesrAyA/fbas6anEBtdTk4O+w7Yg3ff/4CysjKWfbK82vgXL/uoonzAPns1QYRqbrvm5LK6rByA1bGcntWM3bEullOeLPcOuQ0+v/NDYHB+ewbnp5/PeXl5WUV5QO72f17nhEDvkMOnybjWxXJ6VpOcsiaWV5T75GTgBwFJklQXbe4aq7bXVwHa1PVVrW3cCCNGwJvJAVBGjIAHHoD8/My0f8ABleUPP6y5/uLFVR8L0L8/dOiQGJHjo4+gtBSqG/GxurakOuhPfzrQga1s5SM+qjEhYzGV594BbH/u5ZDDvuzLu7xLGWUsYxl7sVe92pIkSWqJcmquIknKUivqcUzvlPLHaWvBR9Xs22ZjNftKk0uTCJvIoIP2ryi/OWtOtXWnz5xdUT7kwP2rqdl0UuN4850a4n+nMv5BWRK/GtfuKckQS8pLq6kJi1P2794EyRHlMbKwvASAAOybs/PH3u4p2xZnWfySJGk7XmO1RRMmJKadSfdKN2rHpk0wahS88UZifehQeOQRKGjI2HE76NsXevZMlJcsqXnEjenTK8uHHLL9vpwcGDgwUS4thZk1zBRUXVtSHeSQw0AS514ppcysYZaq6VSee4ew87mXuu1Nqp9Zqqa2JEmSWhqTOySp5SqruUq1fPKqFRkx+KSK8jMvvFxt3aemVe4fMeTkRoupLj6fEv/TNcT/dEr8Iz+XHfGrcQ3Mq3zycW5pSbV155RV7h+Um6EnJmvob0NyKpWDcvPpUUVCxsCUOOaV1RB/yvsbmNsuQ1FKkqRa8hpLtbNlC5x+OrySHOzllFPg8cehffrR3uptxIjEMkZ45pnqY3rppUS5QwcYPDh9WwBPP52+rRi33z9yZO3jlaowgspz72nSn3uRuN3+kex87tW2LYCneKratiRJkloakzskqW1ZmVLevZp6/Ro7EGXW5044lt49EyM0P/vSa8x5d0GV9VasWs19jz0JQPuCAs4YMbTJYqzOmSOH065d4gfwKY8+wYpVq6usN3v+ezz/yusA9O3Tm8HHfbbJYlTzOSAnn84kpleZX17Cx2lGv9gQy3mztAiAfOCwvMZNjiiOkYeLt1Ssn5pm6pbD89pVPGL7n9IiNqRMvZLqo/JS3kuOAtI1BA6oYhQQSZKUdbzGamsKC+GMM+CF5Cw8J54ITzwBHTs2Tn/nnFNZ/t3vEokXVZk8GTZsSJRPOw06ddq5zpgxleVJkxLvpSpTp8LChYny0UfDPvvUOWwp1Rgqz71JTKKQqs+9qUxlIYlz72iOZh92PvfO5EzakbjW+zt/Z0WaQZdmM5vneR6AvvRlMFUkPEmSJLUwJndIUtuyCFiXLA+ppl51+xpq26+aoRH7aHPy8vK45srLAYgxcvF3fsjadeu3q1NYWMTY7/yIzVsSP0Z/a+z59Ozevcr2Lvnuj8jpfxA5/Q9iwq9+37jBA7179uCKi74KwKbNW7jkuz+msLBouzpr163n4u/8iJi8mfmTqy4nN9dpK9qC3BAY1a4DkHgcdnLRJjbvkCBREiP3FG1i21kzOL89nUPVf+reU7SJKzav5orNq/m/lOSMHS2oZpSNDbGcPxVuYHlMPOB7fF4BB6cZaaNLyOGUvETiRxHw56JNlOxwU35zLOeeok0Vj/uOyu9ITvBjUpKkFsBrrLakuBjOPhuefTaxfuyx8OST0Llz/dobMgRCSLwmT666zhe/CEcemSi/8Qb87Gc713nnHbjmmkQ5Jweuvbbqtg4/HM48M1FesgS+/W0o3yHxeMkSuOKKyvUJE2r5ZtRWjWUsIfnfBCZUWedwDudMEufeEpbwbb5NOdufe0tYwhVUnnvp2upNb77JNwHYxCbGMnanZJG1rOUiLiImr7D+m/8mF+8fSJKkls/HASWpDYkxxhDCw8A44PIQwm9jjGtT64QQ9oeURyoyL/koEd0asY826YqLzuXhqc/w0hvTeWvWXD7z+TO57IJz2G+vPVn2yXLumvIQ8xa8D8DAA/bjv6++ooYWa/b8K69XjKSxzYzZ8yrKd015iGdffm27/d//xji67dJ1p7bGf/dbPD3tJeYvXMTUf73IUaPO4tLzRtOv764s/HAJt917H0s//gSAIccfw2XnN+ZpqmxzSl57ZpQWs7C8lKXlZVy/dT0n5xXQOyeXdbGcV0qKKhItdgu5fCG/Q4P7/GPhBrqEHA7JbUe/nFw6hsCWGPmgvJS3SospTN4oPCAnj3PaVfFkZIrT2nVgblkJy2MZc8pKuGHrek7ML6BbyGFleRkvlRaxNpmwckBOHifnZXCudkmS1Gi8xmpjxo5NJHMAdOmSSIJ4/vmaj9uWUFEfIcBttyWmftmyBcaPT0wHM3p0YnSOf/8b7rgDNm9O1P/xj+HQQ9O3d/PN8Npr8OmncOedMHs2XHgh9OwJs2YlRvRYnRxJ8fzzE6OAqFX6gA+4kzu32/YO71SUn+d5Stl+1MSzOZsjOKJe/d3MzbzGa3zKp9zJncxmNhdyIT3pySxmMYlJrCZx7p3P+ZxG+nNvPON5iqeYz3ymMpUjOZKv8TX60Y+FLGQSk1jKUgCGMITLuKxeMUuSJGUbkzskqe25ETgP2BV4JoRwWYxxRgghAJ8D7gC2AI31y+Ls5PLkEMJBMcb5jdRPm9OuXTseufOPfOUbV/P8K6+z9ONP+On/3rxTvSMPHcjDd/yBXbp2aXCfL77+H2743a1p99/78GM7bfvaeaOrTO7otktXnvzLbZz99auYMXsu8xa8z/ev+8VO9YaffAL333oz+fn5DQteLUpeCFzevgu3F27k3fJS1sZyHivZulO9PXJyubygCx3SjNpRV6tiOdNKqx4yOAAn5RUwul0n2tUwykbHkMO323dhUtFGlpaXsTyW8VAVo4YclJPP19t3JtdROyRJakm8xmorXn21srxxYyLZozbSTaVSW0cdBY8+Cl/9KqxcCc88k3ilCgH+67+qHtkj1YABiWlXRo+GRYsSo4G88cbO9b76VbjrrobFray2mMVcz/Vp97+U/C/VfuxX7+SOAQxgKlMZzWgWsYg3kv/t6Kt8lbuo/tzrRjemMpWzOIsZzGAe8/ge39up3nCG8wAPkI/3DyRJUutgcocktTExxoUhhIuAvwNHA2+FEDYCuUBH4CPgv4C7gaK0DdXfQ8ANQG9gXghhFZB8xIhzY4yvpz1SNerebRf+OeVu7n98Kvc+9CgzZs9j1dq1dN9lFwYdsB/nfOkLXHLOWeTlZeefAHvt0Z/XH7+Pyff/g/see5I57y1k7fr19OrenSMOOZgLzj6DMV8cRfCH7zapU8jh6vZdebOsmDdKi1haXsrmGOkYAruFXI7OK+D4vIKMJUZcWtCFeWUlLCovYV0sZ3OMFBDolpPDwTn5HJtfQP+c2v9/qWdOLj9svwuvlRYxvbSIT2IZW2KkUwjskZPHsXkFHJXbzvNbkqQWxmssNYnhw2HOHLjllkSix6JFUFgIu++eGNXjssvg+ONr19YRRySmcpk0CR58EBYsSCSr9OkDxx0H48bByJGN+37UJh3BEbzDO0xiEg/yIAtYwEY20oc+HMdxjGMcI6ndubcXe/EGbzCZyUxhCnOYw1rW0oteHMERXMiFjGEMwRmrJElSKxJiQzPH1WCHj3/OfwS1CDMnDvNqKAuEEKYBg4GJMcYJaeoMAf4FEGOs8t8thHA48BMScz/vQuKG42PA9cBJwMPApzHGvjscNwEYD7wQYxxSn/5DCAcl2zgZ6AMVj1B8LsY4rao26yp+9K6frWq1Jh14YnOHIDWayzet8u+NavS69gS/36QdrLruVT831CBeY9UsgN8/arWq/n+01EpEs1vaiAZ/T3/ETzIRhwRAv2pGhpJUoV7f0Rl9bDc53OQY4ELgMySeGFgDzCXx9MLkGGNp+hZq3c80EhfddXVJjHFyNe02SfyS1BDpbvbtUGcaNXwxxBhnkmbe5xDC0cninCqOmwBMaEj/yWGCz6uuDUmSJKm5NPX9gWR/XwDOBz4L7EZiCo/1wHvANODOGOP7NbTTETicxOgRRyWXB5EYQQIymEzdmniNJUmSJElqCTKW3BFC6A48CAzdYVff5GsocEUI4csxxiWZ6reOFqXb0ULil6RGF0LoDXwtufpUc8YiSZIkNbWmvj8QQugFPEBitIcd9QSOT76+F0L4aYzxf6tpbinQo6ExKbO8xpIkSZIkZUJGkjtCCO2AR0kM/QiJmwm3AQuB/sA44GDgSGBqCOH4GOOGBnT544H1MQAAIABJREFU30CvWtQ7Efh+svw+8FJVlZohfklqViGEq0jM/fwg8GGMsTSEUAAMA35FYhjflcBdzRelJEmS1LSa+v5ACCEPmEpihA2AQuDPwExgLbAH8EUSU3q0A34RQtgUY/xTmiZzd1hfkjyubxV1lUFeY0mSJEmSGlumRu64gsobH28Bw2OMa7ftDCH8AXgEGAEMBH4K/KC+ncUYX65NvRDCuSmrd8cY08071qTxS1IW2Ae4GrgRKAshrAe6Uvm9sB4YE2Nc3UzxSZIkSc2hqe8PnEdlYsdS4OQY4+Id6vxvCOHrJJJMACaGEG5LMy3Mo8C7wJvAmzHGVSGEycDFDYhRteM1liRJkiSpUeU0tIHkUyY/Sa5G4KLUGx8AMcZC4CJgc3LTlSGEng3tu4a4ugNnJlfLgXvS1MvK+CWpkd0D/BqYDqwAOgNbgXeAm4BBzsUtSZKktqSZ7g+MSCn/TxWJHdv6vZ1EwgYkRjI9OE29i2OMN8QYn44xrmpAXKo7r7EkSZIkSY0qEyN3DAV6J8vPxRjnVFUpxrgihDAFuBQoAM6gcYei/GqyH4B/xhiXpamXrfFLUqOJMc4AZjR3HJIkSVIWaY77A31SygtqqPsecFSy3Kme/amReI0lSZIkSWpsDR65A/h8SvmpGuqm7h+Zgb6rMy6lXN1NlmyNX5IkSZIkNZ3muD/waUp5/xrqbttfRiLRQ5IkSZIktSGZSO44JKX8ZtpaCdPTHJdRIYTDgCOTq2tIzDmbTtbFL0mSJEmSmlxz3B9IvV/xoxDCgKoqhRC+DhydXP1LjHFNA/qUJEmSJEktUCamZTkgpfxhDXWXkXjCJBfYP4QQYowxAzHsKHXUjr/GGIuqqZuN8UuSJEmSpKbVHPcHHgL+AXwZ2AOYH0L4M/A2sDa57UvAScn6/wCurEc/kiRJkiSphctEcke3lPKq6irGGEtDCBuA7sm+OwGbMhBDhRBCPnB+yqaa5r3NqvglSZIkSVKzaPL7AzHGGEL4CnAdiaSNLsBlVVR9C7gWeNKHTCRJkiRJapsyMS1L55RyYS3qb00pd8lA/zv6EtArWZ4RY3y7hvrZFr8kSZIkSWp6zXJ/IMZYBtxEIsEj3cijRwI/Ao6vbz+SJEmSJKlly0RyR7a5JKVc06gdkiRJkiRJzSaEMJLENDA3Aa8BI0iMIlIA7A9cA2wmMTXLcyGEM5onUkmSJEmS1JwykdyROuxo+1rU75BS3piB/iuEEHYDRiZXi4C/1uKwrIlfkiRJkiQ1mya/P5BM7HgC2AV4EBgWY3wmxrg+xlgcY1wYY7wRGEriPkd74C8hhL716U+SJEmSJLVcmUjuWJdS7pW2FhBCyAO6JldLSDx5kkkXAbnJ8iMxxrW1OCab4pckSZIkSc2jOe4P/IrEvZly4OoYY3lVlWKM/wYmJ1e7AGPr2Z8kSZIkSWqhMpHc8V5Kea8a6vanMvliYYwxZqD/VPWZkiWb4pckSZIkSc2jSe8PhBD2BgYmV+fGGD+u4ZBnU8rH1LU/SZIkSZLUsmUiuWN2SvmoGuoenea4BgshnAAcmFxdwvY3PaqTFfFLkiRJkqRm1dT3B3ZPKW+oRf31KeVO9exTkiRJkiS1UJlI7ng6pTyihrojU8pPZaDvVONSyvekG8q0CtkSvyRJkiRJaj5NfX8gNaFjj1rUH5BSXl3PPiVJkiRJUguVieSOfwErk+XhIYRBVVUKIfQBzk2uFgKPZqDvbW13BMYkVyNwdx0Ob/b4JUmSJElSs2vq+wMLk8cD7JEckbQ656aUp9ezT0mSJEmS1EI1OLkjxlgKXJ9cDcCfQwjdU+uEENoD91A5bOgfYoxVPmUSQpgcQojJ14RahvEVoEuyPC3G+EFzxS9JkiRJklqepr6/EWPcyvaJIfeEEPZM09Y1wLDkahFwf+3elSRJkiRJai3yMtTOLcDZwMnAkcDMEMIkEk+h9AcuBQ5O1p0L/DxD/W5zSUr5rnoc39zxS5IkSZKk5tfU9weuAU4FegD7AbNDCPcCrwNbgT1JPNBybMoxE2OMy6pqLIQwFBi6w+YjUsqXhhCG77D/lzHGdfV/C5IkSZIkqSlkJLkjxlgcQjgDeJDETYQ9qPoGx1vAl2OM6zPRL0AIYV/glOTqeuChurbRnPFLkiRJkqTs0NT3B2KMi0IIpwJTgP1JjEp6RfK1o1JgQozxxmqaPAX4STX7L6hi2x2AyR2SJEmSJGW5Bk/Lsk2McS0wnMQcsE8AHwPFwKfA88BlwLExxiWZ6jNpLInhUgGmJIc1rbNmjF+SJEmSJGWJpr4/EGN8CzgMuBj4B/AhsIVEMsdqEqN4/A9wYIzx+jTNSJIkSZKkVi7EGJs7hjbv8PHP+Y+gFmHmxGGh5lpSdogfvetnq1qtSQee2NwhSI3m8k2r/HujGr2uPcHvN2kHq6571c8NqZEF8PtHrVb0W0StWcQzvG1o8Pf0R9UO/ibVTT/MSZdqoV7f0RkbuUOSJEmSJEmSJEmSJEmZZ3KHJEmSJEmSJEmSJElSFjO5Q5IkSZIkSZIkSZIkKYuZ3CFJkiRJkiRJkiRJkpTF8po7AEmSJEmSJEmSJEmqj+LiMubPWsE7by7nnemfMOvN5cyftYKSknIAfn336YwZe1hG+3z/3dX866n3+fdLS5n3zko+/XgjpSXldO1WwIGH9OaUz+/DeZceTo9eHattZ+uWEl5/cQkz//MJM//zCUsWrWXNqq2sW7OVdgV59O7biUOP7Mtpow9i1FkHkpvrc/tSW2ZyhyRJkiRJkiRJkqQW6Yzj72HWW8ubrL8RR9zJnLc/rXLfqhVbWPX8Yl55fjF/uOFVfv7HEZx9wSFp23r9xSVcOOq+KveVlBSzeWExHy5cy+P3z+Pgw/pwy31nst9BvTLyPiS1PCZ3SJIkSZIkSZIkSWqRysrKt1vv07cT7QryWLZ4faP0N3/WCgBycgKfPak/xw3ekwH7dKdDxzyWfLCeR/42h3nvrGDjhiK+c9FjANUmeAAcMLAXnzlmd/Y9qCe79e9CQfs8NqwrZPZby3l0yjzWrdnKvHdWMHrwvTwz82v06du5Ud6bpOxmcockSZIkSZIkSZKkFunEoXvx+TMO4LCj+nLY0bvRd/cu/GrCi/xm4suN0l/nrgVcdMWRXHj5key+R9ed9l/xg+P4+Q+e47Zf/5sY4dorn2HoF/ale48OO9X9zGd3482Pr2LX3dIka1wK3//ZYC76wn3MeONjVq3Ywm8mvsSNt4zK9NuS1AKY3CFJkiRJkiRJkiSpRRr/6+FN2t8r719Bt+47J2psk5MT+Okvh/HGS0uZ+Z9PWL+ukGcefY9zLjl8p7rde3assb/uPTpw4y0jGXnkXQA898T79Q9eUouW09wBSJIkSZIkSZIkSVJLUF1ixzYhBL5w9kEV6/NnrWxQn/sP7FVRXrl8U4PaktRymdwhSZIkSZIkSZIkSRnUuUu7inLh1pIGtbX4/bUV5d5900zhIqnVM7lDkiRJkiRJkiRJkjLo3dmVo3X0G7BLvdvZsrmYa6/6Z8X6qLMObFBcklquvOYOQJIkSZIkSZIkSZJaiw3rC3nsvnkV68NO26/GYzZvKualZz8AIEbYtKGIee+s4NG/z+XTTxJTsQz6zK7814STGydoSVnP5A5JkiRJkiRJkiRJypAbfvgv1q3ZCiQSOw4+tE+Nx3yybANf+/JDVe7r1qMDX7n4UP7fzwfToWN+RmOV1HI4LYskSZIkSZIkSZIkZcCDf5nFvZNmANClawETf3tqg9s8+oR+HDd4T9p38Ll9qS3zE0CSJEmSJEmSJEmSGuiNl5bww8umAhAC/O/to9hr3+61Ona/g3qxLF4DQFlZOWtXb+Xtf3/M3X94k2f/byHP/t9CTht9EL+ZfDodO7VrtPcgKXuZ3CFJkiRJkiRJkiQpKyycv4qF81en3X/okX3pt+cuTRhR7cyc/gljT3+AosJSAMb/ZjhfHDOwXm3l5ubQq08nhp++P8NP35+bfvoCv/35Kzzx4HxCgFvvPyuToUtqIUzukCRJkiRJkiRJktqoflzf3CFs5/YpE5g48ba0+++++26OGTu22ja6MgF4GYDunE0/qq/fUO+88w4XjvgcGzcUAXDjjTfyo6t/lLH2fz2xnKn3H8x7773H/z0wn/Vzz2fgwPoljkhquXKaOwBJkiRJkiRJkiRJaonmzJnDsGHDWLNmDQATJ07kRz/KXGIHQE5ODqeeemrF+gsvvJDR9iW1DCZ3SJIkSZIkSZIkScoKEyZMIMaY9jW2hlE7mtL8+fMZNmwYq1atAuDHP/4x1157baP01aVLl4ryunXrGqUPSdnN5A5JkiRJkiRJkiRJqoOFCxcydOhQPv30UwC+//3vc8MNNzRqf9v06tWr0fqRlL1M7pAkSZIkSZIkSZKkWvrggw8YOnQon3zyCQBXX301N910U6P1t2zZMp588smK9RNOOKHR+pKUvUzukCRJkiRJkiRJktTmDRkyhBACIQQmT55cZZ2lS5cydOhQli5dCsA3v/lNbr755nr198Mf/pDFixdXW+f999/n9NNPZ8uWLQAMHjyYQYMG1as/SS1bXnMHIEmSJEmSJEmSJEn1MWPGDB566KHttr344osV5Ycffni7KU0ALr30Uvbee+8697Vp0yaGDRvGhx9+CMCgQYMYPnw4jzzySLXH9erVi5NOOmmn7ZMmTeKmm27iuOOO44QTTuDAAw+kW7dulJaW8vHHH/Pyyy/z5JNPUlxcDEDfvn2544476hy3pNbB5A5JkiRJkiRJkiRJLdLMmTO5/vrr0+5//PHHefzxx7fbNnz48Hold6xatYoFCxZUrM+ZM4ezzjqrxuMGDx7MtGnTqtwXY+S1117jtddeq7aNIUOGcMcdd7DvvvvWKWZJrYfJHZIkSZIkSZIkSZLUxN5++22efvppXn31VWbNmsWSJUtYv349ubm57LLLLuy777589rOfZcyYMZx44onNHa6kZhZijM0dQ5t3+Pjn/EdQizBz4rDQ3DFItRU/etfPVrVakw70Qk6t1+WbVvn3RjV6XXuC32/SDlZd96qfG1IjC+D3j1qt6LeIWrOIZ3jb4Pe0JLU89fqOzsl0FJIkSZIkSZIkSZIkScockzskSZIkSZIkSZIkSZKymMkdkiRJkiRJkiRJkiRJWczkDkmSJEmSJEmSJEmSpCxmcockSZIkSZIkSZIkSVIWM7lDkiRJkiRJkiRJkiQpi5ncIUmSJEmSJEmSJEmSlMVM7pAkSZIkSZIkSZIkScpiJndIkiRJkiRJkiRJkiRlMZM7JEmSJEmSJEmSJEmSspjJHZIkSZIkSZIkSZIkSVnM5A5JkiRJkiRJkiRJkqQsZnKHJEmSJEmSJEmSJElSFjO5Q5IkSZIkSZIkSZIkKYuZ3CFJkiRJkiRJkiRJkpTFTO6QJEmSJEmSJEmSJEnKYiZ3SJIkSZIkSZIkSZIkZTGTOyRJkiRJkiRJkiRJkrKYyR2SJEmSJEmSJEmSJElZzOQOSZIkSZIkSZIkSZKkLGZyhyRJkiRJ+v/t3XmYZFV9//H3hx2UVVkUEURRosGgEDEGFEHElUXcMQIxUdyNiXGXMWqC/mLQqBFcwWAUl4BRUVxgFFwQRY2iEkUGFZBNYNjX7++Pe9ouiqreprure/r9ep567nbuOd+qrpq559a3zpEkSZIkSdICZnKHJEmSJEmSJEmSJEnSAmZyhyRJkiRJkiRJkiRJ0gJmcockSZIkSZIkSZIkSdICZnKHJEmSJEmSJEmSJEnSAmZyhyRJkiRJkiRJkiRJ0gJmcockSZIkSZIkSZIkSdICZnKHJEmSJEmSJEmSJEnSAmZyhyRJkiRJkiRJkiRJ0gJmcockSZIkSZIkSZIkSdICZnKHJEmSJEmSJEmSJEnSAmZyhyRJkiRJkiRJkiRJ0gK21qgDkCRpLmTrB2TUMSwFSX4AUFW7jDqWpeTway8fdQhLgu9vSZKkToH9q3niNegI1KgDWDp8f0uSJK0aR+6QJEmSJEmSJEmSJElawEzukCRJkiRJkiRJkiRJWsBM7pAkSZIkSZIkSZIkSVrATO6QJEmSJEmSJEmSJElawEzukCRJkiRJkiRJkiRJWsBM7pAkSZIkSZIkSZIkSVrATO6QJEmSJEmSJEmSJElawEzukCRJkiRJkiRJkiRJWsBM7pAkSZIkSZIkSZIkSVrA1hp1AJIkafGqql1GHYM0V3x/S5Ikab55DarVme9vSZKkVePIHZIkSZIkSZIkSZIkSQuYyR2SJEmSJEmSJEmSJEkLmMkdkiRJkiRJkiRJkiRJC5jJHZIkSZIkSZIkSZIkSQuYyR2SJEmSJEmSJEmSJEkLmMkdkiRJkiRJkiRJkiRJC5jJHZIkLVFJ1kzyyiQ/THJdkmqPA5Isb+vLZqmtWa1Pmk9JDkvynSQrez4nr2jHjm3bx85SW7NanyRJkubPXF7LJdkjyReTXJbkttbOSbPdjjRMkj3H+kNzUPeyVvfy2a5bkiRpdbLWqAOQJEkj8y7gJW39ZuCStn7jaMKRFp4kfw/8a9u8FbgUKOC6kQUlSZKkJSXJw4FT6e7lFnAFcBtwZTu+rBU9tqpWjCBEaaSSHADsDPyoqkx6kiRJqy2TOyRJWoKSbAi8oG3+I/CvVVU9x58NnAtcPoLwpIXkVW3578A/VNUtfccvpvusXDyvUUmSJGkpeQXdfdxvAftV1R/6jh/RlsuBFfMXlpaY6+n6PgvRAcAhwHGAyR2SJGm1ZXKHJElL047A2m39/b2JHQBV9dz5D0laWJJsDmzZNj84ILGDqnot8Np5DUySJElLzU5t+ckBiR3SvKiq79HdS5AkSdKIrDHqACRJ0khsMLZSVdeOMhBpAdugZ93PiSRJkkZl7LrUa1JJkiRpCTO5Q5KkJSTJoUmKbrjesX3V81je9i1v28sG1LFWkue3MpcnuSXJFUnOTXJCkudNEkOS/G2SM5OsTHJNku8kec7sPlstBr3vtVV5byR5SpIvJLkkyc1t+YUkB84gpj3b52RFz+7zez4nK3rKHtv2HTukrmck+VKL55YkVyX5ZZL/SfLiJOtNEstT22v0hyTXJ/lRkpcn8TpekiRpkUmyXZJ3JTknybXt+u4XSd6d5N4Dyle7Lt2u7fpoX//t2HZ8zGl9x1fMw9PSaqCvX7Z2kr9P8v3Wf6nWR9qz5z05rJ6d2n2B3ye5Mcmvk7wnyRZTOb+nnr2TfDHJZa2enyc5or//1NN3O6TtOqTvM1BJ9lylF0eSJGkBcVoWSZKWlhuAS4B1gE3bvkt6jk84xG+SNYGTgX16dl8N3AXYDLg/8HTgw0OqWBM4EdgfuJVuzt4NgYcDD0+yQ1UdMeRcrd5m9N5Isg7wMeAZbdftdO/JuwNPBJ6Y5BPAIYOmVRniZrrPxZqtHoDLgdva+mVTqSTJR4DDenZdSzcd0v3a48nAFxkyL3qS9wIvbs9pJbA+8GfAu4CHMn4DU5IkSQtckoPp+knrtl030V3nPaA9Dkvy1Kr6Ss9pY321zel+pLeSrk835rZWZmwqwSvprmXHTOm6VeqxHt2PQR5B1y+7Bpg0GQOgJdafwPgUsNcC9wBeAhwEvG6K9bwKeHvbvJru/sWOwDLgUUn2qaqxvtlY323jFvuN7ZxeNyNJkrSaMLljAfjxm/fOqGOQJC0NVXUCcEL75cppbd9W06jiWXSJHTfS3aA5oaquTRK6G45/CTx7gvNfTHdT8lDgU1V1Q5J7Af9B90X3G5IcX1W/nNYT0+pgpu+Nf6ZL7CjgrcC/VdVVSTYF/oHuBuKzgN8Ar5lKIFX1bWCrJNsB57fdf15VK6b6ZJLsTpfYcTvwWuBDY/OjJ7kbsAvdZ2XYjcb96JKmXgl8uKpWtvOOBP4GeG6S46rq1KnGpNXD5f/0bfsOkiQtMkn2oUtIvh14B/B+4IJ2+P7AW4CnAZ9OslNV/QbG+2ptBI5tgZdX1bED6h/78v0pVbV8zp6IloIXt+VhdP39G1o/pIAHDzspyfbA8XSJHWcDz6+qH7R7BXsDHwL+bQrt/xmwB12/59+q6vIkGwF/D7wJeDRdkvtH4A59t2Pb/hOq6tBpPWNJkqRFxOGcJUnSdDyiLT9WVR+uqmsBqnNpVZ1YVU+b4PxNgQOr6riquqGd+zu6G5kX0V2bPH0O49fCNe33RpKtgZe3zSOr6k1VdVU798qqej3jNxBfmeQe8/A8xox9Vr5WVe8YS+xosV1RVV+pqkOr6qIh528KvKCqjqqqlT3n/S3wg1bmWXMWvSRJkmZFm07vfXTXsy+uqldX1Yoad25VPR34H2AjuuReaVTuCjy7qo7t6Zdd0dufGeJ1wAbApcA+VfWDdm5V1deAfdvxyWwCvKWqXldVl7c6VrZRHP+7lbEfJEmSliyTOyRJ0nRc1ZbTGe2j17eq6rT+nVV1E3BK2xz6ayCt1mby3jiIbiS6G+l+2TXIW+mGvF4beOrshDolY5+Vzdt0RtP1W+C4Icf+py39rEiSJC18jwR2oJvm70MTlPtYW+475xFJw51TVZ+fzgltdI6D2ub7ByWCVNW5wKemUN1NwL8OOfa5trQfJEmSliyTOyRJ0nScTDcc635JvpTkWUnuOY3zz5zg2NgIBpvNODotZjN5b+zalmeNjW7Rr6quBL7fV34+fJ0u6eQhwOlJnpfkPtM4/6yqGja3tZ8VSZKkxeMv23Jj4KIkvx/0AD7Yym07mjAlAL41g3O2pxtxA+AbE5RbPoW6zhkbIXQA+0GSJGnJM7lDkiRNWVWdAbwauBl4HPBfwIVJfpvko0kePUkV10xw7Na2XHvVI9UiNJP3xhZteeEkdf+ur/ycq6rzgL8BrgX+gu5Xmr9OcmmSE5Ls337hNoyfFUmSpNXDWDL82sCWEzw2beXWn+8ApR6XzuCczXvWh007CZP322Bq/aC1plCPJEnSasnkDkmSNC1V9f+A+wB/B5xEd/PnXsChwKlJPp3EL5215FXVx+l+eXk4cALdVCubA0+n++x8I8lGo4tQkiRJ82Bsir4zqypTeYw0Wi11t63i+cNGH5QkSdIsMLlDkiRNW1VdVFXvqqoDq2pLujlvx+aPfirwwtFFpyVk7Fdl95qk3NjxmfwKbZVU1R+q6piqemZV3Ru4H3Ak3U3PPYBl8x2TJEmS5tXv29LpVrS6uqxnfaJpW7ee60AkSZJWdyZ3SJKkVVZVP6mqv2V8ft59RhmPlozvt+WuSTYeVCDJJsCubfOseYlqAlV1XlW9lm5KI/CzIkmStLob6yNtlWTXCUvO3NhoCY76oVH4NXBVW99zgnITHVtVt7elnwFJkrRaM7lDkiRNWZJ1JylyQ1vePmEpaXZ8lm7e5fWAVw8p8zpgXeCWVn5e+FmRJElScxrwq7Z+VJJ1JiqcZLMZtLGyLTeZwbnSKqmqAv67bR6eZNP+Mkl2oJuecq74GZAkSUuCyR2SJGk6TkrykSSPbyMiAN0NyCRvAPZuu744mvC0lFTVhcC72+Zrkrx57H2ZZJMkbwFe1Y7/W1VdPI/hvTfJp5IclGSLsZ1J7prkcOC5bZefFUmSpNVYVd0KHE6XlLw78M0keydZe6xMku2THJ7kLOBFM2jmp215cJINVjloafr+hS6BfUvgK0keApDOXsApwPVz2P7YZ2CPJDvOYTuSJEkjZXKHJEmajvWBw4CTgSuTXJ3kauAK4C10Q6B+BvjQ6ELUEvM64FN07703AVck+QPde/INrcwngDfOc1xrA0+j+zxckuSaJFcC1wDvB9YBzgDeNs9xSZIkaZ5V1dfprg2vAXYDvgZcl+TyJDcC59FdI+7K+BQr03F0Wx4EXJXkd0lWJDlj1aOXJldVv6JLYL+V7n18dpKVwLXA1+n6P69sxW+agxA+C1wGbAr8PMll7TOwIsnD56A9SZKkkVhr1AFIkqRF5aXA44FHATsAW9FNiXER8H3guKr67+GnS7Orqm4GnpHkU8Dz6G4kbkqX3PF94INVdeIIQnsL8APg0cCf0H1W7gpcCvyYLuHkY1V12whikyRJ0jyrqpOS3I9uZI7H0/WnNgGuA34BnEU3qtvJM6j7+CQALwB2Au6BP+rTPKuqzyT5JfB6YE9gY+BC4H/oktp3b0WvmoO2r0zySOAIYA9gC+Du7fB6s92eJEnSqKSbEk+SJEmSJEmSJGn2JXkb3ciLp1bV3pOVlzQtftEnSYtPZnKSGdySJEmSJEmSJGlOJNkc+Ju2+eVRxiJJkrSYOXKHJEmSJEmSJEmasSQvAzYAPgOsqKpbk6wL7A28E9gRuAz4k6q6YnSRSqslv+iTpMVnRiN3rDXbUUiSJEmSJEmSpCVle+DlwL8AtyW5GtiI8e8grgaebmKHJEnSzJncIUmSJEmSJEmSVsVxwG3AI4GtgbsBNwDnA6cA766qC0cXniRJ0uLntCySJEmSJEmSJEnS4uQXfZK0+MxoWpY1ZjsKSZIkSZIkSZIkSZIkzR6TOyRJkiRJkiRJkiRJkhYwkzskSZIkSZIkSZIkSZIWMJM7JEmSJEmSJEmSJEmSFrC1Rh2AJEmSJEmSJEmSpOlJ8vGHPvShow5DkjRNZ5999ser6uDpnmdyhyRJkiRJkiRJkrQInX322WePOoYlYse2/MVIo5Dmju/xRSBVNeoYJEmSJEmSJEmSJGlBSvIDgKraZdSxSHPB9/jisMaoA5AkSZIWkiS7JLktSSXZddTxACTZvcVzS5IHjToeSZIkaT4lWdauhyvJnqOOZy4lOaA9zxuTbD2H7djHkCRJWmRM7pAkSdKikWTndmN3WZKd56iZ99JdJ3++qr4/R21MS1WdAZxKN63iv484HEmSJGmVzNN1/aKTZD3gqLb5gaq6cK7aso8hSZK0+JjcIUmSpMVkZ+CI9pj1m8BJngI8vG0um+36V9HzvNTxAAAgAElEQVSyttwryb6jDESSJElaRXN6Xb+IvQjYDrgROHIe2lvWlvYxJEmSFgGTOyRJkqRxb27LL1fV2SONpE9VnQ6c0TbfPFFZSZIkaXVSVcuqKu2xfNTxzIUk6wOvaZvHVtVFc92mfQxJkqTFxeQOSZIkCWi/VPvTtvmxUcYygbG4dkvyiJFGIkmSJGk2PRfYvK3PZ3/EPoYkSdIiYXKHJEmS1HlhW14DfG6UgUzgM8BNbf1FowxEkiRJ0qwa64+cV1Xfmcd27WNIkiQtEiZ3SJK0QCXZM0m1x7K27/5J3pfkl0muT3JRks8n+csB5z8xyReS/DbJjUkuSPIfSbaaYvtrJHl6khOSnN/auybJL5K8P8lOU6jj3klekuTTSc5Ncm2Sm5NcmmR5klcn2XiK8eyf5FNJft1iuTHJhUl+3Op/UZK7DThv+djrOIU2JiybZFnP32TPtm/vJJ9or9GN7dh2A859UJJ/S/KjJH9IclOL/3+SHJxk6HVZku162j227ds6yduT/Ky9rpcm+XqSJw44f/eev+ON7X3zsST3m+w16anjcUmObe+9a9rf4Ly2b/dJzj20J/5D274HJjmm1XFDkita/M9KkmF1AB/t2f3RnnrHHium+pz66r8b8IS2eVJVXT/N57NrkuPaa3xD+7x9Ismf9p27ZpJnJzk1ycXt7/F/SY5MstFkcVbVlcCX2uaBSe46k+crSZKkpSnJRq3/8eEkP0xyVZJbWh/l7CTvTHLfada5V5IPJPl5T32XJTk9yVuTPLCn7Iyu6wf1xSaIZ5t2fX12X9/r8639NSc5/079wiTPTPLVJL9v9V3Q+kI7Tue1mqDNnYA/a5v/NYXys9bXto8hSZK0eKw16gAkSdLUJDmIbrjUDXp2rw88CXhikudV1UeTrA0cAxzWV8W96X4JdGCSParqVxO0dV+6X+/sPODwA9rj+UneVlVvGlLHnsCpwJ2+qKcbavZR7fH3SZ5SVWcMKDc27/CngTslLQD3bI8HA08F1gHeNex5zbIkeS/w4kkKrQW8E3gJd06sHYv/ycBLkxxQVb+fQsN7AP8N3L1n912AvYC9kry5qpa1JIl/At7QV8U9gL+iey/sU1XfnaCtzYFPtrr7bd8ehyT5MPDCqrplCvEfChwNrNuze72x+IF9gUMnq2eWPQFYu62fNp0Tk7wEOIo7Xlvfuz0OTLJ/VZ2SZEPgBODxfVXsALwa2D/JI6vqskmaPA04gO7fgscAJ00nXkmSJC1NSdYBLuWO1+FjNm2PhwAvS/KKqnrfJPVtTpeI8JgBh+8O7N4er2dwv3DWJXkB3bX5+n2HxvpeTwJemWS/qloxhfrWAz5Bd/3d697AIcAzkxxYVV+608nT01v/hP2R2epr97GPIUmStAiY3CFJ0uKwC/Aa4Ga65IXv0yUKPA54Ft1NnQ8mOQN4GV1ix/8CxwMXAFsCzwf+FNgKOJbuJtudtMSO7zKeOHAG8IVWz5otlkPpbvy9McntVbVsQFXrtbjOobtR9HPgirZ/G7obR7vQ3Xz6QpKdh9xc+2fGEzsubs/pHOBa4K7A/YC/AB456PnMoVfRfUn/e7rX86d011YPow1p25IrPgUc2M65mC5R4sfA9cC2wDPpXofdgK8n+fOJRo2gu4l4IrAh8CHgdOAWuuf/PLoEhSOSfAN4KF1ix69bjP8HbEKX2PGXdK/fx5M8sKpuok+SzYDvAGO/3PsxXVLJr4Db6d5PhwJbt7bXYvKkjMfTJeJcDbwP+CFQLf7DWvyHJPlmVX2k57xT6V7HvYCXtn3vaft7TfTaTWSfnvXvTeO8JwFPAS6j+3v8lO5G8lPo3rfrAickuQ9wHN3z/xZdwtLFdO+BF7fljnQ3op8zSZu9yTj74o1XSZIkTc0adNenFwFfpeszXkJ3bb8N8AhgP7rr+vcmuaiqThxUUUvsOBO4T9t1NV0SxFnASuBudD8WeBJwr55T5+y6viV2HN2z6/PAF4GrgPvT9TfuA+wEnJHkIVNIrP4IXd/1B3R9ud/Q9ZUPpnu91gWOT/KAqrp8ujH3GOuP3E7X35/IbPW1e9nHkKRJVNUuo45Bmku+xxeHVE06QrkkSRqB9muc3l/snAfsVVW/6Sv3OuBtbfNsul9aHQ28pKpu7ym3Ad0Nm7HpVHarqu/11bUG3c24h9IlKPxVVX16QGxbAl+mu1l3O/Dgqjqnr8y2wEZV9ZMJnuOz6JI11gCOrarD+o6vSXeTamO65JKHVdWlQ+raHLhbVf2ib/9yul8tUVUT/lpssrLppsc5omfXGcATq2rlkPpezvhIIscDL+hP3GgJIG8FXtd2vb2qXtNXZjvg/J5dlwOPqaof95V7NvDxtnkOXeLLKcDTe5M32uv6JcZvID6jqj41IP4T6W4MFvB3VfXuAWXuCnwWeGzb9fiq+nJfmUO547DLPwL27f9bJjmQLnkE4OdV9UD69NV1WFUd219mJpKcS3fD9xpgk97PziQxQJcM8rg2nHFvuQ8Af9s2f0B3g/W1VXVkX7kt6F6TewC3AdtU1cUTtL8O3Q3zdYEfVtVDp/IcJUmStLS1fsA+wCk15KZwkgfT9SG2oksS32HQtXGSkxkfke7rdH2OPwwoF2D/qjqpb/+hTOO6vq8v9uiqWt53fDvgZ3SJ1rcBz+7v4wwYFfIzVfW0AW0tp/ULm7cBb+x9zVrf+bOMj7jx6qp6x0TPYZj2d1lJN2rGOVX1p5OUX+W+9oDy9jEkSZIWgaFzu0uSpAXnOf2JHc076b6Qhi4p46fAS/tvwLWkgt4vlfcdUNcBrQ6AVw1K7Gh1XQI8g+6m2RrAyweUuWCim02tzCfobjgBPKNNKdNrc7rEDoDPDUvsaHVd1p/YMceuo0uKGJbYsR7jCRtnAYcMGpGjOq+nG4ED4IXt3Im8tD+xo9X1X3SjcwA8iO4Xas/pH5Wjqm4DlvXsutN7IclDGb9RedSgxI5W17V0o49c3Xa9cpLYbwGeOuhv2X4V+K22+SdJtpmkrlmRZF26qVEAfjlRYscAN9PdyL5ywLE30yXGQJfY8aX+xA6A9lq8t22uyeBhrXvL30x3ox3gQe3GsiRJkjShqrqtqr48LLGjlflfxvsx29ONTnEHSR7BeGLHr+iSN+6U2NHqq/7EjjnyMsanYnnnoOT1qroBeDbdCHoAByXZob9cn1Or6g39r1nrM7yqZ9eg/vVUbc/49KvnTlZ4lvra/eXtY0iSJC0CXqRJkrQ4/KCqvjvoQPvivnfY1mPal/eD9M61e6dREeim64DuFzsfnCigqvo/xqeveOxEZSfx7bZcH3hw37EbetYHxTtKn62qiyY4vi+wRVs/agoJA2M33jYCHj5BuUvppnoZ5ls96/9ZVdcMKfc9ukQLmPi9UHQJREO1xIaT2+YjW7LEMF+oqvMmON47HPN8/c23YXy+6oE3pSfw+aq6YNCBqroQWNGza6I5yyf7bPYbSyZZh27ED0mSJGm2fLtnfbcBxw/uWX9rVV03x/FMxVPa8lYm6L+05Pz/aJthfArNYQYmube6fgX8tm2uSt9l25716fZHJjJRX3sQ+xiSJEkL3FqjDkCSJE3JmZMcv6Rn/XtDS92x3KYDju/RlhcDj+tG0J3QWBLJtknWb7+EuoMkuwHPoUtY2B7YEBj2q6F70U1fAUBVXZ3ke8DDgMe0aULeA5xeVbcMqWO+nD7J8T161jdNcsDQkp2te9b/BFg+pNz3J0kUmdJ7oapuTXIF3XDLE70XrgIeNoX3wro9y+3p5n0eZGCSUo8Le9YHxTUXNutZn+7N1Kl8NsfmIV+Vz2a/K/rKXzisoCRJktSrTWFyCLAnsCOwCTBs9MB7Ddi3e1sW8PnZjW762jSHYwkSP55oxMfmK8Bb2vqg5JVeU+m/bMOq9V1m1B9Zlb72EPYxJEmSFjiTOyRJWhyumOR477QbQ8tW1U09X9Lf4eZdkrsCd2ubDwBOnGaMm9Iz0kabs/dDjI8AMRUbDdj3Yro5nDeimybkAOC6JGfSjXbwNeBb05xKYzZMdqNru571iUZsGGSiG4Oz8l7oKzvoRu52PbHM5L0wzOVTjAmG32Cebb0jjQwb6WSY2fp7TPd5904HtP7QUpIkSVKPJK+gm65zotH2eg3qo40lfFw6bDqWedY7ysT/DS01uMxkI1RMtf8y1ddzkGn1R2axr93PPoYkSdICZ3KHJEmLw3QSF2aa5LDxDM8bs07f9vsYv9l0E920HWfRJUVcx/ioH3sBL23ra/ZXWlXfT7IzsAx4Gt1Npru08/YC3gSsSPKGqvr4Kj6H6bjTKCV9VuX17H8te83HewEWRvzzpTexYio3PXtN+fnMcgJS799nsveiJEmSRJKDgaN6dp0OfINuKsFrgJvb/i2AY9r6nfpojF8zXzv7Uc7Ihj3rU5kipjfuDYeWYtav4YeZbn9kVvraA9jHkCRJWuBM7pAkSWN6b3B9s6oeNdOK2jC/z2ubvwMeVVW/HlJ260H7e1XV+cAhSV4A/AXwCLqhgB9Fl+yxHXB8km2r6p9nGjewxiqc26/39dy+PYfF5Fq64Zl/U1XbTlZ4kev9teFmQ0stLKsylYwkSZKWprGpSG4F9quqLw0qlORBk9Szku569K6zGNuq6B3t4i5TKN8b93RH7psLU+6PzHZfu499DEmrrSTH0k1JdlxVHTrLde8BvIZuWunN6O4vfq6qJpuiWZo1SfYETgOoqknn155m3cuAI4BvVNWes1m3pm82v8CQJEmLWFVdzXhCwqB5ladjL2DsIvLIYTebmiknDlTVjVV1WlW9raoeT/eLslfTzfUM8KYkd+s77Y+/gmrD107k7lONZQp6p21Z1ddzFMbi3yLJsHmbVxe/YXwEjsWW3HEzcPEoA5EkSdLCl2R74D5t86RhiR3NZH2037XlFkkWwvVz7/XwDlMo31vmolmOZSZW9KxP9nrOSV+7r237GJI0RUkeDpwKPIFuuus/AJcAV7bjy9pju1HFKI1akgPa58CEp1lgcockSer1zbbcPsn9VqGeLXvWz5uk7L4zbaSqrq2qdwCfbbvWBf68r9hVPev3HFZXkk2B+880lgG+0bP+2Fmsd76Mxb8e8MhRBtKnd1jkWclCr6qbgV+2zfslWdDXyEnWBbZvmz+tqpqovCRJksTs9tFOb8sAT55hPLN2XV9VlwIXtM2dk2w+ySm9/bPvrUrbs+R8xqeTecAkZeekr20fQ5Jm7BV0syR8C7h7VW1eVVtV1WHt+BHtsd2I4tPScT1wbnssNAfQfQ5M7pgFC/rGtSRJmnfH9az/0yrUc33P+n2HFUqyP/DgVWhnzIqe9f5p537Ws77XBHW8iKnNQzxVJwOXj9Wd5B6zWPd8+FjP+hFJZvO1WRW9091MZcjlqTqzLTcEHjiL9c6FnYGxUWjOnKigJEmS1Ey1j7YNcNiw483xPeuvTzKT6/LZvq4fS/hfi+6LtoGSbEjX94NuBMgTZ6HtVVJVtwE/aJs7JtloguJz1de2jyFJM7NTW36yqpzSSiNTVd+rqh2rasdRx6K5ZXKHJEnq9RngrLb+rCTvmmgqkyTrJzk0yTP7Dp3Vs/4PbVSM/nN3Az4yUTBJHpLkjUm2nKDM3YGntc0C/revyJd71l87JJYnAG+cKJbpqqrrgDe3zc2ALyeZcIjgJLslecdsxjFTVXUm4zdI9wA+PtFNxiRrJXlKkhfPcWjn96w/dBbr/WrP+sNmsd65sFvP+ikji0KSJEmLyc8ZHx1i/yR3uuZt/a6T6BKeh6qq79Ils0M3xclJw6ZnSWe/AYdm+7r+PcANbf0fkxw0IJb16BJTxkZ0/GxV/bK/3IiM9UfWAHadoNys9LUHsI8hSTOzQVteO2EpSZol/b9slSRJS1hV3d5ugn0H2Bp4OfD0JJ8GfgxcDdwVuDfdDae96X5l1Z8Y8R26Xx7tQjfs4C+SHE03LNz6dCNoPKOV/Thw8JCQNqYbQeSIJN8Cvg38H3ANXcLETsCzGZ8b+ONV9Zu+53RmktPpEhTuB5zdYvl1O+9xwP6t3uuBh0zhpZqSqnpvkj8Hnkv3q6mfJfkfuulvLqYbKWTz9jz2ppsD+zzgH2crhlX013RT1exE9/faN8mngO/TzR26Pt375CHAPsCmwIfnOKafAJcCWwDPSXIZ8F3Gb+TeUFXfGHbyBE6mm1t6HWBPpn8zdD49ui2vA742ykAkSZK0OFTVzUmOAV4JrA18M8lH6JIFbqFLsDgM2IRuFL/nTlLlIXRTmtwHeAxwXpJPtvpW0vUNHgw8ia5P2D/1yqxe11fViiR/BxxNd8/7M0k+R3edfxVdEspfMz71yIWMj+CxEJwEvKWt7wmcOqTcbPW1+9nHkLSkJdmObuSnfYBt6ZLtfkOX8PbO/vuNSfqnr/poko/2bB9H93/lmNOSO/xXeEFVbTcbsWv1l2Q58Ci6HxK+DXgZ8Cy6e90bM/7/+GkAVTVwyrskOwFvaHVtAlwEfJHuGuSBk53fU8/edNeUD6NLCj4f+CTw9qq6safcnmN1Nock6f1cADy6qpZP1J7uyOQOSZJ0B1X125aQ8J90CQf3oLtgHOY24Pd9dVQbzeNUYBu6G3Zv6jvvRuDFdHMtD7vhNNZRWhN4ZHsMcwLw/CHHDqG7kNyW7gbYkX3Hz6WbK/qDE9Q/U4cCv6S7cF4XeEp7DPO7OYhhRqpqZZLdgQ/Q3SDchO41HvY6Q9cpmMuYbk3yRuAYupvS/YkwFzCDeUyr6g9JTqab+/HAJBtU1fWTnTffkmwCPL5tnthGiJEkSZKm4vV0idmPpuubvLA9eh0DvINJkjuq6vIkf0HXDxv7guDw9rhT8QHnz/p1fVUdk+6bs6OA9eiS+PcfUPSnwJOr6rLp1D+XquqnSX5ENz3Ks7lz/3ms3Gz1tf/IPoakpS7JwXQ/Vlq37bqJ7t/QB7THYUmeWlVf6TntkrbcnC4RZCXjCYrQ3S+9BBgbjfhKuh8VjVkw/wdpUVkPWA48AriV7geQd7rOGiTJgXTXbWu3XdfS3fd/CXAQ8Lop1vMq4O1t82q6H8rtCCwDHpVknzblHHTv+UvoElDWo7tGubqvypvRtDgtiyRJupOquriqHkP3i6FjgHPofu10G11n5Wd0F4MvBLapqg8NqONXdDcO/4VuCOAb6S4azwXeC+xSVROOjtB+qbUT8A90U4T8otVxe1v+jG6EhUdV1TOr6oYh9ZzfYvnnds4N7Xn8EHgtsOtcDcdbnbfS/aLtTcA36JJhbqZ7TX5H98uotwB/UVV7zkUcM1VVK6vqmXS/5HsX3Wt2BV0H4lq6xJWT6LK171tVA29CznJMH6AbceUkutfvplmq+j/a8q50SR4L0dMYv9nw/lEGIkmSpMWl/ZLysXQjVnyH7guBm+gSKT4F7FtVh9P1t6ZS3yWt//IEuh8H/Jpu5Idb6Ebl+Abdjf4HDDl/1q/rq+poutEH3w78iK4fezPdyIkn041OsnNVrVjVtubAWH/kvkkeMazQbPS1+9jHkLRkJdmHbsSqNemSG+9DNxLSXei+sP403cgEn05y77HzqmqrqtoK+G3b9fKxfe3xvHZ8zFP6jv/5PDw9rX5eTDcy2mHARlW1GV2CUf805XeQZHu6qenWBs6muxe+Id20QvvQXSv92xTa/zO6H00eCWxRVZvSJfj+Uzv+aHpGrKmqb7fPwQlt1wl9n4OtqurbU2hXPVI1pYQeSZIkabWX5Md0naSvVNW+o46nX5Jv0k0xdGZVPXzU8UiSJEmaHUnWo0u02QL4QFW9YJ7atY8habWX5Fi6L52Pq6pD27416H5ItgPwgpZ0OOjczwH7Ae+uqlf0HVtBN1LwYVV17IBzx76EdeoJzVjPtCwA+1XV5weU2ZMh06ok+RDwPLrk2z+pqj/0HX8A3ZTs6w45fxlwRNt8c1UtG9D+Z+lGq/5aVe3Td+xY+j5/mjlH7pAkSZLGLWvLxybZZZSB9GtT5OzRNo+YqKwkSZKkxaWNrDI2hehzk9xzrtu0jyFpiXskXWLH5cCdRiXu8bG2XHA/AtKSc86gxI6JtCnrDmqb7+9P7ACoqnPpRnGbzE3Avw459rm2fPB04tP0mdwhSZIkNVV1It0Q1TCe6LFQLGvLU6vqlFEGIkmSJGlOvB84n25e+tfOQ3vL2tI+hqSl6C/bcmPgoiS/H/QAPtjKbTuaMKU/+tYMztmebuoU6KbMG2b5FOo6p6quHXLsorbcbIpxaYZM7pAkSZLu6CV084w/Kcmuow4G/viLur2BW4GXjTgcSZIkSXOgjd7xyrb5t0m2nqu27GNIEmMjJK0NbDnBY9NWbv35DlDqc+kMztm8Z/2ioaXgwinUdc0Ex25ty7WmUI9WgS+wJEmS1KOqzgbWHHUcvarqDCCTFpQkSZK0qFXVSczDtb99DEn6472fM6vq4SONRJqa21bx/JqVKDRSjtwhSZIkSZIkSZIkaSn5fVs63YpWZ5f1rN9zaCmYs9HCNLtM7pAkSZIkSZIkSZK0lHyrLbeaw2l5x0ZKcKQkjcqvgava+p4TlJvo2Kq6vS39HMwCkzskSZIkSZIkSZIkLSWnAb9q60clWWeiwkk2m0EbK9tykxmcK62yqirgv9vm4Uk27S+TZAfg6XMYhp+DWWRyhyRJkiRJkiRJkqQlo6puBQ4HbgV2B76ZZO8ka4+VSbJ9ksOTnAW8aAbN/LQtD06ywSoHLc3MvwA3AFsCX0nyEIB09gJOAa6fw/bHPgd7JNlxDttZEkzukCRJkiRJkiRJkrSkVNXXgacB1wC7AV8DrktyeZIbgfOA9wO7Mj7FynQc3ZYHAVcl+V2SFUnOWPXopampql8Bz6VLZNoVODvJSuBa4OvAOsArW/Gb5iCEzwKXAZsCP09yWfscrEjy8Dlob7VmcockSZIkSZIkSZKkJaeqTgLuB7wZ+B7dF96b0H3J/WPgQ8CBwP+bQd3HA38FnEE3MsI9gG2Be81G7NJUVdVn6BI7Pk2XaLEucAnwbuAhwNWt6FVz0PaVwCOBTwIXAhvTfQ62Bdab7fZWd+mm2pEkSZIkSZIkSZIkSUtJkrcBrwNOraq9Rx2PhnPkDkmSJEmSJEmSJEmSlpgkmwN/0za/PMpYNDlH7pAkSZIkSZIkSZIkaTWU5GXABsBngBVVdWuSdYG9gXcCO9JN1/InVXXF6CLVZEzukCRJkiRJkiRJkiRpNZTkXcDL2+ZtwNXARsBabd/VwAFVtXz+o9N0rDV5EUmSJEmSJEmSJEmStAgdR5fU8Uhga+BuwA3A+cApwLur6sLRhaepcuQOSZIkSZIkSZIkSZKkBWyNUQcgSZIkSZIkSZIkSZKk4UzukCRJkiRJkiRJkiRJWsBM7pAkSZIkSZIkSZIkSVrATO6QJEmSJEmSJEmSJElawEzukCRJkiRJkiRJkiRJWsBM7pAkSZIkSZIkSZIkSVrATO6QJEmSJEmSJEmSJElawEzukCRJkiRJkiRJkiRNW5JlSao99hx1PHMpyQHted6YZOs5bGf31s4tSR40V+1o8TG5Q5IkSZIkSZIkSZJEkp1bwsayJDuPOp6FIsl6wFFt8wNVdeFctVVVZwCnAmsB/z5X7WjxMblDkiRJkiRJkiRJkgSwM3BEe5jcMe5FwHbAjcCR89DesrbcK8m+89CeFgGTOyRJkiRJkiRJkiRJ01ZVy6oq7bF81PHMhSTrA69pm8dW1UVz3WZVnQ6c0TbfPNftaXEwuUOSJEmSJEmSJEmSpMGeC2ze1j82j+2OtbVbkkfMY7taoEzukCRJkiRJkiRJkiRpsBe25XlV9Z15bPczwE1t/UXz2K4WKJM7JEmSJEmSJEmSJGmEkmyU5OAkH07ywyRXJbklyR+SnJ3knUnuO80690rygSQ/76nvsiSnJ3lrkgf2lD00SQEf7anio0mq77Gir41lPcf2nCSebZIc2Z7PH5LclOTCJJ9v7a85yfnLx9rq2ffMJF9N8vtW3wVJjk2y43Reqwna3An4s7b5X1Mof+8kL0ny6STnJrk2yc1JLm3xvzrJxlNpu6quBL7UNg9McteZPQutLlJVk5eSJEmSJEmSJEmSJM26JOsAK4F1Jyl6K/CKqnrfJPVtTpeI8JjJ2q6qtHMO5Y6JHcNcUFXb9bS1DDiibT66qpYPiekFwFHA+hPU/RNgv6paMaSO5cCj2ub6wCeAA4bUdRNwYFV9acjxKUnyRuCf2uZeVXXaBGX3BE4FMkm1lwFPqaozptD+y4B3t80Dq+qkSYPWamutUQcgSZIkSZIkSZIkSUvYGnSJHRcBXwX+F7gEuB3YBngEsB/dd7vvTXJRVZ04qKKW2HEmcJ+262q6JIiz6BJI7gbsDDwJuFfPqacCBwJ7AS9t+97T9ve6frpPriV2HN2z6/PAF4GrgPsDh7V4dwLOSPKQqrpskmo/QpfY8QPgk8BvgLsDB9O9XusCxyd5QFVdPt2Ye+zTlrcD35+k7Hp0iR3nAKcBPweuaPu3afHuAmwOfCHJzsMSWXp8t2d9X8DkjiXMkTskSZIkSZIkSZIkaUTadCT7AKfUkC9vkzwYOAXYCvg1sENV3T6g3MnA49vm14GnV9UfBpQLsH//SBB9I3gcVlXHThL7MiYYuSPJdsDP6EbauA14dlV9qq/M+sCngSe2XZ+pqqcNaGs54yN3ALwNeGPva5ZkDeCzjI/o8eqqesdEz2GY9ndZCWwAnFNVfzpJ+W2BjarqJxOUeRZwPF1Cz7FVddgkdfaO6vLDqnro9J6FVidrjDoASZIkSZIkSZIkSVqqquq2qvrysMSOVuZ/gde1ze3pRqe4gySPYDyx41d0yRt3Suxo9dU8TfHxMsanYnlnf2JHi+UG4NnAxW3XQUl2mKTeU6vqDf2vWUt4eVXPrn1nFjbQvc4btPVzJytcVRdMlNjRynyCLkFZuWkAAAchSURBVLkD4BlJ1p6k/M10yTwAD2rJK1qi/ONLkiRJkiRJkiRJ0sL37Z713QYcP7hn/a1Vdd0cxzMVT2nLW4F3DitUVSuB/2iboZsiZiLvnqCuXwG/bZsPnFqYA23bsz4wSWaGxv6O6wMPnkL5K9tyHeAesxiHFhmTOyRJkiRJkiRJkiRpxJJsl+SIJKcluTjJDUlq7AH8oqf4vQZUsXtbFvD5OQ94Ekm2YDxB4sdVdekkp3ylZ31Q8kqv705y/MK23HSSchPZrGd9yskdSXZL8p4kZyW5IsnNfX/Ho3uKD/o79ruiZ31Vno8WubVGHYAkSZIkSZIkSZIkLWVJXgEcCaw7xVM2GrBvLFHg0mHTscyz3lEm/m8K5XvLTDZCxeWTHL+pLaf6eg7Se+41kxVOsg7wIeCvptHGoL9jv5U96+sPLaXVnskdkiRJkiRJkiRJkjQiSQ4GjurZdTrwDWAFXVLBzW3/FsAxbX3NAVWNJQpcO/tRzsiGPetTmSKmN+4Nh5YCqur2GUU0PTf1rE8lCeN9jCd23AScDJxFN4rIdcBt7dhewEvb+qC/Y7+Ne9ZvmEJ5raZM7pAkSZIkSZIkSZKk0XlLW94K7FdVXxpUKMmDJqlnJd1UInedxdhWRe9oF3eZQvneuCcdKWMe9I5+stnQUnRT6gDPa5u/Ax5VVb8eUnbracYxo+lhtPpZY9QBSJIkSZIkSZIkSdJSlGR74D5t86RhiR3NtpNU97u23CLJhMkI8+TinvUdplC+t8xFsxzLTKzoWZ/s9dwLSFs/clhiRzPZ37HfWNs3c8fXVEuMyR2SJEmSJEmSJEmSNBpb9qyfN0nZfSc5fnpbBnjyDOPpne4kQ0tNQVVdClzQNndOsvkkpzy2Z/17q9L2LDmf8elkHjBJ2dn8O/5RknWB7dvmT6uqpnquVj8md0iSJEmSJEmSJEnSaFzfs37fYYWSbAMcNkldx/esvz7JVKZC6Xdtz/pMzu/32bZcC3jFsEJJNgRe1DYLOHEW2l4lVXUb8IO2uWOSjSYoPtW/4/7Ag6cRxs7AOm39zGmcp9WQyR2SJEmSJEmSJEmSNBo/Z3x0iP2TPKy/QJItgZOADSeqqKq+C5zcNncATho2PUs6+w04dH7P+kMniX0q3gPc0Nb/MclBA2JZjy4x5Z5t12er6pez0PZs+GpbrgHsOkG5s3rW/yHJpv0FkuwGfGSa7e/Ws37KNM/VamatUQcgSZIkSZIkSZIkSUtRVd2c5BjglcDawDeTfIQuWeAWugSLw4BNgI8Bz52kykPopjS5D/AY4Lwkn2z1rQQ2pRs54knAdtx56pWfAJcCWwDPSXIZ8F3GEzRuqKpvTOP5rUjyd8DRdN9NfybJ5+iSUK6iS0L5a8anHrmQ8RE8FoKTgLe09T2BU4eU+w7dKB+70L2uv0hyNHAusD6wF/CMVvbjwMFTbP/RbXkd8LVpxK3VUJyWR5IkSZIkSZIkSZJGo41ccTLjX+QPcgzwDuC8tn1cVR06pL4tgROAR03SdFXVnWZ6SPL81t4gF1TVdj1llwFHtM1HV9XyITEdDhwFrDdBPD8FnlxVK4bUsZz2nKqqPyllxmUnk+SHdNOjnFdV95ug3P3okj+2GVLkRuDFwO3AR9u+w6rq2CH1bQL8HlgXOL6q/mpGT0CrDadlkSRJkiRJkiRJkqQRqaobgcfSjVjxHeAa4CbgAuBTwL5VdThdUsBU6rukqvYEngD8J/BrupEfbqEbleMbwDLgAUPO/wDwOLpRK37XYlklVXU0cH/g7cCP6EbtuBm4mC6x5TBg52GJHSP2H2153ySPGFaoqn4FPAT4F7rpdm4ErqUbveO9wC5VNZ1pWZ5Gl9gB8P7pBq3VjyN3SJIkSZIkSZIkSZI0QBtZ5QK6qWo+UFUvmKd2vwnsAZxZVQ+fjza1sDlyhyRJkiRJkiRJkiRJA7SRVY5sm89Ncs+5bjPJ7nSJHTA+7Y2WOJM7JEmSJEmSJEmSJEka7v3A+cB6wGvnob1lbXlqVZ0yD+1pEXBaFkmSJEmSJEmSJEmSJpDkAOBE4CbgvlV14Ry1sztwOnArsHNVnTMX7WjxMblDkiRJkiRJkiRJkiRpAXNaFkmSJEmSJEmSJEmSpAXM5A5JkiRJkiRJkiRJkqQFzOQOSZIkSZIkSZIkSZKkBczkDkmSJEmSJEmSJEmSpAXM5A5JkiRJkiRJkiRJkqQFzOQOSZIkSZIkSZIkSZKkBczkDkmSJEmSJEmSJEmSpAXM5A5JkiRJkiRJkiRJkqQFzOQOSZIkSZIkSZIkSZKkBczkDkmSJEmSJEmSJEmSpAXM5A5JkiRJkiRJkiRJkqQFzOQOSZIkSZIkSZIkSZKkBczkDkmSJEmSJEmSJEmSpAXM5A5JkiRJkiRJkiRJkqQFzOQOSZIkSZIkSZIkSZKkBez/Az+0Bzazs95YAAAAAElFTkSuQmCC\n",
                "text/plain": "<Figure size 1224x288 with 5 Axes>"
              }
            ],
            "_view_module": "@jupyter-widgets/output",
            "_model_module_version": "1.0.0",
            "_view_count": null,
            "_view_module_version": "1.0.0",
            "layout": "IPY_MODEL_aef91bbb2a894cad899c269164783139",
            "_model_module": "@jupyter-widgets/output"
          }
        },
        "8c94d43043fa49d79ae4d6e29edf8b6d": {
          "model_module": "@jupyter-widgets/controls",
          "model_name": "SliderStyleModel",
          "state": {
            "_view_name": "StyleView",
            "handle_color": null,
            "_model_name": "SliderStyleModel",
            "description_width": "",
            "_view_module": "@jupyter-widgets/base",
            "_model_module_version": "1.5.0",
            "_view_count": null,
            "_view_module_version": "1.2.0",
            "_model_module": "@jupyter-widgets/controls"
          }
        },
        "40a1d03b2eb64e9081cc8b96dbebeacb": {
          "model_module": "@jupyter-widgets/base",
          "model_name": "LayoutModel",
          "state": {
            "_view_name": "LayoutView",
            "grid_template_rows": null,
            "right": null,
            "justify_content": null,
            "_view_module": "@jupyter-widgets/base",
            "overflow": null,
            "_model_module_version": "1.2.0",
            "_view_count": null,
            "flex_flow": null,
            "width": null,
            "min_width": null,
            "border": null,
            "align_items": null,
            "bottom": null,
            "_model_module": "@jupyter-widgets/base",
            "top": null,
            "grid_column": null,
            "overflow_y": null,
            "overflow_x": null,
            "grid_auto_flow": null,
            "grid_area": null,
            "grid_template_columns": null,
            "flex": null,
            "_model_name": "LayoutModel",
            "justify_items": null,
            "grid_row": null,
            "max_height": null,
            "align_content": null,
            "visibility": null,
            "align_self": null,
            "height": null,
            "min_height": null,
            "padding": null,
            "grid_auto_rows": null,
            "grid_gap": null,
            "max_width": null,
            "order": null,
            "_view_module_version": "1.2.0",
            "grid_template_areas": null,
            "object_position": null,
            "object_fit": null,
            "grid_auto_columns": null,
            "margin": null,
            "display": null,
            "left": null
          }
        },
        "237338dc2b7b4f9d9beb5810e8dd6047": {
          "model_module": "@jupyter-widgets/controls",
          "model_name": "SliderStyleModel",
          "state": {
            "_view_name": "StyleView",
            "handle_color": null,
            "_model_name": "SliderStyleModel",
            "description_width": "initial",
            "_view_module": "@jupyter-widgets/base",
            "_model_module_version": "1.5.0",
            "_view_count": null,
            "_view_module_version": "1.2.0",
            "_model_module": "@jupyter-widgets/controls"
          }
        },
        "40f2d99a17b944b0a5dd63aaa1602117": {
          "model_module": "@jupyter-widgets/base",
          "model_name": "LayoutModel",
          "state": {
            "_view_name": "LayoutView",
            "grid_template_rows": null,
            "right": null,
            "justify_content": null,
            "_view_module": "@jupyter-widgets/base",
            "overflow": null,
            "_model_module_version": "1.2.0",
            "_view_count": null,
            "flex_flow": null,
            "width": null,
            "min_width": null,
            "border": null,
            "align_items": null,
            "bottom": null,
            "_model_module": "@jupyter-widgets/base",
            "top": null,
            "grid_column": null,
            "overflow_y": null,
            "overflow_x": null,
            "grid_auto_flow": null,
            "grid_area": null,
            "grid_template_columns": null,
            "flex": null,
            "_model_name": "LayoutModel",
            "justify_items": null,
            "grid_row": null,
            "max_height": null,
            "align_content": null,
            "visibility": null,
            "align_self": null,
            "height": null,
            "min_height": null,
            "padding": null,
            "grid_auto_rows": null,
            "grid_gap": null,
            "max_width": null,
            "order": null,
            "_view_module_version": "1.2.0",
            "grid_template_areas": null,
            "object_position": null,
            "object_fit": null,
            "grid_auto_columns": null,
            "margin": null,
            "display": null,
            "left": null
          }
        },
        "918c2210a3114987bc770f2b1aeea560": {
          "model_module": "@jupyter-widgets/controls",
          "model_name": "SliderStyleModel",
          "state": {
            "_view_name": "StyleView",
            "handle_color": null,
            "_model_name": "SliderStyleModel",
            "description_width": "initial",
            "_view_module": "@jupyter-widgets/base",
            "_model_module_version": "1.5.0",
            "_view_count": null,
            "_view_module_version": "1.2.0",
            "_model_module": "@jupyter-widgets/controls"
          }
        },
        "e0addc1dbef54e90a9e48b48a43c94e0": {
          "model_module": "@jupyter-widgets/base",
          "model_name": "LayoutModel",
          "state": {
            "_view_name": "LayoutView",
            "grid_template_rows": null,
            "right": null,
            "justify_content": null,
            "_view_module": "@jupyter-widgets/base",
            "overflow": null,
            "_model_module_version": "1.2.0",
            "_view_count": null,
            "flex_flow": null,
            "width": null,
            "min_width": null,
            "border": null,
            "align_items": null,
            "bottom": null,
            "_model_module": "@jupyter-widgets/base",
            "top": null,
            "grid_column": null,
            "overflow_y": null,
            "overflow_x": null,
            "grid_auto_flow": null,
            "grid_area": null,
            "grid_template_columns": null,
            "flex": null,
            "_model_name": "LayoutModel",
            "justify_items": null,
            "grid_row": null,
            "max_height": null,
            "align_content": null,
            "visibility": null,
            "align_self": null,
            "height": null,
            "min_height": null,
            "padding": null,
            "grid_auto_rows": null,
            "grid_gap": null,
            "max_width": null,
            "order": null,
            "_view_module_version": "1.2.0",
            "grid_template_areas": null,
            "object_position": null,
            "object_fit": null,
            "grid_auto_columns": null,
            "margin": null,
            "display": null,
            "left": null
          }
        },
        "1a156ef6fd79482c868ec22de29bc649": {
          "model_module": "@jupyter-widgets/controls",
          "model_name": "DescriptionStyleModel",
          "state": {
            "_view_name": "StyleView",
            "_model_name": "DescriptionStyleModel",
            "description_width": "",
            "_view_module": "@jupyter-widgets/base",
            "_model_module_version": "1.5.0",
            "_view_count": null,
            "_view_module_version": "1.2.0",
            "_model_module": "@jupyter-widgets/controls"
          }
        },
        "166d61297d334b419822ef1cedda65a1": {
          "model_module": "@jupyter-widgets/base",
          "model_name": "LayoutModel",
          "state": {
            "_view_name": "LayoutView",
            "grid_template_rows": null,
            "right": null,
            "justify_content": null,
            "_view_module": "@jupyter-widgets/base",
            "overflow": null,
            "_model_module_version": "1.2.0",
            "_view_count": null,
            "flex_flow": null,
            "width": "max-content",
            "min_width": null,
            "border": null,
            "align_items": null,
            "bottom": null,
            "_model_module": "@jupyter-widgets/base",
            "top": null,
            "grid_column": null,
            "overflow_y": null,
            "overflow_x": null,
            "grid_auto_flow": null,
            "grid_area": null,
            "grid_template_columns": null,
            "flex": null,
            "_model_name": "LayoutModel",
            "justify_items": null,
            "grid_row": null,
            "max_height": null,
            "align_content": null,
            "visibility": null,
            "align_self": null,
            "height": null,
            "min_height": null,
            "padding": null,
            "grid_auto_rows": null,
            "grid_gap": null,
            "max_width": null,
            "order": null,
            "_view_module_version": "1.2.0",
            "grid_template_areas": null,
            "object_position": null,
            "object_fit": null,
            "grid_auto_columns": null,
            "margin": null,
            "display": null,
            "left": null
          }
        },
        "aef91bbb2a894cad899c269164783139": {
          "model_module": "@jupyter-widgets/base",
          "model_name": "LayoutModel",
          "state": {
            "_view_name": "LayoutView",
            "grid_template_rows": null,
            "right": null,
            "justify_content": null,
            "_view_module": "@jupyter-widgets/base",
            "overflow": null,
            "_model_module_version": "1.2.0",
            "_view_count": null,
            "flex_flow": null,
            "width": null,
            "min_width": null,
            "border": null,
            "align_items": null,
            "bottom": null,
            "_model_module": "@jupyter-widgets/base",
            "top": null,
            "grid_column": null,
            "overflow_y": null,
            "overflow_x": null,
            "grid_auto_flow": null,
            "grid_area": null,
            "grid_template_columns": null,
            "flex": null,
            "_model_name": "LayoutModel",
            "justify_items": null,
            "grid_row": null,
            "max_height": null,
            "align_content": null,
            "visibility": null,
            "align_self": null,
            "height": null,
            "min_height": null,
            "padding": null,
            "grid_auto_rows": null,
            "grid_gap": null,
            "max_width": null,
            "order": null,
            "_view_module_version": "1.2.0",
            "grid_template_areas": null,
            "object_position": null,
            "object_fit": null,
            "grid_auto_columns": null,
            "margin": null,
            "display": null,
            "left": null
          }
        }
      }
    }
  },
  "cells": [
    {
      "cell_type": "markdown",
      "metadata": {
        "id": "view-in-github",
        "colab_type": "text"
      },
      "source": [
        "<a href=\"https://colab.research.google.com/github/eejd/course-content/blob/master/tutorials/W3D1_BayesianDecisions/W3D1_Tutorial1.ipynb\" target=\"_parent\"><img src=\"https://colab.research.google.com/assets/colab-badge.svg\" alt=\"Open In Colab\"/></a>"
      ]
    },
    {
      "cell_type": "markdown",
      "metadata": {
        "id": "7j78m6FUt0B5"
      },
      "source": [
        "# Tutorial 1: Bayes with a binary hidden state\n",
        "**Week 3, Day 1: Bayesian Decisions**\n",
        "\n",
        "**By Neuromatch Academy**\n",
        "\n",
        "__Content creators:__ Eric DeWitt, Xaq Pitkow, Ella Batty, Saeed Salehi\n",
        "\n",
        "__Content reviewers:__ "
      ]
    },
    {
      "cell_type": "markdown",
      "metadata": {
        "id": "s-yHhju-t0B6"
      },
      "source": [
        "**Our 2021 Sponsors, including Presenting Sponsor Facebook Reality Labs**\n",
        "\n",
        "<p align='center'><img src='https://github.com/NeuromatchAcademy/widgets/blob/master/sponsors.png?raw=True'/></p>"
      ]
    },
    {
      "cell_type": "markdown",
      "metadata": {
        "id": "uNXtkhEVt0B6"
      },
      "source": [
        "# Tutorial Objectives\n",
        "This is the first of two core tutorials on Bayesian statistics. In these tutorials, we will explore the fundemental concepts of the Bayesian approach. In this tutorial you will work through an example of Bayesian inference and decision making using a binary hidden state. The second tutorial extends these concepts to a continuous hidden state. In the related NMA days, each of these basic ideas will be extended. In Hidden Dynamics, we consider these idea through time as you explore what happens when we infere a hidden state using repeated observations and when the hidden state changes across time. In the Optimal Control day, we will introduce the notion of how to use inference and decisions to select actions for optimal control.\n",
        "\n",
        "This notebook will introduce the fundamental building blocks for Bayesian statistics: \n",
        "\n",
        "1. How do we combine the possible loss (or gain) for making a decision with our probabilitic knowledge?\n",
        "2. How do we use probability distributions to represent hidden states?\n",
        "3. How does marginalization work and how can we use it?\n",
        "4. How do we combine new information with our prior knowledge? "
      ]
    },
    {
      "cell_type": "code",
      "metadata": {
        "cellView": "form",
        "execution": {
          "iopub.execute_input": "2021-06-25T15:15:26.250647Z",
          "iopub.status.busy": "2021-06-25T15:15:26.250126Z",
          "iopub.status.idle": "2021-06-25T15:15:26.382494Z",
          "shell.execute_reply": "2021-06-25T15:15:26.381532Z"
        },
        "id": "ALgjQlhAt0B7",
        "colab": {
          "base_uri": "https://localhost:8080/",
          "height": 580,
          "referenced_widgets": [
            "d23945f4a2134c01bd4401518678b56e",
            "658138badb054de38580ab3433bc7993",
            "4af32ba29c9642e582f0cae414fc189a",
            "767343268f5b43edbc3066b429757810",
            "77e1bb46d6b7424e8d4aacae773ff73c",
            "577958f3593a42f4b73fa256e942fa07"
          ]
        },
        "outputId": "0dc83664-f2d8-4d49-f932-2e0d1b3b6902"
      },
      "source": [
        "# @title Video 1: Introduction to Bayesian Statistics and Decisions\n",
        "from ipywidgets import widgets\n",
        "\n",
        "out2 = widgets.Output()\n",
        "with out2:\n",
        "  from IPython.display import IFrame\n",
        "  class BiliVideo(IFrame):\n",
        "      def __init__(self, id, page=1, width=400, height=300, **kwargs):\n",
        "          self.id=id\n",
        "          src = 'https://player.bilibili.com/player.html?bvid={0}&page={1}'.format(id, page)\n",
        "          super(BiliVideo, self).__init__(src, width, height, **kwargs)\n",
        "\n",
        "  video = BiliVideo(id=\"\", width=854, height=480, fs=1)\n",
        "  print('Video available at https://www.bilibili.com/video/{0}'.format(video.id))\n",
        "  display(video)\n",
        "\n",
        "out1 = widgets.Output()\n",
        "with out1:\n",
        "  from IPython.display import YouTubeVideo\n",
        "  video = YouTubeVideo(id=\"JiEIn9QsrFg\", width=854, height=480, fs=1, rel=0)\n",
        "  print('Video available at https://youtube.com/watch?v=' + video.id)\n",
        "  display(video)\n",
        "\n",
        "out = widgets.Tab([out1, out2])\n",
        "out.set_title(0, 'Youtube')\n",
        "out.set_title(1, 'Bilibili')\n",
        "\n",
        "display(out)"
      ],
      "execution_count": 1,
      "outputs": [
        {
          "output_type": "display_data",
          "data": {
            "application/vnd.jupyter.widget-view+json": {
              "model_id": "d23945f4a2134c01bd4401518678b56e",
              "version_minor": 0,
              "version_major": 2
            },
            "text/plain": [
              "Tab(children=(Output(), Output()), _titles={'0': 'Youtube', '1': 'Bilibili'})"
            ]
          },
          "metadata": {
            "tags": []
          }
        }
      ]
    },
    {
      "cell_type": "markdown",
      "metadata": {
        "id": "-MJ_wgJht0B8"
      },
      "source": [
        "## Setup  \n",
        "Please execute the cells below to initialize the notebook environment."
      ]
    },
    {
      "cell_type": "code",
      "metadata": {
        "execution": {
          "iopub.execute_input": "2021-06-25T15:15:26.396114Z",
          "iopub.status.busy": "2021-06-25T15:15:26.395542Z",
          "iopub.status.idle": "2021-06-25T15:15:26.779072Z",
          "shell.execute_reply": "2021-06-25T15:15:26.779955Z"
        },
        "id": "iM_SevC3t0B8"
      },
      "source": [
        "import numpy as np\n",
        "import matplotlib.pyplot as plt\n",
        "from matplotlib import patches\n",
        "from matplotlib import transforms\n",
        "from matplotlib import gridspec\n",
        "from scipy.optimize import fsolve\n",
        "\n",
        "from collections import namedtuple"
      ],
      "execution_count": 2,
      "outputs": []
    },
    {
      "cell_type": "code",
      "metadata": {
        "cellView": "form",
        "execution": {
          "iopub.execute_input": "2021-06-25T15:15:26.783374Z",
          "iopub.status.busy": "2021-06-25T15:15:26.782267Z",
          "iopub.status.idle": "2021-06-25T15:15:26.826729Z",
          "shell.execute_reply": "2021-06-25T15:15:26.827529Z"
        },
        "id": "hT6l6OOUt0B8"
      },
      "source": [
        "#@title Figure Settings\n",
        "import ipywidgets as widgets       # interactive display\n",
        "from ipywidgets import GridspecLayout\n",
        "from IPython.display import clear_output\n",
        "%config InlineBackend.figure_format = 'retina'\n",
        "plt.style.use(\"https://raw.githubusercontent.com/NeuromatchAcademy/course-content/master/nma.mplstyle\")\n",
        "\n",
        "import warnings\n",
        "warnings.filterwarnings(\"ignore\")"
      ],
      "execution_count": 3,
      "outputs": []
    },
    {
      "cell_type": "code",
      "metadata": {
        "execution": {
          "iopub.execute_input": "2021-06-25T15:15:26.831991Z",
          "iopub.status.busy": "2021-06-25T15:15:26.830372Z",
          "iopub.status.idle": "2021-06-25T15:15:26.901682Z",
          "shell.execute_reply": "2021-06-25T15:15:26.901183Z"
        },
        "id": "7HmFDFOAt0B9",
        "cellView": "form"
      },
      "source": [
        "# @title Plotting Functions\n",
        "\n",
        "def plot_joint_probs(P, ):\n",
        "    assert np.all(P >= 0), \"probabilities should be >= 0\"\n",
        "    # normalize if not\n",
        "    P = P / np.sum(P)\n",
        "    marginal_y = np.sum(P,axis=1)\n",
        "    marginal_x = np.sum(P,axis=0)\n",
        "\n",
        "    # definitions for the axes\n",
        "    left, width = 0.1, 0.65\n",
        "    bottom, height = 0.1, 0.65\n",
        "    spacing = 0.005\n",
        "\n",
        "    # start with a square Figure\n",
        "    fig = plt.figure(figsize=(5, 5))\n",
        "\n",
        "    joint_prob = [left, bottom, width, height]\n",
        "    rect_histx = [left, bottom + height + spacing, width, 0.2]\n",
        "    rect_histy = [left + width + spacing, bottom, 0.2, height]\n",
        "\n",
        "    rect_x_cmap = plt.cm.Blues\n",
        "    rect_y_cmap = plt.cm.Reds\n",
        "\n",
        "    # Show joint probs and marginals\n",
        "    ax = fig.add_axes(joint_prob)\n",
        "    ax_x = fig.add_axes(rect_histx, sharex=ax)\n",
        "    ax_y = fig.add_axes(rect_histy, sharey=ax)\n",
        "\n",
        "    # Show joint probs and marginals\n",
        "    ax.matshow(P,vmin=0., vmax=1., cmap='Greys')\n",
        "    ax_x.bar(0, marginal_x[0], facecolor=rect_x_cmap(marginal_x[0]))\n",
        "    ax_x.bar(1, marginal_x[1], facecolor=rect_x_cmap(marginal_x[1]))\n",
        "    ax_y.barh(0, marginal_y[0], facecolor=rect_y_cmap(marginal_y[0]))\n",
        "    ax_y.barh(1, marginal_y[1], facecolor=rect_y_cmap(marginal_y[1]))\n",
        "    # set limits\n",
        "    ax_x.set_ylim([0,1])\n",
        "    ax_y.set_xlim([0,1])\n",
        "\n",
        "    # show values\n",
        "    ind = np.arange(2)\n",
        "    x,y = np.meshgrid(ind,ind)\n",
        "    for i,j in zip(x.flatten(), y.flatten()):\n",
        "        c = f\"{P[i,j]:.2f}\"\n",
        "        ax.text(j,i, c, va='center', ha='center', color='black')\n",
        "    for i in ind:\n",
        "        v = marginal_x[i]\n",
        "        c = f\"{v:.2f}\"\n",
        "        ax_x.text(i, v +0.1, c, va='center', ha='center', color='black')\n",
        "        v = marginal_y[i]\n",
        "        c = f\"{v:.2f}\"\n",
        "        ax_y.text(v+0.2, i, c, va='center', ha='center', color='black')\n",
        "\n",
        "    # set up labels\n",
        "    ax.xaxis.tick_bottom()\n",
        "    ax.yaxis.tick_left()\n",
        "    ax.set_xticks([0,1])\n",
        "    ax.set_yticks([0,1])\n",
        "    ax.set_xticklabels(['Silver','Gold'])\n",
        "    ax.set_yticklabels(['Small', 'Large'])\n",
        "    ax.set_xlabel('color')\n",
        "    ax.set_ylabel('size')\n",
        "    ax_x.axis('off')\n",
        "    ax_y.axis('off')\n",
        "    return fig\n",
        "# test\n",
        "# P = np.random.rand(2,2)\n",
        "# P = np.asarray([[0.9, 0.8], [0.4, 0.1]])\n",
        "# P = P / np.sum(P)\n",
        "# fig = plot_joint_probs(P)\n",
        "# plt.show(fig)\n",
        "# plt.close(fig)\n",
        "\n",
        "\n",
        "# fig = plot_prior_likelihood(0.5, 0.3)\n",
        "# plt.show(fig)\n",
        "# plt.close(fig)\n",
        "\n",
        "\n",
        "def plot_prior_likelihood_posterior(prior, likelihood, posterior):\n",
        "\n",
        "    # definitions for the axes\n",
        "    left, width = 0.05, 0.3\n",
        "    bottom, height = 0.05, 0.9\n",
        "    padding = 0.12\n",
        "    small_width = 0.1\n",
        "    left_space = left + small_width + padding\n",
        "    added_space = padding + width\n",
        "\n",
        "    fig = plt.figure(figsize=(12, 4))\n",
        "\n",
        "    rect_prior = [left, bottom, small_width, height]\n",
        "    rect_likelihood = [left_space , bottom , width, height]\n",
        "    rect_posterior = [left_space +  added_space, bottom , width, height]\n",
        "\n",
        "    ax_prior = fig.add_axes(rect_prior)\n",
        "    ax_likelihood = fig.add_axes(rect_likelihood, sharey=ax_prior)\n",
        "    ax_posterior = fig.add_axes(rect_posterior, sharey = ax_prior)\n",
        "\n",
        "    rect_colormap = plt.cm.Blues\n",
        "\n",
        "    # Show posterior probs and marginals\n",
        "    ax_prior.barh(0, prior[0], facecolor = rect_colormap(prior[0, 0]))\n",
        "    ax_prior.barh(1, prior[1], facecolor = rect_colormap(prior[1, 0]))\n",
        "    ax_likelihood.matshow(likelihood, vmin=0., vmax=1., cmap='Reds')\n",
        "    ax_posterior.matshow(posterior, vmin=0., vmax=1., cmap='Greens')\n",
        "\n",
        "\n",
        "    # Probabilities plot details\n",
        "    # ax_prior.set(xlim = [1, 0], yticks = [0, 1], yticklabels = ['left', 'right'],\n",
        "    #              ylabel = 'state (s)', title = \"Prior p(s)\")\n",
        "    ax_prior.set(xlim = [1, 0], xticks = [], yticks = [0, 1], yticklabels = ['left', 'right'],\n",
        "                 title = \"Probability of state\")\n",
        "    ax_prior.yaxis.tick_right()\n",
        "    ax_prior.spines['left'].set_visible(False)\n",
        "    ax_prior.spines['bottom'].set_visible(False)\n",
        "\n",
        "    # Likelihood plot details\n",
        "    ax_likelihood.set(xticks = [0, 1], xticklabels = ['fish', 'no fish'],\n",
        "                  yticks = [0, 1], yticklabels = ['left', 'right'],\n",
        "                   ylabel = 'state (s)', xlabel = 'measurement (m)',\n",
        "                   title = 'Likelihood p(m (right) | s)')\n",
        "    ax_likelihood.xaxis.set_ticks_position('bottom')\n",
        "    ax_likelihood.spines['left'].set_visible(False)\n",
        "    ax_likelihood.spines['bottom'].set_visible(False)\n",
        "\n",
        "    # Posterior plot details\n",
        "\n",
        "    ax_posterior.set(xticks = [0, 1], xticklabels = ['fish', 'no fish'],\n",
        "                  yticks = [0, 1], yticklabels = ['left', 'right'],\n",
        "                   ylabel = 'state (s)', xlabel = 'measurement (m)',\n",
        "                   title = 'Posterior p(s | m)')\n",
        "    ax_posterior.xaxis.set_ticks_position('bottom')\n",
        "    ax_posterior.spines['left'].set_visible(False)\n",
        "    ax_posterior.spines['bottom'].set_visible(False)\n",
        "\n",
        "\n",
        "    # show values\n",
        "    ind = np.arange(2)\n",
        "    x,y = np.meshgrid(ind,ind)\n",
        "    for i,j in zip(x.flatten(), y.flatten()):\n",
        "        c = f\"{posterior[i,j]:.2f}\"\n",
        "        ax_posterior.text(j,i, c, va='center', ha='center', color='black')\n",
        "    for i,j in zip(x.flatten(), y.flatten()):\n",
        "        c = f\"{likelihood[i,j]:.2f}\"\n",
        "        ax_likelihood.text(j,i, c, va='center', ha='center', color='black')\n",
        "    for i in ind:\n",
        "        v = prior[i, 0]\n",
        "        c = f\"{v:.2f}\"\n",
        "        ax_prior.text(v+0.2, i, c, va='center', ha='center', color='black')\n",
        "\n",
        "\n",
        "def plot_prior_likelihood(ps, p_a_s1, p_a_s0, measurement):\n",
        "    likelihood = np.asarray([[p_a_s1, 1-p_a_s1],[p_a_s0, 1-p_a_s0]])\n",
        "    assert 0.0 <= ps <= 1.0\n",
        "    prior = np.asarray([ps, 1 - ps])\n",
        "    if measurement:\n",
        "        posterior = likelihood[:, 0] * prior\n",
        "    else:\n",
        "        posterior = (likelihood[:, 1] * prior).reshape(-1)\n",
        "    posterior /= np.sum(posterior)\n",
        "\n",
        "    # definitions for the axes\n",
        "    left, width = 0.05, 0.3\n",
        "    bottom, height = 0.05, 0.9\n",
        "    padding = 0.1\n",
        "    small_width = 0.22\n",
        "    left_space = left + small_width + padding\n",
        "    small_padding = 0.05\n",
        "\n",
        "    fig = plt.figure(figsize=(10, 4))\n",
        "\n",
        "    rect_prior = [left, bottom, small_width, height]\n",
        "    rect_likelihood = [left_space , bottom , width, height]\n",
        "    rect_posterior = [left_space + width + small_padding, bottom , small_width, height]\n",
        "\n",
        "    ax_prior = fig.add_axes(rect_prior)\n",
        "    ax_likelihood = fig.add_axes(rect_likelihood, sharey=ax_prior)\n",
        "    ax_posterior = fig.add_axes(rect_posterior, sharey=ax_prior)\n",
        "\n",
        "    prior_colormap = plt.cm.Blues\n",
        "    posterior_colormap = plt.cm.Greens\n",
        "\n",
        "    # Show posterior probs and marginals\n",
        "    ax_prior.barh(0, prior[0], facecolor = prior_colormap(prior[0]))\n",
        "    ax_prior.barh(1, prior[1], facecolor = prior_colormap(prior[1]))\n",
        "    ax_likelihood.matshow(likelihood, vmin=0., vmax=1., cmap='Reds')\n",
        "    # ax_posterior.matshow(posterior, vmin=0., vmax=1., cmap='')\n",
        "    ax_posterior.barh(0, posterior[0], facecolor = posterior_colormap(posterior[0]))\n",
        "    ax_posterior.barh(1, posterior[1], facecolor = posterior_colormap(posterior[1]))\n",
        "\n",
        "    # Probabilities plot details\n",
        "    ax_prior.set(xlim = [1, 0], yticks = [0, 1], yticklabels = ['left', 'right'],\n",
        "                 ylabel = 'state (s)', title = \"Prior p(s)\")\n",
        "    ax_prior.axis('off')\n",
        "\n",
        "    # Likelihood plot details\n",
        "    ax_likelihood.set(xticks = [0, 1], xticklabels = ['fish', 'no fish'],\n",
        "                  yticks = [0, 1], yticklabels = ['left', 'right'],\n",
        "                   ylabel = 'state (s)', xlabel = 'measurement (m)',\n",
        "                   title = 'Likelihood p(m | s)')\n",
        "    ax_likelihood.xaxis.set_ticks_position('bottom')\n",
        "    ax_likelihood.spines['left'].set_visible(False)\n",
        "    ax_likelihood.spines['bottom'].set_visible(False)\n",
        "\n",
        "    # Posterior plot details\n",
        "    ax_posterior.set(xlim = [0, 1], yticks = [0, 1], yticklabels = ['left', 'right'],\n",
        "                 ylabel = 'state (s)', title = \"Posterior p(s | m)\")\n",
        "    ax_posterior.axis('off')\n",
        "    # ax_posterior.set(xticks = [0, 1], xticklabels = ['fish', 'no fish'],\n",
        "    #               yticks = [0, 1], yticklabels = ['left', 'right'],\n",
        "    #                ylabel = 'state (s)', xlabel = 'measurement (m)',\n",
        "    #                title = 'Posterior p(s | m)')\n",
        "    # ax_posterior.xaxis.set_ticks_position('bottom')\n",
        "    # ax_posterior.spines['left'].set_visible(False)\n",
        "    # ax_posterior.spines['bottom'].set_visible(False)\n",
        "\n",
        "\n",
        "    # show values\n",
        "    ind = np.arange(2)\n",
        "    x,y = np.meshgrid(ind,ind)\n",
        "    # for i,j in zip(x.flatten(), y.flatten()):\n",
        "    #     c = f\"{posterior[i,j]:.2f}\"\n",
        "    #     ax_posterior.text(j,i, c, va='center', ha='center', color='black')\n",
        "    for i in ind:\n",
        "        v = posterior[i]\n",
        "        c = f\"{v:.2f}\"\n",
        "        ax_posterior.text(v+0.2, i, c, va='center', ha='center', color='black')\n",
        "    for i,j in zip(x.flatten(), y.flatten()):\n",
        "        c = f\"{likelihood[i,j]:.2f}\"\n",
        "        ax_likelihood.text(j,i, c, va='center', ha='center', color='black')\n",
        "    for i in ind:\n",
        "        v = prior[i]\n",
        "        c = f\"{v:.2f}\"\n",
        "        ax_prior.text(v+0.2, i, c, va='center', ha='center', color='black')\n",
        "    return fig\n",
        "\n",
        "# fig = plot_prior_likelihood(0.5, 0.3)\n",
        "# plt.show(fig)\n",
        "# plt.close(fig)\n",
        "\n",
        "\n",
        "from matplotlib import colors\n",
        "def plot_utility(ps):\n",
        "    prior = np.asarray([ps, 1 - ps])\n",
        "\n",
        "    utility = np.array([[2, -3], [-2, 1]])\n",
        "\n",
        "    expected = prior @ utility\n",
        "\n",
        "    # definitions for the axes\n",
        "    left, width = 0.05, 0.16\n",
        "    bottom, height = 0.05, 0.9\n",
        "    padding = 0.04\n",
        "    small_width = 0.1\n",
        "    left_space = left + small_width + padding\n",
        "    added_space = padding + width\n",
        "\n",
        "    fig = plt.figure(figsize=(17, 3))\n",
        "\n",
        "    rect_prior = [left, bottom, small_width, height]\n",
        "    rect_utility = [left + added_space , bottom , width, height]\n",
        "    rect_expected = [left + 2* added_space, bottom , width, height]\n",
        "\n",
        "    ax_prior = fig.add_axes(rect_prior)\n",
        "    ax_utility = fig.add_axes(rect_utility, sharey=ax_prior)\n",
        "    ax_expected = fig.add_axes(rect_expected)\n",
        "\n",
        "    rect_colormap = plt.cm.Blues\n",
        "\n",
        "    # Data of plots\n",
        "    ax_prior.barh(0, prior[0], facecolor = rect_colormap(prior[0]))\n",
        "    ax_prior.barh(1, prior[1], facecolor = rect_colormap(prior[1]))\n",
        "    ax_utility.matshow(utility, cmap='cool')\n",
        "    norm = colors.Normalize(vmin=-3, vmax=3)\n",
        "    ax_expected.bar(0, expected[0], facecolor = rect_colormap(norm(expected[0])))\n",
        "    ax_expected.bar(1, expected[1], facecolor = rect_colormap(norm(expected[1])))\n",
        "\n",
        "    # Probabilities plot details\n",
        "    ax_prior.set(xlim = [1, 0], xticks = [], yticks = [0, 1], yticklabels = ['left', 'right'],\n",
        "                 title = \"Probability of state\")\n",
        "    ax_prior.yaxis.tick_right()\n",
        "    ax_prior.spines['left'].set_visible(False)\n",
        "    ax_prior.spines['bottom'].set_visible(False)\n",
        "\n",
        "    # Utility plot details\n",
        "    ax_utility.set(xticks = [0, 1], xticklabels = ['left', 'right'],\n",
        "                  yticks = [0, 1], yticklabels = ['left', 'right'],\n",
        "                   ylabel = 'state (s)', xlabel = 'action (a)',\n",
        "                   title = 'Utility')\n",
        "    ax_utility.xaxis.set_ticks_position('bottom')\n",
        "    ax_utility.spines['left'].set_visible(False)\n",
        "    ax_utility.spines['bottom'].set_visible(False)\n",
        "\n",
        "    # Expected utility plot details\n",
        "    ax_expected.set(title = 'Expected utility', ylim = [-3, 3],\n",
        "                    xticks = [0, 1], xticklabels = ['left', 'right'],\n",
        "                    xlabel = 'action (a)',\n",
        "                    yticks = [])\n",
        "    ax_expected.xaxis.set_ticks_position('bottom')\n",
        "    ax_expected.spines['left'].set_visible(False)\n",
        "    ax_expected.spines['bottom'].set_visible(False)\n",
        "\n",
        "    # show values\n",
        "    ind = np.arange(2)\n",
        "    x,y = np.meshgrid(ind,ind)\n",
        "\n",
        "    for i,j in zip(x.flatten(), y.flatten()):\n",
        "        c = f\"{utility[i,j]:.2f}\"\n",
        "        ax_utility.text(j,i, c, va='center', ha='center', color='black')\n",
        "    for i in ind:\n",
        "        v = prior[i]\n",
        "        c = f\"{v:.2f}\"\n",
        "        ax_prior.text(v+0.2, i, c, va='center', ha='center', color='black')\n",
        "    for i in ind:\n",
        "        v = expected[i]\n",
        "        c = f\"{v:.2f}\"\n",
        "        ax_expected.text(i, 2.5, c, va='center', ha='center', color='black')\n",
        "\n",
        "    return fig\n",
        "\n",
        "\n",
        "def plot_prior_likelihood_utility(ps, p_a_s1, p_a_s0,measurement):\n",
        "    assert 0.0 <= ps <= 1.0\n",
        "    assert 0.0 <= p_a_s1 <= 1.0\n",
        "    assert 0.0 <= p_a_s0 <= 1.0\n",
        "    prior = np.asarray([ps, 1 - ps])\n",
        "    likelihood = np.asarray([[p_a_s1, 1-p_a_s1],[p_a_s0, 1-p_a_s0]])\n",
        "    utility = np.array([[2.0, -3.0], [-2.0, 1.0]])\n",
        "    # expected = np.zeros_like(utility)\n",
        "\n",
        "    if measurement:\n",
        "        posterior = likelihood[:, 0] * prior\n",
        "    else:\n",
        "        posterior = (likelihood[:, 1] * prior).reshape(-1)\n",
        "    posterior /= np.sum(posterior)\n",
        "    # expected[:, 0] = utility[:, 0] * posterior\n",
        "    # expected[:, 1] = utility[:, 1] * posterior\n",
        "    expected = posterior @ utility\n",
        "\n",
        "    # definitions for the axes\n",
        "    left, width = 0.05, 0.15\n",
        "    bottom, height = 0.05, 0.9\n",
        "    padding = 0.05\n",
        "    small_width = 0.1\n",
        "    large_padding = 0.07\n",
        "    left_space = left + small_width + large_padding\n",
        "\n",
        "    fig = plt.figure(figsize=(17, 4))\n",
        "\n",
        "    rect_prior = [left, bottom+0.05, small_width, height-0.1]\n",
        "    rect_likelihood = [left_space, bottom , width, height]\n",
        "    rect_posterior = [left_space + padding + width - 0.02, bottom+0.05 , small_width, height-0.1]\n",
        "    rect_utility = [left_space + padding + width + padding + small_width, bottom , width, height]\n",
        "    rect_expected = [left_space + padding + width + padding + small_width + padding + width, bottom+0.05 , width, height-0.1]\n",
        "\n",
        "    ax_likelihood = fig.add_axes(rect_likelihood)\n",
        "    ax_prior = fig.add_axes(rect_prior, sharey=ax_likelihood)\n",
        "    ax_posterior = fig.add_axes(rect_posterior, sharey=ax_likelihood)\n",
        "    ax_utility = fig.add_axes(rect_utility, sharey=ax_posterior)\n",
        "    ax_expected = fig.add_axes(rect_expected)\n",
        "\n",
        "\n",
        "    prior_colormap = plt.cm.Blues\n",
        "    posterior_colormap = plt.cm.Greens\n",
        "    expected_colormap = plt.cm.Wistia\n",
        "\n",
        "    # Show posterior probs and marginals\n",
        "    ax_prior.barh(0, prior[0], facecolor = prior_colormap(prior[0]))\n",
        "    ax_prior.barh(1, prior[1], facecolor = prior_colormap(prior[1]))\n",
        "    ax_likelihood.matshow(likelihood, vmin=0., vmax=1., cmap='Reds')\n",
        "    ax_posterior.barh(0, posterior[0], facecolor = posterior_colormap(posterior[0]))\n",
        "    ax_posterior.barh(1, posterior[1], facecolor = posterior_colormap(posterior[1]))\n",
        "    ax_utility.matshow(utility, vmin=0., vmax=1., cmap='cool')\n",
        "    # ax_expected.matshow(expected, vmin=0., vmax=1., cmap='Wistia')\n",
        "    ax_expected.bar(0, expected[0], facecolor = expected_colormap(expected[0]))\n",
        "    ax_expected.bar(1, expected[1], facecolor = expected_colormap(expected[1]))\n",
        "\n",
        "    # Probabilities plot details\n",
        "    ax_prior.set(xlim = [1, 0], yticks = [0, 1], yticklabels = ['left', 'right'],\n",
        "                 ylabel = 'state (s)', title = \"Prior p(s)\")\n",
        "    ax_prior.axis('off')\n",
        "\n",
        "    # Likelihood plot details\n",
        "    ax_likelihood.set(xticks = [0, 1], xticklabels = ['fish', 'no fish'],\n",
        "                  yticks = [0, 1], yticklabels = ['left', 'right'],\n",
        "                   ylabel = 'state (s)', xlabel = 'measurement (m)',\n",
        "                   title = 'Likelihood p(m | s)')\n",
        "    ax_likelihood.xaxis.set_ticks_position('bottom')\n",
        "    ax_likelihood.spines['left'].set_visible(False)\n",
        "    ax_likelihood.spines['bottom'].set_visible(False)\n",
        "\n",
        "    # Posterior plot details\n",
        "    ax_posterior.set(xlim = [0, 1], yticks = [0, 1], yticklabels = ['left', 'right'],\n",
        "                 ylabel = 'state (s)', title = \"Posterior p(s | m)\")\n",
        "    ax_posterior.axis('off')\n",
        "\n",
        "    # Utility plot details\n",
        "    ax_utility.set(xticks = [0, 1], xticklabels = ['left', 'right'],\n",
        "                   xlabel = 'action (a)',\n",
        "                   title = 'Utility')\n",
        "    ax_utility.xaxis.set_ticks_position('bottom')\n",
        "    ax_utility.spines['left'].set_visible(False)\n",
        "    ax_utility.spines['bottom'].set_visible(False)\n",
        "\n",
        "    # Expected Utility plot details\n",
        "    ax_expected.set(ylim = [-2, 2], xticks = [0, 1], xticklabels = ['left', 'right'],\n",
        "                 xlabel = 'action (a)', title = 'Expected utility', yticks=[])\n",
        "    # ax_expected.axis('off')\n",
        "    ax_expected.spines['left'].set_visible(False)\n",
        "    # ax_expected.set(xticks = [0, 1], xticklabels = ['left', 'right'],\n",
        "    #                 xlabel = 'action (a)',\n",
        "    #                title = 'Expected utility')\n",
        "    # ax_expected.xaxis.set_ticks_position('bottom')\n",
        "    # ax_expected.spines['left'].set_visible(False)\n",
        "    # ax_expected.spines['bottom'].set_visible(False)\n",
        "\n",
        "    # show values\n",
        "    ind = np.arange(2)\n",
        "    x,y = np.meshgrid(ind,ind)\n",
        "    for i in ind:\n",
        "        v = posterior[i]\n",
        "        c = f\"{v:.2f}\"\n",
        "        ax_posterior.text(v+0.2, i, c, va='center', ha='center', color='black')\n",
        "    for i,j in zip(x.flatten(), y.flatten()):\n",
        "        c = f\"{likelihood[i,j]:.2f}\"\n",
        "        ax_likelihood.text(j,i, c, va='center', ha='center', color='black')\n",
        "    for i,j in zip(x.flatten(), y.flatten()):\n",
        "        c = f\"{utility[i,j]:.2f}\"\n",
        "        ax_utility.text(j,i, c, va='center', ha='center', color='black')\n",
        "    # for i,j in zip(x.flatten(), y.flatten()):\n",
        "    #     c = f\"{expected[i,j]:.2f}\"\n",
        "    #     ax_expected.text(j,i, c, va='center', ha='center', color='black')\n",
        "    for i in ind:\n",
        "        v = prior[i]\n",
        "        c = f\"{v:.2f}\"\n",
        "        ax_prior.text(v+0.2, i, c, va='center', ha='center', color='black')\n",
        "    for i in ind:\n",
        "        v = expected[i]\n",
        "        c = f\"{v:.2f}\"\n",
        "        ax_expected.text(i, v, c, va='center', ha='center', color='black')\n",
        "\n",
        "    # # show values\n",
        "    # ind = np.arange(2)\n",
        "    # x,y = np.meshgrid(ind,ind)\n",
        "    # for i,j in zip(x.flatten(), y.flatten()):\n",
        "    #     c = f\"{P[i,j]:.2f}\"\n",
        "    #     ax.text(j,i, c, va='center', ha='center', color='white')\n",
        "    # for i in ind:\n",
        "    #     v = marginal_x[i]\n",
        "    #     c = f\"{v:.2f}\"\n",
        "    #     ax_x.text(i, v +0.2, c, va='center', ha='center', color='black')\n",
        "    #     v = marginal_y[i]\n",
        "    #     c = f\"{v:.2f}\"\n",
        "    #     ax_y.text(v+0.2, i, c, va='center', ha='center', color='black')\n",
        "\n",
        "    return fig"
      ],
      "execution_count": 4,
      "outputs": []
    },
    {
      "cell_type": "code",
      "metadata": {
        "cellView": "form",
        "execution": {
          "iopub.execute_input": "2021-06-25T15:15:26.909876Z",
          "iopub.status.busy": "2021-06-25T15:15:26.909310Z",
          "iopub.status.idle": "2021-06-25T15:15:26.913133Z",
          "shell.execute_reply": "2021-06-25T15:15:26.912415Z"
        },
        "id": "AdmiGVhrt0B_"
      },
      "source": [
        "# @title Helper Functions\n",
        "\n",
        "def compute_marginal(px, py, cor):\n",
        "    # calculate 2x2 joint probabilities given marginals p(x=1), p(y=1) and correlation\n",
        "    p11 = px*py + cor*np.sqrt(px*py*(1-px)*(1-py))\n",
        "    p01 = px - p11\n",
        "    p10 = py - p11\n",
        "    p00 = 1.0 - p11 - p01 - p10\n",
        "    return np.asarray([[p00, p01], [p10, p11]])\n",
        "# test\n",
        "# print(compute_marginal(0.4, 0.6, -0.8))\n",
        "\n",
        "\n",
        "def compute_cor_range(px,py):\n",
        "    # Calculate the allowed range of correlation values given marginals p(x=1) and p(y=1)\n",
        "    def p11(corr):\n",
        "        return px*py + corr*np.sqrt(px*py*(1-px)*(1-py))\n",
        "    def p01(corr):\n",
        "        return px - p11(corr)\n",
        "    def p10(corr):\n",
        "        return py - p11(corr)\n",
        "    def p00(corr):\n",
        "        return 1.0 - p11(corr) - p01(corr) - p10(corr)\n",
        "    Cmax = min(fsolve(p01, 0.0), fsolve(p10, 0.0))\n",
        "    Cmin = max(fsolve(p11, 0.0), fsolve(p00, 0.0))\n",
        "    return Cmin, Cmax"
      ],
      "execution_count": 5,
      "outputs": []
    },
    {
      "cell_type": "markdown",
      "metadata": {
        "id": "J1iz2eNOt0B_"
      },
      "source": [
        "---\n",
        "# Section 1: Gone Fishin'\n"
      ]
    },
    {
      "cell_type": "code",
      "metadata": {
        "cellView": "form",
        "execution": {
          "iopub.execute_input": "2021-06-25T15:15:26.924621Z",
          "iopub.status.busy": "2021-06-25T15:15:26.924066Z",
          "iopub.status.idle": "2021-06-25T15:15:27.002207Z",
          "shell.execute_reply": "2021-06-25T15:15:27.001495Z"
        },
        "id": "5_-YYorlt0B_",
        "colab": {
          "base_uri": "https://localhost:8080/",
          "height": 580,
          "referenced_widgets": [
            "eb8a07a55a1248f18d6cd529bee3aa4f",
            "4d7dc97fa1654aefab1675f5a56fabe8",
            "14dae3b4af544877a4e3f499a90a7088",
            "96854666301d46b29ed9095e147a3d05",
            "560236ec44b74fd9a5468ab5c6710fc8",
            "4ce7d227148648ad9c84da2241a131b4"
          ]
        },
        "outputId": "272c7e31-1d05-4a67-c7c0-d8b1a0b4e999"
      },
      "source": [
        "# @title Video 2: Gone Fishin'\n",
        "from ipywidgets import widgets\n",
        "\n",
        "out2 = widgets.Output()\n",
        "with out2:\n",
        "  from IPython.display import IFrame\n",
        "  class BiliVideo(IFrame):\n",
        "      def __init__(self, id, page=1, width=400, height=300, **kwargs):\n",
        "          self.id=id\n",
        "          src = 'https://player.bilibili.com/player.html?bvid={0}&page={1}'.format(id, page)\n",
        "          super(BiliVideo, self).__init__(src, width, height, **kwargs)\n",
        "\n",
        "  video = BiliVideo(id=\"\", width=854, height=480, fs=1)\n",
        "  print('Video available at https://www.bilibili.com/video/{0}'.format(video.id))\n",
        "  display(video)\n",
        "\n",
        "out1 = widgets.Output()\n",
        "with out1:\n",
        "  from IPython.display import YouTubeVideo\n",
        "  video = YouTubeVideo(id=\"McALsTzb494\", width=854, height=480, fs=1, rel=0)\n",
        "  print('Video available at https://youtube.com/watch?v=' + video.id)\n",
        "  display(video)\n",
        "\n",
        "out = widgets.Tab([out1, out2])\n",
        "out.set_title(0, 'Youtube')\n",
        "out.set_title(1, 'Bilibili')\n",
        "\n",
        "display(out)"
      ],
      "execution_count": 6,
      "outputs": [
        {
          "output_type": "display_data",
          "data": {
            "application/vnd.jupyter.widget-view+json": {
              "model_id": "eb8a07a55a1248f18d6cd529bee3aa4f",
              "version_minor": 0,
              "version_major": 2
            },
            "text/plain": [
              "Tab(children=(Output(), Output()), _titles={'0': 'Youtube', '1': 'Bilibili'})"
            ]
          },
          "metadata": {
            "tags": []
          }
        }
      ]
    },
    {
      "cell_type": "markdown",
      "metadata": {
        "id": "TsgTLr20t0CA"
      },
      "source": [
        "<details>\n",
        "<summary> <font color=‘blue’>Click here for text recap of video </font></summary>\n",
        "You were just introduced to the **binary hidden state problem** we are going to explore. You need to decide which side to fish on--the hidden state. We know fish like to school together. On different days the school of fish is either on the left or right side, but we don’t know what the case is today. We define our knowledge about the fish location as a distribution over the random hidden state variable. Using our probabilistic knowledge, also called our **belief** about the hidden state, we will explore how to make the decision about where to fish today, based on what to expect in terms of gains or losses for the decision.\n",
        "The gains and losss are defined by the utility of choosing an action, which is fishing on the left or right. The details of the utilities are described \n",
        "</details>\n",
        "\n",
        "In the next two sections we will consider just the probability of where the fish might be and what you gain or lose by choosing where to fish.\n",
        "\n",
        "Remember, you can either think of your self as a scientist conducting an experiment or as a brain trying to make a decision. The Bayesian approach is the same!\n"
      ]
    },
    {
      "cell_type": "markdown",
      "metadata": {
        "id": "PGs2lr8_t0CA"
      },
      "source": [
        "---\n",
        "# Section 2: Deciding where to fish \n",
        "\n"
      ]
    },
    {
      "cell_type": "code",
      "metadata": {
        "cellView": "form",
        "execution": {
          "iopub.execute_input": "2021-06-25T15:15:27.027109Z",
          "iopub.status.busy": "2021-06-25T15:15:27.026597Z",
          "iopub.status.idle": "2021-06-25T15:15:27.095976Z",
          "shell.execute_reply": "2021-06-25T15:15:27.095432Z"
        },
        "id": "p_Q8_7Jrt0CB",
        "colab": {
          "base_uri": "https://localhost:8080/",
          "height": 580,
          "referenced_widgets": [
            "bdf08646bbef4c11a2264772a62dc2c9",
            "b7fb477e07f946819faa19391212d410",
            "6a108473947343319aea5c977ac80799",
            "d4277a101a59463a8e08c4ba4b16c832",
            "8de64f6b9a664e388f42d7dfa329b2dc",
            "c29838ca593d4f77bd605647967fb191"
          ]
        },
        "outputId": "0b5e7c9f-5591-4fce-d21c-4add21050521"
      },
      "source": [
        "# @title Video 3: Utility\n",
        "from ipywidgets import widgets\n",
        "\n",
        "out2 = widgets.Output()\n",
        "with out2:\n",
        "  from IPython.display import IFrame\n",
        "  class BiliVideo(IFrame):\n",
        "      def __init__(self, id, page=1, width=400, height=300, **kwargs):\n",
        "          self.id=id\n",
        "          src = 'https://player.bilibili.com/player.html?bvid={0}&page={1}'.format(id, page)\n",
        "          super(BiliVideo, self).__init__(src, width, height, **kwargs)\n",
        "\n",
        "  video = BiliVideo(id=\"\", width=854, height=480, fs=1)\n",
        "  print('Video available at https://www.bilibili.com/video/{0}'.format(video.id))\n",
        "  display(video)\n",
        "\n",
        "out1 = widgets.Output()\n",
        "with out1:\n",
        "  from IPython.display import YouTubeVideo\n",
        "  video = YouTubeVideo(id=\"xvIVZrqF_5s\", width=854, height=480, fs=1, rel=0)\n",
        "  print('Video available at https://youtube.com/watch?v=' + video.id)\n",
        "  display(video)\n",
        "\n",
        "out = widgets.Tab([out1, out2])\n",
        "out.set_title(0, 'Youtube')\n",
        "out.set_title(1, 'Bilibili')\n",
        "\n",
        "display(out)"
      ],
      "execution_count": 7,
      "outputs": [
        {
          "output_type": "display_data",
          "data": {
            "application/vnd.jupyter.widget-view+json": {
              "model_id": "bdf08646bbef4c11a2264772a62dc2c9",
              "version_minor": 0,
              "version_major": 2
            },
            "text/plain": [
              "Tab(children=(Output(), Output()), _titles={'0': 'Youtube', '1': 'Bilibili'})"
            ]
          },
          "metadata": {
            "tags": []
          }
        }
      ]
    },
    {
      "cell_type": "markdown",
      "metadata": {
        "id": "rCDm6hjxt0CB"
      },
      "source": [
        "<details>\n",
        "<summary> <font color=‘blue’>Click here for text recap of video </font></summary>\n",
        "You need to decide where to fish. It may seem obvious - you could just fish on the side where the probability of the fish being is higher! Unfortunately, decisions and actions are always a little more complicated. Deciding to fish may be influenced by more than just the probability of the school of fish being there as we saw by the potential issues of submarines and sunburn. The consequences of the action you take is based on the true (but hidden) state of the world and the action you choose! In our example, fishing on the wrong side, where there aren't many fish, is likely to lead to you spending your afternoon not catching fish and therefor getting a sunburn. The submarine represents a risk to fishing on the right side that is greater than the left side. If you want to know what to expect from taking the action of fishing on one side or the other, you need to calculate the expected utility.\n",
        "</details>\n",
        "\n",
        "You know the (prior) probability that the school of fish is on the left side of the dock today, $P(s = left)$. So, you also know the probability the school is on the right, $P(s = right)$, because these two probabilities must add up to 1.\n",
        "\n",
        "We quantify gains and losses numerically using a **utility** function $U(s,a)$, which describes the consequences of your actions: how much value you gain (or if negative, lose) given the state of the world ($s$) and the action you take ($a$). In our example, our utility can be summarized as:\n",
        "\n",
        "| Utility: U(s,a)   | a = left   | a = right  |\n",
        "| ----------------- |------------|------------|\n",
        "| s = Left          | +2         | -3         |\n",
        "| s = right         | -2         | +1         |\n",
        "\n",
        "To use possible gains and losses to choose an action, we calculate the **expected utility** of that action by weighing these utilities with the probability of that state occuring. This allows us to choose actions by taking probabilities of events into account: we don't care if the outcome of an action-state pair is a loss if the probability of that state is very low. We can formalize this as:\n",
        "\n",
        "$$ \\text{Expected utility of action a} = \\sum_{s}U(s,a)P(s) $$\n",
        "\n",
        "In other words, the expected utility of an action a is the sum over possible states of the utility of that action and state times the probability of that state.\n"
      ]
    },
    {
      "cell_type": "markdown",
      "metadata": {
        "id": "O_sMqk8Vt0CB"
      },
      "source": [
        "## Interactive Demo 2: Exploring the decision\n",
        "\n",
        "Let's start to get a sense of how all this works using the interactive demo below. You can change the probability that the school of fish is on the left side ($p(s = left)$ using the slider. You will see the utility function (a matrix) in the middle and the corresponding expected utility for each action on the right.\n",
        "\n",
        "First, make sure you understand how the expected utility of each action is being computed from the probabilities and the utility values. In the initial state: the probability of the fish being on the left is 0.9 and on the right is 0.1. The expected utility of the action of fishing on the left is then $U(s = left,a = left)p(s = left) + U(s = right,a = left)p(s = right) = 2(0.9) + -2(0.1) = 1.6$.\n",
        "\n",
        "For each of these scenarios, think and discuss first. Then use the demo to try out each and see if your action would have been correct (that is, if the expected value of that action is the highest).\n",
        "\n",
        "\n",
        "1.  You just arrived at the dock for the first time and have no sense of where the fish might be. So you guess that the probability of the school being on the left side is 0.5 (so the probability on the right side is also 0.5). Which side would you choose to fish on given our utility values?\n",
        "2.  You think that the probability of the school being on the left side is very low (0.1) and correspondingly high on the right side (0.9). Which side would you choose to fish on given our utility values?\n",
        "3.  What would you choose if the probability of the school being on the left side is slightly lower than on the right side (0. 4 vs 0.6)?"
      ]
    },
    {
      "cell_type": "code",
      "metadata": {
        "execution": {
          "iopub.execute_input": "2021-06-25T15:15:27.125816Z",
          "iopub.status.busy": "2021-06-25T15:15:27.125160Z",
          "iopub.status.idle": "2021-06-25T15:15:27.363022Z",
          "shell.execute_reply": "2021-06-25T15:15:27.362492Z"
        },
        "id": "cZuvdPCit0CC",
        "colab": {
          "base_uri": "https://localhost:8080/",
          "height": 326,
          "referenced_widgets": [
            "4df3e30393d740a1a75b831b5a45ba62",
            "8da8722b3e3f42e3a7910d509bc9bbaa",
            "c18fbd0cb31449459a08b11b15499d66",
            "325d6d1c4e064e02be6c8956a07f81c7",
            "407739f537dd45808d4ad09904774591",
            "995d7aa1e8074aafbe67b9dd139f4e24",
            "d2a9d1bc66874151bda6bdcbe2592165"
          ]
        },
        "cellView": "form",
        "outputId": "2215ec71-a7a0-487c-e552-4a56dfec90da"
      },
      "source": [
        "# @markdown Execute this cell to use the widget\n",
        "ps_widget = widgets.FloatSlider(0.9, description='p(s = left)', min=0.0, max=1.0, step=0.01)\n",
        "\n",
        "@widgets.interact(\n",
        "    ps = ps_widget,\n",
        ")\n",
        "def make_utility_plot(ps):\n",
        "    fig = plot_utility(ps)\n",
        "    plt.show(fig)\n",
        "    plt.close(fig)\n",
        "    return None"
      ],
      "execution_count": 8,
      "outputs": [
        {
          "output_type": "display_data",
          "data": {
            "application/vnd.jupyter.widget-view+json": {
              "model_id": "4df3e30393d740a1a75b831b5a45ba62",
              "version_minor": 0,
              "version_major": 2
            },
            "text/plain": [
              "interactive(children=(FloatSlider(value=0.9, description='p(s = left)', max=1.0, step=0.01), Output()), _dom_c…"
            ]
          },
          "metadata": {
            "tags": []
          }
        }
      ]
    },
    {
      "cell_type": "code",
      "metadata": {
        "execution": {
          "iopub.execute_input": "2021-06-25T15:15:27.368248Z",
          "iopub.status.busy": "2021-06-25T15:15:27.367081Z",
          "iopub.status.idle": "2021-06-25T15:15:27.368872Z",
          "shell.execute_reply": "2021-06-25T15:15:27.369319Z"
        },
        "id": "WT5uV0pXt0CC"
      },
      "source": [
        "# to_remove explanation\n",
        "\n",
        "# 1)  With equal probabilities, the expected utility is higher on the left side,\n",
        "#    since that is the side without submarines, so you would choose to fish there.\n",
        "\n",
        "# 2)  If the probability that the fish is on the right side is high, you would\n",
        "#     choose to fish there. The high probability of fish being on the right far outweights\n",
        "#    the slightly higher utilities from fishing on the left (as you are unlikely to gain these)\n",
        "\n",
        "# 3)  If the probability that the fish is on the right side is just slightly higher\n",
        "#.    than on the left, you would choose the left side as the expected utility is still\n",
        "#.    higher on the left. Note that in this situation, you are not simply choosing the\n",
        "#.    side with the higher probability - the utility really matters here for the decision"
      ],
      "execution_count": 9,
      "outputs": []
    },
    {
      "cell_type": "markdown",
      "metadata": {
        "id": "ktZnlrodt0CC"
      },
      "source": [
        "In this section, you have seen that both the utility of various state and action pairs and our knowledge of the probability of each state affects your decision. Importantly, we want our knowledge of the probability of each state to be as accurate as possible! \n",
        "\n",
        "So how do we know these probabilities? We may have prior knowledge from years of fishing at the same dock, learning that the fish are more likely to be on the left side, for example. Of course, we need to update our knowledge (our belief)! To do this, we need to collect more information, or take some measurements! In the next few sections, we will focus on how we improve our knowledge of the probabilities."
      ]
    },
    {
      "cell_type": "markdown",
      "metadata": {
        "id": "mBtiCxk_t0CC"
      },
      "source": [
        "---\n",
        "# Section 3: Likelihood of the fish being on either side\n",
        " \n"
      ]
    },
    {
      "cell_type": "code",
      "metadata": {
        "cellView": "form",
        "execution": {
          "iopub.execute_input": "2021-06-25T15:15:27.382108Z",
          "iopub.status.busy": "2021-06-25T15:15:27.380574Z",
          "iopub.status.idle": "2021-06-25T15:15:27.447741Z",
          "shell.execute_reply": "2021-06-25T15:15:27.448200Z"
        },
        "id": "pOrap36Ht0CD",
        "colab": {
          "base_uri": "https://localhost:8080/",
          "height": 580,
          "referenced_widgets": [
            "eb558f916278446ca9daeee7e7a392d1",
            "1bc94ca554184e1c8edd88e8ee6d8321",
            "6772895e1df94ec99e8d68f01c802e8e",
            "e162e89e2683456db7c27226379ed850",
            "bfc9403ee3224dfdaeba1c75750ffedf",
            "2f2234da9c3644cf8719ff69dd703964"
          ]
        },
        "outputId": "5556d4ef-1412-4d0e-d233-7e77ac6d5699"
      },
      "source": [
        "# @title Video 4: Likelihood\n",
        "from ipywidgets import widgets\n",
        "\n",
        "out2 = widgets.Output()\n",
        "with out2:\n",
        "  from IPython.display import IFrame\n",
        "  class BiliVideo(IFrame):\n",
        "      def __init__(self, id, page=1, width=400, height=300, **kwargs):\n",
        "          self.id=id\n",
        "          src = 'https://player.bilibili.com/player.html?bvid={0}&page={1}'.format(id, page)\n",
        "          super(BiliVideo, self).__init__(src, width, height, **kwargs)\n",
        "\n",
        "  video = BiliVideo(id=\"\", width=854, height=480, fs=1)\n",
        "  print('Video available at https://www.bilibili.com/video/{0}'.format(video.id))\n",
        "  display(video)\n",
        "\n",
        "out1 = widgets.Output()\n",
        "with out1:\n",
        "  from IPython.display import YouTubeVideo\n",
        "  video = YouTubeVideo(id=\"l4m0JzMWGio\", width=854, height=480, fs=1, rel=0)\n",
        "  print('Video available at https://youtube.com/watch?v=' + video.id)\n",
        "  display(video)\n",
        "\n",
        "out = widgets.Tab([out1, out2])\n",
        "out.set_title(0, 'Youtube')\n",
        "out.set_title(1, 'Bilibili')\n",
        "\n",
        "display(out)"
      ],
      "execution_count": 10,
      "outputs": [
        {
          "output_type": "display_data",
          "data": {
            "application/vnd.jupyter.widget-view+json": {
              "model_id": "eb558f916278446ca9daeee7e7a392d1",
              "version_minor": 0,
              "version_major": 2
            },
            "text/plain": [
              "Tab(children=(Output(), Output()), _titles={'0': 'Youtube', '1': 'Bilibili'})"
            ]
          },
          "metadata": {
            "tags": []
          }
        }
      ]
    },
    {
      "cell_type": "markdown",
      "metadata": {
        "id": "vi-Imgynt0CD"
      },
      "source": [
        "<details>\n",
        "<summary> <font color=‘blue’>Click here for text recap of video </font></summary>\n",
        "First, we'll think about what it means to take a measurement (also often called an observation or just data) and what it tells you about what the hidden state may be. Specifically, we'll be looking at the **likelihood**, which is the probability of your measurement ($m$) given the hidden state ($s$): $P(m | s)$. Remember that in this case, the hidden state is which side of the dock the school of fish is on.\n",
        "We will watch someone fish (for let's say 10 minutes) and our measurement is whether they catch a fish or not. We know something about what catching a fish means for the likelihood of the fish being on one side or the other.\n",
        "</details>"
      ]
    },
    {
      "cell_type": "markdown",
      "metadata": {
        "id": "mxO9yvNNt0CD"
      },
      "source": [
        "## Think! 3: Guessing the location of the fish\n",
        "\n",
        "Let's say we go to different dock to fish. Here, there are different probabilities of catching fish given the state of the world. At this dock, if you fish on the side of the dock where the fish are, you have a 70% chance of catching a fish. If you fish on the wrong side, you will only catch a fish with only 20% probability. These are the likelihoods of observing someone catching a fish! That is, you are taking a measurement by seeing if someone else catches a fish!\n",
        "\n",
        "You see a fisherperson is fishing on the left side.\n",
        "\n",
        "1) Please calculate each of the following (best to each do the math and then compare your answers and dsicuss!):\n",
        "- probability of catching a fish given that the school of fish is on the left side, $P(m = catch\\text{ } fish | s = left )$\n",
        "- probability of not catching a fish given that the school of fish is on the left side, $P(m = no \\text{ } fish | s = left)$\n",
        "- probability of catching a fish given that the school of fish is on the right side, $P(m = catch  \\text{ } fish | s = right)$\n",
        "- probability of not catching a fish given that the school of fish is on the right side, $P(m = no \\text{ } fish | s = right)$\n",
        "\n",
        "2) If the fisherperson catches a fish, which side would you guess the school is on? Why?\n",
        "\n",
        "3) If the fisherperson does not catch a fish, which side would you guess the school is on? Why?\n"
      ]
    },
    {
      "cell_type": "code",
      "metadata": {
        "execution": {
          "iopub.execute_input": "2021-06-25T15:15:27.459236Z",
          "iopub.status.busy": "2021-06-25T15:15:27.458560Z",
          "iopub.status.idle": "2021-06-25T15:15:27.460258Z",
          "shell.execute_reply": "2021-06-25T15:15:27.459756Z"
        },
        "id": "K5XXQwDkt0CE"
      },
      "source": [
        "#to_remove explanation\n",
        "\n",
        "# 1) The fisherperson is on the left side so:\n",
        "#       - P(m = catch fish | s = left) = 0.7 because they have a 70% chance of catching\n",
        "#         a fish when on the same side as the school\n",
        "#       - P(m = no fish | s = left) = 0.3 because the probability of catching a fish\n",
        "#         and not catching a fish for a given state must add up to 1 as these\n",
        "#         are the only options: 1 - 0.7 = 0.3\n",
        "#       - P(m = catch fish | s = right) = 0.2\n",
        "#       - P(m = no fish | s = right) = 0.8\n",
        "\n",
        "# 2) If the fisherperson catches a fish, you would guess the school of fish is on the\n",
        "#     left side. This is because the probability of catching a fish given that the\n",
        "#    school is on the left side (0.7) is higher than the probability given that\n",
        "#    the school is on the right side (0.2).\n",
        "\n",
        "# 3) If the fisherperson does not catch a fish, you would guess the school of fish is on the\n",
        "#     right side. This is because the probability of not catching a fish given that the\n",
        "#    school is on the right side (0.8) is higher than the probability given that\n",
        "#    the school is on the right side (0.3)."
      ],
      "execution_count": 11,
      "outputs": []
    },
    {
      "cell_type": "markdown",
      "metadata": {
        "id": "1iRT1vMAt0CE"
      },
      "source": [
        "In the prior exercise, you tried to guess where the school of fish was based on the measurement you took (watching someone fish). You did this by choosing the state (side where you think the fish are) that maximized the probability of the measurement. In other words, you estimated the state by maximizing the likelihood (the side with the highest probability of measurement given state $P(m|s$)). This is called maximum likelihood estimation (MLE) and you've encountered it before during this course, in W1D3!\n",
        "\n",
        "But, what if you had been going to this dock for years and you knew that the fish were almost always on the left side? This should probably affect how you make your estimate -- you would rely less on the single new measurement and more on your prior knowledge. This is the fundemental idea behind Bayesian inference, as we will see later in this tutorial!"
      ]
    },
    {
      "cell_type": "markdown",
      "metadata": {
        "id": "-AqVdGw8t0CE"
      },
      "source": [
        "---\n",
        "# Section 4: Correlation and marginalization\n"
      ]
    },
    {
      "cell_type": "code",
      "metadata": {
        "cellView": "form",
        "execution": {
          "iopub.execute_input": "2021-06-25T15:15:27.507590Z",
          "iopub.status.busy": "2021-06-25T15:15:27.505019Z",
          "iopub.status.idle": "2021-06-25T15:15:27.573883Z",
          "shell.execute_reply": "2021-06-25T15:15:27.572166Z"
        },
        "id": "zBD5Lig6t0CE",
        "colab": {
          "base_uri": "https://localhost:8080/",
          "height": 580,
          "referenced_widgets": [
            "4380e44501ed49588f874f5991516c44",
            "0d658f68b10347c8947e99ea08fbef5a",
            "07a95861bc734b50ad2f7ab69483a95a",
            "22e4e2fb7c134acaafaec0cf8f7e1f1c",
            "ea26440de65d42df9fb3039d8c8f351d",
            "b9814a6f5c394811b702ab6d537254c4"
          ]
        },
        "outputId": "cafb7564-fad0-4dad-e2c4-1f8007197350"
      },
      "source": [
        "# @title Video 5: Correlation and marginalization\n",
        "from ipywidgets import widgets\n",
        "\n",
        "out2 = widgets.Output()\n",
        "with out2:\n",
        "  from IPython.display import IFrame\n",
        "  class BiliVideo(IFrame):\n",
        "      def __init__(self, id, page=1, width=400, height=300, **kwargs):\n",
        "          self.id=id\n",
        "          src = 'https://player.bilibili.com/player.html?bvid={0}&page={1}'.format(id, page)\n",
        "          super(BiliVideo, self).__init__(src, width, height, **kwargs)\n",
        "\n",
        "  video = BiliVideo(id=\"\", width=854, height=480, fs=1)\n",
        "  print('Video available at https://www.bilibili.com/video/{0}'.format(video.id))\n",
        "  display(video)\n",
        "\n",
        "out1 = widgets.Output()\n",
        "with out1:\n",
        "  from IPython.display import YouTubeVideo\n",
        "  video = YouTubeVideo(id=\"vsDjtWi-BVo\", width=854, height=480, fs=1, rel=0)\n",
        "  print('Video available at https://youtube.com/watch?v=' + video.id)\n",
        "  display(video)\n",
        "\n",
        "out = widgets.Tab([out1, out2])\n",
        "out.set_title(0, 'Youtube')\n",
        "out.set_title(1, 'Bilibili')\n",
        "\n",
        "display(out)"
      ],
      "execution_count": 12,
      "outputs": [
        {
          "output_type": "display_data",
          "data": {
            "application/vnd.jupyter.widget-view+json": {
              "model_id": "4380e44501ed49588f874f5991516c44",
              "version_minor": 0,
              "version_major": 2
            },
            "text/plain": [
              "Tab(children=(Output(), Output()), _titles={'0': 'Youtube', '1': 'Bilibili'})"
            ]
          },
          "metadata": {
            "tags": []
          }
        }
      ]
    },
    {
      "cell_type": "markdown",
      "metadata": {
        "id": "U04XPRUGt0CF"
      },
      "source": [
        "<details>\n",
        "<summary> <font color=‘blue’>Click here for text recap of video </font></summary>\n",
        "In this section, we are going to take a step back for a bit and think more generally about the amount of information shared between two random variables. We want to know how much information you gain when you observe one variable (take a measurement) if you know something about another. We will see that the fundamental concept is the same if we think about two attributes, for example the size and color of the fish, or the prior information and the likelihood.\n",
        "</details>"
      ]
    },
    {
      "cell_type": "markdown",
      "metadata": {
        "id": "t-p0yibst0CF"
      },
      "source": [
        "## Math Exercise 4: Computing marginal likelihoods\n",
        "\n",
        "To understand the information between two variables, let's first consider the size and color of the fish.\n",
        "\n",
        "| P(X, Y)   | Y = silver   | Y = gold  |\n",
        "| ----------------- |----------|----------|\n",
        "| X = small          | 0.4          | 0.2         |\n",
        "| X = large         | 0.1         |  0.3         |\n",
        "\n",
        "The table above shows us the **joint probabilities**: the probability of both specific attributes occuring together. For example, the probability of a fish being small and silver ($P(X = small, Y = silver$) is 0.4.\n",
        "\n",
        "We want to know what the probability of a fish being small  regardless of color. Since the fish are either silver or gold, this would be the probability of a fish being small and silver plus the probability of a fish being small and gold. This is an example of marginalizing, or averaging out, the variable we are not interested in across the rows or columns.. In math speak: $P(X = small) = \\sum_y{P(X = small, Y)}$. This gives us a **marginal probability**, a probability of a variable outcome (in this case size), regardless of the other variables (in this case color).\n",
        "\n",
        "Please complete the following math problems to further practice thinking through probabilities:\n",
        "\n",
        "1. Calculate the probability of a fish being silver.\n",
        "2. Calculate the probability of a fish being small, large, silver, or gold.\n",
        "3. Calculate the probability of a fish being small OR gold. (Hint: $P(A\\ \\textrm{or}\\ B) = P(A) + P(B) - P(A\\ \\textrm{and}\\ B)$)\n",
        "\n",
        "\n"
      ]
    },
    {
      "cell_type": "code",
      "metadata": {
        "execution": {
          "iopub.execute_input": "2021-06-25T15:15:27.584366Z",
          "iopub.status.busy": "2021-06-25T15:15:27.583666Z",
          "iopub.status.idle": "2021-06-25T15:15:27.585405Z",
          "shell.execute_reply": "2021-06-25T15:15:27.584927Z"
        },
        "id": "0qxKQtCit0CF"
      },
      "source": [
        "# to_remove explanation\n",
        "\n",
        "# 1) The probability of a fish being silver is the joint probability of it being\n",
        "#.     small and silver plus the joint probability of it being large and silver:\n",
        "#\n",
        "#.    P(Y = silver) = P(X = small, Y = silver) + P(X = large, Y = silver)\n",
        "#.     = 0.4 + 0.1\n",
        "#.     = 0.5\n",
        "\n",
        "\n",
        "# 2) This is all the possibilities as in this scenario, our fish can only be small\n",
        "#.   or large, silver or gold. So the probability is 1 - the fish has to be at\n",
        "#.   least one of these.\n",
        "\n",
        "\n",
        "#. 3) First we compute the marginal probabilities\n",
        "#.  P(X = small) = P(X = small, Y = silver) + P(X = small, Y = gold) = 0.6\n",
        "#.  P(Y = gold) = P(X = small, Y = gold) + P(X = large, Y = gold) = 0.5\n",
        "#.   We already know the joint probability: P(X = small, Y = gold) = 0.2\n",
        "#.   We can now use the given formula:\n",
        "#.   P( X = small or Y = gold) = P(X = small) + P(Y = gold) - P(X = small, Y = gold)\n",
        "#.   = 0.6 + 0.5 - 0.2\n",
        "#.   = 0.9"
      ],
      "execution_count": 13,
      "outputs": []
    },
    {
      "cell_type": "markdown",
      "metadata": {
        "id": "vc1ZMSast0CG"
      },
      "source": [
        "## Think! 4: Covarying probability distributions\n",
        "\n",
        "The relationship between the marginal probabilities and the joint probabilities is determined by the correlation between the two random variables - a normalized measure of how much the variables covary. We can also think of this as gaining some information about one of the variables when we observe a measurement from the other. We will think about this more formally in Tutorial 2. \n",
        "\n",
        "Here, we want to think about how the correlation between size and color of these fish changes how much information we gain about one attribute based on the other. See Bonus Section 1 for the formula for correlation.\n",
        "\n",
        "Use the widget below and answer the following questions:\n",
        "\n",
        "1. When the correlation is zero, $\\rho = 0$, what does the distribution of size tell you about color?\n",
        "2. Set $\\rho$ to something small. As you change the probability of golden fish, what happens to the ratio of size probabilities? Set $\\rho$ larger (can be negative). Can you explain the pattern of changes in the probabilities of size as you change the probability of golden fish?\n",
        "3. Set the probability of golden fish and of large fish to around 65%. As the correlation goes towards 1, how often will you see silver large fish?\n",
        "4. What is increasing the (absolute) correlation telling you about how likely you are to see one of the properties if you see a fish with the other?\n"
      ]
    },
    {
      "cell_type": "code",
      "metadata": {
        "execution": {
          "iopub.execute_input": "2021-06-25T15:15:27.641822Z",
          "iopub.status.busy": "2021-06-25T15:15:27.640659Z",
          "iopub.status.idle": "2021-06-25T15:15:27.846348Z",
          "shell.execute_reply": "2021-06-25T15:15:27.845374Z"
        },
        "cellView": "form",
        "id": "duBubFnnt0CG",
        "colab": {
          "base_uri": "https://localhost:8080/",
          "height": 474,
          "referenced_widgets": [
            "21a4a6751b04463197ae806221fd64f6",
            "b05f557c46db495fbb2a0e194c48f9e4",
            "b9a24bc5e2204b928ebd5a7ddbdf07de",
            "a80c86dcb0164ed1a433af95d3753229",
            "d2ab0cde18864d2eb955908c02643947",
            "8bd6f64186a74176909c279f76bb4d0e",
            "3a06dd5dc0ab48a08c4ef333b0f01131",
            "b90ffcfb894c4718b9b3517d606c6bf7",
            "606ecb889f0741d694e79de0dc11a584",
            "b1b5f5e9c0944dc6abe9477a457b9ca0",
            "4bb45c590f014c12be1e67fb4a75b2bf",
            "ba4d9dd87fca457c85651a30d1b19b29",
            "272f92e51e1c46c4b04abb64db93a2da"
          ]
        },
        "outputId": "466121b0-6cf9-4d1a-9d9e-75d8b37de552"
      },
      "source": [
        "# @markdown Execute this cell to enable the widget\n",
        "style = {'description_width': 'initial'}\n",
        "gs = GridspecLayout(2,2)\n",
        "\n",
        "cor_widget = widgets.FloatSlider(0.0, description='ρ', min=-1, max=1, step=0.01)\n",
        "px_widget = widgets.FloatSlider(0.5, description='p(color=golden)', min=0.01, max=0.99, step=0.01, style=style)\n",
        "py_widget = widgets.FloatSlider(0.5, description='p(size=large)', min=0.01, max=0.99, step=0.01, style=style)\n",
        "gs[0,0] = cor_widget\n",
        "gs[0,1] = px_widget\n",
        "gs[1,0] = py_widget\n",
        "\n",
        "\n",
        "@widgets.interact(\n",
        "    px=px_widget,\n",
        "    py=py_widget,\n",
        "    cor=cor_widget,\n",
        ")\n",
        "def make_corr_plot(px, py, cor):\n",
        "    Cmin, Cmax = compute_cor_range(px, py) #allow correlation values\n",
        "    cor_widget.min, cor_widget.max = Cmin+0.01, Cmax-0.01\n",
        "    if cor_widget.value > Cmax:\n",
        "        cor_widget.value = Cmax\n",
        "    if cor_widget.value < Cmin:\n",
        "        cor_widget.value = Cmin\n",
        "    cor = cor_widget.value\n",
        "    P = compute_marginal(px,py,cor)\n",
        "    # print(P)\n",
        "    fig = plot_joint_probs(P)\n",
        "    plt.show(fig)\n",
        "    plt.close(fig)\n",
        "    return None\n",
        "\n",
        "# gs[1,1] = make_corr_plot()"
      ],
      "execution_count": 14,
      "outputs": [
        {
          "output_type": "display_data",
          "data": {
            "application/vnd.jupyter.widget-view+json": {
              "model_id": "21a4a6751b04463197ae806221fd64f6",
              "version_minor": 0,
              "version_major": 2
            },
            "text/plain": [
              "interactive(children=(FloatSlider(value=0.5, description='p(color=golden)', layout=Layout(grid_area='widget002…"
            ]
          },
          "metadata": {
            "tags": []
          }
        }
      ]
    },
    {
      "cell_type": "code",
      "metadata": {
        "execution": {
          "iopub.execute_input": "2021-06-25T15:15:27.850935Z",
          "iopub.status.busy": "2021-06-25T15:15:27.849827Z",
          "iopub.status.idle": "2021-06-25T15:15:27.851764Z",
          "shell.execute_reply": "2021-06-25T15:15:27.852245Z"
        },
        "id": "RDimmFKqt0CG"
      },
      "source": [
        "# to_remove explanation\n",
        "\n",
        "#' 1. When the correlation is zero, the two properties are completely independent.\n",
        "#' This means you don't gain any information about one variable from observing the other.\n",
        "#' Importantly, the marginal distribution of one variable is therefore independent of the other.\n",
        "\n",
        "#' 2. The correlation controls the distribution of probability across the joint probabilty table.\n",
        "#' The higher the correlation, the more the probabilities are restricted by the fact that both rows\n",
        "#' and columns need to sum to one! While the marginal probabilities show the relative weighting, the\n",
        "#' absolute probabilities for one quality will become more dependent on the other as the correlation\n",
        "#' goes to 1 or -1.\n",
        "\n",
        "#' 3. The correlation will control how much probabilty mass is located on the diagonals. As the\n",
        "#' correlation goes to 1 (or -1), the probability of seeing the one of the two pairings has to goes\n",
        "#' towards zero!\n",
        "\n",
        "#' 4. If we think about what information we gain by observing one quality, the intution from (3.) tells\n",
        "#' us that we know more (have more information) about the other quality as a function of the correlation."
      ],
      "execution_count": 15,
      "outputs": []
    },
    {
      "cell_type": "markdown",
      "metadata": {
        "id": "ZgbU7XWOt0CH"
      },
      "source": [
        "We have just seen how two random variables can be more or less independent. The more correlated, the less independent, and the more shared information. We also learned that we can marginalize to determine the marginal likelihood of a hidden state or to find the marginal probability distribution of two random variables. We are going to now complete our journey towards being fully Bayesian!"
      ]
    },
    {
      "cell_type": "markdown",
      "metadata": {
        "id": "AWoFkt7yt0CH"
      },
      "source": [
        "---\n",
        "# Section 5: Bayes' Rule and the Posterior"
      ]
    },
    {
      "cell_type": "markdown",
      "metadata": {
        "id": "x18uCfdet0CH"
      },
      "source": [
        "Marginalization is going to be used to combine our prior knowlege, which we call the **prior**, and our new information from a measurement, the **likelihood**. Only in this case, the information we gain about the hidden state we are interested in, where the fish are, is based on the relationship between the probabilities of the measurement and our prior. \n",
        "\n",
        "We can now calculate the full posterior distribution for the hidden state ($s$) using Bayes' Rule. As we've seen, the posterior is proportional the the prior times the likelihood. This means that the posterior probability of the hidden state ($s$) given a measurement ($m$) is proportional to the likelihood of the measurement given the state times the prior probability of that state (the marginal likelihood):\n",
        "\n",
        "$$ P(s | m) \\propto P(m | s) P(s)  $$\n",
        "\n",
        "We say proportional to instead of equal because we need to normalize to produce a full probability distribution:\n",
        "\n",
        "$$ P(s | m) = \\frac{P(m | s) P(s)}{P(m)}  $$\n",
        "\n",
        "Normalizing by this $P(m)$ means that our posterior is a complete probability distribution that sums or integrates to 1 appropriately. We now can use this new, complete probability distribution for any future inference or decisions we like! In fact, as we will see tomorrow, we can use it as a new prior! Finally, we often call this probability distribution our beliefs over the hidden states, to emphasize that it is our subjective knowlege about the hidden state.\n",
        "\n",
        "For many complicated cases, like those we might be using to model behavioral or brain inferences, the normalization term can be intractable or extremely complex to calculate. We can be careful to choose probability distributions were we can analytically calculate the posterior probability or numerical approximation is reliable. Better yet, we sometimes don't need to bother with this normalization! The normalization term, $P(m)$, is the probability of the measurement. This does not depend on state so is essentially a constant we can often ignore. We can compare the unnormalized posterior distribution values for different states because how they relate to each other is unchanged when divided by the same constant. We will see how to do this to compare evidence for different hypotheses tomorrow. (It's also used to compare the likelihood of models fit using maximum likelihood estimation, as you did in W1D5.)\n",
        "\n",
        "In this relatively simple example, we can compute the marginal probability $P(m)$ easily by using:\n",
        "$$P(m) = \\sum_s P(m | s) P(s)$$\n",
        "We can then normalize so that we deal with the full posterior distribution.\n"
      ]
    },
    {
      "cell_type": "markdown",
      "metadata": {
        "id": "VlCK1nq0t0CH"
      },
      "source": [
        "## Math Exercise 5: Calculating a posterior probability\n",
        "\n",
        "Our prior is $p(s = left) = 0.3$ and $p(s = right) = 0.7$. In the video, we learned that the chance of catching a fish given they fish on the same side as the school was 50%. Otherwise, it was 10%. We observe a person fishing on the left side. Our likelihood is: \n",
        "\n",
        "\n",
        "| Likelihood: p(m \\| s) | m = catch fish   | m = no fish  |\n",
        "| ----------------- |----------|----------|\n",
        "| s = left          | 0.5          | 0.5         |\n",
        "| s = right         | 0.1        |  0.9       |\n",
        "\n",
        "\n",
        "Calculate the posterior probability (on paper) that:\n",
        "\n",
        "1. The school is on the left if the fisherperson catches a fish: $p(s = left | m = catch fish)$ (hint: normalize by compute $p(m = catch fish)$)\n",
        "2. The school is on the right if the fisherperson does not catch a fish: $p(s = right | m = no fish)$"
      ]
    },
    {
      "cell_type": "code",
      "metadata": {
        "execution": {
          "iopub.execute_input": "2021-06-25T15:15:27.856837Z",
          "iopub.status.busy": "2021-06-25T15:15:27.855645Z",
          "iopub.status.idle": "2021-06-25T15:15:27.857534Z",
          "shell.execute_reply": "2021-06-25T15:15:27.857980Z"
        },
        "id": "fxtFJ_3bt0CI"
      },
      "source": [
        "# to_remove explanation\n",
        "\n",
        "# 1. Using Bayes rule, we know that P(s = left | m = catch fish) = P(m = catch fish | s = left)P(s = left) / P(m = catch fish)\n",
        "#.   Let's first compute P(m = catch fish):\n",
        "#.   P(m = catch fish) =  P(m = catch fish | s = left)P(s = left) +  P(m = catch fish | s = right)P(s = right)\n",
        "#                      = 0.5 * 0.3 + .1*.7\n",
        "#                      = 0.22\n",
        "#.   Now we can plug in all parts of Bayes rule:\n",
        "#    P(s = left | m = catch fish) = P(m = catch fish | s = left)P(s = left) / P(m = catch fish)\n",
        "#                                 = 0.5*0.3/0.22\n",
        "#                                 = 0.68\n",
        "\n",
        "# 2. Using Bayes rule, we know that P(s = right | m = no fish) = P(m = no fish | s = right)P(s = right) / P(m = no fish)\n",
        "#.   Let's first compute P(m = no fish):\n",
        "#.   P(m = no fish) =  P(m = no fish | s = left)P(s = left) +  P(m = no fish | s = right)P(s = right)\n",
        "#                      = 0.5 * 0.3 + .9*.7\n",
        "#                      = 0.78\n",
        "#.   Now we can plug in all parts of Bayes rule:\n",
        "#    P(s = right | m = no fish) = P(m = no fish | s = right)P(s = right) / P(m = no fish)\n",
        "#                                 = 0.9*0.7/0.78\n",
        "#                                 = 0.81"
      ],
      "execution_count": 16,
      "outputs": []
    },
    {
      "cell_type": "markdown",
      "metadata": {
        "id": "fCXUeNWqt0CI"
      },
      "source": [
        "## Coding Exercise 5: Computing Posteriors\n",
        "\n",
        "Let's implement our above math to be able to compute posteriors for different priors and likelihood.s\n",
        "\n",
        "As before, our prior is $p(s = left) = 0.3$ and $p(s = right) = 0.7$. In the video, we learned that the chance of catching a fish given they fish on the same side as the school was 50%. Otherwise, it was 10%. We observe a person fishing on the left side. Our likelihood is: \n",
        "\n",
        "\n",
        "| Likelihood: p(m \\| s) | m = catch fish   | m = no fish  |\n",
        "| ----------------- |----------|----------|\n",
        "| s = left          | 0.5          | 0.5         |\n",
        "| s = right         | 0.1        |  0.9       |\n",
        "\n",
        "\n",
        "We want our full posterior to take the same 2 by 2 form. Make sure the outputs match your math answers!\n",
        "\n"
      ]
    },
    {
      "cell_type": "code",
      "metadata": {
        "execution": {
          "iopub.execute_input": "2021-06-25T15:15:27.865944Z",
          "iopub.status.busy": "2021-06-25T15:15:27.865375Z",
          "iopub.status.idle": "2021-06-25T15:15:27.960980Z",
          "shell.execute_reply": "2021-06-25T15:15:27.961872Z"
        },
        "id": "DJfCMlwEt0CI"
      },
      "source": [
        "def compute_posterior(likelihood, prior):\n",
        "  \"\"\" Use Bayes' Rule to compute posterior from likelihood and prior\n",
        "\n",
        "  Args:\n",
        "    likelihood (ndarray): i x j array with likelihood probabilities where i is\n",
        "                    number of state options, j is number of measurement options\n",
        "    prior (ndarray): i x 1 array with prior probability of each state\n",
        "\n",
        "  Returns:\n",
        "    ndarray: i x j array with posterior probabilities where i is\n",
        "            number of state options, j is number of measurement options\n",
        "\n",
        "  \"\"\"\n",
        "\n",
        "  #################################################\n",
        "  ## TODO for students ##\n",
        "  # Fill out function and remove\n",
        "  raise NotImplementedError(\"Student exercise: implement compute_posterior\")\n",
        "  #################################################\n",
        "\n",
        "  # Compute unnormalized posterior (likelihood times prior)\n",
        "  posterior = ... # first row is s = left, second row is s = right\n",
        "\n",
        "  # Compute p(m)\n",
        "  p_m = np.sum(posterior, axis = 0)\n",
        "\n",
        "  # Normalize posterior (divide elements by p_m)\n",
        "  posterior /= ...\n",
        "\n",
        "  return posterior\n",
        "\n",
        "\n",
        "# # Uncomment and run\n",
        "# # Make prior\n",
        "# prior = np.array([0.3, 0.7]).reshape((2, 1)) # first row is s = left, second row is s = right\n",
        "\n",
        "# # Make likelihood\n",
        "# likelihood = np.array([[0.5, 0.5], [0.1, 0.9]]) # first row is s = left, second row is s = right\n",
        "\n",
        "# # Compute posterior\n",
        "# posterior = compute_posterior(likelihood, prior)\n",
        "\n",
        "# # Visualize\n",
        "# plot_prior_likelihood_posterior(prior, likelihood, posterior)"
      ],
      "execution_count": 17,
      "outputs": []
    },
    {
      "cell_type": "code",
      "metadata": {
        "execution": {
          "iopub.execute_input": "2021-06-25T15:15:27.968291Z",
          "iopub.status.busy": "2021-06-25T15:15:27.967743Z",
          "iopub.status.idle": "2021-06-25T15:15:28.290753Z",
          "shell.execute_reply": "2021-06-25T15:15:28.290286Z"
        },
        "id": "4JWlNa-Et0CI",
        "colab": {
          "base_uri": "https://localhost:8080/",
          "height": 356
        },
        "outputId": "32ce71be-fca6-4a3e-8e35-a1f87eba16af"
      },
      "source": [
        "# to_remove solution\n",
        "\n",
        "def compute_posterior(likelihood, prior):\n",
        "  \"\"\" Use Bayes' Rule to compute posterior from likelihood and prior\n",
        "\n",
        "  Args:\n",
        "    likelihood (ndarray): i x j array with likelihood probabilities where i is\n",
        "                    number of state options, j is number of measurement options\n",
        "    prior (ndarray): i x 1 array with prior probability of each state\n",
        "\n",
        "  Returns:\n",
        "    ndarray: i x j array with posterior probabilities where i is\n",
        "            number of state options, j is number of measurement options\n",
        "\n",
        "  \"\"\"\n",
        "\n",
        "  # Compute unnormalized posterior (likelihood times prior)\n",
        "  posterior = likelihood * prior # first row is s = left, second row is s = right\n",
        "\n",
        "  # Compute p(m)\n",
        "  p_m = np.sum(posterior, axis = 0)\n",
        "\n",
        "  # Normalize posterior (divide elements by p_m)\n",
        "  posterior /= p_m\n",
        "\n",
        "  return posterior\n",
        "\n",
        "\n",
        "# Make prior\n",
        "prior = np.array([0.3, 0.7]).reshape((2, 1)) # first row is s = left, second row is s = right\n",
        "\n",
        "# Make likelihood\n",
        "likelihood = np.array([[0.5, 0.5], [0.1, 0.9]]) # first row is s = left, second row is s = right\n",
        "\n",
        "# Compute posterior\n",
        "posterior = compute_posterior(likelihood, prior)\n",
        "\n",
        "# Visualize\n",
        "with plt.xkcd():\n",
        "  plot_prior_likelihood_posterior(prior, likelihood, posterior)"
      ],
      "execution_count": 18,
      "outputs": [
        {
          "output_type": "display_data",
          "data": {
            "image/png": "[encoded data removed]",
            "text/plain": [
              "<Figure size 864x288 with 3 Axes>"
            ]
          },
          "metadata": {
            "tags": [],
            "image/png": {
              "width": 876,
              "height": 339
            }
          }
        }
      ]
    },
    {
      "cell_type": "markdown",
      "metadata": {
        "id": "uffIgQbyt0CJ"
      },
      "source": [
        "## Interactive Demo 5: What affects the posterior?\n",
        "\n",
        "Now that we can understand the implementation of *Bayes rule*, let's vary the parameters of the prior and likelihood to see how changing the prior and likelihood affect the posterior. \n",
        "\n",
        "In the demo below, you can change the prior by playing with the slider for $p( s = left)$. You can also change the likelihood by changing the probability of catching a fish given that the school is on the left and the probability of catching a fish given that the school is on the right. The fisherperson you are observing is fishing on the left.\n",
        " \n",
        "\n",
        "1.   Keeping the likelihood constant, when does the prior have the strongest influence over the posterior? Meaning, when does the posterior look most like the prior no matter whether a fish was caught or not?\n",
        "2.   Keeping the likelihood constant, when does the prior exert the weakest influence?  Meaning, when does the posterior look least like the prior and depend most on whether a fish was caught or not?\n",
        "3.  Set the prior probability of the state = left to 0.6 and play with the likelihood. When does the likelihood exert the most influence over the posterior?"
      ]
    },
    {
      "cell_type": "code",
      "metadata": {
        "execution": {
          "iopub.execute_input": "2021-06-25T15:15:28.333682Z",
          "iopub.status.busy": "2021-06-25T15:15:28.333070Z",
          "iopub.status.idle": "2021-06-25T15:15:28.570340Z",
          "shell.execute_reply": "2021-06-25T15:15:28.570771Z"
        },
        "id": "dbWRpZrVt0CJ",
        "colab": {
          "base_uri": "https://localhost:8080/",
          "height": 455,
          "referenced_widgets": [
            "cd886ea759204ae286bf5a13e77894ef",
            "49f005e707944d9e8ed7f068dd8b07c4",
            "4ed8c9ee03394c4cb174c991c3eb9102",
            "2ef0ab033d3f43568f175936870ad094",
            "d508741bd7114fe58d4b12c3c6051be5",
            "9befcf1fca284d099297a9bc7f7b5dc3",
            "c096703bfc264f82920598dd10470902",
            "144b134cd483457ba85436d04552141e",
            "9b9dc23dced94e2a908b1b452c16bfec",
            "d9a3595296b04fa4a9ecce2a9a3c4233",
            "656c4fedfb5342089232e70448c84abd",
            "adcdc98e893945f591484ed33ad9038e",
            "ee72096e453443c3a22791435208c1c3",
            "06211984fb6f4367a5f6e0631dc04a19",
            "593ee6d6d10b49969d6c852afe2b9400",
            "83b450c53d094d7293f6b55c5e740f6b"
          ]
        },
        "cellView": "form",
        "outputId": "39fac6b9-507b-49d8-dff0-9aaee8f7731a"
      },
      "source": [
        "# @markdown Execute this cell to enable the widget\n",
        "style = {'description_width': 'initial'}\n",
        "ps_widget = widgets.FloatSlider(0.3, description='p(s = left)',\n",
        "                                min=0.01, max=0.99, step=0.01)\n",
        "p_a_s1_widget = widgets.FloatSlider(0.5, description='p(fish | s = left)',\n",
        "                                    min=0.01, max=0.99, step=0.01, style=style)\n",
        "p_a_s0_widget = widgets.FloatSlider(0.1, description='p(fish | s = right)',\n",
        "                                    min=0.01, max=0.99, step=0.01, style=style)\n",
        "observed_widget = widgets.Checkbox(value=False, description='Observed fish (m)',\n",
        "                                 disabled=False, indent=False, layout={'width': 'max-content'})\n",
        "\n",
        "@widgets.interact(\n",
        "    ps=ps_widget,\n",
        "    p_a_s1=p_a_s1_widget,\n",
        "    p_a_s0=p_a_s0_widget,\n",
        "    m_right=observed_widget\n",
        ")\n",
        "def make_prior_likelihood_plot(ps,p_a_s1,p_a_s0,m_right):\n",
        "    fig = plot_prior_likelihood(ps,p_a_s1,p_a_s0,m_right)\n",
        "    plt.show(fig)\n",
        "    plt.close(fig)\n",
        "    return None"
      ],
      "execution_count": 19,
      "outputs": [
        {
          "output_type": "display_data",
          "data": {
            "application/vnd.jupyter.widget-view+json": {
              "model_id": "cd886ea759204ae286bf5a13e77894ef",
              "version_minor": 0,
              "version_major": 2
            },
            "text/plain": [
              "interactive(children=(FloatSlider(value=0.3, description='p(s = left)', max=0.99, min=0.01, step=0.01), FloatS…"
            ]
          },
          "metadata": {
            "tags": []
          }
        }
      ]
    },
    {
      "cell_type": "code",
      "metadata": {
        "execution": {
          "iopub.execute_input": "2021-06-25T15:15:28.577224Z",
          "iopub.status.busy": "2021-06-25T15:15:28.576677Z",
          "iopub.status.idle": "2021-06-25T15:15:28.580420Z",
          "shell.execute_reply": "2021-06-25T15:15:28.579966Z"
        },
        "id": "N_6hL36Bt0CJ"
      },
      "source": [
        "# to_remove explanation\n",
        "\n",
        "# 1).  The prior exerts a strong influence over the posterior when it is very informative: when\n",
        "#.   the probability of the school being on one side or the other. If the prior that the fish are\n",
        "#.   on the left side is very high (like 0.9), the posterior probability of the state being left is\n",
        "#.   high regardless of the measurement.\n",
        "\n",
        "# 2).  The prior does not exert a strong influence when it is not informative: when the probabilities\n",
        "#.     of the school being on the left vs right are similar (both are 0.5 for example). In this case,\n",
        "#.     the posterior is more driven  by the collected data (the measurement) and more closely resembles\n",
        "#.     the likelihood.\n",
        "\n",
        "\n",
        "#.  3) Similarly to the prior, the likelihood exerts the most influence when it is informative: when catching\n",
        "#.    a fish tells you a lot of information about which state is likely. For example, if the probability of the\n",
        "#.    fisherperson catching a fish if he is fishing on the right side and the school is on the left is 0\n",
        "#.    (p fish | s = left) = 0 and the probability of catching a fish if the school is on the right is 1, the\n",
        "#.    prior does not affect the posterior at all. The measurement tells you the hidden state completely."
      ],
      "execution_count": 20,
      "outputs": []
    },
    {
      "cell_type": "markdown",
      "metadata": {
        "id": "53V0BdJxt0CK"
      },
      "source": [
        "# Section 6: Making Bayesian fishing decisions\n",
        "\n",
        "We will explore how to consider the expected utility of an action based on our belief (the posterior distribution) about where we think the fish are. Now we have all the components of a Bayesian decision: our prior information, the likelihood given a measurement, the posterior distribution (belief) and our utility (the gains and losses). This allows us to consider the relationship between the true value of the hidden state, $s$, and what we *expect* to get if we take action, $a$, based on our belief!\n",
        "\n",
        "Let's use the following widget to think about the relationship between these probability distributions and utility function."
      ]
    },
    {
      "cell_type": "markdown",
      "metadata": {
        "id": "hMdzzH-Nt0CK"
      },
      "source": [
        "## Think! 6: What is more important, the probabilities or the utilities?\n",
        "\n",
        "We are now going to put everything we've learned together to gain some intuitions for how each of the elements that goes into a Bayesian decision comes together. Remember, the common assumption in neuroscience, psychology, economics, ecology, etc. is that we (humans and animals) are tying to maximize our expected utility.\n",
        "\n",
        "1. Can you find a situation where the expected utility is the same for both actions?\n",
        "2. What is more important for determining the expected utility: the prior or a new measurement (the likelihood)?\n",
        "3. Why is this a normative model?\n",
        "4. Can you think of ways in which this model would need to be extended to describe human or animal behavior?"
      ]
    },
    {
      "cell_type": "code",
      "metadata": {
        "execution": {
          "iopub.execute_input": "2021-06-25T15:15:28.632070Z",
          "iopub.status.busy": "2021-06-25T15:15:28.628105Z",
          "iopub.status.idle": "2021-06-25T15:15:29.020824Z",
          "shell.execute_reply": "2021-06-25T15:15:29.020317Z"
        },
        "id": "8PBXMANUt0CK",
        "colab": {
          "base_uri": "https://localhost:8080/",
          "height": 448,
          "referenced_widgets": [
            "28fb38f207c6404087f3742ed9cbe36f",
            "76edf0c93e4a4015b84155d6d2e4c202",
            "6a09564b067447eb83369321b8c39b37",
            "1249cdf20cf641b0bb31656953c788d8",
            "5675576e7a9248e48e68ff891d55906f",
            "89cc588b6fa240568ff381941b061ce3",
            "0494990c95b141fda3eb4d4115c52210",
            "8c94d43043fa49d79ae4d6e29edf8b6d",
            "40a1d03b2eb64e9081cc8b96dbebeacb",
            "237338dc2b7b4f9d9beb5810e8dd6047",
            "40f2d99a17b944b0a5dd63aaa1602117",
            "918c2210a3114987bc770f2b1aeea560",
            "e0addc1dbef54e90a9e48b48a43c94e0",
            "1a156ef6fd79482c868ec22de29bc649",
            "166d61297d334b419822ef1cedda65a1",
            "aef91bbb2a894cad899c269164783139"
          ]
        },
        "cellView": "form",
        "outputId": "c2b64b09-2748-4351-cbdc-42fef4811130"
      },
      "source": [
        "# @markdown Execute this cell to enable the widget\n",
        "style = {'description_width': 'initial'}\n",
        "ps_widget = widgets.FloatSlider(0.3, description='p(s)',\n",
        "                                min=0.01, max=0.99, step=0.01)\n",
        "p_a_s1_widget = widgets.FloatSlider(0.5, description='p(fish | s = left)',\n",
        "                                    min=0.01, max=0.99, step=0.01, style=style)\n",
        "p_a_s0_widget = widgets.FloatSlider(0.1, description='p(fish | s = right)',\n",
        "                                    min=0.01, max=0.99, step=0.01, style=style)\n",
        "observed_widget = widgets.Checkbox(value=False, description='Observed fish (m)',\n",
        "                                 disabled=False, indent=False, layout={'width': 'max-content'})\n",
        "\n",
        "@widgets.interact(\n",
        "    ps=ps_widget,\n",
        "    p_a_s1=p_a_s1_widget,\n",
        "    p_a_s0=p_a_s0_widget,\n",
        "    m_right=observed_widget\n",
        ")\n",
        "def make_prior_likelihood_utility_plot(ps, p_a_s1, p_a_s0,m_right):\n",
        "    fig = plot_prior_likelihood_utility(ps, p_a_s1, p_a_s0,m_right)\n",
        "    plt.show(fig)\n",
        "    plt.close(fig)\n",
        "    return None"
      ],
      "execution_count": 21,
      "outputs": [
        {
          "output_type": "display_data",
          "data": {
            "application/vnd.jupyter.widget-view+json": {
              "model_id": "28fb38f207c6404087f3742ed9cbe36f",
              "version_minor": 0,
              "version_major": 2
            },
            "text/plain": [
              "interactive(children=(FloatSlider(value=0.3, description='p(s)', max=0.99, min=0.01, step=0.01), FloatSlider(v…"
            ]
          },
          "metadata": {
            "tags": []
          }
        }
      ]
    },
    {
      "cell_type": "code",
      "metadata": {
        "execution": {
          "iopub.execute_input": "2021-06-25T15:15:29.026803Z",
          "iopub.status.busy": "2021-06-25T15:15:29.025580Z",
          "iopub.status.idle": "2021-06-25T15:15:29.027429Z",
          "shell.execute_reply": "2021-06-25T15:15:29.027901Z"
        },
        "id": "oiLee-5ot0CK"
      },
      "source": [
        "# to_remove explanation\n",
        "\n",
        "#' 1. There are actually many (infinite) combinations that can produce the same\n",
        "#.    expected utility for both actions: but the posterior probabilities will always\n",
        "#     have to balance out the differences in the utility function. So, what is\n",
        "#     important is that for a given utility function, there will be some 'point\n",
        "#     of indifference'\n",
        "\n",
        "#' 2. What matters is the relative information: if the prior is close to 50/50,\n",
        "#     then the likelihood has more infuence, if the likelihood is 50/50 given a\n",
        "#     measurement (the measurement is uninformative), the prior is more important.\n",
        "#     But the critical insite from Bayes Rule and the Bayesian approach is that what\n",
        "#     matters is the relative information you gain from a measurement, and that\n",
        "#     you can use all of this information for your decision.\n",
        "\n",
        "#' 3. The model gives us a very precise way to think about how we *should* combine\n",
        "#     information and how we *should* act, GIVEN some assumption about our goals.\n",
        "#     In this case, if we assume we are trying to maximize expected utility--we can\n",
        "#     state what an animal or subject should do.\n",
        "\n",
        "#' 4. There are lots of possible extensions. Humans may not always try to maximize\n",
        "#     utility; humans and animals might not be able to calculate or represent probabiltiy\n",
        "#     distributions exactly; The utility function might be more complicated; etc."
      ],
      "execution_count": 22,
      "outputs": []
    },
    {
      "cell_type": "markdown",
      "metadata": {
        "id": "UawEaKbet0CL"
      },
      "source": [
        "---\n",
        "# Summary\n",
        "\n",
        "In this tutorial, you learned about combining prior information with new measurements to update your knowledge using Bayes Rulem, in the context of a fishing problem. \n",
        "\n",
        "Specifically, we covered:\n",
        "\n",
        "* That the likelihood is the probability of the measurement given some hidden state\n",
        "\n",
        "* That how the prior and likelihood interact to create the posterior, the probability of the hidden state given a measurement, depends on how they covary\n",
        "\n",
        "* That utility is the gain from each action and state pair, and the expected utility for an action is the sum of the utility for all state pairs, weighted by the probability of that state happening. You can then choose the action with highest expected utility.\n"
      ]
    },
    {
      "cell_type": "markdown",
      "metadata": {
        "id": "ZQ77znsrt0CL"
      },
      "source": [
        "---\n",
        "# Bonus"
      ]
    },
    {
      "cell_type": "markdown",
      "metadata": {
        "id": "ECFTMGaKt0CL"
      },
      "source": [
        "## Bonus Section 1: Correlation Formula\n",
        "To understand the way we calculate the correlation, we need to review the definition of covariance and correlation.\n",
        "\n",
        "Covariance:\n",
        "\n",
        "$$\n",
        "cov(X,Y) = \\sigma_{XY} = E[(X - \\mu_{x})(Y - \\mu_{y})] = E[X]E[Y] - \\mu_{x}\\mu_{y}\n",
        "$$\n",
        "\n",
        "Correlation:\n",
        "\n",
        "$$\n",
        "\\rho_{XY} = \\frac{cov(Y,Y)}{\\sqrt{V(X)V(Y)}} = \\frac{\\sigma_{XY}}{\\sigma_{X}\\sigma_{Y}}\n",
        "$$"
      ]
    }
  ]
}