{
  "nbformat": 4,
  "nbformat_minor": 0,
  "metadata": {
    "colab": {
      "name": "W3D1_Tutorial1",
      "provenance": [],
      "collapsed_sections": [
        "jWmfLbhzBpfz"
      ],
      "toc_visible": true,
      "include_colab_link": true
    },
    "kernel": {
      "display_name": "Python 3",
      "language": "python",
      "name": "python3"
    },
    "kernelspec": {
      "name": "python3",
      "display_name": "Python 3.7.10 64-bit ('nma': conda)"
    },
    "language_info": {
      "codemirror_mode": {
        "name": "ipython",
        "version": 3
      },
      "file_extension": ".py",
      "mimetype": "text/x-python",
      "name": "python",
      "nbconvert_exporter": "python",
      "pygments_lexer": "ipython3",
      "version": "3.7.10"
    },
    "interpreter": {
      "hash": "3e19903e646247cead5404f55ff575624523d45cf244c3f93aaf5fa10367032a"
    },
    "widgets": {
      "application/vnd.jupyter.widget-state+json": {
        "0a0e374e54664b90b1debf5ec977a123": {
          "model_module": "@jupyter-widgets/controls",
          "model_name": "TabModel",
          "state": {
            "_view_name": "TabView",
            "_dom_classes": [],
            "_titles": {
              "0": "Youtube",
              "1": "Bilibili"
            },
            "_model_name": "TabModel",
            "_view_module": "@jupyter-widgets/controls",
            "selected_index": 0,
            "_model_module_version": "1.5.0",
            "_view_count": null,
            "_view_module_version": "1.5.0",
            "box_style": "",
            "layout": "IPY_MODEL_182bdfca46a640b1818d9ac497c8b4ba",
            "_model_module": "@jupyter-widgets/controls",
            "children": [
              "IPY_MODEL_2e126994bb1d4f978d05ecf43316f291",
              "IPY_MODEL_0d7cbcf2e6fc436abd7c14a4de57abe7"
            ]
          }
        },
        "182bdfca46a640b1818d9ac497c8b4ba": {
          "model_module": "@jupyter-widgets/base",
          "model_name": "LayoutModel",
          "state": {
            "_view_name": "LayoutView",
            "grid_template_rows": null,
            "right": null,
            "justify_content": null,
            "_view_module": "@jupyter-widgets/base",
            "overflow": null,
            "_model_module_version": "1.2.0",
            "_view_count": null,
            "flex_flow": null,
            "width": null,
            "min_width": null,
            "border": null,
            "align_items": null,
            "bottom": null,
            "_model_module": "@jupyter-widgets/base",
            "top": null,
            "grid_column": null,
            "overflow_y": null,
            "overflow_x": null,
            "grid_auto_flow": null,
            "grid_area": null,
            "grid_template_columns": null,
            "flex": null,
            "_model_name": "LayoutModel",
            "justify_items": null,
            "grid_row": null,
            "max_height": null,
            "align_content": null,
            "visibility": null,
            "align_self": null,
            "height": null,
            "min_height": null,
            "padding": null,
            "grid_auto_rows": null,
            "grid_gap": null,
            "max_width": null,
            "order": null,
            "_view_module_version": "1.2.0",
            "grid_template_areas": null,
            "object_position": null,
            "object_fit": null,
            "grid_auto_columns": null,
            "margin": null,
            "display": null,
            "left": null
          }
        },
        "2e126994bb1d4f978d05ecf43316f291": {
          "model_module": "@jupyter-widgets/output",
          "model_name": "OutputModel",
          "state": {
            "_view_name": "OutputView",
            "msg_id": "",
            "_dom_classes": [],
            "_model_name": "OutputModel",
            "outputs": [
              {
                "output_type": "stream",
                "metadata": {
                  "tags": []
                },
                "text": "Video available at https://youtube.com/watch?v=JiEIn9QsrFg\n",
                "stream": "stdout"
              },
              {
                "output_type": "display_data",
                "metadata": {
                  "tags": []
                },
                "text/html": "\n        <iframe\n            width=\"854\"\n            height=\"480\"\n            src=\"https://www.youtube.com/embed/JiEIn9QsrFg?fs=1&rel=0\"\n            frameborder=\"0\"\n            allowfullscreen\n        ></iframe>\n        ",
                "text/plain": "<IPython.lib.display.YouTubeVideo at 0x7f2e7ce1b5d0>",
                "image/jpeg": "/9j/4AAQSkZJRgABAQAAAQABAAD/2wCEABALDBoYFhsaGRodHRwfJC0mIyEiIj0tJyklLi4xMC0uLjU1SFBFNzhLOS4uRWFFS1NWW1xbOEJlbWRYbFBZW1cBERISGRYZMBsbMFc9N0NXX1dXV1dXXVdXV1dXV1hXV11XV1dXV1dXV1ddV11XV11XV1dXV11XV1dXV1dXV1dXXf/AABEIAWgB4AMBIgACEQEDEQH/xAAbAAEAAgMBAQAAAAAAAAAAAAAABAUBAwYCB//EAEIQAAIBAgMECAQEBQIFBAMAAAECAAMRBBIhEzFBUQUXIlNhcZLSMlKBkRRCobEGFSPB0TNyNENisvAkgpPhB3Tx/8QAGQEBAQEBAQEAAAAAAAAAAAAAAAECAwQF/8QAJREBAAICAgIDAAEFAAAAAAAAAAERAhIDITFRBBNB8CKBkaHR/9oADAMBAAIRAxEAPwD5/ERAREQEREBERAREQEREBERAREQEREBERAREQEREBERAREQEREBERAREQEREBERAREQEREBERAREQEREBERAREQEREBERAREQEREBERAREQEREBERAREQEREBERAREQEREBERAREQEREBERAREQEREBERAREQEREBERAREQEREBERAREQEREBERAREQEREBERAREQEREBE6/q4xve4b1N7Y6uMb3uG9Te2ByETr+rjG97hvU3tjq4xve4b1N7YHIROv6uMb3uG9Te2OrjG97hvU3tgchE6/q4xve4b1N7Y6uMb3uG9Te2ByETr+rjG97hvU3tjq4xve4b1N7YHIROv6uMb3uG9Te2OrjG97hvU3tgchE6/q4xve4b1N7Y6uMb3uG9Te2ByETr+rjG97hvU3tjq4xve4b1N7YHIROv6uMb3uG9Te2OrjG97hvU3tgchE6/q4xve4b1N7Y6uMb3uG9Te2ByETr+rjG97hvU3tjq4xve4b1N7YHIROv6uMb3uG9Te2OrjG97hvU3tgchE6/q4xve4b1N7Y6uMb3uG9Te2ByETr+rjG97hvU3tjq4xve4b1N7YHIROv6uMb3uG9Te2OrjG97hvU3tgchE6/q4xve4b1N7Y6uMb3uG9Te2ByETr+rjG97hvU3tjq4xve4b1N7YHIROv6uMb3uG9Te2OrjG97hvU3tgchE6/q4xve4b1N7Y6uMb3uG9Te2ByETr+rjG97hvU3tjq4xve4b1N7YHIROv6uMb3uG9Te2OrjG97hvU3tgchE6/q4xve4b1N7Y6uMb3uG9Te2ByETr+rjG97hvU3tjq4xve4b1N7YHIROv6uMb3uG9Te2OrjG97hvU3tgchEtW6ArAkZqenif8R/IavzU/uf8AEztC1KqiWVToWqu9k+5/xMDoap8yfc/4jeCpV0Sy/klX5k+5/wAQOhKvzJ9z/iN8fZrKtiWR6EqfPT+5/wATA6GqH81P7n/EbQVKuiWf8jq/NT+5/wAR/IqvzU/uf8RtBUqyJafyKr81P7n/ABMfyKr81P7n/EbwVL7ZERNIRNGKrmmhZab1Dp2Utm/UgSDgumds5VcNXADFGZgtlYC5v2r8RAtYkfA4ta9JKqghXFwDvm+BmJhjYE8pSp/EibJa7YfELRIB2hUFQp4mxJt9IF3ExeIGYmIgZiacRXyAHK73YLZBci5tc+A4zbAzExEDMTEQMxMRAzExeIGYmJoxuLWhSaq1yq2vbfqQP7wJETEzARI+Nxi0EDsCQXRNObsFH6mb4GYmLxAzE04attFzZXTUizix0JF/I2uJtgZiVT9N/wBSqiYavU2TZWZApF7A6XNzoRJuCxaV6S1aZujC4uLHkQRwN4EiJiZgImJ4rVQiM51Cgk236C8DZE04TECrSSqoIV1DAHfYi+s3QEREBERAREQERED5zU+JvMzxKvFdLkVGAUWDH956TphDa4InmmJdLSsWdJ4Vp4xdcEaG/lIJqKoLs17/APmklLa0Y6SLiMXl0GsjpVLC4uFPMy0wHQwaxcb/ANImsfLeMTl4U1TENm4zzRxDBiWJnVP0EADlUWlViujCoOkRnEk8cvWHrhxoZuvKrCgo+Uj7yxzRMMvd4vPIM1tUsbcTugfVIiJ6nElT0Dvxn/7T/wDaktZhUAvYAXNzYbzzgchh8FTTo/CYhVtW2tL+pc5rNVCkX5WJ03T3WUVK+L24oFkc2NaqUanSsMrJpoONwd951eyWwXKMo3C2gnmrhqbkF0Riu4soJHleBowYf8Km0cVH2YzONzG3xDznHK6joqmTjgwFJT+FOSzW/wCXoA+u7fO8mpcJSBBFNARuIUXgc70kqV69YPToLsqSk7ZjfUE9jWyW3ZgDqPCa6OOOGo4TGOWZa2HWnV43qBM1MnxJzL9ROnqYdGYMyKzLuJUEjykXGdHGq1IFwtCmQxpBPiZTddeCg2NrcBA5+vhqlM4OlXFNlqCo9QVXK02xDENYmxvYFrA8vCbThgaFSma+GSnt0yU9oWpBgAWpE6aHfbx+k6epSV1KuoZTvBFxPP4dMmTIuT5coy/aBy5qrsGprTSkaeKoBhSfNTJLoezutpvFv3mjppldMbXtRR6LFVZnO2DKBZlN+yOSga/WdemHRVCqihQbhQotfnaYfC02bM1NC1rZioJtyvAphgaWIx2IFZdoBRpdkns3OfW26/jJn8OsTgqFyTZbXJubAkD9BLEIASQBc7zbXTdCqFFgAByEDiy6kUMUoo03fEoBZyawvUsysSe1pe62FvpJeywbvjziWTMlUntPZkXItimuhvxE6X8LTzFtmmY72yi5tuuZHodGIrVGYLUL1DUGZR2SQosPTA5/DZKtXBjHEXfB3K1DYM+ZT2gdCbXNjMU0V6ezRmOH/HKtIhj8GXtBWH5c2YTo6vR6vX2r2YbM0yhW4N2DX/SSRSUAAKtl3C2g8uUDn6uFw/41qOICCilFNhTc2p722hAOhYdnyEiU6oehRonK9N69RaL1mOTZrfLm1GfiACdbX4Tqq1BKgs6K432YA/vFSijrlZVZflIuPtA5FHyUMVTDBaK4lFc0mOVKRCZ8p/KLnXlcyZ0ph8GmFxC4YoGK08y030tnFmsDYHfrvnRpSVRZVUA8ALeE8U8LTVSq00VTqQFABPiIFSmDp0OkaIpLkFSjVz2PxFWp2LczqdfGWOLfEBl2KUmX8xdypHkApvJOUXBsLjceM9QKb+KiowgznKu1o5je1htVub8NJDvQoYtfwlipoVHrJSa4IFijG35ibgHedZ0bKDvAPmOM8UqCJfIirc3OUAXPjaByeBVUrYComwU1mN9kxLlTTY2cknPrbtG2s24AU6Nai39DEbSqQtem9qxJue2PzAbjrpbdOmTC01JK00BJvcKAb8/OZXDUw5cIgc72Ci5+sDlqRVqeGWu1sO2IxAe5spbaPs1Y/Lv05gToOi6eHQOuGK5Q3aVGuqtYaAbhpbQSUaKlSpVcp3rbQ38JmlSVFCooVRuAFhA5akwFfHXx/wCF/rns9ju07XbF/wD+TXhai1cNgaBp0rPtCGqltkchtmy37Ra+YAnmZ1TYWmSSaaEniVF56q0EdcrorLyYAj7GBymFBTD1K1Mg/hMSxARiy7Kw2ir4WJIHAgT1jKr1MPWxgJCVqqJe5AGGVst7jUBjck8jOgx2CapSNOk4o5tGIQE5SLG26x3a6yRQoLTprTUAIqhQPACwEDnKNAI1XJVw2GQ0HzijVzWH5atrAC2uvH6TzgBTpO1EphwXw7kVqNTssotc1FO7fvueOs6Wjh0pghEVAd+VQL+dpinhaaZslNFzfFZQL+fOBq6KUDC0ACrAU1F1NweyNQeIkueVUAAAAAaADdPUBERAREQEREBERA+H49SlR778x/eRlueEsOllzYhgN+cywp3t/oj7ictum58q7B1SAQRNDkZrMNAP1lnjXYJfZ5bcbiU9V7k3kjslcdE00qaD8p/vOzwdMDWct0Jg2GHp1Qbh37Q5AEj+06ZWdBYDU21tffPPydzT08fULIAWlZjqYPCTfxRVCWsSBK+vXY6mxBHAbpmIaunN46jdrjeAZpoVS6KeNpYYnCs1bLe3ZNz4XEpduE0sdBpO8dw4ZebTTiBx0I5TWlUF81/KQKuLzcIo1ATrpNUxb7ZERO7mRNdestNSzmyi2tr7zYbvEzzQxKVL5DfLvBBBHmDrA3RPJcAgXFzuHO2+YFQFioOoAJHgb2/YwPcTEzATETzSqB1DKbg7jA9TMxEDMTEzARME2F5im4ZQym4IuD4GB6iYmYCJ5RwwuN2o+oNjMVKgUZmNhz89IHuIiAiJiBmJ5ZgupIGoGvMmw/WeoCJiealQIpZjYDeYHuInl3Ci55gfU6CB6ieXcKLnd/nSeoCInhKga9jexsfMQPcREBE81HCqWY2AFyfATSuNplwgbtHQaG17Xtfde3CBIiYmYCIiAiIgIiICIiB8T6V1rVCp/Md3nNuEfKoDk385Jfo6ptHJXQk/vNNSjsyTUIFuE4X1Tr09YuoAo0Y3+0qMQDe54y3pVxUBQXyjnI3SlEAL9ZcepYntbfwpjjsqlAnd2lvy4gfvOxpC4E+WYStkYNyIP0G+fSsPVuoyneLicebGpt6OLPqiuLq+oFuZ3zSgIpg8OU9V3YGwpqw4kv8A2tI9R7KOAPAznEO0yr+lMUUWqb2JAUHjczlBXI7La248ZO6ZxeauVGoUW+sqyxNr8J6sMah488rlsI3zBMCHF5ph93iInREPpWmzUSFDE5kPZ32DqSRfjYSCtKqGd8tVhmpm722hCk5hYflFwfqZdRAqKVBjWSo9N/jqWvvUG2UnXdoZ7xuELvWcKS2RNmQfzAsdPHdLSIFQcO5q/A+c1b7S/Z2V92/5dLW36+M1DC4ggA5tf6J7X/KB/wBTzOv3EvIgQMfTJqUyUZ6YDXVfmNspI46ZvvIK4VxTUPTqMdkAgDao9ze+uh+HXwl7ECBjqdXZ02TtVF0NtxzDKT5AkN9JDbB1wrqMxFPKi3Ny9PNmY7xfSw3j4Tzl3ECDgaTLSe9xcnKuXLbQbgSbC8g/y9hTNlbNsUt2j/qi9zv37peRApmo1TXzZCO2+YgaFMjBdb63OXS2h5cdSYWuKQDAlrU927ZgC6WuNQdTrr+kvpiBCwlN1ovYEk5iikZbaaAakgX8eM1dFUnR3uGCFU3i3a7WbS58Nf3lnMEX0gU1JnsWVXcMKyjKb9raG3HlxnmrhnOYNTdnOzyMDoFAXMDrpqGJ53l0qgAAAADcBumYFKNKqCzbU1m7ea6lbNYb+AtpbS08U8LW2Tghg+yIawIzOba5sxud9iAP7S7FFQxYKoY7zbX7z1AqzgSrsUVtKqFdTotlz2187yPTw1bK9820yOGIX4yQbdrNrrYiw08JexApsTgLZgKbMlqLWve7K5z8d+W0lY+mWNMlGemL5kXfc2ykjiBr9xJ8QKzA4Z86tUDdlOzdr27TWB5kKQLzVj8OzPVvTdycuzYHQKLXG/TW58by4iBT08PV25JuDnYhwtwU1sCc1rWsLW3/AHijQYIoFOotQNT2jE6MQ4LHfrxPl9pcRApadCoMwVWsSpzMLPfaAkHWzaX1Fv1nunQqbQdhxUzuXe/ZZDmsB91sOFpbxArej8K1NqZswvRAe5v2xbf475p/DttSRTcOa2YPfs7O4zceIuLc5cRAoqeGqktdXXNTYPkH58y2sSe1pm15X8hlqFUql07AZrqEOtwMrZM1x+YWv425XkQKPEYVyhDpUqE0ctMj8rdq99dDqutzulgtG9VS2ayICot2Q+oJ8Tb7fWTJiBmIiAiIgIiICIiAiJiB8+c9pvMzm+mtazeNh+k7pv4axFyc1LU/MfbKzGfwLiarl9rRW/C5/wAThjhMS1bmOjV1byE8dMG2WdVQ/gXE072rUdfE/wCJPw/8HlSGqJSqsOLVDb6DL/maqbtIfPcJ0ZVqjMFst7Bm3E8hzOhneUFKKvGwEucR0VWcIMlIZGuP6h5EW+DxnheiK44Uv/kPtnPkxzy/HfjyxxjuUGrWWxOYXlXiXLnTdznRP0PWP5aP/wAh9sj1f4frtu2Q/wDefbMxx5R+NTyYz+vmFXs1XuPzH94cC+k77E/wPUq3zGnf8pDm45/l1G79ZC6vMR31H9f8T0dvPPlyYGt+U8NpOvH/AOPMT39H7N/iG/8Ax5iSLbej9j/iNZLfRoiJtl5dwqlibAC5PgJowOLFZM2UqQbFTvB3i/0IP1jHYc1aZphsoYjMeOW+oHnunjDYRqdVm2hZXAvmtfMNxFgOH7CBufEoFzFha5H1W9x+h+00L0kjKrKCQ2S2ov22y6jwmtMFUDKCUyK7uN+Y5w2nLTNPNHo5wqBmW6rSXS//AC2v+ogb06SplgpOVrX1It8WUa+ckGqozajsi7eA36yvOBKqcxzIabK2UEtqxIKgbzrJHRtFlpXqf6j9p/Mi36AAfSBnC9IJUp7S4UZc1idy66nluP2mz8ZSz5M65r2tfW9r2+0gN0bUFPIrJ2qApMTfS19R6jJJwZ11GtVan0AUW89IGa3SdFAxLg5d4G/fb957/GoAxZgoDZQb79AeHgd0jDBVRRNG9PKFsh1ubEEZuW7WZ/BVA5qqUz5y2U3y2ZFU687rvgSHx9FQCaigEXBvvHPykiV9Po5grjMCWpsu7TMzMx+nakvD5xcMAALBSOIsLn73gR6eMYrWay5aZYKfmK7/ANdJspYq+fNYCmO2eGawJt4AGaqGDdVFMlcmcsSL5j2s1refjH4dr1UsCtRs2u4qQAwvwP8AmdJ1b6TKdQMLqbjd9Z4fEIGy5hmJsB477TVh0qJs0JDKE7Tcc3CaKOCqKyFmUhGdjoSWLX187EiZqEqEzD1s6nSxBKsORG+a8Vj6dLQsM2nZvrqbCeMKlRWJyi1RmZr71GgUeek118FULVApTLUZWOa9wVyiw5/CPKSfKT5Sji6eYrnXMN4vyFz+k0YbpNHXObItgQSw3E2F+U8UejitS5IKhy4Odrgm5+G+XjvnlOjGCoMw7K0l9DZjIiX+NpZc+dct7X8eXnMnGUhl7a9qxGu8HdIlfo5i5dWF85YDMV0Kqu9dQdJj+XMMmTKhG9gzX+IsdDfMNTv3XgSsRjUpuEPxFWYDwWYo4+k6lg66KGbXcDzmMXh2dlKldFdTfk1tR9ppr9Gl1AzAWRFG/erBuHDSBNo1lcXRgRu05zWmOpMSBUU2BJ14DefKecJhigfMLM++zs3Cw1aVtCjVfLTF1FOkyB8hXXsgb+On5b+cCzGMRrZWDAtlOu42vx8ITH0WBIqKQBcm/DnI1Lo9w2YkDthrZi2gUra7a8YPRxyU17JyUshBvYm6m+mo+GBOp1ldcysCOf7zUuPolSwqLlW1zfQX3fea0wjGg9J3Jzhhe5YqCLWudT9ZqfAVHOZygICABb2srhyTfy0HCBLfEgbO2oqGwP8A7Sb/AKTCY6kc1qinKLnXcOflGLw+0ya2CsSfIqy6feRB0e5Ch9mclMooANmvl1PL4Ru84Es46kACXWxv+m/7T0cVTDhM65jwvz3SC3R9UqO0MwLZWztmQG2gbew0vY79OU9fy5toSSGVmDm7MNRb8oNjqAYEyliUckKwJG+00U+kqZNS5CqjZbk728BGDwj03JJAS2iqxIve9wD8PkNJ5bBOGzqVLB2YBr2swAt4HxgSBi6ZKgOpL6rrvHhMviqasEZwGO4Hx3TRg8EabBiQTla9hxZ8xt4TXi8C9SoSGGUlCLsRbKQSLDQ3tvMDdX6RooHu4JQEkDfpw856GNSzMWAUW1vvzC40kf8ABVNnUpApkYPZtc3budeGhO/jBwVTNtLpnDKwGuXRCpF/rvgSGx1EKrGotmBIN94G+3lNr10VM7MAu+99Nd0iYfAsrh2Kk2qZgN13KnTwGWea2HKYakt7tSyblJBKi24a2gb/AMdT0IZStyC191hfWbKmJRL5mAta+vPQfexkDDYVqhL1AAGdyQQRdWQLuOvA74HRb5Bd81QPmvcqCAuQC41HZ/W8CY+OoqATUUBgSNd4G/7TOIxiU1VmOjEAEeP9pooYEqytoOy4IuTq5U3u2vCemwjChTpqVzU8m/cSlv8AED3Qx9N2K5gHDMuUnXskg/tebKOJp1CQjhiN9jI38vJCgsNKtRzbk4cWHj2x9pjAYE0yC1jlXKCHY6acCbDcNBA2jpGj27uBkbIb87X0/wDOE3ispt2hqSo8SL3H6H7SIMG+1LErl2oqDn8GUj9jPH4CoSFLLkDu9xfN2wwtyFs0CZRxNOoSEcNbkZ4q4+kme7C6Akgb9N/1mjAYE0yC1iVXICHY6aX0JsNw0E8vgHLVLMEVw1wCSDmFgSp0B43G+BJGOpHL2xd7WHnunmn0jSZS2cABiuvMcv3kap0fVe2Zl/JuZrDKbmw3G9uMy/R7k3BHZd2UZmW4c3NyNQR9YFijhgGUgg6gjcRPU04Wjs6ary32JOpNzv1m6AiIgIiIGJmRsdWamgcWsGXNf5SwBP0Bv9JD/mTk1FAW+0VafihYqSfLI5+0C0mZDw3SKVGAAIzAlSbdoDyNxvG+0zUx6qxGViqkKzgdkMbWHPiPvAlRKzD9JOXs9MhSzi+nZCG2uuvj/ebR0tTsTlYdnMBoSy3A0APiNDbfAnxNFDE584yMrJvU2vuuLWNpoHStK1xmP9MVN28GwA89Rp4wJ0SC3SaB2QggqG4g/CLnQG405zxV6UspIpPm7Bsbaq7ZQd/6eUCxmJGxGJKPSUISHJBNxpYX5zGHx61CoyuocEoxGjAcuW++sCVEhrjv6r0yLsHAULvy5VJY+AJ3+UwvSiEZirquQuCQNQLXtY3vqIE2JEXpBcwVkdGuos1tzXynQ7ri3nM4bpBKpUJftZiNOCkAk/cW84EqJF/mCZlU3BZmXduK7yfDdbzE0U+lLknIxTsWIA0DgWvr48IFjEhVOk1DOgUllDW1GpUXtvuPraZq41lw6VdmSWy9m40zEDn4wJkzIFLHnOVZGA2hQMLWGlwDrf6z3hukUqMFAIzAlSbdoDyNx9YEyJArdLU0qbM3NiAzDcCdwPHjwnk9M07Ocr9gHPp8JBtY+Jm9MvTWk+ljErj0xTGbMrqwIGQizHNutr4GB0whAyq7Mb9hRdhl334R9eXo0y9LCJWN0yFqOGpsqIq6ka5m3C3/AJxntemKZGiuXzZcgALXtfna1jvvH15ejTJYTMr8L0hmo1aziyKzWFtcq8/HfPOM6WFNWyozMFVrcO0bAGNMro1m6WMSpfpJ89lsLuiFWX4SRmfW+un2nin0ywsWRnXI1QsFtZLnLpfwl+rJdJXUSNRxiu7KtzlAJbgL6gedpHfpUZCy031QuhNrOAL6a6aa620mJimZilhMyJ+JKUFeoLmwvay6nzNh95rHSakAqjsSGNhbTKbNfW2+RE+Ymiri1WkKmpUgEbhod2+wE0r0krBciO7NmOUWuApsb623+OsCbMyvXHkuVKlAKgS5F7jJm56f+fTP80QKWKOq5C6kgdpRvtr5aG0CdE04fE52ZcrKy2uGtuO46E8jI9HpEEolizEX0AGmYjcTc7uF4E+YnivWFNC7bhy3/SRWx+uXIyMCtwwBuGva1j4b4E6JCbpOmFVtSCobdzIAB8STb6GYHSSmwCMWLZcosTfKW33taw33gTokYYxdjtTcKL3Ftbg2t530nlMeCcrI6NdRlNr9q9jobW0MCXMSL+OXOECsSSw0tplIBJ13azzXxpSqy5GZVRW7I1Fy173PgNB4wJkSG3SdMNbUi6gsLWBa1uN+I4cZqp9JWBNS1hm0C7yKhRdb8dP8wLGZlbV6RJyrTUhjUCNexy6XvoddPHnJODxi1gSqkLwJtr9jofAwJMREBERAREQNdakHRkbcwIPkZHTo6mrUm1vSUqLnfcWueZ3/AHMmTECLhcCtI9liVAsqkDQedrn6mKmAVmJzMFZgzILZSwtY8+A+0lTwayDNdl7Hxa/DpfXlpA0fgF7OraM7cNc5JYHw1nhOjVClMzFSAALDQA33gXO7jJoMzA1pSCu7C92tf6C0ir0XTFvi0qGpv48v9u7TwEmyNt3ckUlFgbF2Ol+IAG/9IGo9Fp8zW7ZA002l82tr8TNlXAK1+0wOVVuOGRswPneZatUp61FUpxZL6eJB4eIMkgy0NNbD58hzEFDe4troQQfMGa8PgFplTmdggsikiyg8uegtrJcSCIcAm0NUXDlg2Yb9AFy+RA3TB6OQoqHMQqFN/BrfrpJkQIL9GqyuHd2LgDOSAwCm4tYaa6zdRwaJUZ1vdgBbgANNP0+wkiYgQ6/RlOoapOYGoADY7rcRyOg+02NglOcagNlvbhlta32kmIEJejVDXzNYFyF0sM982tr8TNhwYNEUi7G1rNpfQgjhbgJJiBGGDXmT28/1/wATzhcCtI9ljlAsqkDQedrn6mS4gQH6LQ1GqBmUsbkCxF7WvqJordDDLlpsQHK7S7bwpuW/3S2mJuOTKP1qM8oV7dDoQczuXLBs5ILXAsOFrWJ0tPTdFr2SHdWUEZlIBIJuQdLSdEb5ezeUCr0SjmoSz/1CpOu5l3EfaD0Utks7hkJIcWB13jQWk+Zk3y9m0of8uT8PsLtlta99d97zUeiFKsDUqEsVYsSL3XdwljEb5R+m0oB6KQknM9yXN7je4yk7uA3TXX6NygmlqxpillZrLl3XOm/UyzmJd8jeUbAYNaFIUxr8x5niZrXoxQMpdyoQooJHZUi2mnLTW8mzMzMzM3KTN9y0V8MHVRcgoQVI4EacdOM10cAqbix0ca2/O2Y7vGS4kRGfBgpTS5GzsVOl7gWG/TdNS9GhbZKjqwzdoWuQxzEEWtv8JOiBE/ALnLFmN2DWNrZguX9RNf8AK1KlS7suQooJHZU77aeWpvJ8QNS0QHZ9bsADy7N7fvI7dGqQqlmyqQcum8Nmve1xryk2IEWph2ai6Mc5Oa1zl3klRcDS2mtuE0YbAuWZ6rG90I7QJ7FzrYAcZYzECH/LKdqg1/qMG37iDcW8Abn6me6eCAyksSVbMDYDXKV4AaayVECP+DXZGmb5SSd+tyxbT6maj0eDcmo5clTn0uMu4AWtbU8OMmxAi0MEqMGzMxGbU21zkE/sJjEYLOxbaOmZQpy21UEniPE6yXECGOjkD5lJUaXUAWNgAN4uNAN08t0XTIIJbW/0JfPf6GTogRUwQGW7ElWzXsBrYi2gGmsYfBhHZ8zMxAFyBuGvAC+/jJUQEREBERAREQMSB0ngqtQq1GsaZUHS5ykggrcDxFj4EywkPpDBGsFAfLlN72vwt5fe81jNSIT9H1iGFOuSNQCXa/5RY8iCra79Zit0ZUfa7OoMjgrbO1yQmTtNvNiN3Gej0IbKFqhQrMwsnFnV+B8LeRmU6FsVtU0VmIULYdpw19D8Qta/I7p12j3/AKFpSUhFB3gAG3lPcxMzgNOLYilUK/EFJHnbSV/SQqrSpLhibAHcCQQF7IuNR52I5y1kVFel2VXPTHwgEBlHLXQj6/eaxmhswtYOm+5HZYb7MN48Z56P/wBIDgCwH+0MQv6ATRhwzJ/SVqaOS5Zjdu0cxyi5tv47uRk6mgVQoFgBYDwiaHqIiZCIiAiIgIiICJqxGIWkhdr2HIX36TwMYhzakFLZgRY67tON4EiJgTxTqhmdRvQgH6gH+8DZETwtQFivEbx4HcfKB7iJiBmJqSuC7JrdQCeWt7ftNkDMjY/EGlSZxYkWsDxJIAH6yRIuNoNUNIWBRXDPc77bh97H6QNX48hnQhWK5QCu4sxsFPLn5SS+KRNHdQwAv9ZrxlDsKUX4HD5QN4G/62JmmrgjVLsbEOUG/wD5S2JHmTeBKbEKUcowJQG/gQLzKVhs1ZiBcD7ngJHSgyU6+a3aLEW5WsP0AmKtFqlBFUD4BrexVgAVI+sDeuIBdRoQ4JQjjbeP7yIekXGY2QgVdmAPibUAkeVz9puq02apTy2JpAkncCxWwH6kz10fhNlTUMFzj4mHEk3OsD3SxIKs5sEvYHnY2v8AU7v/ALj8SMyi4KvcKf8AqG8H7H7SImHbYmhYHLcG5sbXJRgft9jNrUmZqCk3NM53YDQnKR+pN4E6IiAiIgIiICIiAiIgIiICIiAiIgIiICIiAiJiBmJiIGYmIgZiYiBmeXYAEncNZmcj0x/FL52TDgBVuC5F72324Wmcsoxjt34ODPmy1wdL0Y4bD0ipBGRdR4C0lThuiv4oqUSqVVBpCw0WxUcLW3zt0YMAQbgi4PhJhnGUdNfJ+NnwZf1eJ8PURE28xERAREQERECv6S7b0aVyMz5mI4BdR+tpivhglSk1y2aqM7H/AGsF3cLkSxnl0DAgi4PCBBDFsToWK2OlyMrKba8wb/pPSPlOKaxNiDYb/wDTWTQJ5SmFLEb2Nz5gAfsBApXp1VRru91ogHU6u50+395YEH8RRtfSm2a++11tf6g/rJs8KgBJA1O8wIuLSoW7G0tb8rqB+omzBq4Bz59+mdgf2kmIFOiM7sylg7Vr8QFRCBr5hePOT8YrkDJnvf8AKwH7yTMQIeESoH7e0tb8zqR9gJuqCrfstTA8VJP7zdMwI2Wv81L0H3Rlr/NS9B90kxAjZa/zUvQfdGWv89L0H3SuoJUq5nTOM1W6vm7IQG1gL63sdLcZITFlaO2tmZ3sBfgWsAPp/eBJy1/npeg+6Mtf5qXoPuminjyzhDTFjUZCc3IEkjTXdY/3m7B1CTUQ67N8oPgQGH72+kDOWv8APS9B90Za/wA9L0H3STEDA8ZmIgIiICIiAiIgIiICIiAiIgIiICIiAiIgJXYmhXNYlGIp9nTNbg2bh/t+0sYhrHKlQuHxlu1UBNl42G5Q3DfcMfr9iYfF27VQXC2+LeQRbh58JbzElN/bPqP8Kr8Nijm/qZTlbL2rjMWOW+nBSPtDYbFXFnNtPz/9dyN3y3H/AJeWszFJ9k+oU7YbGFT/AFLNkIXtfmysBfTXXKb+H3ycJicxbN+V1W76i+Wx3WOoMt4il+2fUI1CnUFHK57djr97f2nC4DpJaC00cVL06jMygC1iuXLqec+hyl6V/hujiWNQE03O8jcfMTGeMz3i9PxObjxmceXxPr+//XH1mFemtma9Gkc5Yasc+lrE/Nx5TvehqbJhaKv8QQXlb0b/AArSouHd2qEbgdF+o4y+k48JjuW/m/Jw5IjDj8R2zEROr5xERAREQEREBERAREQEREBERARMRAzERATy63BFyL8t89RA1YegtNFRb5VFhflNVPBgEA6qrl08Cb3B57zb/wCpKiBGXBIMhF7pmI14sbm/1nvD0cgYnVmbMx8d36AATdEBERAREQEREBERAREQEREBERAREQEREBERAREQEREBERAREQEREBERAREQEREBERAREQERMQMxK98Y23emGRQoXUi5zNey7/L7zZhq1RqjI2UZFUmw4sDfW/hNazC6ymRK+hjHahUqnLoWyWB1AJAO/jN9CuWZgbWTRjzawJt4C8TjMFSkxIr4tSG2ZDFRmK818POxtPP4kmrSCkFKikjTXQAj95KkqUyJqq4hENndVvzIEUq6PfI6tbfY3iikTpEZ6lGkSQrls1jY6LprJ6iwAkHGf8ThvN/+2TpZ8Qs+IZiV9DGO1GpUOWylgtgdQptffxm6jiCSwbKBTHbPDNa5t4AROMwlSlRNdGur3Km9v8X/AGInmviUp/GwGl/oN58pKlKbokdK/wDUKG17ZlPNf8jT7yDQ6Tc7MnIRUdlAGhCi/b37tP1ljGZajGZW0SJSxilFdyFDnsX5cL/TWbKeMpuQFcEm9h5aGSpSpb4kfD1Sxq3t2Xyjyyg/3M8Pjly51IZFtm/2ncR+/lFSUlxIePxgpo1iM4HZG/U6C/mZuGIUMELDPpp42v8A2MVNWVLdExMyIREQEREBERAREQEREBERAREQEREBERAREQEREBERAREQEREBERAREQEREBMTMQKunhKq7RstIu75gxY9nQAcOAE20h/6iuDcZlSxt4G8nTM1tLWyvwuFqLTpUmChUtcg3zZd2ltNbEzXWwzkVqQt23Di+5luuZSeG4j6y0mJd5uzaUAU6iGs7BSXACBd+7RfuTr+08UqOSphqe/Z02BNtNyyyiTY2aMRhy5BDlbclU/uDM4bDlL3ctfmqj9gJviS+qS0DGf8ThvN/wDtk4jSQcZ/xOG83/7ZNDA7iNJZ8R/P1Z8QgYXCVFpU6LBQqWuwN81jcaW0ud89LTZWrKADtGDC+4qbBx56H7iTojaTZBw1OpRWklgwuwJubquuXXjYWGs1YnBVWNa2S1QrqSb5Ba6bv933lnEbTdm03avxFJ6lRmSwK02QE6DMxF/tYfeb8Ng1SiKeUA5MpI8rb5JiNpqjaapW0cMzrRVgP6I1B4uBZT5cftPWEwDU3pnskKhzHiXY3Y/oNZYTMu8m0oNDN/6jKBm2mmbd8KzS2EZcO1Eb3JVRvyoTuvyAv+0s4k2NlWcDVvbsEGtnJJN2UfCN3Cy/aSKWHfbmocouCCAfi17BtwIF5MiJzmTaSZiJlkiIgIiICIiAiIgIiICIiAiIgIiICIiAiIgIiICIiAiIgIiICIiAiIgIiICIiAiIgIiICIiAiIgaFwqB2qBe2d5+gH9h9p5weHNMNcglmvoN194+9z9ZJiW5WyIiRCIiAiIgIiICIiAiIgIiICIiAiIgIiICIiAiIgIiICIiAiIgIlftm+YzO2bmYE+JX7ZvmMztm5mBPiQNs3Mxtm5mBPiV+2b5jG2b5jAsIlftm+YzO2bmYE+JA2zfMZjbN8xgWESBtm5mY2zfMYFhEr9s3zGZ2zczAnxK/bN8xjbN8xgWESv2zfMZnbNzMCfEr9s3zGNs3zGBYRIG2bmZjbN8xgWESv2zfMY2zfMYFhEr9s3zGNs3zGBYTEgbZvmM0YrHmmB2tTuubDhqTy1H3EC2mZzfSPSWIp07rmqEjXItrBtzAm9yLHTxG6WNLEVCLk25WN9OHCBZxK/bN8xjbN8xgWESv2zfMY2zfMYFhEr9s3zGNs3zGBYRK/bN8xjbN8xgWESv2zfMY2zfMYFhEr9s3zGNs3zGBYRK/bPzMbZvmMCwiV+2b5jG2b5jAsIlftn5mNs3zGBYRK/bN8xjbN8xgWESv2z8zG2b5jAsIlftm+Yxtm+YwLCJX7ZvmMbZvmMCwiV+2b5jG2b5jA8SgxGFxIxNd6atr/pNcED+mBuLaa3/ACmdPsl5RshygUFKliUrAEuaZcksoS7fDq9+Fr/DY/pI74TE/iKj00YNtSy1Gqf0zT2YATJf5vDTnOn2Q5Rshygci+Dx7hCWNyCGJIDDLZ0+HQ3bMugGhnpcBi70zmqIWKtUyMpILCqWHavcKWQftuE6zZDlGzHKBz9JazYE0np1TWWmq3LAFnIGoYHgeO/TiZHp0sdT2ai5YVCarkqVqXZdbHVRkvoLWI+/UbIco2Q5QOXpHGVKGLpVM+12S5L5R22D3yFdLXAtc35zzU6MxNMrs6jN+YlNLf1KXYXOSbZQ51Nr/adVshyjZLygcsidIIhUZtCcuUodLErfN/1fF4Wtxm0vj0clhnpKSTkC5iq3fsjxuKdt+l+N50myHKNkvKBz3SWHrNiaNSmjsBluC9kHau25gQbeDA2tIyfzMqt7g5rm4Qm2VdDwK5s3I7p1WyHKNkOUDmWHSHbuTYvuQJmC9u2Qtpb4L5td8xi8FiDSwgVXZ0QBhnsubs3zEMDfQ9oX46GdPshyjZDlA5dk6QZmNvhYtTzFbA5aot2bXX/T3856pUcbdHZ2uLAg5O0u0Fw1tPhzG4twnTbIco2Q5QKjA4aoKOGzuyNTUZ0FrMctrHyPKVRwmLXEVaiK+pq2OcWIa2SwLEG3IqPOdZshyjZDlA5V06QZCrAsDTYEdgDNdspPM2yaCwkqrTxL0MWrZ9oysKeqBb9q2QjXdl+KdBshyjZDlA5LD0MdTFkV1BqZrFlPZ7AsQxaw+M6N+82bXH1EvTbQVCgIVbsq3AezAaMd4HLSdTshyjZDlAp+jfxGett7lc3YPZAtc6ALra1tSTfwlhJGyHKNkOUCPEkbIco2Q5QI8q+lMWqPT7LNmYU2slwtyrXN9LWBl5sl5Ty2HQkEi9r21010OkCk+Blt22JJ2bOCyHXLlA3fFqeAljRp5EVb3yqBfyFpKWgi7lA8p62S8oEeJI2S8o2S8oEeJI2S8o2S8oEeJI2S8o2S8oEeJI2S8o2S8oEeYknZLyjZLygRpmSNkvKNkvKByZ6Nxe0KhjstoVHb/wCVn2oY6332TyntP5lkS5s2btaJcaDTkUvfk3jOp2S8o2S8oHP4CliFp11rqzDtbNUYAlSzG2a9w2o1vYC1uMz0bhKxwzI5qYd2csLMGKC4OVSS1x5+O6X+yHKNkOUDnOk8JWfEM1NH1RBTqCplVGDMWLC+uhGljeaK1fHoXPzOFpqQp+Iuv5RuXsPryM6rZLyjZjlAoOkcNiWr4dkIanTZCe1lJN+0zACxFraecn/hrtUzuzJUAGQ6BQBY5SNdfOWGyXlGyXlA5jC4bFUUSmiuMwXM2YNlOc5ycxJ+C1rXmuivSK01UZywpkdooQWytvO8tny24W363nV7JeUbJeUDmWpY1KnYLMDUUlux2lC0gcwtu+PdY6eU3dGU8UlRFqZtkKdjcrYNfnqxJ14i06DZLyjZLygR5iSdkvKNkvKBGiSdkvKNkvKB7iIgIiICIiAiIgIiICIiAiIgIiICIiAiIgIiICIiAiIgIiICIiAiIgIiICIiAiIgIiICIiAiIgIiICIiAiIgIiICIiAiIgIiICIiAifNOsLGd3h/S3ujrCxnd4f0t7oH0uJ806wsZ3eH9Le6OsLGd3h/S3ugfS4nzTrCxnd4f0t7o6wsZ3eH9Le6B9LifNOsLGd3h/S3ujrCxnd4f0t7oH0uJ806wsZ3eH9Le6OsLGd3h/S3ugfS4nzTrCxnd4f0t7o6wsZ3eH9Le6B9LifNOsLGd3h/S3ujrCxnd4f0t7oH0uJ806wsZ3eH9Le6OsLGd3h/S3ugfS4nzTrCxnd4f0t7o6wsZ3eH9Le6B9LifNOsLGd3h/S3ujrCxnd4f0t7oH0uJ806wsZ3eH9Le6OsLGd3h/S3ugfS4nzTrCxnd4f0t7o6wsZ3eH9Le6B9LifNOsLGd3h/S3ujrCxnd4f0t7oH0uJ806wsZ3eH9Le6OsLGd3h/S3ugfS4nzTrCxnd4f0t7o6wsZ3eH9Le6B9LifNOsLGd3h/S3ujrCxnd4f0t7oH0uJ806wsZ3eH9Le6OsLGd3h/S3ugfS4nzTrCxnd4f0t7o6wsZ3eH9Le6B9LifNOsLGd3h/S3ujrCxnd4f0t7oH0uJ806wsZ3eH9Le6OsLGd3h/S3ugfS4nzTrCxnd4f0t7o6wsZ3eH9Le6B9LifNOsLGd3h/S3ujrCxnd4f0t7oH0uJ806wsZ3eH9Le6OsLGd3h/S3ugfS4nzTrCxnd4f0t7o6wsZ3eH9Le6B9LifNOsLGd3h/S3ujrCxnd4f0t7oH0uJ806wsZ3eH9Le6OsLGd3h/S3ugfS4nzTrCxnd4f0t7o6wsZ3eH9Le6B9LifNOsLGd3h/S3ujrCxnd4f0t7oH0uJ806wsZ3eH9Le6OsLGd3h/S3ugfS4nzTrCxnd4f0t7o6wsZ3eH9Le6BycREBERAREQEREBERAREQEREBERAREQEREBERAREQEREBERAREQEREBERAREQEREBERAREQEREBERAREQEREBERAREQEREBERAREQEREBERAREQEREBERAREQEREBERAREQEREBERAREQEREBERAREQEREBERAREQEREBERAREQEREBERAREQEREBERAREQEREBERAREQEREBERAREQEREBERAREQEREBERAREQEREBERAREQEREBERAREQEREBERAREQEREBERAREQEREBERAREQEREBERAREQEREBERAREQP//Z\n"
              }
            ],
            "_view_module": "@jupyter-widgets/output",
            "_model_module_version": "1.0.0",
            "_view_count": null,
            "_view_module_version": "1.0.0",
            "layout": "IPY_MODEL_ff45de39e9f94b8690dc656856b39dfe",
            "_model_module": "@jupyter-widgets/output"
          }
        },
        "0d7cbcf2e6fc436abd7c14a4de57abe7": {
          "model_module": "@jupyter-widgets/output",
          "model_name": "OutputModel",
          "state": {
            "_view_name": "OutputView",
            "msg_id": "",
            "_dom_classes": [],
            "_model_name": "OutputModel",
            "outputs": [
              {
                "output_type": "stream",
                "metadata": {
                  "tags": []
                },
                "text": "Video available at https://www.bilibili.com/video/\n",
                "stream": "stdout"
              },
              {
                "output_type": "display_data",
                "metadata": {
                  "tags": []
                },
                "text/html": "\n        <iframe\n            width=\"854\"\n            height=\"480\"\n            src=\"https://player.bilibili.com/player.html?bvid=&page=1?fs=1\"\n            frameborder=\"0\"\n            allowfullscreen\n        ></iframe>\n        ",
                "text/plain": "<__main__.BiliVideo at 0x7f2e80eaf1d0>"
              }
            ],
            "_view_module": "@jupyter-widgets/output",
            "_model_module_version": "1.0.0",
            "_view_count": null,
            "_view_module_version": "1.0.0",
            "layout": "IPY_MODEL_64cccbedad1c447ca3454b2478761280",
            "_model_module": "@jupyter-widgets/output"
          }
        },
        "ff45de39e9f94b8690dc656856b39dfe": {
          "model_module": "@jupyter-widgets/base",
          "model_name": "LayoutModel",
          "state": {
            "_view_name": "LayoutView",
            "grid_template_rows": null,
            "right": null,
            "justify_content": null,
            "_view_module": "@jupyter-widgets/base",
            "overflow": null,
            "_model_module_version": "1.2.0",
            "_view_count": null,
            "flex_flow": null,
            "width": null,
            "min_width": null,
            "border": null,
            "align_items": null,
            "bottom": null,
            "_model_module": "@jupyter-widgets/base",
            "top": null,
            "grid_column": null,
            "overflow_y": null,
            "overflow_x": null,
            "grid_auto_flow": null,
            "grid_area": null,
            "grid_template_columns": null,
            "flex": null,
            "_model_name": "LayoutModel",
            "justify_items": null,
            "grid_row": null,
            "max_height": null,
            "align_content": null,
            "visibility": null,
            "align_self": null,
            "height": null,
            "min_height": null,
            "padding": null,
            "grid_auto_rows": null,
            "grid_gap": null,
            "max_width": null,
            "order": null,
            "_view_module_version": "1.2.0",
            "grid_template_areas": null,
            "object_position": null,
            "object_fit": null,
            "grid_auto_columns": null,
            "margin": null,
            "display": null,
            "left": null
          }
        },
        "64cccbedad1c447ca3454b2478761280": {
          "model_module": "@jupyter-widgets/base",
          "model_name": "LayoutModel",
          "state": {
            "_view_name": "LayoutView",
            "grid_template_rows": null,
            "right": null,
            "justify_content": null,
            "_view_module": "@jupyter-widgets/base",
            "overflow": null,
            "_model_module_version": "1.2.0",
            "_view_count": null,
            "flex_flow": null,
            "width": null,
            "min_width": null,
            "border": null,
            "align_items": null,
            "bottom": null,
            "_model_module": "@jupyter-widgets/base",
            "top": null,
            "grid_column": null,
            "overflow_y": null,
            "overflow_x": null,
            "grid_auto_flow": null,
            "grid_area": null,
            "grid_template_columns": null,
            "flex": null,
            "_model_name": "LayoutModel",
            "justify_items": null,
            "grid_row": null,
            "max_height": null,
            "align_content": null,
            "visibility": null,
            "align_self": null,
            "height": null,
            "min_height": null,
            "padding": null,
            "grid_auto_rows": null,
            "grid_gap": null,
            "max_width": null,
            "order": null,
            "_view_module_version": "1.2.0",
            "grid_template_areas": null,
            "object_position": null,
            "object_fit": null,
            "grid_auto_columns": null,
            "margin": null,
            "display": null,
            "left": null
          }
        },
        "7bd4a1843ee14979b1f84ac6da63f694": {
          "model_module": "@jupyter-widgets/controls",
          "model_name": "TabModel",
          "state": {
            "_view_name": "TabView",
            "_dom_classes": [],
            "_titles": {
              "0": "Youtube",
              "1": "Bilibili"
            },
            "_model_name": "TabModel",
            "_view_module": "@jupyter-widgets/controls",
            "selected_index": 0,
            "_model_module_version": "1.5.0",
            "_view_count": null,
            "_view_module_version": "1.5.0",
            "box_style": "",
            "layout": "IPY_MODEL_38b367d527874719bc60150bb3eaaf55",
            "_model_module": "@jupyter-widgets/controls",
            "children": [
              "IPY_MODEL_a446d09cb74b4fb7a33911c48d61a203",
              "IPY_MODEL_21229fb69ab244d9804dc2f349673d3f"
            ]
          }
        },
        "38b367d527874719bc60150bb3eaaf55": {
          "model_module": "@jupyter-widgets/base",
          "model_name": "LayoutModel",
          "state": {
            "_view_name": "LayoutView",
            "grid_template_rows": null,
            "right": null,
            "justify_content": null,
            "_view_module": "@jupyter-widgets/base",
            "overflow": null,
            "_model_module_version": "1.2.0",
            "_view_count": null,
            "flex_flow": null,
            "width": null,
            "min_width": null,
            "border": null,
            "align_items": null,
            "bottom": null,
            "_model_module": "@jupyter-widgets/base",
            "top": null,
            "grid_column": null,
            "overflow_y": null,
            "overflow_x": null,
            "grid_auto_flow": null,
            "grid_area": null,
            "grid_template_columns": null,
            "flex": null,
            "_model_name": "LayoutModel",
            "justify_items": null,
            "grid_row": null,
            "max_height": null,
            "align_content": null,
            "visibility": null,
            "align_self": null,
            "height": null,
            "min_height": null,
            "padding": null,
            "grid_auto_rows": null,
            "grid_gap": null,
            "max_width": null,
            "order": null,
            "_view_module_version": "1.2.0",
            "grid_template_areas": null,
            "object_position": null,
            "object_fit": null,
            "grid_auto_columns": null,
            "margin": null,
            "display": null,
            "left": null
          }
        },
        "a446d09cb74b4fb7a33911c48d61a203": {
          "model_module": "@jupyter-widgets/output",
          "model_name": "OutputModel",
          "state": {
            "_view_name": "OutputView",
            "msg_id": "",
            "_dom_classes": [],
            "_model_name": "OutputModel",
            "outputs": [
              {
                "output_type": "stream",
                "metadata": {
                  "tags": []
                },
                "text": "Video available at https://youtube.com/watch?v=McALsTzb494\n",
                "stream": "stdout"
              },
              {
                "output_type": "display_data",
                "metadata": {
                  "tags": []
                },
                "text/html": "\n        <iframe\n            width=\"854\"\n            height=\"480\"\n            src=\"https://www.youtube.com/embed/McALsTzb494?fs=1&rel=0\"\n            frameborder=\"0\"\n            allowfullscreen\n        ></iframe>\n        ",
                "text/plain": "<IPython.lib.display.YouTubeVideo at 0x7f2e7ce1b5d0>",
                "image/jpeg": "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\n"
              }
            ],
            "_view_module": "@jupyter-widgets/output",
            "_model_module_version": "1.0.0",
            "_view_count": null,
            "_view_module_version": "1.0.0",
            "layout": "IPY_MODEL_ba6888e044544ef69cc1e7aae6423363",
            "_model_module": "@jupyter-widgets/output"
          }
        },
        "21229fb69ab244d9804dc2f349673d3f": {
          "model_module": "@jupyter-widgets/output",
          "model_name": "OutputModel",
          "state": {
            "_view_name": "OutputView",
            "msg_id": "",
            "_dom_classes": [],
            "_model_name": "OutputModel",
            "outputs": [
              {
                "output_type": "stream",
                "metadata": {
                  "tags": []
                },
                "text": "Video available at https://www.bilibili.com/video/\n",
                "stream": "stdout"
              },
              {
                "output_type": "display_data",
                "metadata": {
                  "tags": []
                },
                "text/html": "\n        <iframe\n            width=\"854\"\n            height=\"480\"\n            src=\"https://player.bilibili.com/player.html?bvid=&page=1?fs=1\"\n            frameborder=\"0\"\n            allowfullscreen\n        ></iframe>\n        ",
                "text/plain": "<__main__.BiliVideo at 0x7f2e7155e1d0>"
              }
            ],
            "_view_module": "@jupyter-widgets/output",
            "_model_module_version": "1.0.0",
            "_view_count": null,
            "_view_module_version": "1.0.0",
            "layout": "IPY_MODEL_77694dfd8d3c4e0d950ffe7e1ee71e8c",
            "_model_module": "@jupyter-widgets/output"
          }
        },
        "ba6888e044544ef69cc1e7aae6423363": {
          "model_module": "@jupyter-widgets/base",
          "model_name": "LayoutModel",
          "state": {
            "_view_name": "LayoutView",
            "grid_template_rows": null,
            "right": null,
            "justify_content": null,
            "_view_module": "@jupyter-widgets/base",
            "overflow": null,
            "_model_module_version": "1.2.0",
            "_view_count": null,
            "flex_flow": null,
            "width": null,
            "min_width": null,
            "border": null,
            "align_items": null,
            "bottom": null,
            "_model_module": "@jupyter-widgets/base",
            "top": null,
            "grid_column": null,
            "overflow_y": null,
            "overflow_x": null,
            "grid_auto_flow": null,
            "grid_area": null,
            "grid_template_columns": null,
            "flex": null,
            "_model_name": "LayoutModel",
            "justify_items": null,
            "grid_row": null,
            "max_height": null,
            "align_content": null,
            "visibility": null,
            "align_self": null,
            "height": null,
            "min_height": null,
            "padding": null,
            "grid_auto_rows": null,
            "grid_gap": null,
            "max_width": null,
            "order": null,
            "_view_module_version": "1.2.0",
            "grid_template_areas": null,
            "object_position": null,
            "object_fit": null,
            "grid_auto_columns": null,
            "margin": null,
            "display": null,
            "left": null
          }
        },
        "77694dfd8d3c4e0d950ffe7e1ee71e8c": {
          "model_module": "@jupyter-widgets/base",
          "model_name": "LayoutModel",
          "state": {
            "_view_name": "LayoutView",
            "grid_template_rows": null,
            "right": null,
            "justify_content": null,
            "_view_module": "@jupyter-widgets/base",
            "overflow": null,
            "_model_module_version": "1.2.0",
            "_view_count": null,
            "flex_flow": null,
            "width": null,
            "min_width": null,
            "border": null,
            "align_items": null,
            "bottom": null,
            "_model_module": "@jupyter-widgets/base",
            "top": null,
            "grid_column": null,
            "overflow_y": null,
            "overflow_x": null,
            "grid_auto_flow": null,
            "grid_area": null,
            "grid_template_columns": null,
            "flex": null,
            "_model_name": "LayoutModel",
            "justify_items": null,
            "grid_row": null,
            "max_height": null,
            "align_content": null,
            "visibility": null,
            "align_self": null,
            "height": null,
            "min_height": null,
            "padding": null,
            "grid_auto_rows": null,
            "grid_gap": null,
            "max_width": null,
            "order": null,
            "_view_module_version": "1.2.0",
            "grid_template_areas": null,
            "object_position": null,
            "object_fit": null,
            "grid_auto_columns": null,
            "margin": null,
            "display": null,
            "left": null
          }
        },
        "9a258530d14f4d78b902d77100143626": {
          "model_module": "@jupyter-widgets/controls",
          "model_name": "TabModel",
          "state": {
            "_view_name": "TabView",
            "_dom_classes": [],
            "_titles": {
              "0": "Youtube",
              "1": "Bilibili"
            },
            "_model_name": "TabModel",
            "_view_module": "@jupyter-widgets/controls",
            "selected_index": 0,
            "_model_module_version": "1.5.0",
            "_view_count": null,
            "_view_module_version": "1.5.0",
            "box_style": "",
            "layout": "IPY_MODEL_276282b2a53645368489a1052c1f7bd2",
            "_model_module": "@jupyter-widgets/controls",
            "children": [
              "IPY_MODEL_14c3e84123354f45afadd9a18e844047",
              "IPY_MODEL_530d0957b4f64f82965a93d8fc5adabf"
            ]
          }
        },
        "276282b2a53645368489a1052c1f7bd2": {
          "model_module": "@jupyter-widgets/base",
          "model_name": "LayoutModel",
          "state": {
            "_view_name": "LayoutView",
            "grid_template_rows": null,
            "right": null,
            "justify_content": null,
            "_view_module": "@jupyter-widgets/base",
            "overflow": null,
            "_model_module_version": "1.2.0",
            "_view_count": null,
            "flex_flow": null,
            "width": null,
            "min_width": null,
            "border": null,
            "align_items": null,
            "bottom": null,
            "_model_module": "@jupyter-widgets/base",
            "top": null,
            "grid_column": null,
            "overflow_y": null,
            "overflow_x": null,
            "grid_auto_flow": null,
            "grid_area": null,
            "grid_template_columns": null,
            "flex": null,
            "_model_name": "LayoutModel",
            "justify_items": null,
            "grid_row": null,
            "max_height": null,
            "align_content": null,
            "visibility": null,
            "align_self": null,
            "height": null,
            "min_height": null,
            "padding": null,
            "grid_auto_rows": null,
            "grid_gap": null,
            "max_width": null,
            "order": null,
            "_view_module_version": "1.2.0",
            "grid_template_areas": null,
            "object_position": null,
            "object_fit": null,
            "grid_auto_columns": null,
            "margin": null,
            "display": null,
            "left": null
          }
        },
        "14c3e84123354f45afadd9a18e844047": {
          "model_module": "@jupyter-widgets/output",
          "model_name": "OutputModel",
          "state": {
            "_view_name": "OutputView",
            "msg_id": "",
            "_dom_classes": [],
            "_model_name": "OutputModel",
            "outputs": [
              {
                "output_type": "stream",
                "metadata": {
                  "tags": []
                },
                "text": "Video available at https://youtube.com/watch?v=xvIVZrqF_5s\n",
                "stream": "stdout"
              },
              {
                "output_type": "display_data",
                "metadata": {
                  "tags": []
                },
                "text/html": "\n        <iframe\n            width=\"854\"\n            height=\"480\"\n            src=\"https://www.youtube.com/embed/xvIVZrqF_5s?fs=1&rel=0\"\n            frameborder=\"0\"\n            allowfullscreen\n        ></iframe>\n        ",
                "text/plain": "<IPython.lib.display.YouTubeVideo at 0x7f2e714de110>",
                "image/jpeg": "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\n"
              }
            ],
            "_view_module": "@jupyter-widgets/output",
            "_model_module_version": "1.0.0",
            "_view_count": null,
            "_view_module_version": "1.0.0",
            "layout": "IPY_MODEL_5f99cddf64e1470b810f44cf118f53de",
            "_model_module": "@jupyter-widgets/output"
          }
        },
        "530d0957b4f64f82965a93d8fc5adabf": {
          "model_module": "@jupyter-widgets/output",
          "model_name": "OutputModel",
          "state": {
            "_view_name": "OutputView",
            "msg_id": "",
            "_dom_classes": [],
            "_model_name": "OutputModel",
            "outputs": [
              {
                "output_type": "stream",
                "metadata": {
                  "tags": []
                },
                "text": "Video available at https://www.bilibili.com/video/\n",
                "stream": "stdout"
              },
              {
                "output_type": "display_data",
                "metadata": {
                  "tags": []
                },
                "text/html": "\n        <iframe\n            width=\"854\"\n            height=\"480\"\n            src=\"https://player.bilibili.com/player.html?bvid=&page=1?fs=1\"\n            frameborder=\"0\"\n            allowfullscreen\n        ></iframe>\n        ",
                "text/plain": "<__main__.BiliVideo at 0x7f2e71587890>"
              }
            ],
            "_view_module": "@jupyter-widgets/output",
            "_model_module_version": "1.0.0",
            "_view_count": null,
            "_view_module_version": "1.0.0",
            "layout": "IPY_MODEL_da81dc0fe40b4ce887bfce1b5ffb5f86",
            "_model_module": "@jupyter-widgets/output"
          }
        },
        "5f99cddf64e1470b810f44cf118f53de": {
          "model_module": "@jupyter-widgets/base",
          "model_name": "LayoutModel",
          "state": {
            "_view_name": "LayoutView",
            "grid_template_rows": null,
            "right": null,
            "justify_content": null,
            "_view_module": "@jupyter-widgets/base",
            "overflow": null,
            "_model_module_version": "1.2.0",
            "_view_count": null,
            "flex_flow": null,
            "width": null,
            "min_width": null,
            "border": null,
            "align_items": null,
            "bottom": null,
            "_model_module": "@jupyter-widgets/base",
            "top": null,
            "grid_column": null,
            "overflow_y": null,
            "overflow_x": null,
            "grid_auto_flow": null,
            "grid_area": null,
            "grid_template_columns": null,
            "flex": null,
            "_model_name": "LayoutModel",
            "justify_items": null,
            "grid_row": null,
            "max_height": null,
            "align_content": null,
            "visibility": null,
            "align_self": null,
            "height": null,
            "min_height": null,
            "padding": null,
            "grid_auto_rows": null,
            "grid_gap": null,
            "max_width": null,
            "order": null,
            "_view_module_version": "1.2.0",
            "grid_template_areas": null,
            "object_position": null,
            "object_fit": null,
            "grid_auto_columns": null,
            "margin": null,
            "display": null,
            "left": null
          }
        },
        "da81dc0fe40b4ce887bfce1b5ffb5f86": {
          "model_module": "@jupyter-widgets/base",
          "model_name": "LayoutModel",
          "state": {
            "_view_name": "LayoutView",
            "grid_template_rows": null,
            "right": null,
            "justify_content": null,
            "_view_module": "@jupyter-widgets/base",
            "overflow": null,
            "_model_module_version": "1.2.0",
            "_view_count": null,
            "flex_flow": null,
            "width": null,
            "min_width": null,
            "border": null,
            "align_items": null,
            "bottom": null,
            "_model_module": "@jupyter-widgets/base",
            "top": null,
            "grid_column": null,
            "overflow_y": null,
            "overflow_x": null,
            "grid_auto_flow": null,
            "grid_area": null,
            "grid_template_columns": null,
            "flex": null,
            "_model_name": "LayoutModel",
            "justify_items": null,
            "grid_row": null,
            "max_height": null,
            "align_content": null,
            "visibility": null,
            "align_self": null,
            "height": null,
            "min_height": null,
            "padding": null,
            "grid_auto_rows": null,
            "grid_gap": null,
            "max_width": null,
            "order": null,
            "_view_module_version": "1.2.0",
            "grid_template_areas": null,
            "object_position": null,
            "object_fit": null,
            "grid_auto_columns": null,
            "margin": null,
            "display": null,
            "left": null
          }
        },
        "1a3a5170ff4e4643a90c538f666bbb6b": {
          "model_module": "@jupyter-widgets/controls",
          "model_name": "VBoxModel",
          "state": {
            "_view_name": "VBoxView",
            "_dom_classes": [
              "widget-interact"
            ],
            "_model_name": "VBoxModel",
            "_view_module": "@jupyter-widgets/controls",
            "_model_module_version": "1.5.0",
            "_view_count": null,
            "_view_module_version": "1.5.0",
            "box_style": "",
            "layout": "IPY_MODEL_c002361a7a134f66bfbd464b7afc7f06",
            "_model_module": "@jupyter-widgets/controls",
            "children": [
              "IPY_MODEL_836247a480dc4c49bc4ed1c5070b0c2e",
              "IPY_MODEL_5ca1e2ee303e44bb98cdcf5bf0a48e84"
            ]
          }
        },
        "c002361a7a134f66bfbd464b7afc7f06": {
          "model_module": "@jupyter-widgets/base",
          "model_name": "LayoutModel",
          "state": {
            "_view_name": "LayoutView",
            "grid_template_rows": null,
            "right": null,
            "justify_content": null,
            "_view_module": "@jupyter-widgets/base",
            "overflow": null,
            "_model_module_version": "1.2.0",
            "_view_count": null,
            "flex_flow": null,
            "width": null,
            "min_width": null,
            "border": null,
            "align_items": null,
            "bottom": null,
            "_model_module": "@jupyter-widgets/base",
            "top": null,
            "grid_column": null,
            "overflow_y": null,
            "overflow_x": null,
            "grid_auto_flow": null,
            "grid_area": null,
            "grid_template_columns": null,
            "flex": null,
            "_model_name": "LayoutModel",
            "justify_items": null,
            "grid_row": null,
            "max_height": null,
            "align_content": null,
            "visibility": null,
            "align_self": null,
            "height": null,
            "min_height": null,
            "padding": null,
            "grid_auto_rows": null,
            "grid_gap": null,
            "max_width": null,
            "order": null,
            "_view_module_version": "1.2.0",
            "grid_template_areas": null,
            "object_position": null,
            "object_fit": null,
            "grid_auto_columns": null,
            "margin": null,
            "display": null,
            "left": null
          }
        },
        "836247a480dc4c49bc4ed1c5070b0c2e": {
          "model_module": "@jupyter-widgets/controls",
          "model_name": "FloatSliderModel",
          "state": {
            "_view_name": "FloatSliderView",
            "style": "IPY_MODEL_e28be31720954fa39de264da509ed01b",
            "_dom_classes": [],
            "description": "p(s = left)",
            "step": 0.01,
            "_model_name": "FloatSliderModel",
            "orientation": "horizontal",
            "max": 1,
            "_view_module": "@jupyter-widgets/controls",
            "_model_module_version": "1.5.0",
            "value": 0.9,
            "_view_count": null,
            "disabled": false,
            "_view_module_version": "1.5.0",
            "min": 0,
            "continuous_update": true,
            "readout_format": ".2f",
            "description_tooltip": null,
            "readout": true,
            "_model_module": "@jupyter-widgets/controls",
            "layout": "IPY_MODEL_1ae4c2b0530543e9926c482d6b37ec47"
          }
        },
        "5ca1e2ee303e44bb98cdcf5bf0a48e84": {
          "model_module": "@jupyter-widgets/output",
          "model_name": "OutputModel",
          "state": {
            "_view_name": "OutputView",
            "msg_id": "",
            "_dom_classes": [],
            "_model_name": "OutputModel",
            "outputs": [
              {
                "output_type": "display_data",
                "metadata": {
                  "tags": [],
                  "image/png": {
                    "width": 679,
                    "height": 277
                  },
                  "needs_background": "light"
                },
                "image/png": "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\n",
                "text/plain": "<Figure size 1224x216 with 3 Axes>"
              }
            ],
            "_view_module": "@jupyter-widgets/output",
            "_model_module_version": "1.0.0",
            "_view_count": null,
            "_view_module_version": "1.0.0",
            "layout": "IPY_MODEL_2f260d7cdbb945d287f1f7988e4f5764",
            "_model_module": "@jupyter-widgets/output"
          }
        },
        "e28be31720954fa39de264da509ed01b": {
          "model_module": "@jupyter-widgets/controls",
          "model_name": "SliderStyleModel",
          "state": {
            "_view_name": "StyleView",
            "handle_color": null,
            "_model_name": "SliderStyleModel",
            "description_width": "",
            "_view_module": "@jupyter-widgets/base",
            "_model_module_version": "1.5.0",
            "_view_count": null,
            "_view_module_version": "1.2.0",
            "_model_module": "@jupyter-widgets/controls"
          }
        },
        "1ae4c2b0530543e9926c482d6b37ec47": {
          "model_module": "@jupyter-widgets/base",
          "model_name": "LayoutModel",
          "state": {
            "_view_name": "LayoutView",
            "grid_template_rows": null,
            "right": null,
            "justify_content": null,
            "_view_module": "@jupyter-widgets/base",
            "overflow": null,
            "_model_module_version": "1.2.0",
            "_view_count": null,
            "flex_flow": null,
            "width": null,
            "min_width": null,
            "border": null,
            "align_items": null,
            "bottom": null,
            "_model_module": "@jupyter-widgets/base",
            "top": null,
            "grid_column": null,
            "overflow_y": null,
            "overflow_x": null,
            "grid_auto_flow": null,
            "grid_area": null,
            "grid_template_columns": null,
            "flex": null,
            "_model_name": "LayoutModel",
            "justify_items": null,
            "grid_row": null,
            "max_height": null,
            "align_content": null,
            "visibility": null,
            "align_self": null,
            "height": null,
            "min_height": null,
            "padding": null,
            "grid_auto_rows": null,
            "grid_gap": null,
            "max_width": null,
            "order": null,
            "_view_module_version": "1.2.0",
            "grid_template_areas": null,
            "object_position": null,
            "object_fit": null,
            "grid_auto_columns": null,
            "margin": null,
            "display": null,
            "left": null
          }
        },
        "2f260d7cdbb945d287f1f7988e4f5764": {
          "model_module": "@jupyter-widgets/base",
          "model_name": "LayoutModel",
          "state": {
            "_view_name": "LayoutView",
            "grid_template_rows": null,
            "right": null,
            "justify_content": null,
            "_view_module": "@jupyter-widgets/base",
            "overflow": null,
            "_model_module_version": "1.2.0",
            "_view_count": null,
            "flex_flow": null,
            "width": null,
            "min_width": null,
            "border": null,
            "align_items": null,
            "bottom": null,
            "_model_module": "@jupyter-widgets/base",
            "top": null,
            "grid_column": null,
            "overflow_y": null,
            "overflow_x": null,
            "grid_auto_flow": null,
            "grid_area": null,
            "grid_template_columns": null,
            "flex": null,
            "_model_name": "LayoutModel",
            "justify_items": null,
            "grid_row": null,
            "max_height": null,
            "align_content": null,
            "visibility": null,
            "align_self": null,
            "height": null,
            "min_height": null,
            "padding": null,
            "grid_auto_rows": null,
            "grid_gap": null,
            "max_width": null,
            "order": null,
            "_view_module_version": "1.2.0",
            "grid_template_areas": null,
            "object_position": null,
            "object_fit": null,
            "grid_auto_columns": null,
            "margin": null,
            "display": null,
            "left": null
          }
        },
        "44bac909906541eebb3959c5dc64d445": {
          "model_module": "@jupyter-widgets/controls",
          "model_name": "TabModel",
          "state": {
            "_view_name": "TabView",
            "_dom_classes": [],
            "_titles": {
              "0": "Youtube",
              "1": "Bilibili"
            },
            "_model_name": "TabModel",
            "_view_module": "@jupyter-widgets/controls",
            "selected_index": 0,
            "_model_module_version": "1.5.0",
            "_view_count": null,
            "_view_module_version": "1.5.0",
            "box_style": "",
            "layout": "IPY_MODEL_4a2876cfbb334870b4d46b9188c51899",
            "_model_module": "@jupyter-widgets/controls",
            "children": [
              "IPY_MODEL_7afaaafdd2e046f0bf09fe9f6f08bace",
              "IPY_MODEL_cc9da5c9a15c4d60a46392908671fd4d"
            ]
          }
        },
        "4a2876cfbb334870b4d46b9188c51899": {
          "model_module": "@jupyter-widgets/base",
          "model_name": "LayoutModel",
          "state": {
            "_view_name": "LayoutView",
            "grid_template_rows": null,
            "right": null,
            "justify_content": null,
            "_view_module": "@jupyter-widgets/base",
            "overflow": null,
            "_model_module_version": "1.2.0",
            "_view_count": null,
            "flex_flow": null,
            "width": null,
            "min_width": null,
            "border": null,
            "align_items": null,
            "bottom": null,
            "_model_module": "@jupyter-widgets/base",
            "top": null,
            "grid_column": null,
            "overflow_y": null,
            "overflow_x": null,
            "grid_auto_flow": null,
            "grid_area": null,
            "grid_template_columns": null,
            "flex": null,
            "_model_name": "LayoutModel",
            "justify_items": null,
            "grid_row": null,
            "max_height": null,
            "align_content": null,
            "visibility": null,
            "align_self": null,
            "height": null,
            "min_height": null,
            "padding": null,
            "grid_auto_rows": null,
            "grid_gap": null,
            "max_width": null,
            "order": null,
            "_view_module_version": "1.2.0",
            "grid_template_areas": null,
            "object_position": null,
            "object_fit": null,
            "grid_auto_columns": null,
            "margin": null,
            "display": null,
            "left": null
          }
        },
        "7afaaafdd2e046f0bf09fe9f6f08bace": {
          "model_module": "@jupyter-widgets/output",
          "model_name": "OutputModel",
          "state": {
            "_view_name": "OutputView",
            "msg_id": "",
            "_dom_classes": [],
            "_model_name": "OutputModel",
            "outputs": [
              {
                "output_type": "stream",
                "metadata": {
                  "tags": []
                },
                "text": "Video available at https://youtube.com/watch?v=l4m0JzMWGio\n",
                "stream": "stdout"
              },
              {
                "output_type": "display_data",
                "metadata": {
                  "tags": []
                },
                "text/html": "\n        <iframe\n            width=\"854\"\n            height=\"480\"\n            src=\"https://www.youtube.com/embed/l4m0JzMWGio?fs=1&rel=0\"\n            frameborder=\"0\"\n            allowfullscreen\n        ></iframe>\n        ",
                "text/plain": "<IPython.lib.display.YouTubeVideo at 0x7f2e714de110>",
                "image/jpeg": "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\n"
              }
            ],
            "_view_module": "@jupyter-widgets/output",
            "_model_module_version": "1.0.0",
            "_view_count": null,
            "_view_module_version": "1.0.0",
            "layout": "IPY_MODEL_d97915ad9db74ee7afb3965b628c002f",
            "_model_module": "@jupyter-widgets/output"
          }
        },
        "cc9da5c9a15c4d60a46392908671fd4d": {
          "model_module": "@jupyter-widgets/output",
          "model_name": "OutputModel",
          "state": {
            "_view_name": "OutputView",
            "msg_id": "",
            "_dom_classes": [],
            "_model_name": "OutputModel",
            "outputs": [
              {
                "output_type": "stream",
                "metadata": {
                  "tags": []
                },
                "text": "Video available at https://www.bilibili.com/video/\n",
                "stream": "stdout"
              },
              {
                "output_type": "display_data",
                "metadata": {
                  "tags": []
                },
                "text/html": "\n        <iframe\n            width=\"854\"\n            height=\"480\"\n            src=\"https://player.bilibili.com/player.html?bvid=&page=1?fs=1\"\n            frameborder=\"0\"\n            allowfullscreen\n        ></iframe>\n        ",
                "text/plain": "<__main__.BiliVideo at 0x7f2e7155eed0>"
              }
            ],
            "_view_module": "@jupyter-widgets/output",
            "_model_module_version": "1.0.0",
            "_view_count": null,
            "_view_module_version": "1.0.0",
            "layout": "IPY_MODEL_7fa0c156be8649b2ab4fe68232823730",
            "_model_module": "@jupyter-widgets/output"
          }
        },
        "d97915ad9db74ee7afb3965b628c002f": {
          "model_module": "@jupyter-widgets/base",
          "model_name": "LayoutModel",
          "state": {
            "_view_name": "LayoutView",
            "grid_template_rows": null,
            "right": null,
            "justify_content": null,
            "_view_module": "@jupyter-widgets/base",
            "overflow": null,
            "_model_module_version": "1.2.0",
            "_view_count": null,
            "flex_flow": null,
            "width": null,
            "min_width": null,
            "border": null,
            "align_items": null,
            "bottom": null,
            "_model_module": "@jupyter-widgets/base",
            "top": null,
            "grid_column": null,
            "overflow_y": null,
            "overflow_x": null,
            "grid_auto_flow": null,
            "grid_area": null,
            "grid_template_columns": null,
            "flex": null,
            "_model_name": "LayoutModel",
            "justify_items": null,
            "grid_row": null,
            "max_height": null,
            "align_content": null,
            "visibility": null,
            "align_self": null,
            "height": null,
            "min_height": null,
            "padding": null,
            "grid_auto_rows": null,
            "grid_gap": null,
            "max_width": null,
            "order": null,
            "_view_module_version": "1.2.0",
            "grid_template_areas": null,
            "object_position": null,
            "object_fit": null,
            "grid_auto_columns": null,
            "margin": null,
            "display": null,
            "left": null
          }
        },
        "7fa0c156be8649b2ab4fe68232823730": {
          "model_module": "@jupyter-widgets/base",
          "model_name": "LayoutModel",
          "state": {
            "_view_name": "LayoutView",
            "grid_template_rows": null,
            "right": null,
            "justify_content": null,
            "_view_module": "@jupyter-widgets/base",
            "overflow": null,
            "_model_module_version": "1.2.0",
            "_view_count": null,
            "flex_flow": null,
            "width": null,
            "min_width": null,
            "border": null,
            "align_items": null,
            "bottom": null,
            "_model_module": "@jupyter-widgets/base",
            "top": null,
            "grid_column": null,
            "overflow_y": null,
            "overflow_x": null,
            "grid_auto_flow": null,
            "grid_area": null,
            "grid_template_columns": null,
            "flex": null,
            "_model_name": "LayoutModel",
            "justify_items": null,
            "grid_row": null,
            "max_height": null,
            "align_content": null,
            "visibility": null,
            "align_self": null,
            "height": null,
            "min_height": null,
            "padding": null,
            "grid_auto_rows": null,
            "grid_gap": null,
            "max_width": null,
            "order": null,
            "_view_module_version": "1.2.0",
            "grid_template_areas": null,
            "object_position": null,
            "object_fit": null,
            "grid_auto_columns": null,
            "margin": null,
            "display": null,
            "left": null
          }
        },
        "109c5251fa9749a49aaa29cc4e65194a": {
          "model_module": "@jupyter-widgets/controls",
          "model_name": "TabModel",
          "state": {
            "_view_name": "TabView",
            "_dom_classes": [],
            "_titles": {
              "0": "Youtube",
              "1": "Bilibili"
            },
            "_model_name": "TabModel",
            "_view_module": "@jupyter-widgets/controls",
            "selected_index": 0,
            "_model_module_version": "1.5.0",
            "_view_count": null,
            "_view_module_version": "1.5.0",
            "box_style": "",
            "layout": "IPY_MODEL_bdffe55f124e44ce8649181beba7cbde",
            "_model_module": "@jupyter-widgets/controls",
            "children": [
              "IPY_MODEL_19b28f3d78b74cdd921df54fbeec2914",
              "IPY_MODEL_97736cf7d8b54e75be6b5efd143203a5"
            ]
          }
        },
        "bdffe55f124e44ce8649181beba7cbde": {
          "model_module": "@jupyter-widgets/base",
          "model_name": "LayoutModel",
          "state": {
            "_view_name": "LayoutView",
            "grid_template_rows": null,
            "right": null,
            "justify_content": null,
            "_view_module": "@jupyter-widgets/base",
            "overflow": null,
            "_model_module_version": "1.2.0",
            "_view_count": null,
            "flex_flow": null,
            "width": null,
            "min_width": null,
            "border": null,
            "align_items": null,
            "bottom": null,
            "_model_module": "@jupyter-widgets/base",
            "top": null,
            "grid_column": null,
            "overflow_y": null,
            "overflow_x": null,
            "grid_auto_flow": null,
            "grid_area": null,
            "grid_template_columns": null,
            "flex": null,
            "_model_name": "LayoutModel",
            "justify_items": null,
            "grid_row": null,
            "max_height": null,
            "align_content": null,
            "visibility": null,
            "align_self": null,
            "height": null,
            "min_height": null,
            "padding": null,
            "grid_auto_rows": null,
            "grid_gap": null,
            "max_width": null,
            "order": null,
            "_view_module_version": "1.2.0",
            "grid_template_areas": null,
            "object_position": null,
            "object_fit": null,
            "grid_auto_columns": null,
            "margin": null,
            "display": null,
            "left": null
          }
        },
        "19b28f3d78b74cdd921df54fbeec2914": {
          "model_module": "@jupyter-widgets/output",
          "model_name": "OutputModel",
          "state": {
            "_view_name": "OutputView",
            "msg_id": "",
            "_dom_classes": [],
            "_model_name": "OutputModel",
            "outputs": [
              {
                "output_type": "stream",
                "metadata": {
                  "tags": []
                },
                "text": "Video available at https://youtube.com/watch?v=vsDjtWi-BVo\n",
                "stream": "stdout"
              },
              {
                "output_type": "display_data",
                "metadata": {
                  "tags": []
                },
                "text/html": "\n        <iframe\n            width=\"854\"\n            height=\"480\"\n            src=\"https://www.youtube.com/embed/vsDjtWi-BVo?fs=1&rel=0\"\n            frameborder=\"0\"\n            allowfullscreen\n        ></iframe>\n        ",
                "text/plain": "<IPython.lib.display.YouTubeVideo at 0x7f2e73b64690>",
                "image/jpeg": "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\n"
              }
            ],
            "_view_module": "@jupyter-widgets/output",
            "_model_module_version": "1.0.0",
            "_view_count": null,
            "_view_module_version": "1.0.0",
            "layout": "IPY_MODEL_cd768cdf15eb471c95f9c176da2c4979",
            "_model_module": "@jupyter-widgets/output"
          }
        },
        "97736cf7d8b54e75be6b5efd143203a5": {
          "model_module": "@jupyter-widgets/output",
          "model_name": "OutputModel",
          "state": {
            "_view_name": "OutputView",
            "msg_id": "",
            "_dom_classes": [],
            "_model_name": "OutputModel",
            "outputs": [
              {
                "output_type": "stream",
                "metadata": {
                  "tags": []
                },
                "text": "Video available at https://www.bilibili.com/video/\n",
                "stream": "stdout"
              },
              {
                "output_type": "display_data",
                "metadata": {
                  "tags": []
                },
                "text/html": "\n        <iframe\n            width=\"854\"\n            height=\"480\"\n            src=\"https://player.bilibili.com/player.html?bvid=&page=1?fs=1\"\n            frameborder=\"0\"\n            allowfullscreen\n        ></iframe>\n        ",
                "text/plain": "<__main__.BiliVideo at 0x7f2e7ce12250>"
              }
            ],
            "_view_module": "@jupyter-widgets/output",
            "_model_module_version": "1.0.0",
            "_view_count": null,
            "_view_module_version": "1.0.0",
            "layout": "IPY_MODEL_5911241237b9436a89de9cadabeed77d",
            "_model_module": "@jupyter-widgets/output"
          }
        },
        "cd768cdf15eb471c95f9c176da2c4979": {
          "model_module": "@jupyter-widgets/base",
          "model_name": "LayoutModel",
          "state": {
            "_view_name": "LayoutView",
            "grid_template_rows": null,
            "right": null,
            "justify_content": null,
            "_view_module": "@jupyter-widgets/base",
            "overflow": null,
            "_model_module_version": "1.2.0",
            "_view_count": null,
            "flex_flow": null,
            "width": null,
            "min_width": null,
            "border": null,
            "align_items": null,
            "bottom": null,
            "_model_module": "@jupyter-widgets/base",
            "top": null,
            "grid_column": null,
            "overflow_y": null,
            "overflow_x": null,
            "grid_auto_flow": null,
            "grid_area": null,
            "grid_template_columns": null,
            "flex": null,
            "_model_name": "LayoutModel",
            "justify_items": null,
            "grid_row": null,
            "max_height": null,
            "align_content": null,
            "visibility": null,
            "align_self": null,
            "height": null,
            "min_height": null,
            "padding": null,
            "grid_auto_rows": null,
            "grid_gap": null,
            "max_width": null,
            "order": null,
            "_view_module_version": "1.2.0",
            "grid_template_areas": null,
            "object_position": null,
            "object_fit": null,
            "grid_auto_columns": null,
            "margin": null,
            "display": null,
            "left": null
          }
        },
        "5911241237b9436a89de9cadabeed77d": {
          "model_module": "@jupyter-widgets/base",
          "model_name": "LayoutModel",
          "state": {
            "_view_name": "LayoutView",
            "grid_template_rows": null,
            "right": null,
            "justify_content": null,
            "_view_module": "@jupyter-widgets/base",
            "overflow": null,
            "_model_module_version": "1.2.0",
            "_view_count": null,
            "flex_flow": null,
            "width": null,
            "min_width": null,
            "border": null,
            "align_items": null,
            "bottom": null,
            "_model_module": "@jupyter-widgets/base",
            "top": null,
            "grid_column": null,
            "overflow_y": null,
            "overflow_x": null,
            "grid_auto_flow": null,
            "grid_area": null,
            "grid_template_columns": null,
            "flex": null,
            "_model_name": "LayoutModel",
            "justify_items": null,
            "grid_row": null,
            "max_height": null,
            "align_content": null,
            "visibility": null,
            "align_self": null,
            "height": null,
            "min_height": null,
            "padding": null,
            "grid_auto_rows": null,
            "grid_gap": null,
            "max_width": null,
            "order": null,
            "_view_module_version": "1.2.0",
            "grid_template_areas": null,
            "object_position": null,
            "object_fit": null,
            "grid_auto_columns": null,
            "margin": null,
            "display": null,
            "left": null
          }
        },
        "7f05178942a24e44a7b79f78e040827c": {
          "model_module": "@jupyter-widgets/controls",
          "model_name": "VBoxModel",
          "state": {
            "_view_name": "VBoxView",
            "_dom_classes": [
              "widget-interact"
            ],
            "_model_name": "VBoxModel",
            "_view_module": "@jupyter-widgets/controls",
            "_model_module_version": "1.5.0",
            "_view_count": null,
            "_view_module_version": "1.5.0",
            "box_style": "",
            "layout": "IPY_MODEL_a66548b2351743f8ac96a596deb51954",
            "_model_module": "@jupyter-widgets/controls",
            "children": [
              "IPY_MODEL_f18cff21ed9a4bba91c711efdbcc0381",
              "IPY_MODEL_361f06cdf7324ca3938afb3628a5f18b",
              "IPY_MODEL_0dca34625f4648278f0824f20ffaee60",
              "IPY_MODEL_71feb5b558fb457da5aa49fff9ae4d8a"
            ]
          }
        },
        "a66548b2351743f8ac96a596deb51954": {
          "model_module": "@jupyter-widgets/base",
          "model_name": "LayoutModel",
          "state": {
            "_view_name": "LayoutView",
            "grid_template_rows": null,
            "right": null,
            "justify_content": null,
            "_view_module": "@jupyter-widgets/base",
            "overflow": null,
            "_model_module_version": "1.2.0",
            "_view_count": null,
            "flex_flow": null,
            "width": null,
            "min_width": null,
            "border": null,
            "align_items": null,
            "bottom": null,
            "_model_module": "@jupyter-widgets/base",
            "top": null,
            "grid_column": null,
            "overflow_y": null,
            "overflow_x": null,
            "grid_auto_flow": null,
            "grid_area": null,
            "grid_template_columns": null,
            "flex": null,
            "_model_name": "LayoutModel",
            "justify_items": null,
            "grid_row": null,
            "max_height": null,
            "align_content": null,
            "visibility": null,
            "align_self": null,
            "height": null,
            "min_height": null,
            "padding": null,
            "grid_auto_rows": null,
            "grid_gap": null,
            "max_width": null,
            "order": null,
            "_view_module_version": "1.2.0",
            "grid_template_areas": null,
            "object_position": null,
            "object_fit": null,
            "grid_auto_columns": null,
            "margin": null,
            "display": null,
            "left": null
          }
        },
        "f18cff21ed9a4bba91c711efdbcc0381": {
          "model_module": "@jupyter-widgets/controls",
          "model_name": "FloatSliderModel",
          "state": {
            "_view_name": "FloatSliderView",
            "style": "IPY_MODEL_29314848076f48dcb5fb8872da567618",
            "_dom_classes": [],
            "description": "p(color=golden)",
            "step": 0.01,
            "_model_name": "FloatSliderModel",
            "orientation": "horizontal",
            "max": 0.99,
            "_view_module": "@jupyter-widgets/controls",
            "_model_module_version": "1.5.0",
            "value": 0.5,
            "_view_count": null,
            "disabled": false,
            "_view_module_version": "1.5.0",
            "min": 0.01,
            "continuous_update": true,
            "readout_format": ".2f",
            "description_tooltip": null,
            "readout": true,
            "_model_module": "@jupyter-widgets/controls",
            "layout": "IPY_MODEL_7020d5351a014afd9233a55325849316"
          }
        },
        "361f06cdf7324ca3938afb3628a5f18b": {
          "model_module": "@jupyter-widgets/controls",
          "model_name": "FloatSliderModel",
          "state": {
            "_view_name": "FloatSliderView",
            "style": "IPY_MODEL_2b51c75f7b8d43b3ab85a391ffac2965",
            "_dom_classes": [],
            "description": "p(size=large)",
            "step": 0.01,
            "_model_name": "FloatSliderModel",
            "orientation": "horizontal",
            "max": 0.99,
            "_view_module": "@jupyter-widgets/controls",
            "_model_module_version": "1.5.0",
            "value": 0.5,
            "_view_count": null,
            "disabled": false,
            "_view_module_version": "1.5.0",
            "min": 0.01,
            "continuous_update": true,
            "readout_format": ".2f",
            "description_tooltip": null,
            "readout": true,
            "_model_module": "@jupyter-widgets/controls",
            "layout": "IPY_MODEL_a29ba8d77028471c9ff427c130605539"
          }
        },
        "0dca34625f4648278f0824f20ffaee60": {
          "model_module": "@jupyter-widgets/controls",
          "model_name": "FloatSliderModel",
          "state": {
            "_view_name": "FloatSliderView",
            "style": "IPY_MODEL_2f2578a2e5d64cbba6dff07e3d935b7d",
            "_dom_classes": [],
            "description": "ρ",
            "step": 0.01,
            "_model_name": "FloatSliderModel",
            "orientation": "horizontal",
            "max": 0.9899999999999998,
            "_view_module": "@jupyter-widgets/controls",
            "_model_module_version": "1.5.0",
            "value": 0,
            "_view_count": null,
            "disabled": false,
            "_view_module_version": "1.5.0",
            "min": -0.9899999999999998,
            "continuous_update": true,
            "readout_format": ".2f",
            "description_tooltip": null,
            "readout": true,
            "_model_module": "@jupyter-widgets/controls",
            "layout": "IPY_MODEL_f2af33998b8d474fad24a448754c0932"
          }
        },
        "71feb5b558fb457da5aa49fff9ae4d8a": {
          "model_module": "@jupyter-widgets/output",
          "model_name": "OutputModel",
          "state": {
            "_view_name": "OutputView",
            "msg_id": "",
            "_dom_classes": [],
            "_model_name": "OutputModel",
            "outputs": [
              {
                "output_type": "display_data",
                "metadata": {
                  "tags": [],
                  "image/png": {
                    "width": 384,
                    "height": 361
                  },
                  "needs_background": "light"
                },
                "image/png": "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\n",
                "text/plain": "<Figure size 360x360 with 3 Axes>"
              }
            ],
            "_view_module": "@jupyter-widgets/output",
            "_model_module_version": "1.0.0",
            "_view_count": null,
            "_view_module_version": "1.0.0",
            "layout": "IPY_MODEL_95390f1639d543d7b7a6978c97f9791e",
            "_model_module": "@jupyter-widgets/output"
          }
        },
        "29314848076f48dcb5fb8872da567618": {
          "model_module": "@jupyter-widgets/controls",
          "model_name": "SliderStyleModel",
          "state": {
            "_view_name": "StyleView",
            "handle_color": null,
            "_model_name": "SliderStyleModel",
            "description_width": "initial",
            "_view_module": "@jupyter-widgets/base",
            "_model_module_version": "1.5.0",
            "_view_count": null,
            "_view_module_version": "1.2.0",
            "_model_module": "@jupyter-widgets/controls"
          }
        },
        "7020d5351a014afd9233a55325849316": {
          "model_module": "@jupyter-widgets/base",
          "model_name": "LayoutModel",
          "state": {
            "_view_name": "LayoutView",
            "grid_template_rows": null,
            "right": null,
            "justify_content": null,
            "_view_module": "@jupyter-widgets/base",
            "overflow": null,
            "_model_module_version": "1.2.0",
            "_view_count": null,
            "flex_flow": null,
            "width": null,
            "min_width": null,
            "border": null,
            "align_items": null,
            "bottom": null,
            "_model_module": "@jupyter-widgets/base",
            "top": null,
            "grid_column": null,
            "overflow_y": null,
            "overflow_x": null,
            "grid_auto_flow": null,
            "grid_area": "widget002",
            "grid_template_columns": null,
            "flex": null,
            "_model_name": "LayoutModel",
            "justify_items": null,
            "grid_row": null,
            "max_height": null,
            "align_content": null,
            "visibility": null,
            "align_self": null,
            "height": null,
            "min_height": null,
            "padding": null,
            "grid_auto_rows": null,
            "grid_gap": null,
            "max_width": null,
            "order": null,
            "_view_module_version": "1.2.0",
            "grid_template_areas": null,
            "object_position": null,
            "object_fit": null,
            "grid_auto_columns": null,
            "margin": null,
            "display": null,
            "left": null
          }
        },
        "2b51c75f7b8d43b3ab85a391ffac2965": {
          "model_module": "@jupyter-widgets/controls",
          "model_name": "SliderStyleModel",
          "state": {
            "_view_name": "StyleView",
            "handle_color": null,
            "_model_name": "SliderStyleModel",
            "description_width": "initial",
            "_view_module": "@jupyter-widgets/base",
            "_model_module_version": "1.5.0",
            "_view_count": null,
            "_view_module_version": "1.2.0",
            "_model_module": "@jupyter-widgets/controls"
          }
        },
        "a29ba8d77028471c9ff427c130605539": {
          "model_module": "@jupyter-widgets/base",
          "model_name": "LayoutModel",
          "state": {
            "_view_name": "LayoutView",
            "grid_template_rows": null,
            "right": null,
            "justify_content": null,
            "_view_module": "@jupyter-widgets/base",
            "overflow": null,
            "_model_module_version": "1.2.0",
            "_view_count": null,
            "flex_flow": null,
            "width": null,
            "min_width": null,
            "border": null,
            "align_items": null,
            "bottom": null,
            "_model_module": "@jupyter-widgets/base",
            "top": null,
            "grid_column": null,
            "overflow_y": null,
            "overflow_x": null,
            "grid_auto_flow": null,
            "grid_area": "widget003",
            "grid_template_columns": null,
            "flex": null,
            "_model_name": "LayoutModel",
            "justify_items": null,
            "grid_row": null,
            "max_height": null,
            "align_content": null,
            "visibility": null,
            "align_self": null,
            "height": null,
            "min_height": null,
            "padding": null,
            "grid_auto_rows": null,
            "grid_gap": null,
            "max_width": null,
            "order": null,
            "_view_module_version": "1.2.0",
            "grid_template_areas": null,
            "object_position": null,
            "object_fit": null,
            "grid_auto_columns": null,
            "margin": null,
            "display": null,
            "left": null
          }
        },
        "2f2578a2e5d64cbba6dff07e3d935b7d": {
          "model_module": "@jupyter-widgets/controls",
          "model_name": "SliderStyleModel",
          "state": {
            "_view_name": "StyleView",
            "handle_color": null,
            "_model_name": "SliderStyleModel",
            "description_width": "",
            "_view_module": "@jupyter-widgets/base",
            "_model_module_version": "1.5.0",
            "_view_count": null,
            "_view_module_version": "1.2.0",
            "_model_module": "@jupyter-widgets/controls"
          }
        },
        "f2af33998b8d474fad24a448754c0932": {
          "model_module": "@jupyter-widgets/base",
          "model_name": "LayoutModel",
          "state": {
            "_view_name": "LayoutView",
            "grid_template_rows": null,
            "right": null,
            "justify_content": null,
            "_view_module": "@jupyter-widgets/base",
            "overflow": null,
            "_model_module_version": "1.2.0",
            "_view_count": null,
            "flex_flow": null,
            "width": null,
            "min_width": null,
            "border": null,
            "align_items": null,
            "bottom": null,
            "_model_module": "@jupyter-widgets/base",
            "top": null,
            "grid_column": null,
            "overflow_y": null,
            "overflow_x": null,
            "grid_auto_flow": null,
            "grid_area": "widget001",
            "grid_template_columns": null,
            "flex": null,
            "_model_name": "LayoutModel",
            "justify_items": null,
            "grid_row": null,
            "max_height": null,
            "align_content": null,
            "visibility": null,
            "align_self": null,
            "height": null,
            "min_height": null,
            "padding": null,
            "grid_auto_rows": null,
            "grid_gap": null,
            "max_width": null,
            "order": null,
            "_view_module_version": "1.2.0",
            "grid_template_areas": null,
            "object_position": null,
            "object_fit": null,
            "grid_auto_columns": null,
            "margin": null,
            "display": null,
            "left": null
          }
        },
        "95390f1639d543d7b7a6978c97f9791e": {
          "model_module": "@jupyter-widgets/base",
          "model_name": "LayoutModel",
          "state": {
            "_view_name": "LayoutView",
            "grid_template_rows": null,
            "right": null,
            "justify_content": null,
            "_view_module": "@jupyter-widgets/base",
            "overflow": null,
            "_model_module_version": "1.2.0",
            "_view_count": null,
            "flex_flow": null,
            "width": null,
            "min_width": null,
            "border": null,
            "align_items": null,
            "bottom": null,
            "_model_module": "@jupyter-widgets/base",
            "top": null,
            "grid_column": null,
            "overflow_y": null,
            "overflow_x": null,
            "grid_auto_flow": null,
            "grid_area": null,
            "grid_template_columns": null,
            "flex": null,
            "_model_name": "LayoutModel",
            "justify_items": null,
            "grid_row": null,
            "max_height": null,
            "align_content": null,
            "visibility": null,
            "align_self": null,
            "height": null,
            "min_height": null,
            "padding": null,
            "grid_auto_rows": null,
            "grid_gap": null,
            "max_width": null,
            "order": null,
            "_view_module_version": "1.2.0",
            "grid_template_areas": null,
            "object_position": null,
            "object_fit": null,
            "grid_auto_columns": null,
            "margin": null,
            "display": null,
            "left": null
          }
        },
        "9f0bce3aab73476488bfe0a9f715ed34": {
          "model_module": "@jupyter-widgets/controls",
          "model_name": "VBoxModel",
          "state": {
            "_view_name": "VBoxView",
            "_dom_classes": [
              "widget-interact"
            ],
            "_model_name": "VBoxModel",
            "_view_module": "@jupyter-widgets/controls",
            "_model_module_version": "1.5.0",
            "_view_count": null,
            "_view_module_version": "1.5.0",
            "box_style": "",
            "layout": "IPY_MODEL_d6a6ddbaac5846bb9039633ac0fc6164",
            "_model_module": "@jupyter-widgets/controls",
            "children": [
              "IPY_MODEL_fed130637f5d49838edf86fe0f20280f",
              "IPY_MODEL_1536f8125ef84ba4bd13ef14679c43df",
              "IPY_MODEL_f0f61b0fa9484207b54d8a57af8eaa38",
              "IPY_MODEL_7ba5196c39d74028be2f09a456838350",
              "IPY_MODEL_41a8b3e0a40e46b6abda2f25741db0cf"
            ]
          }
        },
        "d6a6ddbaac5846bb9039633ac0fc6164": {
          "model_module": "@jupyter-widgets/base",
          "model_name": "LayoutModel",
          "state": {
            "_view_name": "LayoutView",
            "grid_template_rows": null,
            "right": null,
            "justify_content": null,
            "_view_module": "@jupyter-widgets/base",
            "overflow": null,
            "_model_module_version": "1.2.0",
            "_view_count": null,
            "flex_flow": null,
            "width": null,
            "min_width": null,
            "border": null,
            "align_items": null,
            "bottom": null,
            "_model_module": "@jupyter-widgets/base",
            "top": null,
            "grid_column": null,
            "overflow_y": null,
            "overflow_x": null,
            "grid_auto_flow": null,
            "grid_area": null,
            "grid_template_columns": null,
            "flex": null,
            "_model_name": "LayoutModel",
            "justify_items": null,
            "grid_row": null,
            "max_height": null,
            "align_content": null,
            "visibility": null,
            "align_self": null,
            "height": null,
            "min_height": null,
            "padding": null,
            "grid_auto_rows": null,
            "grid_gap": null,
            "max_width": null,
            "order": null,
            "_view_module_version": "1.2.0",
            "grid_template_areas": null,
            "object_position": null,
            "object_fit": null,
            "grid_auto_columns": null,
            "margin": null,
            "display": null,
            "left": null
          }
        },
        "fed130637f5d49838edf86fe0f20280f": {
          "model_module": "@jupyter-widgets/controls",
          "model_name": "FloatSliderModel",
          "state": {
            "_view_name": "FloatSliderView",
            "style": "IPY_MODEL_d5cae892ad4c48828f46d78334005e99",
            "_dom_classes": [],
            "description": "p(s = left)",
            "step": 0.01,
            "_model_name": "FloatSliderModel",
            "orientation": "horizontal",
            "max": 0.99,
            "_view_module": "@jupyter-widgets/controls",
            "_model_module_version": "1.5.0",
            "value": 0.3,
            "_view_count": null,
            "disabled": false,
            "_view_module_version": "1.5.0",
            "min": 0.01,
            "continuous_update": true,
            "readout_format": ".2f",
            "description_tooltip": null,
            "readout": true,
            "_model_module": "@jupyter-widgets/controls",
            "layout": "IPY_MODEL_9a0f8da4b147405b94db2cc66513e75a"
          }
        },
        "1536f8125ef84ba4bd13ef14679c43df": {
          "model_module": "@jupyter-widgets/controls",
          "model_name": "FloatSliderModel",
          "state": {
            "_view_name": "FloatSliderView",
            "style": "IPY_MODEL_ada2f826cb6a47b7a4ab2b42ee58a326",
            "_dom_classes": [],
            "description": "p(fish | s = left)",
            "step": 0.01,
            "_model_name": "FloatSliderModel",
            "orientation": "horizontal",
            "max": 0.99,
            "_view_module": "@jupyter-widgets/controls",
            "_model_module_version": "1.5.0",
            "value": 0.5,
            "_view_count": null,
            "disabled": false,
            "_view_module_version": "1.5.0",
            "min": 0.01,
            "continuous_update": true,
            "readout_format": ".2f",
            "description_tooltip": null,
            "readout": true,
            "_model_module": "@jupyter-widgets/controls",
            "layout": "IPY_MODEL_af6dc27ca84a4d18848619dde83d5edb"
          }
        },
        "f0f61b0fa9484207b54d8a57af8eaa38": {
          "model_module": "@jupyter-widgets/controls",
          "model_name": "FloatSliderModel",
          "state": {
            "_view_name": "FloatSliderView",
            "style": "IPY_MODEL_0890d73401a14573b8b78559e4a28a3c",
            "_dom_classes": [],
            "description": "p(fish | s = right)",
            "step": 0.01,
            "_model_name": "FloatSliderModel",
            "orientation": "horizontal",
            "max": 0.99,
            "_view_module": "@jupyter-widgets/controls",
            "_model_module_version": "1.5.0",
            "value": 0.1,
            "_view_count": null,
            "disabled": false,
            "_view_module_version": "1.5.0",
            "min": 0.01,
            "continuous_update": true,
            "readout_format": ".2f",
            "description_tooltip": null,
            "readout": true,
            "_model_module": "@jupyter-widgets/controls",
            "layout": "IPY_MODEL_28ff9ae5e0fc4b309be739e0143b1692"
          }
        },
        "7ba5196c39d74028be2f09a456838350": {
          "model_module": "@jupyter-widgets/controls",
          "model_name": "CheckboxModel",
          "state": {
            "_view_name": "CheckboxView",
            "style": "IPY_MODEL_f074c2b487c848a4aea61f3753bd5ff3",
            "_dom_classes": [],
            "description": "Observed fish (m)",
            "_model_name": "CheckboxModel",
            "_view_module": "@jupyter-widgets/controls",
            "_model_module_version": "1.5.0",
            "value": false,
            "_view_count": null,
            "disabled": false,
            "_view_module_version": "1.5.0",
            "indent": false,
            "description_tooltip": null,
            "_model_module": "@jupyter-widgets/controls",
            "layout": "IPY_MODEL_16f374ddd36a4fca9352019f3782b44a"
          }
        },
        "41a8b3e0a40e46b6abda2f25741db0cf": {
          "model_module": "@jupyter-widgets/output",
          "model_name": "OutputModel",
          "state": {
            "_view_name": "OutputView",
            "msg_id": "",
            "_dom_classes": [],
            "_model_name": "OutputModel",
            "outputs": [
              {
                "output_type": "display_data",
                "metadata": {
                  "tags": [],
                  "image/png": {
                    "width": 784,
                    "height": 345
                  },
                  "needs_background": "light"
                },
                "image/png": "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\n",
                "text/plain": "<Figure size 864x288 with 3 Axes>"
              }
            ],
            "_view_module": "@jupyter-widgets/output",
            "_model_module_version": "1.0.0",
            "_view_count": null,
            "_view_module_version": "1.0.0",
            "layout": "IPY_MODEL_7348a388266a44bd8524ce48434866b7",
            "_model_module": "@jupyter-widgets/output"
          }
        },
        "d5cae892ad4c48828f46d78334005e99": {
          "model_module": "@jupyter-widgets/controls",
          "model_name": "SliderStyleModel",
          "state": {
            "_view_name": "StyleView",
            "handle_color": null,
            "_model_name": "SliderStyleModel",
            "description_width": "",
            "_view_module": "@jupyter-widgets/base",
            "_model_module_version": "1.5.0",
            "_view_count": null,
            "_view_module_version": "1.2.0",
            "_model_module": "@jupyter-widgets/controls"
          }
        },
        "9a0f8da4b147405b94db2cc66513e75a": {
          "model_module": "@jupyter-widgets/base",
          "model_name": "LayoutModel",
          "state": {
            "_view_name": "LayoutView",
            "grid_template_rows": null,
            "right": null,
            "justify_content": null,
            "_view_module": "@jupyter-widgets/base",
            "overflow": null,
            "_model_module_version": "1.2.0",
            "_view_count": null,
            "flex_flow": null,
            "width": null,
            "min_width": null,
            "border": null,
            "align_items": null,
            "bottom": null,
            "_model_module": "@jupyter-widgets/base",
            "top": null,
            "grid_column": null,
            "overflow_y": null,
            "overflow_x": null,
            "grid_auto_flow": null,
            "grid_area": null,
            "grid_template_columns": null,
            "flex": null,
            "_model_name": "LayoutModel",
            "justify_items": null,
            "grid_row": null,
            "max_height": null,
            "align_content": null,
            "visibility": null,
            "align_self": null,
            "height": null,
            "min_height": null,
            "padding": null,
            "grid_auto_rows": null,
            "grid_gap": null,
            "max_width": null,
            "order": null,
            "_view_module_version": "1.2.0",
            "grid_template_areas": null,
            "object_position": null,
            "object_fit": null,
            "grid_auto_columns": null,
            "margin": null,
            "display": null,
            "left": null
          }
        },
        "ada2f826cb6a47b7a4ab2b42ee58a326": {
          "model_module": "@jupyter-widgets/controls",
          "model_name": "SliderStyleModel",
          "state": {
            "_view_name": "StyleView",
            "handle_color": null,
            "_model_name": "SliderStyleModel",
            "description_width": "initial",
            "_view_module": "@jupyter-widgets/base",
            "_model_module_version": "1.5.0",
            "_view_count": null,
            "_view_module_version": "1.2.0",
            "_model_module": "@jupyter-widgets/controls"
          }
        },
        "af6dc27ca84a4d18848619dde83d5edb": {
          "model_module": "@jupyter-widgets/base",
          "model_name": "LayoutModel",
          "state": {
            "_view_name": "LayoutView",
            "grid_template_rows": null,
            "right": null,
            "justify_content": null,
            "_view_module": "@jupyter-widgets/base",
            "overflow": null,
            "_model_module_version": "1.2.0",
            "_view_count": null,
            "flex_flow": null,
            "width": null,
            "min_width": null,
            "border": null,
            "align_items": null,
            "bottom": null,
            "_model_module": "@jupyter-widgets/base",
            "top": null,
            "grid_column": null,
            "overflow_y": null,
            "overflow_x": null,
            "grid_auto_flow": null,
            "grid_area": null,
            "grid_template_columns": null,
            "flex": null,
            "_model_name": "LayoutModel",
            "justify_items": null,
            "grid_row": null,
            "max_height": null,
            "align_content": null,
            "visibility": null,
            "align_self": null,
            "height": null,
            "min_height": null,
            "padding": null,
            "grid_auto_rows": null,
            "grid_gap": null,
            "max_width": null,
            "order": null,
            "_view_module_version": "1.2.0",
            "grid_template_areas": null,
            "object_position": null,
            "object_fit": null,
            "grid_auto_columns": null,
            "margin": null,
            "display": null,
            "left": null
          }
        },
        "0890d73401a14573b8b78559e4a28a3c": {
          "model_module": "@jupyter-widgets/controls",
          "model_name": "SliderStyleModel",
          "state": {
            "_view_name": "StyleView",
            "handle_color": null,
            "_model_name": "SliderStyleModel",
            "description_width": "initial",
            "_view_module": "@jupyter-widgets/base",
            "_model_module_version": "1.5.0",
            "_view_count": null,
            "_view_module_version": "1.2.0",
            "_model_module": "@jupyter-widgets/controls"
          }
        },
        "28ff9ae5e0fc4b309be739e0143b1692": {
          "model_module": "@jupyter-widgets/base",
          "model_name": "LayoutModel",
          "state": {
            "_view_name": "LayoutView",
            "grid_template_rows": null,
            "right": null,
            "justify_content": null,
            "_view_module": "@jupyter-widgets/base",
            "overflow": null,
            "_model_module_version": "1.2.0",
            "_view_count": null,
            "flex_flow": null,
            "width": null,
            "min_width": null,
            "border": null,
            "align_items": null,
            "bottom": null,
            "_model_module": "@jupyter-widgets/base",
            "top": null,
            "grid_column": null,
            "overflow_y": null,
            "overflow_x": null,
            "grid_auto_flow": null,
            "grid_area": null,
            "grid_template_columns": null,
            "flex": null,
            "_model_name": "LayoutModel",
            "justify_items": null,
            "grid_row": null,
            "max_height": null,
            "align_content": null,
            "visibility": null,
            "align_self": null,
            "height": null,
            "min_height": null,
            "padding": null,
            "grid_auto_rows": null,
            "grid_gap": null,
            "max_width": null,
            "order": null,
            "_view_module_version": "1.2.0",
            "grid_template_areas": null,
            "object_position": null,
            "object_fit": null,
            "grid_auto_columns": null,
            "margin": null,
            "display": null,
            "left": null
          }
        },
        "f074c2b487c848a4aea61f3753bd5ff3": {
          "model_module": "@jupyter-widgets/controls",
          "model_name": "DescriptionStyleModel",
          "state": {
            "_view_name": "StyleView",
            "_model_name": "DescriptionStyleModel",
            "description_width": "",
            "_view_module": "@jupyter-widgets/base",
            "_model_module_version": "1.5.0",
            "_view_count": null,
            "_view_module_version": "1.2.0",
            "_model_module": "@jupyter-widgets/controls"
          }
        },
        "16f374ddd36a4fca9352019f3782b44a": {
          "model_module": "@jupyter-widgets/base",
          "model_name": "LayoutModel",
          "state": {
            "_view_name": "LayoutView",
            "grid_template_rows": null,
            "right": null,
            "justify_content": null,
            "_view_module": "@jupyter-widgets/base",
            "overflow": null,
            "_model_module_version": "1.2.0",
            "_view_count": null,
            "flex_flow": null,
            "width": "max-content",
            "min_width": null,
            "border": null,
            "align_items": null,
            "bottom": null,
            "_model_module": "@jupyter-widgets/base",
            "top": null,
            "grid_column": null,
            "overflow_y": null,
            "overflow_x": null,
            "grid_auto_flow": null,
            "grid_area": null,
            "grid_template_columns": null,
            "flex": null,
            "_model_name": "LayoutModel",
            "justify_items": null,
            "grid_row": null,
            "max_height": null,
            "align_content": null,
            "visibility": null,
            "align_self": null,
            "height": null,
            "min_height": null,
            "padding": null,
            "grid_auto_rows": null,
            "grid_gap": null,
            "max_width": null,
            "order": null,
            "_view_module_version": "1.2.0",
            "grid_template_areas": null,
            "object_position": null,
            "object_fit": null,
            "grid_auto_columns": null,
            "margin": null,
            "display": null,
            "left": null
          }
        },
        "7348a388266a44bd8524ce48434866b7": {
          "model_module": "@jupyter-widgets/base",
          "model_name": "LayoutModel",
          "state": {
            "_view_name": "LayoutView",
            "grid_template_rows": null,
            "right": null,
            "justify_content": null,
            "_view_module": "@jupyter-widgets/base",
            "overflow": null,
            "_model_module_version": "1.2.0",
            "_view_count": null,
            "flex_flow": null,
            "width": null,
            "min_width": null,
            "border": null,
            "align_items": null,
            "bottom": null,
            "_model_module": "@jupyter-widgets/base",
            "top": null,
            "grid_column": null,
            "overflow_y": null,
            "overflow_x": null,
            "grid_auto_flow": null,
            "grid_area": null,
            "grid_template_columns": null,
            "flex": null,
            "_model_name": "LayoutModel",
            "justify_items": null,
            "grid_row": null,
            "max_height": null,
            "align_content": null,
            "visibility": null,
            "align_self": null,
            "height": null,
            "min_height": null,
            "padding": null,
            "grid_auto_rows": null,
            "grid_gap": null,
            "max_width": null,
            "order": null,
            "_view_module_version": "1.2.0",
            "grid_template_areas": null,
            "object_position": null,
            "object_fit": null,
            "grid_auto_columns": null,
            "margin": null,
            "display": null,
            "left": null
          }
        },
        "2c7285e16190428f8b40281a24a2cfcf": {
          "model_module": "@jupyter-widgets/controls",
          "model_name": "HBoxModel",
          "state": {
            "_view_name": "HBoxView",
            "_dom_classes": [],
            "_model_name": "HBoxModel",
            "_view_module": "@jupyter-widgets/controls",
            "_model_module_version": "1.5.0",
            "_view_count": null,
            "_view_module_version": "1.5.0",
            "box_style": "",
            "layout": "IPY_MODEL_b408c3c809db4b85b6be333cccc5fb7d",
            "_model_module": "@jupyter-widgets/controls",
            "children": [
              "IPY_MODEL_82c50db73da24b62a25c0d72aa327265",
              "IPY_MODEL_8947e335898a45849243080c957a9f90"
            ]
          }
        },
        "b408c3c809db4b85b6be333cccc5fb7d": {
          "model_module": "@jupyter-widgets/base",
          "model_name": "LayoutModel",
          "state": {
            "_view_name": "LayoutView",
            "grid_template_rows": null,
            "right": null,
            "justify_content": null,
            "_view_module": "@jupyter-widgets/base",
            "overflow": null,
            "_model_module_version": "1.2.0",
            "_view_count": null,
            "flex_flow": null,
            "width": null,
            "min_width": null,
            "border": null,
            "align_items": null,
            "bottom": null,
            "_model_module": "@jupyter-widgets/base",
            "top": null,
            "grid_column": null,
            "overflow_y": null,
            "overflow_x": null,
            "grid_auto_flow": null,
            "grid_area": null,
            "grid_template_columns": null,
            "flex": null,
            "_model_name": "LayoutModel",
            "justify_items": null,
            "grid_row": null,
            "max_height": null,
            "align_content": null,
            "visibility": null,
            "align_self": null,
            "height": null,
            "min_height": null,
            "padding": null,
            "grid_auto_rows": null,
            "grid_gap": null,
            "max_width": null,
            "order": null,
            "_view_module_version": "1.2.0",
            "grid_template_areas": null,
            "object_position": null,
            "object_fit": null,
            "grid_auto_columns": null,
            "margin": null,
            "display": null,
            "left": null
          }
        },
        "82c50db73da24b62a25c0d72aa327265": {
          "model_module": "@jupyter-widgets/controls",
          "model_name": "VBoxModel",
          "state": {
            "_view_name": "VBoxView",
            "_dom_classes": [],
            "_model_name": "VBoxModel",
            "_view_module": "@jupyter-widgets/controls",
            "_model_module_version": "1.5.0",
            "_view_count": null,
            "_view_module_version": "1.5.0",
            "box_style": "",
            "layout": "IPY_MODEL_5ee22ca5a15a484198f16f9fa5175cc4",
            "_model_module": "@jupyter-widgets/controls",
            "children": [
              "IPY_MODEL_1730b7c35015438589ab185dc453d309",
              "IPY_MODEL_1a40b76d10934f7da280ffc5fc1e1b71"
            ]
          }
        },
        "8947e335898a45849243080c957a9f90": {
          "model_module": "@jupyter-widgets/controls",
          "model_name": "VBoxModel",
          "state": {
            "_view_name": "VBoxView",
            "_dom_classes": [],
            "_model_name": "VBoxModel",
            "_view_module": "@jupyter-widgets/controls",
            "_model_module_version": "1.5.0",
            "_view_count": null,
            "_view_module_version": "1.5.0",
            "box_style": "",
            "layout": "IPY_MODEL_6693869d361b454cbf41c954ac23460f",
            "_model_module": "@jupyter-widgets/controls",
            "children": [
              "IPY_MODEL_56aa28f8f9b54d3eb5876e417d4c8a7f",
              "IPY_MODEL_ec198f5eb19f467b85c16929d59945c8"
            ]
          }
        },
        "5ee22ca5a15a484198f16f9fa5175cc4": {
          "model_module": "@jupyter-widgets/base",
          "model_name": "LayoutModel",
          "state": {
            "_view_name": "LayoutView",
            "grid_template_rows": null,
            "right": null,
            "justify_content": null,
            "_view_module": "@jupyter-widgets/base",
            "overflow": null,
            "_model_module_version": "1.2.0",
            "_view_count": null,
            "flex_flow": null,
            "width": null,
            "min_width": null,
            "border": null,
            "align_items": null,
            "bottom": null,
            "_model_module": "@jupyter-widgets/base",
            "top": null,
            "grid_column": null,
            "overflow_y": null,
            "overflow_x": null,
            "grid_auto_flow": null,
            "grid_area": null,
            "grid_template_columns": null,
            "flex": null,
            "_model_name": "LayoutModel",
            "justify_items": null,
            "grid_row": null,
            "max_height": null,
            "align_content": null,
            "visibility": null,
            "align_self": null,
            "height": null,
            "min_height": null,
            "padding": null,
            "grid_auto_rows": null,
            "grid_gap": null,
            "max_width": null,
            "order": null,
            "_view_module_version": "1.2.0",
            "grid_template_areas": null,
            "object_position": null,
            "object_fit": null,
            "grid_auto_columns": null,
            "margin": null,
            "display": null,
            "left": null
          }
        },
        "1730b7c35015438589ab185dc453d309": {
          "model_module": "@jupyter-widgets/controls",
          "model_name": "FloatSliderModel",
          "state": {
            "_view_name": "FloatSliderView",
            "style": "IPY_MODEL_b604e1b37d4f466095e0f515f7768ed9",
            "_dom_classes": [],
            "description": "p(s = left)",
            "step": 0.01,
            "_model_name": "FloatSliderModel",
            "orientation": "horizontal",
            "max": 0.99,
            "_view_module": "@jupyter-widgets/controls",
            "_model_module_version": "1.5.0",
            "value": 0.3,
            "_view_count": null,
            "disabled": false,
            "_view_module_version": "1.5.0",
            "min": 0.01,
            "continuous_update": true,
            "readout_format": ".2f",
            "description_tooltip": null,
            "readout": true,
            "_model_module": "@jupyter-widgets/controls",
            "layout": "IPY_MODEL_431de5b4114041fe8a43d9a2871522ac"
          }
        },
        "1a40b76d10934f7da280ffc5fc1e1b71": {
          "model_module": "@jupyter-widgets/controls",
          "model_name": "CheckboxModel",
          "state": {
            "_view_name": "CheckboxView",
            "style": "IPY_MODEL_ac5535206c4a4086b5c0cc9e0d366a02",
            "_dom_classes": [],
            "description": "Observed fish (m)",
            "_model_name": "CheckboxModel",
            "_view_module": "@jupyter-widgets/controls",
            "_model_module_version": "1.5.0",
            "value": false,
            "_view_count": null,
            "disabled": false,
            "_view_module_version": "1.5.0",
            "indent": false,
            "description_tooltip": null,
            "_model_module": "@jupyter-widgets/controls",
            "layout": "IPY_MODEL_581edb1f78f54531a0fd7754e45bde49"
          }
        },
        "6693869d361b454cbf41c954ac23460f": {
          "model_module": "@jupyter-widgets/base",
          "model_name": "LayoutModel",
          "state": {
            "_view_name": "LayoutView",
            "grid_template_rows": null,
            "right": null,
            "justify_content": null,
            "_view_module": "@jupyter-widgets/base",
            "overflow": null,
            "_model_module_version": "1.2.0",
            "_view_count": null,
            "flex_flow": null,
            "width": null,
            "min_width": null,
            "border": null,
            "align_items": null,
            "bottom": null,
            "_model_module": "@jupyter-widgets/base",
            "top": null,
            "grid_column": null,
            "overflow_y": null,
            "overflow_x": null,
            "grid_auto_flow": null,
            "grid_area": null,
            "grid_template_columns": null,
            "flex": null,
            "_model_name": "LayoutModel",
            "justify_items": null,
            "grid_row": null,
            "max_height": null,
            "align_content": null,
            "visibility": null,
            "align_self": null,
            "height": null,
            "min_height": null,
            "padding": null,
            "grid_auto_rows": null,
            "grid_gap": null,
            "max_width": null,
            "order": null,
            "_view_module_version": "1.2.0",
            "grid_template_areas": null,
            "object_position": null,
            "object_fit": null,
            "grid_auto_columns": null,
            "margin": null,
            "display": null,
            "left": null
          }
        },
        "56aa28f8f9b54d3eb5876e417d4c8a7f": {
          "model_module": "@jupyter-widgets/controls",
          "model_name": "FloatSliderModel",
          "state": {
            "_view_name": "FloatSliderView",
            "style": "IPY_MODEL_16bc92b90e014ee59b0fcc17970f9bcc",
            "_dom_classes": [],
            "description": "p(fish | s = left)",
            "step": 0.01,
            "_model_name": "FloatSliderModel",
            "orientation": "horizontal",
            "max": 0.99,
            "_view_module": "@jupyter-widgets/controls",
            "_model_module_version": "1.5.0",
            "value": 0.5,
            "_view_count": null,
            "disabled": false,
            "_view_module_version": "1.5.0",
            "min": 0.01,
            "continuous_update": true,
            "readout_format": ".2f",
            "description_tooltip": null,
            "readout": true,
            "_model_module": "@jupyter-widgets/controls",
            "layout": "IPY_MODEL_3068c91e7d1e45bf8cfd38bf50d08dd0"
          }
        },
        "ec198f5eb19f467b85c16929d59945c8": {
          "model_module": "@jupyter-widgets/controls",
          "model_name": "FloatSliderModel",
          "state": {
            "_view_name": "FloatSliderView",
            "style": "IPY_MODEL_b5ee21de380b4ceb9ee8236f9398123b",
            "_dom_classes": [],
            "description": "p(fish | s = right)",
            "step": 0.01,
            "_model_name": "FloatSliderModel",
            "orientation": "horizontal",
            "max": 0.99,
            "_view_module": "@jupyter-widgets/controls",
            "_model_module_version": "1.5.0",
            "value": 0.1,
            "_view_count": null,
            "disabled": false,
            "_view_module_version": "1.5.0",
            "min": 0.01,
            "continuous_update": true,
            "readout_format": ".2f",
            "description_tooltip": null,
            "readout": true,
            "_model_module": "@jupyter-widgets/controls",
            "layout": "IPY_MODEL_72c120f419974600ab59da8f623d774d"
          }
        },
        "b604e1b37d4f466095e0f515f7768ed9": {
          "model_module": "@jupyter-widgets/controls",
          "model_name": "SliderStyleModel",
          "state": {
            "_view_name": "StyleView",
            "handle_color": null,
            "_model_name": "SliderStyleModel",
            "description_width": "",
            "_view_module": "@jupyter-widgets/base",
            "_model_module_version": "1.5.0",
            "_view_count": null,
            "_view_module_version": "1.2.0",
            "_model_module": "@jupyter-widgets/controls"
          }
        },
        "431de5b4114041fe8a43d9a2871522ac": {
          "model_module": "@jupyter-widgets/base",
          "model_name": "LayoutModel",
          "state": {
            "_view_name": "LayoutView",
            "grid_template_rows": null,
            "right": null,
            "justify_content": null,
            "_view_module": "@jupyter-widgets/base",
            "overflow": null,
            "_model_module_version": "1.2.0",
            "_view_count": null,
            "flex_flow": null,
            "width": null,
            "min_width": null,
            "border": null,
            "align_items": null,
            "bottom": null,
            "_model_module": "@jupyter-widgets/base",
            "top": null,
            "grid_column": null,
            "overflow_y": null,
            "overflow_x": null,
            "grid_auto_flow": null,
            "grid_area": null,
            "grid_template_columns": null,
            "flex": null,
            "_model_name": "LayoutModel",
            "justify_items": null,
            "grid_row": null,
            "max_height": null,
            "align_content": null,
            "visibility": null,
            "align_self": null,
            "height": null,
            "min_height": null,
            "padding": null,
            "grid_auto_rows": null,
            "grid_gap": null,
            "max_width": null,
            "order": null,
            "_view_module_version": "1.2.0",
            "grid_template_areas": null,
            "object_position": null,
            "object_fit": null,
            "grid_auto_columns": null,
            "margin": null,
            "display": null,
            "left": null
          }
        },
        "ac5535206c4a4086b5c0cc9e0d366a02": {
          "model_module": "@jupyter-widgets/controls",
          "model_name": "DescriptionStyleModel",
          "state": {
            "_view_name": "StyleView",
            "_model_name": "DescriptionStyleModel",
            "description_width": "",
            "_view_module": "@jupyter-widgets/base",
            "_model_module_version": "1.5.0",
            "_view_count": null,
            "_view_module_version": "1.2.0",
            "_model_module": "@jupyter-widgets/controls"
          }
        },
        "581edb1f78f54531a0fd7754e45bde49": {
          "model_module": "@jupyter-widgets/base",
          "model_name": "LayoutModel",
          "state": {
            "_view_name": "LayoutView",
            "grid_template_rows": null,
            "right": null,
            "justify_content": "center",
            "_view_module": "@jupyter-widgets/base",
            "overflow": null,
            "_model_module_version": "1.2.0",
            "_view_count": null,
            "flex_flow": null,
            "width": null,
            "min_width": null,
            "border": null,
            "align_items": null,
            "bottom": null,
            "_model_module": "@jupyter-widgets/base",
            "top": null,
            "grid_column": null,
            "overflow_y": null,
            "overflow_x": null,
            "grid_auto_flow": null,
            "grid_area": null,
            "grid_template_columns": null,
            "flex": null,
            "_model_name": "LayoutModel",
            "justify_items": null,
            "grid_row": null,
            "max_height": null,
            "align_content": null,
            "visibility": null,
            "align_self": null,
            "height": null,
            "min_height": null,
            "padding": null,
            "grid_auto_rows": null,
            "grid_gap": null,
            "max_width": null,
            "order": null,
            "_view_module_version": "1.2.0",
            "grid_template_areas": null,
            "object_position": null,
            "object_fit": null,
            "grid_auto_columns": null,
            "margin": null,
            "display": "flex",
            "left": null
          }
        },
        "16bc92b90e014ee59b0fcc17970f9bcc": {
          "model_module": "@jupyter-widgets/controls",
          "model_name": "SliderStyleModel",
          "state": {
            "_view_name": "StyleView",
            "handle_color": null,
            "_model_name": "SliderStyleModel",
            "description_width": "initial",
            "_view_module": "@jupyter-widgets/base",
            "_model_module_version": "1.5.0",
            "_view_count": null,
            "_view_module_version": "1.2.0",
            "_model_module": "@jupyter-widgets/controls"
          }
        },
        "3068c91e7d1e45bf8cfd38bf50d08dd0": {
          "model_module": "@jupyter-widgets/base",
          "model_name": "LayoutModel",
          "state": {
            "_view_name": "LayoutView",
            "grid_template_rows": null,
            "right": null,
            "justify_content": null,
            "_view_module": "@jupyter-widgets/base",
            "overflow": null,
            "_model_module_version": "1.2.0",
            "_view_count": null,
            "flex_flow": null,
            "width": null,
            "min_width": null,
            "border": null,
            "align_items": null,
            "bottom": null,
            "_model_module": "@jupyter-widgets/base",
            "top": null,
            "grid_column": null,
            "overflow_y": null,
            "overflow_x": null,
            "grid_auto_flow": null,
            "grid_area": null,
            "grid_template_columns": null,
            "flex": null,
            "_model_name": "LayoutModel",
            "justify_items": null,
            "grid_row": null,
            "max_height": null,
            "align_content": null,
            "visibility": null,
            "align_self": null,
            "height": null,
            "min_height": null,
            "padding": null,
            "grid_auto_rows": null,
            "grid_gap": null,
            "max_width": null,
            "order": null,
            "_view_module_version": "1.2.0",
            "grid_template_areas": null,
            "object_position": null,
            "object_fit": null,
            "grid_auto_columns": null,
            "margin": null,
            "display": null,
            "left": null
          }
        },
        "b5ee21de380b4ceb9ee8236f9398123b": {
          "model_module": "@jupyter-widgets/controls",
          "model_name": "SliderStyleModel",
          "state": {
            "_view_name": "StyleView",
            "handle_color": null,
            "_model_name": "SliderStyleModel",
            "description_width": "initial",
            "_view_module": "@jupyter-widgets/base",
            "_model_module_version": "1.5.0",
            "_view_count": null,
            "_view_module_version": "1.2.0",
            "_model_module": "@jupyter-widgets/controls"
          }
        },
        "72c120f419974600ab59da8f623d774d": {
          "model_module": "@jupyter-widgets/base",
          "model_name": "LayoutModel",
          "state": {
            "_view_name": "LayoutView",
            "grid_template_rows": null,
            "right": null,
            "justify_content": null,
            "_view_module": "@jupyter-widgets/base",
            "overflow": null,
            "_model_module_version": "1.2.0",
            "_view_count": null,
            "flex_flow": null,
            "width": null,
            "min_width": null,
            "border": null,
            "align_items": null,
            "bottom": null,
            "_model_module": "@jupyter-widgets/base",
            "top": null,
            "grid_column": null,
            "overflow_y": null,
            "overflow_x": null,
            "grid_auto_flow": null,
            "grid_area": null,
            "grid_template_columns": null,
            "flex": null,
            "_model_name": "LayoutModel",
            "justify_items": null,
            "grid_row": null,
            "max_height": null,
            "align_content": null,
            "visibility": null,
            "align_self": null,
            "height": null,
            "min_height": null,
            "padding": null,
            "grid_auto_rows": null,
            "grid_gap": null,
            "max_width": null,
            "order": null,
            "_view_module_version": "1.2.0",
            "grid_template_areas": null,
            "object_position": null,
            "object_fit": null,
            "grid_auto_columns": null,
            "margin": null,
            "display": null,
            "left": null
          }
        },
        "1969e357e8bf4f639c278e2cc5732e33": {
          "model_module": "@jupyter-widgets/output",
          "model_name": "OutputModel",
          "state": {
            "_view_name": "OutputView",
            "msg_id": "",
            "_dom_classes": [],
            "_model_name": "OutputModel",
            "outputs": [
              {
                "output_type": "display_data",
                "metadata": {
                  "tags": [],
                  "image/png": {
                    "width": 661,
                    "height": 549
                  },
                  "needs_background": "light"
                },
                "image/png": "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\n",
                "text/plain": "<Figure size 720x648 with 5 Axes>"
              }
            ],
            "_view_module": "@jupyter-widgets/output",
            "_model_module_version": "1.0.0",
            "_view_count": null,
            "_view_module_version": "1.0.0",
            "layout": "IPY_MODEL_c4558da1788f468f8bee6d18cd3bb1d4",
            "_model_module": "@jupyter-widgets/output"
          }
        },
        "c4558da1788f468f8bee6d18cd3bb1d4": {
          "model_module": "@jupyter-widgets/base",
          "model_name": "LayoutModel",
          "state": {
            "_view_name": "LayoutView",
            "grid_template_rows": null,
            "right": null,
            "justify_content": null,
            "_view_module": "@jupyter-widgets/base",
            "overflow": null,
            "_model_module_version": "1.2.0",
            "_view_count": null,
            "flex_flow": null,
            "width": null,
            "min_width": null,
            "border": null,
            "align_items": null,
            "bottom": null,
            "_model_module": "@jupyter-widgets/base",
            "top": null,
            "grid_column": null,
            "overflow_y": null,
            "overflow_x": null,
            "grid_auto_flow": null,
            "grid_area": null,
            "grid_template_columns": null,
            "flex": null,
            "_model_name": "LayoutModel",
            "justify_items": null,
            "grid_row": null,
            "max_height": null,
            "align_content": null,
            "visibility": null,
            "align_self": null,
            "height": null,
            "min_height": null,
            "padding": null,
            "grid_auto_rows": null,
            "grid_gap": null,
            "max_width": null,
            "order": null,
            "_view_module_version": "1.2.0",
            "grid_template_areas": null,
            "object_position": null,
            "object_fit": null,
            "grid_auto_columns": null,
            "margin": null,
            "display": null,
            "left": null
          }
        }
      }
    }
  },
  "cells": [
    {
      "cell_type": "markdown",
      "metadata": {
        "id": "view-in-github",
        "colab_type": "text"
      },
      "source": [
        "<a href=\"https://colab.research.google.com/github/eejd/course-content/blob/master/tutorials/W3D1_BayesianDecisions/W3D1_Tutorial1.ipynb\" target=\"_parent\"><img src=\"https://colab.research.google.com/assets/colab-badge.svg\" alt=\"Open In Colab\"/></a>"
      ]
    },
    {
      "cell_type": "markdown",
      "metadata": {
        "id": "7j78m6FUt0B5"
      },
      "source": [
        "# Tutorial 1: Bayes with a binary hidden state\n",
        "**Week 3, Day 1: Bayesian Decisions**\n",
        "\n",
        "**By Neuromatch Academy**\n",
        "\n",
        "__Content creators:__ Eric DeWitt, Xaq Pitkow, Ella Batty, Saeed Salehi\n",
        "\n",
        "__Content reviewers:__ "
      ]
    },
    {
      "cell_type": "markdown",
      "metadata": {
        "id": "s-yHhju-t0B6"
      },
      "source": [
        "**Our 2021 Sponsors, including Presenting Sponsor Facebook Reality Labs**\n",
        "\n",
        "<p align='center'><img src='https://github.com/NeuromatchAcademy/widgets/blob/master/sponsors.png?raw=True'/></p>"
      ]
    },
    {
      "cell_type": "markdown",
      "metadata": {
        "id": "uNXtkhEVt0B6"
      },
      "source": [
        "# Tutorial Objectives\n",
        "This is the first of two core tutorials on Bayesian statistics. In these tutorials, we will explore the fundemental concepts of the Bayesian approach. In this tutorial you will work through an example of Bayesian inference and decision making using a binary hidden state. The second tutorial extends these concepts to a continuous hidden state. In the related NMA days, each of these basic ideas will be extended. In Hidden Dynamics, we consider these idea through time as you explore what happens when we infere a hidden state using repeated observations and when the hidden state changes across time. In the Optimal Control day, we will introduce the notion of how to use inference and decisions to select actions for optimal control.\n",
        "\n",
        "This notebook will introduce the fundamental building blocks for Bayesian statistics: \n",
        "\n",
        "1. How do we combine the possible loss (or gain) for making a decision with our probabilitic knowledge?\n",
        "2. How do we use probability distributions to represent hidden states?\n",
        "3. How does marginalization work and how can we use it?\n",
        "4. How do we combine new information with our prior knowledge? "
      ]
    },
    {
      "cell_type": "code",
      "metadata": {
        "cellView": "form",
        "execution": {
          "iopub.execute_input": "2021-06-25T15:15:26.250647Z",
          "iopub.status.busy": "2021-06-25T15:15:26.250126Z",
          "iopub.status.idle": "2021-06-25T15:15:26.382494Z",
          "shell.execute_reply": "2021-06-25T15:15:26.381532Z"
        },
        "id": "ALgjQlhAt0B7",
        "colab": {
          "base_uri": "https://localhost:8080/",
          "height": 580,
          "referenced_widgets": [
            "0a0e374e54664b90b1debf5ec977a123",
            "182bdfca46a640b1818d9ac497c8b4ba",
            "2e126994bb1d4f978d05ecf43316f291",
            "0d7cbcf2e6fc436abd7c14a4de57abe7",
            "ff45de39e9f94b8690dc656856b39dfe",
            "64cccbedad1c447ca3454b2478761280"
          ]
        },
        "outputId": "3043c483-c26b-45f9-f92b-739a4fb19634"
      },
      "source": [
        "# @title Video 1: Introduction to Bayesian Statistics and Decisions\n",
        "from ipywidgets import widgets\n",
        "\n",
        "out2 = widgets.Output()\n",
        "with out2:\n",
        "  from IPython.display import IFrame\n",
        "  class BiliVideo(IFrame):\n",
        "      def __init__(self, id, page=1, width=400, height=300, **kwargs):\n",
        "          self.id=id\n",
        "          src = 'https://player.bilibili.com/player.html?bvid={0}&page={1}'.format(id, page)\n",
        "          super(BiliVideo, self).__init__(src, width, height, **kwargs)\n",
        "\n",
        "  video = BiliVideo(id=\"\", width=854, height=480, fs=1)\n",
        "  print('Video available at https://www.bilibili.com/video/{0}'.format(video.id))\n",
        "  display(video)\n",
        "\n",
        "out1 = widgets.Output()\n",
        "with out1:\n",
        "  from IPython.display import YouTubeVideo\n",
        "  video = YouTubeVideo(id=\"JiEIn9QsrFg\", width=854, height=480, fs=1, rel=0)\n",
        "  print('Video available at https://youtube.com/watch?v=' + video.id)\n",
        "  display(video)\n",
        "\n",
        "out = widgets.Tab([out1, out2])\n",
        "out.set_title(0, 'Youtube')\n",
        "out.set_title(1, 'Bilibili')\n",
        "\n",
        "display(out)"
      ],
      "execution_count": 1,
      "outputs": [
        {
          "output_type": "display_data",
          "data": {
            "application/vnd.jupyter.widget-view+json": {
              "model_id": "0a0e374e54664b90b1debf5ec977a123",
              "version_minor": 0,
              "version_major": 2
            },
            "text/plain": [
              "Tab(children=(Output(), Output()), _titles={'0': 'Youtube', '1': 'Bilibili'})"
            ]
          },
          "metadata": {
            "tags": []
          }
        }
      ]
    },
    {
      "cell_type": "markdown",
      "metadata": {
        "id": "-MJ_wgJht0B8"
      },
      "source": [
        "## Setup  \n",
        "Please execute the cells below to initialize the notebook environment."
      ]
    },
    {
      "cell_type": "code",
      "metadata": {
        "execution": {
          "iopub.execute_input": "2021-06-25T15:15:26.396114Z",
          "iopub.status.busy": "2021-06-25T15:15:26.395542Z",
          "iopub.status.idle": "2021-06-25T15:15:26.779072Z",
          "shell.execute_reply": "2021-06-25T15:15:26.779955Z"
        },
        "id": "iM_SevC3t0B8"
      },
      "source": [
        "import numpy as np\n",
        "import matplotlib.pyplot as plt\n",
        "from matplotlib import patches\n",
        "from matplotlib import transforms\n",
        "from matplotlib import gridspec\n",
        "from scipy.optimize import fsolve\n",
        "\n",
        "from collections import namedtuple"
      ],
      "execution_count": 2,
      "outputs": []
    },
    {
      "cell_type": "code",
      "metadata": {
        "execution": {
          "iopub.execute_input": "2021-06-25T15:15:26.783374Z",
          "iopub.status.busy": "2021-06-25T15:15:26.782267Z",
          "iopub.status.idle": "2021-06-25T15:15:26.826729Z",
          "shell.execute_reply": "2021-06-25T15:15:26.827529Z"
        },
        "id": "hT6l6OOUt0B8",
        "cellView": "form"
      },
      "source": [
        "#@title Figure Settings\n",
        "import ipywidgets as widgets       # interactive display\n",
        "from ipywidgets import GridspecLayout, HBox, VBox, FloatSlider, Layout\n",
        "from ipywidgets import interactive, interactive_output, Checkbox\n",
        "from IPython.display import clear_output\n",
        "%config InlineBackend.figure_format = 'retina'\n",
        "plt.style.use(\"https://raw.githubusercontent.com/NeuromatchAcademy/course-content/master/nma.mplstyle\")\n",
        "\n",
        "import warnings\n",
        "warnings.filterwarnings(\"ignore\")"
      ],
      "execution_count": 3,
      "outputs": []
    },
    {
      "cell_type": "code",
      "metadata": {
        "execution": {
          "iopub.execute_input": "2021-06-25T15:15:26.831991Z",
          "iopub.status.busy": "2021-06-25T15:15:26.830372Z",
          "iopub.status.idle": "2021-06-25T15:15:26.901682Z",
          "shell.execute_reply": "2021-06-25T15:15:26.901183Z"
        },
        "id": "7HmFDFOAt0B9",
        "cellView": "form"
      },
      "source": [
        "# @title Plotting Functions\n",
        "\n",
        "def plot_joint_probs(P, ):\n",
        "    assert np.all(P >= 0), \"probabilities should be >= 0\"\n",
        "    # normalize if not\n",
        "    P = P / np.sum(P)\n",
        "    marginal_y = np.sum(P,axis=1)\n",
        "    marginal_x = np.sum(P,axis=0)\n",
        "\n",
        "    # definitions for the axes\n",
        "    left, width = 0.1, 0.65\n",
        "    bottom, height = 0.1, 0.65\n",
        "    spacing = 0.005\n",
        "\n",
        "    # start with a square Figure\n",
        "    fig = plt.figure(figsize=(5, 5))\n",
        "\n",
        "    joint_prob = [left, bottom, width, height]\n",
        "    rect_histx = [left, bottom + height + spacing, width, 0.2]\n",
        "    rect_histy = [left + width + spacing, bottom, 0.2, height]\n",
        "\n",
        "    rect_x_cmap = plt.cm.Blues\n",
        "    rect_y_cmap = plt.cm.Reds\n",
        "\n",
        "    # Show joint probs and marginals\n",
        "    ax = fig.add_axes(joint_prob)\n",
        "    ax_x = fig.add_axes(rect_histx, sharex=ax)\n",
        "    ax_y = fig.add_axes(rect_histy, sharey=ax)\n",
        "\n",
        "    # Show joint probs and marginals\n",
        "    ax.matshow(P,vmin=0., vmax=1., cmap='Greys')\n",
        "    ax_x.bar(0, marginal_x[0], facecolor=rect_x_cmap(marginal_x[0]))\n",
        "    ax_x.bar(1, marginal_x[1], facecolor=rect_x_cmap(marginal_x[1]))\n",
        "    ax_y.barh(0, marginal_y[0], facecolor=rect_y_cmap(marginal_y[0]))\n",
        "    ax_y.barh(1, marginal_y[1], facecolor=rect_y_cmap(marginal_y[1]))\n",
        "    # set limits\n",
        "    ax_x.set_ylim([0,1])\n",
        "    ax_y.set_xlim([0,1])\n",
        "\n",
        "    # show values\n",
        "    ind = np.arange(2)\n",
        "    x,y = np.meshgrid(ind,ind)\n",
        "    for i,j in zip(x.flatten(), y.flatten()):\n",
        "        c = f\"{P[i,j]:.2f}\"\n",
        "        ax.text(j,i, c, va='center', ha='center', color='black')\n",
        "    for i in ind:\n",
        "        v = marginal_x[i]\n",
        "        c = f\"{v:.2f}\"\n",
        "        ax_x.text(i, v +0.1, c, va='center', ha='center', color='black')\n",
        "        v = marginal_y[i]\n",
        "        c = f\"{v:.2f}\"\n",
        "        ax_y.text(v+0.2, i, c, va='center', ha='center', color='black')\n",
        "\n",
        "    # set up labels\n",
        "    ax.xaxis.tick_bottom()\n",
        "    ax.yaxis.tick_left()\n",
        "    ax.set_xticks([0,1])\n",
        "    ax.set_yticks([0,1])\n",
        "    ax.set_xticklabels(['Silver','Gold'])\n",
        "    ax.set_yticklabels(['Small', 'Large'])\n",
        "    ax.set_xlabel('color')\n",
        "    ax.set_ylabel('size')\n",
        "    ax_x.axis('off')\n",
        "    ax_y.axis('off')\n",
        "    return fig\n",
        "# test\n",
        "# P = np.random.rand(2,2)\n",
        "# P = np.asarray([[0.9, 0.8], [0.4, 0.1]])\n",
        "# P = P / np.sum(P)\n",
        "# fig = plot_joint_probs(P)\n",
        "# plt.show(fig)\n",
        "# plt.close(fig)\n",
        "\n",
        "\n",
        "# fig = plot_prior_likelihood(0.5, 0.3)\n",
        "# plt.show(fig)\n",
        "# plt.close(fig)\n",
        "\n",
        "\n",
        "def plot_prior_likelihood_posterior(prior, likelihood, posterior):\n",
        "\n",
        "    # definitions for the axes\n",
        "    left, width = 0.05, 0.3\n",
        "    bottom, height = 0.05, 0.9\n",
        "    padding = 0.12\n",
        "    small_width = 0.1\n",
        "    left_space = left + small_width + padding\n",
        "    added_space = padding + width\n",
        "\n",
        "    fig = plt.figure(figsize=(12, 4))\n",
        "\n",
        "    rect_prior = [left, bottom, small_width, height]\n",
        "    rect_likelihood = [left_space , bottom , width, height]\n",
        "    rect_posterior = [left_space +  added_space, bottom , width, height]\n",
        "\n",
        "    ax_prior = fig.add_axes(rect_prior)\n",
        "    ax_likelihood = fig.add_axes(rect_likelihood, sharey=ax_prior)\n",
        "    ax_posterior = fig.add_axes(rect_posterior, sharey = ax_prior)\n",
        "\n",
        "    rect_colormap = plt.cm.Blues\n",
        "\n",
        "    # Show posterior probs and marginals\n",
        "    ax_prior.barh(0, prior[0], facecolor = rect_colormap(prior[0, 0]))\n",
        "    ax_prior.barh(1, prior[1], facecolor = rect_colormap(prior[1, 0]))\n",
        "    ax_likelihood.matshow(likelihood, vmin=0., vmax=1., cmap='Reds')\n",
        "    ax_posterior.matshow(posterior, vmin=0., vmax=1., cmap='Greens')\n",
        "\n",
        "\n",
        "    # Probabilities plot details\n",
        "    # ax_prior.set(xlim = [1, 0], yticks = [0, 1], yticklabels = ['left', 'right'],\n",
        "    #              ylabel = 'state (s)', title = \"Prior p(s)\")\n",
        "    ax_prior.set(xlim = [1, 0], xticks = [], yticks = [0, 1], yticklabels = ['left', 'right'],\n",
        "                 title = \"Probability of state\")\n",
        "    ax_prior.yaxis.tick_right()\n",
        "    ax_prior.spines['left'].set_visible(False)\n",
        "    ax_prior.spines['bottom'].set_visible(False)\n",
        "\n",
        "    # Likelihood plot details\n",
        "    ax_likelihood.set(xticks = [0, 1], xticklabels = ['fish', 'no fish'],\n",
        "                  yticks = [0, 1], yticklabels = ['left', 'right'],\n",
        "                   ylabel = 'state (s)', xlabel = 'measurement (m)',\n",
        "                   title = 'Likelihood p(m (right) | s)')\n",
        "    ax_likelihood.xaxis.set_ticks_position('bottom')\n",
        "    ax_likelihood.spines['left'].set_visible(False)\n",
        "    ax_likelihood.spines['bottom'].set_visible(False)\n",
        "\n",
        "    # Posterior plot details\n",
        "\n",
        "    ax_posterior.set(xticks = [0, 1], xticklabels = ['fish', 'no fish'],\n",
        "                  yticks = [0, 1], yticklabels = ['left', 'right'],\n",
        "                   ylabel = 'state (s)', xlabel = 'measurement (m)',\n",
        "                   title = 'Posterior p(s | m)')\n",
        "    ax_posterior.xaxis.set_ticks_position('bottom')\n",
        "    ax_posterior.spines['left'].set_visible(False)\n",
        "    ax_posterior.spines['bottom'].set_visible(False)\n",
        "\n",
        "\n",
        "    # show values\n",
        "    ind = np.arange(2)\n",
        "    x,y = np.meshgrid(ind,ind)\n",
        "    for i,j in zip(x.flatten(), y.flatten()):\n",
        "        c = f\"{posterior[i,j]:.2f}\"\n",
        "        ax_posterior.text(j,i, c, va='center', ha='center', color='black')\n",
        "    for i,j in zip(x.flatten(), y.flatten()):\n",
        "        c = f\"{likelihood[i,j]:.2f}\"\n",
        "        ax_likelihood.text(j,i, c, va='center', ha='center', color='black')\n",
        "    for i in ind:\n",
        "        v = prior[i, 0]\n",
        "        c = f\"{v:.2f}\"\n",
        "        ax_prior.text(v+0.2, i, c, va='center', ha='center', color='black')\n",
        "\n",
        "\n",
        "def plot_prior_likelihood(ps, p_a_s1, p_a_s0, measurement):\n",
        "    likelihood = np.asarray([[p_a_s1, 1-p_a_s1],[p_a_s0, 1-p_a_s0]])\n",
        "    assert 0.0 <= ps <= 1.0\n",
        "    prior = np.asarray([ps, 1 - ps])\n",
        "    if measurement:\n",
        "        posterior = likelihood[:, 0] * prior\n",
        "    else:\n",
        "        posterior = (likelihood[:, 1] * prior).reshape(-1)\n",
        "    posterior /= np.sum(posterior)\n",
        "\n",
        "    # definitions for the axes\n",
        "    left, width = 0.05, 0.3\n",
        "    bottom, height = 0.05, 0.9\n",
        "    padding = 0.12\n",
        "    small_width = 0.2\n",
        "    left_space = left + small_width + padding\n",
        "    small_padding = 0.05\n",
        "\n",
        "    fig = plt.figure(figsize=(12, 4))\n",
        "\n",
        "    rect_prior = [left, bottom, small_width, height]\n",
        "    rect_likelihood = [left_space , bottom , width, height]\n",
        "    rect_posterior = [left_space + width + small_padding, bottom , small_width, height]\n",
        "\n",
        "    ax_prior = fig.add_axes(rect_prior)\n",
        "    ax_likelihood = fig.add_axes(rect_likelihood, sharey=ax_prior)\n",
        "    ax_posterior = fig.add_axes(rect_posterior, sharey=ax_prior)\n",
        "\n",
        "    prior_colormap = plt.cm.Blues\n",
        "    posterior_colormap = plt.cm.Greens\n",
        "\n",
        "    # Show posterior probs and marginals\n",
        "    ax_prior.barh(0, prior[0], facecolor = prior_colormap(prior[0]))\n",
        "    ax_prior.barh(1, prior[1], facecolor = prior_colormap(prior[1]))\n",
        "    ax_likelihood.matshow(likelihood, vmin=0., vmax=1., cmap='Reds')\n",
        "    # ax_posterior.matshow(posterior, vmin=0., vmax=1., cmap='')\n",
        "    ax_posterior.barh(0, posterior[0], facecolor = posterior_colormap(posterior[0]))\n",
        "    ax_posterior.barh(1, posterior[1], facecolor = posterior_colormap(posterior[1]))\n",
        "\n",
        "    # Probabilities plot details\n",
        "    ax_prior.set(xlim = [1, 0], yticks = [0, 1], yticklabels = ['left', 'right'],\n",
        "                 title = \"Prior p(s)\", xticks = [])\n",
        "    ax_prior.yaxis.tick_right()\n",
        "    ax_prior.spines['left'].set_visible(False)\n",
        "    ax_prior.spines['bottom'].set_visible(False)\n",
        "\n",
        "    # Likelihood plot details\n",
        "    ax_likelihood.set(xticks = [0, 1], xticklabels = ['fish', 'no fish'],\n",
        "                  yticks = [0, 1], yticklabels = ['left', 'right'],\n",
        "                   ylabel = 'state (s)', xlabel = 'measurement (m)',\n",
        "                   title = 'Likelihood p(m | s)')\n",
        "    ax_likelihood.xaxis.set_ticks_position('bottom')\n",
        "    ax_likelihood.spines['left'].set_visible(False)\n",
        "    ax_likelihood.spines['bottom'].set_visible(False)\n",
        "\n",
        "    # Posterior plot details\n",
        "    ax_posterior.set(xlim = [0, 1], xticks = [], yticks = [0, 1],\n",
        "                     yticklabels = ['left', 'right'], title = \"Posterior p(s | m)\")\n",
        "    ax_posterior.spines['left'].set_visible(False)\n",
        "    ax_posterior.spines['bottom'].set_visible(False)\n",
        "    # ax_posterior.axis('off')\n",
        "    # ax_posterior.set(xticks = [0, 1], xticklabels = ['fish', 'no fish'],\n",
        "    #               yticks = [0, 1], yticklabels = ['left', 'right'],\n",
        "    #                ylabel = 'state (s)', xlabel = 'measurement (m)',\n",
        "    #                title = 'Posterior p(s | m)')\n",
        "    # ax_posterior.xaxis.set_ticks_position('bottom')\n",
        "    # ax_posterior.spines['left'].set_visible(False)\n",
        "    # ax_posterior.spines['bottom'].set_visible(False)\n",
        "\n",
        "\n",
        "    # show values\n",
        "    ind = np.arange(2)\n",
        "    x,y = np.meshgrid(ind,ind)\n",
        "    # for i,j in zip(x.flatten(), y.flatten()):\n",
        "    #     c = f\"{posterior[i,j]:.2f}\"\n",
        "    #     ax_posterior.text(j,i, c, va='center', ha='center', color='black')\n",
        "    for i in ind:\n",
        "        v = posterior[i]\n",
        "        c = f\"{v:.2f}\"\n",
        "        ax_posterior.text(v+0.2, i, c, va='center', ha='center', color='black')\n",
        "    for i,j in zip(x.flatten(), y.flatten()):\n",
        "        c = f\"{likelihood[i,j]:.2f}\"\n",
        "        ax_likelihood.text(j,i, c, va='center', ha='center', color='black')\n",
        "    for i in ind:\n",
        "        v = prior[i]\n",
        "        c = f\"{v:.2f}\"\n",
        "        ax_prior.text(v+0.2, i, c, va='center', ha='center', color='black')\n",
        "    return fig\n",
        "\n",
        "# fig = plot_prior_likelihood(0.5, 0.3)\n",
        "# plt.show(fig)\n",
        "# plt.close(fig)\n",
        "\n",
        "\n",
        "from matplotlib import colors\n",
        "def plot_utility(ps):\n",
        "    prior = np.asarray([ps, 1 - ps])\n",
        "\n",
        "    utility = np.array([[2, -3], [-2, 1]])\n",
        "\n",
        "    expected = prior @ utility\n",
        "\n",
        "    # definitions for the axes\n",
        "    left, width = 0.05, 0.16\n",
        "    bottom, height = 0.05, 0.9\n",
        "    padding = 0.02\n",
        "    small_width = 0.1\n",
        "    left_space = left + small_width + padding\n",
        "    added_space = padding + width\n",
        "\n",
        "    fig = plt.figure(figsize=(17, 3))\n",
        "\n",
        "    rect_prior = [left, bottom, small_width, height]\n",
        "    rect_utility = [left + added_space , bottom , width, height]\n",
        "    rect_expected = [left + 2* added_space, bottom , width, height]\n",
        "\n",
        "    ax_prior = fig.add_axes(rect_prior)\n",
        "    ax_utility = fig.add_axes(rect_utility, sharey=ax_prior)\n",
        "    ax_expected = fig.add_axes(rect_expected)\n",
        "\n",
        "    rect_colormap = plt.cm.Blues\n",
        "\n",
        "    # Data of plots\n",
        "    ax_prior.barh(0, prior[0], facecolor = rect_colormap(prior[0]))\n",
        "    ax_prior.barh(1, prior[1], facecolor = rect_colormap(prior[1]))\n",
        "    ax_utility.matshow(utility, cmap='cool')\n",
        "    norm = colors.Normalize(vmin=-3, vmax=3)\n",
        "    ax_expected.bar(0, expected[0], facecolor = rect_colormap(norm(expected[0])))\n",
        "    ax_expected.bar(1, expected[1], facecolor = rect_colormap(norm(expected[1])))\n",
        "\n",
        "    # Probabilities plot details\n",
        "    ax_prior.set(xlim = [1, 0], xticks = [], yticks = [0, 1], yticklabels = ['left', 'right'],\n",
        "                 title = \"Probability of state\")\n",
        "    ax_prior.yaxis.tick_right()\n",
        "    ax_prior.spines['left'].set_visible(False)\n",
        "    ax_prior.spines['bottom'].set_visible(False)\n",
        "\n",
        "    # Utility plot details\n",
        "    ax_utility.set(xticks = [0, 1], xticklabels = ['left', 'right'],\n",
        "                  yticks = [0, 1], yticklabels = ['left', 'right'],\n",
        "                   ylabel = 'state (s)', xlabel = 'action (a)',\n",
        "                   title = 'Utility')\n",
        "    ax_utility.xaxis.set_ticks_position('bottom')\n",
        "    ax_utility.spines['left'].set_visible(False)\n",
        "    ax_utility.spines['bottom'].set_visible(False)\n",
        "\n",
        "    # Expected utility plot details\n",
        "    ax_expected.set(title = 'Expected utility', ylim = [-3, 3],\n",
        "                    xticks = [0, 1], xticklabels = ['left', 'right'],\n",
        "                    xlabel = 'action (a)',\n",
        "                    yticks = [])\n",
        "    ax_expected.xaxis.set_ticks_position('bottom')\n",
        "    ax_expected.spines['left'].set_visible(False)\n",
        "    ax_expected.spines['bottom'].set_visible(False)\n",
        "\n",
        "    # show values\n",
        "    ind = np.arange(2)\n",
        "    x,y = np.meshgrid(ind,ind)\n",
        "\n",
        "    for i,j in zip(x.flatten(), y.flatten()):\n",
        "        c = f\"{utility[i,j]:.2f}\"\n",
        "        ax_utility.text(j,i, c, va='center', ha='center', color='black')\n",
        "    for i in ind:\n",
        "        v = prior[i]\n",
        "        c = f\"{v:.2f}\"\n",
        "        ax_prior.text(v+0.2, i, c, va='center', ha='center', color='black')\n",
        "    for i in ind:\n",
        "        v = expected[i]\n",
        "        c = f\"{v:.2f}\"\n",
        "        ax_expected.text(i, 2.5, c, va='center', ha='center', color='black')\n",
        "\n",
        "    return fig\n",
        "\n",
        "\n",
        "def plot_prior_likelihood_utility(ps, p_a_s1, p_a_s0,measurement):\n",
        "    assert 0.0 <= ps <= 1.0\n",
        "    assert 0.0 <= p_a_s1 <= 1.0\n",
        "    assert 0.0 <= p_a_s0 <= 1.0\n",
        "    prior = np.asarray([ps, 1 - ps])\n",
        "    likelihood = np.asarray([[p_a_s1, 1-p_a_s1],[p_a_s0, 1-p_a_s0]])\n",
        "    utility = np.array([[2.0, -3.0], [-2.0, 1.0]])\n",
        "    # expected = np.zeros_like(utility)\n",
        "\n",
        "    if measurement:\n",
        "        posterior = likelihood[:, 0] * prior\n",
        "    else:\n",
        "        posterior = (likelihood[:, 1] * prior).reshape(-1)\n",
        "    posterior /= np.sum(posterior)\n",
        "    # expected[:, 0] = utility[:, 0] * posterior\n",
        "    # expected[:, 1] = utility[:, 1] * posterior\n",
        "    expected = posterior @ utility\n",
        "\n",
        "    # definitions for the axes\n",
        "    left, width = 0.05, 0.3\n",
        "    bottom, height = 0.05, 0.3\n",
        "    padding = 0.12\n",
        "    small_width = 0.2\n",
        "    left_space = left + small_width + padding\n",
        "    small_padding = 0.05\n",
        "\n",
        "    fig = plt.figure(figsize=(10, 9))\n",
        "\n",
        "    rect_prior = [left, bottom + height + padding, small_width, height]\n",
        "    rect_likelihood = [left_space , bottom + height + padding , width, height]\n",
        "    rect_posterior = [left_space + width + small_padding, bottom + height + padding , small_width, height]\n",
        "\n",
        "    rect_utility = [padding, bottom, width, height]\n",
        "    rect_expected = [padding + width + padding + left, bottom, width, height]\n",
        "\n",
        "    ax_likelihood = fig.add_axes(rect_likelihood)\n",
        "    ax_prior = fig.add_axes(rect_prior, sharey=ax_likelihood)\n",
        "    ax_posterior = fig.add_axes(rect_posterior, sharey=ax_likelihood)\n",
        "    ax_utility = fig.add_axes(rect_utility)\n",
        "    ax_expected = fig.add_axes(rect_expected)\n",
        "\n",
        "    prior_colormap = plt.cm.Blues\n",
        "    posterior_colormap = plt.cm.Greens\n",
        "    expected_colormap = plt.cm.Wistia\n",
        "\n",
        "    # Show posterior probs and marginals\n",
        "    ax_prior.barh(0, prior[0], facecolor = prior_colormap(prior[0]))\n",
        "    ax_prior.barh(1, prior[1], facecolor = prior_colormap(prior[1]))\n",
        "    ax_likelihood.matshow(likelihood, vmin=0., vmax=1., cmap='Reds')\n",
        "    ax_posterior.barh(0, posterior[0], facecolor = posterior_colormap(posterior[0]))\n",
        "    ax_posterior.barh(1, posterior[1], facecolor = posterior_colormap(posterior[1]))\n",
        "    ax_utility.matshow(utility, vmin=0., vmax=1., cmap='cool')\n",
        "    # ax_expected.matshow(expected, vmin=0., vmax=1., cmap='Wistia')\n",
        "    ax_expected.bar(0, expected[0], facecolor = expected_colormap(expected[0]))\n",
        "    ax_expected.bar(1, expected[1], facecolor = expected_colormap(expected[1]))\n",
        "\n",
        "    # Probabilities plot details\n",
        "    ax_prior.set(xlim = [1, 0], yticks = [0, 1], yticklabels = ['left', 'right'],\n",
        "                 title = \"Prior p(s)\", xticks = [])\n",
        "    ax_prior.yaxis.tick_right()\n",
        "    ax_prior.spines['left'].set_visible(False)\n",
        "    ax_prior.spines['bottom'].set_visible(False)\n",
        "\n",
        "    # Likelihood plot details\n",
        "    ax_likelihood.set(xticks = [0, 1], xticklabels = ['fish', 'no fish'],\n",
        "                  yticks = [0, 1], yticklabels = ['left', 'right'],\n",
        "                   ylabel = 'state (s)', xlabel = 'measurement (m)',\n",
        "                   title = 'Likelihood p(m | s)')\n",
        "    ax_likelihood.xaxis.set_ticks_position('bottom')\n",
        "    ax_likelihood.spines['left'].set_visible(False)\n",
        "    ax_likelihood.spines['bottom'].set_visible(False)\n",
        "\n",
        "    # Posterior plot details\n",
        "    ax_posterior.set(xlim = [0, 1], xticks = [], yticks = [0, 1],\n",
        "                     yticklabels = ['left', 'right'], title = \"Posterior p(s | m)\")\n",
        "    ax_posterior.spines['left'].set_visible(False)\n",
        "    ax_posterior.spines['bottom'].set_visible(False)\n",
        "\n",
        "    # Utility plot details\n",
        "    ax_utility.set(xticks = [0, 1], xticklabels = ['left', 'right'],\n",
        "                   xlabel = 'action (a)', yticks = [0, 1], yticklabels = ['left', 'right'],\n",
        "                   title = 'Utility', ylabel = 'state (s)')\n",
        "    ax_utility.xaxis.set_ticks_position('bottom')\n",
        "    ax_utility.spines['left'].set_visible(False)\n",
        "    ax_utility.spines['bottom'].set_visible(False)\n",
        "\n",
        "    # Expected Utility plot details\n",
        "    ax_expected.set(ylim = [-2, 2], xticks = [0, 1], xticklabels = ['left', 'right'],\n",
        "                 xlabel = 'action (a)', title = 'Expected utility', yticks=[])\n",
        "    # ax_expected.axis('off')\n",
        "    ax_expected.spines['left'].set_visible(False)\n",
        "    # ax_expected.set(xticks = [0, 1], xticklabels = ['left', 'right'],\n",
        "    #                 xlabel = 'action (a)',\n",
        "    #                title = 'Expected utility')\n",
        "    # ax_expected.xaxis.set_ticks_position('bottom')\n",
        "    # ax_expected.spines['left'].set_visible(False)\n",
        "    # ax_expected.spines['bottom'].set_visible(False)\n",
        "\n",
        "    # show values\n",
        "    ind = np.arange(2)\n",
        "    x,y = np.meshgrid(ind,ind)\n",
        "    for i in ind:\n",
        "        v = posterior[i]\n",
        "        c = f\"{v:.2f}\"\n",
        "        ax_posterior.text(v+0.2, i, c, va='center', ha='center', color='black')\n",
        "    for i,j in zip(x.flatten(), y.flatten()):\n",
        "        c = f\"{likelihood[i,j]:.2f}\"\n",
        "        ax_likelihood.text(j,i, c, va='center', ha='center', color='black')\n",
        "    for i,j in zip(x.flatten(), y.flatten()):\n",
        "        c = f\"{utility[i,j]:.2f}\"\n",
        "        ax_utility.text(j,i, c, va='center', ha='center', color='black')\n",
        "    # for i,j in zip(x.flatten(), y.flatten()):\n",
        "    #     c = f\"{expected[i,j]:.2f}\"\n",
        "    #     ax_expected.text(j,i, c, va='center', ha='center', color='black')\n",
        "    for i in ind:\n",
        "        v = prior[i]\n",
        "        c = f\"{v:.2f}\"\n",
        "        ax_prior.text(v+0.2, i, c, va='center', ha='center', color='black')\n",
        "    for i in ind:\n",
        "        v = expected[i]\n",
        "        c = f\"{v:.2f}\"\n",
        "        ax_expected.text(i, v, c, va='center', ha='center', color='black')\n",
        "\n",
        "    # # show values\n",
        "    # ind = np.arange(2)\n",
        "    # x,y = np.meshgrid(ind,ind)\n",
        "    # for i,j in zip(x.flatten(), y.flatten()):\n",
        "    #     c = f\"{P[i,j]:.2f}\"\n",
        "    #     ax.text(j,i, c, va='center', ha='center', color='white')\n",
        "    # for i in ind:\n",
        "    #     v = marginal_x[i]\n",
        "    #     c = f\"{v:.2f}\"\n",
        "    #     ax_x.text(i, v +0.2, c, va='center', ha='center', color='black')\n",
        "    #     v = marginal_y[i]\n",
        "    #     c = f\"{v:.2f}\"\n",
        "    #     ax_y.text(v+0.2, i, c, va='center', ha='center', color='black')\n",
        "\n",
        "    return fig"
      ],
      "execution_count": 4,
      "outputs": []
    },
    {
      "cell_type": "code",
      "metadata": {
        "cellView": "form",
        "execution": {
          "iopub.execute_input": "2021-06-25T15:15:26.909876Z",
          "iopub.status.busy": "2021-06-25T15:15:26.909310Z",
          "iopub.status.idle": "2021-06-25T15:15:26.913133Z",
          "shell.execute_reply": "2021-06-25T15:15:26.912415Z"
        },
        "id": "AdmiGVhrt0B_"
      },
      "source": [
        "# @title Helper Functions\n",
        "\n",
        "def compute_marginal(px, py, cor):\n",
        "    # calculate 2x2 joint probabilities given marginals p(x=1), p(y=1) and correlation\n",
        "    p11 = px*py + cor*np.sqrt(px*py*(1-px)*(1-py))\n",
        "    p01 = px - p11\n",
        "    p10 = py - p11\n",
        "    p00 = 1.0 - p11 - p01 - p10\n",
        "    return np.asarray([[p00, p01], [p10, p11]])\n",
        "# test\n",
        "# print(compute_marginal(0.4, 0.6, -0.8))\n",
        "\n",
        "\n",
        "def compute_cor_range(px,py):\n",
        "    # Calculate the allowed range of correlation values given marginals p(x=1) and p(y=1)\n",
        "    def p11(corr):\n",
        "        return px*py + corr*np.sqrt(px*py*(1-px)*(1-py))\n",
        "    def p01(corr):\n",
        "        return px - p11(corr)\n",
        "    def p10(corr):\n",
        "        return py - p11(corr)\n",
        "    def p00(corr):\n",
        "        return 1.0 - p11(corr) - p01(corr) - p10(corr)\n",
        "    Cmax = min(fsolve(p01, 0.0), fsolve(p10, 0.0))\n",
        "    Cmin = max(fsolve(p11, 0.0), fsolve(p00, 0.0))\n",
        "    return Cmin, Cmax"
      ],
      "execution_count": 5,
      "outputs": []
    },
    {
      "cell_type": "markdown",
      "metadata": {
        "id": "J1iz2eNOt0B_"
      },
      "source": [
        "---\n",
        "# Section 1: Gone Fishin'\n"
      ]
    },
    {
      "cell_type": "code",
      "metadata": {
        "cellView": "form",
        "execution": {
          "iopub.execute_input": "2021-06-25T15:15:26.924621Z",
          "iopub.status.busy": "2021-06-25T15:15:26.924066Z",
          "iopub.status.idle": "2021-06-25T15:15:27.002207Z",
          "shell.execute_reply": "2021-06-25T15:15:27.001495Z"
        },
        "id": "5_-YYorlt0B_",
        "colab": {
          "base_uri": "https://localhost:8080/",
          "height": 580,
          "referenced_widgets": [
            "7bd4a1843ee14979b1f84ac6da63f694",
            "38b367d527874719bc60150bb3eaaf55",
            "a446d09cb74b4fb7a33911c48d61a203",
            "21229fb69ab244d9804dc2f349673d3f",
            "ba6888e044544ef69cc1e7aae6423363",
            "77694dfd8d3c4e0d950ffe7e1ee71e8c"
          ]
        },
        "outputId": "c7a151a9-a439-43c1-dbc6-ba09b2700c48"
      },
      "source": [
        "# @title Video 2: Gone Fishin'\n",
        "from ipywidgets import widgets\n",
        "\n",
        "out2 = widgets.Output()\n",
        "with out2:\n",
        "  from IPython.display import IFrame\n",
        "  class BiliVideo(IFrame):\n",
        "      def __init__(self, id, page=1, width=400, height=300, **kwargs):\n",
        "          self.id=id\n",
        "          src = 'https://player.bilibili.com/player.html?bvid={0}&page={1}'.format(id, page)\n",
        "          super(BiliVideo, self).__init__(src, width, height, **kwargs)\n",
        "\n",
        "  video = BiliVideo(id=\"\", width=854, height=480, fs=1)\n",
        "  print('Video available at https://www.bilibili.com/video/{0}'.format(video.id))\n",
        "  display(video)\n",
        "\n",
        "out1 = widgets.Output()\n",
        "with out1:\n",
        "  from IPython.display import YouTubeVideo\n",
        "  video = YouTubeVideo(id=\"McALsTzb494\", width=854, height=480, fs=1, rel=0)\n",
        "  print('Video available at https://youtube.com/watch?v=' + video.id)\n",
        "  display(video)\n",
        "\n",
        "out = widgets.Tab([out1, out2])\n",
        "out.set_title(0, 'Youtube')\n",
        "out.set_title(1, 'Bilibili')\n",
        "\n",
        "display(out)"
      ],
      "execution_count": 6,
      "outputs": [
        {
          "output_type": "display_data",
          "data": {
            "application/vnd.jupyter.widget-view+json": {
              "model_id": "7bd4a1843ee14979b1f84ac6da63f694",
              "version_minor": 0,
              "version_major": 2
            },
            "text/plain": [
              "Tab(children=(Output(), Output()), _titles={'0': 'Youtube', '1': 'Bilibili'})"
            ]
          },
          "metadata": {
            "tags": []
          }
        }
      ]
    },
    {
      "cell_type": "markdown",
      "metadata": {
        "id": "TsgTLr20t0CA"
      },
      "source": [
        "<details>\n",
        "<summary> <font color=‘blue’>Click here for text recap of video </font></summary>\n",
        "You were just introduced to the **binary hidden state problem** we are going to explore. You need to decide which side to fish on--the hidden state. We know fish like to school together. On different days the school of fish is either on the left or right side, but we don’t know what the case is today. We define our knowledge about the fish location as a distribution over the random hidden state variable. Using our probabilistic knowledge, also called our **belief** about the hidden state, we will explore how to make the decision about where to fish today, based on what to expect in terms of gains or losses for the decision.\n",
        "The gains and losss are defined by the utility of choosing an action, which is fishing on the left or right. The details of the utilities are described \n",
        "</details>\n",
        "\n",
        "In the next two sections we will consider just the probability of where the fish might be and what you gain or lose by choosing where to fish.\n",
        "\n",
        "Remember, you can either think of your self as a scientist conducting an experiment or as a brain trying to make a decision. The Bayesian approach is the same!\n"
      ]
    },
    {
      "cell_type": "markdown",
      "metadata": {
        "id": "PGs2lr8_t0CA"
      },
      "source": [
        "---\n",
        "# Section 2: Deciding where to fish \n",
        "\n"
      ]
    },
    {
      "cell_type": "code",
      "metadata": {
        "cellView": "form",
        "execution": {
          "iopub.execute_input": "2021-06-25T15:15:27.027109Z",
          "iopub.status.busy": "2021-06-25T15:15:27.026597Z",
          "iopub.status.idle": "2021-06-25T15:15:27.095976Z",
          "shell.execute_reply": "2021-06-25T15:15:27.095432Z"
        },
        "id": "p_Q8_7Jrt0CB",
        "colab": {
          "base_uri": "https://localhost:8080/",
          "height": 580,
          "referenced_widgets": [
            "9a258530d14f4d78b902d77100143626",
            "276282b2a53645368489a1052c1f7bd2",
            "14c3e84123354f45afadd9a18e844047",
            "530d0957b4f64f82965a93d8fc5adabf",
            "5f99cddf64e1470b810f44cf118f53de",
            "da81dc0fe40b4ce887bfce1b5ffb5f86"
          ]
        },
        "outputId": "df99771b-09ec-4e34-a0d7-375d7b19160a"
      },
      "source": [
        "# @title Video 3: Utility\n",
        "from ipywidgets import widgets\n",
        "\n",
        "out2 = widgets.Output()\n",
        "with out2:\n",
        "  from IPython.display import IFrame\n",
        "  class BiliVideo(IFrame):\n",
        "      def __init__(self, id, page=1, width=400, height=300, **kwargs):\n",
        "          self.id=id\n",
        "          src = 'https://player.bilibili.com/player.html?bvid={0}&page={1}'.format(id, page)\n",
        "          super(BiliVideo, self).__init__(src, width, height, **kwargs)\n",
        "\n",
        "  video = BiliVideo(id=\"\", width=854, height=480, fs=1)\n",
        "  print('Video available at https://www.bilibili.com/video/{0}'.format(video.id))\n",
        "  display(video)\n",
        "\n",
        "out1 = widgets.Output()\n",
        "with out1:\n",
        "  from IPython.display import YouTubeVideo\n",
        "  video = YouTubeVideo(id=\"xvIVZrqF_5s\", width=854, height=480, fs=1, rel=0)\n",
        "  print('Video available at https://youtube.com/watch?v=' + video.id)\n",
        "  display(video)\n",
        "\n",
        "out = widgets.Tab([out1, out2])\n",
        "out.set_title(0, 'Youtube')\n",
        "out.set_title(1, 'Bilibili')\n",
        "\n",
        "display(out)"
      ],
      "execution_count": 7,
      "outputs": [
        {
          "output_type": "display_data",
          "data": {
            "application/vnd.jupyter.widget-view+json": {
              "model_id": "9a258530d14f4d78b902d77100143626",
              "version_minor": 0,
              "version_major": 2
            },
            "text/plain": [
              "Tab(children=(Output(), Output()), _titles={'0': 'Youtube', '1': 'Bilibili'})"
            ]
          },
          "metadata": {
            "tags": []
          }
        }
      ]
    },
    {
      "cell_type": "markdown",
      "metadata": {
        "id": "rCDm6hjxt0CB"
      },
      "source": [
        "<details>\n",
        "<summary> <font color=‘blue’>Click here for text recap of video </font></summary>\n",
        "You need to decide where to fish. It may seem obvious - you could just fish on the side where the probability of the fish being is higher! Unfortunately, decisions and actions are always a little more complicated. Deciding to fish may be influenced by more than just the probability of the school of fish being there as we saw by the potential issues of submarines and sunburn. The consequences of the action you take is based on the true (but hidden) state of the world and the action you choose! In our example, fishing on the wrong side, where there aren't many fish, is likely to lead to you spending your afternoon not catching fish and therefor getting a sunburn. The submarine represents a risk to fishing on the right side that is greater than the left side. If you want to know what to expect from taking the action of fishing on one side or the other, you need to calculate the expected utility.\n",
        "</details>\n",
        "\n",
        "You know the (prior) probability that the school of fish is on the left side of the dock today, $P(s = left)$. So, you also know the probability the school is on the right, $P(s = right)$, because these two probabilities must add up to 1.\n",
        "\n",
        "We quantify gains and losses numerically using a **utility** function $U(s,a)$, which describes the consequences of your actions: how much value you gain (or if negative, lose) given the state of the world ($s$) and the action you take ($a$). In our example, our utility can be summarized as:\n",
        "\n",
        "| Utility: U(s,a)   | a = left   | a = right  |\n",
        "| ----------------- |------------|------------|\n",
        "| s = Left          | +2         | -3         |\n",
        "| s = right         | -2         | +1         |\n",
        "\n",
        "To use possible gains and losses to choose an action, we calculate the **expected utility** of that action by weighing these utilities with the probability of that state occuring. This allows us to choose actions by taking probabilities of events into account: we don't care if the outcome of an action-state pair is a loss if the probability of that state is very low. We can formalize this as:\n",
        "\n",
        "$$ \\text{Expected utility of action a} = \\sum_{s}U(s,a)P(s) $$\n",
        "\n",
        "In other words, the expected utility of an action a is the sum over possible states of the utility of that action and state times the probability of that state.\n"
      ]
    },
    {
      "cell_type": "markdown",
      "metadata": {
        "id": "O_sMqk8Vt0CB"
      },
      "source": [
        "## Interactive Demo 2: Exploring the decision\n",
        "\n",
        "Let's start to get a sense of how all this works using the interactive demo below. You can change the probability that the school of fish is on the left side ($p(s = left)$ using the slider. You will see the utility function (a matrix) in the middle and the corresponding expected utility for each action on the right.\n",
        "\n",
        "First, make sure you understand how the expected utility of each action is being computed from the probabilities and the utility values. In the initial state: the probability of the fish being on the left is 0.9 and on the right is 0.1. The expected utility of the action of fishing on the left is then $U(s = left,a = left)p(s = left) + U(s = right,a = left)p(s = right) = 2(0.9) + -2(0.1) = 1.6$.\n",
        "\n",
        "For each of these scenarios, think and discuss first. Then use the demo to try out each and see if your action would have been correct (that is, if the expected value of that action is the highest).\n",
        "\n",
        "\n",
        "1.  You just arrived at the dock for the first time and have no sense of where the fish might be. So you guess that the probability of the school being on the left side is 0.5 (so the probability on the right side is also 0.5). Which side would you choose to fish on given our utility values?\n",
        "2.  You think that the probability of the school being on the left side is very low (0.1) and correspondingly high on the right side (0.9). Which side would you choose to fish on given our utility values?\n",
        "3.  What would you choose if the probability of the school being on the left side is slightly lower than on the right side (0. 4 vs 0.6)?"
      ]
    },
    {
      "cell_type": "code",
      "metadata": {
        "execution": {
          "iopub.execute_input": "2021-06-25T15:15:27.125816Z",
          "iopub.status.busy": "2021-06-25T15:15:27.125160Z",
          "iopub.status.idle": "2021-06-25T15:15:27.363022Z",
          "shell.execute_reply": "2021-06-25T15:15:27.362492Z"
        },
        "id": "cZuvdPCit0CC",
        "colab": {
          "base_uri": "https://localhost:8080/",
          "height": 326,
          "referenced_widgets": [
            "1a3a5170ff4e4643a90c538f666bbb6b",
            "c002361a7a134f66bfbd464b7afc7f06",
            "836247a480dc4c49bc4ed1c5070b0c2e",
            "5ca1e2ee303e44bb98cdcf5bf0a48e84",
            "e28be31720954fa39de264da509ed01b",
            "1ae4c2b0530543e9926c482d6b37ec47",
            "2f260d7cdbb945d287f1f7988e4f5764"
          ]
        },
        "cellView": "form",
        "outputId": "72fc2f40-7e28-494f-9f91-55e3b6d3e9fd"
      },
      "source": [
        "# @markdown Execute this cell to use the widget\n",
        "ps_widget = widgets.FloatSlider(0.9, description='p(s = left)', min=0.0, max=1.0, step=0.01)\n",
        "\n",
        "@widgets.interact(\n",
        "    ps = ps_widget,\n",
        ")\n",
        "def make_utility_plot(ps):\n",
        "    fig = plot_utility(ps)\n",
        "    plt.show(fig)\n",
        "    plt.close(fig)\n",
        "    return None"
      ],
      "execution_count": 8,
      "outputs": [
        {
          "output_type": "display_data",
          "data": {
            "application/vnd.jupyter.widget-view+json": {
              "model_id": "1a3a5170ff4e4643a90c538f666bbb6b",
              "version_minor": 0,
              "version_major": 2
            },
            "text/plain": [
              "interactive(children=(FloatSlider(value=0.9, description='p(s = left)', max=1.0, step=0.01), Output()), _dom_c…"
            ]
          },
          "metadata": {
            "tags": []
          }
        }
      ]
    },
    {
      "cell_type": "code",
      "metadata": {
        "execution": {
          "iopub.execute_input": "2021-06-25T15:15:27.368248Z",
          "iopub.status.busy": "2021-06-25T15:15:27.367081Z",
          "iopub.status.idle": "2021-06-25T15:15:27.368872Z",
          "shell.execute_reply": "2021-06-25T15:15:27.369319Z"
        },
        "id": "WT5uV0pXt0CC"
      },
      "source": [
        "# to_remove explanation\n",
        "\n",
        "# 1)  With equal probabilities, the expected utility is higher on the left side,\n",
        "#    since that is the side without submarines, so you would choose to fish there.\n",
        "\n",
        "# 2)  If the probability that the fish is on the right side is high, you would\n",
        "#     choose to fish there. The high probability of fish being on the right far outweights\n",
        "#    the slightly higher utilities from fishing on the left (as you are unlikely to gain these)\n",
        "\n",
        "# 3)  If the probability that the fish is on the right side is just slightly higher\n",
        "#.    than on the left, you would choose the left side as the expected utility is still\n",
        "#.    higher on the left. Note that in this situation, you are not simply choosing the\n",
        "#.    side with the higher probability - the utility really matters here for the decision"
      ],
      "execution_count": 9,
      "outputs": []
    },
    {
      "cell_type": "markdown",
      "metadata": {
        "id": "ktZnlrodt0CC"
      },
      "source": [
        "In this section, you have seen that both the utility of various state and action pairs and our knowledge of the probability of each state affects your decision. Importantly, we want our knowledge of the probability of each state to be as accurate as possible! \n",
        "\n",
        "So how do we know these probabilities? We may have prior knowledge from years of fishing at the same dock, learning that the fish are more likely to be on the left side, for example. Of course, we need to update our knowledge (our belief)! To do this, we need to collect more information, or take some measurements! In the next few sections, we will focus on how we improve our knowledge of the probabilities."
      ]
    },
    {
      "cell_type": "markdown",
      "metadata": {
        "id": "mBtiCxk_t0CC"
      },
      "source": [
        "---\n",
        "# Section 3: Likelihood of the fish being on either side\n",
        " \n"
      ]
    },
    {
      "cell_type": "code",
      "metadata": {
        "cellView": "form",
        "execution": {
          "iopub.execute_input": "2021-06-25T15:15:27.382108Z",
          "iopub.status.busy": "2021-06-25T15:15:27.380574Z",
          "iopub.status.idle": "2021-06-25T15:15:27.447741Z",
          "shell.execute_reply": "2021-06-25T15:15:27.448200Z"
        },
        "id": "pOrap36Ht0CD",
        "colab": {
          "base_uri": "https://localhost:8080/",
          "height": 580,
          "referenced_widgets": [
            "44bac909906541eebb3959c5dc64d445",
            "4a2876cfbb334870b4d46b9188c51899",
            "7afaaafdd2e046f0bf09fe9f6f08bace",
            "cc9da5c9a15c4d60a46392908671fd4d",
            "d97915ad9db74ee7afb3965b628c002f",
            "7fa0c156be8649b2ab4fe68232823730"
          ]
        },
        "outputId": "e1f858f8-4512-4eb9-fb83-2010078d7940"
      },
      "source": [
        "# @title Video 4: Likelihood\n",
        "from ipywidgets import widgets\n",
        "\n",
        "out2 = widgets.Output()\n",
        "with out2:\n",
        "  from IPython.display import IFrame\n",
        "  class BiliVideo(IFrame):\n",
        "      def __init__(self, id, page=1, width=400, height=300, **kwargs):\n",
        "          self.id=id\n",
        "          src = 'https://player.bilibili.com/player.html?bvid={0}&page={1}'.format(id, page)\n",
        "          super(BiliVideo, self).__init__(src, width, height, **kwargs)\n",
        "\n",
        "  video = BiliVideo(id=\"\", width=854, height=480, fs=1)\n",
        "  print('Video available at https://www.bilibili.com/video/{0}'.format(video.id))\n",
        "  display(video)\n",
        "\n",
        "out1 = widgets.Output()\n",
        "with out1:\n",
        "  from IPython.display import YouTubeVideo\n",
        "  video = YouTubeVideo(id=\"l4m0JzMWGio\", width=854, height=480, fs=1, rel=0)\n",
        "  print('Video available at https://youtube.com/watch?v=' + video.id)\n",
        "  display(video)\n",
        "\n",
        "out = widgets.Tab([out1, out2])\n",
        "out.set_title(0, 'Youtube')\n",
        "out.set_title(1, 'Bilibili')\n",
        "\n",
        "display(out)"
      ],
      "execution_count": 10,
      "outputs": [
        {
          "output_type": "display_data",
          "data": {
            "application/vnd.jupyter.widget-view+json": {
              "model_id": "44bac909906541eebb3959c5dc64d445",
              "version_minor": 0,
              "version_major": 2
            },
            "text/plain": [
              "Tab(children=(Output(), Output()), _titles={'0': 'Youtube', '1': 'Bilibili'})"
            ]
          },
          "metadata": {
            "tags": []
          }
        }
      ]
    },
    {
      "cell_type": "markdown",
      "metadata": {
        "id": "vi-Imgynt0CD"
      },
      "source": [
        "<details>\n",
        "<summary> <font color=‘blue’>Click here for text recap of video </font></summary>\n",
        "First, we'll think about what it means to take a measurement (also often called an observation or just data) and what it tells you about what the hidden state may be. Specifically, we'll be looking at the **likelihood**, which is the probability of your measurement ($m$) given the hidden state ($s$): $P(m | s)$. Remember that in this case, the hidden state is which side of the dock the school of fish is on.\n",
        "We will watch someone fish (for let's say 10 minutes) and our measurement is whether they catch a fish or not. We know something about what catching a fish means for the likelihood of the fish being on one side or the other.\n",
        "</details>"
      ]
    },
    {
      "cell_type": "markdown",
      "metadata": {
        "id": "mxO9yvNNt0CD"
      },
      "source": [
        "## Think! 3: Guessing the location of the fish\n",
        "\n",
        "Let's say we go to different dock to fish. Here, there are different probabilities of catching fish given the state of the world. At this dock, if you fish on the side of the dock where the fish are, you have a 70% chance of catching a fish. If you fish on the wrong side, you will only catch a fish with only 20% probability. These are the likelihoods of observing someone catching a fish! That is, you are taking a measurement by seeing if someone else catches a fish!\n",
        "\n",
        "You see a fisherperson is fishing on the left side.\n",
        "\n",
        "1) Please calculate each of the following (best to each do the math and then compare your answers and dsicuss!):\n",
        "- probability of catching a fish given that the school of fish is on the left side, $P(m = catch\\text{ } fish | s = left )$\n",
        "- probability of not catching a fish given that the school of fish is on the left side, $P(m = no \\text{ } fish | s = left)$\n",
        "- probability of catching a fish given that the school of fish is on the right side, $P(m = catch  \\text{ } fish | s = right)$\n",
        "- probability of not catching a fish given that the school of fish is on the right side, $P(m = no \\text{ } fish | s = right)$\n",
        "\n",
        "2) If the fisherperson catches a fish, which side would you guess the school is on? Why?\n",
        "\n",
        "3) If the fisherperson does not catch a fish, which side would you guess the school is on? Why?\n"
      ]
    },
    {
      "cell_type": "code",
      "metadata": {
        "execution": {
          "iopub.execute_input": "2021-06-25T15:15:27.459236Z",
          "iopub.status.busy": "2021-06-25T15:15:27.458560Z",
          "iopub.status.idle": "2021-06-25T15:15:27.460258Z",
          "shell.execute_reply": "2021-06-25T15:15:27.459756Z"
        },
        "id": "K5XXQwDkt0CE"
      },
      "source": [
        "#to_remove explanation\n",
        "\n",
        "# 1) The fisherperson is on the left side so:\n",
        "#       - P(m = catch fish | s = left) = 0.7 because they have a 70% chance of catching\n",
        "#         a fish when on the same side as the school\n",
        "#       - P(m = no fish | s = left) = 0.3 because the probability of catching a fish\n",
        "#         and not catching a fish for a given state must add up to 1 as these\n",
        "#         are the only options: 1 - 0.7 = 0.3\n",
        "#       - P(m = catch fish | s = right) = 0.2\n",
        "#       - P(m = no fish | s = right) = 0.8\n",
        "\n",
        "# 2) If the fisherperson catches a fish, you would guess the school of fish is on the\n",
        "#     left side. This is because the probability of catching a fish given that the\n",
        "#    school is on the left side (0.7) is higher than the probability given that\n",
        "#    the school is on the right side (0.2).\n",
        "\n",
        "# 3) If the fisherperson does not catch a fish, you would guess the school of fish is on the\n",
        "#     right side. This is because the probability of not catching a fish given that the\n",
        "#    school is on the right side (0.8) is higher than the probability given that\n",
        "#    the school is on the right side (0.3)."
      ],
      "execution_count": 11,
      "outputs": []
    },
    {
      "cell_type": "markdown",
      "metadata": {
        "id": "1iRT1vMAt0CE"
      },
      "source": [
        "In the prior exercise, you tried to guess where the school of fish was based on the measurement you took (watching someone fish). You did this by choosing the state (side where you think the fish are) that maximized the probability of the measurement. In other words, you estimated the state by maximizing the likelihood (the side with the highest probability of measurement given state $P(m|s$)). This is called maximum likelihood estimation (MLE) and you've encountered it before during this course, in W1D3!\n",
        "\n",
        "But, what if you had been going to this dock for years and you knew that the fish were almost always on the left side? This should probably affect how you make your estimate -- you would rely less on the single new measurement and more on your prior knowledge. This is the fundemental idea behind Bayesian inference, as we will see later in this tutorial!"
      ]
    },
    {
      "cell_type": "markdown",
      "metadata": {
        "id": "-AqVdGw8t0CE"
      },
      "source": [
        "---\n",
        "# Section 4: Correlation and marginalization\n"
      ]
    },
    {
      "cell_type": "code",
      "metadata": {
        "cellView": "form",
        "execution": {
          "iopub.execute_input": "2021-06-25T15:15:27.507590Z",
          "iopub.status.busy": "2021-06-25T15:15:27.505019Z",
          "iopub.status.idle": "2021-06-25T15:15:27.573883Z",
          "shell.execute_reply": "2021-06-25T15:15:27.572166Z"
        },
        "id": "zBD5Lig6t0CE",
        "colab": {
          "base_uri": "https://localhost:8080/",
          "height": 580,
          "referenced_widgets": [
            "109c5251fa9749a49aaa29cc4e65194a",
            "bdffe55f124e44ce8649181beba7cbde",
            "19b28f3d78b74cdd921df54fbeec2914",
            "97736cf7d8b54e75be6b5efd143203a5",
            "cd768cdf15eb471c95f9c176da2c4979",
            "5911241237b9436a89de9cadabeed77d"
          ]
        },
        "outputId": "8a37f3e1-2847-4ae1-9b5d-d3bc064f3a7f"
      },
      "source": [
        "# @title Video 5: Correlation and marginalization\n",
        "from ipywidgets import widgets\n",
        "\n",
        "out2 = widgets.Output()\n",
        "with out2:\n",
        "  from IPython.display import IFrame\n",
        "  class BiliVideo(IFrame):\n",
        "      def __init__(self, id, page=1, width=400, height=300, **kwargs):\n",
        "          self.id=id\n",
        "          src = 'https://player.bilibili.com/player.html?bvid={0}&page={1}'.format(id, page)\n",
        "          super(BiliVideo, self).__init__(src, width, height, **kwargs)\n",
        "\n",
        "  video = BiliVideo(id=\"\", width=854, height=480, fs=1)\n",
        "  print('Video available at https://www.bilibili.com/video/{0}'.format(video.id))\n",
        "  display(video)\n",
        "\n",
        "out1 = widgets.Output()\n",
        "with out1:\n",
        "  from IPython.display import YouTubeVideo\n",
        "  video = YouTubeVideo(id=\"vsDjtWi-BVo\", width=854, height=480, fs=1, rel=0)\n",
        "  print('Video available at https://youtube.com/watch?v=' + video.id)\n",
        "  display(video)\n",
        "\n",
        "out = widgets.Tab([out1, out2])\n",
        "out.set_title(0, 'Youtube')\n",
        "out.set_title(1, 'Bilibili')\n",
        "\n",
        "display(out)"
      ],
      "execution_count": 12,
      "outputs": [
        {
          "output_type": "display_data",
          "data": {
            "application/vnd.jupyter.widget-view+json": {
              "model_id": "109c5251fa9749a49aaa29cc4e65194a",
              "version_minor": 0,
              "version_major": 2
            },
            "text/plain": [
              "Tab(children=(Output(), Output()), _titles={'0': 'Youtube', '1': 'Bilibili'})"
            ]
          },
          "metadata": {
            "tags": []
          }
        }
      ]
    },
    {
      "cell_type": "markdown",
      "metadata": {
        "id": "U04XPRUGt0CF"
      },
      "source": [
        "<details>\n",
        "<summary> <font color=‘blue’>Click here for text recap of video </font></summary>\n",
        "In this section, we are going to take a step back for a bit and think more generally about the amount of information shared between two random variables. We want to know how much information you gain when you observe one variable (take a measurement) if you know something about another. We will see that the fundamental concept is the same if we think about two attributes, for example the size and color of the fish, or the prior information and the likelihood.\n",
        "</details>"
      ]
    },
    {
      "cell_type": "markdown",
      "metadata": {
        "id": "t-p0yibst0CF"
      },
      "source": [
        "## Math Exercise 4: Computing marginal likelihoods\n",
        "\n",
        "To understand the information between two variables, let's first consider the size and color of the fish.\n",
        "\n",
        "| P(X, Y)   | Y = silver   | Y = gold  |\n",
        "| ----------------- |----------|----------|\n",
        "| X = small          | 0.4          | 0.2         |\n",
        "| X = large         | 0.1         |  0.3         |\n",
        "\n",
        "The table above shows us the **joint probabilities**: the probability of both specific attributes occuring together. For example, the probability of a fish being small and silver ($P(X = small, Y = silver$) is 0.4.\n",
        "\n",
        "We want to know what the probability of a fish being small  regardless of color. Since the fish are either silver or gold, this would be the probability of a fish being small and silver plus the probability of a fish being small and gold. This is an example of marginalizing, or averaging out, the variable we are not interested in across the rows or columns.. In math speak: $P(X = small) = \\sum_y{P(X = small, Y)}$. This gives us a **marginal probability**, a probability of a variable outcome (in this case size), regardless of the other variables (in this case color).\n",
        "\n",
        "Please complete the following math problems to further practice thinking through probabilities:\n",
        "\n",
        "1. Calculate the probability of a fish being silver.\n",
        "2. Calculate the probability of a fish being small, large, silver, or gold.\n",
        "3. Calculate the probability of a fish being small OR gold. (Hint: $P(A\\ \\textrm{or}\\ B) = P(A) + P(B) - P(A\\ \\textrm{and}\\ B)$)\n",
        "\n",
        "\n"
      ]
    },
    {
      "cell_type": "code",
      "metadata": {
        "execution": {
          "iopub.execute_input": "2021-06-25T15:15:27.584366Z",
          "iopub.status.busy": "2021-06-25T15:15:27.583666Z",
          "iopub.status.idle": "2021-06-25T15:15:27.585405Z",
          "shell.execute_reply": "2021-06-25T15:15:27.584927Z"
        },
        "id": "0qxKQtCit0CF"
      },
      "source": [
        "# to_remove explanation\n",
        "\n",
        "# 1) The probability of a fish being silver is the joint probability of it being\n",
        "#.     small and silver plus the joint probability of it being large and silver:\n",
        "#\n",
        "#.    P(Y = silver) = P(X = small, Y = silver) + P(X = large, Y = silver)\n",
        "#.     = 0.4 + 0.1\n",
        "#.     = 0.5\n",
        "\n",
        "\n",
        "# 2) This is all the possibilities as in this scenario, our fish can only be small\n",
        "#.   or large, silver or gold. So the probability is 1 - the fish has to be at\n",
        "#.   least one of these.\n",
        "\n",
        "\n",
        "#. 3) First we compute the marginal probabilities\n",
        "#.  P(X = small) = P(X = small, Y = silver) + P(X = small, Y = gold) = 0.6\n",
        "#.  P(Y = gold) = P(X = small, Y = gold) + P(X = large, Y = gold) = 0.5\n",
        "#.   We already know the joint probability: P(X = small, Y = gold) = 0.2\n",
        "#.   We can now use the given formula:\n",
        "#.   P( X = small or Y = gold) = P(X = small) + P(Y = gold) - P(X = small, Y = gold)\n",
        "#.   = 0.6 + 0.5 - 0.2\n",
        "#.   = 0.9"
      ],
      "execution_count": 13,
      "outputs": []
    },
    {
      "cell_type": "markdown",
      "metadata": {
        "id": "vc1ZMSast0CG"
      },
      "source": [
        "## Think! 4: Covarying probability distributions\n",
        "\n",
        "The relationship between the marginal probabilities and the joint probabilities is determined by the correlation between the two random variables - a normalized measure of how much the variables covary. We can also think of this as gaining some information about one of the variables when we observe a measurement from the other. We will think about this more formally in Tutorial 2. \n",
        "\n",
        "Here, we want to think about how the correlation between size and color of these fish changes how much information we gain about one attribute based on the other. See Bonus Section 1 for the formula for correlation.\n",
        "\n",
        "Use the widget below and answer the following questions:\n",
        "\n",
        "1. When the correlation is zero, $\\rho = 0$, what does the distribution of size tell you about color?\n",
        "2. Set $\\rho$ to something small. As you change the probability of golden fish, what happens to the ratio of size probabilities? Set $\\rho$ larger (can be negative). Can you explain the pattern of changes in the probabilities of size as you change the probability of golden fish?\n",
        "3. Set the probability of golden fish and of large fish to around 65%. As the correlation goes towards 1, how often will you see silver large fish?\n",
        "4. What is increasing the (absolute) correlation telling you about how likely you are to see one of the properties if you see a fish with the other?\n"
      ]
    },
    {
      "cell_type": "code",
      "metadata": {
        "execution": {
          "iopub.execute_input": "2021-06-25T15:15:27.641822Z",
          "iopub.status.busy": "2021-06-25T15:15:27.640659Z",
          "iopub.status.idle": "2021-06-25T15:15:27.846348Z",
          "shell.execute_reply": "2021-06-25T15:15:27.845374Z"
        },
        "cellView": "form",
        "id": "duBubFnnt0CG",
        "colab": {
          "base_uri": "https://localhost:8080/",
          "height": 474,
          "referenced_widgets": [
            "7f05178942a24e44a7b79f78e040827c",
            "a66548b2351743f8ac96a596deb51954",
            "f18cff21ed9a4bba91c711efdbcc0381",
            "361f06cdf7324ca3938afb3628a5f18b",
            "0dca34625f4648278f0824f20ffaee60",
            "71feb5b558fb457da5aa49fff9ae4d8a",
            "29314848076f48dcb5fb8872da567618",
            "7020d5351a014afd9233a55325849316",
            "2b51c75f7b8d43b3ab85a391ffac2965",
            "a29ba8d77028471c9ff427c130605539",
            "2f2578a2e5d64cbba6dff07e3d935b7d",
            "f2af33998b8d474fad24a448754c0932",
            "95390f1639d543d7b7a6978c97f9791e"
          ]
        },
        "outputId": "c0474e3d-8e2c-4c55-9087-0c386618d44d"
      },
      "source": [
        "# @markdown Execute this cell to enable the widget\n",
        "style = {'description_width': 'initial'}\n",
        "gs = GridspecLayout(2,2)\n",
        "\n",
        "cor_widget = widgets.FloatSlider(0.0, description='ρ', min=-1, max=1, step=0.01)\n",
        "px_widget = widgets.FloatSlider(0.5, description='p(color=golden)', min=0.01, max=0.99, step=0.01, style=style)\n",
        "py_widget = widgets.FloatSlider(0.5, description='p(size=large)', min=0.01, max=0.99, step=0.01, style=style)\n",
        "gs[0,0] = cor_widget\n",
        "gs[0,1] = px_widget\n",
        "gs[1,0] = py_widget\n",
        "\n",
        "\n",
        "@widgets.interact(\n",
        "    px=px_widget,\n",
        "    py=py_widget,\n",
        "    cor=cor_widget,\n",
        ")\n",
        "def make_corr_plot(px, py, cor):\n",
        "    Cmin, Cmax = compute_cor_range(px, py) #allow correlation values\n",
        "    cor_widget.min, cor_widget.max = Cmin+0.01, Cmax-0.01\n",
        "    if cor_widget.value > Cmax:\n",
        "        cor_widget.value = Cmax\n",
        "    if cor_widget.value < Cmin:\n",
        "        cor_widget.value = Cmin\n",
        "    cor = cor_widget.value\n",
        "    P = compute_marginal(px,py,cor)\n",
        "    # print(P)\n",
        "    fig = plot_joint_probs(P)\n",
        "    plt.show(fig)\n",
        "    plt.close(fig)\n",
        "    return None\n",
        "\n",
        "# gs[1,1] = make_corr_plot()"
      ],
      "execution_count": 14,
      "outputs": [
        {
          "output_type": "display_data",
          "data": {
            "application/vnd.jupyter.widget-view+json": {
              "model_id": "7f05178942a24e44a7b79f78e040827c",
              "version_minor": 0,
              "version_major": 2
            },
            "text/plain": [
              "interactive(children=(FloatSlider(value=0.5, description='p(color=golden)', layout=Layout(grid_area='widget002…"
            ]
          },
          "metadata": {
            "tags": []
          }
        }
      ]
    },
    {
      "cell_type": "code",
      "metadata": {
        "execution": {
          "iopub.execute_input": "2021-06-25T15:15:27.850935Z",
          "iopub.status.busy": "2021-06-25T15:15:27.849827Z",
          "iopub.status.idle": "2021-06-25T15:15:27.851764Z",
          "shell.execute_reply": "2021-06-25T15:15:27.852245Z"
        },
        "id": "RDimmFKqt0CG"
      },
      "source": [
        "# to_remove explanation\n",
        "\n",
        "#' 1. When the correlation is zero, the two properties are completely independent.\n",
        "#' This means you don't gain any information about one variable from observing the other.\n",
        "#' Importantly, the marginal distribution of one variable is therefore independent of the other.\n",
        "\n",
        "#' 2. The correlation controls the distribution of probability across the joint probabilty table.\n",
        "#' The higher the correlation, the more the probabilities are restricted by the fact that both rows\n",
        "#' and columns need to sum to one! While the marginal probabilities show the relative weighting, the\n",
        "#' absolute probabilities for one quality will become more dependent on the other as the correlation\n",
        "#' goes to 1 or -1.\n",
        "\n",
        "#' 3. The correlation will control how much probabilty mass is located on the diagonals. As the\n",
        "#' correlation goes to 1 (or -1), the probability of seeing the one of the two pairings has to goes\n",
        "#' towards zero!\n",
        "\n",
        "#' 4. If we think about what information we gain by observing one quality, the intution from (3.) tells\n",
        "#' us that we know more (have more information) about the other quality as a function of the correlation."
      ],
      "execution_count": 15,
      "outputs": []
    },
    {
      "cell_type": "markdown",
      "metadata": {
        "id": "ZgbU7XWOt0CH"
      },
      "source": [
        "We have just seen how two random variables can be more or less independent. The more correlated, the less independent, and the more shared information. We also learned that we can marginalize to determine the marginal likelihood of a hidden state or to find the marginal probability distribution of two random variables. We are going to now complete our journey towards being fully Bayesian!"
      ]
    },
    {
      "cell_type": "markdown",
      "metadata": {
        "id": "AWoFkt7yt0CH"
      },
      "source": [
        "---\n",
        "# Section 5: Bayes' Rule and the Posterior"
      ]
    },
    {
      "cell_type": "markdown",
      "metadata": {
        "id": "x18uCfdet0CH"
      },
      "source": [
        "Marginalization is going to be used to combine our prior knowlege, which we call the **prior**, and our new information from a measurement, the **likelihood**. Only in this case, the information we gain about the hidden state we are interested in, where the fish are, is based on the relationship between the probabilities of the measurement and our prior. \n",
        "\n",
        "We can now calculate the full posterior distribution for the hidden state ($s$) using Bayes' Rule. As we've seen, the posterior is proportional the the prior times the likelihood. This means that the posterior probability of the hidden state ($s$) given a measurement ($m$) is proportional to the likelihood of the measurement given the state times the prior probability of that state (the marginal likelihood):\n",
        "\n",
        "$$ P(s | m) \\propto P(m | s) P(s)  $$\n",
        "\n",
        "We say proportional to instead of equal because we need to normalize to produce a full probability distribution:\n",
        "\n",
        "$$ P(s | m) = \\frac{P(m | s) P(s)}{P(m)}  $$\n",
        "\n",
        "Normalizing by this $P(m)$ means that our posterior is a complete probability distribution that sums or integrates to 1 appropriately. We now can use this new, complete probability distribution for any future inference or decisions we like! In fact, as we will see tomorrow, we can use it as a new prior! Finally, we often call this probability distribution our beliefs over the hidden states, to emphasize that it is our subjective knowlege about the hidden state.\n",
        "\n",
        "For many complicated cases, like those we might be using to model behavioral or brain inferences, the normalization term can be intractable or extremely complex to calculate. We can be careful to choose probability distributions were we can analytically calculate the posterior probability or numerical approximation is reliable. Better yet, we sometimes don't need to bother with this normalization! The normalization term, $P(m)$, is the probability of the measurement. This does not depend on state so is essentially a constant we can often ignore. We can compare the unnormalized posterior distribution values for different states because how they relate to each other is unchanged when divided by the same constant. We will see how to do this to compare evidence for different hypotheses tomorrow. (It's also used to compare the likelihood of models fit using maximum likelihood estimation, as you did in W1D5.)\n",
        "\n",
        "In this relatively simple example, we can compute the marginal probability $P(m)$ easily by using:\n",
        "$$P(m) = \\sum_s P(m | s) P(s)$$\n",
        "We can then normalize so that we deal with the full posterior distribution.\n"
      ]
    },
    {
      "cell_type": "markdown",
      "metadata": {
        "id": "VlCK1nq0t0CH"
      },
      "source": [
        "## Math Exercise 5: Calculating a posterior probability\n",
        "\n",
        "Our prior is $p(s = left) = 0.3$ and $p(s = right) = 0.7$. In the video, we learned that the chance of catching a fish given they fish on the same side as the school was 50%. Otherwise, it was 10%. We observe a person fishing on the left side. Our likelihood is: \n",
        "\n",
        "\n",
        "| Likelihood: p(m \\| s) | m = catch fish   | m = no fish  |\n",
        "| ----------------- |----------|----------|\n",
        "| s = left          | 0.5          | 0.5         |\n",
        "| s = right         | 0.1        |  0.9       |\n",
        "\n",
        "\n",
        "Calculate the posterior probability (on paper) that:\n",
        "\n",
        "1. The school is on the left if the fisherperson catches a fish: $p(s = left | m = catch fish)$ (hint: normalize by compute $p(m = catch fish)$)\n",
        "2. The school is on the right if the fisherperson does not catch a fish: $p(s = right | m = no fish)$"
      ]
    },
    {
      "cell_type": "code",
      "metadata": {
        "execution": {
          "iopub.execute_input": "2021-06-25T15:15:27.856837Z",
          "iopub.status.busy": "2021-06-25T15:15:27.855645Z",
          "iopub.status.idle": "2021-06-25T15:15:27.857534Z",
          "shell.execute_reply": "2021-06-25T15:15:27.857980Z"
        },
        "id": "fxtFJ_3bt0CI"
      },
      "source": [
        "# to_remove explanation\n",
        "\n",
        "# 1. Using Bayes rule, we know that P(s = left | m = catch fish) = P(m = catch fish | s = left)P(s = left) / P(m = catch fish)\n",
        "#.   Let's first compute P(m = catch fish):\n",
        "#.   P(m = catch fish) =  P(m = catch fish | s = left)P(s = left) +  P(m = catch fish | s = right)P(s = right)\n",
        "#                      = 0.5 * 0.3 + .1*.7\n",
        "#                      = 0.22\n",
        "#.   Now we can plug in all parts of Bayes rule:\n",
        "#    P(s = left | m = catch fish) = P(m = catch fish | s = left)P(s = left) / P(m = catch fish)\n",
        "#                                 = 0.5*0.3/0.22\n",
        "#                                 = 0.68\n",
        "\n",
        "# 2. Using Bayes rule, we know that P(s = right | m = no fish) = P(m = no fish | s = right)P(s = right) / P(m = no fish)\n",
        "#.   Let's first compute P(m = no fish):\n",
        "#.   P(m = no fish) =  P(m = no fish | s = left)P(s = left) +  P(m = no fish | s = right)P(s = right)\n",
        "#                      = 0.5 * 0.3 + .9*.7\n",
        "#                      = 0.78\n",
        "#.   Now we can plug in all parts of Bayes rule:\n",
        "#    P(s = right | m = no fish) = P(m = no fish | s = right)P(s = right) / P(m = no fish)\n",
        "#                                 = 0.9*0.7/0.78\n",
        "#                                 = 0.81"
      ],
      "execution_count": 16,
      "outputs": []
    },
    {
      "cell_type": "markdown",
      "metadata": {
        "id": "fCXUeNWqt0CI"
      },
      "source": [
        "## Coding Exercise 5: Computing Posteriors\n",
        "\n",
        "Let's implement our above math to be able to compute posteriors for different priors and likelihood.s\n",
        "\n",
        "As before, our prior is $p(s = left) = 0.3$ and $p(s = right) = 0.7$. In the video, we learned that the chance of catching a fish given they fish on the same side as the school was 50%. Otherwise, it was 10%. We observe a person fishing on the left side. Our likelihood is: \n",
        "\n",
        "\n",
        "| Likelihood: p(m \\| s) | m = catch fish   | m = no fish  |\n",
        "| ----------------- |----------|----------|\n",
        "| s = left          | 0.5          | 0.5         |\n",
        "| s = right         | 0.1        |  0.9       |\n",
        "\n",
        "\n",
        "We want our full posterior to take the same 2 by 2 form. Make sure the outputs match your math answers!\n",
        "\n"
      ]
    },
    {
      "cell_type": "code",
      "metadata": {
        "execution": {
          "iopub.execute_input": "2021-06-25T15:15:27.865944Z",
          "iopub.status.busy": "2021-06-25T15:15:27.865375Z",
          "iopub.status.idle": "2021-06-25T15:15:27.960980Z",
          "shell.execute_reply": "2021-06-25T15:15:27.961872Z"
        },
        "id": "DJfCMlwEt0CI"
      },
      "source": [
        "def compute_posterior(likelihood, prior):\n",
        "  \"\"\" Use Bayes' Rule to compute posterior from likelihood and prior\n",
        "\n",
        "  Args:\n",
        "    likelihood (ndarray): i x j array with likelihood probabilities where i is\n",
        "                    number of state options, j is number of measurement options\n",
        "    prior (ndarray): i x 1 array with prior probability of each state\n",
        "\n",
        "  Returns:\n",
        "    ndarray: i x j array with posterior probabilities where i is\n",
        "            number of state options, j is number of measurement options\n",
        "\n",
        "  \"\"\"\n",
        "\n",
        "  #################################################\n",
        "  ## TODO for students ##\n",
        "  # Fill out function and remove\n",
        "  raise NotImplementedError(\"Student exercise: implement compute_posterior\")\n",
        "  #################################################\n",
        "\n",
        "  # Compute unnormalized posterior (likelihood times prior)\n",
        "  posterior = ... # first row is s = left, second row is s = right\n",
        "\n",
        "  # Compute p(m)\n",
        "  p_m = np.sum(posterior, axis = 0)\n",
        "\n",
        "  # Normalize posterior (divide elements by p_m)\n",
        "  posterior /= ...\n",
        "\n",
        "  return posterior\n",
        "\n",
        "\n",
        "# # Uncomment and run\n",
        "# # Make prior\n",
        "# prior = np.array([0.3, 0.7]).reshape((2, 1)) # first row is s = left, second row is s = right\n",
        "\n",
        "# # Make likelihood\n",
        "# likelihood = np.array([[0.5, 0.5], [0.1, 0.9]]) # first row is s = left, second row is s = right\n",
        "\n",
        "# # Compute posterior\n",
        "# posterior = compute_posterior(likelihood, prior)\n",
        "\n",
        "# # Visualize\n",
        "# plot_prior_likelihood_posterior(prior, likelihood, posterior)"
      ],
      "execution_count": 17,
      "outputs": []
    },
    {
      "cell_type": "code",
      "metadata": {
        "execution": {
          "iopub.execute_input": "2021-06-25T15:15:27.968291Z",
          "iopub.status.busy": "2021-06-25T15:15:27.967743Z",
          "iopub.status.idle": "2021-06-25T15:15:28.290753Z",
          "shell.execute_reply": "2021-06-25T15:15:28.290286Z"
        },
        "id": "4JWlNa-Et0CI",
        "colab": {
          "base_uri": "https://localhost:8080/",
          "height": 356
        },
        "outputId": "ea4ef91e-6a21-4527-a9d4-3752f62dd383"
      },
      "source": [
        "# to_remove solution\n",
        "\n",
        "def compute_posterior(likelihood, prior):\n",
        "  \"\"\" Use Bayes' Rule to compute posterior from likelihood and prior\n",
        "\n",
        "  Args:\n",
        "    likelihood (ndarray): i x j array with likelihood probabilities where i is\n",
        "                    number of state options, j is number of measurement options\n",
        "    prior (ndarray): i x 1 array with prior probability of each state\n",
        "\n",
        "  Returns:\n",
        "    ndarray: i x j array with posterior probabilities where i is\n",
        "            number of state options, j is number of measurement options\n",
        "\n",
        "  \"\"\"\n",
        "\n",
        "  # Compute unnormalized posterior (likelihood times prior)\n",
        "  posterior = likelihood * prior # first row is s = left, second row is s = right\n",
        "\n",
        "  # Compute p(m)\n",
        "  p_m = np.sum(posterior, axis = 0)\n",
        "\n",
        "  # Normalize posterior (divide elements by p_m)\n",
        "  posterior /= p_m\n",
        "\n",
        "  return posterior\n",
        "\n",
        "\n",
        "# Make prior\n",
        "prior = np.array([0.3, 0.7]).reshape((2, 1)) # first row is s = left, second row is s = right\n",
        "\n",
        "# Make likelihood\n",
        "likelihood = np.array([[0.5, 0.5], [0.1, 0.9]]) # first row is s = left, second row is s = right\n",
        "\n",
        "# Compute posterior\n",
        "posterior = compute_posterior(likelihood, prior)\n",
        "\n",
        "# Visualize\n",
        "with plt.xkcd():\n",
        "  plot_prior_likelihood_posterior(prior, likelihood, posterior)"
      ],
      "execution_count": 18,
      "outputs": [
        {
          "output_type": "display_data",
          "data": {
            "image/png": "[encoded data removed]",
            "text/plain": [
              "<Figure size 864x288 with 3 Axes>"
            ]
          },
          "metadata": {
            "tags": [],
            "image/png": {
              "width": 876,
              "height": 339
            }
          }
        }
      ]
    },
    {
      "cell_type": "markdown",
      "metadata": {
        "id": "uffIgQbyt0CJ"
      },
      "source": [
        "## Interactive Demo 5: What affects the posterior?\n",
        "\n",
        "Now that we can understand the implementation of *Bayes rule*, let's vary the parameters of the prior and likelihood to see how changing the prior and likelihood affect the posterior. \n",
        "\n",
        "In the demo below, you can change the prior by playing with the slider for $p( s = left)$. You can also change the likelihood by changing the probability of catching a fish given that the school is on the left and the probability of catching a fish given that the school is on the right. The fisherperson you are observing is fishing on the left.\n",
        " \n",
        "\n",
        "1.   Keeping the likelihood constant, when does the prior have the strongest influence over the posterior? Meaning, when does the posterior look most like the prior no matter whether a fish was caught or not?\n",
        "2.   Keeping the likelihood constant, when does the prior exert the weakest influence?  Meaning, when does the posterior look least like the prior and depend most on whether a fish was caught or not?\n",
        "3.  Set the prior probability of the state = left to 0.6 and play with the likelihood. When does the likelihood exert the most influence over the posterior?"
      ]
    },
    {
      "cell_type": "code",
      "metadata": {
        "execution": {
          "iopub.execute_input": "2021-06-25T15:15:28.333682Z",
          "iopub.status.busy": "2021-06-25T15:15:28.333070Z",
          "iopub.status.idle": "2021-06-25T15:15:28.570340Z",
          "shell.execute_reply": "2021-06-25T15:15:28.570771Z"
        },
        "id": "dbWRpZrVt0CJ",
        "colab": {
          "base_uri": "https://localhost:8080/",
          "height": 490,
          "referenced_widgets": [
            "9f0bce3aab73476488bfe0a9f715ed34",
            "d6a6ddbaac5846bb9039633ac0fc6164",
            "fed130637f5d49838edf86fe0f20280f",
            "1536f8125ef84ba4bd13ef14679c43df",
            "f0f61b0fa9484207b54d8a57af8eaa38",
            "7ba5196c39d74028be2f09a456838350",
            "41a8b3e0a40e46b6abda2f25741db0cf",
            "d5cae892ad4c48828f46d78334005e99",
            "9a0f8da4b147405b94db2cc66513e75a",
            "ada2f826cb6a47b7a4ab2b42ee58a326",
            "af6dc27ca84a4d18848619dde83d5edb",
            "0890d73401a14573b8b78559e4a28a3c",
            "28ff9ae5e0fc4b309be739e0143b1692",
            "f074c2b487c848a4aea61f3753bd5ff3",
            "16f374ddd36a4fca9352019f3782b44a",
            "7348a388266a44bd8524ce48434866b7"
          ]
        },
        "cellView": "form",
        "outputId": "9de0e6c4-34d0-41bc-9e3a-0a6d1a51d3cc"
      },
      "source": [
        "# @markdown Execute this cell to enable the widget\n",
        "style = {'description_width': 'initial'}\n",
        "ps_widget = widgets.FloatSlider(0.3, description='p(s = left)',\n",
        "                                min=0.01, max=0.99, step=0.01)\n",
        "p_a_s1_widget = widgets.FloatSlider(0.5, description='p(fish | s = left)',\n",
        "                                    min=0.01, max=0.99, step=0.01, style=style)\n",
        "p_a_s0_widget = widgets.FloatSlider(0.1, description='p(fish | s = right)',\n",
        "                                    min=0.01, max=0.99, step=0.01, style=style)\n",
        "observed_widget = widgets.Checkbox(value=False, description='Observed fish (m)',\n",
        "                                 disabled=False, indent=False, layout={'width': 'max-content'})\n",
        "\n",
        "@widgets.interact(\n",
        "    ps=ps_widget,\n",
        "    p_a_s1=p_a_s1_widget,\n",
        "    p_a_s0=p_a_s0_widget,\n",
        "    m_right=observed_widget\n",
        ")\n",
        "def make_prior_likelihood_plot(ps,p_a_s1,p_a_s0,m_right):\n",
        "    fig = plot_prior_likelihood(ps,p_a_s1,p_a_s0,m_right)\n",
        "    plt.show(fig)\n",
        "    plt.close(fig)\n",
        "    return None"
      ],
      "execution_count": 19,
      "outputs": [
        {
          "output_type": "display_data",
          "data": {
            "application/vnd.jupyter.widget-view+json": {
              "model_id": "9f0bce3aab73476488bfe0a9f715ed34",
              "version_minor": 0,
              "version_major": 2
            },
            "text/plain": [
              "interactive(children=(FloatSlider(value=0.3, description='p(s = left)', max=0.99, min=0.01, step=0.01), FloatS…"
            ]
          },
          "metadata": {
            "tags": []
          }
        }
      ]
    },
    {
      "cell_type": "code",
      "metadata": {
        "execution": {
          "iopub.execute_input": "2021-06-25T15:15:28.577224Z",
          "iopub.status.busy": "2021-06-25T15:15:28.576677Z",
          "iopub.status.idle": "2021-06-25T15:15:28.580420Z",
          "shell.execute_reply": "2021-06-25T15:15:28.579966Z"
        },
        "id": "N_6hL36Bt0CJ"
      },
      "source": [
        "# to_remove explanation\n",
        "\n",
        "# 1).  The prior exerts a strong influence over the posterior when it is very informative: when\n",
        "#.   the probability of the school being on one side or the other. If the prior that the fish are\n",
        "#.   on the left side is very high (like 0.9), the posterior probability of the state being left is\n",
        "#.   high regardless of the measurement.\n",
        "\n",
        "# 2).  The prior does not exert a strong influence when it is not informative: when the probabilities\n",
        "#.     of the school being on the left vs right are similar (both are 0.5 for example). In this case,\n",
        "#.     the posterior is more driven  by the collected data (the measurement) and more closely resembles\n",
        "#.     the likelihood.\n",
        "\n",
        "\n",
        "#.  3) Similarly to the prior, the likelihood exerts the most influence when it is informative: when catching\n",
        "#.    a fish tells you a lot of information about which state is likely. For example, if the probability of the\n",
        "#.    fisherperson catching a fish if he is fishing on the right side and the school is on the left is 0\n",
        "#.    (p fish | s = left) = 0 and the probability of catching a fish if the school is on the right is 1, the\n",
        "#.    prior does not affect the posterior at all. The measurement tells you the hidden state completely."
      ],
      "execution_count": 20,
      "outputs": []
    },
    {
      "cell_type": "markdown",
      "metadata": {
        "id": "53V0BdJxt0CK"
      },
      "source": [
        "# Section 6: Making Bayesian fishing decisions\n",
        "\n",
        "We will explore how to consider the expected utility of an action based on our belief (the posterior distribution) about where we think the fish are. Now we have all the components of a Bayesian decision: our prior information, the likelihood given a measurement, the posterior distribution (belief) and our utility (the gains and losses). This allows us to consider the relationship between the true value of the hidden state, $s$, and what we *expect* to get if we take action, $a$, based on our belief!\n",
        "\n",
        "Let's use the following widget to think about the relationship between these probability distributions and utility function."
      ]
    },
    {
      "cell_type": "markdown",
      "metadata": {
        "id": "hMdzzH-Nt0CK"
      },
      "source": [
        "## Think! 6: What is more important, the probabilities or the utilities?\n",
        "\n",
        "We are now going to put everything we've learned together to gain some intuitions for how each of the elements that goes into a Bayesian decision comes together. Remember, the common assumption in neuroscience, psychology, economics, ecology, etc. is that we (humans and animals) are tying to maximize our expected utility.\n",
        "\n",
        "1. Can you find a situation where the expected utility is the same for both actions?\n",
        "2. What is more important for determining the expected utility: the prior or a new measurement (the likelihood)?\n",
        "3. Why is this a normative model?\n",
        "4. Can you think of ways in which this model would need to be extended to describe human or animal behavior?"
      ]
    },
    {
      "cell_type": "code",
      "metadata": {
        "execution": {
          "iopub.execute_input": "2021-06-25T15:15:28.632070Z",
          "iopub.status.busy": "2021-06-25T15:15:28.628105Z",
          "iopub.status.idle": "2021-06-25T15:15:29.020824Z",
          "shell.execute_reply": "2021-06-25T15:15:29.020317Z"
        },
        "id": "8PBXMANUt0CK",
        "colab": {
          "base_uri": "https://localhost:8080/",
          "height": 630,
          "referenced_widgets": [
            "2c7285e16190428f8b40281a24a2cfcf",
            "b408c3c809db4b85b6be333cccc5fb7d",
            "82c50db73da24b62a25c0d72aa327265",
            "8947e335898a45849243080c957a9f90",
            "5ee22ca5a15a484198f16f9fa5175cc4",
            "1730b7c35015438589ab185dc453d309",
            "1a40b76d10934f7da280ffc5fc1e1b71",
            "6693869d361b454cbf41c954ac23460f",
            "56aa28f8f9b54d3eb5876e417d4c8a7f",
            "ec198f5eb19f467b85c16929d59945c8",
            "b604e1b37d4f466095e0f515f7768ed9",
            "431de5b4114041fe8a43d9a2871522ac",
            "ac5535206c4a4086b5c0cc9e0d366a02",
            "581edb1f78f54531a0fd7754e45bde49",
            "16bc92b90e014ee59b0fcc17970f9bcc",
            "3068c91e7d1e45bf8cfd38bf50d08dd0",
            "b5ee21de380b4ceb9ee8236f9398123b",
            "72c120f419974600ab59da8f623d774d",
            "1969e357e8bf4f639c278e2cc5732e33",
            "c4558da1788f468f8bee6d18cd3bb1d4"
          ]
        },
        "cellView": "form",
        "outputId": "7d643805-3a09-4899-ef73-f290c5701281"
      },
      "source": [
        "# @markdown Execute this cell to enable the widget\n",
        "style = {'description_width': 'initial'}\n",
        "ps_widget = widgets.FloatSlider(0.3, description='p(s = left)',\n",
        "                                min=0.01, max=0.99, step=0.01)\n",
        "p_a_s1_widget = widgets.FloatSlider(0.5, description='p(fish | s = left)',\n",
        "                                    min=0.01, max=0.99, step=0.01, style=style)\n",
        "p_a_s0_widget = widgets.FloatSlider(0.1, description='p(fish | s = right)',\n",
        "                                    min=0.01, max=0.99, step=0.01, style=style)\n",
        "observed_widget = widgets.Checkbox(value=False, description='Observed fish (m)',\n",
        "                                 disabled=False, indent=False, \n",
        "                                 layout=Layout(display=\"flex\", justify_content=\"center\"))\n",
        "\n",
        "widget_ui = HBox([VBox([ps_widget, observed_widget]),\n",
        "                  VBox([p_a_s1_widget, p_a_s0_widget])])\n",
        "widget_out = interactive_output(plot_prior_likelihood_utility,\n",
        "                                {'ps': ps_widget,\n",
        "                                'p_a_s1': p_a_s1_widget,\n",
        "                                'p_a_s0': p_a_s0_widget,\n",
        "                                'measurement': observed_widget})\n",
        "display(widget_ui, widget_out)\n",
        "\n",
        "# @widgets.interact(\n",
        "#     ps=ps_widget,\n",
        "#     p_a_s1=p_a_s1_widget,\n",
        "#     p_a_s0=p_a_s0_widget,\n",
        "#     m_right=observed_widget\n",
        "# )\n",
        "# def make_prior_likelihood_utility_plot(ps, p_a_s1, p_a_s0,m_right):\n",
        "#     fig = plot_prior_likelihood_utility(ps, p_a_s1, p_a_s0,m_right)\n",
        "#     plt.show(fig)\n",
        "#     plt.close(fig)\n",
        "#     return None"
      ],
      "execution_count": 21,
      "outputs": [
        {
          "output_type": "display_data",
          "data": {
            "application/vnd.jupyter.widget-view+json": {
              "model_id": "2c7285e16190428f8b40281a24a2cfcf",
              "version_minor": 0,
              "version_major": 2
            },
            "text/plain": [
              "HBox(children=(VBox(children=(FloatSlider(value=0.3, description='p(s = left)', max=0.99, min=0.01, step=0.01)…"
            ]
          },
          "metadata": {
            "tags": []
          }
        },
        {
          "output_type": "display_data",
          "data": {
            "application/vnd.jupyter.widget-view+json": {
              "model_id": "1969e357e8bf4f639c278e2cc5732e33",
              "version_minor": 0,
              "version_major": 2
            },
            "text/plain": [
              "Output()"
            ]
          },
          "metadata": {
            "tags": []
          }
        }
      ]
    },
    {
      "cell_type": "code",
      "metadata": {
        "execution": {
          "iopub.execute_input": "2021-06-25T15:15:29.026803Z",
          "iopub.status.busy": "2021-06-25T15:15:29.025580Z",
          "iopub.status.idle": "2021-06-25T15:15:29.027429Z",
          "shell.execute_reply": "2021-06-25T15:15:29.027901Z"
        },
        "id": "oiLee-5ot0CK"
      },
      "source": [
        "# to_remove explanation\n",
        "\n",
        "#' 1. There are actually many (infinite) combinations that can produce the same\n",
        "#.    expected utility for both actions: but the posterior probabilities will always\n",
        "#     have to balance out the differences in the utility function. So, what is\n",
        "#     important is that for a given utility function, there will be some 'point\n",
        "#     of indifference'\n",
        "\n",
        "#' 2. What matters is the relative information: if the prior is close to 50/50,\n",
        "#     then the likelihood has more infuence, if the likelihood is 50/50 given a\n",
        "#     measurement (the measurement is uninformative), the prior is more important.\n",
        "#     But the critical insite from Bayes Rule and the Bayesian approach is that what\n",
        "#     matters is the relative information you gain from a measurement, and that\n",
        "#     you can use all of this information for your decision.\n",
        "\n",
        "#' 3. The model gives us a very precise way to think about how we *should* combine\n",
        "#     information and how we *should* act, GIVEN some assumption about our goals.\n",
        "#     In this case, if we assume we are trying to maximize expected utility--we can\n",
        "#     state what an animal or subject should do.\n",
        "\n",
        "#' 4. There are lots of possible extensions. Humans may not always try to maximize\n",
        "#     utility; humans and animals might not be able to calculate or represent probabiltiy\n",
        "#     distributions exactly; The utility function might be more complicated; etc."
      ],
      "execution_count": 22,
      "outputs": []
    },
    {
      "cell_type": "markdown",
      "metadata": {
        "id": "UawEaKbet0CL"
      },
      "source": [
        "---\n",
        "# Summary\n",
        "\n",
        "In this tutorial, you learned about combining prior information with new measurements to update your knowledge using Bayes Rulem, in the context of a fishing problem. \n",
        "\n",
        "Specifically, we covered:\n",
        "\n",
        "* That the likelihood is the probability of the measurement given some hidden state\n",
        "\n",
        "* That how the prior and likelihood interact to create the posterior, the probability of the hidden state given a measurement, depends on how they covary\n",
        "\n",
        "* That utility is the gain from each action and state pair, and the expected utility for an action is the sum of the utility for all state pairs, weighted by the probability of that state happening. You can then choose the action with highest expected utility.\n"
      ]
    },
    {
      "cell_type": "markdown",
      "metadata": {
        "id": "ZQ77znsrt0CL"
      },
      "source": [
        "---\n",
        "# Bonus"
      ]
    },
    {
      "cell_type": "markdown",
      "metadata": {
        "id": "ECFTMGaKt0CL"
      },
      "source": [
        "## Bonus Section 1: Correlation Formula\n",
        "To understand the way we calculate the correlation, we need to review the definition of covariance and correlation.\n",
        "\n",
        "Covariance:\n",
        "\n",
        "$$\n",
        "cov(X,Y) = \\sigma_{XY} = E[(X - \\mu_{x})(Y - \\mu_{y})] = E[X]E[Y] - \\mu_{x}\\mu_{y}\n",
        "$$\n",
        "\n",
        "Correlation:\n",
        "\n",
        "$$\n",
        "\\rho_{XY} = \\frac{cov(Y,Y)}{\\sqrt{V(X)V(Y)}} = \\frac{\\sigma_{XY}}{\\sigma_{X}\\sigma_{Y}}\n",
        "$$"
      ]
    }
  ]
}